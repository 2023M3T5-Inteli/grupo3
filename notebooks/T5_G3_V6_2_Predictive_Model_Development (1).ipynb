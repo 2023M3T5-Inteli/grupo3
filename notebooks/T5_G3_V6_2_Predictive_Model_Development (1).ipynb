{
  "cells": [
    {
      "cell_type": "code",
      "execution_count": null,
      "metadata": {
        "colab": {
          "base_uri": "https://localhost:8080/"
        },
        "id": "cEVeH-NQ1wI7",
        "outputId": "0c98d893-2364-48d9-8e56-dd69c7407e52"
      },
      "outputs": [
        {
          "output_type": "stream",
          "name": "stdout",
          "text": [
            "Downloading...\n",
            "From: https://drive.google.com/uc?id=15sP43Wh0AyHncJTMcFiaxe9kkkS0gw9F\n",
            "To: /content/BDIPMamaV11-INTELIDemograficosTt_DATA_LABELS_2023-01-24_1922.csv\n",
            "100% 1.12M/1.12M [00:00<00:00, 89.2MB/s]\n",
            "Downloading...\n",
            "From: https://drive.google.com/uc?id=1dYCHl8qTODCm5mIpIg_8jUAFxPsZeiFG\n",
            "To: /content/BDIPMamaV11-INTELIHistopatologia_DATA_LABELS_2023-01-24_1924.csv\n",
            "100% 721k/721k [00:00<00:00, 84.8MB/s]\n",
            "Downloading...\n",
            "From: https://drive.google.com/uc?id=1LJ-DKtdWWH6wCYQXu2vtCZnHGWEIJv0D\n",
            "To: /content/BDIPMamaV11-INTELIPesoEAltura_DATA_LABELS_2023-01-24_1926.csv\n",
            "100% 2.93M/2.93M [00:00<00:00, 64.1MB/s]\n",
            "Downloading...\n",
            "From: https://drive.google.com/uc?id=1EhnME2N39ICaN9v7v8PQHtPtfj0QTLk6\n",
            "To: /content/BDIPMamaV11-INTELIRegistroDeTumo_DATA_LABELS_2023-01-24_1924.csv\n",
            "100% 1.39M/1.39M [00:00<00:00, 76.9MB/s]\n"
          ]
        }
      ],
      "source": [
        "!gdown 15sP43Wh0AyHncJTMcFiaxe9kkkS0gw9F\n",
        "!gdown 1dYCHl8qTODCm5mIpIg_8jUAFxPsZeiFG\n",
        "!gdown 1LJ-DKtdWWH6wCYQXu2vtCZnHGWEIJv0D\n",
        "!gdown 1EhnME2N39ICaN9v7v8PQHtPtfj0QTLk6"
      ]
    },
    {
      "cell_type": "code",
      "execution_count": null,
      "metadata": {
        "id": "nIbtr4xj201y"
      },
      "outputs": [],
      "source": [
        "import pandas as pd\n",
        "import numpy as np\n",
        "import plotly.express as px\n",
        "import matplotlib.pyplot as plt\n",
        "import seaborn as sns "
      ]
    },
    {
      "cell_type": "markdown",
      "metadata": {
        "id": "WPCJ2vaP2zET"
      },
      "source": [
        "# 1 Baixando os dados"
      ]
    },
    {
      "cell_type": "code",
      "execution_count": null,
      "metadata": {
        "id": "q-38BqQn3Jsl"
      },
      "outputs": [],
      "source": [
        "dfd = pd.read_csv('/content/BDIPMamaV11-INTELIDemograficosTt_DATA_LABELS_2023-01-24_1922.csv')\n",
        "dfh = pd.read_csv('/content/BDIPMamaV11-INTELIHistopatologia_DATA_LABELS_2023-01-24_1924.csv')\n",
        "dfpa = pd.read_csv('/content/BDIPMamaV11-INTELIPesoEAltura_DATA_LABELS_2023-01-24_1926.csv')\n",
        "dfrt = pd.read_csv('/content/BDIPMamaV11-INTELIRegistroDeTumo_DATA_LABELS_2023-01-24_1924.csv')"
      ]
    },
    {
      "cell_type": "markdown",
      "metadata": {
        "id": "0mR7sc693ed1"
      },
      "source": [
        "# 2 Limpeza e tratamento dos dados"
      ]
    },
    {
      "cell_type": "markdown",
      "metadata": {
        "id": "1rl9PdAs3nnJ"
      },
      "source": [
        "## 2.1 DF Registro Tumoral(dfrt)"
      ]
    },
    {
      "cell_type": "markdown",
      "metadata": {
        "id": "LlxjrBmi0UUw"
      },
      "source": [
        "###2.1.1 Renomeando as colunas"
      ]
    },
    {
      "cell_type": "code",
      "execution_count": null,
      "metadata": {
        "colab": {
          "base_uri": "https://localhost:8080/"
        },
        "id": "XtLMApVqU50Y",
        "outputId": "ae60efc6-39b6-49e6-fc89-5a0f4a7b5a87"
      },
      "outputs": [
        {
          "output_type": "execute_result",
          "data": {
            "text/plain": [
              "Index(['record_id', 'repeat_instrument', 'repeat_instance',\n",
              "       'data_da_primeira_consulta_institucional_dt_pci', 'data_do_diagnostico',\n",
              "       'codigo_da_topografia_cid_o', 'codigo_da_morfologia_cid_o',\n",
              "       'estadio_clinico', 'grupo_estadio_clinico',\n",
              "       'classificacao_tnm_clinico_t', 'classificacao_tnm_clinico_n',\n",
              "       'classificacao_tnm_clinico_m', 'metastase_diagnostico_cid_o_1',\n",
              "       'metastase_diagnostico_cid_o_2', 'metastase_diagnostico_cid_o_3',\n",
              "       'metastase_diagnostico_cid_o_4', 'data_do_tratamento',\n",
              "       'combinacao_dos_tratamentos_realizados_no_hospital',\n",
              "       'Ano do diagnóstico', 'lateralidade_do_tumor', 'data_recidiva',\n",
              "       'tempo_desde_o_diagnostico_ate_primeira_recidiva_',\n",
              "       'local_recidiva_a _distancia_metastase_1_cid_o_topografia',\n",
              "       'local_recidiva_a _distancia_metastase_2_cid_o_topografia',\n",
              "       'local_recidiva_a _distancia_metastase_3_cid_o_topografia',\n",
              "       'local_recidiva_a _distancia_metastase_4_cid_o_topografia',\n",
              "       'descricao_da_morfologia_acordo_com_o_cid_o_cid_o_3_edicao',\n",
              "       'descricao_da_topografia_', 'classificacao_tnm_patologico_n',\n",
              "       'classificacao_tnm_patologico_t', 'com_recidiva_distancia',\n",
              "       'com_recidiva_regional', 'com_recidiva_local'],\n",
              "      dtype='object')"
            ]
          },
          "metadata": {},
          "execution_count": 4
        }
      ],
      "source": [
        "# renomeando colunas \n",
        "dfrt = dfrt.rename(columns={   \n",
        "                            'Record ID': 'record_id',\n",
        "                            'Repeat Instrument': 'repeat_instrument',\n",
        "                            'Repeat Instance': 'repeat_instance',\n",
        "                            'Data da primeira consulta institucional [dt_pci]': 'data_da_primeira_consulta_institucional_dt_pci',\n",
        "                            'Data do diagnóstico': 'data_do_diagnostico',\n",
        "                            'Código da Topografia (CID-O)': 'codigo_da_topografia_cid_o',\n",
        "                            'Código da Morfologia de acordo com o CID-O': 'codigo_da_morfologia_cid_o',\n",
        "                            'Estadio Clínico  ': 'estadio_clinico',\n",
        "                            'Grupo de Estadio Clínico': 'grupo_estadio_clinico',\n",
        "                            'Classificação TNM Clínico - T': 'classificacao_tnm_clinico_t',\n",
        "                            'Classificação TNM Clínico - N': 'classificacao_tnm_clinico_n',\n",
        "                            'Classificação TNM Clínico - M': 'classificacao_tnm_clinico_m',\n",
        "                            'Metastase ao DIAGNOSTICO - CID-O #1': 'metastase_diagnostico_cid_o_1',\n",
        "                            'Metastase ao DIAGNOSTICO - CID-O #2': 'metastase_diagnostico_cid_o_2',\n",
        "                            'Metastase ao DIAGNOSTICO - CID-O #3': 'metastase_diagnostico_cid_o_3',\n",
        "                            'Metastase ao DIAGNOSTICO - CID-O #4': 'metastase_diagnostico_cid_o_4',\n",
        "                            'Data do tratamento': 'data_do_tratamento',\n",
        "                            'Combinação dos Tratamentos Realizados no Hospital': 'combinacao_dos_tratamentos_realizados_no_hospital',\n",
        "                            'Ano do diagnostico': 'ano_do_diagnostico',\n",
        "                            'Lateralidade do tumor': 'lateralidade_do_tumor',\n",
        "                            'Data de Recidiva': 'data_recidiva',\n",
        "                            'Tempo desde o diagnóstico até a primeira recidiva  ': 'tempo_desde_o_diagnostico_ate_primeira_recidiva_',\n",
        "                            'Local de Recidiva a  distancia/ metastase #1 - CID-O - Topografia': 'local_recidiva_a _distancia_metastase_1_cid_o_topografia',\n",
        "                            'Local de Recidiva a  distancia/ metastase #2 - CID-O - Topografia': 'local_recidiva_a _distancia_metastase_2_cid_o_topografia',\n",
        "                            'Local de Recidiva a  distancia/ metastase #3 - CID-O - Topografia': 'local_recidiva_a _distancia_metastase_3_cid_o_topografia',\n",
        "                            'Local de Recidiva a  distancia/ metastase #4 - CID-O - Topografia': 'local_recidiva_a _distancia_metastase_4_cid_o_topografia',\n",
        "                            'Descrição da Morfologia de acordo com o CID-O  (CID-O - 3ª edição)': 'descricao_da_morfologia_acordo_com_o_cid_o_cid_o_3_edicao',\n",
        "                            'Descrição da Topografia ': 'descricao_da_topografia_',\n",
        "                            'Classificação TNM Patológico - N': 'classificacao_tnm_patologico_n',\n",
        "                            'Classificação TNM Patológico - T': 'classificacao_tnm_patologico_t',\n",
        "                            'Com recidiva à distância': 'com_recidiva_distancia',\n",
        "                            'Com recidiva regional': 'com_recidiva_regional',\n",
        "                            'Com recidiva local': 'com_recidiva_local'\n",
        "                            })\n",
        "\n",
        "\n",
        "dfrt.columns "
      ]
    },
    {
      "cell_type": "markdown",
      "metadata": {
        "id": "g5nP9Rui0d2s"
      },
      "source": [
        "###2.1.2 Retirando linhas nulas"
      ]
    },
    {
      "cell_type": "code",
      "execution_count": null,
      "metadata": {
        "colab": {
          "base_uri": "https://localhost:8080/"
        },
        "id": "-tsL5lluMtEX",
        "outputId": "97c45134-5e69-4b6d-f16c-2c86c3cc8185"
      },
      "outputs": [
        {
          "output_type": "execute_result",
          "data": {
            "text/plain": [
              "record_id                                                     0.000000\n",
              "repeat_instrument                                            47.737177\n",
              "repeat_instance                                              47.737177\n",
              "data_da_primeira_consulta_institucional_dt_pci               47.737177\n",
              "data_do_diagnostico                                          47.737177\n",
              "codigo_da_topografia_cid_o                                   47.737177\n",
              "codigo_da_morfologia_cid_o                                   47.737177\n",
              "estadio_clinico                                              47.737177\n",
              "grupo_estadio_clinico                                        50.664879\n",
              "classificacao_tnm_clinico_t                                  47.737177\n",
              "classificacao_tnm_clinico_n                                  47.737177\n",
              "classificacao_tnm_clinico_m                                  47.737177\n",
              "metastase_diagnostico_cid_o_1                                92.032629\n",
              "metastase_diagnostico_cid_o_2                                95.653146\n",
              "metastase_diagnostico_cid_o_3                                97.977428\n",
              "metastase_diagnostico_cid_o_4                                99.228964\n",
              "data_do_tratamento                                           48.362946\n",
              "combinacao_dos_tratamentos_realizados_no_hospital            47.737177\n",
              "Ano do diagnóstico                                           47.737177\n",
              "lateralidade_do_tumor                                        47.737177\n",
              "data_recidiva                                                85.484412\n",
              "tempo_desde_o_diagnostico_ate_primeira_recidiva_             85.484412\n",
              "local_recidiva_a _distancia_metastase_1_cid_o_topografia     88.467985\n",
              "local_recidiva_a _distancia_metastase_2_cid_o_topografia     93.809364\n",
              "local_recidiva_a _distancia_metastase_3_cid_o_topografia     97.049950\n",
              "local_recidiva_a _distancia_metastase_4_cid_o_topografia     98.748464\n",
              "descricao_da_morfologia_acordo_com_o_cid_o_cid_o_3_edicao    47.737177\n",
              "descricao_da_topografia_                                     47.737177\n",
              "classificacao_tnm_patologico_n                               97.854509\n",
              "classificacao_tnm_patologico_t                               97.843334\n",
              "com_recidiva_distancia                                       47.737177\n",
              "com_recidiva_regional                                        47.737177\n",
              "com_recidiva_local                                           47.737177\n",
              "dtype: float64"
            ]
          },
          "metadata": {},
          "execution_count": 5
        }
      ],
      "source": [
        "(dfrt.isnull().mean())*100"
      ]
    },
    {
      "cell_type": "markdown",
      "metadata": {
        "id": "ArsKzsmjKdFy"
      },
      "source": [
        "Limpeza: Bem, primeiramente é importante entendermos o motivo de fazer a limpeza dos dados previamente. Nesse sentido, fazer a limpeza inicial dos dados é importante antes de começar a explorá-los e tratá-los porque os dados brutos geralmente contêm valores faltantes, valores inválidos, duplicatas, inconsistências, entre outros problemas que podem afetar negativamente as análises subsequentes. Se esses problemas não forem tratados antes de prosseguir com a análise, eles podem resultar em conclusões imprecisas ou enganosas."
      ]
    },
    {
      "cell_type": "code",
      "execution_count": null,
      "metadata": {
        "colab": {
          "base_uri": "https://localhost:8080/"
        },
        "id": "yiahpSm8yQfz",
        "outputId": "36e1ae3b-1d51-4b9f-b0a4-13d71c9c6e89"
      },
      "outputs": [
        {
          "output_type": "execute_result",
          "data": {
            "text/plain": [
              "(8949, 33)"
            ]
          },
          "metadata": {},
          "execution_count": 6
        }
      ],
      "source": [
        "dfrt.shape"
      ]
    },
    {
      "cell_type": "code",
      "execution_count": null,
      "metadata": {
        "colab": {
          "base_uri": "https://localhost:8080/",
          "height": 661
        },
        "id": "7UUyaRaN-JIP",
        "outputId": "a9c6cd13-5f0a-45cb-8896-7cdb76fb93fc"
      },
      "outputs": [
        {
          "output_type": "execute_result",
          "data": {
            "text/plain": [
              "      record_id    repeat_instrument  repeat_instance  \\\n",
              "1           302  Registro De Tumores              1.0   \n",
              "3           710  Registro De Tumores              1.0   \n",
              "5           752  Registro De Tumores              1.0   \n",
              "7          1367  Registro De Tumores              1.0   \n",
              "9          1589  Registro De Tumores              1.0   \n",
              "...         ...                  ...              ...   \n",
              "8941      82124  Registro De Tumores              1.0   \n",
              "8942      82124  Registro De Tumores              2.0   \n",
              "8944      82131  Registro De Tumores              1.0   \n",
              "8946      82205  Registro De Tumores              1.0   \n",
              "8948      82240  Registro De Tumores              1.0   \n",
              "\n",
              "     data_da_primeira_consulta_institucional_dt_pci data_do_diagnostico  \\\n",
              "1                                        2008-03-22          2008-03-23   \n",
              "3                                        2006-11-11          2007-11-11   \n",
              "5                                        2007-09-25          2007-12-18   \n",
              "7                                        2008-02-03          2008-02-06   \n",
              "9                                        2008-05-15          2008-05-21   \n",
              "...                                             ...                 ...   \n",
              "8941                                     2020-06-20          2020-09-05   \n",
              "8942                                     2020-06-20          2020-09-05   \n",
              "8944                                     2020-11-01          2019-12-23   \n",
              "8946                                     2021-02-28          2020-11-07   \n",
              "8948                                     2020-12-08          2020-03-14   \n",
              "\n",
              "     codigo_da_topografia_cid_o  codigo_da_morfologia_cid_o estadio_clinico  \\\n",
              "1                          C504                     85003.0             IIA   \n",
              "3                          C508                     85003.0            IIIA   \n",
              "5                          C509                     84803.0             IIA   \n",
              "7                          C505                     85003.0             IIA   \n",
              "9                          C508                     85003.0             IIB   \n",
              "...                         ...                         ...             ...   \n",
              "8941                       C509                     85203.0              IV   \n",
              "8942                       C509                     85002.0               0   \n",
              "8944                       C502                     85203.0            IIIA   \n",
              "8946                       C504                     85003.0              IV   \n",
              "8948                       C505                     85003.0            IIIC   \n",
              "\n",
              "     grupo_estadio_clinico classificacao_tnm_clinico_t  ...  \\\n",
              "1                       II                           2  ...   \n",
              "3                      III                           3  ...   \n",
              "5                       II                           2  ...   \n",
              "7                       II                           1  ...   \n",
              "9                       II                           2  ...   \n",
              "...                    ...                         ...  ...   \n",
              "8941                   NaN                          4D  ...   \n",
              "8942                   NaN                        CDIS  ...   \n",
              "8944                   NaN                           3  ...   \n",
              "8946                   NaN                          4D  ...   \n",
              "8948                   NaN                           2  ...   \n",
              "\n",
              "     local_recidiva_a _distancia_metastase_2_cid_o_topografia  \\\n",
              "1                                                   NaN         \n",
              "3                                                   NaN         \n",
              "5                                                   NaN         \n",
              "7                                            C50 - Mama         \n",
              "9                                                   NaN         \n",
              "...                                                 ...         \n",
              "8941                                                NaN         \n",
              "8942                                                NaN         \n",
              "8944                                                NaN         \n",
              "8946                                                NaN         \n",
              "8948                                                NaN         \n",
              "\n",
              "     local_recidiva_a _distancia_metastase_3_cid_o_topografia  \\\n",
              "1                                                   NaN         \n",
              "3                                                   NaN         \n",
              "5                                                   NaN         \n",
              "7                                                   NaN         \n",
              "9                                                   NaN         \n",
              "...                                                 ...         \n",
              "8941                                                NaN         \n",
              "8942                                                NaN         \n",
              "8944                                                NaN         \n",
              "8946                                                NaN         \n",
              "8948                                                NaN         \n",
              "\n",
              "     local_recidiva_a _distancia_metastase_4_cid_o_topografia  \\\n",
              "1                                                   NaN         \n",
              "3                                                   NaN         \n",
              "5                                                   NaN         \n",
              "7                                                   NaN         \n",
              "9                                                   NaN         \n",
              "...                                                 ...         \n",
              "8941                                                NaN         \n",
              "8942                                                NaN         \n",
              "8944                                                NaN         \n",
              "8946                                                NaN         \n",
              "8948                                                NaN         \n",
              "\n",
              "     descricao_da_morfologia_acordo_com_o_cid_o_cid_o_3_edicao  \\\n",
              "1                      CARCINOMA DUCTAL INFILTRANTE SOE          \n",
              "3                      CARCINOMA DUCTAL INFILTRANTE SOE          \n",
              "5                               ADENOCARCINOMA MUCINOSO          \n",
              "7                      CARCINOMA DUCTAL INFILTRANTE SOE          \n",
              "9                      CARCINOMA DUCTAL INFILTRANTE SOE          \n",
              "...                                                 ...          \n",
              "8941                              CARCINOMA LOBULAR SOE          \n",
              "8942          CARCINOMA INTRADUCTAL NAO INFILTRANTE SOE          \n",
              "8944                              CARCINOMA LOBULAR SOE          \n",
              "8946                   CARCINOMA DUCTAL INFILTRANTE SOE          \n",
              "8948                   CARCINOMA DUCTAL INFILTRANTE SOE          \n",
              "\n",
              "                  descricao_da_topografia_   classificacao_tnm_patologico_n  \\\n",
              "1       MAMA QUADRANTE SUPERIOR EXTERNO DA                              NaN   \n",
              "3                 MAMA LESAO SOBREPOSTA DA                              NaN   \n",
              "5     MAMA SOE (EXCLUI PELE DA MAMA C44.5)  X - nao foi possivel determinar   \n",
              "7       MAMA QUADRANTE INFERIOR EXTERNO DA                                1   \n",
              "9                 MAMA LESAO SOBREPOSTA DA                              NaN   \n",
              "...                                    ...                              ...   \n",
              "8941  MAMA SOE (EXCLUI PELE DA MAMA C44.5)                              NaN   \n",
              "8942  MAMA SOE (EXCLUI PELE DA MAMA C44.5)                              NaN   \n",
              "8944    MAMA QUADRANTE SUPERIOR INTERNO DA                              NaN   \n",
              "8946    MAMA QUADRANTE SUPERIOR EXTERNO DA                              NaN   \n",
              "8948    MAMA QUADRANTE INFERIOR EXTERNO DA                              NaN   \n",
              "\n",
              "     classificacao_tnm_patologico_t com_recidiva_distancia  \\\n",
              "1                               NaN                    Não   \n",
              "3                               NaN                    Não   \n",
              "5                                 2                    Não   \n",
              "7                                1A                    Não   \n",
              "9                               NaN                    Não   \n",
              "...                             ...                    ...   \n",
              "8941                            NaN                    Não   \n",
              "8942                            NaN                    Não   \n",
              "8944                            NaN                    Não   \n",
              "8946                            NaN                    Não   \n",
              "8948                            NaN                    Não   \n",
              "\n",
              "      com_recidiva_regional com_recidiva_local  \n",
              "1                       Não                Não  \n",
              "3                       Sim                Sim  \n",
              "5                       Não                Não  \n",
              "7                       Sim                Não  \n",
              "9                       Não                Não  \n",
              "...                     ...                ...  \n",
              "8941                    Não                Não  \n",
              "8942                    Não                Não  \n",
              "8944                    Não                Não  \n",
              "8946                    Não                Sim  \n",
              "8948                    Não                Não  \n",
              "\n",
              "[4677 rows x 33 columns]"
            ],
            "text/html": [
              "\n",
              "  <div id=\"df-7b44ab9d-4638-4b89-914e-cb83459a8326\">\n",
              "    <div class=\"colab-df-container\">\n",
              "      <div>\n",
              "<style scoped>\n",
              "    .dataframe tbody tr th:only-of-type {\n",
              "        vertical-align: middle;\n",
              "    }\n",
              "\n",
              "    .dataframe tbody tr th {\n",
              "        vertical-align: top;\n",
              "    }\n",
              "\n",
              "    .dataframe thead th {\n",
              "        text-align: right;\n",
              "    }\n",
              "</style>\n",
              "<table border=\"1\" class=\"dataframe\">\n",
              "  <thead>\n",
              "    <tr style=\"text-align: right;\">\n",
              "      <th></th>\n",
              "      <th>record_id</th>\n",
              "      <th>repeat_instrument</th>\n",
              "      <th>repeat_instance</th>\n",
              "      <th>data_da_primeira_consulta_institucional_dt_pci</th>\n",
              "      <th>data_do_diagnostico</th>\n",
              "      <th>codigo_da_topografia_cid_o</th>\n",
              "      <th>codigo_da_morfologia_cid_o</th>\n",
              "      <th>estadio_clinico</th>\n",
              "      <th>grupo_estadio_clinico</th>\n",
              "      <th>classificacao_tnm_clinico_t</th>\n",
              "      <th>...</th>\n",
              "      <th>local_recidiva_a _distancia_metastase_2_cid_o_topografia</th>\n",
              "      <th>local_recidiva_a _distancia_metastase_3_cid_o_topografia</th>\n",
              "      <th>local_recidiva_a _distancia_metastase_4_cid_o_topografia</th>\n",
              "      <th>descricao_da_morfologia_acordo_com_o_cid_o_cid_o_3_edicao</th>\n",
              "      <th>descricao_da_topografia_</th>\n",
              "      <th>classificacao_tnm_patologico_n</th>\n",
              "      <th>classificacao_tnm_patologico_t</th>\n",
              "      <th>com_recidiva_distancia</th>\n",
              "      <th>com_recidiva_regional</th>\n",
              "      <th>com_recidiva_local</th>\n",
              "    </tr>\n",
              "  </thead>\n",
              "  <tbody>\n",
              "    <tr>\n",
              "      <th>1</th>\n",
              "      <td>302</td>\n",
              "      <td>Registro De Tumores</td>\n",
              "      <td>1.0</td>\n",
              "      <td>2008-03-22</td>\n",
              "      <td>2008-03-23</td>\n",
              "      <td>C504</td>\n",
              "      <td>85003.0</td>\n",
              "      <td>IIA</td>\n",
              "      <td>II</td>\n",
              "      <td>2</td>\n",
              "      <td>...</td>\n",
              "      <td>NaN</td>\n",
              "      <td>NaN</td>\n",
              "      <td>NaN</td>\n",
              "      <td>CARCINOMA DUCTAL INFILTRANTE SOE</td>\n",
              "      <td>MAMA QUADRANTE SUPERIOR EXTERNO DA</td>\n",
              "      <td>NaN</td>\n",
              "      <td>NaN</td>\n",
              "      <td>Não</td>\n",
              "      <td>Não</td>\n",
              "      <td>Não</td>\n",
              "    </tr>\n",
              "    <tr>\n",
              "      <th>3</th>\n",
              "      <td>710</td>\n",
              "      <td>Registro De Tumores</td>\n",
              "      <td>1.0</td>\n",
              "      <td>2006-11-11</td>\n",
              "      <td>2007-11-11</td>\n",
              "      <td>C508</td>\n",
              "      <td>85003.0</td>\n",
              "      <td>IIIA</td>\n",
              "      <td>III</td>\n",
              "      <td>3</td>\n",
              "      <td>...</td>\n",
              "      <td>NaN</td>\n",
              "      <td>NaN</td>\n",
              "      <td>NaN</td>\n",
              "      <td>CARCINOMA DUCTAL INFILTRANTE SOE</td>\n",
              "      <td>MAMA LESAO SOBREPOSTA DA</td>\n",
              "      <td>NaN</td>\n",
              "      <td>NaN</td>\n",
              "      <td>Não</td>\n",
              "      <td>Sim</td>\n",
              "      <td>Sim</td>\n",
              "    </tr>\n",
              "    <tr>\n",
              "      <th>5</th>\n",
              "      <td>752</td>\n",
              "      <td>Registro De Tumores</td>\n",
              "      <td>1.0</td>\n",
              "      <td>2007-09-25</td>\n",
              "      <td>2007-12-18</td>\n",
              "      <td>C509</td>\n",
              "      <td>84803.0</td>\n",
              "      <td>IIA</td>\n",
              "      <td>II</td>\n",
              "      <td>2</td>\n",
              "      <td>...</td>\n",
              "      <td>NaN</td>\n",
              "      <td>NaN</td>\n",
              "      <td>NaN</td>\n",
              "      <td>ADENOCARCINOMA MUCINOSO</td>\n",
              "      <td>MAMA SOE (EXCLUI PELE DA MAMA C44.5)</td>\n",
              "      <td>X - nao foi possivel determinar</td>\n",
              "      <td>2</td>\n",
              "      <td>Não</td>\n",
              "      <td>Não</td>\n",
              "      <td>Não</td>\n",
              "    </tr>\n",
              "    <tr>\n",
              "      <th>7</th>\n",
              "      <td>1367</td>\n",
              "      <td>Registro De Tumores</td>\n",
              "      <td>1.0</td>\n",
              "      <td>2008-02-03</td>\n",
              "      <td>2008-02-06</td>\n",
              "      <td>C505</td>\n",
              "      <td>85003.0</td>\n",
              "      <td>IIA</td>\n",
              "      <td>II</td>\n",
              "      <td>1</td>\n",
              "      <td>...</td>\n",
              "      <td>C50 - Mama</td>\n",
              "      <td>NaN</td>\n",
              "      <td>NaN</td>\n",
              "      <td>CARCINOMA DUCTAL INFILTRANTE SOE</td>\n",
              "      <td>MAMA QUADRANTE INFERIOR EXTERNO DA</td>\n",
              "      <td>1</td>\n",
              "      <td>1A</td>\n",
              "      <td>Não</td>\n",
              "      <td>Sim</td>\n",
              "      <td>Não</td>\n",
              "    </tr>\n",
              "    <tr>\n",
              "      <th>9</th>\n",
              "      <td>1589</td>\n",
              "      <td>Registro De Tumores</td>\n",
              "      <td>1.0</td>\n",
              "      <td>2008-05-15</td>\n",
              "      <td>2008-05-21</td>\n",
              "      <td>C508</td>\n",
              "      <td>85003.0</td>\n",
              "      <td>IIB</td>\n",
              "      <td>II</td>\n",
              "      <td>2</td>\n",
              "      <td>...</td>\n",
              "      <td>NaN</td>\n",
              "      <td>NaN</td>\n",
              "      <td>NaN</td>\n",
              "      <td>CARCINOMA DUCTAL INFILTRANTE SOE</td>\n",
              "      <td>MAMA LESAO SOBREPOSTA DA</td>\n",
              "      <td>NaN</td>\n",
              "      <td>NaN</td>\n",
              "      <td>Não</td>\n",
              "      <td>Não</td>\n",
              "      <td>Não</td>\n",
              "    </tr>\n",
              "    <tr>\n",
              "      <th>...</th>\n",
              "      <td>...</td>\n",
              "      <td>...</td>\n",
              "      <td>...</td>\n",
              "      <td>...</td>\n",
              "      <td>...</td>\n",
              "      <td>...</td>\n",
              "      <td>...</td>\n",
              "      <td>...</td>\n",
              "      <td>...</td>\n",
              "      <td>...</td>\n",
              "      <td>...</td>\n",
              "      <td>...</td>\n",
              "      <td>...</td>\n",
              "      <td>...</td>\n",
              "      <td>...</td>\n",
              "      <td>...</td>\n",
              "      <td>...</td>\n",
              "      <td>...</td>\n",
              "      <td>...</td>\n",
              "      <td>...</td>\n",
              "      <td>...</td>\n",
              "    </tr>\n",
              "    <tr>\n",
              "      <th>8941</th>\n",
              "      <td>82124</td>\n",
              "      <td>Registro De Tumores</td>\n",
              "      <td>1.0</td>\n",
              "      <td>2020-06-20</td>\n",
              "      <td>2020-09-05</td>\n",
              "      <td>C509</td>\n",
              "      <td>85203.0</td>\n",
              "      <td>IV</td>\n",
              "      <td>NaN</td>\n",
              "      <td>4D</td>\n",
              "      <td>...</td>\n",
              "      <td>NaN</td>\n",
              "      <td>NaN</td>\n",
              "      <td>NaN</td>\n",
              "      <td>CARCINOMA LOBULAR SOE</td>\n",
              "      <td>MAMA SOE (EXCLUI PELE DA MAMA C44.5)</td>\n",
              "      <td>NaN</td>\n",
              "      <td>NaN</td>\n",
              "      <td>Não</td>\n",
              "      <td>Não</td>\n",
              "      <td>Não</td>\n",
              "    </tr>\n",
              "    <tr>\n",
              "      <th>8942</th>\n",
              "      <td>82124</td>\n",
              "      <td>Registro De Tumores</td>\n",
              "      <td>2.0</td>\n",
              "      <td>2020-06-20</td>\n",
              "      <td>2020-09-05</td>\n",
              "      <td>C509</td>\n",
              "      <td>85002.0</td>\n",
              "      <td>0</td>\n",
              "      <td>NaN</td>\n",
              "      <td>CDIS</td>\n",
              "      <td>...</td>\n",
              "      <td>NaN</td>\n",
              "      <td>NaN</td>\n",
              "      <td>NaN</td>\n",
              "      <td>CARCINOMA INTRADUCTAL NAO INFILTRANTE SOE</td>\n",
              "      <td>MAMA SOE (EXCLUI PELE DA MAMA C44.5)</td>\n",
              "      <td>NaN</td>\n",
              "      <td>NaN</td>\n",
              "      <td>Não</td>\n",
              "      <td>Não</td>\n",
              "      <td>Não</td>\n",
              "    </tr>\n",
              "    <tr>\n",
              "      <th>8944</th>\n",
              "      <td>82131</td>\n",
              "      <td>Registro De Tumores</td>\n",
              "      <td>1.0</td>\n",
              "      <td>2020-11-01</td>\n",
              "      <td>2019-12-23</td>\n",
              "      <td>C502</td>\n",
              "      <td>85203.0</td>\n",
              "      <td>IIIA</td>\n",
              "      <td>NaN</td>\n",
              "      <td>3</td>\n",
              "      <td>...</td>\n",
              "      <td>NaN</td>\n",
              "      <td>NaN</td>\n",
              "      <td>NaN</td>\n",
              "      <td>CARCINOMA LOBULAR SOE</td>\n",
              "      <td>MAMA QUADRANTE SUPERIOR INTERNO DA</td>\n",
              "      <td>NaN</td>\n",
              "      <td>NaN</td>\n",
              "      <td>Não</td>\n",
              "      <td>Não</td>\n",
              "      <td>Não</td>\n",
              "    </tr>\n",
              "    <tr>\n",
              "      <th>8946</th>\n",
              "      <td>82205</td>\n",
              "      <td>Registro De Tumores</td>\n",
              "      <td>1.0</td>\n",
              "      <td>2021-02-28</td>\n",
              "      <td>2020-11-07</td>\n",
              "      <td>C504</td>\n",
              "      <td>85003.0</td>\n",
              "      <td>IV</td>\n",
              "      <td>NaN</td>\n",
              "      <td>4D</td>\n",
              "      <td>...</td>\n",
              "      <td>NaN</td>\n",
              "      <td>NaN</td>\n",
              "      <td>NaN</td>\n",
              "      <td>CARCINOMA DUCTAL INFILTRANTE SOE</td>\n",
              "      <td>MAMA QUADRANTE SUPERIOR EXTERNO DA</td>\n",
              "      <td>NaN</td>\n",
              "      <td>NaN</td>\n",
              "      <td>Não</td>\n",
              "      <td>Não</td>\n",
              "      <td>Sim</td>\n",
              "    </tr>\n",
              "    <tr>\n",
              "      <th>8948</th>\n",
              "      <td>82240</td>\n",
              "      <td>Registro De Tumores</td>\n",
              "      <td>1.0</td>\n",
              "      <td>2020-12-08</td>\n",
              "      <td>2020-03-14</td>\n",
              "      <td>C505</td>\n",
              "      <td>85003.0</td>\n",
              "      <td>IIIC</td>\n",
              "      <td>NaN</td>\n",
              "      <td>2</td>\n",
              "      <td>...</td>\n",
              "      <td>NaN</td>\n",
              "      <td>NaN</td>\n",
              "      <td>NaN</td>\n",
              "      <td>CARCINOMA DUCTAL INFILTRANTE SOE</td>\n",
              "      <td>MAMA QUADRANTE INFERIOR EXTERNO DA</td>\n",
              "      <td>NaN</td>\n",
              "      <td>NaN</td>\n",
              "      <td>Não</td>\n",
              "      <td>Não</td>\n",
              "      <td>Não</td>\n",
              "    </tr>\n",
              "  </tbody>\n",
              "</table>\n",
              "<p>4677 rows × 33 columns</p>\n",
              "</div>\n",
              "      <button class=\"colab-df-convert\" onclick=\"convertToInteractive('df-7b44ab9d-4638-4b89-914e-cb83459a8326')\"\n",
              "              title=\"Convert this dataframe to an interactive table.\"\n",
              "              style=\"display:none;\">\n",
              "        \n",
              "  <svg xmlns=\"http://www.w3.org/2000/svg\" height=\"24px\"viewBox=\"0 0 24 24\"\n",
              "       width=\"24px\">\n",
              "    <path d=\"M0 0h24v24H0V0z\" fill=\"none\"/>\n",
              "    <path d=\"M18.56 5.44l.94 2.06.94-2.06 2.06-.94-2.06-.94-.94-2.06-.94 2.06-2.06.94zm-11 1L8.5 8.5l.94-2.06 2.06-.94-2.06-.94L8.5 2.5l-.94 2.06-2.06.94zm10 10l.94 2.06.94-2.06 2.06-.94-2.06-.94-.94-2.06-.94 2.06-2.06.94z\"/><path d=\"M17.41 7.96l-1.37-1.37c-.4-.4-.92-.59-1.43-.59-.52 0-1.04.2-1.43.59L10.3 9.45l-7.72 7.72c-.78.78-.78 2.05 0 2.83L4 21.41c.39.39.9.59 1.41.59.51 0 1.02-.2 1.41-.59l7.78-7.78 2.81-2.81c.8-.78.8-2.07 0-2.86zM5.41 20L4 18.59l7.72-7.72 1.47 1.35L5.41 20z\"/>\n",
              "  </svg>\n",
              "      </button>\n",
              "      \n",
              "  <style>\n",
              "    .colab-df-container {\n",
              "      display:flex;\n",
              "      flex-wrap:wrap;\n",
              "      gap: 12px;\n",
              "    }\n",
              "\n",
              "    .colab-df-convert {\n",
              "      background-color: #E8F0FE;\n",
              "      border: none;\n",
              "      border-radius: 50%;\n",
              "      cursor: pointer;\n",
              "      display: none;\n",
              "      fill: #1967D2;\n",
              "      height: 32px;\n",
              "      padding: 0 0 0 0;\n",
              "      width: 32px;\n",
              "    }\n",
              "\n",
              "    .colab-df-convert:hover {\n",
              "      background-color: #E2EBFA;\n",
              "      box-shadow: 0px 1px 2px rgba(60, 64, 67, 0.3), 0px 1px 3px 1px rgba(60, 64, 67, 0.15);\n",
              "      fill: #174EA6;\n",
              "    }\n",
              "\n",
              "    [theme=dark] .colab-df-convert {\n",
              "      background-color: #3B4455;\n",
              "      fill: #D2E3FC;\n",
              "    }\n",
              "\n",
              "    [theme=dark] .colab-df-convert:hover {\n",
              "      background-color: #434B5C;\n",
              "      box-shadow: 0px 1px 3px 1px rgba(0, 0, 0, 0.15);\n",
              "      filter: drop-shadow(0px 1px 2px rgba(0, 0, 0, 0.3));\n",
              "      fill: #FFFFFF;\n",
              "    }\n",
              "  </style>\n",
              "\n",
              "      <script>\n",
              "        const buttonEl =\n",
              "          document.querySelector('#df-7b44ab9d-4638-4b89-914e-cb83459a8326 button.colab-df-convert');\n",
              "        buttonEl.style.display =\n",
              "          google.colab.kernel.accessAllowed ? 'block' : 'none';\n",
              "\n",
              "        async function convertToInteractive(key) {\n",
              "          const element = document.querySelector('#df-7b44ab9d-4638-4b89-914e-cb83459a8326');\n",
              "          const dataTable =\n",
              "            await google.colab.kernel.invokeFunction('convertToInteractive',\n",
              "                                                     [key], {});\n",
              "          if (!dataTable) return;\n",
              "\n",
              "          const docLinkHtml = 'Like what you see? Visit the ' +\n",
              "            '<a target=\"_blank\" href=https://colab.research.google.com/notebooks/data_table.ipynb>data table notebook</a>'\n",
              "            + ' to learn more about interactive tables.';\n",
              "          element.innerHTML = '';\n",
              "          dataTable['output_type'] = 'display_data';\n",
              "          await google.colab.output.renderOutput(dataTable, element);\n",
              "          const docLink = document.createElement('div');\n",
              "          docLink.innerHTML = docLinkHtml;\n",
              "          element.appendChild(docLink);\n",
              "        }\n",
              "      </script>\n",
              "    </div>\n",
              "  </div>\n",
              "  "
            ]
          },
          "metadata": {},
          "execution_count": 7
        }
      ],
      "source": [
        "# tirando todas as linhas nulas\n",
        "dfrt= dfrt.dropna(thresh = 2, how = 'all')\n",
        "dfrt"
      ]
    },
    {
      "cell_type": "code",
      "execution_count": null,
      "metadata": {
        "colab": {
          "base_uri": "https://localhost:8080/"
        },
        "id": "jXWcT0CUJPnU",
        "outputId": "4f09af76-b3a8-43ae-97b8-86ff546beb7f"
      },
      "outputs": [
        {
          "output_type": "execute_result",
          "data": {
            "text/plain": [
              "(4677, 33)"
            ]
          },
          "metadata": {},
          "execution_count": 8
        }
      ],
      "source": [
        "# identificando redução de 47% das linhas \n",
        "dfrt.shape"
      ]
    },
    {
      "cell_type": "code",
      "execution_count": null,
      "metadata": {
        "colab": {
          "base_uri": "https://localhost:8080/",
          "height": 386
        },
        "id": "sEykiTerx0sS",
        "outputId": "919f1c7e-8d06-487c-9456-8cadc30f55e7"
      },
      "outputs": [
        {
          "output_type": "execute_result",
          "data": {
            "text/plain": [
              "   record_id    repeat_instrument  repeat_instance  \\\n",
              "1        302  Registro De Tumores              1.0   \n",
              "3        710  Registro De Tumores              1.0   \n",
              "5        752  Registro De Tumores              1.0   \n",
              "7       1367  Registro De Tumores              1.0   \n",
              "9       1589  Registro De Tumores              1.0   \n",
              "\n",
              "  data_da_primeira_consulta_institucional_dt_pci data_do_diagnostico  \\\n",
              "1                                     2008-03-22          2008-03-23   \n",
              "3                                     2006-11-11          2007-11-11   \n",
              "5                                     2007-09-25          2007-12-18   \n",
              "7                                     2008-02-03          2008-02-06   \n",
              "9                                     2008-05-15          2008-05-21   \n",
              "\n",
              "  codigo_da_topografia_cid_o  codigo_da_morfologia_cid_o estadio_clinico  \\\n",
              "1                       C504                     85003.0             IIA   \n",
              "3                       C508                     85003.0            IIIA   \n",
              "5                       C509                     84803.0             IIA   \n",
              "7                       C505                     85003.0             IIA   \n",
              "9                       C508                     85003.0             IIB   \n",
              "\n",
              "  grupo_estadio_clinico classificacao_tnm_clinico_t  ...  \\\n",
              "1                    II                           2  ...   \n",
              "3                   III                           3  ...   \n",
              "5                    II                           2  ...   \n",
              "7                    II                           1  ...   \n",
              "9                    II                           2  ...   \n",
              "\n",
              "  local_recidiva_a _distancia_metastase_2_cid_o_topografia  \\\n",
              "1                                                NaN         \n",
              "3                                                NaN         \n",
              "5                                                NaN         \n",
              "7                                         C50 - Mama         \n",
              "9                                                NaN         \n",
              "\n",
              "  local_recidiva_a _distancia_metastase_3_cid_o_topografia  \\\n",
              "1                                                NaN         \n",
              "3                                                NaN         \n",
              "5                                                NaN         \n",
              "7                                                NaN         \n",
              "9                                                NaN         \n",
              "\n",
              "  local_recidiva_a _distancia_metastase_4_cid_o_topografia  \\\n",
              "1                                                NaN         \n",
              "3                                                NaN         \n",
              "5                                                NaN         \n",
              "7                                                NaN         \n",
              "9                                                NaN         \n",
              "\n",
              "  descricao_da_morfologia_acordo_com_o_cid_o_cid_o_3_edicao  \\\n",
              "1                   CARCINOMA DUCTAL INFILTRANTE SOE          \n",
              "3                   CARCINOMA DUCTAL INFILTRANTE SOE          \n",
              "5                            ADENOCARCINOMA MUCINOSO          \n",
              "7                   CARCINOMA DUCTAL INFILTRANTE SOE          \n",
              "9                   CARCINOMA DUCTAL INFILTRANTE SOE          \n",
              "\n",
              "               descricao_da_topografia_   classificacao_tnm_patologico_n  \\\n",
              "1    MAMA QUADRANTE SUPERIOR EXTERNO DA                              NaN   \n",
              "3              MAMA LESAO SOBREPOSTA DA                              NaN   \n",
              "5  MAMA SOE (EXCLUI PELE DA MAMA C44.5)  X - nao foi possivel determinar   \n",
              "7    MAMA QUADRANTE INFERIOR EXTERNO DA                                1   \n",
              "9              MAMA LESAO SOBREPOSTA DA                              NaN   \n",
              "\n",
              "  classificacao_tnm_patologico_t com_recidiva_distancia  \\\n",
              "1                            NaN                    Não   \n",
              "3                            NaN                    Não   \n",
              "5                              2                    Não   \n",
              "7                             1A                    Não   \n",
              "9                            NaN                    Não   \n",
              "\n",
              "   com_recidiva_regional com_recidiva_local  \n",
              "1                    Não                Não  \n",
              "3                    Sim                Sim  \n",
              "5                    Não                Não  \n",
              "7                    Sim                Não  \n",
              "9                    Não                Não  \n",
              "\n",
              "[5 rows x 33 columns]"
            ],
            "text/html": [
              "\n",
              "  <div id=\"df-d8d10082-5217-44ed-90c5-ba8de4846aef\">\n",
              "    <div class=\"colab-df-container\">\n",
              "      <div>\n",
              "<style scoped>\n",
              "    .dataframe tbody tr th:only-of-type {\n",
              "        vertical-align: middle;\n",
              "    }\n",
              "\n",
              "    .dataframe tbody tr th {\n",
              "        vertical-align: top;\n",
              "    }\n",
              "\n",
              "    .dataframe thead th {\n",
              "        text-align: right;\n",
              "    }\n",
              "</style>\n",
              "<table border=\"1\" class=\"dataframe\">\n",
              "  <thead>\n",
              "    <tr style=\"text-align: right;\">\n",
              "      <th></th>\n",
              "      <th>record_id</th>\n",
              "      <th>repeat_instrument</th>\n",
              "      <th>repeat_instance</th>\n",
              "      <th>data_da_primeira_consulta_institucional_dt_pci</th>\n",
              "      <th>data_do_diagnostico</th>\n",
              "      <th>codigo_da_topografia_cid_o</th>\n",
              "      <th>codigo_da_morfologia_cid_o</th>\n",
              "      <th>estadio_clinico</th>\n",
              "      <th>grupo_estadio_clinico</th>\n",
              "      <th>classificacao_tnm_clinico_t</th>\n",
              "      <th>...</th>\n",
              "      <th>local_recidiva_a _distancia_metastase_2_cid_o_topografia</th>\n",
              "      <th>local_recidiva_a _distancia_metastase_3_cid_o_topografia</th>\n",
              "      <th>local_recidiva_a _distancia_metastase_4_cid_o_topografia</th>\n",
              "      <th>descricao_da_morfologia_acordo_com_o_cid_o_cid_o_3_edicao</th>\n",
              "      <th>descricao_da_topografia_</th>\n",
              "      <th>classificacao_tnm_patologico_n</th>\n",
              "      <th>classificacao_tnm_patologico_t</th>\n",
              "      <th>com_recidiva_distancia</th>\n",
              "      <th>com_recidiva_regional</th>\n",
              "      <th>com_recidiva_local</th>\n",
              "    </tr>\n",
              "  </thead>\n",
              "  <tbody>\n",
              "    <tr>\n",
              "      <th>1</th>\n",
              "      <td>302</td>\n",
              "      <td>Registro De Tumores</td>\n",
              "      <td>1.0</td>\n",
              "      <td>2008-03-22</td>\n",
              "      <td>2008-03-23</td>\n",
              "      <td>C504</td>\n",
              "      <td>85003.0</td>\n",
              "      <td>IIA</td>\n",
              "      <td>II</td>\n",
              "      <td>2</td>\n",
              "      <td>...</td>\n",
              "      <td>NaN</td>\n",
              "      <td>NaN</td>\n",
              "      <td>NaN</td>\n",
              "      <td>CARCINOMA DUCTAL INFILTRANTE SOE</td>\n",
              "      <td>MAMA QUADRANTE SUPERIOR EXTERNO DA</td>\n",
              "      <td>NaN</td>\n",
              "      <td>NaN</td>\n",
              "      <td>Não</td>\n",
              "      <td>Não</td>\n",
              "      <td>Não</td>\n",
              "    </tr>\n",
              "    <tr>\n",
              "      <th>3</th>\n",
              "      <td>710</td>\n",
              "      <td>Registro De Tumores</td>\n",
              "      <td>1.0</td>\n",
              "      <td>2006-11-11</td>\n",
              "      <td>2007-11-11</td>\n",
              "      <td>C508</td>\n",
              "      <td>85003.0</td>\n",
              "      <td>IIIA</td>\n",
              "      <td>III</td>\n",
              "      <td>3</td>\n",
              "      <td>...</td>\n",
              "      <td>NaN</td>\n",
              "      <td>NaN</td>\n",
              "      <td>NaN</td>\n",
              "      <td>CARCINOMA DUCTAL INFILTRANTE SOE</td>\n",
              "      <td>MAMA LESAO SOBREPOSTA DA</td>\n",
              "      <td>NaN</td>\n",
              "      <td>NaN</td>\n",
              "      <td>Não</td>\n",
              "      <td>Sim</td>\n",
              "      <td>Sim</td>\n",
              "    </tr>\n",
              "    <tr>\n",
              "      <th>5</th>\n",
              "      <td>752</td>\n",
              "      <td>Registro De Tumores</td>\n",
              "      <td>1.0</td>\n",
              "      <td>2007-09-25</td>\n",
              "      <td>2007-12-18</td>\n",
              "      <td>C509</td>\n",
              "      <td>84803.0</td>\n",
              "      <td>IIA</td>\n",
              "      <td>II</td>\n",
              "      <td>2</td>\n",
              "      <td>...</td>\n",
              "      <td>NaN</td>\n",
              "      <td>NaN</td>\n",
              "      <td>NaN</td>\n",
              "      <td>ADENOCARCINOMA MUCINOSO</td>\n",
              "      <td>MAMA SOE (EXCLUI PELE DA MAMA C44.5)</td>\n",
              "      <td>X - nao foi possivel determinar</td>\n",
              "      <td>2</td>\n",
              "      <td>Não</td>\n",
              "      <td>Não</td>\n",
              "      <td>Não</td>\n",
              "    </tr>\n",
              "    <tr>\n",
              "      <th>7</th>\n",
              "      <td>1367</td>\n",
              "      <td>Registro De Tumores</td>\n",
              "      <td>1.0</td>\n",
              "      <td>2008-02-03</td>\n",
              "      <td>2008-02-06</td>\n",
              "      <td>C505</td>\n",
              "      <td>85003.0</td>\n",
              "      <td>IIA</td>\n",
              "      <td>II</td>\n",
              "      <td>1</td>\n",
              "      <td>...</td>\n",
              "      <td>C50 - Mama</td>\n",
              "      <td>NaN</td>\n",
              "      <td>NaN</td>\n",
              "      <td>CARCINOMA DUCTAL INFILTRANTE SOE</td>\n",
              "      <td>MAMA QUADRANTE INFERIOR EXTERNO DA</td>\n",
              "      <td>1</td>\n",
              "      <td>1A</td>\n",
              "      <td>Não</td>\n",
              "      <td>Sim</td>\n",
              "      <td>Não</td>\n",
              "    </tr>\n",
              "    <tr>\n",
              "      <th>9</th>\n",
              "      <td>1589</td>\n",
              "      <td>Registro De Tumores</td>\n",
              "      <td>1.0</td>\n",
              "      <td>2008-05-15</td>\n",
              "      <td>2008-05-21</td>\n",
              "      <td>C508</td>\n",
              "      <td>85003.0</td>\n",
              "      <td>IIB</td>\n",
              "      <td>II</td>\n",
              "      <td>2</td>\n",
              "      <td>...</td>\n",
              "      <td>NaN</td>\n",
              "      <td>NaN</td>\n",
              "      <td>NaN</td>\n",
              "      <td>CARCINOMA DUCTAL INFILTRANTE SOE</td>\n",
              "      <td>MAMA LESAO SOBREPOSTA DA</td>\n",
              "      <td>NaN</td>\n",
              "      <td>NaN</td>\n",
              "      <td>Não</td>\n",
              "      <td>Não</td>\n",
              "      <td>Não</td>\n",
              "    </tr>\n",
              "  </tbody>\n",
              "</table>\n",
              "<p>5 rows × 33 columns</p>\n",
              "</div>\n",
              "      <button class=\"colab-df-convert\" onclick=\"convertToInteractive('df-d8d10082-5217-44ed-90c5-ba8de4846aef')\"\n",
              "              title=\"Convert this dataframe to an interactive table.\"\n",
              "              style=\"display:none;\">\n",
              "        \n",
              "  <svg xmlns=\"http://www.w3.org/2000/svg\" height=\"24px\"viewBox=\"0 0 24 24\"\n",
              "       width=\"24px\">\n",
              "    <path d=\"M0 0h24v24H0V0z\" fill=\"none\"/>\n",
              "    <path d=\"M18.56 5.44l.94 2.06.94-2.06 2.06-.94-2.06-.94-.94-2.06-.94 2.06-2.06.94zm-11 1L8.5 8.5l.94-2.06 2.06-.94-2.06-.94L8.5 2.5l-.94 2.06-2.06.94zm10 10l.94 2.06.94-2.06 2.06-.94-2.06-.94-.94-2.06-.94 2.06-2.06.94z\"/><path d=\"M17.41 7.96l-1.37-1.37c-.4-.4-.92-.59-1.43-.59-.52 0-1.04.2-1.43.59L10.3 9.45l-7.72 7.72c-.78.78-.78 2.05 0 2.83L4 21.41c.39.39.9.59 1.41.59.51 0 1.02-.2 1.41-.59l7.78-7.78 2.81-2.81c.8-.78.8-2.07 0-2.86zM5.41 20L4 18.59l7.72-7.72 1.47 1.35L5.41 20z\"/>\n",
              "  </svg>\n",
              "      </button>\n",
              "      \n",
              "  <style>\n",
              "    .colab-df-container {\n",
              "      display:flex;\n",
              "      flex-wrap:wrap;\n",
              "      gap: 12px;\n",
              "    }\n",
              "\n",
              "    .colab-df-convert {\n",
              "      background-color: #E8F0FE;\n",
              "      border: none;\n",
              "      border-radius: 50%;\n",
              "      cursor: pointer;\n",
              "      display: none;\n",
              "      fill: #1967D2;\n",
              "      height: 32px;\n",
              "      padding: 0 0 0 0;\n",
              "      width: 32px;\n",
              "    }\n",
              "\n",
              "    .colab-df-convert:hover {\n",
              "      background-color: #E2EBFA;\n",
              "      box-shadow: 0px 1px 2px rgba(60, 64, 67, 0.3), 0px 1px 3px 1px rgba(60, 64, 67, 0.15);\n",
              "      fill: #174EA6;\n",
              "    }\n",
              "\n",
              "    [theme=dark] .colab-df-convert {\n",
              "      background-color: #3B4455;\n",
              "      fill: #D2E3FC;\n",
              "    }\n",
              "\n",
              "    [theme=dark] .colab-df-convert:hover {\n",
              "      background-color: #434B5C;\n",
              "      box-shadow: 0px 1px 3px 1px rgba(0, 0, 0, 0.15);\n",
              "      filter: drop-shadow(0px 1px 2px rgba(0, 0, 0, 0.3));\n",
              "      fill: #FFFFFF;\n",
              "    }\n",
              "  </style>\n",
              "\n",
              "      <script>\n",
              "        const buttonEl =\n",
              "          document.querySelector('#df-d8d10082-5217-44ed-90c5-ba8de4846aef button.colab-df-convert');\n",
              "        buttonEl.style.display =\n",
              "          google.colab.kernel.accessAllowed ? 'block' : 'none';\n",
              "\n",
              "        async function convertToInteractive(key) {\n",
              "          const element = document.querySelector('#df-d8d10082-5217-44ed-90c5-ba8de4846aef');\n",
              "          const dataTable =\n",
              "            await google.colab.kernel.invokeFunction('convertToInteractive',\n",
              "                                                     [key], {});\n",
              "          if (!dataTable) return;\n",
              "\n",
              "          const docLinkHtml = 'Like what you see? Visit the ' +\n",
              "            '<a target=\"_blank\" href=https://colab.research.google.com/notebooks/data_table.ipynb>data table notebook</a>'\n",
              "            + ' to learn more about interactive tables.';\n",
              "          element.innerHTML = '';\n",
              "          dataTable['output_type'] = 'display_data';\n",
              "          await google.colab.output.renderOutput(dataTable, element);\n",
              "          const docLink = document.createElement('div');\n",
              "          docLink.innerHTML = docLinkHtml;\n",
              "          element.appendChild(docLink);\n",
              "        }\n",
              "      </script>\n",
              "    </div>\n",
              "  </div>\n",
              "  "
            ]
          },
          "metadata": {},
          "execution_count": 9
        }
      ],
      "source": [
        "dfrt.head()"
      ]
    },
    {
      "cell_type": "code",
      "execution_count": null,
      "metadata": {
        "id": "jj5gDdTqBz8a"
      },
      "outputs": [],
      "source": [
        "#pega apenas a primeira vez que o paciente apareceu em relação a data\n",
        "teste = []\n",
        "def pega_o_primeiro(data):\n",
        "  data['data_da_primeira_consulta_institucional_dt_pci'].sort_values()\n",
        "  teste.append(data.iloc[0])\n",
        "\n",
        "dfrt.groupby(by = 'record_id').apply(pega_o_primeiro)\n",
        "dfrt = pd.DataFrame(teste, columns=dfrt.columns)"
      ]
    },
    {
      "cell_type": "markdown",
      "metadata": {
        "id": "JregMXQp0n9Z"
      },
      "source": [
        "###2.1.3 Filtrando apenas os dados de cancer de mama"
      ]
    },
    {
      "cell_type": "code",
      "execution_count": null,
      "metadata": {
        "colab": {
          "base_uri": "https://localhost:8080/"
        },
        "id": "ruutfMwsz6a0",
        "outputId": "97e20f01-9f31-4e11-9710-1d45f5ae6f12"
      },
      "outputs": [
        {
          "output_type": "execute_result",
          "data": {
            "text/plain": [
              "array(['MAMA QUADRANTE SUPERIOR EXTERNO DA', 'MAMA LESAO SOBREPOSTA DA',\n",
              "       'MAMA SOE (EXCLUI PELE DA MAMA C44.5)',\n",
              "       'MAMA QUADRANTE INFERIOR EXTERNO DA', 'MAMA PORCAO CENTRAL DA',\n",
              "       'MAMA QUADRANTE SUPERIOR INTERNO DA', 'MAMA MAMILO',\n",
              "       'MAMA QUADRANTE INFERIOR INTERNO DA', 'ASSOALHO DA BOCA SOE',\n",
              "       'MAMA PORCAO AXILAR DA', 'CECO', 'RETO SOE', 'COLO DO UTERO'],\n",
              "      dtype=object)"
            ]
          },
          "metadata": {},
          "execution_count": 11
        }
      ],
      "source": [
        "#analizando todos os tipos de câncer na tabela\n",
        "dfrt['descricao_da_topografia_'].unique()"
      ]
    },
    {
      "cell_type": "code",
      "execution_count": null,
      "metadata": {
        "colab": {
          "base_uri": "https://localhost:8080/"
        },
        "id": "iqtWOqrvJZg3",
        "outputId": "e2874c81-14ea-4308-c3d2-cdb9b1a61c76"
      },
      "outputs": [
        {
          "output_type": "execute_result",
          "data": {
            "text/plain": [
              "array(['MAMA QUADRANTE SUPERIOR EXTERNO DA', 'MAMA LESAO SOBREPOSTA DA',\n",
              "       'MAMA SOE (EXCLUI PELE DA MAMA C44.5)',\n",
              "       'MAMA QUADRANTE INFERIOR EXTERNO DA', 'MAMA PORCAO CENTRAL DA',\n",
              "       'MAMA QUADRANTE SUPERIOR INTERNO DA', 'MAMA MAMILO',\n",
              "       'MAMA QUADRANTE INFERIOR INTERNO DA', 'MAMA PORCAO AXILAR DA'],\n",
              "      dtype=object)"
            ]
          },
          "metadata": {},
          "execution_count": 12
        }
      ],
      "source": [
        "#filtrando apenas os cânceres possíveis de mama\n",
        "dfrt = dfrt[dfrt['descricao_da_topografia_'].str.contains(\"MAMA\")]\n",
        "dfrt['descricao_da_topografia_'].unique()"
      ]
    },
    {
      "cell_type": "markdown",
      "metadata": {
        "id": "i-XqL_UI_jU2"
      },
      "source": [
        "###2.1.4 Retirando Repeat_instrument"
      ]
    },
    {
      "cell_type": "code",
      "execution_count": null,
      "metadata": {
        "id": "VoNu2ywtU4dc"
      },
      "outputs": [],
      "source": [
        "dfrt = dfrt.reset_index()"
      ]
    },
    {
      "cell_type": "code",
      "execution_count": null,
      "metadata": {
        "id": "T2xHegiSxDDm"
      },
      "outputs": [],
      "source": [
        "# Como os valores de Repeat_instrument são sempre os mesmos, eles não irão ajudar na análise\n",
        "# Logo, essa coluna será retirada\n",
        "dfrt = dfrt.drop([\"repeat_instrument\"], axis=1)\n"
      ]
    },
    {
      "cell_type": "markdown",
      "metadata": {
        "id": "asnXxxK_OIth"
      },
      "source": [
        "###2.1.5 TRATANDO MISSINGS "
      ]
    },
    {
      "cell_type": "code",
      "execution_count": null,
      "metadata": {
        "id": "517z_tep7EtB"
      },
      "outputs": [],
      "source": [
        "#algumas colunas estão relacionadas com a determinação do dado a partir de exames clínicos ou laboratoriais\n",
        "#logo, para essas colunas, os missings serão nomeados X - nao foi possivel determinar'\n",
        "x_nao_possivel_determinar = ['estadio_clinico', 'grupo_estadio_clinico', 'classificacao_tnm_clinico_t', 'classificacao_tnm_clinico_n', 'classificacao_tnm_clinico_m', 'classificacao_tnm_patologico_n', 'classificacao_tnm_patologico_t']\n",
        "for coluna in x_nao_possivel_determinar:\n",
        "  dfrt[coluna] = dfrt[coluna].replace('X: não foi possível determinar', 'X - nao foi possivel determinar')\n",
        "  dfrt[coluna] = dfrt[coluna].replace(np.nan, 'X - nao foi possivel determinar')\n",
        "  dfrt[coluna] = dfrt[coluna].replace('Y: Na', 'X - nao foi possivel determinar')\n",
        "  dfrt[coluna] = dfrt[coluna].replace('Y: NA', 'X - nao foi possivel determinar')"
      ]
    },
    {
      "cell_type": "code",
      "execution_count": null,
      "metadata": {
        "id": "JCKYdvBU9Kfo"
      },
      "outputs": [],
      "source": [
        "#Mudando o valor dos missings por não identificado das outras tabelas\n",
        "nan = ['metastase_diagnostico_cid_o_1', 'metastase_diagnostico_cid_o_2', 'metastase_diagnostico_cid_o_3', 'metastase_diagnostico_cid_o_4', 'tempo_desde_o_diagnostico_ate_primeira_recidiva_', 'local_recidiva_a _distancia_metastase_1_cid_o_topografia', 'local_recidiva_a _distancia_metastase_2_cid_o_topografia', 'local_recidiva_a _distancia_metastase_3_cid_o_topografia', 'local_recidiva_a _distancia_metastase_4_cid_o_topografia']\n",
        "for coluna in nan:\n",
        "  dfrt[coluna] = dfrt[coluna].replace(np.nan, 'não identificado')\n",
        "  dfrt[coluna] = dfrt[coluna].replace('Y: Na', 'não identificado')\n",
        "  dfrt[coluna] = dfrt[coluna].replace('Y: NA', 'não identificado')"
      ]
    },
    {
      "cell_type": "code",
      "execution_count": null,
      "metadata": {
        "colab": {
          "base_uri": "https://localhost:8080/"
        },
        "id": "MVKc3F1dOhhT",
        "outputId": "3ee33dd1-6e76-4bb9-a3cb-71d3264e5671"
      },
      "outputs": [
        {
          "output_type": "stream",
          "name": "stdout",
          "text": [
            "index :\n",
            " 1       1\n",
            "5932    1\n",
            "5903    1\n",
            "5905    1\n",
            "5908    1\n",
            "       ..\n",
            "2999    1\n",
            "3001    1\n",
            "3003    1\n",
            "3005    1\n",
            "8948    1\n",
            "Name: index, Length: 4268, dtype: int64 \n",
            "\n",
            "record_id :\n",
            " 302      1\n",
            "60900    1\n",
            "60736    1\n",
            "60742    1\n",
            "60757    1\n",
            "        ..\n",
            "37719    1\n",
            "37723    1\n",
            "37725    1\n",
            "37750    1\n",
            "82240    1\n",
            "Name: record_id, Length: 4268, dtype: int64 \n",
            "\n",
            "repeat_instance :\n",
            " 1.0    4268\n",
            "Name: repeat_instance, dtype: int64 \n",
            "\n",
            "data_da_primeira_consulta_institucional_dt_pci :\n",
            " 2011-08-14    8\n",
            "2017-05-12    7\n",
            "2018-01-02    6\n",
            "2016-09-01    6\n",
            "2016-06-09    6\n",
            "             ..\n",
            "2013-02-22    1\n",
            "2013-08-31    1\n",
            "2013-07-17    1\n",
            "2013-08-09    1\n",
            "2020-12-08    1\n",
            "Name: data_da_primeira_consulta_institucional_dt_pci, Length: 2463, dtype: int64 \n",
            "\n",
            "data_do_diagnostico :\n",
            " 2012-03-17    7\n",
            "2016-05-27    7\n",
            "2011-02-01    7\n",
            "2015-08-02    7\n",
            "2015-07-06    6\n",
            "             ..\n",
            "2013-03-10    1\n",
            "2012-12-19    1\n",
            "2013-06-01    1\n",
            "2013-05-03    1\n",
            "2020-11-07    1\n",
            "Name: data_do_diagnostico, Length: 2460, dtype: int64 \n",
            "\n",
            "codigo_da_topografia_cid_o :\n",
            " C509    1927\n",
            "C504    1155\n",
            "C502     282\n",
            "C505     247\n",
            "C508     175\n",
            "C503     174\n",
            "C500     168\n",
            "C501     131\n",
            "C506       9\n",
            "Name: codigo_da_topografia_cid_o, dtype: int64 \n",
            "\n",
            "codigo_da_morfologia_cid_o :\n",
            " 85003.0    3793\n",
            "85203.0     140\n",
            "84803.0      49\n",
            "85753.0      46\n",
            "80503.0      38\n",
            "85002.0      30\n",
            "85033.0      19\n",
            "85503.0      19\n",
            "85233.0      18\n",
            "85223.0      14\n",
            "80103.0       9\n",
            "85243.0       8\n",
            "85103.0       8\n",
            "82003.0       8\n",
            "84013.0       8\n",
            "85413.0       8\n",
            "82603.0       5\n",
            "90203.0       5\n",
            "82113.0       4\n",
            "85403.0       3\n",
            "85213.0       3\n",
            "80502.0       3\n",
            "80703.0       3\n",
            "85202.0       2\n",
            "88003.0       2\n",
            "85433.0       2\n",
            "84903.0       2\n",
            "85133.0       2\n",
            "82463.0       2\n",
            "81403.0       2\n",
            "97553.0       1\n",
            "80333.0       1\n",
            "85303.0       1\n",
            "82013.0       1\n",
            "80203.0       1\n",
            "80713.0       1\n",
            "89803.0       1\n",
            "82303.0       1\n",
            "85042.0       1\n",
            "83103.0       1\n",
            "88323.0       1\n",
            "88903.0       1\n",
            "80223.0       1\n",
            "Name: codigo_da_morfologia_cid_o, dtype: int64 \n",
            "\n",
            "estadio_clinico :\n",
            " IIA                                909\n",
            "IIIA                               722\n",
            "IIB                                715\n",
            "IV                                 544\n",
            "IIIB                               460\n",
            "IA                                 408\n",
            "I                                  240\n",
            "IIIC                               183\n",
            "0                                   37\n",
            "IB                                  36\n",
            "X - nao foi possivel determinar     14\n",
            "Name: estadio_clinico, dtype: int64 \n",
            "\n",
            "grupo_estadio_clinico :\n",
            " II                                 1567\n",
            "III                                1291\n",
            "I                                   663\n",
            "IV                                  512\n",
            "X - nao foi possivel determinar     207\n",
            "0                                    28\n",
            "Name: grupo_estadio_clinico, dtype: int64 \n",
            "\n",
            "classificacao_tnm_clinico_t :\n",
            " 2                                  1608\n",
            "3                                   852\n",
            "1C                                  579\n",
            "4B                                  489\n",
            "4D                                  135\n",
            "1B                                  133\n",
            "4                                   128\n",
            "1                                   126\n",
            "1A                                   73\n",
            "4C                                   42\n",
            "X - nao foi possivel determinar      34\n",
            "IS                                   27\n",
            "4A                                   23\n",
            "CDIS                                  9\n",
            "1MIC                                  6\n",
            "0                                     3\n",
            "CLIS                                  1\n",
            "Name: classificacao_tnm_clinico_t, dtype: int64 \n",
            "\n",
            "classificacao_tnm_clinico_n :\n",
            " 0                                  1775\n",
            "1                                  1395\n",
            "2                                   510\n",
            "2A                                  223\n",
            "3                                   139\n",
            "3A                                   83\n",
            "3C                                   51\n",
            "X - nao foi possivel determinar      40\n",
            "3B                                   31\n",
            "2B                                   21\n",
            "Name: classificacao_tnm_clinico_n, dtype: int64 \n",
            "\n",
            "classificacao_tnm_clinico_m :\n",
            " 0                                  3709\n",
            "1                                   545\n",
            "X - nao foi possivel determinar      14\n",
            "Name: classificacao_tnm_clinico_m, dtype: int64 \n",
            "\n",
            "metastase_diagnostico_cid_o_1 :\n",
            " não identificado                                                    3597\n",
            "C34 - Bronquios e Pulmoes                                            195\n",
            "C41 - Ossos e Das Cartilagens Articulares de Outras Localizações     151\n",
            "C22 - Fígado e Das Vias Biliares Intra-hepáticas                     107\n",
            "C77 - Secundária e Não Especificada Dos Gânglios Linfáticos           81\n",
            "C40 - Ossos e Cartilagens Articulares Dos Membros                     81\n",
            "C38 - Coração, Mediastino e Pleura,                                   20\n",
            "C48 - Tecidos Moles do Retroperitônio e do Peritônio                  14\n",
            "C71 - Encefalo                                                         8\n",
            "C49 - Tecido Conjuntivo e de Outros Tecidos Moles                      6\n",
            "C44 - Pele nao-melanoma                                                3\n",
            "C56 - Ovario                                                           2\n",
            "C42 - Sistema hematopoiético e reticuloendotelial                      1\n",
            "C18 - Colon,                                                           1\n",
            "C67 - Bexiga                                                           1\n",
            "Name: metastase_diagnostico_cid_o_1, dtype: int64 \n",
            "\n",
            "metastase_diagnostico_cid_o_2 :\n",
            " não identificado                                                    3895\n",
            "C41 - Ossos e Das Cartilagens Articulares de Outras Localizações     106\n",
            "C77 - Secundária e Não Especificada Dos Gânglios Linfáticos           67\n",
            "C22 - Fígado e Das Vias Biliares Intra-hepáticas                      53\n",
            "C34 - Bronquios e Pulmoes                                             52\n",
            "C40 - Ossos e Cartilagens Articulares Dos Membros                     35\n",
            "C38 - Coração, Mediastino e Pleura,                                   23\n",
            "C48 - Tecidos Moles do Retroperitônio e do Peritônio                  11\n",
            "C71 - Encefalo                                                         8\n",
            "C74 - Glândula Supra-renal (Glândula Adrenal)                          4\n",
            "C49 - Tecido Conjuntivo e de Outros Tecidos Moles                      3\n",
            "C50 - Mama                                                             3\n",
            "C75 - Outras Glândulas Endócrinas e de Estruturas Relacionadas         2\n",
            "C25 - Pancreas                                                         2\n",
            "C44 - Pele nao-melanoma                                                1\n",
            "C70 - Meninges                                                         1\n",
            "C07 - Glandula Parotida                                                1\n",
            "C56 - Ovario                                                           1\n",
            "Name: metastase_diagnostico_cid_o_2, dtype: int64 \n",
            "\n",
            "metastase_diagnostico_cid_o_3 :\n",
            " não identificado                                                    4093\n",
            "C77 - Secundária e Não Especificada Dos Gânglios Linfáticos           42\n",
            "C41 - Ossos e Das Cartilagens Articulares de Outras Localizações      39\n",
            "C22 - Fígado e Das Vias Biliares Intra-hepáticas                      22\n",
            "C34 - Bronquios e Pulmoes                                             21\n",
            "C40 - Ossos e Cartilagens Articulares Dos Membros                     15\n",
            "C38 - Coração, Mediastino e Pleura,                                   12\n",
            "C71 - Encefalo                                                         7\n",
            "C48 - Tecidos Moles do Retroperitônio e do Peritônio                   7\n",
            "C74 - Glândula Supra-renal (Glândula Adrenal)                          3\n",
            "C42 - Sistema hematopoiético e reticuloendotelial                      2\n",
            "C49 - Tecido Conjuntivo e de Outros Tecidos Moles                      2\n",
            "C64 - Rim, Exceto Pelve Renal                                          1\n",
            "C16 - Estomago                                                         1\n",
            "C25 - Pancreas                                                         1\n",
            "Name: metastase_diagnostico_cid_o_3, dtype: int64 \n",
            "\n",
            "metastase_diagnostico_cid_o_4 :\n",
            " não identificado                                                    4201\n",
            "C41 - Ossos e Das Cartilagens Articulares de Outras Localizações      21\n",
            "C22 - Fígado e Das Vias Biliares Intra-hepáticas                      11\n",
            "C77 - Secundária e Não Especificada Dos Gânglios Linfáticos            9\n",
            "C34 - Bronquios e Pulmoes                                              6\n",
            "C40 - Ossos e Cartilagens Articulares Dos Membros                      5\n",
            "C74 - Glândula Supra-renal (Glândula Adrenal)                          4\n",
            "C48 - Tecidos Moles do Retroperitônio e do Peritônio                   3\n",
            "C38 - Coração, Mediastino e Pleura,                                    2\n",
            "C71 - Encefalo                                                         2\n",
            "C75 - Outras Glândulas Endócrinas e de Estruturas Relacionadas         1\n",
            "C56 - Ovario                                                           1\n",
            "C49 - Tecido Conjuntivo e de Outros Tecidos Moles                      1\n",
            "C67 - Bexiga                                                           1\n",
            "Name: metastase_diagnostico_cid_o_4, dtype: int64 \n",
            "\n",
            "data_do_tratamento :\n",
            " 2015-01-08    7\n",
            "2015-05-13    7\n",
            "2016-10-31    6\n",
            "2017-12-17    6\n",
            "2015-09-13    6\n",
            "             ..\n",
            "2013-10-19    1\n",
            "2013-11-22    1\n",
            "2013-08-19    1\n",
            "2013-08-30    1\n",
            "2021-03-27    1\n",
            "Name: data_do_tratamento, Length: 2405, dtype: int64 \n",
            "\n",
            "combinacao_dos_tratamentos_realizados_no_hospital :\n",
            " Outras combinações                      1807\n",
            "Cirurgia + Radio + Quimio + Hormonio     892\n",
            "Cirurgia + Radio + Quimio                578\n",
            "Quimioterapia                            335\n",
            "Radioterapia + Quimioterapia             332\n",
            "Cirurgia + Quimioterapia                 165\n",
            "Cirurgia                                  49\n",
            "Nenhum tratamento                         44\n",
            "Cirurgia + Radioterapia                   43\n",
            "Radioterapia                              23\n",
            "Name: combinacao_dos_tratamentos_realizados_no_hospital, dtype: int64 \n",
            "\n",
            "Ano do diagnóstico :\n",
            " 2017.0    645\n",
            "2016.0    643\n",
            "2015.0    602\n",
            "2011.0    481\n",
            "2013.0    426\n",
            "2012.0    409\n",
            "2014.0    314\n",
            "2018.0    264\n",
            "2010.0    193\n",
            "2020.0    115\n",
            "2009.0     89\n",
            "2019.0     47\n",
            "2008.0     40\n",
            "Name: Ano do diagnóstico, dtype: int64 \n",
            "\n",
            "lateralidade_do_tumor :\n",
            " Esquerda         2180\n",
            "Direita          1966\n",
            "não se aplica     122\n",
            "Name: lateralidade_do_tumor, dtype: int64 \n",
            "\n",
            "data_recidiva :\n",
            " 2017-11-18    4\n",
            "2018-09-03    4\n",
            "2014-11-06    4\n",
            "2018-11-16    4\n",
            "2017-07-09    4\n",
            "             ..\n",
            "2016-03-14    1\n",
            "2014-03-09    1\n",
            "2013-09-25    1\n",
            "2015-09-10    1\n",
            "2020-05-05    1\n",
            "Name: data_recidiva, Length: 1021, dtype: int64 \n",
            "\n",
            "tempo_desde_o_diagnostico_ate_primeira_recidiva_ :\n",
            " não identificado    3020\n",
            "276.0                  6\n",
            "188.0                  5\n",
            "777.0                  5\n",
            "251.0                  5\n",
            "                    ... \n",
            "199.0                  1\n",
            "1149.0                 1\n",
            "960.0                  1\n",
            "937.0                  1\n",
            "161.0                  1\n",
            "Name: tempo_desde_o_diagnostico_ate_primeira_recidiva_, Length: 822, dtype: int64 \n",
            "\n",
            "local_recidiva_a _distancia_metastase_1_cid_o_topografia :\n",
            " não identificado                                                                                        3279\n",
            "C34 - Bronquios e Pulmoes                                                                                257\n",
            "C41 - Ossos e Das Cartilagens Articulares de Outras Localizações                                         169\n",
            "C22 - Fígado e Das Vias Biliares Intra-hepáticas                                                         142\n",
            "C71 - Encefalo                                                                                           131\n",
            "C40 - Ossos e Cartilagens Articulares Dos Membros                                                         87\n",
            "C77 - Secundária e Não Especificada Dos Gânglios Linfáticos                                               86\n",
            "C38 - Coração, Mediastino e Pleura,                                                                       36\n",
            "C48 - Tecidos Moles do Retroperitônio e do Peritônio                                                      21\n",
            "C50 - Mama                                                                                                15\n",
            "C49 - Tecido Conjuntivo e de Outros Tecidos Moles                                                         13\n",
            "C44 - Pele nao-melanoma                                                                                    6\n",
            "C70 - Meninges                                                                                             5\n",
            "C56 - Ovario                                                                                               4\n",
            "C72 - Maligna da Medula Espinhal, Dos Nervos Cranianos e de Outras Partes do Sistema Nervoso Central       4\n",
            "C16 - Estomago                                                                                             4\n",
            "C42 - Sistema hematopoiético e reticuloendotelial                                                          2\n",
            "C10 - Orofaringe                                                                                           1\n",
            "C25 - Pancreas                                                                                             1\n",
            "C23 - Vesícula Biliar                                                                                      1\n",
            "C18 - Colon,                                                                                               1\n",
            "C74 - Glândula Supra-renal (Glândula Adrenal)                                                              1\n",
            "C66 - Ureter                                                                                               1\n",
            "C64 - Rim, Exceto Pelve Renal                                                                              1\n",
            "Name: local_recidiva_a _distancia_metastase_1_cid_o_topografia, dtype: int64 \n",
            "\n",
            "local_recidiva_a _distancia_metastase_2_cid_o_topografia :\n",
            " não identificado                                                                                        3733\n",
            "C41 - Ossos e Das Cartilagens Articulares de Outras Localizações                                         125\n",
            "C77 - Secundária e Não Especificada Dos Gânglios Linfáticos                                               94\n",
            "C22 - Fígado e Das Vias Biliares Intra-hepáticas                                                          90\n",
            "C34 - Bronquios e Pulmoes                                                                                 68\n",
            "C71 - Encefalo                                                                                            32\n",
            "C40 - Ossos e Cartilagens Articulares Dos Membros                                                         32\n",
            "C38 - Coração, Mediastino e Pleura,                                                                       30\n",
            "C48 - Tecidos Moles do Retroperitônio e do Peritônio                                                      16\n",
            "C50 - Mama                                                                                                14\n",
            "C49 - Tecido Conjuntivo e de Outros Tecidos Moles                                                         12\n",
            "C70 - Meninges                                                                                             8\n",
            "C74 - Glândula Supra-renal (Glândula Adrenal)                                                              3\n",
            "C42 - Sistema hematopoiético e reticuloendotelial                                                          2\n",
            "C44 - Pele nao-melanoma                                                                                    2\n",
            "C18 - Colon,                                                                                               1\n",
            "C47 - Nervos Periféricos e do Sistema Nervoso Autônomo                                                     1\n",
            "C64 - Rim, Exceto Pelve Renal                                                                              1\n",
            "C72 - Maligna da Medula Espinhal, Dos Nervos Cranianos e de Outras Partes do Sistema Nervoso Central       1\n",
            "C03 - Gengiva                                                                                              1\n",
            "C07 - Glandula Parotida                                                                                    1\n",
            "C56 - Ovario                                                                                               1\n",
            "Name: local_recidiva_a _distancia_metastase_2_cid_o_topografia, dtype: int64 \n",
            "\n",
            "local_recidiva_a _distancia_metastase_3_cid_o_topografia :\n",
            " não identificado                                                                                        4009\n",
            "C22 - Fígado e Das Vias Biliares Intra-hepáticas                                                          48\n",
            "C41 - Ossos e Das Cartilagens Articulares de Outras Localizações                                          46\n",
            "C77 - Secundária e Não Especificada Dos Gânglios Linfáticos                                               44\n",
            "C34 - Bronquios e Pulmoes                                                                                 36\n",
            "C38 - Coração, Mediastino e Pleura,                                                                       21\n",
            "C71 - Encefalo                                                                                            14\n",
            "C40 - Ossos e Cartilagens Articulares Dos Membros                                                         13\n",
            "C49 - Tecido Conjuntivo e de Outros Tecidos Moles                                                          9\n",
            "C74 - Glândula Supra-renal (Glândula Adrenal)                                                              8\n",
            "C48 - Tecidos Moles do Retroperitônio e do Peritônio                                                       6\n",
            "C64 - Rim, Exceto Pelve Renal                                                                              3\n",
            "C50 - Mama                                                                                                 2\n",
            "C72 - Maligna da Medula Espinhal, Dos Nervos Cranianos e de Outras Partes do Sistema Nervoso Central       2\n",
            "C44 - Pele nao-melanoma                                                                                    2\n",
            "C73 - Glândula Tireóide                                                                                    1\n",
            "C15 - Esofago                                                                                              1\n",
            "C66 - Ureter                                                                                               1\n",
            "C56 - Ovario                                                                                               1\n",
            "C25 - Pancreas                                                                                             1\n",
            "Name: local_recidiva_a _distancia_metastase_3_cid_o_topografia, dtype: int64 \n",
            "\n",
            "local_recidiva_a _distancia_metastase_4_cid_o_topografia :\n",
            " não identificado                                                    4157\n",
            "C41 - Ossos e Das Cartilagens Articulares de Outras Localizações      23\n",
            "C22 - Fígado e Das Vias Biliares Intra-hepáticas                      15\n",
            "C77 - Secundária e Não Especificada Dos Gânglios Linfáticos           14\n",
            "C71 - Encefalo                                                        11\n",
            "C34 - Bronquios e Pulmoes                                              9\n",
            "C38 - Coração, Mediastino e Pleura,                                    7\n",
            "C74 - Glândula Supra-renal (Glândula Adrenal)                          5\n",
            "C50 - Mama                                                             5\n",
            "C40 - Ossos e Cartilagens Articulares Dos Membros                      5\n",
            "C49 - Tecido Conjuntivo e de Outros Tecidos Moles                      4\n",
            "C48 - Tecidos Moles do Retroperitônio e do Peritônio                   3\n",
            "C70 - Meninges                                                         3\n",
            "C42 - Sistema hematopoiético e reticuloendotelial                      2\n",
            "C44 - Pele nao-melanoma                                                2\n",
            "C64 - Rim, Exceto Pelve Renal                                          2\n",
            "C06 - Outras parte da Boca                                             1\n",
            "Name: local_recidiva_a _distancia_metastase_4_cid_o_topografia, dtype: int64 \n",
            "\n",
            "descricao_da_morfologia_acordo_com_o_cid_o_cid_o_3_edicao :\n",
            " CARCINOMA DUCTAL INFILTRANTE SOE                                     3793\n",
            "CARCINOMA LOBULAR SOE                                                 140\n",
            "ADENOCARCINOMA MUCINOSO                                                49\n",
            "CARCINOMA METAPLASICO SOE                                              46\n",
            "CARCINOMA PAPILAR SOE                                                  38\n",
            "CARCINOMA INTRADUCTAL NAO INFILTRANTE SOE                              30\n",
            "ADENOCARCINOMA PAPILAR INTRADUCTAL COM INVASAO                         19\n",
            "CARCINOMA DE CELULAS ACINOSAS                                          19\n",
            "CARCINOMA DUCTAL INFILTRATIVO MISTO COM OUTROS TIPOS DE CARCINOMA      18\n",
            "CARCINOMA DUCTAL INFILTRANTE E LOBULAR                                 14\n",
            "CARCINOMA SOE                                                           9\n",
            "CARCINOMA LOBULAR INFILTRANTE MISTO COM OUTROS TIPOS DE CARCINOMA       8\n",
            "CARCINOMA MEDULAR SOE                                                   8\n",
            "CARCINOMA ADENOIDE CISTICO                                              8\n",
            "ADENOCARCINOMA APOCRINO                                                 8\n",
            "DOENCA DE PAGET E CARCINOMA DUCTAL INFILTRANTE DA MAMA                  8\n",
            "ADENOCARCINOMA PAPILAR SOE                                              5\n",
            "TUMOR FILODES MALIGNO                                                   5\n",
            "ADENOCARCINOMA TUBULAR                                                  4\n",
            "DOENCA DE PAGET MAMARIA                                                 3\n",
            "CARCINOMA DUCTULAR INFILTRANTE                                          3\n",
            "CARCINOMA PAPILAR IN SITU                                               3\n",
            "CARCINOMA ESCAMOCELULAR SOE                                             3\n",
            "CARCINOMA LOBULAR IN SITU SOE                                           2\n",
            "SARCOMA SOE                                                             2\n",
            "DOENCA DE PAGET E CARCINOMA INTRADUCTAL DA MAMA                         2\n",
            "CARCINOMA DE CELULAS EM ANEL DE SINETE                                  2\n",
            "CARCINOMA MEDULAR ATIPICO                                               2\n",
            "CARCINOMA NEUROENDOCRINO SOE                                            2\n",
            "ADENOCARCINOMA SOE                                                      2\n",
            "SARCOMA HISTIOCITICO                                                    1\n",
            "CARCINOMA PSEUDOSARCOMATOSO                                             1\n",
            "CARCINOMA INFLAMATORIO                                                  1\n",
            "CARCINOMA CRIBRIFORME SOE                                               1\n",
            "CARCINOMA INDIFERENCIADO SOE                                            1\n",
            "CARCINOMA ESCAMOSO CERATINIZADO SOE                                     1\n",
            "CARCINOSSARCOMA SOE                                                     1\n",
            "CARCINOMA SOLIDO SOE                                                    1\n",
            "CARCINOMA INTRACISTICO NAO INFILTRANTE                                  1\n",
            "ADENOCARCINOMA DE CELULAS CLARAS SOE                                    1\n",
            "DERMATOFIBROSSARCOMA SOE                                                1\n",
            "LEIOMIOSSARCOMA SOE                                                     1\n",
            "CARCINOMA PLEOMORFICO                                                   1\n",
            "Name: descricao_da_morfologia_acordo_com_o_cid_o_cid_o_3_edicao, dtype: int64 \n",
            "\n",
            "descricao_da_topografia_ :\n",
            " MAMA SOE (EXCLUI PELE DA MAMA C44.5)    1927\n",
            "MAMA QUADRANTE SUPERIOR EXTERNO DA      1155\n",
            "MAMA QUADRANTE SUPERIOR INTERNO DA       282\n",
            "MAMA QUADRANTE INFERIOR EXTERNO DA       247\n",
            "MAMA LESAO SOBREPOSTA DA                 175\n",
            "MAMA QUADRANTE INFERIOR INTERNO DA       174\n",
            "MAMA MAMILO                              168\n",
            "MAMA PORCAO CENTRAL DA                   131\n",
            "MAMA PORCAO AXILAR DA                      9\n",
            "Name: descricao_da_topografia_, dtype: int64 \n",
            "\n",
            "classificacao_tnm_patologico_n :\n",
            " X - nao foi possivel determinar    4085\n",
            "0                                   101\n",
            "1                                    44\n",
            "2                                    14\n",
            "2A                                    9\n",
            "3                                     8\n",
            "3A                                    4\n",
            "3B                                    2\n",
            "3C                                    1\n",
            "Name: classificacao_tnm_patologico_n, dtype: int64 \n",
            "\n",
            "classificacao_tnm_patologico_t :\n",
            " X - nao foi possivel determinar    4082\n",
            "2                                    81\n",
            "1C                                   33\n",
            "3                                    21\n",
            "1                                    16\n",
            "1B                                   11\n",
            "1A                                    7\n",
            "4B                                    7\n",
            "IS                                    3\n",
            "IV                                    3\n",
            "4D                                    1\n",
            "4C                                    1\n",
            "1MIC                                  1\n",
            "2C                                    1\n",
            "Name: classificacao_tnm_patologico_t, dtype: int64 \n",
            "\n",
            "com_recidiva_distancia :\n",
            " Não    3500\n",
            "Sim     768\n",
            "Name: com_recidiva_distancia, dtype: int64 \n",
            "\n",
            "com_recidiva_regional :\n",
            " Não    3998\n",
            "Sim     270\n",
            "Name: com_recidiva_regional, dtype: int64 \n",
            "\n",
            "com_recidiva_local :\n",
            " Não    3937\n",
            "Sim     331\n",
            "Name: com_recidiva_local, dtype: int64 \n",
            "\n"
          ]
        }
      ],
      "source": [
        "# visualizando o corpo da tabela\n",
        "for coluna in dfrt:\n",
        "    print(coluna, ':\\n', dfrt[coluna].value_counts(), '\\n')\n",
        "\n"
      ]
    },
    {
      "cell_type": "markdown",
      "metadata": {
        "id": "0ot3nd7yNrlu"
      },
      "source": [
        "### 2.1.6 Tratando o Estadio Clínico e TNM"
      ]
    },
    {
      "cell_type": "code",
      "execution_count": null,
      "metadata": {
        "colab": {
          "base_uri": "https://localhost:8080/"
        },
        "id": "nMeelRQlN0Cf",
        "outputId": "45a94c70-623b-46a2-ad1a-e4fbaf861654"
      },
      "outputs": [
        {
          "output_type": "execute_result",
          "data": {
            "text/plain": [
              "IIA                                908\n",
              "IIIA                               722\n",
              "IIB                                715\n",
              "4                                  545\n",
              "IIIB                               460\n",
              "IA                                 408\n",
              "I                                  240\n",
              "IIIC                               183\n",
              "0                                   37\n",
              "IB                                  36\n",
              "X - nao foi possivel determinar     14\n",
              "Name: estadio_clinico, dtype: int64"
            ]
          },
          "metadata": {},
          "execution_count": 18
        }
      ],
      "source": [
        "dfrt['estadio_clinico']=np.where((dfrt['classificacao_tnm_clinico_m']=='1'), 4, dfrt['estadio_clinico'])\n",
        "dfrt['estadio_clinico'].value_counts()"
      ]
    },
    {
      "cell_type": "code",
      "execution_count": null,
      "metadata": {
        "colab": {
          "base_uri": "https://localhost:8080/"
        },
        "id": "A-kQCfqJQerA",
        "outputId": "21314013-0040-42fe-9094-a316299bd327"
      },
      "outputs": [
        {
          "output_type": "execute_result",
          "data": {
            "text/plain": [
              "IIA                                908\n",
              "IIIA                               722\n",
              "IIB                                715\n",
              "4                                  482\n",
              "IIIB                               460\n",
              "IA                                 408\n",
              "3c                                 246\n",
              "I                                  240\n",
              "0                                   37\n",
              "IB                                  36\n",
              "X - nao foi possivel determinar     14\n",
              "Name: estadio_clinico, dtype: int64"
            ]
          },
          "metadata": {},
          "execution_count": 19
        }
      ],
      "source": [
        "dfrt['estadio_clinico']=np.where(((dfrt['classificacao_tnm_clinico_n']=='3')|(dfrt['estadio_clinico']=='IIIC')), '3c', dfrt['estadio_clinico'])\n",
        "dfrt['estadio_clinico'].value_counts()"
      ]
    },
    {
      "cell_type": "code",
      "execution_count": null,
      "metadata": {
        "colab": {
          "base_uri": "https://localhost:8080/"
        },
        "id": "HavtCBZ2Km_I",
        "outputId": "6781dee1-32b1-46db-f806-e6fa602e6c25"
      },
      "outputs": [
        {
          "output_type": "execute_result",
          "data": {
            "text/plain": [
              "array(['IIA', 'IIIA', 'IIB', 4, 'IIIB', '3c', 'I', '0',\n",
              "       'X - nao foi possivel determinar', 'IA', 'IB'], dtype=object)"
            ]
          },
          "metadata": {},
          "execution_count": 20
        }
      ],
      "source": [
        "dfrt['estadio_clinico'].unique()"
      ]
    },
    {
      "cell_type": "code",
      "execution_count": null,
      "metadata": {
        "colab": {
          "base_uri": "https://localhost:8080/"
        },
        "id": "J-9lGcSQHX8S",
        "outputId": "fd634cf3-f77d-46f1-f84c-1b5c8f0e4d8c"
      },
      "outputs": [
        {
          "output_type": "execute_result",
          "data": {
            "text/plain": [
              "array(['0', '1', '2', '3', '3C', '2A', '3A', '3B',\n",
              "       'X - nao foi possivel determinar', '2B'], dtype=object)"
            ]
          },
          "metadata": {},
          "execution_count": 21
        }
      ],
      "source": [
        "dfrt['classificacao_tnm_clinico_n'].unique()"
      ]
    },
    {
      "cell_type": "code",
      "execution_count": null,
      "metadata": {
        "colab": {
          "base_uri": "https://localhost:8080/"
        },
        "id": "AFAnu3eJHiYw",
        "outputId": "48119a9d-ac89-4f61-af1e-b4bbd0e815b5"
      },
      "outputs": [
        {
          "output_type": "execute_result",
          "data": {
            "text/plain": [
              "array(['0', '1', 'X - nao foi possivel determinar'], dtype=object)"
            ]
          },
          "metadata": {},
          "execution_count": 22
        }
      ],
      "source": [
        "dfrt['classificacao_tnm_clinico_m'].unique()"
      ]
    },
    {
      "cell_type": "code",
      "execution_count": null,
      "metadata": {
        "colab": {
          "base_uri": "https://localhost:8080/"
        },
        "id": "NN6cPpHtqvAQ",
        "outputId": "c6e92f2c-1eb3-423c-da29-b5fcdc255cfb"
      },
      "outputs": [
        {
          "output_type": "execute_result",
          "data": {
            "text/plain": [
              "array(['2', '3', '1', '1C', '4', '4B', 'IS', '1B', '4D', '4A', '1A',\n",
              "       'X - nao foi possivel determinar', '0', '4C', '1MIC', 'CDIS',\n",
              "       'CLIS'], dtype=object)"
            ]
          },
          "metadata": {},
          "execution_count": 23
        }
      ],
      "source": [
        "dfrt['classificacao_tnm_clinico_t'].unique()"
      ]
    },
    {
      "cell_type": "code",
      "execution_count": null,
      "metadata": {
        "colab": {
          "base_uri": "https://localhost:8080/"
        },
        "id": "poTN1UIAHokl",
        "outputId": "5acde5cc-6591-410e-956d-2f19831f44eb"
      },
      "outputs": [
        {
          "output_type": "execute_result",
          "data": {
            "text/plain": [
              "2                                  1608\n",
              "3                                   852\n",
              "1C                                  579\n",
              "4B                                  489\n",
              "4D                                  135\n",
              "1B                                  133\n",
              "4                                   128\n",
              "1                                   126\n",
              "1A                                   73\n",
              "4C                                   42\n",
              "X - nao foi possivel determinar      34\n",
              "IS                                   27\n",
              "4A                                   23\n",
              "CDIS                                  9\n",
              "1MIC                                  6\n",
              "0                                     3\n",
              "CLIS                                  1\n",
              "Name: classificacao_tnm_clinico_t, dtype: int64"
            ]
          },
          "metadata": {},
          "execution_count": 24
        }
      ],
      "source": [
        "dfrt['classificacao_tnm_clinico_t'].value_counts()"
      ]
    },
    {
      "cell_type": "code",
      "execution_count": null,
      "metadata": {
        "id": "9n7fwHYvlnjg"
      },
      "outputs": [],
      "source": [
        "dfrt['classificacao_tnm_clinico_t']=np.where((dfrt['classificacao_tnm_clinico_t']=='CDIS') | (dfrt['classificacao_tnm_clinico_t']=='CLIS') | (dfrt['classificacao_tnm_clinico_t']=='IS') | (dfrt['classificacao_tnm_clinico_t']=='1MIC'), '0', dfrt['classificacao_tnm_clinico_t'])"
      ]
    },
    {
      "cell_type": "code",
      "execution_count": null,
      "metadata": {
        "colab": {
          "base_uri": "https://localhost:8080/"
        },
        "id": "pxyA7JL6REgO",
        "outputId": "08209072-aac5-4598-9882-f0a0cca2185f"
      },
      "outputs": [
        {
          "output_type": "execute_result",
          "data": {
            "text/plain": [
              "IIA                                908\n",
              "IIIA                               722\n",
              "IIB                                715\n",
              "3b                                 498\n",
              "4                                  445\n",
              "IA                                 408\n",
              "3c                                 245\n",
              "I                                  240\n",
              "0                                   37\n",
              "IB                                  36\n",
              "X - nao foi possivel determinar     14\n",
              "Name: estadio_clinico, dtype: int64"
            ]
          },
          "metadata": {},
          "execution_count": 26
        }
      ],
      "source": [
        "dfrt['estadio_clinico']=np.where(((dfrt['classificacao_tnm_clinico_t']=='4')&(dfrt['classificacao_tnm_clinico_n']!='3')|(dfrt['estadio_clinico']=='IIIB')), '3b', dfrt['estadio_clinico'])\n",
        "dfrt['estadio_clinico'].value_counts()"
      ]
    },
    {
      "cell_type": "code",
      "execution_count": null,
      "metadata": {
        "colab": {
          "base_uri": "https://localhost:8080/"
        },
        "id": "xDO1RuiuSBMv",
        "outputId": "45ef1565-d371-40e6-88c1-fc3720bcf136"
      },
      "outputs": [
        {
          "output_type": "execute_result",
          "data": {
            "text/plain": [
              "IIA                                908\n",
              "IIB                                715\n",
              "3b                                 498\n",
              "IIIA                               487\n",
              "4                                  415\n",
              "IA                                 408\n",
              "3a                                 265\n",
              "3c                                 245\n",
              "I                                  240\n",
              "0                                   37\n",
              "IB                                  36\n",
              "X - nao foi possivel determinar     14\n",
              "Name: estadio_clinico, dtype: int64"
            ]
          },
          "metadata": {},
          "execution_count": 27
        }
      ],
      "source": [
        "# dfrt['estadio_clinico']=np.where(\n",
        "#     (\n",
        "#         (\n",
        "#             (dfrt['classificacao_tnm_clinico_t']<'3') & (dfrt['classificacao_tnm_clinico_n']=='2' ))|\n",
        "#      ((dfrt['classificacao_tnm_clinico_t']=='3')&(dfrt['classificacao_tnm_clinico_n']=='2'|dfrt['classificacao_tnm_clinico_n']=='1'))), '3a', dfrt['estadio_clinico'])\n",
        "# dfrt['estadio_clinico'].value_counts()\n",
        "\n",
        "dfrt['estadio_clinico']=np.where((dfrt['classificacao_tnm_clinico_t']<'3') & (dfrt['classificacao_tnm_clinico_n']=='2'), '3a', dfrt['estadio_clinico'] )\n",
        "dfrt['estadio_clinico']=np.where((dfrt['classificacao_tnm_clinico_t']=='3')&(dfrt['classificacao_tnm_clinico_n']=='2'), '3a', dfrt['estadio_clinico'])\n",
        "dfrt['estadio_clinico'].value_counts()"
      ]
    },
    {
      "cell_type": "code",
      "execution_count": null,
      "metadata": {
        "colab": {
          "base_uri": "https://localhost:8080/"
        },
        "id": "XCQw-ilRTcdj",
        "outputId": "8328e372-b842-4956-ff17-646336412655"
      },
      "outputs": [
        {
          "output_type": "execute_result",
          "data": {
            "text/plain": [
              "2a                                 909\n",
              "3a                                 722\n",
              "2b                                 716\n",
              "4                                  545\n",
              "1a                                 470\n",
              "3b                                 461\n",
              "3c                                 182\n",
              "I                                  178\n",
              "0                                   37\n",
              "1b                                  34\n",
              "X - nao foi possivel determinar     14\n",
              "Name: estadio_clinico, dtype: int64"
            ]
          },
          "metadata": {},
          "execution_count": 28
        }
      ],
      "source": [
        "def estadio_clinico(row):\n",
        "  if row['classificacao_tnm_clinico_m']=='1':\n",
        "    row['estadio_clinico']='4'\n",
        "  elif row['classificacao_tnm_clinico_n']=='3':\n",
        "    row['estadio_clinico']='3c'\n",
        "  elif row['classificacao_tnm_clinico_t']=='4' and row['classificacao_tnm_clinico_n']!='3':\n",
        "    row['estadio_clinico']='3b'\n",
        "  elif (row['classificacao_tnm_clinico_t']<'3'and row['classificacao_tnm_clinico_n']=='2') or ((row['classificacao_tnm_clinico_t']=='3') and ((row['classificacao_tnm_clinico_n']=='2')or(row['classificacao_tnm_clinico_n']=='1'))):\n",
        "    row['estadio_clinico']='3a'\n",
        "  elif (row['classificacao_tnm_clinico_t']=='3' and row['classificacao_tnm_clinico_n']=='0')or (row['classificacao_tnm_clinico_t']=='2' and row['classificacao_tnm_clinico_n']=='1'):\n",
        "    row['estadio_clinico']='2b'\n",
        "  elif ((row['classificacao_tnm_clinico_n']=='1')and((row['classificacao_tnm_clinico_t']=='0')or(row['classificacao_tnm_clinico_t']=='1'))or((row['classificacao_tnm_clinico_n']=='0')and(row['classificacao_tnm_clinico_t']=='2'))):\n",
        "    row['estadio_clinico']='2a'\n",
        "  #elif row['classificacao_tnm_clinico_n']=='1'and((row['classificacao_tnm_clinico_t']=='0')or(row['classificacao_tnm_clinico_t']=='1')):\n",
        "  # row['estadio_clinico']='1b'\n",
        "  elif row['classificacao_tnm_clinico_t']=='1' and row['classificacao_tnm_clinico_n']=='0':\n",
        "    row['estadio_clinico']='1a'\n",
        "  elif row['classificacao_tnm_clinico_t']=='IS':\n",
        "    row['estadio_clinico']='0'\n",
        "  elif row['estadio_clinico']=='IA':\n",
        "    row['estadio_clinico']='1a'\n",
        "  elif row['estadio_clinico']=='IIA':\n",
        "    row['estadio_clinico']='2a'\n",
        "  elif row['estadio_clinico']=='IIIA': \n",
        "    row['estadio_clinico']='3a'\n",
        "  elif row['estadio_clinico']=='IB':\n",
        "    row['estadio_clinico']='1b'\n",
        "  elif row['estadio_clinico']=='IIB':\n",
        "    row['estadio_clinico']='2b'\n",
        "  elif row['estadio_clinico']=='IIIB':\n",
        "    row['estadio_clinico']='3b'\n",
        "  elif row['estadio_clinico']=='IC':\n",
        "    row['estadio_clinico']='1c'\n",
        "  elif row['estadio_clinico']=='IIC':\n",
        "    row['estadio_clinico']='2c'\n",
        "  elif row['estadio_clinico']=='IIIC':\n",
        "    row['estadio_clinico']='3c'\n",
        "  \n",
        "  return row\n",
        "\n",
        "dfrt = dfrt.apply(estadio_clinico, axis=1) \n",
        "dfrt['estadio_clinico'].value_counts()"
      ]
    },
    {
      "cell_type": "code",
      "execution_count": null,
      "metadata": {
        "colab": {
          "base_uri": "https://localhost:8080/"
        },
        "id": "X18pFDEOnm8F",
        "outputId": "cc6a86d6-5295-4dca-dcce-8bc6661b2d5f"
      },
      "outputs": [
        {
          "output_type": "execute_result",
          "data": {
            "text/plain": [
              "0                                  1775\n",
              "1                                  1395\n",
              "2                                   754\n",
              "3                                   304\n",
              "X - nao foi possivel determinar      40\n",
              "Name: classificacao_tnm_clinico_n, dtype: int64"
            ]
          },
          "metadata": {},
          "execution_count": 29
        }
      ],
      "source": [
        "def tnm_n(row):\n",
        "  if row['classificacao_tnm_clinico_n']=='2A':\n",
        "    row['classificacao_tnm_clinico_n']='2'\n",
        "  if row['classificacao_tnm_clinico_n']=='2B':\n",
        "    row['classificacao_tnm_clinico_n']='2'\n",
        "  if row['classificacao_tnm_clinico_n']=='3A':\n",
        "    row['classificacao_tnm_clinico_n']='3'\n",
        "  if row['classificacao_tnm_clinico_n']=='3B':\n",
        "    row['classificacao_tnm_clinico_n']='3'\n",
        "  if row['classificacao_tnm_clinico_n']=='3C':\n",
        "    row['classificacao_tnm_clinico_n']='3'\n",
        "  return row\n",
        "  \n",
        "dfrt = dfrt.apply(tnm_n, axis=1) \n",
        "dfrt['classificacao_tnm_clinico_n'].value_counts()\n",
        "  "
      ]
    },
    {
      "cell_type": "code",
      "execution_count": null,
      "metadata": {
        "colab": {
          "base_uri": "https://localhost:8080/"
        },
        "id": "RMYn0yWJlhW2",
        "outputId": "321ec35e-cf4f-47eb-d582-6d9e91647880"
      },
      "outputs": [
        {
          "output_type": "execute_result",
          "data": {
            "text/plain": [
              "2                                  1608\n",
              "1                                   911\n",
              "3                                   852\n",
              "4                                   817\n",
              "0                                    46\n",
              "X - nao foi possivel determinar      34\n",
              "Name: classificacao_tnm_clinico_t, dtype: int64"
            ]
          },
          "metadata": {},
          "execution_count": 30
        }
      ],
      "source": [
        "def tnm_t(row):\n",
        "  if row['classificacao_tnm_clinico_t']=='1A':\n",
        "    row['classificacao_tnm_clinico_t']='1'\n",
        "  if row['classificacao_tnm_clinico_t']=='1B':\n",
        "    row['classificacao_tnm_clinico_t']='1'\n",
        "  if row['classificacao_tnm_clinico_t']=='1C':\n",
        "    row['classificacao_tnm_clinico_t']='1'\n",
        "  if row['classificacao_tnm_clinico_t']=='4A':\n",
        "    row['classificacao_tnm_clinico_t']='4'\n",
        "  if row['classificacao_tnm_clinico_t']=='4B':\n",
        "    row['classificacao_tnm_clinico_t']='4'\n",
        "  if row['classificacao_tnm_clinico_t']=='4C':\n",
        "    row['classificacao_tnm_clinico_t']='4'\n",
        "  if row['classificacao_tnm_clinico_t']=='4D':\n",
        "    row['classificacao_tnm_clinico_t']='4'\n",
        "  return row\n",
        "  \n",
        "dfrt = dfrt.apply(tnm_t, axis=1) \n",
        "dfrt['classificacao_tnm_clinico_t'].value_counts()"
      ]
    },
    {
      "cell_type": "code",
      "execution_count": null,
      "metadata": {
        "colab": {
          "base_uri": "https://localhost:8080/"
        },
        "id": "MzC90dTmnJMP",
        "outputId": "ce2fa350-6e30-42e1-f855-55b801dcbf80"
      },
      "outputs": [
        {
          "output_type": "execute_result",
          "data": {
            "text/plain": [
              "2a                                 909\n",
              "3a                                 722\n",
              "2b                                 716\n",
              "4                                  545\n",
              "1a                                 470\n",
              "3b                                 461\n",
              "3c                                 182\n",
              "I                                  178\n",
              "0                                   37\n",
              "1b                                  34\n",
              "X - nao foi possivel determinar     14\n",
              "Name: estadio_clinico, dtype: int64"
            ]
          },
          "metadata": {},
          "execution_count": 31
        }
      ],
      "source": [
        "def tnm(row):\n",
        "  if row['estadio_clinico']=='4':\n",
        "    row['classificacao_tnm_clinico_m']='1'\n",
        "  if row['estadio_clinico']=='0' or row['estadio_clinico']=='1a' or row['estadio_clinico']=='1b' or row['estadio_clinico']=='2a' or row['estadio_clinico']=='2b' or row['estadio_clinico']=='3a' or row['estadio_clinico']=='3b' or row['estadio_clinico']=='3c':\n",
        "    row['classificacao_tnm_clinico_m']='0'\n",
        "  if row['estadio_clinico']=='3c':\n",
        "    row['classificacao_tnm_clinico_n']='3'\n",
        "  if row['estadio_clinico']=='1b':\n",
        "    row['classificacao_tnm_clinico_n']='n1mi'\n",
        "  \n",
        "  return row\n",
        "\n",
        "dfrt = dfrt.apply(tnm, axis=1) \n",
        "dfrt['estadio_clinico'].value_counts()"
      ]
    },
    {
      "cell_type": "code",
      "execution_count": null,
      "metadata": {
        "colab": {
          "base_uri": "https://localhost:8080/"
        },
        "id": "NlZWrUZStxjO",
        "outputId": "33303890-3303-44c7-aeea-17b9b5572142"
      },
      "outputs": [
        {
          "output_type": "execute_result",
          "data": {
            "text/plain": [
              "2                                  1608\n",
              "1                                   911\n",
              "3                                   852\n",
              "4                                   817\n",
              "0                                    46\n",
              "X - nao foi possivel determinar      34\n",
              "Name: classificacao_tnm_clinico_t, dtype: int64"
            ]
          },
          "metadata": {},
          "execution_count": 32
        }
      ],
      "source": [
        "dfrt['classificacao_tnm_clinico_t'].value_counts()"
      ]
    },
    {
      "cell_type": "code",
      "execution_count": null,
      "metadata": {
        "colab": {
          "base_uri": "https://localhost:8080/"
        },
        "id": "NwLMI2PDt4eJ",
        "outputId": "f364b4d1-5f6a-46dd-a437-5dcb7b7b05cc"
      },
      "outputs": [
        {
          "output_type": "execute_result",
          "data": {
            "text/plain": [
              "0                                  3709\n",
              "1                                   545\n",
              "X - nao foi possivel determinar      14\n",
              "Name: classificacao_tnm_clinico_m, dtype: int64"
            ]
          },
          "metadata": {},
          "execution_count": 33
        }
      ],
      "source": [
        "dfrt['classificacao_tnm_clinico_m'].value_counts()"
      ]
    },
    {
      "cell_type": "code",
      "execution_count": null,
      "metadata": {
        "colab": {
          "base_uri": "https://localhost:8080/"
        },
        "id": "R0OulLWht7LM",
        "outputId": "d7dc9a7c-5170-46a7-ea76-a894ba026e7e"
      },
      "outputs": [
        {
          "output_type": "execute_result",
          "data": {
            "text/plain": [
              "0                                  1775\n",
              "1                                  1361\n",
              "2                                   754\n",
              "3                                   304\n",
              "X - nao foi possivel determinar      40\n",
              "n1mi                                 34\n",
              "Name: classificacao_tnm_clinico_n, dtype: int64"
            ]
          },
          "metadata": {},
          "execution_count": 34
        }
      ],
      "source": [
        "dfrt['classificacao_tnm_clinico_n'].value_counts()"
      ]
    },
    {
      "cell_type": "markdown",
      "metadata": {
        "id": "yQPsWhEL1Eci"
      },
      "source": [
        "###2.1.7 Tratando Grupo_estadio_clinico"
      ]
    },
    {
      "cell_type": "code",
      "execution_count": null,
      "metadata": {
        "colab": {
          "base_uri": "https://localhost:8080/"
        },
        "id": "F-HE7dJnQ64w",
        "outputId": "53c09f41-a88d-4886-aaea-49957a75d461"
      },
      "outputs": [
        {
          "output_type": "execute_result",
          "data": {
            "text/plain": [
              "                                   4039\n",
              "I                                   178\n",
              "0                                    37\n",
              "X - nao foi possivel determinar      14\n",
              "Name: new_grupo_estadio_clinico, dtype: int64"
            ]
          },
          "metadata": {},
          "execution_count": 35
        }
      ],
      "source": [
        "#Tratando a coluna Grupo_estado_clinico\n",
        "#Generalização do estadio clinico como também o T da classificação TNM sem suas subcategorias\n",
        "#Irá receber apenas I,II,III ou IV\n",
        "\n",
        "new_grupo_estadio_clinico = []\n",
        "for i in dfrt['estadio_clinico']:\n",
        "  \n",
        "  new_element = ''\n",
        "  if i == '0':\n",
        "    new_element = '0'\n",
        "  elif i == 'I' or i == 'IA' or i == 'IB':\n",
        "    new_element = 'I'\n",
        "  elif i == 'IIA' or i == 'IIB':\n",
        "    new_element = 'II'\n",
        "  elif i == 'IIIA' or i == 'IIIB' or i == 'IIIC':\n",
        "    new_element = 'III'\n",
        "  elif i == 'IV':\n",
        "    new_element = 'IV'\n",
        "  elif i == 'X - nao foi possivel determinar':\n",
        "    new_element = 'X - nao foi possivel determinar'\n",
        "\n",
        "  new_grupo_estadio_clinico.append(new_element)\n",
        "\n",
        "dfrt['new_grupo_estadio_clinico'] = new_grupo_estadio_clinico\n",
        "\n",
        "dfrt['new_grupo_estadio_clinico'].value_counts()"
      ]
    },
    {
      "cell_type": "markdown",
      "metadata": {
        "id": "qu_Dq49n1Pfq"
      },
      "source": [
        "###2.1.8 Tratando colunas com datas"
      ]
    },
    {
      "cell_type": "code",
      "execution_count": null,
      "metadata": {
        "colab": {
          "base_uri": "https://localhost:8080/"
        },
        "id": "UAzMM0PGs9Jj",
        "outputId": "7966c7d7-4c75-44c8-dfba-c44ec632ef5f"
      },
      "outputs": [
        {
          "output_type": "execute_result",
          "data": {
            "text/plain": [
              "  data_da_primeira_consulta_institucional_dt_pci data_do_diagnostico  \\\n",
              "0                                     2008-03-22          2008-03-23   \n",
              "1                                     2006-11-11          2007-11-11   \n",
              "2                                     2007-09-25          2007-12-18   \n",
              "3                                     2008-02-03          2008-02-06   \n",
              "4                                     2008-05-15          2008-05-21   \n",
              "\n",
              "  data_do_tratamento data_recidiva  \n",
              "0         2008-08-15           NaN  \n",
              "1         2008-05-29    2014-07-19  \n",
              "2         2008-04-07           NaN  \n",
              "3         2008-09-29    2010-07-15  \n",
              "4         2008-09-16           NaN  "
            ],
            "text/html": [
              "\n",
              "  <div id=\"df-795e4f53-b68d-4ec8-9ffb-c7ddcd3bb9d5\">\n",
              "    <div class=\"colab-df-container\">\n",
              "      <div>\n",
              "<style scoped>\n",
              "    .dataframe tbody tr th:only-of-type {\n",
              "        vertical-align: middle;\n",
              "    }\n",
              "\n",
              "    .dataframe tbody tr th {\n",
              "        vertical-align: top;\n",
              "    }\n",
              "\n",
              "    .dataframe thead th {\n",
              "        text-align: right;\n",
              "    }\n",
              "</style>\n",
              "<table border=\"1\" class=\"dataframe\">\n",
              "  <thead>\n",
              "    <tr style=\"text-align: right;\">\n",
              "      <th></th>\n",
              "      <th>data_da_primeira_consulta_institucional_dt_pci</th>\n",
              "      <th>data_do_diagnostico</th>\n",
              "      <th>data_do_tratamento</th>\n",
              "      <th>data_recidiva</th>\n",
              "    </tr>\n",
              "  </thead>\n",
              "  <tbody>\n",
              "    <tr>\n",
              "      <th>0</th>\n",
              "      <td>2008-03-22</td>\n",
              "      <td>2008-03-23</td>\n",
              "      <td>2008-08-15</td>\n",
              "      <td>NaN</td>\n",
              "    </tr>\n",
              "    <tr>\n",
              "      <th>1</th>\n",
              "      <td>2006-11-11</td>\n",
              "      <td>2007-11-11</td>\n",
              "      <td>2008-05-29</td>\n",
              "      <td>2014-07-19</td>\n",
              "    </tr>\n",
              "    <tr>\n",
              "      <th>2</th>\n",
              "      <td>2007-09-25</td>\n",
              "      <td>2007-12-18</td>\n",
              "      <td>2008-04-07</td>\n",
              "      <td>NaN</td>\n",
              "    </tr>\n",
              "    <tr>\n",
              "      <th>3</th>\n",
              "      <td>2008-02-03</td>\n",
              "      <td>2008-02-06</td>\n",
              "      <td>2008-09-29</td>\n",
              "      <td>2010-07-15</td>\n",
              "    </tr>\n",
              "    <tr>\n",
              "      <th>4</th>\n",
              "      <td>2008-05-15</td>\n",
              "      <td>2008-05-21</td>\n",
              "      <td>2008-09-16</td>\n",
              "      <td>NaN</td>\n",
              "    </tr>\n",
              "  </tbody>\n",
              "</table>\n",
              "</div>\n",
              "      <button class=\"colab-df-convert\" onclick=\"convertToInteractive('df-795e4f53-b68d-4ec8-9ffb-c7ddcd3bb9d5')\"\n",
              "              title=\"Convert this dataframe to an interactive table.\"\n",
              "              style=\"display:none;\">\n",
              "        \n",
              "  <svg xmlns=\"http://www.w3.org/2000/svg\" height=\"24px\"viewBox=\"0 0 24 24\"\n",
              "       width=\"24px\">\n",
              "    <path d=\"M0 0h24v24H0V0z\" fill=\"none\"/>\n",
              "    <path d=\"M18.56 5.44l.94 2.06.94-2.06 2.06-.94-2.06-.94-.94-2.06-.94 2.06-2.06.94zm-11 1L8.5 8.5l.94-2.06 2.06-.94-2.06-.94L8.5 2.5l-.94 2.06-2.06.94zm10 10l.94 2.06.94-2.06 2.06-.94-2.06-.94-.94-2.06-.94 2.06-2.06.94z\"/><path d=\"M17.41 7.96l-1.37-1.37c-.4-.4-.92-.59-1.43-.59-.52 0-1.04.2-1.43.59L10.3 9.45l-7.72 7.72c-.78.78-.78 2.05 0 2.83L4 21.41c.39.39.9.59 1.41.59.51 0 1.02-.2 1.41-.59l7.78-7.78 2.81-2.81c.8-.78.8-2.07 0-2.86zM5.41 20L4 18.59l7.72-7.72 1.47 1.35L5.41 20z\"/>\n",
              "  </svg>\n",
              "      </button>\n",
              "      \n",
              "  <style>\n",
              "    .colab-df-container {\n",
              "      display:flex;\n",
              "      flex-wrap:wrap;\n",
              "      gap: 12px;\n",
              "    }\n",
              "\n",
              "    .colab-df-convert {\n",
              "      background-color: #E8F0FE;\n",
              "      border: none;\n",
              "      border-radius: 50%;\n",
              "      cursor: pointer;\n",
              "      display: none;\n",
              "      fill: #1967D2;\n",
              "      height: 32px;\n",
              "      padding: 0 0 0 0;\n",
              "      width: 32px;\n",
              "    }\n",
              "\n",
              "    .colab-df-convert:hover {\n",
              "      background-color: #E2EBFA;\n",
              "      box-shadow: 0px 1px 2px rgba(60, 64, 67, 0.3), 0px 1px 3px 1px rgba(60, 64, 67, 0.15);\n",
              "      fill: #174EA6;\n",
              "    }\n",
              "\n",
              "    [theme=dark] .colab-df-convert {\n",
              "      background-color: #3B4455;\n",
              "      fill: #D2E3FC;\n",
              "    }\n",
              "\n",
              "    [theme=dark] .colab-df-convert:hover {\n",
              "      background-color: #434B5C;\n",
              "      box-shadow: 0px 1px 3px 1px rgba(0, 0, 0, 0.15);\n",
              "      filter: drop-shadow(0px 1px 2px rgba(0, 0, 0, 0.3));\n",
              "      fill: #FFFFFF;\n",
              "    }\n",
              "  </style>\n",
              "\n",
              "      <script>\n",
              "        const buttonEl =\n",
              "          document.querySelector('#df-795e4f53-b68d-4ec8-9ffb-c7ddcd3bb9d5 button.colab-df-convert');\n",
              "        buttonEl.style.display =\n",
              "          google.colab.kernel.accessAllowed ? 'block' : 'none';\n",
              "\n",
              "        async function convertToInteractive(key) {\n",
              "          const element = document.querySelector('#df-795e4f53-b68d-4ec8-9ffb-c7ddcd3bb9d5');\n",
              "          const dataTable =\n",
              "            await google.colab.kernel.invokeFunction('convertToInteractive',\n",
              "                                                     [key], {});\n",
              "          if (!dataTable) return;\n",
              "\n",
              "          const docLinkHtml = 'Like what you see? Visit the ' +\n",
              "            '<a target=\"_blank\" href=https://colab.research.google.com/notebooks/data_table.ipynb>data table notebook</a>'\n",
              "            + ' to learn more about interactive tables.';\n",
              "          element.innerHTML = '';\n",
              "          dataTable['output_type'] = 'display_data';\n",
              "          await google.colab.output.renderOutput(dataTable, element);\n",
              "          const docLink = document.createElement('div');\n",
              "          docLink.innerHTML = docLinkHtml;\n",
              "          element.appendChild(docLink);\n",
              "        }\n",
              "      </script>\n",
              "    </div>\n",
              "  </div>\n",
              "  "
            ]
          },
          "metadata": {},
          "execution_count": 36
        }
      ],
      "source": [
        "dfrt[['data_da_primeira_consulta_institucional_dt_pci', 'data_do_diagnostico', 'data_do_tratamento', 'data_recidiva']].head()"
      ]
    },
    {
      "cell_type": "code",
      "execution_count": null,
      "metadata": {
        "colab": {
          "base_uri": "https://localhost:8080/"
        },
        "id": "gNYvjBZLu7hK",
        "outputId": "d2a6c9cb-0e17-4f11-f16e-8bb37d262d7c"
      },
      "outputs": [
        {
          "output_type": "execute_result",
          "data": {
            "text/plain": [
              "3020"
            ]
          },
          "metadata": {},
          "execution_count": 37
        }
      ],
      "source": [
        "#A Data_recidiva possui muitos nulos uma vez que muitas pessoas não tiveram recidiva\n",
        "#encontrar quais paciente são nulos e tiveram recidiva\n",
        "dfrt['data_recidiva'].isna().sum()"
      ]
    },
    {
      "cell_type": "code",
      "execution_count": null,
      "metadata": {
        "id": "v9TWEzVzs6IB"
      },
      "outputs": [],
      "source": [
        "#Transformando as datas em datetime para poderem ser manipuladas\n",
        "dfrt['data_da_primeira_consulta_institucional_dt_pci'] = pd.to_datetime(dfrt['data_da_primeira_consulta_institucional_dt_pci'], format='%Y-%m-%d')\n",
        "dfrt['data_do_diagnostico'] = pd.to_datetime(dfrt['data_do_diagnostico'], format='%Y-%m-%d')\n",
        "dfrt['data_do_tratamento'] = pd.to_datetime(dfrt['data_do_tratamento'], format='%Y-%m-%d')\n",
        "dfrt['data_recidiva'] = pd.to_datetime(dfrt['data_recidiva'], format='%Y-%m-%d')"
      ]
    },
    {
      "cell_type": "code",
      "execution_count": null,
      "metadata": {
        "colab": {
          "base_uri": "https://localhost:8080/"
        },
        "id": "8gxfopVzwCcP",
        "outputId": "c9589b61-ec86-4468-f976-80d20b6691c0"
      },
      "outputs": [
        {
          "output_type": "execute_result",
          "data": {
            "text/plain": [
              "  data_da_primeira_consulta_institucional_dt_pci data_do_diagnostico  \\\n",
              "0                                     2008-03-22          2008-03-23   \n",
              "1                                     2006-11-11          2007-11-11   \n",
              "2                                     2007-09-25          2007-12-18   \n",
              "3                                     2008-02-03          2008-02-06   \n",
              "4                                     2008-05-15          2008-05-21   \n",
              "\n",
              "  data_do_tratamento data_recidiva  \n",
              "0         2008-08-15           NaT  \n",
              "1         2008-05-29    2014-07-19  \n",
              "2         2008-04-07           NaT  \n",
              "3         2008-09-29    2010-07-15  \n",
              "4         2008-09-16           NaT  "
            ],
            "text/html": [
              "\n",
              "  <div id=\"df-73a7019a-8722-462e-a6c3-26139d3b7e35\">\n",
              "    <div class=\"colab-df-container\">\n",
              "      <div>\n",
              "<style scoped>\n",
              "    .dataframe tbody tr th:only-of-type {\n",
              "        vertical-align: middle;\n",
              "    }\n",
              "\n",
              "    .dataframe tbody tr th {\n",
              "        vertical-align: top;\n",
              "    }\n",
              "\n",
              "    .dataframe thead th {\n",
              "        text-align: right;\n",
              "    }\n",
              "</style>\n",
              "<table border=\"1\" class=\"dataframe\">\n",
              "  <thead>\n",
              "    <tr style=\"text-align: right;\">\n",
              "      <th></th>\n",
              "      <th>data_da_primeira_consulta_institucional_dt_pci</th>\n",
              "      <th>data_do_diagnostico</th>\n",
              "      <th>data_do_tratamento</th>\n",
              "      <th>data_recidiva</th>\n",
              "    </tr>\n",
              "  </thead>\n",
              "  <tbody>\n",
              "    <tr>\n",
              "      <th>0</th>\n",
              "      <td>2008-03-22</td>\n",
              "      <td>2008-03-23</td>\n",
              "      <td>2008-08-15</td>\n",
              "      <td>NaT</td>\n",
              "    </tr>\n",
              "    <tr>\n",
              "      <th>1</th>\n",
              "      <td>2006-11-11</td>\n",
              "      <td>2007-11-11</td>\n",
              "      <td>2008-05-29</td>\n",
              "      <td>2014-07-19</td>\n",
              "    </tr>\n",
              "    <tr>\n",
              "      <th>2</th>\n",
              "      <td>2007-09-25</td>\n",
              "      <td>2007-12-18</td>\n",
              "      <td>2008-04-07</td>\n",
              "      <td>NaT</td>\n",
              "    </tr>\n",
              "    <tr>\n",
              "      <th>3</th>\n",
              "      <td>2008-02-03</td>\n",
              "      <td>2008-02-06</td>\n",
              "      <td>2008-09-29</td>\n",
              "      <td>2010-07-15</td>\n",
              "    </tr>\n",
              "    <tr>\n",
              "      <th>4</th>\n",
              "      <td>2008-05-15</td>\n",
              "      <td>2008-05-21</td>\n",
              "      <td>2008-09-16</td>\n",
              "      <td>NaT</td>\n",
              "    </tr>\n",
              "  </tbody>\n",
              "</table>\n",
              "</div>\n",
              "      <button class=\"colab-df-convert\" onclick=\"convertToInteractive('df-73a7019a-8722-462e-a6c3-26139d3b7e35')\"\n",
              "              title=\"Convert this dataframe to an interactive table.\"\n",
              "              style=\"display:none;\">\n",
              "        \n",
              "  <svg xmlns=\"http://www.w3.org/2000/svg\" height=\"24px\"viewBox=\"0 0 24 24\"\n",
              "       width=\"24px\">\n",
              "    <path d=\"M0 0h24v24H0V0z\" fill=\"none\"/>\n",
              "    <path d=\"M18.56 5.44l.94 2.06.94-2.06 2.06-.94-2.06-.94-.94-2.06-.94 2.06-2.06.94zm-11 1L8.5 8.5l.94-2.06 2.06-.94-2.06-.94L8.5 2.5l-.94 2.06-2.06.94zm10 10l.94 2.06.94-2.06 2.06-.94-2.06-.94-.94-2.06-.94 2.06-2.06.94z\"/><path d=\"M17.41 7.96l-1.37-1.37c-.4-.4-.92-.59-1.43-.59-.52 0-1.04.2-1.43.59L10.3 9.45l-7.72 7.72c-.78.78-.78 2.05 0 2.83L4 21.41c.39.39.9.59 1.41.59.51 0 1.02-.2 1.41-.59l7.78-7.78 2.81-2.81c.8-.78.8-2.07 0-2.86zM5.41 20L4 18.59l7.72-7.72 1.47 1.35L5.41 20z\"/>\n",
              "  </svg>\n",
              "      </button>\n",
              "      \n",
              "  <style>\n",
              "    .colab-df-container {\n",
              "      display:flex;\n",
              "      flex-wrap:wrap;\n",
              "      gap: 12px;\n",
              "    }\n",
              "\n",
              "    .colab-df-convert {\n",
              "      background-color: #E8F0FE;\n",
              "      border: none;\n",
              "      border-radius: 50%;\n",
              "      cursor: pointer;\n",
              "      display: none;\n",
              "      fill: #1967D2;\n",
              "      height: 32px;\n",
              "      padding: 0 0 0 0;\n",
              "      width: 32px;\n",
              "    }\n",
              "\n",
              "    .colab-df-convert:hover {\n",
              "      background-color: #E2EBFA;\n",
              "      box-shadow: 0px 1px 2px rgba(60, 64, 67, 0.3), 0px 1px 3px 1px rgba(60, 64, 67, 0.15);\n",
              "      fill: #174EA6;\n",
              "    }\n",
              "\n",
              "    [theme=dark] .colab-df-convert {\n",
              "      background-color: #3B4455;\n",
              "      fill: #D2E3FC;\n",
              "    }\n",
              "\n",
              "    [theme=dark] .colab-df-convert:hover {\n",
              "      background-color: #434B5C;\n",
              "      box-shadow: 0px 1px 3px 1px rgba(0, 0, 0, 0.15);\n",
              "      filter: drop-shadow(0px 1px 2px rgba(0, 0, 0, 0.3));\n",
              "      fill: #FFFFFF;\n",
              "    }\n",
              "  </style>\n",
              "\n",
              "      <script>\n",
              "        const buttonEl =\n",
              "          document.querySelector('#df-73a7019a-8722-462e-a6c3-26139d3b7e35 button.colab-df-convert');\n",
              "        buttonEl.style.display =\n",
              "          google.colab.kernel.accessAllowed ? 'block' : 'none';\n",
              "\n",
              "        async function convertToInteractive(key) {\n",
              "          const element = document.querySelector('#df-73a7019a-8722-462e-a6c3-26139d3b7e35');\n",
              "          const dataTable =\n",
              "            await google.colab.kernel.invokeFunction('convertToInteractive',\n",
              "                                                     [key], {});\n",
              "          if (!dataTable) return;\n",
              "\n",
              "          const docLinkHtml = 'Like what you see? Visit the ' +\n",
              "            '<a target=\"_blank\" href=https://colab.research.google.com/notebooks/data_table.ipynb>data table notebook</a>'\n",
              "            + ' to learn more about interactive tables.';\n",
              "          element.innerHTML = '';\n",
              "          dataTable['output_type'] = 'display_data';\n",
              "          await google.colab.output.renderOutput(dataTable, element);\n",
              "          const docLink = document.createElement('div');\n",
              "          docLink.innerHTML = docLinkHtml;\n",
              "          element.appendChild(docLink);\n",
              "        }\n",
              "      </script>\n",
              "    </div>\n",
              "  </div>\n",
              "  "
            ]
          },
          "metadata": {},
          "execution_count": 39
        }
      ],
      "source": [
        "dfrt[['data_da_primeira_consulta_institucional_dt_pci', 'data_do_diagnostico', 'data_do_tratamento', 'data_recidiva']].head()"
      ]
    },
    {
      "cell_type": "code",
      "execution_count": null,
      "metadata": {
        "colab": {
          "base_uri": "https://localhost:8080/"
        },
        "id": "LbyjdHMjYwKZ",
        "outputId": "61668af6-a522-489f-d7cd-5a83353b4a95"
      },
      "outputs": [
        {
          "output_type": "stream",
          "name": "stdout",
          "text": [
            "<class 'pandas.core.frame.DataFrame'>\n",
            "RangeIndex: 4268 entries, 0 to 4267\n",
            "Data columns (total 34 columns):\n",
            " #   Column                                                     Non-Null Count  Dtype         \n",
            "---  ------                                                     --------------  -----         \n",
            " 0   index                                                      4268 non-null   int64         \n",
            " 1   record_id                                                  4268 non-null   int64         \n",
            " 2   repeat_instance                                            4268 non-null   float64       \n",
            " 3   data_da_primeira_consulta_institucional_dt_pci             4268 non-null   datetime64[ns]\n",
            " 4   data_do_diagnostico                                        4268 non-null   datetime64[ns]\n",
            " 5   codigo_da_topografia_cid_o                                 4268 non-null   object        \n",
            " 6   codigo_da_morfologia_cid_o                                 4268 non-null   float64       \n",
            " 7   estadio_clinico                                            4268 non-null   object        \n",
            " 8   grupo_estadio_clinico                                      4268 non-null   object        \n",
            " 9   classificacao_tnm_clinico_t                                4268 non-null   object        \n",
            " 10  classificacao_tnm_clinico_n                                4268 non-null   object        \n",
            " 11  classificacao_tnm_clinico_m                                4268 non-null   object        \n",
            " 12  metastase_diagnostico_cid_o_1                              4268 non-null   object        \n",
            " 13  metastase_diagnostico_cid_o_2                              4268 non-null   object        \n",
            " 14  metastase_diagnostico_cid_o_3                              4268 non-null   object        \n",
            " 15  metastase_diagnostico_cid_o_4                              4268 non-null   object        \n",
            " 16  data_do_tratamento                                         4241 non-null   datetime64[ns]\n",
            " 17  combinacao_dos_tratamentos_realizados_no_hospital          4268 non-null   object        \n",
            " 18  Ano do diagnóstico                                         4268 non-null   float64       \n",
            " 19  lateralidade_do_tumor                                      4268 non-null   object        \n",
            " 20  data_recidiva                                              1248 non-null   datetime64[ns]\n",
            " 21  tempo_desde_o_diagnostico_ate_primeira_recidiva_           4268 non-null   object        \n",
            " 22  local_recidiva_a _distancia_metastase_1_cid_o_topografia   4268 non-null   object        \n",
            " 23  local_recidiva_a _distancia_metastase_2_cid_o_topografia   4268 non-null   object        \n",
            " 24  local_recidiva_a _distancia_metastase_3_cid_o_topografia   4268 non-null   object        \n",
            " 25  local_recidiva_a _distancia_metastase_4_cid_o_topografia   4268 non-null   object        \n",
            " 26  descricao_da_morfologia_acordo_com_o_cid_o_cid_o_3_edicao  4268 non-null   object        \n",
            " 27  descricao_da_topografia_                                   4268 non-null   object        \n",
            " 28  classificacao_tnm_patologico_n                             4268 non-null   object        \n",
            " 29  classificacao_tnm_patologico_t                             4268 non-null   object        \n",
            " 30  com_recidiva_distancia                                     4268 non-null   object        \n",
            " 31  com_recidiva_regional                                      4268 non-null   object        \n",
            " 32  com_recidiva_local                                         4268 non-null   object        \n",
            " 33  new_grupo_estadio_clinico                                  4268 non-null   object        \n",
            "dtypes: datetime64[ns](4), float64(3), int64(2), object(25)\n",
            "memory usage: 1.1+ MB\n"
          ]
        }
      ],
      "source": [
        "dfrt.info()"
      ]
    },
    {
      "cell_type": "code",
      "execution_count": null,
      "metadata": {
        "id": "Gtgflp5uYKcf"
      },
      "outputs": [],
      "source": [
        "#dfrt['tempo_sem_recidiva'] = np.where()"
      ]
    },
    {
      "cell_type": "markdown",
      "metadata": {
        "id": "rxUv-J1R1XMP"
      },
      "source": [
        "###2.1.9 Criando coluna Recidiva"
      ]
    },
    {
      "cell_type": "code",
      "execution_count": null,
      "metadata": {
        "colab": {
          "base_uri": "https://localhost:8080/"
        },
        "id": "iR7Pc272wtTg",
        "outputId": "abb0f59c-3cd3-4d7d-eb25-5acb50e647e4"
      },
      "outputs": [
        {
          "output_type": "execute_result",
          "data": {
            "text/plain": [
              "  com_recidiva_distancia com_recidiva_regional com_recidiva_local\n",
              "0                    Não                   Não                Não\n",
              "1                    Não                   Sim                Sim\n",
              "2                    Não                   Não                Não\n",
              "3                    Não                   Sim                Não\n",
              "4                    Não                   Não                Não"
            ],
            "text/html": [
              "\n",
              "  <div id=\"df-83435490-bf9e-462a-8083-b75d0e685978\">\n",
              "    <div class=\"colab-df-container\">\n",
              "      <div>\n",
              "<style scoped>\n",
              "    .dataframe tbody tr th:only-of-type {\n",
              "        vertical-align: middle;\n",
              "    }\n",
              "\n",
              "    .dataframe tbody tr th {\n",
              "        vertical-align: top;\n",
              "    }\n",
              "\n",
              "    .dataframe thead th {\n",
              "        text-align: right;\n",
              "    }\n",
              "</style>\n",
              "<table border=\"1\" class=\"dataframe\">\n",
              "  <thead>\n",
              "    <tr style=\"text-align: right;\">\n",
              "      <th></th>\n",
              "      <th>com_recidiva_distancia</th>\n",
              "      <th>com_recidiva_regional</th>\n",
              "      <th>com_recidiva_local</th>\n",
              "    </tr>\n",
              "  </thead>\n",
              "  <tbody>\n",
              "    <tr>\n",
              "      <th>0</th>\n",
              "      <td>Não</td>\n",
              "      <td>Não</td>\n",
              "      <td>Não</td>\n",
              "    </tr>\n",
              "    <tr>\n",
              "      <th>1</th>\n",
              "      <td>Não</td>\n",
              "      <td>Sim</td>\n",
              "      <td>Sim</td>\n",
              "    </tr>\n",
              "    <tr>\n",
              "      <th>2</th>\n",
              "      <td>Não</td>\n",
              "      <td>Não</td>\n",
              "      <td>Não</td>\n",
              "    </tr>\n",
              "    <tr>\n",
              "      <th>3</th>\n",
              "      <td>Não</td>\n",
              "      <td>Sim</td>\n",
              "      <td>Não</td>\n",
              "    </tr>\n",
              "    <tr>\n",
              "      <th>4</th>\n",
              "      <td>Não</td>\n",
              "      <td>Não</td>\n",
              "      <td>Não</td>\n",
              "    </tr>\n",
              "  </tbody>\n",
              "</table>\n",
              "</div>\n",
              "      <button class=\"colab-df-convert\" onclick=\"convertToInteractive('df-83435490-bf9e-462a-8083-b75d0e685978')\"\n",
              "              title=\"Convert this dataframe to an interactive table.\"\n",
              "              style=\"display:none;\">\n",
              "        \n",
              "  <svg xmlns=\"http://www.w3.org/2000/svg\" height=\"24px\"viewBox=\"0 0 24 24\"\n",
              "       width=\"24px\">\n",
              "    <path d=\"M0 0h24v24H0V0z\" fill=\"none\"/>\n",
              "    <path d=\"M18.56 5.44l.94 2.06.94-2.06 2.06-.94-2.06-.94-.94-2.06-.94 2.06-2.06.94zm-11 1L8.5 8.5l.94-2.06 2.06-.94-2.06-.94L8.5 2.5l-.94 2.06-2.06.94zm10 10l.94 2.06.94-2.06 2.06-.94-2.06-.94-.94-2.06-.94 2.06-2.06.94z\"/><path d=\"M17.41 7.96l-1.37-1.37c-.4-.4-.92-.59-1.43-.59-.52 0-1.04.2-1.43.59L10.3 9.45l-7.72 7.72c-.78.78-.78 2.05 0 2.83L4 21.41c.39.39.9.59 1.41.59.51 0 1.02-.2 1.41-.59l7.78-7.78 2.81-2.81c.8-.78.8-2.07 0-2.86zM5.41 20L4 18.59l7.72-7.72 1.47 1.35L5.41 20z\"/>\n",
              "  </svg>\n",
              "      </button>\n",
              "      \n",
              "  <style>\n",
              "    .colab-df-container {\n",
              "      display:flex;\n",
              "      flex-wrap:wrap;\n",
              "      gap: 12px;\n",
              "    }\n",
              "\n",
              "    .colab-df-convert {\n",
              "      background-color: #E8F0FE;\n",
              "      border: none;\n",
              "      border-radius: 50%;\n",
              "      cursor: pointer;\n",
              "      display: none;\n",
              "      fill: #1967D2;\n",
              "      height: 32px;\n",
              "      padding: 0 0 0 0;\n",
              "      width: 32px;\n",
              "    }\n",
              "\n",
              "    .colab-df-convert:hover {\n",
              "      background-color: #E2EBFA;\n",
              "      box-shadow: 0px 1px 2px rgba(60, 64, 67, 0.3), 0px 1px 3px 1px rgba(60, 64, 67, 0.15);\n",
              "      fill: #174EA6;\n",
              "    }\n",
              "\n",
              "    [theme=dark] .colab-df-convert {\n",
              "      background-color: #3B4455;\n",
              "      fill: #D2E3FC;\n",
              "    }\n",
              "\n",
              "    [theme=dark] .colab-df-convert:hover {\n",
              "      background-color: #434B5C;\n",
              "      box-shadow: 0px 1px 3px 1px rgba(0, 0, 0, 0.15);\n",
              "      filter: drop-shadow(0px 1px 2px rgba(0, 0, 0, 0.3));\n",
              "      fill: #FFFFFF;\n",
              "    }\n",
              "  </style>\n",
              "\n",
              "      <script>\n",
              "        const buttonEl =\n",
              "          document.querySelector('#df-83435490-bf9e-462a-8083-b75d0e685978 button.colab-df-convert');\n",
              "        buttonEl.style.display =\n",
              "          google.colab.kernel.accessAllowed ? 'block' : 'none';\n",
              "\n",
              "        async function convertToInteractive(key) {\n",
              "          const element = document.querySelector('#df-83435490-bf9e-462a-8083-b75d0e685978');\n",
              "          const dataTable =\n",
              "            await google.colab.kernel.invokeFunction('convertToInteractive',\n",
              "                                                     [key], {});\n",
              "          if (!dataTable) return;\n",
              "\n",
              "          const docLinkHtml = 'Like what you see? Visit the ' +\n",
              "            '<a target=\"_blank\" href=https://colab.research.google.com/notebooks/data_table.ipynb>data table notebook</a>'\n",
              "            + ' to learn more about interactive tables.';\n",
              "          element.innerHTML = '';\n",
              "          dataTable['output_type'] = 'display_data';\n",
              "          await google.colab.output.renderOutput(dataTable, element);\n",
              "          const docLink = document.createElement('div');\n",
              "          docLink.innerHTML = docLinkHtml;\n",
              "          element.appendChild(docLink);\n",
              "        }\n",
              "      </script>\n",
              "    </div>\n",
              "  </div>\n",
              "  "
            ]
          },
          "metadata": {},
          "execution_count": 42
        }
      ],
      "source": [
        "dfrt[['com_recidiva_distancia', 'com_recidiva_regional', 'com_recidiva_local']].head()"
      ]
    },
    {
      "cell_type": "code",
      "execution_count": null,
      "metadata": {
        "colab": {
          "base_uri": "https://localhost:8080/"
        },
        "id": "pXuYJmuow20S",
        "outputId": "946136df-7d01-42a9-ea1f-0e7528573199"
      },
      "outputs": [
        {
          "output_type": "execute_result",
          "data": {
            "text/plain": [
              "     com_recidiva_distancia com_recidiva_regional com_recidiva_local recidiva\n",
              "0                       Não                   Não                Não      Não\n",
              "1                       Não                   Sim                Sim      Sim\n",
              "2                       Não                   Não                Não      Não\n",
              "3                       Não                   Sim                Não      Sim\n",
              "4                       Não                   Não                Não      Não\n",
              "...                     ...                   ...                ...      ...\n",
              "4263                    Não                   Não                Não      Não\n",
              "4264                    Não                   Não                Não      Não\n",
              "4265                    Não                   Não                Não      Não\n",
              "4266                    Não                   Não                Sim      Sim\n",
              "4267                    Não                   Não                Não      Não\n",
              "\n",
              "[4268 rows x 4 columns]"
            ],
            "text/html": [
              "\n",
              "  <div id=\"df-33dd66d0-490b-4d4f-a7f7-f48569276473\">\n",
              "    <div class=\"colab-df-container\">\n",
              "      <div>\n",
              "<style scoped>\n",
              "    .dataframe tbody tr th:only-of-type {\n",
              "        vertical-align: middle;\n",
              "    }\n",
              "\n",
              "    .dataframe tbody tr th {\n",
              "        vertical-align: top;\n",
              "    }\n",
              "\n",
              "    .dataframe thead th {\n",
              "        text-align: right;\n",
              "    }\n",
              "</style>\n",
              "<table border=\"1\" class=\"dataframe\">\n",
              "  <thead>\n",
              "    <tr style=\"text-align: right;\">\n",
              "      <th></th>\n",
              "      <th>com_recidiva_distancia</th>\n",
              "      <th>com_recidiva_regional</th>\n",
              "      <th>com_recidiva_local</th>\n",
              "      <th>recidiva</th>\n",
              "    </tr>\n",
              "  </thead>\n",
              "  <tbody>\n",
              "    <tr>\n",
              "      <th>0</th>\n",
              "      <td>Não</td>\n",
              "      <td>Não</td>\n",
              "      <td>Não</td>\n",
              "      <td>Não</td>\n",
              "    </tr>\n",
              "    <tr>\n",
              "      <th>1</th>\n",
              "      <td>Não</td>\n",
              "      <td>Sim</td>\n",
              "      <td>Sim</td>\n",
              "      <td>Sim</td>\n",
              "    </tr>\n",
              "    <tr>\n",
              "      <th>2</th>\n",
              "      <td>Não</td>\n",
              "      <td>Não</td>\n",
              "      <td>Não</td>\n",
              "      <td>Não</td>\n",
              "    </tr>\n",
              "    <tr>\n",
              "      <th>3</th>\n",
              "      <td>Não</td>\n",
              "      <td>Sim</td>\n",
              "      <td>Não</td>\n",
              "      <td>Sim</td>\n",
              "    </tr>\n",
              "    <tr>\n",
              "      <th>4</th>\n",
              "      <td>Não</td>\n",
              "      <td>Não</td>\n",
              "      <td>Não</td>\n",
              "      <td>Não</td>\n",
              "    </tr>\n",
              "    <tr>\n",
              "      <th>...</th>\n",
              "      <td>...</td>\n",
              "      <td>...</td>\n",
              "      <td>...</td>\n",
              "      <td>...</td>\n",
              "    </tr>\n",
              "    <tr>\n",
              "      <th>4263</th>\n",
              "      <td>Não</td>\n",
              "      <td>Não</td>\n",
              "      <td>Não</td>\n",
              "      <td>Não</td>\n",
              "    </tr>\n",
              "    <tr>\n",
              "      <th>4264</th>\n",
              "      <td>Não</td>\n",
              "      <td>Não</td>\n",
              "      <td>Não</td>\n",
              "      <td>Não</td>\n",
              "    </tr>\n",
              "    <tr>\n",
              "      <th>4265</th>\n",
              "      <td>Não</td>\n",
              "      <td>Não</td>\n",
              "      <td>Não</td>\n",
              "      <td>Não</td>\n",
              "    </tr>\n",
              "    <tr>\n",
              "      <th>4266</th>\n",
              "      <td>Não</td>\n",
              "      <td>Não</td>\n",
              "      <td>Sim</td>\n",
              "      <td>Sim</td>\n",
              "    </tr>\n",
              "    <tr>\n",
              "      <th>4267</th>\n",
              "      <td>Não</td>\n",
              "      <td>Não</td>\n",
              "      <td>Não</td>\n",
              "      <td>Não</td>\n",
              "    </tr>\n",
              "  </tbody>\n",
              "</table>\n",
              "<p>4268 rows × 4 columns</p>\n",
              "</div>\n",
              "      <button class=\"colab-df-convert\" onclick=\"convertToInteractive('df-33dd66d0-490b-4d4f-a7f7-f48569276473')\"\n",
              "              title=\"Convert this dataframe to an interactive table.\"\n",
              "              style=\"display:none;\">\n",
              "        \n",
              "  <svg xmlns=\"http://www.w3.org/2000/svg\" height=\"24px\"viewBox=\"0 0 24 24\"\n",
              "       width=\"24px\">\n",
              "    <path d=\"M0 0h24v24H0V0z\" fill=\"none\"/>\n",
              "    <path d=\"M18.56 5.44l.94 2.06.94-2.06 2.06-.94-2.06-.94-.94-2.06-.94 2.06-2.06.94zm-11 1L8.5 8.5l.94-2.06 2.06-.94-2.06-.94L8.5 2.5l-.94 2.06-2.06.94zm10 10l.94 2.06.94-2.06 2.06-.94-2.06-.94-.94-2.06-.94 2.06-2.06.94z\"/><path d=\"M17.41 7.96l-1.37-1.37c-.4-.4-.92-.59-1.43-.59-.52 0-1.04.2-1.43.59L10.3 9.45l-7.72 7.72c-.78.78-.78 2.05 0 2.83L4 21.41c.39.39.9.59 1.41.59.51 0 1.02-.2 1.41-.59l7.78-7.78 2.81-2.81c.8-.78.8-2.07 0-2.86zM5.41 20L4 18.59l7.72-7.72 1.47 1.35L5.41 20z\"/>\n",
              "  </svg>\n",
              "      </button>\n",
              "      \n",
              "  <style>\n",
              "    .colab-df-container {\n",
              "      display:flex;\n",
              "      flex-wrap:wrap;\n",
              "      gap: 12px;\n",
              "    }\n",
              "\n",
              "    .colab-df-convert {\n",
              "      background-color: #E8F0FE;\n",
              "      border: none;\n",
              "      border-radius: 50%;\n",
              "      cursor: pointer;\n",
              "      display: none;\n",
              "      fill: #1967D2;\n",
              "      height: 32px;\n",
              "      padding: 0 0 0 0;\n",
              "      width: 32px;\n",
              "    }\n",
              "\n",
              "    .colab-df-convert:hover {\n",
              "      background-color: #E2EBFA;\n",
              "      box-shadow: 0px 1px 2px rgba(60, 64, 67, 0.3), 0px 1px 3px 1px rgba(60, 64, 67, 0.15);\n",
              "      fill: #174EA6;\n",
              "    }\n",
              "\n",
              "    [theme=dark] .colab-df-convert {\n",
              "      background-color: #3B4455;\n",
              "      fill: #D2E3FC;\n",
              "    }\n",
              "\n",
              "    [theme=dark] .colab-df-convert:hover {\n",
              "      background-color: #434B5C;\n",
              "      box-shadow: 0px 1px 3px 1px rgba(0, 0, 0, 0.15);\n",
              "      filter: drop-shadow(0px 1px 2px rgba(0, 0, 0, 0.3));\n",
              "      fill: #FFFFFF;\n",
              "    }\n",
              "  </style>\n",
              "\n",
              "      <script>\n",
              "        const buttonEl =\n",
              "          document.querySelector('#df-33dd66d0-490b-4d4f-a7f7-f48569276473 button.colab-df-convert');\n",
              "        buttonEl.style.display =\n",
              "          google.colab.kernel.accessAllowed ? 'block' : 'none';\n",
              "\n",
              "        async function convertToInteractive(key) {\n",
              "          const element = document.querySelector('#df-33dd66d0-490b-4d4f-a7f7-f48569276473');\n",
              "          const dataTable =\n",
              "            await google.colab.kernel.invokeFunction('convertToInteractive',\n",
              "                                                     [key], {});\n",
              "          if (!dataTable) return;\n",
              "\n",
              "          const docLinkHtml = 'Like what you see? Visit the ' +\n",
              "            '<a target=\"_blank\" href=https://colab.research.google.com/notebooks/data_table.ipynb>data table notebook</a>'\n",
              "            + ' to learn more about interactive tables.';\n",
              "          element.innerHTML = '';\n",
              "          dataTable['output_type'] = 'display_data';\n",
              "          await google.colab.output.renderOutput(dataTable, element);\n",
              "          const docLink = document.createElement('div');\n",
              "          docLink.innerHTML = docLinkHtml;\n",
              "          element.appendChild(docLink);\n",
              "        }\n",
              "      </script>\n",
              "    </div>\n",
              "  </div>\n",
              "  "
            ]
          },
          "metadata": {},
          "execution_count": 43
        }
      ],
      "source": [
        "#criando coluna de recidiva, dizendo se teve independente do lugar\n",
        "\n",
        "recidiva = []\n",
        "for i in range(0, len(dfrt[['com_recidiva_distancia', 'com_recidiva_regional', 'com_recidiva_local']])):\n",
        "  if dfrt['com_recidiva_distancia'][i] == 'Sim' or dfrt['com_recidiva_regional'][i] == 'Sim' or dfrt['com_recidiva_local'][i] == 'Sim':\n",
        "    recidiva.append('Sim')\n",
        "  else:\n",
        "    recidiva.append('Não')\n",
        "\n",
        "dfrt['recidiva'] = recidiva\n",
        "\n",
        "dfrt[['com_recidiva_distancia', 'com_recidiva_regional', 'com_recidiva_local', 'recidiva']]"
      ]
    },
    {
      "cell_type": "markdown",
      "metadata": {
        "id": "x0-z_SGyOMjQ"
      },
      "source": [
        "### 2.1.10 Criando coluna Delta Recidiva e 5 anos sem recidiva"
      ]
    },
    {
      "cell_type": "code",
      "execution_count": null,
      "metadata": {
        "colab": {
          "base_uri": "https://localhost:8080/",
          "height": 1000
        },
        "id": "aCcJSpoHZhAj",
        "outputId": "66d30d77-f89e-4745-a507-b98f00d8eeef"
      },
      "outputs": [
        {
          "output_type": "execute_result",
          "data": {
            "text/plain": [
              "     recidiva data_recidiva\n",
              "671       Sim           NaT\n",
              "728       Sim           NaT\n",
              "4068      Sim           NaT\n",
              "4070      Sim           NaT\n",
              "4072      Sim           NaT\n",
              "4074      Sim           NaT\n",
              "4078      Sim           NaT\n",
              "4085      Sim           NaT\n",
              "4087      Sim           NaT\n",
              "4090      Sim           NaT\n",
              "4101      Sim           NaT\n",
              "4106      Sim           NaT\n",
              "4123      Sim           NaT\n",
              "4133      Sim           NaT\n",
              "4135      Sim           NaT\n",
              "4144      Sim           NaT\n",
              "4147      Sim           NaT\n",
              "4148      Sim           NaT\n",
              "4152      Sim           NaT\n",
              "4154      Sim           NaT\n",
              "4159      Sim           NaT\n",
              "4161      Sim           NaT\n",
              "4162      Sim           NaT\n",
              "4166      Sim           NaT\n",
              "4167      Sim           NaT\n",
              "4174      Sim           NaT\n",
              "4176      Sim           NaT\n",
              "4179      Sim           NaT\n",
              "4183      Sim           NaT\n",
              "4198      Sim           NaT\n",
              "4200      Sim           NaT\n",
              "4209      Sim           NaT\n",
              "4210      Sim           NaT\n",
              "4211      Sim           NaT\n",
              "4212      Sim           NaT\n",
              "4215      Sim           NaT\n",
              "4216      Sim           NaT\n",
              "4220      Sim           NaT\n",
              "4224      Sim           NaT\n",
              "4225      Sim           NaT\n",
              "4235      Sim           NaT\n",
              "4254      Sim           NaT\n",
              "4266      Sim           NaT"
            ],
            "text/html": [
              "\n",
              "  <div id=\"df-c31b4b55-98e8-43a3-84b0-0034f55a2145\">\n",
              "    <div class=\"colab-df-container\">\n",
              "      <div>\n",
              "<style scoped>\n",
              "    .dataframe tbody tr th:only-of-type {\n",
              "        vertical-align: middle;\n",
              "    }\n",
              "\n",
              "    .dataframe tbody tr th {\n",
              "        vertical-align: top;\n",
              "    }\n",
              "\n",
              "    .dataframe thead th {\n",
              "        text-align: right;\n",
              "    }\n",
              "</style>\n",
              "<table border=\"1\" class=\"dataframe\">\n",
              "  <thead>\n",
              "    <tr style=\"text-align: right;\">\n",
              "      <th></th>\n",
              "      <th>recidiva</th>\n",
              "      <th>data_recidiva</th>\n",
              "    </tr>\n",
              "  </thead>\n",
              "  <tbody>\n",
              "    <tr>\n",
              "      <th>671</th>\n",
              "      <td>Sim</td>\n",
              "      <td>NaT</td>\n",
              "    </tr>\n",
              "    <tr>\n",
              "      <th>728</th>\n",
              "      <td>Sim</td>\n",
              "      <td>NaT</td>\n",
              "    </tr>\n",
              "    <tr>\n",
              "      <th>4068</th>\n",
              "      <td>Sim</td>\n",
              "      <td>NaT</td>\n",
              "    </tr>\n",
              "    <tr>\n",
              "      <th>4070</th>\n",
              "      <td>Sim</td>\n",
              "      <td>NaT</td>\n",
              "    </tr>\n",
              "    <tr>\n",
              "      <th>4072</th>\n",
              "      <td>Sim</td>\n",
              "      <td>NaT</td>\n",
              "    </tr>\n",
              "    <tr>\n",
              "      <th>4074</th>\n",
              "      <td>Sim</td>\n",
              "      <td>NaT</td>\n",
              "    </tr>\n",
              "    <tr>\n",
              "      <th>4078</th>\n",
              "      <td>Sim</td>\n",
              "      <td>NaT</td>\n",
              "    </tr>\n",
              "    <tr>\n",
              "      <th>4085</th>\n",
              "      <td>Sim</td>\n",
              "      <td>NaT</td>\n",
              "    </tr>\n",
              "    <tr>\n",
              "      <th>4087</th>\n",
              "      <td>Sim</td>\n",
              "      <td>NaT</td>\n",
              "    </tr>\n",
              "    <tr>\n",
              "      <th>4090</th>\n",
              "      <td>Sim</td>\n",
              "      <td>NaT</td>\n",
              "    </tr>\n",
              "    <tr>\n",
              "      <th>4101</th>\n",
              "      <td>Sim</td>\n",
              "      <td>NaT</td>\n",
              "    </tr>\n",
              "    <tr>\n",
              "      <th>4106</th>\n",
              "      <td>Sim</td>\n",
              "      <td>NaT</td>\n",
              "    </tr>\n",
              "    <tr>\n",
              "      <th>4123</th>\n",
              "      <td>Sim</td>\n",
              "      <td>NaT</td>\n",
              "    </tr>\n",
              "    <tr>\n",
              "      <th>4133</th>\n",
              "      <td>Sim</td>\n",
              "      <td>NaT</td>\n",
              "    </tr>\n",
              "    <tr>\n",
              "      <th>4135</th>\n",
              "      <td>Sim</td>\n",
              "      <td>NaT</td>\n",
              "    </tr>\n",
              "    <tr>\n",
              "      <th>4144</th>\n",
              "      <td>Sim</td>\n",
              "      <td>NaT</td>\n",
              "    </tr>\n",
              "    <tr>\n",
              "      <th>4147</th>\n",
              "      <td>Sim</td>\n",
              "      <td>NaT</td>\n",
              "    </tr>\n",
              "    <tr>\n",
              "      <th>4148</th>\n",
              "      <td>Sim</td>\n",
              "      <td>NaT</td>\n",
              "    </tr>\n",
              "    <tr>\n",
              "      <th>4152</th>\n",
              "      <td>Sim</td>\n",
              "      <td>NaT</td>\n",
              "    </tr>\n",
              "    <tr>\n",
              "      <th>4154</th>\n",
              "      <td>Sim</td>\n",
              "      <td>NaT</td>\n",
              "    </tr>\n",
              "    <tr>\n",
              "      <th>4159</th>\n",
              "      <td>Sim</td>\n",
              "      <td>NaT</td>\n",
              "    </tr>\n",
              "    <tr>\n",
              "      <th>4161</th>\n",
              "      <td>Sim</td>\n",
              "      <td>NaT</td>\n",
              "    </tr>\n",
              "    <tr>\n",
              "      <th>4162</th>\n",
              "      <td>Sim</td>\n",
              "      <td>NaT</td>\n",
              "    </tr>\n",
              "    <tr>\n",
              "      <th>4166</th>\n",
              "      <td>Sim</td>\n",
              "      <td>NaT</td>\n",
              "    </tr>\n",
              "    <tr>\n",
              "      <th>4167</th>\n",
              "      <td>Sim</td>\n",
              "      <td>NaT</td>\n",
              "    </tr>\n",
              "    <tr>\n",
              "      <th>4174</th>\n",
              "      <td>Sim</td>\n",
              "      <td>NaT</td>\n",
              "    </tr>\n",
              "    <tr>\n",
              "      <th>4176</th>\n",
              "      <td>Sim</td>\n",
              "      <td>NaT</td>\n",
              "    </tr>\n",
              "    <tr>\n",
              "      <th>4179</th>\n",
              "      <td>Sim</td>\n",
              "      <td>NaT</td>\n",
              "    </tr>\n",
              "    <tr>\n",
              "      <th>4183</th>\n",
              "      <td>Sim</td>\n",
              "      <td>NaT</td>\n",
              "    </tr>\n",
              "    <tr>\n",
              "      <th>4198</th>\n",
              "      <td>Sim</td>\n",
              "      <td>NaT</td>\n",
              "    </tr>\n",
              "    <tr>\n",
              "      <th>4200</th>\n",
              "      <td>Sim</td>\n",
              "      <td>NaT</td>\n",
              "    </tr>\n",
              "    <tr>\n",
              "      <th>4209</th>\n",
              "      <td>Sim</td>\n",
              "      <td>NaT</td>\n",
              "    </tr>\n",
              "    <tr>\n",
              "      <th>4210</th>\n",
              "      <td>Sim</td>\n",
              "      <td>NaT</td>\n",
              "    </tr>\n",
              "    <tr>\n",
              "      <th>4211</th>\n",
              "      <td>Sim</td>\n",
              "      <td>NaT</td>\n",
              "    </tr>\n",
              "    <tr>\n",
              "      <th>4212</th>\n",
              "      <td>Sim</td>\n",
              "      <td>NaT</td>\n",
              "    </tr>\n",
              "    <tr>\n",
              "      <th>4215</th>\n",
              "      <td>Sim</td>\n",
              "      <td>NaT</td>\n",
              "    </tr>\n",
              "    <tr>\n",
              "      <th>4216</th>\n",
              "      <td>Sim</td>\n",
              "      <td>NaT</td>\n",
              "    </tr>\n",
              "    <tr>\n",
              "      <th>4220</th>\n",
              "      <td>Sim</td>\n",
              "      <td>NaT</td>\n",
              "    </tr>\n",
              "    <tr>\n",
              "      <th>4224</th>\n",
              "      <td>Sim</td>\n",
              "      <td>NaT</td>\n",
              "    </tr>\n",
              "    <tr>\n",
              "      <th>4225</th>\n",
              "      <td>Sim</td>\n",
              "      <td>NaT</td>\n",
              "    </tr>\n",
              "    <tr>\n",
              "      <th>4235</th>\n",
              "      <td>Sim</td>\n",
              "      <td>NaT</td>\n",
              "    </tr>\n",
              "    <tr>\n",
              "      <th>4254</th>\n",
              "      <td>Sim</td>\n",
              "      <td>NaT</td>\n",
              "    </tr>\n",
              "    <tr>\n",
              "      <th>4266</th>\n",
              "      <td>Sim</td>\n",
              "      <td>NaT</td>\n",
              "    </tr>\n",
              "  </tbody>\n",
              "</table>\n",
              "</div>\n",
              "      <button class=\"colab-df-convert\" onclick=\"convertToInteractive('df-c31b4b55-98e8-43a3-84b0-0034f55a2145')\"\n",
              "              title=\"Convert this dataframe to an interactive table.\"\n",
              "              style=\"display:none;\">\n",
              "        \n",
              "  <svg xmlns=\"http://www.w3.org/2000/svg\" height=\"24px\"viewBox=\"0 0 24 24\"\n",
              "       width=\"24px\">\n",
              "    <path d=\"M0 0h24v24H0V0z\" fill=\"none\"/>\n",
              "    <path d=\"M18.56 5.44l.94 2.06.94-2.06 2.06-.94-2.06-.94-.94-2.06-.94 2.06-2.06.94zm-11 1L8.5 8.5l.94-2.06 2.06-.94-2.06-.94L8.5 2.5l-.94 2.06-2.06.94zm10 10l.94 2.06.94-2.06 2.06-.94-2.06-.94-.94-2.06-.94 2.06-2.06.94z\"/><path d=\"M17.41 7.96l-1.37-1.37c-.4-.4-.92-.59-1.43-.59-.52 0-1.04.2-1.43.59L10.3 9.45l-7.72 7.72c-.78.78-.78 2.05 0 2.83L4 21.41c.39.39.9.59 1.41.59.51 0 1.02-.2 1.41-.59l7.78-7.78 2.81-2.81c.8-.78.8-2.07 0-2.86zM5.41 20L4 18.59l7.72-7.72 1.47 1.35L5.41 20z\"/>\n",
              "  </svg>\n",
              "      </button>\n",
              "      \n",
              "  <style>\n",
              "    .colab-df-container {\n",
              "      display:flex;\n",
              "      flex-wrap:wrap;\n",
              "      gap: 12px;\n",
              "    }\n",
              "\n",
              "    .colab-df-convert {\n",
              "      background-color: #E8F0FE;\n",
              "      border: none;\n",
              "      border-radius: 50%;\n",
              "      cursor: pointer;\n",
              "      display: none;\n",
              "      fill: #1967D2;\n",
              "      height: 32px;\n",
              "      padding: 0 0 0 0;\n",
              "      width: 32px;\n",
              "    }\n",
              "\n",
              "    .colab-df-convert:hover {\n",
              "      background-color: #E2EBFA;\n",
              "      box-shadow: 0px 1px 2px rgba(60, 64, 67, 0.3), 0px 1px 3px 1px rgba(60, 64, 67, 0.15);\n",
              "      fill: #174EA6;\n",
              "    }\n",
              "\n",
              "    [theme=dark] .colab-df-convert {\n",
              "      background-color: #3B4455;\n",
              "      fill: #D2E3FC;\n",
              "    }\n",
              "\n",
              "    [theme=dark] .colab-df-convert:hover {\n",
              "      background-color: #434B5C;\n",
              "      box-shadow: 0px 1px 3px 1px rgba(0, 0, 0, 0.15);\n",
              "      filter: drop-shadow(0px 1px 2px rgba(0, 0, 0, 0.3));\n",
              "      fill: #FFFFFF;\n",
              "    }\n",
              "  </style>\n",
              "\n",
              "      <script>\n",
              "        const buttonEl =\n",
              "          document.querySelector('#df-c31b4b55-98e8-43a3-84b0-0034f55a2145 button.colab-df-convert');\n",
              "        buttonEl.style.display =\n",
              "          google.colab.kernel.accessAllowed ? 'block' : 'none';\n",
              "\n",
              "        async function convertToInteractive(key) {\n",
              "          const element = document.querySelector('#df-c31b4b55-98e8-43a3-84b0-0034f55a2145');\n",
              "          const dataTable =\n",
              "            await google.colab.kernel.invokeFunction('convertToInteractive',\n",
              "                                                     [key], {});\n",
              "          if (!dataTable) return;\n",
              "\n",
              "          const docLinkHtml = 'Like what you see? Visit the ' +\n",
              "            '<a target=\"_blank\" href=https://colab.research.google.com/notebooks/data_table.ipynb>data table notebook</a>'\n",
              "            + ' to learn more about interactive tables.';\n",
              "          element.innerHTML = '';\n",
              "          dataTable['output_type'] = 'display_data';\n",
              "          await google.colab.output.renderOutput(dataTable, element);\n",
              "          const docLink = document.createElement('div');\n",
              "          docLink.innerHTML = docLinkHtml;\n",
              "          element.appendChild(docLink);\n",
              "        }\n",
              "      </script>\n",
              "    </div>\n",
              "  </div>\n",
              "  "
            ]
          },
          "metadata": {},
          "execution_count": 44
        }
      ],
      "source": [
        "#Descobrindo qual os pacientes que tiveram recidiva mas não possuem a data de recidiva\n",
        "a = dfrt[['recidiva', 'data_recidiva']].query('recidiva != \"Não\"')\n",
        "a[np.isnat(a['data_recidiva'])]"
      ]
    },
    {
      "cell_type": "code",
      "execution_count": null,
      "metadata": {
        "id": "qxJFEgnDe_pl"
      },
      "outputs": [],
      "source": [
        "#Calculando a diferença entre a data de recidiva e a data do tratamento\n",
        "dfrt['delta_recidiva_tratamento'] = dfrt['data_recidiva'] - dfrt['data_do_tratamento']"
      ]
    },
    {
      "cell_type": "code",
      "execution_count": null,
      "metadata": {
        "colab": {
          "base_uri": "https://localhost:8080/",
          "height": 661
        },
        "id": "ER99056pNqL3",
        "outputId": "5277de27-baa1-4a3f-934c-0364909914c8"
      },
      "outputs": [
        {
          "output_type": "execute_result",
          "data": {
            "text/plain": [
              "      index  record_id  repeat_instance  \\\n",
              "0         1        302              1.0   \n",
              "1         3        710              1.0   \n",
              "2         5        752              1.0   \n",
              "3         7       1367              1.0   \n",
              "4         9       1589              1.0   \n",
              "...     ...        ...              ...   \n",
              "4263   8938      82123              1.0   \n",
              "4264   8941      82124              1.0   \n",
              "4265   8944      82131              1.0   \n",
              "4266   8946      82205              1.0   \n",
              "4267   8948      82240              1.0   \n",
              "\n",
              "     data_da_primeira_consulta_institucional_dt_pci data_do_diagnostico  \\\n",
              "0                                        2008-03-22          2008-03-23   \n",
              "1                                        2006-11-11          2007-11-11   \n",
              "2                                        2007-09-25          2007-12-18   \n",
              "3                                        2008-02-03          2008-02-06   \n",
              "4                                        2008-05-15          2008-05-21   \n",
              "...                                             ...                 ...   \n",
              "4263                                     2020-12-04          2020-10-10   \n",
              "4264                                     2020-06-20          2020-09-05   \n",
              "4265                                     2020-11-01          2019-12-23   \n",
              "4266                                     2021-02-28          2020-11-07   \n",
              "4267                                     2020-12-08          2020-03-14   \n",
              "\n",
              "     codigo_da_topografia_cid_o  codigo_da_morfologia_cid_o estadio_clinico  \\\n",
              "0                          C504                     85003.0              2a   \n",
              "1                          C508                     85003.0              3a   \n",
              "2                          C509                     84803.0              2a   \n",
              "3                          C505                     85003.0              2a   \n",
              "4                          C508                     85003.0              2b   \n",
              "...                         ...                         ...             ...   \n",
              "4263                       C504                     85003.0              2b   \n",
              "4264                       C509                     85203.0               4   \n",
              "4265                       C502                     85203.0              3a   \n",
              "4266                       C504                     85003.0               4   \n",
              "4267                       C505                     85003.0              3c   \n",
              "\n",
              "                grupo_estadio_clinico classificacao_tnm_clinico_t  ...  \\\n",
              "0                                  II                           2  ...   \n",
              "1                                 III                           3  ...   \n",
              "2                                  II                           2  ...   \n",
              "3                                  II                           1  ...   \n",
              "4                                  II                           2  ...   \n",
              "...                               ...                         ...  ...   \n",
              "4263  X - nao foi possivel determinar                           3  ...   \n",
              "4264  X - nao foi possivel determinar                           4  ...   \n",
              "4265  X - nao foi possivel determinar                           3  ...   \n",
              "4266  X - nao foi possivel determinar                           4  ...   \n",
              "4267  X - nao foi possivel determinar                           2  ...   \n",
              "\n",
              "                  descricao_da_topografia_   classificacao_tnm_patologico_n  \\\n",
              "0       MAMA QUADRANTE SUPERIOR EXTERNO DA  X - nao foi possivel determinar   \n",
              "1                 MAMA LESAO SOBREPOSTA DA  X - nao foi possivel determinar   \n",
              "2     MAMA SOE (EXCLUI PELE DA MAMA C44.5)  X - nao foi possivel determinar   \n",
              "3       MAMA QUADRANTE INFERIOR EXTERNO DA                                1   \n",
              "4                 MAMA LESAO SOBREPOSTA DA  X - nao foi possivel determinar   \n",
              "...                                    ...                              ...   \n",
              "4263    MAMA QUADRANTE SUPERIOR EXTERNO DA  X - nao foi possivel determinar   \n",
              "4264  MAMA SOE (EXCLUI PELE DA MAMA C44.5)  X - nao foi possivel determinar   \n",
              "4265    MAMA QUADRANTE SUPERIOR INTERNO DA  X - nao foi possivel determinar   \n",
              "4266    MAMA QUADRANTE SUPERIOR EXTERNO DA  X - nao foi possivel determinar   \n",
              "4267    MAMA QUADRANTE INFERIOR EXTERNO DA  X - nao foi possivel determinar   \n",
              "\n",
              "       classificacao_tnm_patologico_t com_recidiva_distancia  \\\n",
              "0     X - nao foi possivel determinar                    Não   \n",
              "1     X - nao foi possivel determinar                    Não   \n",
              "2                                   2                    Não   \n",
              "3                                  1A                    Não   \n",
              "4     X - nao foi possivel determinar                    Não   \n",
              "...                               ...                    ...   \n",
              "4263  X - nao foi possivel determinar                    Não   \n",
              "4264  X - nao foi possivel determinar                    Não   \n",
              "4265  X - nao foi possivel determinar                    Não   \n",
              "4266  X - nao foi possivel determinar                    Não   \n",
              "4267  X - nao foi possivel determinar                    Não   \n",
              "\n",
              "     com_recidiva_regional com_recidiva_local new_grupo_estadio_clinico  \\\n",
              "0                      Não                Não                             \n",
              "1                      Sim                Sim                             \n",
              "2                      Não                Não                             \n",
              "3                      Sim                Não                             \n",
              "4                      Não                Não                             \n",
              "...                    ...                ...                       ...   \n",
              "4263                   Não                Não                             \n",
              "4264                   Não                Não                             \n",
              "4265                   Não                Não                             \n",
              "4266                   Não                Sim                             \n",
              "4267                   Não                Não                             \n",
              "\n",
              "     recidiva  delta_recidiva_tratamento cinco_anos_sem_rencidiva  \n",
              "0         Não                        NaT                        1  \n",
              "1         Sim                  2242 days                        1  \n",
              "2         Não                        NaT                        1  \n",
              "3         Sim                   654 days                        0  \n",
              "4         Não                        NaT                        1  \n",
              "...       ...                        ...                      ...  \n",
              "4263      Não                        NaT                        1  \n",
              "4264      Não                        NaT                        1  \n",
              "4265      Não                        NaT                        1  \n",
              "4266      Sim                        NaT                        0  \n",
              "4267      Não                        NaT                        1  \n",
              "\n",
              "[4268 rows x 37 columns]"
            ],
            "text/html": [
              "\n",
              "  <div id=\"df-946dba8c-d791-40ac-9e1b-78698cf769f2\">\n",
              "    <div class=\"colab-df-container\">\n",
              "      <div>\n",
              "<style scoped>\n",
              "    .dataframe tbody tr th:only-of-type {\n",
              "        vertical-align: middle;\n",
              "    }\n",
              "\n",
              "    .dataframe tbody tr th {\n",
              "        vertical-align: top;\n",
              "    }\n",
              "\n",
              "    .dataframe thead th {\n",
              "        text-align: right;\n",
              "    }\n",
              "</style>\n",
              "<table border=\"1\" class=\"dataframe\">\n",
              "  <thead>\n",
              "    <tr style=\"text-align: right;\">\n",
              "      <th></th>\n",
              "      <th>index</th>\n",
              "      <th>record_id</th>\n",
              "      <th>repeat_instance</th>\n",
              "      <th>data_da_primeira_consulta_institucional_dt_pci</th>\n",
              "      <th>data_do_diagnostico</th>\n",
              "      <th>codigo_da_topografia_cid_o</th>\n",
              "      <th>codigo_da_morfologia_cid_o</th>\n",
              "      <th>estadio_clinico</th>\n",
              "      <th>grupo_estadio_clinico</th>\n",
              "      <th>classificacao_tnm_clinico_t</th>\n",
              "      <th>...</th>\n",
              "      <th>descricao_da_topografia_</th>\n",
              "      <th>classificacao_tnm_patologico_n</th>\n",
              "      <th>classificacao_tnm_patologico_t</th>\n",
              "      <th>com_recidiva_distancia</th>\n",
              "      <th>com_recidiva_regional</th>\n",
              "      <th>com_recidiva_local</th>\n",
              "      <th>new_grupo_estadio_clinico</th>\n",
              "      <th>recidiva</th>\n",
              "      <th>delta_recidiva_tratamento</th>\n",
              "      <th>cinco_anos_sem_rencidiva</th>\n",
              "    </tr>\n",
              "  </thead>\n",
              "  <tbody>\n",
              "    <tr>\n",
              "      <th>0</th>\n",
              "      <td>1</td>\n",
              "      <td>302</td>\n",
              "      <td>1.0</td>\n",
              "      <td>2008-03-22</td>\n",
              "      <td>2008-03-23</td>\n",
              "      <td>C504</td>\n",
              "      <td>85003.0</td>\n",
              "      <td>2a</td>\n",
              "      <td>II</td>\n",
              "      <td>2</td>\n",
              "      <td>...</td>\n",
              "      <td>MAMA QUADRANTE SUPERIOR EXTERNO DA</td>\n",
              "      <td>X - nao foi possivel determinar</td>\n",
              "      <td>X - nao foi possivel determinar</td>\n",
              "      <td>Não</td>\n",
              "      <td>Não</td>\n",
              "      <td>Não</td>\n",
              "      <td></td>\n",
              "      <td>Não</td>\n",
              "      <td>NaT</td>\n",
              "      <td>1</td>\n",
              "    </tr>\n",
              "    <tr>\n",
              "      <th>1</th>\n",
              "      <td>3</td>\n",
              "      <td>710</td>\n",
              "      <td>1.0</td>\n",
              "      <td>2006-11-11</td>\n",
              "      <td>2007-11-11</td>\n",
              "      <td>C508</td>\n",
              "      <td>85003.0</td>\n",
              "      <td>3a</td>\n",
              "      <td>III</td>\n",
              "      <td>3</td>\n",
              "      <td>...</td>\n",
              "      <td>MAMA LESAO SOBREPOSTA DA</td>\n",
              "      <td>X - nao foi possivel determinar</td>\n",
              "      <td>X - nao foi possivel determinar</td>\n",
              "      <td>Não</td>\n",
              "      <td>Sim</td>\n",
              "      <td>Sim</td>\n",
              "      <td></td>\n",
              "      <td>Sim</td>\n",
              "      <td>2242 days</td>\n",
              "      <td>1</td>\n",
              "    </tr>\n",
              "    <tr>\n",
              "      <th>2</th>\n",
              "      <td>5</td>\n",
              "      <td>752</td>\n",
              "      <td>1.0</td>\n",
              "      <td>2007-09-25</td>\n",
              "      <td>2007-12-18</td>\n",
              "      <td>C509</td>\n",
              "      <td>84803.0</td>\n",
              "      <td>2a</td>\n",
              "      <td>II</td>\n",
              "      <td>2</td>\n",
              "      <td>...</td>\n",
              "      <td>MAMA SOE (EXCLUI PELE DA MAMA C44.5)</td>\n",
              "      <td>X - nao foi possivel determinar</td>\n",
              "      <td>2</td>\n",
              "      <td>Não</td>\n",
              "      <td>Não</td>\n",
              "      <td>Não</td>\n",
              "      <td></td>\n",
              "      <td>Não</td>\n",
              "      <td>NaT</td>\n",
              "      <td>1</td>\n",
              "    </tr>\n",
              "    <tr>\n",
              "      <th>3</th>\n",
              "      <td>7</td>\n",
              "      <td>1367</td>\n",
              "      <td>1.0</td>\n",
              "      <td>2008-02-03</td>\n",
              "      <td>2008-02-06</td>\n",
              "      <td>C505</td>\n",
              "      <td>85003.0</td>\n",
              "      <td>2a</td>\n",
              "      <td>II</td>\n",
              "      <td>1</td>\n",
              "      <td>...</td>\n",
              "      <td>MAMA QUADRANTE INFERIOR EXTERNO DA</td>\n",
              "      <td>1</td>\n",
              "      <td>1A</td>\n",
              "      <td>Não</td>\n",
              "      <td>Sim</td>\n",
              "      <td>Não</td>\n",
              "      <td></td>\n",
              "      <td>Sim</td>\n",
              "      <td>654 days</td>\n",
              "      <td>0</td>\n",
              "    </tr>\n",
              "    <tr>\n",
              "      <th>4</th>\n",
              "      <td>9</td>\n",
              "      <td>1589</td>\n",
              "      <td>1.0</td>\n",
              "      <td>2008-05-15</td>\n",
              "      <td>2008-05-21</td>\n",
              "      <td>C508</td>\n",
              "      <td>85003.0</td>\n",
              "      <td>2b</td>\n",
              "      <td>II</td>\n",
              "      <td>2</td>\n",
              "      <td>...</td>\n",
              "      <td>MAMA LESAO SOBREPOSTA DA</td>\n",
              "      <td>X - nao foi possivel determinar</td>\n",
              "      <td>X - nao foi possivel determinar</td>\n",
              "      <td>Não</td>\n",
              "      <td>Não</td>\n",
              "      <td>Não</td>\n",
              "      <td></td>\n",
              "      <td>Não</td>\n",
              "      <td>NaT</td>\n",
              "      <td>1</td>\n",
              "    </tr>\n",
              "    <tr>\n",
              "      <th>...</th>\n",
              "      <td>...</td>\n",
              "      <td>...</td>\n",
              "      <td>...</td>\n",
              "      <td>...</td>\n",
              "      <td>...</td>\n",
              "      <td>...</td>\n",
              "      <td>...</td>\n",
              "      <td>...</td>\n",
              "      <td>...</td>\n",
              "      <td>...</td>\n",
              "      <td>...</td>\n",
              "      <td>...</td>\n",
              "      <td>...</td>\n",
              "      <td>...</td>\n",
              "      <td>...</td>\n",
              "      <td>...</td>\n",
              "      <td>...</td>\n",
              "      <td>...</td>\n",
              "      <td>...</td>\n",
              "      <td>...</td>\n",
              "      <td>...</td>\n",
              "    </tr>\n",
              "    <tr>\n",
              "      <th>4263</th>\n",
              "      <td>8938</td>\n",
              "      <td>82123</td>\n",
              "      <td>1.0</td>\n",
              "      <td>2020-12-04</td>\n",
              "      <td>2020-10-10</td>\n",
              "      <td>C504</td>\n",
              "      <td>85003.0</td>\n",
              "      <td>2b</td>\n",
              "      <td>X - nao foi possivel determinar</td>\n",
              "      <td>3</td>\n",
              "      <td>...</td>\n",
              "      <td>MAMA QUADRANTE SUPERIOR EXTERNO DA</td>\n",
              "      <td>X - nao foi possivel determinar</td>\n",
              "      <td>X - nao foi possivel determinar</td>\n",
              "      <td>Não</td>\n",
              "      <td>Não</td>\n",
              "      <td>Não</td>\n",
              "      <td></td>\n",
              "      <td>Não</td>\n",
              "      <td>NaT</td>\n",
              "      <td>1</td>\n",
              "    </tr>\n",
              "    <tr>\n",
              "      <th>4264</th>\n",
              "      <td>8941</td>\n",
              "      <td>82124</td>\n",
              "      <td>1.0</td>\n",
              "      <td>2020-06-20</td>\n",
              "      <td>2020-09-05</td>\n",
              "      <td>C509</td>\n",
              "      <td>85203.0</td>\n",
              "      <td>4</td>\n",
              "      <td>X - nao foi possivel determinar</td>\n",
              "      <td>4</td>\n",
              "      <td>...</td>\n",
              "      <td>MAMA SOE (EXCLUI PELE DA MAMA C44.5)</td>\n",
              "      <td>X - nao foi possivel determinar</td>\n",
              "      <td>X - nao foi possivel determinar</td>\n",
              "      <td>Não</td>\n",
              "      <td>Não</td>\n",
              "      <td>Não</td>\n",
              "      <td></td>\n",
              "      <td>Não</td>\n",
              "      <td>NaT</td>\n",
              "      <td>1</td>\n",
              "    </tr>\n",
              "    <tr>\n",
              "      <th>4265</th>\n",
              "      <td>8944</td>\n",
              "      <td>82131</td>\n",
              "      <td>1.0</td>\n",
              "      <td>2020-11-01</td>\n",
              "      <td>2019-12-23</td>\n",
              "      <td>C502</td>\n",
              "      <td>85203.0</td>\n",
              "      <td>3a</td>\n",
              "      <td>X - nao foi possivel determinar</td>\n",
              "      <td>3</td>\n",
              "      <td>...</td>\n",
              "      <td>MAMA QUADRANTE SUPERIOR INTERNO DA</td>\n",
              "      <td>X - nao foi possivel determinar</td>\n",
              "      <td>X - nao foi possivel determinar</td>\n",
              "      <td>Não</td>\n",
              "      <td>Não</td>\n",
              "      <td>Não</td>\n",
              "      <td></td>\n",
              "      <td>Não</td>\n",
              "      <td>NaT</td>\n",
              "      <td>1</td>\n",
              "    </tr>\n",
              "    <tr>\n",
              "      <th>4266</th>\n",
              "      <td>8946</td>\n",
              "      <td>82205</td>\n",
              "      <td>1.0</td>\n",
              "      <td>2021-02-28</td>\n",
              "      <td>2020-11-07</td>\n",
              "      <td>C504</td>\n",
              "      <td>85003.0</td>\n",
              "      <td>4</td>\n",
              "      <td>X - nao foi possivel determinar</td>\n",
              "      <td>4</td>\n",
              "      <td>...</td>\n",
              "      <td>MAMA QUADRANTE SUPERIOR EXTERNO DA</td>\n",
              "      <td>X - nao foi possivel determinar</td>\n",
              "      <td>X - nao foi possivel determinar</td>\n",
              "      <td>Não</td>\n",
              "      <td>Não</td>\n",
              "      <td>Sim</td>\n",
              "      <td></td>\n",
              "      <td>Sim</td>\n",
              "      <td>NaT</td>\n",
              "      <td>0</td>\n",
              "    </tr>\n",
              "    <tr>\n",
              "      <th>4267</th>\n",
              "      <td>8948</td>\n",
              "      <td>82240</td>\n",
              "      <td>1.0</td>\n",
              "      <td>2020-12-08</td>\n",
              "      <td>2020-03-14</td>\n",
              "      <td>C505</td>\n",
              "      <td>85003.0</td>\n",
              "      <td>3c</td>\n",
              "      <td>X - nao foi possivel determinar</td>\n",
              "      <td>2</td>\n",
              "      <td>...</td>\n",
              "      <td>MAMA QUADRANTE INFERIOR EXTERNO DA</td>\n",
              "      <td>X - nao foi possivel determinar</td>\n",
              "      <td>X - nao foi possivel determinar</td>\n",
              "      <td>Não</td>\n",
              "      <td>Não</td>\n",
              "      <td>Não</td>\n",
              "      <td></td>\n",
              "      <td>Não</td>\n",
              "      <td>NaT</td>\n",
              "      <td>1</td>\n",
              "    </tr>\n",
              "  </tbody>\n",
              "</table>\n",
              "<p>4268 rows × 37 columns</p>\n",
              "</div>\n",
              "      <button class=\"colab-df-convert\" onclick=\"convertToInteractive('df-946dba8c-d791-40ac-9e1b-78698cf769f2')\"\n",
              "              title=\"Convert this dataframe to an interactive table.\"\n",
              "              style=\"display:none;\">\n",
              "        \n",
              "  <svg xmlns=\"http://www.w3.org/2000/svg\" height=\"24px\"viewBox=\"0 0 24 24\"\n",
              "       width=\"24px\">\n",
              "    <path d=\"M0 0h24v24H0V0z\" fill=\"none\"/>\n",
              "    <path d=\"M18.56 5.44l.94 2.06.94-2.06 2.06-.94-2.06-.94-.94-2.06-.94 2.06-2.06.94zm-11 1L8.5 8.5l.94-2.06 2.06-.94-2.06-.94L8.5 2.5l-.94 2.06-2.06.94zm10 10l.94 2.06.94-2.06 2.06-.94-2.06-.94-.94-2.06-.94 2.06-2.06.94z\"/><path d=\"M17.41 7.96l-1.37-1.37c-.4-.4-.92-.59-1.43-.59-.52 0-1.04.2-1.43.59L10.3 9.45l-7.72 7.72c-.78.78-.78 2.05 0 2.83L4 21.41c.39.39.9.59 1.41.59.51 0 1.02-.2 1.41-.59l7.78-7.78 2.81-2.81c.8-.78.8-2.07 0-2.86zM5.41 20L4 18.59l7.72-7.72 1.47 1.35L5.41 20z\"/>\n",
              "  </svg>\n",
              "      </button>\n",
              "      \n",
              "  <style>\n",
              "    .colab-df-container {\n",
              "      display:flex;\n",
              "      flex-wrap:wrap;\n",
              "      gap: 12px;\n",
              "    }\n",
              "\n",
              "    .colab-df-convert {\n",
              "      background-color: #E8F0FE;\n",
              "      border: none;\n",
              "      border-radius: 50%;\n",
              "      cursor: pointer;\n",
              "      display: none;\n",
              "      fill: #1967D2;\n",
              "      height: 32px;\n",
              "      padding: 0 0 0 0;\n",
              "      width: 32px;\n",
              "    }\n",
              "\n",
              "    .colab-df-convert:hover {\n",
              "      background-color: #E2EBFA;\n",
              "      box-shadow: 0px 1px 2px rgba(60, 64, 67, 0.3), 0px 1px 3px 1px rgba(60, 64, 67, 0.15);\n",
              "      fill: #174EA6;\n",
              "    }\n",
              "\n",
              "    [theme=dark] .colab-df-convert {\n",
              "      background-color: #3B4455;\n",
              "      fill: #D2E3FC;\n",
              "    }\n",
              "\n",
              "    [theme=dark] .colab-df-convert:hover {\n",
              "      background-color: #434B5C;\n",
              "      box-shadow: 0px 1px 3px 1px rgba(0, 0, 0, 0.15);\n",
              "      filter: drop-shadow(0px 1px 2px rgba(0, 0, 0, 0.3));\n",
              "      fill: #FFFFFF;\n",
              "    }\n",
              "  </style>\n",
              "\n",
              "      <script>\n",
              "        const buttonEl =\n",
              "          document.querySelector('#df-946dba8c-d791-40ac-9e1b-78698cf769f2 button.colab-df-convert');\n",
              "        buttonEl.style.display =\n",
              "          google.colab.kernel.accessAllowed ? 'block' : 'none';\n",
              "\n",
              "        async function convertToInteractive(key) {\n",
              "          const element = document.querySelector('#df-946dba8c-d791-40ac-9e1b-78698cf769f2');\n",
              "          const dataTable =\n",
              "            await google.colab.kernel.invokeFunction('convertToInteractive',\n",
              "                                                     [key], {});\n",
              "          if (!dataTable) return;\n",
              "\n",
              "          const docLinkHtml = 'Like what you see? Visit the ' +\n",
              "            '<a target=\"_blank\" href=https://colab.research.google.com/notebooks/data_table.ipynb>data table notebook</a>'\n",
              "            + ' to learn more about interactive tables.';\n",
              "          element.innerHTML = '';\n",
              "          dataTable['output_type'] = 'display_data';\n",
              "          await google.colab.output.renderOutput(dataTable, element);\n",
              "          const docLink = document.createElement('div');\n",
              "          docLink.innerHTML = docLinkHtml;\n",
              "          element.appendChild(docLink);\n",
              "        }\n",
              "      </script>\n",
              "    </div>\n",
              "  </div>\n",
              "  "
            ]
          },
          "metadata": {},
          "execution_count": 46
        }
      ],
      "source": [
        "#Criando uma nova coluna a qual recebe 0 se o paciente teve recidiva apeans depois de 5 anos,ou seja, sucesso, e 1 caso tenha tido recidiva antes dos 5 anos\n",
        "from datetime import timedelta\n",
        "\n",
        "dfrt['cinco_anos_sem_rencidiva'] = np.where(dfrt['recidiva'] == 'Não' , 1, 0)\n",
        "dfrt['cinco_anos_sem_rencidiva'] = np.where(dfrt['delta_recidiva_tratamento'] >= timedelta(days=1825), 1, dfrt['cinco_anos_sem_rencidiva'])\n",
        "dfrt"
      ]
    },
    {
      "cell_type": "markdown",
      "metadata": {
        "id": "GJRKFQZ_9tqS"
      },
      "source": [
        "### 2.1.11 Encoding"
      ]
    },
    {
      "cell_type": "code",
      "execution_count": null,
      "metadata": {
        "colab": {
          "base_uri": "https://localhost:8080/",
          "height": 250
        },
        "id": "ubHa5rEj9ywd",
        "outputId": "f131d1f3-b86e-47da-b6fd-bf58ce183bfd"
      },
      "outputs": [
        {
          "output_type": "execute_result",
          "data": {
            "text/plain": [
              "   record_id new_grupo_estadio_clinico classificacao_tnm_clinico_t  \\\n",
              "0        302                                                     2   \n",
              "1        710                                                     3   \n",
              "2        752                                                     2   \n",
              "3       1367                                                     1   \n",
              "4       1589                                                     2   \n",
              "\n",
              "  classificacao_tnm_clinico_n classificacao_tnm_clinico_m  \\\n",
              "0                           0                           0   \n",
              "1                           1                           0   \n",
              "2                           0                           0   \n",
              "3                           1                           0   \n",
              "4                           1                           0   \n",
              "\n",
              "               descricao_da_topografia_ recidiva  cinco_anos_sem_rencidiva  \n",
              "0    MAMA QUADRANTE SUPERIOR EXTERNO DA      Não                         1  \n",
              "1              MAMA LESAO SOBREPOSTA DA      Sim                         1  \n",
              "2  MAMA SOE (EXCLUI PELE DA MAMA C44.5)      Não                         1  \n",
              "3    MAMA QUADRANTE INFERIOR EXTERNO DA      Sim                         0  \n",
              "4              MAMA LESAO SOBREPOSTA DA      Não                         1  "
            ],
            "text/html": [
              "\n",
              "  <div id=\"df-3bed99f4-d168-4045-9c96-085fb1c03896\">\n",
              "    <div class=\"colab-df-container\">\n",
              "      <div>\n",
              "<style scoped>\n",
              "    .dataframe tbody tr th:only-of-type {\n",
              "        vertical-align: middle;\n",
              "    }\n",
              "\n",
              "    .dataframe tbody tr th {\n",
              "        vertical-align: top;\n",
              "    }\n",
              "\n",
              "    .dataframe thead th {\n",
              "        text-align: right;\n",
              "    }\n",
              "</style>\n",
              "<table border=\"1\" class=\"dataframe\">\n",
              "  <thead>\n",
              "    <tr style=\"text-align: right;\">\n",
              "      <th></th>\n",
              "      <th>record_id</th>\n",
              "      <th>new_grupo_estadio_clinico</th>\n",
              "      <th>classificacao_tnm_clinico_t</th>\n",
              "      <th>classificacao_tnm_clinico_n</th>\n",
              "      <th>classificacao_tnm_clinico_m</th>\n",
              "      <th>descricao_da_topografia_</th>\n",
              "      <th>recidiva</th>\n",
              "      <th>cinco_anos_sem_rencidiva</th>\n",
              "    </tr>\n",
              "  </thead>\n",
              "  <tbody>\n",
              "    <tr>\n",
              "      <th>0</th>\n",
              "      <td>302</td>\n",
              "      <td></td>\n",
              "      <td>2</td>\n",
              "      <td>0</td>\n",
              "      <td>0</td>\n",
              "      <td>MAMA QUADRANTE SUPERIOR EXTERNO DA</td>\n",
              "      <td>Não</td>\n",
              "      <td>1</td>\n",
              "    </tr>\n",
              "    <tr>\n",
              "      <th>1</th>\n",
              "      <td>710</td>\n",
              "      <td></td>\n",
              "      <td>3</td>\n",
              "      <td>1</td>\n",
              "      <td>0</td>\n",
              "      <td>MAMA LESAO SOBREPOSTA DA</td>\n",
              "      <td>Sim</td>\n",
              "      <td>1</td>\n",
              "    </tr>\n",
              "    <tr>\n",
              "      <th>2</th>\n",
              "      <td>752</td>\n",
              "      <td></td>\n",
              "      <td>2</td>\n",
              "      <td>0</td>\n",
              "      <td>0</td>\n",
              "      <td>MAMA SOE (EXCLUI PELE DA MAMA C44.5)</td>\n",
              "      <td>Não</td>\n",
              "      <td>1</td>\n",
              "    </tr>\n",
              "    <tr>\n",
              "      <th>3</th>\n",
              "      <td>1367</td>\n",
              "      <td></td>\n",
              "      <td>1</td>\n",
              "      <td>1</td>\n",
              "      <td>0</td>\n",
              "      <td>MAMA QUADRANTE INFERIOR EXTERNO DA</td>\n",
              "      <td>Sim</td>\n",
              "      <td>0</td>\n",
              "    </tr>\n",
              "    <tr>\n",
              "      <th>4</th>\n",
              "      <td>1589</td>\n",
              "      <td></td>\n",
              "      <td>2</td>\n",
              "      <td>1</td>\n",
              "      <td>0</td>\n",
              "      <td>MAMA LESAO SOBREPOSTA DA</td>\n",
              "      <td>Não</td>\n",
              "      <td>1</td>\n",
              "    </tr>\n",
              "  </tbody>\n",
              "</table>\n",
              "</div>\n",
              "      <button class=\"colab-df-convert\" onclick=\"convertToInteractive('df-3bed99f4-d168-4045-9c96-085fb1c03896')\"\n",
              "              title=\"Convert this dataframe to an interactive table.\"\n",
              "              style=\"display:none;\">\n",
              "        \n",
              "  <svg xmlns=\"http://www.w3.org/2000/svg\" height=\"24px\"viewBox=\"0 0 24 24\"\n",
              "       width=\"24px\">\n",
              "    <path d=\"M0 0h24v24H0V0z\" fill=\"none\"/>\n",
              "    <path d=\"M18.56 5.44l.94 2.06.94-2.06 2.06-.94-2.06-.94-.94-2.06-.94 2.06-2.06.94zm-11 1L8.5 8.5l.94-2.06 2.06-.94-2.06-.94L8.5 2.5l-.94 2.06-2.06.94zm10 10l.94 2.06.94-2.06 2.06-.94-2.06-.94-.94-2.06-.94 2.06-2.06.94z\"/><path d=\"M17.41 7.96l-1.37-1.37c-.4-.4-.92-.59-1.43-.59-.52 0-1.04.2-1.43.59L10.3 9.45l-7.72 7.72c-.78.78-.78 2.05 0 2.83L4 21.41c.39.39.9.59 1.41.59.51 0 1.02-.2 1.41-.59l7.78-7.78 2.81-2.81c.8-.78.8-2.07 0-2.86zM5.41 20L4 18.59l7.72-7.72 1.47 1.35L5.41 20z\"/>\n",
              "  </svg>\n",
              "      </button>\n",
              "      \n",
              "  <style>\n",
              "    .colab-df-container {\n",
              "      display:flex;\n",
              "      flex-wrap:wrap;\n",
              "      gap: 12px;\n",
              "    }\n",
              "\n",
              "    .colab-df-convert {\n",
              "      background-color: #E8F0FE;\n",
              "      border: none;\n",
              "      border-radius: 50%;\n",
              "      cursor: pointer;\n",
              "      display: none;\n",
              "      fill: #1967D2;\n",
              "      height: 32px;\n",
              "      padding: 0 0 0 0;\n",
              "      width: 32px;\n",
              "    }\n",
              "\n",
              "    .colab-df-convert:hover {\n",
              "      background-color: #E2EBFA;\n",
              "      box-shadow: 0px 1px 2px rgba(60, 64, 67, 0.3), 0px 1px 3px 1px rgba(60, 64, 67, 0.15);\n",
              "      fill: #174EA6;\n",
              "    }\n",
              "\n",
              "    [theme=dark] .colab-df-convert {\n",
              "      background-color: #3B4455;\n",
              "      fill: #D2E3FC;\n",
              "    }\n",
              "\n",
              "    [theme=dark] .colab-df-convert:hover {\n",
              "      background-color: #434B5C;\n",
              "      box-shadow: 0px 1px 3px 1px rgba(0, 0, 0, 0.15);\n",
              "      filter: drop-shadow(0px 1px 2px rgba(0, 0, 0, 0.3));\n",
              "      fill: #FFFFFF;\n",
              "    }\n",
              "  </style>\n",
              "\n",
              "      <script>\n",
              "        const buttonEl =\n",
              "          document.querySelector('#df-3bed99f4-d168-4045-9c96-085fb1c03896 button.colab-df-convert');\n",
              "        buttonEl.style.display =\n",
              "          google.colab.kernel.accessAllowed ? 'block' : 'none';\n",
              "\n",
              "        async function convertToInteractive(key) {\n",
              "          const element = document.querySelector('#df-3bed99f4-d168-4045-9c96-085fb1c03896');\n",
              "          const dataTable =\n",
              "            await google.colab.kernel.invokeFunction('convertToInteractive',\n",
              "                                                     [key], {});\n",
              "          if (!dataTable) return;\n",
              "\n",
              "          const docLinkHtml = 'Like what you see? Visit the ' +\n",
              "            '<a target=\"_blank\" href=https://colab.research.google.com/notebooks/data_table.ipynb>data table notebook</a>'\n",
              "            + ' to learn more about interactive tables.';\n",
              "          element.innerHTML = '';\n",
              "          dataTable['output_type'] = 'display_data';\n",
              "          await google.colab.output.renderOutput(dataTable, element);\n",
              "          const docLink = document.createElement('div');\n",
              "          docLink.innerHTML = docLinkHtml;\n",
              "          element.appendChild(docLink);\n",
              "        }\n",
              "      </script>\n",
              "    </div>\n",
              "  </div>\n",
              "  "
            ]
          },
          "metadata": {},
          "execution_count": 47
        }
      ],
      "source": [
        "# Criando um novo dataframe onde faremos o encoding\n",
        "dfrt_encoding = dfrt[['record_id', 'new_grupo_estadio_clinico', 'classificacao_tnm_clinico_t', 'classificacao_tnm_clinico_n', 'classificacao_tnm_clinico_m', 'descricao_da_topografia_', 'recidiva', 'cinco_anos_sem_rencidiva']].copy()\n",
        "dfrt_encoding.head()"
      ]
    },
    {
      "cell_type": "code",
      "execution_count": null,
      "metadata": {
        "colab": {
          "base_uri": "https://localhost:8080/"
        },
        "id": "yURk1UsNAMPU",
        "outputId": "82b92ff6-448c-4f00-8ecd-72d4a7118f84"
      },
      "outputs": [
        {
          "output_type": "execute_result",
          "data": {
            "text/plain": [
              "array(['', '0', 'I', 'X - nao foi possivel determinar'], dtype=object)"
            ]
          },
          "metadata": {},
          "execution_count": 48
        }
      ],
      "source": [
        "#encoding new_Grupo_estado_clinico\n",
        "dfrt_encoding['new_grupo_estadio_clinico'].unique()"
      ]
    },
    {
      "cell_type": "code",
      "execution_count": null,
      "metadata": {
        "id": "ogYJROMqA1dS"
      },
      "outputs": [],
      "source": [
        "def label_encoding_new_grupo_estadio_clinico(element):\n",
        "  if element == '0':\n",
        "    return 0\n",
        "  elif element == 'I':\n",
        "    return 1\n",
        "  elif element == 'II':\n",
        "    return 2\n",
        "  elif element == 'III':\n",
        "    return 3\n",
        "  elif element == 'IV':\n",
        "    return 4\n",
        "  else:\n",
        "    return -1\n",
        "\n",
        "dfrt_encoding['new_grupo_estadio_clinico'] = dfrt_encoding['new_grupo_estadio_clinico'].apply(label_encoding_new_grupo_estadio_clinico)"
      ]
    },
    {
      "cell_type": "code",
      "execution_count": null,
      "metadata": {
        "colab": {
          "base_uri": "https://localhost:8080/"
        },
        "id": "goZPfsacCv5Z",
        "outputId": "a50d551d-00df-45df-848f-5ed4a104495d"
      },
      "outputs": [
        {
          "output_type": "execute_result",
          "data": {
            "text/plain": [
              "array(['MAMA QUADRANTE SUPERIOR EXTERNO DA', 'MAMA LESAO SOBREPOSTA DA',\n",
              "       'MAMA SOE (EXCLUI PELE DA MAMA C44.5)',\n",
              "       'MAMA QUADRANTE INFERIOR EXTERNO DA', 'MAMA PORCAO CENTRAL DA',\n",
              "       'MAMA QUADRANTE SUPERIOR INTERNO DA', 'MAMA MAMILO',\n",
              "       'MAMA QUADRANTE INFERIOR INTERNO DA', 'MAMA PORCAO AXILAR DA'],\n",
              "      dtype=object)"
            ]
          },
          "metadata": {},
          "execution_count": 50
        }
      ],
      "source": [
        "#encoding Descricao_topografia\n",
        "dfrt_encoding['descricao_da_topografia_'].unique()"
      ]
    },
    {
      "cell_type": "code",
      "execution_count": null,
      "metadata": {
        "id": "MgH0HDSaDBgD"
      },
      "outputs": [],
      "source": [
        "#dfrt_encoding = pd.get_dummies(dfrt_encoding, columns=['descricao_da_topografia_'])\n",
        "dfrt_encoding['recidiva'] = dfrt_encoding['recidiva'].replace({'Sim': 1, 'Não': 0})"
      ]
    },
    {
      "cell_type": "code",
      "execution_count": null,
      "metadata": {
        "colab": {
          "base_uri": "https://localhost:8080/"
        },
        "id": "-rbQGiUT2JLc",
        "outputId": "3670d69d-e0c5-4996-e98f-377ea7e23cb3"
      },
      "outputs": [
        {
          "output_type": "execute_result",
          "data": {
            "text/plain": [
              "array(['2', '3', '1', '4', '0', 'X - nao foi possivel determinar'],\n",
              "      dtype=object)"
            ]
          },
          "metadata": {},
          "execution_count": 52
        }
      ],
      "source": [
        "dfrt_encoding['classificacao_tnm_clinico_t'].unique()"
      ]
    },
    {
      "cell_type": "code",
      "execution_count": null,
      "metadata": {
        "id": "HU-5tt7g2ihH"
      },
      "outputs": [],
      "source": [
        "def label_encoding_t(element):\n",
        "  if element == '0':\n",
        "    return 0\n",
        "  elif element == '1':\n",
        "    return 1\n",
        "  elif element == '2':\n",
        "    return 2\n",
        "  elif element == '3':\n",
        "    return 3\n",
        "  elif element == '4':\n",
        "    return 4\n",
        "  else:\n",
        "    return -1\n",
        "\n",
        "dfrt_encoding['classificacao_tnm_clinico_t'] = dfrt_encoding['classificacao_tnm_clinico_t'].apply(label_encoding_t)"
      ]
    },
    {
      "cell_type": "code",
      "execution_count": null,
      "metadata": {
        "colab": {
          "base_uri": "https://localhost:8080/"
        },
        "id": "H_rEbOSY3CpT",
        "outputId": "813d331d-65ca-4a32-d97f-860f5e17a43b"
      },
      "outputs": [
        {
          "output_type": "execute_result",
          "data": {
            "text/plain": [
              "array(['0', '1', '2', '3', 'X - nao foi possivel determinar', 'n1mi'],\n",
              "      dtype=object)"
            ]
          },
          "metadata": {},
          "execution_count": 54
        }
      ],
      "source": [
        "dfrt_encoding['classificacao_tnm_clinico_n'].unique()"
      ]
    },
    {
      "cell_type": "code",
      "execution_count": null,
      "metadata": {
        "id": "AJdHwVqC3JO6"
      },
      "outputs": [],
      "source": [
        "def label_encoding_n(element):\n",
        "  if element == '0':\n",
        "    return 0\n",
        "  elif element == '1':\n",
        "    return 1\n",
        "  elif element == '2':\n",
        "    return 2\n",
        "  elif element == '3':\n",
        "    return 3\n",
        "  elif element == '4':\n",
        "    return 4\n",
        "  else:\n",
        "    return -1\n",
        "\n",
        "dfrt_encoding['classificacao_tnm_clinico_n'] = dfrt_encoding['classificacao_tnm_clinico_n'].apply(label_encoding_n)"
      ]
    },
    {
      "cell_type": "code",
      "execution_count": null,
      "metadata": {
        "colab": {
          "base_uri": "https://localhost:8080/"
        },
        "id": "rhfOP5zp3Flf",
        "outputId": "ac03a291-78fe-4323-fc53-912ea44d35fe"
      },
      "outputs": [
        {
          "output_type": "execute_result",
          "data": {
            "text/plain": [
              "0                                  3709\n",
              "1                                   545\n",
              "X - nao foi possivel determinar      14\n",
              "Name: classificacao_tnm_clinico_m, dtype: int64"
            ]
          },
          "metadata": {},
          "execution_count": 56
        }
      ],
      "source": [
        "dfrt_encoding['classificacao_tnm_clinico_m'].value_counts()"
      ]
    },
    {
      "cell_type": "code",
      "execution_count": null,
      "metadata": {
        "id": "njkVZ5Dt3RiM"
      },
      "outputs": [],
      "source": [
        "dfrt_encoding['classificacao_tnm_clinico_m'] = np.where(dfrt_encoding['classificacao_tnm_clinico_m'] == '0', 0, dfrt_encoding['classificacao_tnm_clinico_m'])\n",
        "dfrt_encoding['classificacao_tnm_clinico_m'] = np.where(dfrt_encoding['classificacao_tnm_clinico_m'] == '1', 0, dfrt_encoding['classificacao_tnm_clinico_m'])\n",
        "dfrt_encoding['classificacao_tnm_clinico_m'] = np.where(dfrt_encoding['classificacao_tnm_clinico_m'] == 'X - nao foi possivel determinar', -1, dfrt_encoding['classificacao_tnm_clinico_m'])"
      ]
    },
    {
      "cell_type": "code",
      "execution_count": null,
      "metadata": {
        "id": "skOSdxFiWsIM"
      },
      "outputs": [],
      "source": [
        "#criando um novo dataframe com o encoding finalizado o modularizando\n",
        "dfrt_final = dfrt_encoding.copy()"
      ]
    },
    {
      "cell_type": "code",
      "execution_count": null,
      "metadata": {
        "colab": {
          "base_uri": "https://localhost:8080/",
          "height": 571
        },
        "id": "eEKVjitdROOH",
        "outputId": "6a84c7b7-4717-4465-dafb-aa5eaf86c2b6"
      },
      "outputs": [
        {
          "output_type": "execute_result",
          "data": {
            "text/plain": [
              "      record_id  new_grupo_estadio_clinico  classificacao_tnm_clinico_t  \\\n",
              "0           302                         -1                            2   \n",
              "1           710                         -1                            3   \n",
              "2           752                         -1                            2   \n",
              "3          1367                         -1                            1   \n",
              "4          1589                         -1                            2   \n",
              "...         ...                        ...                          ...   \n",
              "4263      82123                         -1                            3   \n",
              "4264      82124                         -1                            4   \n",
              "4265      82131                         -1                            3   \n",
              "4266      82205                         -1                            4   \n",
              "4267      82240                         -1                            2   \n",
              "\n",
              "      classificacao_tnm_clinico_n classificacao_tnm_clinico_m  \\\n",
              "0                               0                           0   \n",
              "1                               1                           0   \n",
              "2                               0                           0   \n",
              "3                               1                           0   \n",
              "4                               1                           0   \n",
              "...                           ...                         ...   \n",
              "4263                            0                           0   \n",
              "4264                            1                           0   \n",
              "4265                            1                           0   \n",
              "4266                            1                           0   \n",
              "4267                            3                           0   \n",
              "\n",
              "                  descricao_da_topografia_  recidiva  cinco_anos_sem_rencidiva  \n",
              "0       MAMA QUADRANTE SUPERIOR EXTERNO DA         0                         1  \n",
              "1                 MAMA LESAO SOBREPOSTA DA         1                         1  \n",
              "2     MAMA SOE (EXCLUI PELE DA MAMA C44.5)         0                         1  \n",
              "3       MAMA QUADRANTE INFERIOR EXTERNO DA         1                         0  \n",
              "4                 MAMA LESAO SOBREPOSTA DA         0                         1  \n",
              "...                                    ...       ...                       ...  \n",
              "4263    MAMA QUADRANTE SUPERIOR EXTERNO DA         0                         1  \n",
              "4264  MAMA SOE (EXCLUI PELE DA MAMA C44.5)         0                         1  \n",
              "4265    MAMA QUADRANTE SUPERIOR INTERNO DA         0                         1  \n",
              "4266    MAMA QUADRANTE SUPERIOR EXTERNO DA         1                         0  \n",
              "4267    MAMA QUADRANTE INFERIOR EXTERNO DA         0                         1  \n",
              "\n",
              "[4268 rows x 8 columns]"
            ],
            "text/html": [
              "\n",
              "  <div id=\"df-c9fe02a7-bed4-4f54-acf4-8c8c1c7586e4\">\n",
              "    <div class=\"colab-df-container\">\n",
              "      <div>\n",
              "<style scoped>\n",
              "    .dataframe tbody tr th:only-of-type {\n",
              "        vertical-align: middle;\n",
              "    }\n",
              "\n",
              "    .dataframe tbody tr th {\n",
              "        vertical-align: top;\n",
              "    }\n",
              "\n",
              "    .dataframe thead th {\n",
              "        text-align: right;\n",
              "    }\n",
              "</style>\n",
              "<table border=\"1\" class=\"dataframe\">\n",
              "  <thead>\n",
              "    <tr style=\"text-align: right;\">\n",
              "      <th></th>\n",
              "      <th>record_id</th>\n",
              "      <th>new_grupo_estadio_clinico</th>\n",
              "      <th>classificacao_tnm_clinico_t</th>\n",
              "      <th>classificacao_tnm_clinico_n</th>\n",
              "      <th>classificacao_tnm_clinico_m</th>\n",
              "      <th>descricao_da_topografia_</th>\n",
              "      <th>recidiva</th>\n",
              "      <th>cinco_anos_sem_rencidiva</th>\n",
              "    </tr>\n",
              "  </thead>\n",
              "  <tbody>\n",
              "    <tr>\n",
              "      <th>0</th>\n",
              "      <td>302</td>\n",
              "      <td>-1</td>\n",
              "      <td>2</td>\n",
              "      <td>0</td>\n",
              "      <td>0</td>\n",
              "      <td>MAMA QUADRANTE SUPERIOR EXTERNO DA</td>\n",
              "      <td>0</td>\n",
              "      <td>1</td>\n",
              "    </tr>\n",
              "    <tr>\n",
              "      <th>1</th>\n",
              "      <td>710</td>\n",
              "      <td>-1</td>\n",
              "      <td>3</td>\n",
              "      <td>1</td>\n",
              "      <td>0</td>\n",
              "      <td>MAMA LESAO SOBREPOSTA DA</td>\n",
              "      <td>1</td>\n",
              "      <td>1</td>\n",
              "    </tr>\n",
              "    <tr>\n",
              "      <th>2</th>\n",
              "      <td>752</td>\n",
              "      <td>-1</td>\n",
              "      <td>2</td>\n",
              "      <td>0</td>\n",
              "      <td>0</td>\n",
              "      <td>MAMA SOE (EXCLUI PELE DA MAMA C44.5)</td>\n",
              "      <td>0</td>\n",
              "      <td>1</td>\n",
              "    </tr>\n",
              "    <tr>\n",
              "      <th>3</th>\n",
              "      <td>1367</td>\n",
              "      <td>-1</td>\n",
              "      <td>1</td>\n",
              "      <td>1</td>\n",
              "      <td>0</td>\n",
              "      <td>MAMA QUADRANTE INFERIOR EXTERNO DA</td>\n",
              "      <td>1</td>\n",
              "      <td>0</td>\n",
              "    </tr>\n",
              "    <tr>\n",
              "      <th>4</th>\n",
              "      <td>1589</td>\n",
              "      <td>-1</td>\n",
              "      <td>2</td>\n",
              "      <td>1</td>\n",
              "      <td>0</td>\n",
              "      <td>MAMA LESAO SOBREPOSTA DA</td>\n",
              "      <td>0</td>\n",
              "      <td>1</td>\n",
              "    </tr>\n",
              "    <tr>\n",
              "      <th>...</th>\n",
              "      <td>...</td>\n",
              "      <td>...</td>\n",
              "      <td>...</td>\n",
              "      <td>...</td>\n",
              "      <td>...</td>\n",
              "      <td>...</td>\n",
              "      <td>...</td>\n",
              "      <td>...</td>\n",
              "    </tr>\n",
              "    <tr>\n",
              "      <th>4263</th>\n",
              "      <td>82123</td>\n",
              "      <td>-1</td>\n",
              "      <td>3</td>\n",
              "      <td>0</td>\n",
              "      <td>0</td>\n",
              "      <td>MAMA QUADRANTE SUPERIOR EXTERNO DA</td>\n",
              "      <td>0</td>\n",
              "      <td>1</td>\n",
              "    </tr>\n",
              "    <tr>\n",
              "      <th>4264</th>\n",
              "      <td>82124</td>\n",
              "      <td>-1</td>\n",
              "      <td>4</td>\n",
              "      <td>1</td>\n",
              "      <td>0</td>\n",
              "      <td>MAMA SOE (EXCLUI PELE DA MAMA C44.5)</td>\n",
              "      <td>0</td>\n",
              "      <td>1</td>\n",
              "    </tr>\n",
              "    <tr>\n",
              "      <th>4265</th>\n",
              "      <td>82131</td>\n",
              "      <td>-1</td>\n",
              "      <td>3</td>\n",
              "      <td>1</td>\n",
              "      <td>0</td>\n",
              "      <td>MAMA QUADRANTE SUPERIOR INTERNO DA</td>\n",
              "      <td>0</td>\n",
              "      <td>1</td>\n",
              "    </tr>\n",
              "    <tr>\n",
              "      <th>4266</th>\n",
              "      <td>82205</td>\n",
              "      <td>-1</td>\n",
              "      <td>4</td>\n",
              "      <td>1</td>\n",
              "      <td>0</td>\n",
              "      <td>MAMA QUADRANTE SUPERIOR EXTERNO DA</td>\n",
              "      <td>1</td>\n",
              "      <td>0</td>\n",
              "    </tr>\n",
              "    <tr>\n",
              "      <th>4267</th>\n",
              "      <td>82240</td>\n",
              "      <td>-1</td>\n",
              "      <td>2</td>\n",
              "      <td>3</td>\n",
              "      <td>0</td>\n",
              "      <td>MAMA QUADRANTE INFERIOR EXTERNO DA</td>\n",
              "      <td>0</td>\n",
              "      <td>1</td>\n",
              "    </tr>\n",
              "  </tbody>\n",
              "</table>\n",
              "<p>4268 rows × 8 columns</p>\n",
              "</div>\n",
              "      <button class=\"colab-df-convert\" onclick=\"convertToInteractive('df-c9fe02a7-bed4-4f54-acf4-8c8c1c7586e4')\"\n",
              "              title=\"Convert this dataframe to an interactive table.\"\n",
              "              style=\"display:none;\">\n",
              "        \n",
              "  <svg xmlns=\"http://www.w3.org/2000/svg\" height=\"24px\"viewBox=\"0 0 24 24\"\n",
              "       width=\"24px\">\n",
              "    <path d=\"M0 0h24v24H0V0z\" fill=\"none\"/>\n",
              "    <path d=\"M18.56 5.44l.94 2.06.94-2.06 2.06-.94-2.06-.94-.94-2.06-.94 2.06-2.06.94zm-11 1L8.5 8.5l.94-2.06 2.06-.94-2.06-.94L8.5 2.5l-.94 2.06-2.06.94zm10 10l.94 2.06.94-2.06 2.06-.94-2.06-.94-.94-2.06-.94 2.06-2.06.94z\"/><path d=\"M17.41 7.96l-1.37-1.37c-.4-.4-.92-.59-1.43-.59-.52 0-1.04.2-1.43.59L10.3 9.45l-7.72 7.72c-.78.78-.78 2.05 0 2.83L4 21.41c.39.39.9.59 1.41.59.51 0 1.02-.2 1.41-.59l7.78-7.78 2.81-2.81c.8-.78.8-2.07 0-2.86zM5.41 20L4 18.59l7.72-7.72 1.47 1.35L5.41 20z\"/>\n",
              "  </svg>\n",
              "      </button>\n",
              "      \n",
              "  <style>\n",
              "    .colab-df-container {\n",
              "      display:flex;\n",
              "      flex-wrap:wrap;\n",
              "      gap: 12px;\n",
              "    }\n",
              "\n",
              "    .colab-df-convert {\n",
              "      background-color: #E8F0FE;\n",
              "      border: none;\n",
              "      border-radius: 50%;\n",
              "      cursor: pointer;\n",
              "      display: none;\n",
              "      fill: #1967D2;\n",
              "      height: 32px;\n",
              "      padding: 0 0 0 0;\n",
              "      width: 32px;\n",
              "    }\n",
              "\n",
              "    .colab-df-convert:hover {\n",
              "      background-color: #E2EBFA;\n",
              "      box-shadow: 0px 1px 2px rgba(60, 64, 67, 0.3), 0px 1px 3px 1px rgba(60, 64, 67, 0.15);\n",
              "      fill: #174EA6;\n",
              "    }\n",
              "\n",
              "    [theme=dark] .colab-df-convert {\n",
              "      background-color: #3B4455;\n",
              "      fill: #D2E3FC;\n",
              "    }\n",
              "\n",
              "    [theme=dark] .colab-df-convert:hover {\n",
              "      background-color: #434B5C;\n",
              "      box-shadow: 0px 1px 3px 1px rgba(0, 0, 0, 0.15);\n",
              "      filter: drop-shadow(0px 1px 2px rgba(0, 0, 0, 0.3));\n",
              "      fill: #FFFFFF;\n",
              "    }\n",
              "  </style>\n",
              "\n",
              "      <script>\n",
              "        const buttonEl =\n",
              "          document.querySelector('#df-c9fe02a7-bed4-4f54-acf4-8c8c1c7586e4 button.colab-df-convert');\n",
              "        buttonEl.style.display =\n",
              "          google.colab.kernel.accessAllowed ? 'block' : 'none';\n",
              "\n",
              "        async function convertToInteractive(key) {\n",
              "          const element = document.querySelector('#df-c9fe02a7-bed4-4f54-acf4-8c8c1c7586e4');\n",
              "          const dataTable =\n",
              "            await google.colab.kernel.invokeFunction('convertToInteractive',\n",
              "                                                     [key], {});\n",
              "          if (!dataTable) return;\n",
              "\n",
              "          const docLinkHtml = 'Like what you see? Visit the ' +\n",
              "            '<a target=\"_blank\" href=https://colab.research.google.com/notebooks/data_table.ipynb>data table notebook</a>'\n",
              "            + ' to learn more about interactive tables.';\n",
              "          element.innerHTML = '';\n",
              "          dataTable['output_type'] = 'display_data';\n",
              "          await google.colab.output.renderOutput(dataTable, element);\n",
              "          const docLink = document.createElement('div');\n",
              "          docLink.innerHTML = docLinkHtml;\n",
              "          element.appendChild(docLink);\n",
              "        }\n",
              "      </script>\n",
              "    </div>\n",
              "  </div>\n",
              "  "
            ]
          },
          "metadata": {},
          "execution_count": 59
        }
      ],
      "source": [
        "dfrt_final"
      ]
    },
    {
      "cell_type": "markdown",
      "metadata": {
        "id": "VzV8LszA4aOk"
      },
      "source": [
        "## 2.2 DF Peso e Altura(dfpa)"
      ]
    },
    {
      "cell_type": "code",
      "execution_count": null,
      "metadata": {
        "colab": {
          "base_uri": "https://localhost:8080/"
        },
        "id": "UVy_FVQC6TEO",
        "outputId": "b38f92a3-9be3-40f1-af70-fd20b2a88050"
      },
      "outputs": [
        {
          "output_type": "stream",
          "name": "stdout",
          "text": [
            "<class 'pandas.core.frame.DataFrame'>\n",
            "RangeIndex: 55654 entries, 0 to 55653\n",
            "Data columns (total 7 columns):\n",
            " #   Column                   Non-Null Count  Dtype  \n",
            "---  ------                   --------------  -----  \n",
            " 0   Record ID                55654 non-null  int64  \n",
            " 1   Repeat Instrument        51382 non-null  object \n",
            " 2   Repeat Instance          51382 non-null  float64\n",
            " 3   Data:                    51354 non-null  object \n",
            " 4   Peso                     45178 non-null  float64\n",
            " 5   Altura (em centimetros)  49928 non-null  float64\n",
            " 6   IMC                      51334 non-null  float64\n",
            "dtypes: float64(4), int64(1), object(2)\n",
            "memory usage: 3.0+ MB\n"
          ]
        }
      ],
      "source": [
        "dfpa.info()"
      ]
    },
    {
      "cell_type": "markdown",
      "metadata": {
        "id": "ULEC5bTIKTv8"
      },
      "source": [
        "###Limpeza e renomeação:"
      ]
    },
    {
      "cell_type": "markdown",
      "metadata": {
        "id": "wvgq7yFFKXb3"
      },
      "source": [
        "Bem, primeiramente é importante entendermos o motivo de fazer a limpeza dos dados previamente. Nesse sentido, fazer a limpeza inicial dos dados é importante antes de começar a explorá-los e tratá-los porque os dados brutos geralmente contêm valores faltantes, valores inválidos, duplicatas, inconsistências, entre outros problemas que podem afetar negativamente as análises subsequentes. Se esses problemas não forem tratados antes de prosseguir com a análise, eles podem resultar em conclusões imprecisas ou enganosas."
      ]
    },
    {
      "cell_type": "code",
      "execution_count": null,
      "metadata": {
        "colab": {
          "base_uri": "https://localhost:8080/",
          "height": 423
        },
        "id": "3f2PgadZ6ZTp",
        "outputId": "fb48289b-d2ec-445c-da7c-9fe131b340d6"
      },
      "outputs": [
        {
          "output_type": "execute_result",
          "data": {
            "text/plain": [
              "       record_id  Repeat_Instance        Data    Peso  Altura   IMC\n",
              "1            302              1.0  2009-03-06   58.00     NaN   inf\n",
              "2            302              2.0  2009-01-23   57.00   158.0  22.8\n",
              "3            302              3.0  2009-02-06   57.00   158.0  22.8\n",
              "4            302              4.0  2009-12-25   62.00   158.0  24.8\n",
              "5            302              5.0  2011-07-09   57.75   158.0  23.1\n",
              "...          ...              ...         ...     ...     ...   ...\n",
              "55648      82205              3.0  2021-06-09  140.00   172.0  47.3\n",
              "55649      82205              4.0  2021-02-28  135.85   174.0  44.9\n",
              "55650      82205              5.0  2021-07-12  124.10   174.0  41.0\n",
              "55652      82240              1.0  2020-12-08   80.35   161.0  31.0\n",
              "55653      82240              2.0  2020-12-08   80.35   161.0  31.0\n",
              "\n",
              "[51382 rows x 6 columns]"
            ],
            "text/html": [
              "\n",
              "  <div id=\"df-59fb7456-bec1-4018-909c-0f50407418b5\">\n",
              "    <div class=\"colab-df-container\">\n",
              "      <div>\n",
              "<style scoped>\n",
              "    .dataframe tbody tr th:only-of-type {\n",
              "        vertical-align: middle;\n",
              "    }\n",
              "\n",
              "    .dataframe tbody tr th {\n",
              "        vertical-align: top;\n",
              "    }\n",
              "\n",
              "    .dataframe thead th {\n",
              "        text-align: right;\n",
              "    }\n",
              "</style>\n",
              "<table border=\"1\" class=\"dataframe\">\n",
              "  <thead>\n",
              "    <tr style=\"text-align: right;\">\n",
              "      <th></th>\n",
              "      <th>record_id</th>\n",
              "      <th>Repeat_Instance</th>\n",
              "      <th>Data</th>\n",
              "      <th>Peso</th>\n",
              "      <th>Altura</th>\n",
              "      <th>IMC</th>\n",
              "    </tr>\n",
              "  </thead>\n",
              "  <tbody>\n",
              "    <tr>\n",
              "      <th>1</th>\n",
              "      <td>302</td>\n",
              "      <td>1.0</td>\n",
              "      <td>2009-03-06</td>\n",
              "      <td>58.00</td>\n",
              "      <td>NaN</td>\n",
              "      <td>inf</td>\n",
              "    </tr>\n",
              "    <tr>\n",
              "      <th>2</th>\n",
              "      <td>302</td>\n",
              "      <td>2.0</td>\n",
              "      <td>2009-01-23</td>\n",
              "      <td>57.00</td>\n",
              "      <td>158.0</td>\n",
              "      <td>22.8</td>\n",
              "    </tr>\n",
              "    <tr>\n",
              "      <th>3</th>\n",
              "      <td>302</td>\n",
              "      <td>3.0</td>\n",
              "      <td>2009-02-06</td>\n",
              "      <td>57.00</td>\n",
              "      <td>158.0</td>\n",
              "      <td>22.8</td>\n",
              "    </tr>\n",
              "    <tr>\n",
              "      <th>4</th>\n",
              "      <td>302</td>\n",
              "      <td>4.0</td>\n",
              "      <td>2009-12-25</td>\n",
              "      <td>62.00</td>\n",
              "      <td>158.0</td>\n",
              "      <td>24.8</td>\n",
              "    </tr>\n",
              "    <tr>\n",
              "      <th>5</th>\n",
              "      <td>302</td>\n",
              "      <td>5.0</td>\n",
              "      <td>2011-07-09</td>\n",
              "      <td>57.75</td>\n",
              "      <td>158.0</td>\n",
              "      <td>23.1</td>\n",
              "    </tr>\n",
              "    <tr>\n",
              "      <th>...</th>\n",
              "      <td>...</td>\n",
              "      <td>...</td>\n",
              "      <td>...</td>\n",
              "      <td>...</td>\n",
              "      <td>...</td>\n",
              "      <td>...</td>\n",
              "    </tr>\n",
              "    <tr>\n",
              "      <th>55648</th>\n",
              "      <td>82205</td>\n",
              "      <td>3.0</td>\n",
              "      <td>2021-06-09</td>\n",
              "      <td>140.00</td>\n",
              "      <td>172.0</td>\n",
              "      <td>47.3</td>\n",
              "    </tr>\n",
              "    <tr>\n",
              "      <th>55649</th>\n",
              "      <td>82205</td>\n",
              "      <td>4.0</td>\n",
              "      <td>2021-02-28</td>\n",
              "      <td>135.85</td>\n",
              "      <td>174.0</td>\n",
              "      <td>44.9</td>\n",
              "    </tr>\n",
              "    <tr>\n",
              "      <th>55650</th>\n",
              "      <td>82205</td>\n",
              "      <td>5.0</td>\n",
              "      <td>2021-07-12</td>\n",
              "      <td>124.10</td>\n",
              "      <td>174.0</td>\n",
              "      <td>41.0</td>\n",
              "    </tr>\n",
              "    <tr>\n",
              "      <th>55652</th>\n",
              "      <td>82240</td>\n",
              "      <td>1.0</td>\n",
              "      <td>2020-12-08</td>\n",
              "      <td>80.35</td>\n",
              "      <td>161.0</td>\n",
              "      <td>31.0</td>\n",
              "    </tr>\n",
              "    <tr>\n",
              "      <th>55653</th>\n",
              "      <td>82240</td>\n",
              "      <td>2.0</td>\n",
              "      <td>2020-12-08</td>\n",
              "      <td>80.35</td>\n",
              "      <td>161.0</td>\n",
              "      <td>31.0</td>\n",
              "    </tr>\n",
              "  </tbody>\n",
              "</table>\n",
              "<p>51382 rows × 6 columns</p>\n",
              "</div>\n",
              "      <button class=\"colab-df-convert\" onclick=\"convertToInteractive('df-59fb7456-bec1-4018-909c-0f50407418b5')\"\n",
              "              title=\"Convert this dataframe to an interactive table.\"\n",
              "              style=\"display:none;\">\n",
              "        \n",
              "  <svg xmlns=\"http://www.w3.org/2000/svg\" height=\"24px\"viewBox=\"0 0 24 24\"\n",
              "       width=\"24px\">\n",
              "    <path d=\"M0 0h24v24H0V0z\" fill=\"none\"/>\n",
              "    <path d=\"M18.56 5.44l.94 2.06.94-2.06 2.06-.94-2.06-.94-.94-2.06-.94 2.06-2.06.94zm-11 1L8.5 8.5l.94-2.06 2.06-.94-2.06-.94L8.5 2.5l-.94 2.06-2.06.94zm10 10l.94 2.06.94-2.06 2.06-.94-2.06-.94-.94-2.06-.94 2.06-2.06.94z\"/><path d=\"M17.41 7.96l-1.37-1.37c-.4-.4-.92-.59-1.43-.59-.52 0-1.04.2-1.43.59L10.3 9.45l-7.72 7.72c-.78.78-.78 2.05 0 2.83L4 21.41c.39.39.9.59 1.41.59.51 0 1.02-.2 1.41-.59l7.78-7.78 2.81-2.81c.8-.78.8-2.07 0-2.86zM5.41 20L4 18.59l7.72-7.72 1.47 1.35L5.41 20z\"/>\n",
              "  </svg>\n",
              "      </button>\n",
              "      \n",
              "  <style>\n",
              "    .colab-df-container {\n",
              "      display:flex;\n",
              "      flex-wrap:wrap;\n",
              "      gap: 12px;\n",
              "    }\n",
              "\n",
              "    .colab-df-convert {\n",
              "      background-color: #E8F0FE;\n",
              "      border: none;\n",
              "      border-radius: 50%;\n",
              "      cursor: pointer;\n",
              "      display: none;\n",
              "      fill: #1967D2;\n",
              "      height: 32px;\n",
              "      padding: 0 0 0 0;\n",
              "      width: 32px;\n",
              "    }\n",
              "\n",
              "    .colab-df-convert:hover {\n",
              "      background-color: #E2EBFA;\n",
              "      box-shadow: 0px 1px 2px rgba(60, 64, 67, 0.3), 0px 1px 3px 1px rgba(60, 64, 67, 0.15);\n",
              "      fill: #174EA6;\n",
              "    }\n",
              "\n",
              "    [theme=dark] .colab-df-convert {\n",
              "      background-color: #3B4455;\n",
              "      fill: #D2E3FC;\n",
              "    }\n",
              "\n",
              "    [theme=dark] .colab-df-convert:hover {\n",
              "      background-color: #434B5C;\n",
              "      box-shadow: 0px 1px 3px 1px rgba(0, 0, 0, 0.15);\n",
              "      filter: drop-shadow(0px 1px 2px rgba(0, 0, 0, 0.3));\n",
              "      fill: #FFFFFF;\n",
              "    }\n",
              "  </style>\n",
              "\n",
              "      <script>\n",
              "        const buttonEl =\n",
              "          document.querySelector('#df-59fb7456-bec1-4018-909c-0f50407418b5 button.colab-df-convert');\n",
              "        buttonEl.style.display =\n",
              "          google.colab.kernel.accessAllowed ? 'block' : 'none';\n",
              "\n",
              "        async function convertToInteractive(key) {\n",
              "          const element = document.querySelector('#df-59fb7456-bec1-4018-909c-0f50407418b5');\n",
              "          const dataTable =\n",
              "            await google.colab.kernel.invokeFunction('convertToInteractive',\n",
              "                                                     [key], {});\n",
              "          if (!dataTable) return;\n",
              "\n",
              "          const docLinkHtml = 'Like what you see? Visit the ' +\n",
              "            '<a target=\"_blank\" href=https://colab.research.google.com/notebooks/data_table.ipynb>data table notebook</a>'\n",
              "            + ' to learn more about interactive tables.';\n",
              "          element.innerHTML = '';\n",
              "          dataTable['output_type'] = 'display_data';\n",
              "          await google.colab.output.renderOutput(dataTable, element);\n",
              "          const docLink = document.createElement('div');\n",
              "          docLink.innerHTML = docLinkHtml;\n",
              "          element.appendChild(docLink);\n",
              "        }\n",
              "      </script>\n",
              "    </div>\n",
              "  </div>\n",
              "  "
            ]
          },
          "metadata": {},
          "execution_count": 61
        }
      ],
      "source": [
        "#Renomeando as colunas\n",
        "dfpa = dfpa.rename(columns = {'Data: ':'Data', 'Altura (em centimetros)':'Altura', \n",
        "                       'Repeat Instance':'Repeat_Instance', 'Record ID':'record_id', 'Repeat Instrument':'Repeat_Instrument'})\n",
        "#Retirando a coluna Repeat_Instrument\n",
        "dfpa = dfpa.drop(\"Repeat_Instrument\", axis='columns')\n",
        "#Tabela reserva para teste\n",
        "dfpaTEST = dfpa\n",
        "\n",
        "#Retirando todas as que possuem todas colunas nulas\n",
        "dfpa = dfpa.dropna(thresh = 2)\n",
        "dfpa"
      ]
    },
    {
      "cell_type": "code",
      "execution_count": null,
      "metadata": {
        "id": "9-cPVZul6kD1"
      },
      "outputs": [],
      "source": [
        "dfpa.reset_index()\n",
        "#Criando uma lista que irá receber todos os valores novos da altura\n",
        "new_altura = []\n",
        "#tratando os nan\n",
        "def missing_altura(data):\n",
        "  mode_mean = data['Altura'].mode(dropna=True).mean()\n",
        "  data['Altura'] = data['Altura'].replace(np.nan, mode_mean)\n",
        "\n",
        "#padronizando a altura de cada paciente\n",
        "def standardize_altura(data):\n",
        "  mode_mean = data['Altura'].mode(dropna=True).mean()\n",
        "\n",
        "  for i in data['Altura']:\n",
        "    if i < mode_mean or i > mode_mean:\n",
        "      data['Altura'] = data['Altura'].replace(i, mode_mean)\n",
        "    new_altura.append(i)\n",
        "\n",
        "#função que irá ser chamada pelo apply\n",
        "def treatment_altura(data):\n",
        "  missing_altura(data)\n",
        "  standardize_altura(data)\n",
        "\n",
        "#agrupando em subconjuntos pelo Record_Id, tratando os dados levando em consideração um paciente\n",
        "dfpa_groupby = dfpa.groupby(['record_id']).apply(treatment_altura)"
      ]
    },
    {
      "cell_type": "code",
      "execution_count": null,
      "metadata": {
        "colab": {
          "base_uri": "https://localhost:8080/",
          "height": 622
        },
        "id": "Wmk7GgwB6l_I",
        "outputId": "56171a54-10f7-4856-c06c-57097260aaa0"
      },
      "outputs": [
        {
          "output_type": "stream",
          "name": "stderr",
          "text": [
            "<ipython-input-63-ae2c2f2d8c97>:2: SettingWithCopyWarning: \n",
            "A value is trying to be set on a copy of a slice from a DataFrame.\n",
            "Try using .loc[row_indexer,col_indexer] = value instead\n",
            "\n",
            "See the caveats in the documentation: https://pandas.pydata.org/pandas-docs/stable/user_guide/indexing.html#returning-a-view-versus-a-copy\n",
            "  dfpa['New_Altura'] = new_altura\n",
            "<ipython-input-63-ae2c2f2d8c97>:3: SettingWithCopyWarning: \n",
            "A value is trying to be set on a copy of a slice from a DataFrame.\n",
            "Try using .loc[row_indexer,col_indexer] = value instead\n",
            "\n",
            "See the caveats in the documentation: https://pandas.pydata.org/pandas-docs/stable/user_guide/indexing.html#returning-a-view-versus-a-copy\n",
            "  dfpa['New_Altura'] = dfpa['New_Altura'].replace(np.nan, dfpa['New_Altura'].mode(dropna=True).mean())\n",
            "<ipython-input-63-ae2c2f2d8c97>:4: SettingWithCopyWarning: \n",
            "A value is trying to be set on a copy of a slice from a DataFrame.\n",
            "Try using .loc[row_indexer,col_indexer] = value instead\n",
            "\n",
            "See the caveats in the documentation: https://pandas.pydata.org/pandas-docs/stable/user_guide/indexing.html#returning-a-view-versus-a-copy\n",
            "  dfpa['New_Altura'] = dfpa['New_Altura'].replace(0, dfpa['New_Altura'].mode(dropna=True).mean())\n",
            "<ipython-input-63-ae2c2f2d8c97>:5: SettingWithCopyWarning: \n",
            "A value is trying to be set on a copy of a slice from a DataFrame.\n",
            "Try using .loc[row_indexer,col_indexer] = value instead\n",
            "\n",
            "See the caveats in the documentation: https://pandas.pydata.org/pandas-docs/stable/user_guide/indexing.html#returning-a-view-versus-a-copy\n",
            "  dfpa['New_Altura'] = dfpa['New_Altura'].replace(78, dfpa['New_Altura'].mode(dropna=True).mean())\n"
          ]
        },
        {
          "output_type": "execute_result",
          "data": {
            "text/plain": [
              "   record_id  Repeat_Instance        Data   Peso   IMC  Altura\n",
              "1        302              1.0  2009-03-06  58.00   inf   158.0\n",
              "2        302              2.0  2009-01-23  57.00  22.8   158.0\n",
              "3        302              3.0  2009-02-06  57.00  22.8   158.0\n",
              "4        302              4.0  2009-12-25  62.00  24.8   158.0\n",
              "5        302              5.0  2011-07-09  57.75  23.1   158.0"
            ],
            "text/html": [
              "\n",
              "  <div id=\"df-46e6d133-f75b-43f5-bbaa-21b4cf5175b7\">\n",
              "    <div class=\"colab-df-container\">\n",
              "      <div>\n",
              "<style scoped>\n",
              "    .dataframe tbody tr th:only-of-type {\n",
              "        vertical-align: middle;\n",
              "    }\n",
              "\n",
              "    .dataframe tbody tr th {\n",
              "        vertical-align: top;\n",
              "    }\n",
              "\n",
              "    .dataframe thead th {\n",
              "        text-align: right;\n",
              "    }\n",
              "</style>\n",
              "<table border=\"1\" class=\"dataframe\">\n",
              "  <thead>\n",
              "    <tr style=\"text-align: right;\">\n",
              "      <th></th>\n",
              "      <th>record_id</th>\n",
              "      <th>Repeat_Instance</th>\n",
              "      <th>Data</th>\n",
              "      <th>Peso</th>\n",
              "      <th>IMC</th>\n",
              "      <th>Altura</th>\n",
              "    </tr>\n",
              "  </thead>\n",
              "  <tbody>\n",
              "    <tr>\n",
              "      <th>1</th>\n",
              "      <td>302</td>\n",
              "      <td>1.0</td>\n",
              "      <td>2009-03-06</td>\n",
              "      <td>58.00</td>\n",
              "      <td>inf</td>\n",
              "      <td>158.0</td>\n",
              "    </tr>\n",
              "    <tr>\n",
              "      <th>2</th>\n",
              "      <td>302</td>\n",
              "      <td>2.0</td>\n",
              "      <td>2009-01-23</td>\n",
              "      <td>57.00</td>\n",
              "      <td>22.8</td>\n",
              "      <td>158.0</td>\n",
              "    </tr>\n",
              "    <tr>\n",
              "      <th>3</th>\n",
              "      <td>302</td>\n",
              "      <td>3.0</td>\n",
              "      <td>2009-02-06</td>\n",
              "      <td>57.00</td>\n",
              "      <td>22.8</td>\n",
              "      <td>158.0</td>\n",
              "    </tr>\n",
              "    <tr>\n",
              "      <th>4</th>\n",
              "      <td>302</td>\n",
              "      <td>4.0</td>\n",
              "      <td>2009-12-25</td>\n",
              "      <td>62.00</td>\n",
              "      <td>24.8</td>\n",
              "      <td>158.0</td>\n",
              "    </tr>\n",
              "    <tr>\n",
              "      <th>5</th>\n",
              "      <td>302</td>\n",
              "      <td>5.0</td>\n",
              "      <td>2011-07-09</td>\n",
              "      <td>57.75</td>\n",
              "      <td>23.1</td>\n",
              "      <td>158.0</td>\n",
              "    </tr>\n",
              "  </tbody>\n",
              "</table>\n",
              "</div>\n",
              "      <button class=\"colab-df-convert\" onclick=\"convertToInteractive('df-46e6d133-f75b-43f5-bbaa-21b4cf5175b7')\"\n",
              "              title=\"Convert this dataframe to an interactive table.\"\n",
              "              style=\"display:none;\">\n",
              "        \n",
              "  <svg xmlns=\"http://www.w3.org/2000/svg\" height=\"24px\"viewBox=\"0 0 24 24\"\n",
              "       width=\"24px\">\n",
              "    <path d=\"M0 0h24v24H0V0z\" fill=\"none\"/>\n",
              "    <path d=\"M18.56 5.44l.94 2.06.94-2.06 2.06-.94-2.06-.94-.94-2.06-.94 2.06-2.06.94zm-11 1L8.5 8.5l.94-2.06 2.06-.94-2.06-.94L8.5 2.5l-.94 2.06-2.06.94zm10 10l.94 2.06.94-2.06 2.06-.94-2.06-.94-.94-2.06-.94 2.06-2.06.94z\"/><path d=\"M17.41 7.96l-1.37-1.37c-.4-.4-.92-.59-1.43-.59-.52 0-1.04.2-1.43.59L10.3 9.45l-7.72 7.72c-.78.78-.78 2.05 0 2.83L4 21.41c.39.39.9.59 1.41.59.51 0 1.02-.2 1.41-.59l7.78-7.78 2.81-2.81c.8-.78.8-2.07 0-2.86zM5.41 20L4 18.59l7.72-7.72 1.47 1.35L5.41 20z\"/>\n",
              "  </svg>\n",
              "      </button>\n",
              "      \n",
              "  <style>\n",
              "    .colab-df-container {\n",
              "      display:flex;\n",
              "      flex-wrap:wrap;\n",
              "      gap: 12px;\n",
              "    }\n",
              "\n",
              "    .colab-df-convert {\n",
              "      background-color: #E8F0FE;\n",
              "      border: none;\n",
              "      border-radius: 50%;\n",
              "      cursor: pointer;\n",
              "      display: none;\n",
              "      fill: #1967D2;\n",
              "      height: 32px;\n",
              "      padding: 0 0 0 0;\n",
              "      width: 32px;\n",
              "    }\n",
              "\n",
              "    .colab-df-convert:hover {\n",
              "      background-color: #E2EBFA;\n",
              "      box-shadow: 0px 1px 2px rgba(60, 64, 67, 0.3), 0px 1px 3px 1px rgba(60, 64, 67, 0.15);\n",
              "      fill: #174EA6;\n",
              "    }\n",
              "\n",
              "    [theme=dark] .colab-df-convert {\n",
              "      background-color: #3B4455;\n",
              "      fill: #D2E3FC;\n",
              "    }\n",
              "\n",
              "    [theme=dark] .colab-df-convert:hover {\n",
              "      background-color: #434B5C;\n",
              "      box-shadow: 0px 1px 3px 1px rgba(0, 0, 0, 0.15);\n",
              "      filter: drop-shadow(0px 1px 2px rgba(0, 0, 0, 0.3));\n",
              "      fill: #FFFFFF;\n",
              "    }\n",
              "  </style>\n",
              "\n",
              "      <script>\n",
              "        const buttonEl =\n",
              "          document.querySelector('#df-46e6d133-f75b-43f5-bbaa-21b4cf5175b7 button.colab-df-convert');\n",
              "        buttonEl.style.display =\n",
              "          google.colab.kernel.accessAllowed ? 'block' : 'none';\n",
              "\n",
              "        async function convertToInteractive(key) {\n",
              "          const element = document.querySelector('#df-46e6d133-f75b-43f5-bbaa-21b4cf5175b7');\n",
              "          const dataTable =\n",
              "            await google.colab.kernel.invokeFunction('convertToInteractive',\n",
              "                                                     [key], {});\n",
              "          if (!dataTable) return;\n",
              "\n",
              "          const docLinkHtml = 'Like what you see? Visit the ' +\n",
              "            '<a target=\"_blank\" href=https://colab.research.google.com/notebooks/data_table.ipynb>data table notebook</a>'\n",
              "            + ' to learn more about interactive tables.';\n",
              "          element.innerHTML = '';\n",
              "          dataTable['output_type'] = 'display_data';\n",
              "          await google.colab.output.renderOutput(dataTable, element);\n",
              "          const docLink = document.createElement('div');\n",
              "          docLink.innerHTML = docLinkHtml;\n",
              "          element.appendChild(docLink);\n",
              "        }\n",
              "      </script>\n",
              "    </div>\n",
              "  </div>\n",
              "  "
            ]
          },
          "metadata": {},
          "execution_count": 63
        }
      ],
      "source": [
        "#Tratando os elementos restantes\n",
        "dfpa['New_Altura'] = new_altura\n",
        "dfpa['New_Altura'] = dfpa['New_Altura'].replace(np.nan, dfpa['New_Altura'].mode(dropna=True).mean())\n",
        "dfpa['New_Altura'] = dfpa['New_Altura'].replace(0, dfpa['New_Altura'].mode(dropna=True).mean())\n",
        "dfpa['New_Altura'] = dfpa['New_Altura'].replace(78, dfpa['New_Altura'].mode(dropna=True).mean())\n",
        "dfpa = dfpa.drop(columns='Altura')\n",
        "dfpa = dfpa.rename(columns = {'New_Altura':'Altura'})\n",
        "dfpa.head()"
      ]
    },
    {
      "cell_type": "code",
      "execution_count": null,
      "metadata": {
        "colab": {
          "base_uri": "https://localhost:8080/"
        },
        "id": "J2gw0W9j6mlf",
        "outputId": "8104767b-18a9-414f-e8cc-6d8f856a18fd"
      },
      "outputs": [
        {
          "output_type": "stream",
          "name": "stderr",
          "text": [
            "/usr/local/lib/python3.9/dist-packages/numpy/lib/nanfunctions.py:1216: RuntimeWarning: Mean of empty slice\n",
            "  return np.nanmean(a, axis, out=out, keepdims=keepdims)\n",
            "/usr/local/lib/python3.9/dist-packages/numpy/lib/nanfunctions.py:1216: RuntimeWarning: Mean of empty slice\n",
            "  return np.nanmean(a, axis, out=out, keepdims=keepdims)\n",
            "/usr/local/lib/python3.9/dist-packages/numpy/lib/nanfunctions.py:1216: RuntimeWarning: Mean of empty slice\n",
            "  return np.nanmean(a, axis, out=out, keepdims=keepdims)\n",
            "/usr/local/lib/python3.9/dist-packages/numpy/lib/nanfunctions.py:1216: RuntimeWarning: Mean of empty slice\n",
            "  return np.nanmean(a, axis, out=out, keepdims=keepdims)\n",
            "/usr/local/lib/python3.9/dist-packages/numpy/lib/nanfunctions.py:1216: RuntimeWarning: Mean of empty slice\n",
            "  return np.nanmean(a, axis, out=out, keepdims=keepdims)\n",
            "/usr/local/lib/python3.9/dist-packages/numpy/lib/nanfunctions.py:1216: RuntimeWarning: Mean of empty slice\n",
            "  return np.nanmean(a, axis, out=out, keepdims=keepdims)\n",
            "/usr/local/lib/python3.9/dist-packages/numpy/lib/nanfunctions.py:1216: RuntimeWarning: Mean of empty slice\n",
            "  return np.nanmean(a, axis, out=out, keepdims=keepdims)\n",
            "/usr/local/lib/python3.9/dist-packages/numpy/lib/nanfunctions.py:1216: RuntimeWarning: Mean of empty slice\n",
            "  return np.nanmean(a, axis, out=out, keepdims=keepdims)\n",
            "/usr/local/lib/python3.9/dist-packages/numpy/lib/nanfunctions.py:1216: RuntimeWarning: Mean of empty slice\n",
            "  return np.nanmean(a, axis, out=out, keepdims=keepdims)\n",
            "/usr/local/lib/python3.9/dist-packages/numpy/lib/nanfunctions.py:1216: RuntimeWarning: Mean of empty slice\n",
            "  return np.nanmean(a, axis, out=out, keepdims=keepdims)\n",
            "/usr/local/lib/python3.9/dist-packages/numpy/lib/nanfunctions.py:1216: RuntimeWarning: Mean of empty slice\n",
            "  return np.nanmean(a, axis, out=out, keepdims=keepdims)\n",
            "/usr/local/lib/python3.9/dist-packages/numpy/lib/nanfunctions.py:1216: RuntimeWarning: Mean of empty slice\n",
            "  return np.nanmean(a, axis, out=out, keepdims=keepdims)\n",
            "/usr/local/lib/python3.9/dist-packages/numpy/lib/nanfunctions.py:1216: RuntimeWarning: Mean of empty slice\n",
            "  return np.nanmean(a, axis, out=out, keepdims=keepdims)\n",
            "/usr/local/lib/python3.9/dist-packages/numpy/lib/nanfunctions.py:1216: RuntimeWarning: Mean of empty slice\n",
            "  return np.nanmean(a, axis, out=out, keepdims=keepdims)\n",
            "/usr/local/lib/python3.9/dist-packages/numpy/lib/nanfunctions.py:1216: RuntimeWarning: Mean of empty slice\n",
            "  return np.nanmean(a, axis, out=out, keepdims=keepdims)\n",
            "/usr/local/lib/python3.9/dist-packages/numpy/lib/nanfunctions.py:1216: RuntimeWarning: Mean of empty slice\n",
            "  return np.nanmean(a, axis, out=out, keepdims=keepdims)\n",
            "/usr/local/lib/python3.9/dist-packages/numpy/lib/nanfunctions.py:1216: RuntimeWarning: Mean of empty slice\n",
            "  return np.nanmean(a, axis, out=out, keepdims=keepdims)\n",
            "/usr/local/lib/python3.9/dist-packages/numpy/lib/nanfunctions.py:1216: RuntimeWarning: Mean of empty slice\n",
            "  return np.nanmean(a, axis, out=out, keepdims=keepdims)\n",
            "/usr/local/lib/python3.9/dist-packages/numpy/lib/nanfunctions.py:1216: RuntimeWarning: Mean of empty slice\n",
            "  return np.nanmean(a, axis, out=out, keepdims=keepdims)\n",
            "/usr/local/lib/python3.9/dist-packages/numpy/lib/nanfunctions.py:1216: RuntimeWarning: Mean of empty slice\n",
            "  return np.nanmean(a, axis, out=out, keepdims=keepdims)\n",
            "/usr/local/lib/python3.9/dist-packages/numpy/lib/nanfunctions.py:1216: RuntimeWarning: Mean of empty slice\n",
            "  return np.nanmean(a, axis, out=out, keepdims=keepdims)\n",
            "/usr/local/lib/python3.9/dist-packages/numpy/lib/nanfunctions.py:1216: RuntimeWarning: Mean of empty slice\n",
            "  return np.nanmean(a, axis, out=out, keepdims=keepdims)\n"
          ]
        }
      ],
      "source": [
        "#tratando os pesos a partir do agrupamento dos pacientes pelo seu Record_ID\n",
        "def missing_peso(data):\n",
        "  if len(data) == 1:\n",
        "    return data\n",
        "\n",
        "  else:\n",
        "    data['Peso'] = data['Peso'].replace(np.nan, data['Peso'].median())\n",
        "    for i in data['Peso']:\n",
        "      if i >= data['Peso'].mean()+data['Peso'].std()*3 or i < data['Peso'].mean()-data['Peso'].std()*3:\n",
        "        data['Peso'] = data['Peso'].replace(i, data['Peso'].mean())\n",
        "    return data\n",
        "\n",
        "\n",
        "dfpa = dfpa.groupby(['record_id']).apply(missing_peso)\n",
        "dfpa['Peso'] = dfpa['Peso'].replace(np.nan, dfpa['Peso'].mode().mean())\n",
        "dfpa['Peso'] = dfpa['Peso'].replace(1, dfpa['Peso'].mode().mean())"
      ]
    },
    {
      "cell_type": "code",
      "execution_count": null,
      "metadata": {
        "colab": {
          "base_uri": "https://localhost:8080/",
          "height": 423
        },
        "id": "86bFEe0m6pQw",
        "outputId": "db230ccb-6e20-4bae-a818-ab228c1157a9"
      },
      "outputs": [
        {
          "output_type": "execute_result",
          "data": {
            "text/plain": [
              "       record_id  Repeat_Instance        Data    Peso        IMC  Altura\n",
              "1            302              1.0  2009-03-06   58.00  23.233456   158.0\n",
              "2            302              2.0  2009-01-23   57.00  22.832879   158.0\n",
              "3            302              3.0  2009-02-06   57.00  22.832879   158.0\n",
              "4            302              4.0  2009-12-25   62.00  24.835763   158.0\n",
              "5            302              5.0  2011-07-09   57.75  23.133312   158.0\n",
              "...          ...              ...         ...     ...        ...     ...\n",
              "55648      82205              3.0  2021-06-09  140.00  47.322877   172.0\n",
              "55649      82205              4.0  2021-02-28  135.85  44.870525   174.0\n",
              "55650      82205              5.0  2021-07-12  124.10  40.989563   174.0\n",
              "55652      82240              1.0  2020-12-08   80.35  30.998032   161.0\n",
              "55653      82240              2.0  2020-12-08   80.35  30.998032   161.0\n",
              "\n",
              "[51382 rows x 6 columns]"
            ],
            "text/html": [
              "\n",
              "  <div id=\"df-a04503b3-da5e-4bcf-b35d-4bffb9ca8c23\">\n",
              "    <div class=\"colab-df-container\">\n",
              "      <div>\n",
              "<style scoped>\n",
              "    .dataframe tbody tr th:only-of-type {\n",
              "        vertical-align: middle;\n",
              "    }\n",
              "\n",
              "    .dataframe tbody tr th {\n",
              "        vertical-align: top;\n",
              "    }\n",
              "\n",
              "    .dataframe thead th {\n",
              "        text-align: right;\n",
              "    }\n",
              "</style>\n",
              "<table border=\"1\" class=\"dataframe\">\n",
              "  <thead>\n",
              "    <tr style=\"text-align: right;\">\n",
              "      <th></th>\n",
              "      <th>record_id</th>\n",
              "      <th>Repeat_Instance</th>\n",
              "      <th>Data</th>\n",
              "      <th>Peso</th>\n",
              "      <th>IMC</th>\n",
              "      <th>Altura</th>\n",
              "    </tr>\n",
              "  </thead>\n",
              "  <tbody>\n",
              "    <tr>\n",
              "      <th>1</th>\n",
              "      <td>302</td>\n",
              "      <td>1.0</td>\n",
              "      <td>2009-03-06</td>\n",
              "      <td>58.00</td>\n",
              "      <td>23.233456</td>\n",
              "      <td>158.0</td>\n",
              "    </tr>\n",
              "    <tr>\n",
              "      <th>2</th>\n",
              "      <td>302</td>\n",
              "      <td>2.0</td>\n",
              "      <td>2009-01-23</td>\n",
              "      <td>57.00</td>\n",
              "      <td>22.832879</td>\n",
              "      <td>158.0</td>\n",
              "    </tr>\n",
              "    <tr>\n",
              "      <th>3</th>\n",
              "      <td>302</td>\n",
              "      <td>3.0</td>\n",
              "      <td>2009-02-06</td>\n",
              "      <td>57.00</td>\n",
              "      <td>22.832879</td>\n",
              "      <td>158.0</td>\n",
              "    </tr>\n",
              "    <tr>\n",
              "      <th>4</th>\n",
              "      <td>302</td>\n",
              "      <td>4.0</td>\n",
              "      <td>2009-12-25</td>\n",
              "      <td>62.00</td>\n",
              "      <td>24.835763</td>\n",
              "      <td>158.0</td>\n",
              "    </tr>\n",
              "    <tr>\n",
              "      <th>5</th>\n",
              "      <td>302</td>\n",
              "      <td>5.0</td>\n",
              "      <td>2011-07-09</td>\n",
              "      <td>57.75</td>\n",
              "      <td>23.133312</td>\n",
              "      <td>158.0</td>\n",
              "    </tr>\n",
              "    <tr>\n",
              "      <th>...</th>\n",
              "      <td>...</td>\n",
              "      <td>...</td>\n",
              "      <td>...</td>\n",
              "      <td>...</td>\n",
              "      <td>...</td>\n",
              "      <td>...</td>\n",
              "    </tr>\n",
              "    <tr>\n",
              "      <th>55648</th>\n",
              "      <td>82205</td>\n",
              "      <td>3.0</td>\n",
              "      <td>2021-06-09</td>\n",
              "      <td>140.00</td>\n",
              "      <td>47.322877</td>\n",
              "      <td>172.0</td>\n",
              "    </tr>\n",
              "    <tr>\n",
              "      <th>55649</th>\n",
              "      <td>82205</td>\n",
              "      <td>4.0</td>\n",
              "      <td>2021-02-28</td>\n",
              "      <td>135.85</td>\n",
              "      <td>44.870525</td>\n",
              "      <td>174.0</td>\n",
              "    </tr>\n",
              "    <tr>\n",
              "      <th>55650</th>\n",
              "      <td>82205</td>\n",
              "      <td>5.0</td>\n",
              "      <td>2021-07-12</td>\n",
              "      <td>124.10</td>\n",
              "      <td>40.989563</td>\n",
              "      <td>174.0</td>\n",
              "    </tr>\n",
              "    <tr>\n",
              "      <th>55652</th>\n",
              "      <td>82240</td>\n",
              "      <td>1.0</td>\n",
              "      <td>2020-12-08</td>\n",
              "      <td>80.35</td>\n",
              "      <td>30.998032</td>\n",
              "      <td>161.0</td>\n",
              "    </tr>\n",
              "    <tr>\n",
              "      <th>55653</th>\n",
              "      <td>82240</td>\n",
              "      <td>2.0</td>\n",
              "      <td>2020-12-08</td>\n",
              "      <td>80.35</td>\n",
              "      <td>30.998032</td>\n",
              "      <td>161.0</td>\n",
              "    </tr>\n",
              "  </tbody>\n",
              "</table>\n",
              "<p>51382 rows × 6 columns</p>\n",
              "</div>\n",
              "      <button class=\"colab-df-convert\" onclick=\"convertToInteractive('df-a04503b3-da5e-4bcf-b35d-4bffb9ca8c23')\"\n",
              "              title=\"Convert this dataframe to an interactive table.\"\n",
              "              style=\"display:none;\">\n",
              "        \n",
              "  <svg xmlns=\"http://www.w3.org/2000/svg\" height=\"24px\"viewBox=\"0 0 24 24\"\n",
              "       width=\"24px\">\n",
              "    <path d=\"M0 0h24v24H0V0z\" fill=\"none\"/>\n",
              "    <path d=\"M18.56 5.44l.94 2.06.94-2.06 2.06-.94-2.06-.94-.94-2.06-.94 2.06-2.06.94zm-11 1L8.5 8.5l.94-2.06 2.06-.94-2.06-.94L8.5 2.5l-.94 2.06-2.06.94zm10 10l.94 2.06.94-2.06 2.06-.94-2.06-.94-.94-2.06-.94 2.06-2.06.94z\"/><path d=\"M17.41 7.96l-1.37-1.37c-.4-.4-.92-.59-1.43-.59-.52 0-1.04.2-1.43.59L10.3 9.45l-7.72 7.72c-.78.78-.78 2.05 0 2.83L4 21.41c.39.39.9.59 1.41.59.51 0 1.02-.2 1.41-.59l7.78-7.78 2.81-2.81c.8-.78.8-2.07 0-2.86zM5.41 20L4 18.59l7.72-7.72 1.47 1.35L5.41 20z\"/>\n",
              "  </svg>\n",
              "      </button>\n",
              "      \n",
              "  <style>\n",
              "    .colab-df-container {\n",
              "      display:flex;\n",
              "      flex-wrap:wrap;\n",
              "      gap: 12px;\n",
              "    }\n",
              "\n",
              "    .colab-df-convert {\n",
              "      background-color: #E8F0FE;\n",
              "      border: none;\n",
              "      border-radius: 50%;\n",
              "      cursor: pointer;\n",
              "      display: none;\n",
              "      fill: #1967D2;\n",
              "      height: 32px;\n",
              "      padding: 0 0 0 0;\n",
              "      width: 32px;\n",
              "    }\n",
              "\n",
              "    .colab-df-convert:hover {\n",
              "      background-color: #E2EBFA;\n",
              "      box-shadow: 0px 1px 2px rgba(60, 64, 67, 0.3), 0px 1px 3px 1px rgba(60, 64, 67, 0.15);\n",
              "      fill: #174EA6;\n",
              "    }\n",
              "\n",
              "    [theme=dark] .colab-df-convert {\n",
              "      background-color: #3B4455;\n",
              "      fill: #D2E3FC;\n",
              "    }\n",
              "\n",
              "    [theme=dark] .colab-df-convert:hover {\n",
              "      background-color: #434B5C;\n",
              "      box-shadow: 0px 1px 3px 1px rgba(0, 0, 0, 0.15);\n",
              "      filter: drop-shadow(0px 1px 2px rgba(0, 0, 0, 0.3));\n",
              "      fill: #FFFFFF;\n",
              "    }\n",
              "  </style>\n",
              "\n",
              "      <script>\n",
              "        const buttonEl =\n",
              "          document.querySelector('#df-a04503b3-da5e-4bcf-b35d-4bffb9ca8c23 button.colab-df-convert');\n",
              "        buttonEl.style.display =\n",
              "          google.colab.kernel.accessAllowed ? 'block' : 'none';\n",
              "\n",
              "        async function convertToInteractive(key) {\n",
              "          const element = document.querySelector('#df-a04503b3-da5e-4bcf-b35d-4bffb9ca8c23');\n",
              "          const dataTable =\n",
              "            await google.colab.kernel.invokeFunction('convertToInteractive',\n",
              "                                                     [key], {});\n",
              "          if (!dataTable) return;\n",
              "\n",
              "          const docLinkHtml = 'Like what you see? Visit the ' +\n",
              "            '<a target=\"_blank\" href=https://colab.research.google.com/notebooks/data_table.ipynb>data table notebook</a>'\n",
              "            + ' to learn more about interactive tables.';\n",
              "          element.innerHTML = '';\n",
              "          dataTable['output_type'] = 'display_data';\n",
              "          await google.colab.output.renderOutput(dataTable, element);\n",
              "          const docLink = document.createElement('div');\n",
              "          docLink.innerHTML = docLinkHtml;\n",
              "          element.appendChild(docLink);\n",
              "        }\n",
              "      </script>\n",
              "    </div>\n",
              "  </div>\n",
              "  "
            ]
          },
          "metadata": {},
          "execution_count": 65
        }
      ],
      "source": [
        "#Recalculando o IMC com os novos dados\n",
        "def imc(row):\n",
        "  row['IMC'] = (row['Peso']/(row['Altura']**2))*10000\n",
        "  return row\n",
        "dfpa = dfpa.apply(imc, axis = 1)\n",
        "dfpa"
      ]
    },
    {
      "cell_type": "code",
      "execution_count": null,
      "metadata": {
        "colab": {
          "base_uri": "https://localhost:8080/",
          "height": 423
        },
        "id": "W1j6QgQD6sS2",
        "outputId": "1e5a0d38-cd2f-40ab-be2e-9c83d6a6fa30"
      },
      "outputs": [
        {
          "output_type": "execute_result",
          "data": {
            "text/plain": [
              "      record_id  Repeat_Instance        Data    Peso        IMC  Altura\n",
              "0           302             20.0  2009-01-02   57.80  23.153341   158.0\n",
              "1           710             18.0  2008-07-12   61.00  25.065746   156.0\n",
              "2           752              2.0  2009-12-03   84.00  36.357341   152.0\n",
              "3          1367              1.0  2010-04-28   57.90  28.314343   143.0\n",
              "4          1589             12.0  2009-04-03   63.20  22.661264   167.0\n",
              "...         ...              ...         ...     ...        ...     ...\n",
              "3798      82123              5.0  2021-02-07   85.40  36.481695   153.0\n",
              "3799      82124              1.0  2020-11-10   81.10  35.568615   151.0\n",
              "3800      82131              1.0  2020-11-01   71.40  29.152079   156.5\n",
              "3801      82205              4.0  2021-02-28  135.85  44.870525   174.0\n",
              "3802      82240              1.0  2020-12-08   80.35  30.998032   161.0\n",
              "\n",
              "[3803 rows x 6 columns]"
            ],
            "text/html": [
              "\n",
              "  <div id=\"df-7039950d-84ac-47e5-9f42-792618a8e80a\">\n",
              "    <div class=\"colab-df-container\">\n",
              "      <div>\n",
              "<style scoped>\n",
              "    .dataframe tbody tr th:only-of-type {\n",
              "        vertical-align: middle;\n",
              "    }\n",
              "\n",
              "    .dataframe tbody tr th {\n",
              "        vertical-align: top;\n",
              "    }\n",
              "\n",
              "    .dataframe thead th {\n",
              "        text-align: right;\n",
              "    }\n",
              "</style>\n",
              "<table border=\"1\" class=\"dataframe\">\n",
              "  <thead>\n",
              "    <tr style=\"text-align: right;\">\n",
              "      <th></th>\n",
              "      <th>record_id</th>\n",
              "      <th>Repeat_Instance</th>\n",
              "      <th>Data</th>\n",
              "      <th>Peso</th>\n",
              "      <th>IMC</th>\n",
              "      <th>Altura</th>\n",
              "    </tr>\n",
              "  </thead>\n",
              "  <tbody>\n",
              "    <tr>\n",
              "      <th>0</th>\n",
              "      <td>302</td>\n",
              "      <td>20.0</td>\n",
              "      <td>2009-01-02</td>\n",
              "      <td>57.80</td>\n",
              "      <td>23.153341</td>\n",
              "      <td>158.0</td>\n",
              "    </tr>\n",
              "    <tr>\n",
              "      <th>1</th>\n",
              "      <td>710</td>\n",
              "      <td>18.0</td>\n",
              "      <td>2008-07-12</td>\n",
              "      <td>61.00</td>\n",
              "      <td>25.065746</td>\n",
              "      <td>156.0</td>\n",
              "    </tr>\n",
              "    <tr>\n",
              "      <th>2</th>\n",
              "      <td>752</td>\n",
              "      <td>2.0</td>\n",
              "      <td>2009-12-03</td>\n",
              "      <td>84.00</td>\n",
              "      <td>36.357341</td>\n",
              "      <td>152.0</td>\n",
              "    </tr>\n",
              "    <tr>\n",
              "      <th>3</th>\n",
              "      <td>1367</td>\n",
              "      <td>1.0</td>\n",
              "      <td>2010-04-28</td>\n",
              "      <td>57.90</td>\n",
              "      <td>28.314343</td>\n",
              "      <td>143.0</td>\n",
              "    </tr>\n",
              "    <tr>\n",
              "      <th>4</th>\n",
              "      <td>1589</td>\n",
              "      <td>12.0</td>\n",
              "      <td>2009-04-03</td>\n",
              "      <td>63.20</td>\n",
              "      <td>22.661264</td>\n",
              "      <td>167.0</td>\n",
              "    </tr>\n",
              "    <tr>\n",
              "      <th>...</th>\n",
              "      <td>...</td>\n",
              "      <td>...</td>\n",
              "      <td>...</td>\n",
              "      <td>...</td>\n",
              "      <td>...</td>\n",
              "      <td>...</td>\n",
              "    </tr>\n",
              "    <tr>\n",
              "      <th>3798</th>\n",
              "      <td>82123</td>\n",
              "      <td>5.0</td>\n",
              "      <td>2021-02-07</td>\n",
              "      <td>85.40</td>\n",
              "      <td>36.481695</td>\n",
              "      <td>153.0</td>\n",
              "    </tr>\n",
              "    <tr>\n",
              "      <th>3799</th>\n",
              "      <td>82124</td>\n",
              "      <td>1.0</td>\n",
              "      <td>2020-11-10</td>\n",
              "      <td>81.10</td>\n",
              "      <td>35.568615</td>\n",
              "      <td>151.0</td>\n",
              "    </tr>\n",
              "    <tr>\n",
              "      <th>3800</th>\n",
              "      <td>82131</td>\n",
              "      <td>1.0</td>\n",
              "      <td>2020-11-01</td>\n",
              "      <td>71.40</td>\n",
              "      <td>29.152079</td>\n",
              "      <td>156.5</td>\n",
              "    </tr>\n",
              "    <tr>\n",
              "      <th>3801</th>\n",
              "      <td>82205</td>\n",
              "      <td>4.0</td>\n",
              "      <td>2021-02-28</td>\n",
              "      <td>135.85</td>\n",
              "      <td>44.870525</td>\n",
              "      <td>174.0</td>\n",
              "    </tr>\n",
              "    <tr>\n",
              "      <th>3802</th>\n",
              "      <td>82240</td>\n",
              "      <td>1.0</td>\n",
              "      <td>2020-12-08</td>\n",
              "      <td>80.35</td>\n",
              "      <td>30.998032</td>\n",
              "      <td>161.0</td>\n",
              "    </tr>\n",
              "  </tbody>\n",
              "</table>\n",
              "<p>3803 rows × 6 columns</p>\n",
              "</div>\n",
              "      <button class=\"colab-df-convert\" onclick=\"convertToInteractive('df-7039950d-84ac-47e5-9f42-792618a8e80a')\"\n",
              "              title=\"Convert this dataframe to an interactive table.\"\n",
              "              style=\"display:none;\">\n",
              "        \n",
              "  <svg xmlns=\"http://www.w3.org/2000/svg\" height=\"24px\"viewBox=\"0 0 24 24\"\n",
              "       width=\"24px\">\n",
              "    <path d=\"M0 0h24v24H0V0z\" fill=\"none\"/>\n",
              "    <path d=\"M18.56 5.44l.94 2.06.94-2.06 2.06-.94-2.06-.94-.94-2.06-.94 2.06-2.06.94zm-11 1L8.5 8.5l.94-2.06 2.06-.94-2.06-.94L8.5 2.5l-.94 2.06-2.06.94zm10 10l.94 2.06.94-2.06 2.06-.94-2.06-.94-.94-2.06-.94 2.06-2.06.94z\"/><path d=\"M17.41 7.96l-1.37-1.37c-.4-.4-.92-.59-1.43-.59-.52 0-1.04.2-1.43.59L10.3 9.45l-7.72 7.72c-.78.78-.78 2.05 0 2.83L4 21.41c.39.39.9.59 1.41.59.51 0 1.02-.2 1.41-.59l7.78-7.78 2.81-2.81c.8-.78.8-2.07 0-2.86zM5.41 20L4 18.59l7.72-7.72 1.47 1.35L5.41 20z\"/>\n",
              "  </svg>\n",
              "      </button>\n",
              "      \n",
              "  <style>\n",
              "    .colab-df-container {\n",
              "      display:flex;\n",
              "      flex-wrap:wrap;\n",
              "      gap: 12px;\n",
              "    }\n",
              "\n",
              "    .colab-df-convert {\n",
              "      background-color: #E8F0FE;\n",
              "      border: none;\n",
              "      border-radius: 50%;\n",
              "      cursor: pointer;\n",
              "      display: none;\n",
              "      fill: #1967D2;\n",
              "      height: 32px;\n",
              "      padding: 0 0 0 0;\n",
              "      width: 32px;\n",
              "    }\n",
              "\n",
              "    .colab-df-convert:hover {\n",
              "      background-color: #E2EBFA;\n",
              "      box-shadow: 0px 1px 2px rgba(60, 64, 67, 0.3), 0px 1px 3px 1px rgba(60, 64, 67, 0.15);\n",
              "      fill: #174EA6;\n",
              "    }\n",
              "\n",
              "    [theme=dark] .colab-df-convert {\n",
              "      background-color: #3B4455;\n",
              "      fill: #D2E3FC;\n",
              "    }\n",
              "\n",
              "    [theme=dark] .colab-df-convert:hover {\n",
              "      background-color: #434B5C;\n",
              "      box-shadow: 0px 1px 3px 1px rgba(0, 0, 0, 0.15);\n",
              "      filter: drop-shadow(0px 1px 2px rgba(0, 0, 0, 0.3));\n",
              "      fill: #FFFFFF;\n",
              "    }\n",
              "  </style>\n",
              "\n",
              "      <script>\n",
              "        const buttonEl =\n",
              "          document.querySelector('#df-7039950d-84ac-47e5-9f42-792618a8e80a button.colab-df-convert');\n",
              "        buttonEl.style.display =\n",
              "          google.colab.kernel.accessAllowed ? 'block' : 'none';\n",
              "\n",
              "        async function convertToInteractive(key) {\n",
              "          const element = document.querySelector('#df-7039950d-84ac-47e5-9f42-792618a8e80a');\n",
              "          const dataTable =\n",
              "            await google.colab.kernel.invokeFunction('convertToInteractive',\n",
              "                                                     [key], {});\n",
              "          if (!dataTable) return;\n",
              "\n",
              "          const docLinkHtml = 'Like what you see? Visit the ' +\n",
              "            '<a target=\"_blank\" href=https://colab.research.google.com/notebooks/data_table.ipynb>data table notebook</a>'\n",
              "            + ' to learn more about interactive tables.';\n",
              "          element.innerHTML = '';\n",
              "          dataTable['output_type'] = 'display_data';\n",
              "          await google.colab.output.renderOutput(dataTable, element);\n",
              "          const docLink = document.createElement('div');\n",
              "          docLink.innerHTML = docLinkHtml;\n",
              "          element.appendChild(docLink);\n",
              "        }\n",
              "      </script>\n",
              "    </div>\n",
              "  </div>\n",
              "  "
            ]
          },
          "metadata": {},
          "execution_count": 66
        }
      ],
      "source": [
        "#Ordena a partir da data e retorna o resultado da primeira consulta\n",
        "def agrupamento(data):\n",
        "  data = data.sort_values(by='Data', ascending = True)\n",
        "  return data.iloc[0]\n",
        "\n",
        "dfpa = dfpa.groupby(by='record_id', as_index = False).apply(agrupamento)\n",
        "dfpa"
      ]
    },
    {
      "cell_type": "markdown",
      "metadata": {
        "id": "12VdBZj3XaPo"
      },
      "source": [
        "* O código abaixo seleciona as features de dfpa"
      ]
    },
    {
      "cell_type": "code",
      "execution_count": null,
      "metadata": {
        "id": "euCB7ndfH64R"
      },
      "outputs": [],
      "source": [
        "#dataframe para o merge\n",
        "dfpa_final = dfpa.drop(columns = 'Data')"
      ]
    },
    {
      "cell_type": "markdown",
      "metadata": {
        "id": "4_jIMOvqDFr4"
      },
      "source": [
        "## 2.3 DF Histopatológico(dfh)"
      ]
    },
    {
      "cell_type": "markdown",
      "metadata": {
        "id": "gFNhlqnIDen5"
      },
      "source": [
        "###2.3.1 Renomeando as colunas:"
      ]
    },
    {
      "cell_type": "code",
      "execution_count": null,
      "metadata": {
        "id": "p27d76ERDiYq"
      },
      "outputs": [],
      "source": [
        "# Renomeando colunas do dataframe de dados histopatológicos\n",
        "dfh = dfh.rename(columns={\n",
        "                          'Record ID': 'record_id',\n",
        "                          'Repeat Instrument': 'repeat_instrument',\n",
        "                          'Repeat Instance': 'repeat_instance',\n",
        "                          'Diagnostico primario (tipo histológico)': 'diagnostico_primario_tipo_histologico',\n",
        "                          'Grau histológico': 'grau_histologico',\n",
        "                          'Subtipo tumoral': 'subtipo_tumoral',\n",
        "                          'Receptor de estrogênio': 'receptor_estrogenio',\n",
        "                          'Receptor de progesterona': 'receptor_progesterona',\n",
        "                          'Ki67 (>14%)': 'ki67_maior14pct',\n",
        "                          'Receptor de progesterona (quantificação %)': 'receptor_progesterona_quantificacao_pct',\n",
        "                          'Receptorde Estrogênio (quantificação %)': 'receptorde_estrogenio_quantificacao_pct',\n",
        "                          'Indice H (Receptorde progesterona)': 'indice_h_receptorde_progesterona',\n",
        "                          'HER2 por IHC': 'her2_por_ihc',\n",
        "                          'HER2 por FISH': 'her2_por_fish',\n",
        "                          'Ki67 (%)': 'ki67_pct'\n",
        "                          })"
      ]
    },
    {
      "cell_type": "markdown",
      "metadata": {
        "id": "90f83kswD3rB"
      },
      "source": [
        "###2.3.2 Limpeza:"
      ]
    },
    {
      "cell_type": "markdown",
      "metadata": {
        "id": "jMP5zP-CKOSX"
      },
      "source": [
        "Bem, primeiramente é importante entendermos o motivo de fazer a limpeza dos dados previamente. Nesse sentido, fazer a limpeza inicial dos dados é importante antes de começar a explorá-los e tratá-los porque os dados brutos geralmente contêm valores faltantes, valores inválidos, duplicatas, inconsistências, entre outros problemas que podem afetar negativamente as análises subsequentes. Se esses problemas não forem tratados antes de prosseguir com a análise, eles podem resultar em conclusões imprecisas ou enganosas."
      ]
    },
    {
      "cell_type": "markdown",
      "metadata": {
        "id": "oKuRwS4KEVQz"
      },
      "source": [
        "* repeat_instrument da tabela dfh(possui apenas um tipo de dado)"
      ]
    },
    {
      "cell_type": "code",
      "execution_count": null,
      "metadata": {
        "id": "64mNMh2qD6YS"
      },
      "outputs": [],
      "source": [
        "#irá remover todas as linhas que tem apenas 1 (UMA) coluna preenchida\n",
        "dfh = dfh.dropna(thresh=2)\n",
        "#Remove a coluna 'repeat_instrument\n",
        "dfh = dfh.drop(['repeat_instrument'], axis = 1)"
      ]
    },
    {
      "cell_type": "markdown",
      "metadata": {
        "id": "ziCIGq4Q-XPA"
      },
      "source": [
        "### 2.3.3 Tratamento de missings da tabela dfh(histopatologia):"
      ]
    },
    {
      "cell_type": "markdown",
      "metadata": {
        "id": "wKc8FwAl0BvX"
      },
      "source": [
        "Contextualizando, após analisarmos o dicionário fornecido pelo parceiro, descobrimos que a coluna \"subtipo_tumoral\"(que está apenas 2%) contém informações importantes e fundamentais para quase todas as outras colunas da tabela, ou seja, por meio da coluna supracitada iremos tratar boa parte das outras colunas, abaixo uma legenda explicando melhor"
      ]
    },
    {
      "cell_type": "markdown",
      "metadata": {
        "id": "Vuq6VJu51fQs"
      },
      "source": [
        "Legenda de como funcionará esse tratamento através da coluna \"subtipo_tumoral\":\n",
        "  * subtipo tumoral = 1(luminal A)  então o paciente tem progesterena e/ou estrogenio, logo as colunas \"receptor_estrogenio\" e \"receptor_progesterona\" receberão \"positivo\"  , HER2_IHC !=4  (diferente de 4, que significa +++POSITIVO), HER_FISH != 3 (diferente de 3, onde 3 significa AMPLIFICADO). \n",
        "  * subtipo tumoral = 2(luminal B)  então o paciente tem progesterena e/ou estrogenio, logo as colunas \"receptor_estrogenio\" e \"receptor_progesterona\" receberão \"positivo\"  , HER2_IHC !=4  (diferente de 4, que significa +++POSITIVO), HER_FISH != 3 (diferente de 3, onde 3 significa AMPLIFICADO). Porém KI67 = 1\n",
        "  * subtipo tumoral = 3(HER-2) então o paciente tem HER2_IHC=4(+++POSITIVO) E HER2_FISH =3 (AMPLIFICADO)\n",
        "  * subtipo tumoral = 4 então o paciente não tem progesterona e nem estrogênio, HER2_IHC != 4(diferente de 4, onde 4 significa +++positivo) e HER2_FISH != 3 (DIFERENTE DE 3, onde 3 significa amplificado)\n"
      ]
    },
    {
      "cell_type": "markdown",
      "metadata": {
        "id": "gD2WheX9Krn3"
      },
      "source": [
        "![image.png](data:image/png;base64,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)"
      ]
    },
    {
      "cell_type": "markdown",
      "metadata": {
        "id": "BHN1_oj21z7E"
      },
      "source": [
        "Primeiramente, vamos tirar os id's repetidos, mantendo aqueles que possuem mais dados, essa estratégia foi utilizada de acordo com o feedback que o parceiro deu, indicando que o correto seria manter os id's que tem mais dados. Abaixo teremos a explicação do código:"
      ]
    },
    {
      "cell_type": "markdown",
      "metadata": {
        "id": "ZfjsEq0w8N5g"
      },
      "source": [
        "Inicialmente, iremos agrupar a tabela pelo id e salvando na variável \"agrupado\" e depois contaremos o número que cada record_id aparece na tabela e salvando isso na variável contagem. Após isso filtraremos apenas os que aparecem duas ou mais vezes isso é representado pela variável duplicados, logo depois a variável repetidos retorna as linhas com os id's repetidos e em seguida criaremos uma lista apenas com os record_id's repetidos. Dentro do for o que foi feito é o seguinte, o i recebe todos os valores de record_ids repetidos(que estão guardados na lista_repetidos) para cada valor de i é contado o número de colunas vazias , assim para um id repetido, ou seja, que aparece mais de uma vez, contaremos o número de colunas vazias para cada uma de suas aparições e logo em seguida ordenaremos isso para que a aparição que tiver menos colunas vazias fique em cima, isso está salvo na variável \"colunas_vazias_ordenados\", depois salvaremos essa variável em forma de lista e selecionaremos \"colunas_vazias_ordenados[1:].index\" com o intuito de pegar o número do index da tabela dfh para retirarmos essa linha, é importante notar que estamos pegando a partir do segundo valor que aparece([1:]) , pois queremos eliminar todos os repetidos, deixando apenas o que tem mais dados. Por fim faremos um drop nas linhas encontradas na variável \"lista_vazios\"."
      ]
    },
    {
      "cell_type": "code",
      "execution_count": null,
      "metadata": {
        "colab": {
          "base_uri": "https://localhost:8080/"
        },
        "id": "nvPFa74ZBdjk",
        "outputId": "d6b8642f-7381-42d4-d025-28dd82b5da0f"
      },
      "outputs": [
        {
          "output_type": "execute_result",
          "data": {
            "text/plain": [
              "(4272, 14)"
            ]
          },
          "metadata": {},
          "execution_count": 70
        }
      ],
      "source": [
        "\n",
        "agrupado = dfh.groupby('record_id')\n",
        "contagem = agrupado.size()\n",
        "duplicados = contagem[contagem >= 2]\n",
        "repetidos = dfh[dfh['record_id'].isin(duplicados.index)]\n",
        "lista_repetidos = list(repetidos.record_id)\n",
        "\n",
        "for i in lista_repetidos:\n",
        "  colunas_vazias = dfh.loc[dfh['record_id'] == i].isna().sum(axis=1)\n",
        "  colunas_vazias_ordenados = colunas_vazias.sort_values()\n",
        "  lista_vazios = list(colunas_vazias_ordenados[1:].index)\n",
        "  dfh = dfh.drop(index =lista_vazios)\n",
        "dfh.shape"
      ]
    },
    {
      "cell_type": "code",
      "execution_count": null,
      "metadata": {
        "colab": {
          "base_uri": "https://localhost:8080/"
        },
        "id": "v1M2n_n8-vt-",
        "outputId": "9a424c28-1b89-4c06-a908-18337a069284"
      },
      "outputs": [
        {
          "output_type": "execute_result",
          "data": {
            "text/plain": [
              "indice_h_receptorde_progesterona           89.044944\n",
              "grau_histologico                           72.027154\n",
              "receptor_progesterona_quantificacao_pct    62.102060\n",
              "her2_por_fish                              59.152622\n",
              "receptorde_estrogenio_quantificacao_pct    57.022472\n",
              "diagnostico_primario_tipo_histologico      37.640449\n",
              "ki67_pct                                   20.997191\n",
              "ki67_maior14pct                            17.509363\n",
              "receptor_estrogenio                        10.557116\n",
              "receptor_progesterona                      10.486891\n",
              "her2_por_ihc                                1.240637\n",
              "subtipo_tumoral                             0.070225\n",
              "record_id                                   0.000000\n",
              "repeat_instance                             0.000000\n",
              "dtype: float64"
            ]
          },
          "metadata": {},
          "execution_count": 71
        }
      ],
      "source": [
        "(dfh.isnull().mean().sort_values(ascending=False))*100"
      ]
    },
    {
      "cell_type": "code",
      "execution_count": null,
      "metadata": {
        "colab": {
          "base_uri": "https://localhost:8080/"
        },
        "id": "CPswpryTAtTi",
        "outputId": "dc82e196-9fd5-4779-c1b1-5f96216a0ef6"
      },
      "outputs": [
        {
          "output_type": "stream",
          "name": "stdout",
          "text": [
            "os dados na coluna record_id são:[  302   710   752 ... 82131 82205 82240]\n",
            "\n",
            "\n",
            "os dados na coluna repeat_instance são:[1. 2.]\n",
            "\n",
            "\n",
            "os dados na coluna diagnostico_primario_tipo_histologico são:[nan 'NÃO-ESPECIAL - Carcinoma de mama ductal invasivo (CDI)/SOE'\n",
            " 'Carcinoma de mama papilifero' 'Carcinoma de mama lobular invasivo'\n",
            " 'Carcinoma de mama medular' 'Carcinoma de mama lobular in situ' 'outros'\n",
            " 'Carcinoma de mama mucinoso' 'Carcinoma de mama metaplasico'\n",
            " 'Carcinoma lobular pleomórfico'\n",
            " 'Carcinoma de mama misto (ductal e micropapilífero) invasivo'\n",
            " 'Carcinoma de mama misto (ductal e lobular) invasivo'\n",
            " 'Adenomioepitelioma maligno'\n",
            " 'CARCINOMA MAMÁRIO INVASIVO DO TIPO APÓCRINO'\n",
            " 'Carcinoma de mama micropapilar' 'Carcinoma mamário invasivo multifocal'\n",
            " 'Carcinoma de mama cistico adenoide' 'Carcinoma de mama tubular'\n",
            " 'Tumor PHYLLODES maligno']\n",
            "\n",
            "\n",
            "os dados na coluna grau_histologico são:[nan  3.  2.  1.]\n",
            "\n",
            "\n",
            "os dados na coluna subtipo_tumoral são:[ 5.  2.  3.  4.  1. nan]\n",
            "\n",
            "\n",
            "os dados na coluna receptor_estrogenio são:['positivo' nan 'negativo']\n",
            "\n",
            "\n",
            "os dados na coluna receptor_progesterona são:['positivo' 'negativo' nan 'inconclusivo']\n",
            "\n",
            "\n",
            "os dados na coluna ki67_maior14pct são:[nan 'positivo' 'negativo' 'não realizado' 'inconclusivo']\n",
            "\n",
            "\n",
            "os dados na coluna receptor_progesterona_quantificacao_pct são:[nan '5' '90' '40' '50' '10' '60' '0' '20' '65' '100' '70' '66' '80' '1'\n",
            " 'neg' '15' '75' '30' '33' '95' '85' '34' '9' '20-70' '25' '98' '35' '2'\n",
            " '12' '94' 'inconclusivo' '8' '99' '97' 'NEG' '70%' '4' '7' '6' '55' '93']\n",
            "\n",
            "\n",
            "os dados na coluna receptorde_estrogenio_quantificacao_pct são:[nan '60' '90' '40' '50' '10' '80' '1' '70' '0' '100' '95' '25' '66' 'neg'\n",
            " '15' '30' '67' '20' '85' '75' '99' '5' '59' '2' '35' '33' '3' '98' '9'\n",
            " '96' '4' '88' '97' '8' 'NEG' '12' '23' '7' '1-10']\n",
            "\n",
            "\n",
            "os dados na coluna indice_h_receptorde_progesterona são:[ nan  10. 120. 270. 140.  15. 300. 240. 198.  90. 132.  70. 180.  45.\n",
            "  60.  30. 210. 160.  20. 285. 100. 294.  40. 150.  80.   2. 282.   4.\n",
            " 255. 200. 225.   1.   0.  75.   5. 105.]\n",
            "\n",
            "\n",
            "os dados na coluna her2_por_ihc são:[' +++ (positivo)' '0 (negativo)' ' ++ (duvidoso)' 'indeterminado'\n",
            " ' + (negativo)' nan]\n",
            "\n",
            "\n",
            "os dados na coluna her2_por_fish são:[nan 'não realizado' 'amplificado' 'sem amplificação'\n",
            " 'reação não funcionou' 'duvidoso']\n",
            "\n",
            "\n",
            "os dados na coluna ki67_pct são:[ nan  20.  40.  10.  80.  85.  70.  15.  30.  60.  50.   5.  25.  75.\n",
            "  12.  45.  90.   7.  18.  66.  33.   8.  35.  65.  22.  16.  13.  19.\n",
            "   1.  55.  14.  95.  24.   3.   2.  21.   0.  11.   6.  99.   4.  28.\n",
            "  62.  68.  73.  57.  43.  41.  37.  17.  36.  27.  56.  38.   9.  34.\n",
            "  52.  44.  23.  26.  32.  42.  29.  46. 100.  47.  48.  87.]\n",
            "\n",
            "\n"
          ]
        }
      ],
      "source": [
        "cool = ['record_id', 'repeat_instance', 'diagnostico_primario_tipo_histologico',\n",
        "       'grau_histologico', 'subtipo_tumoral', 'receptor_estrogenio',\n",
        "       'receptor_progesterona', 'ki67_maior14pct',\n",
        "       'receptor_progesterona_quantificacao_pct',\n",
        "       'receptorde_estrogenio_quantificacao_pct',\n",
        "       'indice_h_receptorde_progesterona', 'her2_por_ihc', 'her2_por_fish',\n",
        "       'ki67_pct']\n",
        "for i in cool:\n",
        "  informacoes2 = dfh[i].unique()\n",
        "  print(f'os dados na coluna {i} são:{informacoes2}')\n",
        "  print('\\n')"
      ]
    },
    {
      "cell_type": "markdown",
      "metadata": {
        "id": "IOD3fAORz0it"
      },
      "source": [
        "### 2.3.4 Tratando missings da coluna 'receptor_progesterona':"
      ]
    },
    {
      "cell_type": "code",
      "execution_count": null,
      "metadata": {
        "id": "aqsc3FRwz_Zl"
      },
      "outputs": [],
      "source": [
        "#De acordo com pesquisas geralmente quando o subtipo é HER-2 o paciente possui Receptores hormonais, ou seja, receptor progesterona e estrogenio serão positivos, confirmarei isso na sexta ainda\n",
        "dfh['receptor_progesterona'] = np.where((dfh['subtipo_tumoral'] == 3 )|(dfh['subtipo_tumoral'] == 4), \"negativo\" , dfh['receptor_progesterona'])\n",
        "dfh['receptor_progesterona'] = np.where((dfh['subtipo_tumoral'] == 5 )|(dfh['subtipo_tumoral'] == 1)|(dfh['subtipo_tumoral'] == 2), \"positivo\" , dfh['receptor_progesterona'])\n"
      ]
    },
    {
      "cell_type": "markdown",
      "metadata": {
        "id": "BJvUunM5MeOG"
      },
      "source": [
        "### 2.3.5 Tratando missings da coluna 'receptor_progesterona_quantificacao_pct':"
      ]
    },
    {
      "cell_type": "code",
      "execution_count": null,
      "metadata": {
        "id": "IciVd236KH1l"
      },
      "outputs": [],
      "source": [
        "#PRIMEIRAMENTE VAMOS TRANSFORMAR ESSA COLUNA EM NUMÉRICA\n",
        "\n",
        "\n",
        "#Aqui nós preencheremos os valores vazios da coluna , apenas quando a coluna \"receptor_progesterona\" for positivo, assim será preenchido mantendo a proporção da coluna\n",
        "positivo = dfh.loc[dfh['receptor_progesterona'] == 'positivo']\n",
        "proporcoes_progest = positivo['receptor_progesterona_quantificacao_pct'].value_counts(normalize=True)\n",
        "valores_aleatorios = np.random.choice(proporcoes_progest.index, size=dfh['receptor_progesterona_quantificacao_pct'].isnull().sum(), p=proporcoes_progest.values)\n",
        "indices_nulos_positivos = dfh['receptor_progesterona_quantificacao_pct'].isnull() & dfh['receptor_progesterona'].eq('positivo')\n",
        "if any(indices_nulos_positivos):\n",
        "    dfh.loc[indices_nulos_positivos, 'receptor_progesterona_quantificacao_pct'] = valores_aleatorios[:sum(indices_nulos_positivos)] #dfh.loc  é mais seguro do que usar np.where porque garante que estamos alterando apenas as linhas que atendem à condição, sem afetar outras linhas em que a condição é falsa. Mas, não significa que np.where nao deve ser utilizado\n",
        "\n",
        "#Agora colocaremos 0 nos valores vazios da coluna, caso na mesma linha a coluna \"receptor_progesterona\" seja negativo.\n",
        "dfh['receptor_progesterona_quantificacao_pct'] = np.where((dfh['receptor_progesterona_quantificacao_pct'].isnull()) & (dfh['receptor_progesterona'] == 'negativo'), \"0\" , dfh['receptor_progesterona_quantificacao_pct'])\n",
        "\n",
        "#Agora vamos substituir os valores ruidosos como 'neg', 'NEG', 'inconclusivo'\n",
        "dfh['receptor_progesterona_quantificacao_pct'] = np.where((dfh['receptor_progesterona_quantificacao_pct'] == 'neg') | (dfh['receptor_progesterona_quantificacao_pct'] == 'NEG') | (dfh['receptor_progesterona_quantificacao_pct'] == 'inconclusivo'), \"0\" , dfh['receptor_progesterona_quantificacao_pct'])\n",
        "\n",
        "#Agora os valores escritos de forma inadequada| (dfh['receptor_progeste\n",
        "dfh['receptor_progesterona_quantificacao_pct'] = np.where((dfh['receptor_progesterona_quantificacao_pct'] == '70%') | (dfh['receptor_progesterona_quantificacao_pct'] == '20-70'), \"70\" , dfh['receptor_progesterona_quantificacao_pct'])\n",
        "dfh['receptor_progesterona_quantificacao_pct'] = np.where((dfh['receptor_progesterona_quantificacao_pct'] == '9'), \"90\",  dfh['receptor_progesterona_quantificacao_pct'])\n",
        "dfh['receptor_progesterona_quantificacao_pct'] = np.where((dfh['receptor_progesterona_quantificacao_pct'] == '8'), \"80\",  dfh['receptor_progesterona_quantificacao_pct'])\n",
        "dfh['receptor_progesterona_quantificacao_pct'] = np.where((dfh['receptor_progesterona_quantificacao_pct'] == '7'), \"70\",  dfh['receptor_progesterona_quantificacao_pct'])\n",
        "dfh['receptor_progesterona_quantificacao_pct'] = np.where((dfh['receptor_progesterona_quantificacao_pct'] == '6'), \"60\",  dfh['receptor_progesterona_quantificacao_pct'])\n",
        "dfh['receptor_progesterona_quantificacao_pct'] = np.where((dfh['receptor_progesterona_quantificacao_pct'] == '5'), \"50\",  dfh['receptor_progesterona_quantificacao_pct'])\n",
        "dfh['receptor_progesterona_quantificacao_pct'] = np.where((dfh['receptor_progesterona_quantificacao_pct'] == '4'), \"40\",  dfh['receptor_progesterona_quantificacao_pct'])\n",
        "dfh['receptor_progesterona_quantificacao_pct'] = np.where((dfh['receptor_progesterona_quantificacao_pct'] == '1'), \"10\",  dfh['receptor_progesterona_quantificacao_pct'])\n",
        "#VAMOS TRANSFORMAR ESSA COLUNA EM NUMÉRICA\n",
        "#def remover_aspas(x):\n",
        "  #  return float(x)\n",
        "#dfh['receptor_progesterona_quantificacao_pct'] = dfh['receptor_progesterona_quantificacao_pct'].notnull().apply(remover_aspas)\n",
        "#dfh['receptor_progesterona_quantificacao_pct'].unique()"
      ]
    },
    {
      "cell_type": "markdown",
      "metadata": {
        "id": "OWZVue7AlGTw"
      },
      "source": [
        "### 2.3.6 Tratando missings da coluna 'indice_h_receptorde_progesterona':"
      ]
    },
    {
      "cell_type": "markdown",
      "metadata": {
        "id": "WkLO0m6-mQX2"
      },
      "source": [
        "FAZER UMA ARRAY COM A RELAÇÃO ENTRE OS VALORES DAS DUAS COLUNAS E SUBSTITUIR BASEADO NISSO"
      ]
    },
    {
      "cell_type": "code",
      "execution_count": null,
      "metadata": {
        "colab": {
          "base_uri": "https://localhost:8080/"
        },
        "id": "rI2EuRS0lQW8",
        "outputId": "4d22cb4a-e7f8-408e-8358-dc34fb26ceca"
      },
      "outputs": [
        {
          "output_type": "execute_result",
          "data": {
            "text/plain": [
              "      indice_h_receptorde_progesterona  \\\n",
              "1                                  NaN   \n",
              "3                                  NaN   \n",
              "5                                  NaN   \n",
              "7                                 10.0   \n",
              "10                                 NaN   \n",
              "...                                ...   \n",
              "9056                               NaN   \n",
              "9059                               NaN   \n",
              "9061                               NaN   \n",
              "9063                               NaN   \n",
              "9065                               NaN   \n",
              "\n",
              "     receptor_progesterona_quantificacao_pct  record_id  \n",
              "1                                         65        302  \n",
              "3                                         90        710  \n",
              "5                                          0        752  \n",
              "7                                         50       1367  \n",
              "10                                        80       1589  \n",
              "...                                      ...        ...  \n",
              "9056                                       0      82123  \n",
              "9059                                       0      82124  \n",
              "9061                                       0      82131  \n",
              "9063                                       0      82205  \n",
              "9065                                       0      82240  \n",
              "\n",
              "[4272 rows x 3 columns]"
            ],
            "text/html": [
              "\n",
              "  <div id=\"df-da2363cc-59ae-4cea-8211-ef306c4239d7\">\n",
              "    <div class=\"colab-df-container\">\n",
              "      <div>\n",
              "<style scoped>\n",
              "    .dataframe tbody tr th:only-of-type {\n",
              "        vertical-align: middle;\n",
              "    }\n",
              "\n",
              "    .dataframe tbody tr th {\n",
              "        vertical-align: top;\n",
              "    }\n",
              "\n",
              "    .dataframe thead th {\n",
              "        text-align: right;\n",
              "    }\n",
              "</style>\n",
              "<table border=\"1\" class=\"dataframe\">\n",
              "  <thead>\n",
              "    <tr style=\"text-align: right;\">\n",
              "      <th></th>\n",
              "      <th>indice_h_receptorde_progesterona</th>\n",
              "      <th>receptor_progesterona_quantificacao_pct</th>\n",
              "      <th>record_id</th>\n",
              "    </tr>\n",
              "  </thead>\n",
              "  <tbody>\n",
              "    <tr>\n",
              "      <th>1</th>\n",
              "      <td>NaN</td>\n",
              "      <td>65</td>\n",
              "      <td>302</td>\n",
              "    </tr>\n",
              "    <tr>\n",
              "      <th>3</th>\n",
              "      <td>NaN</td>\n",
              "      <td>90</td>\n",
              "      <td>710</td>\n",
              "    </tr>\n",
              "    <tr>\n",
              "      <th>5</th>\n",
              "      <td>NaN</td>\n",
              "      <td>0</td>\n",
              "      <td>752</td>\n",
              "    </tr>\n",
              "    <tr>\n",
              "      <th>7</th>\n",
              "      <td>10.0</td>\n",
              "      <td>50</td>\n",
              "      <td>1367</td>\n",
              "    </tr>\n",
              "    <tr>\n",
              "      <th>10</th>\n",
              "      <td>NaN</td>\n",
              "      <td>80</td>\n",
              "      <td>1589</td>\n",
              "    </tr>\n",
              "    <tr>\n",
              "      <th>...</th>\n",
              "      <td>...</td>\n",
              "      <td>...</td>\n",
              "      <td>...</td>\n",
              "    </tr>\n",
              "    <tr>\n",
              "      <th>9056</th>\n",
              "      <td>NaN</td>\n",
              "      <td>0</td>\n",
              "      <td>82123</td>\n",
              "    </tr>\n",
              "    <tr>\n",
              "      <th>9059</th>\n",
              "      <td>NaN</td>\n",
              "      <td>0</td>\n",
              "      <td>82124</td>\n",
              "    </tr>\n",
              "    <tr>\n",
              "      <th>9061</th>\n",
              "      <td>NaN</td>\n",
              "      <td>0</td>\n",
              "      <td>82131</td>\n",
              "    </tr>\n",
              "    <tr>\n",
              "      <th>9063</th>\n",
              "      <td>NaN</td>\n",
              "      <td>0</td>\n",
              "      <td>82205</td>\n",
              "    </tr>\n",
              "    <tr>\n",
              "      <th>9065</th>\n",
              "      <td>NaN</td>\n",
              "      <td>0</td>\n",
              "      <td>82240</td>\n",
              "    </tr>\n",
              "  </tbody>\n",
              "</table>\n",
              "<p>4272 rows × 3 columns</p>\n",
              "</div>\n",
              "      <button class=\"colab-df-convert\" onclick=\"convertToInteractive('df-da2363cc-59ae-4cea-8211-ef306c4239d7')\"\n",
              "              title=\"Convert this dataframe to an interactive table.\"\n",
              "              style=\"display:none;\">\n",
              "        \n",
              "  <svg xmlns=\"http://www.w3.org/2000/svg\" height=\"24px\"viewBox=\"0 0 24 24\"\n",
              "       width=\"24px\">\n",
              "    <path d=\"M0 0h24v24H0V0z\" fill=\"none\"/>\n",
              "    <path d=\"M18.56 5.44l.94 2.06.94-2.06 2.06-.94-2.06-.94-.94-2.06-.94 2.06-2.06.94zm-11 1L8.5 8.5l.94-2.06 2.06-.94-2.06-.94L8.5 2.5l-.94 2.06-2.06.94zm10 10l.94 2.06.94-2.06 2.06-.94-2.06-.94-.94-2.06-.94 2.06-2.06.94z\"/><path d=\"M17.41 7.96l-1.37-1.37c-.4-.4-.92-.59-1.43-.59-.52 0-1.04.2-1.43.59L10.3 9.45l-7.72 7.72c-.78.78-.78 2.05 0 2.83L4 21.41c.39.39.9.59 1.41.59.51 0 1.02-.2 1.41-.59l7.78-7.78 2.81-2.81c.8-.78.8-2.07 0-2.86zM5.41 20L4 18.59l7.72-7.72 1.47 1.35L5.41 20z\"/>\n",
              "  </svg>\n",
              "      </button>\n",
              "      \n",
              "  <style>\n",
              "    .colab-df-container {\n",
              "      display:flex;\n",
              "      flex-wrap:wrap;\n",
              "      gap: 12px;\n",
              "    }\n",
              "\n",
              "    .colab-df-convert {\n",
              "      background-color: #E8F0FE;\n",
              "      border: none;\n",
              "      border-radius: 50%;\n",
              "      cursor: pointer;\n",
              "      display: none;\n",
              "      fill: #1967D2;\n",
              "      height: 32px;\n",
              "      padding: 0 0 0 0;\n",
              "      width: 32px;\n",
              "    }\n",
              "\n",
              "    .colab-df-convert:hover {\n",
              "      background-color: #E2EBFA;\n",
              "      box-shadow: 0px 1px 2px rgba(60, 64, 67, 0.3), 0px 1px 3px 1px rgba(60, 64, 67, 0.15);\n",
              "      fill: #174EA6;\n",
              "    }\n",
              "\n",
              "    [theme=dark] .colab-df-convert {\n",
              "      background-color: #3B4455;\n",
              "      fill: #D2E3FC;\n",
              "    }\n",
              "\n",
              "    [theme=dark] .colab-df-convert:hover {\n",
              "      background-color: #434B5C;\n",
              "      box-shadow: 0px 1px 3px 1px rgba(0, 0, 0, 0.15);\n",
              "      filter: drop-shadow(0px 1px 2px rgba(0, 0, 0, 0.3));\n",
              "      fill: #FFFFFF;\n",
              "    }\n",
              "  </style>\n",
              "\n",
              "      <script>\n",
              "        const buttonEl =\n",
              "          document.querySelector('#df-da2363cc-59ae-4cea-8211-ef306c4239d7 button.colab-df-convert');\n",
              "        buttonEl.style.display =\n",
              "          google.colab.kernel.accessAllowed ? 'block' : 'none';\n",
              "\n",
              "        async function convertToInteractive(key) {\n",
              "          const element = document.querySelector('#df-da2363cc-59ae-4cea-8211-ef306c4239d7');\n",
              "          const dataTable =\n",
              "            await google.colab.kernel.invokeFunction('convertToInteractive',\n",
              "                                                     [key], {});\n",
              "          if (!dataTable) return;\n",
              "\n",
              "          const docLinkHtml = 'Like what you see? Visit the ' +\n",
              "            '<a target=\"_blank\" href=https://colab.research.google.com/notebooks/data_table.ipynb>data table notebook</a>'\n",
              "            + ' to learn more about interactive tables.';\n",
              "          element.innerHTML = '';\n",
              "          dataTable['output_type'] = 'display_data';\n",
              "          await google.colab.output.renderOutput(dataTable, element);\n",
              "          const docLink = document.createElement('div');\n",
              "          docLink.innerHTML = docLinkHtml;\n",
              "          element.appendChild(docLink);\n",
              "        }\n",
              "      </script>\n",
              "    </div>\n",
              "  </div>\n",
              "  "
            ]
          },
          "metadata": {},
          "execution_count": 75
        }
      ],
      "source": [
        "dfh[['indice_h_receptorde_progesterona','receptor_progesterona_quantificacao_pct', 'record_id']]\n",
        "#Por meio dessa tabela , manualmente veremos essa relação e substituiremos os NaN da tabela baseada nessa relação\n"
      ]
    },
    {
      "cell_type": "code",
      "execution_count": null,
      "metadata": {
        "id": "JOlaX0hcF1B_"
      },
      "outputs": [],
      "source": [
        "dfh['indice_h_receptorde_progesterona'] = np.where((dfh['indice_h_receptorde_progesterona'].isnull()) & (dfh['receptor_progesterona'] == 'negativo'), 0 , dfh['indice_h_receptorde_progesterona'])\n",
        "\n",
        "receptor_progesterona_pct_to_index = {\n",
        "    '100': 300,\n",
        "    '99': 297,\n",
        "    '98': 294,\n",
        "    '97': 291,\n",
        "    '95': 285,\n",
        "    '94': 282,\n",
        "    '93': 279,\n",
        "    '90': 270,\n",
        "    '85': 255,\n",
        "    '80': 240,\n",
        "    '75': 225,\n",
        "    '70': 210,\n",
        "    '66': 198,\n",
        "    '65': 195,\n",
        "    '60': 180,\n",
        "    '55': 150,\n",
        "    '50': 150,\n",
        "    '40': 120,\n",
        "    '35': 105,\n",
        "    '34': 99,\n",
        "    '33': 99,\n",
        "    '30': 90,\n",
        "    '25': 75,\n",
        "    '20': 60,\n",
        "    '15': 45,\n",
        "    '12': 45,\n",
        "    '10': 30,\n",
        "    '5':  15,\n",
        "    '2':  4,\n",
        "    '0': 0\n",
        "}\n",
        "dfh['indice_h_receptorde_progesterona'] = dfh.apply(\n",
        "    lambda row: row['indice_h_receptorde_progesterona'] if not pd.isna(row['indice_h_receptorde_progesterona']) else \n",
        "    receptor_progesterona_pct_to_index.get(row['receptor_progesterona_quantificacao_pct'], row['indice_h_receptorde_progesterona']),\n",
        "    axis=1\n",
        ")\n",
        "\n"
      ]
    },
    {
      "cell_type": "markdown",
      "metadata": {
        "id": "59mqgUYJPi1a"
      },
      "source": [
        "### 2.3.7 Tratando missings da coluna \"her2_por_fish\":"
      ]
    },
    {
      "cell_type": "code",
      "execution_count": null,
      "metadata": {
        "id": "nDlWcU7CP88n"
      },
      "outputs": [],
      "source": [
        "dfh['her2_por_fish'] = np.where((dfh['subtipo_tumoral'] == 3)|(dfh['subtipo_tumoral'] == 5), 'amplificado' , dfh['her2_por_fish'])\n",
        "dfh['her2_por_fish'] = np.where((dfh['subtipo_tumoral'] == 4)| (dfh['subtipo_tumoral'] == 1)| (dfh['subtipo_tumoral'] == 2) , 'sem amplificação' , dfh['her2_por_fish'])\n",
        "dfh['her2_por_fish'] = np.where((dfh['her2_por_ihc'] == ' +++ (positivo)'), 'amplificado' , dfh['her2_por_fish'])\n",
        "dfh['her2_por_fish'] = np.where((dfh['her2_por_ihc'] == '0 (negativo)'), 'sem amplificação' , dfh['her2_por_fish'])"
      ]
    },
    {
      "cell_type": "markdown",
      "metadata": {
        "id": "iJ35sj2NRibu"
      },
      "source": [
        "### 2.3.8 Tratando missings da coluna \"her2_por_ihc\":"
      ]
    },
    {
      "cell_type": "code",
      "execution_count": null,
      "metadata": {
        "id": "phcUZFJiR3sC"
      },
      "outputs": [],
      "source": [
        "dfh['her2_por_ihc'] = np.where((dfh['subtipo_tumoral'] == 3)|(dfh['subtipo_tumoral'] == 5), ' +++ (positivo)' , dfh['her2_por_ihc'])\n",
        "dfh['her2_por_ihc'] = np.where((dfh['subtipo_tumoral'] == 4)| (dfh['subtipo_tumoral'] == 1)| (dfh['subtipo_tumoral'] == 2) , '0 (negativo)' , dfh['her2_por_ihc'])"
      ]
    },
    {
      "cell_type": "markdown",
      "metadata": {
        "id": "QdpYPlfpWM5W"
      },
      "source": [
        "###2.3.9 Tratando missings da coluna \"ki67_maior14pct\":"
      ]
    },
    {
      "cell_type": "markdown",
      "metadata": {
        "id": "_DdnqUJFQ5Fw"
      },
      "source": [
        "Trataremos essa coluna baseada na coluna ki67_pct, logo onde tiver um valor maior que 14 na coluna citada imputaremos positivo na coluna que estamos tratando, da mesma maneira onde tiver um valor menor que 14 na coluna ki67_pct preencheremos com \"negativo\" na coluna que estamos tratando.Também trataremos usando subtipo_tumoral, explicado no início do tratamento de missings dfh"
      ]
    },
    {
      "cell_type": "code",
      "execution_count": null,
      "metadata": {
        "id": "72mHALa1Q0vC"
      },
      "outputs": [],
      "source": [
        "dfh['ki67_maior14pct'] = np.where((dfh['subtipo_tumoral'] == 4 )|(dfh['subtipo_tumoral'] == 2 )|(dfh['subtipo_tumoral'] == 5 ), 'positivo' , dfh['ki67_maior14pct'])\n",
        "dfh['ki67_maior14pct'] = np.where((dfh['ki67_maior14pct'].isnull()) & (dfh['ki67_pct'] > 14) , 'positivo' , dfh['ki67_maior14pct'])\n",
        "dfh['ki67_maior14pct'] = np.where((dfh['ki67_maior14pct'].isnull()) & (dfh['ki67_pct'] < 14) , 'negativo' , dfh['ki67_maior14pct'])\n",
        "\n",
        "\n",
        "#segundo o parceiro, quando o subtipo tumoral for HER2 a coluna ki67_maior14pct pode receber tanto positivo quanto negativo, então preencheremos os valores vazios dessa coluna quando o subtipo tumoral for 3 ou 5 baseado na proporção encontrada atualmente.\n",
        "her2_positivo = dfh.loc[dfh['her2_por_ihc']== ' +++ (positivo)']\n",
        "proporcoes_ki = her2_positivo['ki67_maior14pct'].value_counts(normalize=True)\n",
        "valores_aleatorios_ki = np.random.choice(proporcoes_ki.index, size=dfh['ki67_maior14pct'].isnull().sum(), p=proporcoes_ki.values)\n",
        "indices_nulos_ki = dfh['ki67_maior14pct'].isnull() & dfh['her2_por_ihc'].eq(' +++ (positivo)')\n",
        "if any(indices_nulos_ki):\n",
        "    dfh.loc[indices_nulos_ki, 'ki67_maior14pct'] = valores_aleatorios_ki[:sum(indices_nulos_ki)] #dfh.loc  é mais seguro do que usar np.where porque garante que estamos alterando apenas as linhas que atendem à condição, sem afetar outras linhas em que a condição é falsa. Mas, não significa que np.where nao deve ser utilizado"
      ]
    },
    {
      "cell_type": "markdown",
      "metadata": {
        "id": "BmvWENFWMtfa"
      },
      "source": [
        "### 2.3.10 Tratando missings da coluna 'ki67_pct':"
      ]
    },
    {
      "cell_type": "code",
      "execution_count": null,
      "metadata": {
        "colab": {
          "base_uri": "https://localhost:8080/"
        },
        "id": "ofBre0ITPNMF",
        "outputId": "f1e23785-55a7-40aa-af29-3aa96726af35"
      },
      "outputs": [
        {
          "output_type": "execute_result",
          "data": {
            "text/plain": [
              "0    10.0\n",
              "Name: ki67_pct, dtype: float64"
            ]
          },
          "metadata": {},
          "execution_count": 80
        }
      ],
      "source": [
        "menor_14 = dfh.loc[dfh['ki67_pct'] <14 ]\n",
        "menor_14['ki67_pct'].mode()"
      ]
    },
    {
      "cell_type": "code",
      "execution_count": null,
      "metadata": {
        "colab": {
          "base_uri": "https://localhost:8080/"
        },
        "id": "g9h6R0OdQL0p",
        "outputId": "5690b44d-1313-4736-804a-0e929f986869"
      },
      "outputs": [
        {
          "output_type": "execute_result",
          "data": {
            "text/plain": [
              "0    30.0\n",
              "Name: ki67_pct, dtype: float64"
            ]
          },
          "metadata": {},
          "execution_count": 81
        }
      ],
      "source": [
        "maior_14 = dfh.loc[dfh['ki67_pct'] > 14 ]\n",
        "maior_14['ki67_pct'].mode()"
      ]
    },
    {
      "cell_type": "markdown",
      "metadata": {
        "id": "riasvHozNcw-"
      },
      "source": [
        "Por meio da coluna ki67_maior14pct, trataremos essa coluna, pois quando for maior do que 14 substituiremos pela moda dos numeros>14 da coluna ki67_pct. Porém, quando  for negativo substituiremos pela moda dos numeros<14:"
      ]
    },
    {
      "cell_type": "code",
      "execution_count": null,
      "metadata": {
        "id": "aJfqIaxrMytn"
      },
      "outputs": [],
      "source": [
        "dfh['ki67_pct'] = np.where((dfh['ki67_pct'].isnull()) & (dfh['ki67_maior14pct'] == 'positivo')  , 30 , dfh['ki67_pct']) #ki67_maior14pct é positivo\n",
        "dfh['ki67_pct'] = np.where((dfh['ki67_pct'].isnull()) & (dfh['ki67_maior14pct'] == 'inconclusivo')  , 30 , dfh['ki67_pct']) #ki67_maior14pct é inconclusivo, mas o subtipo tumoral é 3, logo a probabilidade de ser \"positivo\" é imensamente maior\n",
        "dfh['ki67_pct'] = np.where((dfh['ki67_pct'].isnull()) & (dfh['ki67_maior14pct'] == 'não realizado')  , 30 , dfh['ki67_pct']) #ki67_maior14pct é não realizado, mas o subtipo tumoral é 3, logo a probabilidade de ser \"positivo\" é imensamente maior\n",
        "dfh['ki67_pct'] = np.where((dfh['ki67_pct'].isnull()) & (dfh['ki67_maior14pct'] == 'negativo') , 10 , dfh['ki67_pct']) #ki67_maior14pct é negativo\n"
      ]
    },
    {
      "cell_type": "markdown",
      "metadata": {
        "id": "37uhbUlOZHNH"
      },
      "source": [
        "### 2.3.11 Tratando missings da coluna \"receptor_estrogenio\":"
      ]
    },
    {
      "cell_type": "code",
      "execution_count": null,
      "metadata": {
        "id": "kOLTEuHWZQcm"
      },
      "outputs": [],
      "source": [
        "#De acordo com pesquisas e com o parceiro, geralmente quando o subtipo é HER-2 o paciente nao possui Receptores hormonais, ou seja, receptor estrogenio será negativo\n",
        "dfh['receptor_estrogenio'] = np.where((dfh['subtipo_tumoral'] == 3 )|(dfh['subtipo_tumoral'] == 4 ), \"negativo\" , dfh['receptor_estrogenio'])\n",
        "dfh['receptor_estrogenio'] = np.where((dfh['subtipo_tumoral'] == 5 ), \"positivo\" , dfh['receptor_estrogenio'])\n",
        "dfh['receptor_estrogenio'] = dfh['receptor_estrogenio'].fillna(\"negativo\") #tinha apenas um(1) NAN e o seu subtipotumoral é 3 , logo o receptor de estrogenio é negativo\n"
      ]
    },
    {
      "cell_type": "markdown",
      "metadata": {
        "id": "Nyd8QtymaW0U"
      },
      "source": [
        "###2.3.12 Tratando missings da coluna \"receptorde_estrogenio_quantificacao_pct\":"
      ]
    },
    {
      "cell_type": "code",
      "execution_count": null,
      "metadata": {
        "id": "jn4NM15zabCc"
      },
      "outputs": [],
      "source": [
        "#Agora vamos substituir os valores ruidosos como 'neg', 'NEG'\n",
        "dfh['receptorde_estrogenio_quantificacao_pct'] = np.where((dfh['receptorde_estrogenio_quantificacao_pct'] == 'neg') | (dfh['receptorde_estrogenio_quantificacao_pct'] == 'NEG'), \"0\" , dfh['receptorde_estrogenio_quantificacao_pct'])\n",
        "dfh['receptorde_estrogenio_quantificacao_pct'] = np.where((dfh['receptorde_estrogenio_quantificacao_pct'] == '1-10') , \"10\" , dfh['receptorde_estrogenio_quantificacao_pct'])\n",
        "#Quando a coluna receptor estrogenio for negativa colocaremos 0 na coluna de quantificação\n",
        "dfh['receptorde_estrogenio_quantificacao_pct'] = np.where((dfh['receptorde_estrogenio_quantificacao_pct'].isnull()) & (dfh['receptor_estrogenio'] == 'negativo'), \"0\" , dfh['receptorde_estrogenio_quantificacao_pct'])\n",
        "\n",
        "#Vamos tratar mantendo as proporções atuais:\n",
        "proporcoes_estrog = dfh['receptorde_estrogenio_quantificacao_pct'].value_counts(normalize=True)\n",
        "valores_aleatorios2 = np.random.choice(proporcoes_estrog.index, size=dfh['receptorde_estrogenio_quantificacao_pct'].isnull().sum(), p=proporcoes_estrog.values)\n",
        "indices_nulos_positivos2 = dfh['receptorde_estrogenio_quantificacao_pct'].isnull() & dfh['receptor_estrogenio'].eq('positivo')\n",
        "if any(indices_nulos_positivos2):\n",
        "    dfh.loc[indices_nulos_positivos2, 'receptorde_estrogenio_quantificacao_pct'] = valores_aleatorios2[:sum(indices_nulos_positivos2)]"
      ]
    },
    {
      "cell_type": "markdown",
      "metadata": {
        "id": "1ne5tDQpFWfY"
      },
      "source": [
        "###2.3.13 Tratando missings da coluna \"subtipo_tumoral\":"
      ]
    },
    {
      "cell_type": "code",
      "execution_count": null,
      "metadata": {
        "colab": {
          "base_uri": "https://localhost:8080/"
        },
        "id": "qL-Pbs0mlT5F",
        "outputId": "2936d279-2dcd-4093-ca6e-87b55b062c70"
      },
      "outputs": [
        {
          "output_type": "execute_result",
          "data": {
            "text/plain": [
              "      record_id  repeat_instance  \\\n",
              "2935      37516              2.0   \n",
              "5718      59104              2.0   \n",
              "8546      77129              1.0   \n",
              "\n",
              "                  diagnostico_primario_tipo_histologico  grau_histologico  \\\n",
              "2935                                                NaN               NaN   \n",
              "5718  NÃO-ESPECIAL - Carcinoma de mama ductal invasi...               2.0   \n",
              "8546  NÃO-ESPECIAL - Carcinoma de mama ductal invasi...               2.0   \n",
              "\n",
              "      subtipo_tumoral receptor_estrogenio receptor_progesterona  \\\n",
              "2935              NaN            negativo              positivo   \n",
              "5718              NaN            positivo              positivo   \n",
              "8546              NaN            positivo              positivo   \n",
              "\n",
              "     ki67_maior14pct receptor_progesterona_quantificacao_pct  \\\n",
              "2935        positivo                                      40   \n",
              "5718        positivo                                     100   \n",
              "8546        positivo                                     100   \n",
              "\n",
              "     receptorde_estrogenio_quantificacao_pct  \\\n",
              "2935                                       0   \n",
              "5718                                     100   \n",
              "8546                                     100   \n",
              "\n",
              "      indice_h_receptorde_progesterona    her2_por_ihc     her2_por_fish  \\\n",
              "2935                             120.0   ++ (duvidoso)               NaN   \n",
              "5718                             300.0    0 (negativo)  sem amplificação   \n",
              "8546                             300.0    + (negativo)               NaN   \n",
              "\n",
              "      ki67_pct  \n",
              "2935      40.0  \n",
              "5718      17.0  \n",
              "8546      20.0  "
            ],
            "text/html": [
              "\n",
              "  <div id=\"df-7aa3cc14-8300-4944-8f24-45008abdc41d\">\n",
              "    <div class=\"colab-df-container\">\n",
              "      <div>\n",
              "<style scoped>\n",
              "    .dataframe tbody tr th:only-of-type {\n",
              "        vertical-align: middle;\n",
              "    }\n",
              "\n",
              "    .dataframe tbody tr th {\n",
              "        vertical-align: top;\n",
              "    }\n",
              "\n",
              "    .dataframe thead th {\n",
              "        text-align: right;\n",
              "    }\n",
              "</style>\n",
              "<table border=\"1\" class=\"dataframe\">\n",
              "  <thead>\n",
              "    <tr style=\"text-align: right;\">\n",
              "      <th></th>\n",
              "      <th>record_id</th>\n",
              "      <th>repeat_instance</th>\n",
              "      <th>diagnostico_primario_tipo_histologico</th>\n",
              "      <th>grau_histologico</th>\n",
              "      <th>subtipo_tumoral</th>\n",
              "      <th>receptor_estrogenio</th>\n",
              "      <th>receptor_progesterona</th>\n",
              "      <th>ki67_maior14pct</th>\n",
              "      <th>receptor_progesterona_quantificacao_pct</th>\n",
              "      <th>receptorde_estrogenio_quantificacao_pct</th>\n",
              "      <th>indice_h_receptorde_progesterona</th>\n",
              "      <th>her2_por_ihc</th>\n",
              "      <th>her2_por_fish</th>\n",
              "      <th>ki67_pct</th>\n",
              "    </tr>\n",
              "  </thead>\n",
              "  <tbody>\n",
              "    <tr>\n",
              "      <th>2935</th>\n",
              "      <td>37516</td>\n",
              "      <td>2.0</td>\n",
              "      <td>NaN</td>\n",
              "      <td>NaN</td>\n",
              "      <td>NaN</td>\n",
              "      <td>negativo</td>\n",
              "      <td>positivo</td>\n",
              "      <td>positivo</td>\n",
              "      <td>40</td>\n",
              "      <td>0</td>\n",
              "      <td>120.0</td>\n",
              "      <td>++ (duvidoso)</td>\n",
              "      <td>NaN</td>\n",
              "      <td>40.0</td>\n",
              "    </tr>\n",
              "    <tr>\n",
              "      <th>5718</th>\n",
              "      <td>59104</td>\n",
              "      <td>2.0</td>\n",
              "      <td>NÃO-ESPECIAL - Carcinoma de mama ductal invasi...</td>\n",
              "      <td>2.0</td>\n",
              "      <td>NaN</td>\n",
              "      <td>positivo</td>\n",
              "      <td>positivo</td>\n",
              "      <td>positivo</td>\n",
              "      <td>100</td>\n",
              "      <td>100</td>\n",
              "      <td>300.0</td>\n",
              "      <td>0 (negativo)</td>\n",
              "      <td>sem amplificação</td>\n",
              "      <td>17.0</td>\n",
              "    </tr>\n",
              "    <tr>\n",
              "      <th>8546</th>\n",
              "      <td>77129</td>\n",
              "      <td>1.0</td>\n",
              "      <td>NÃO-ESPECIAL - Carcinoma de mama ductal invasi...</td>\n",
              "      <td>2.0</td>\n",
              "      <td>NaN</td>\n",
              "      <td>positivo</td>\n",
              "      <td>positivo</td>\n",
              "      <td>positivo</td>\n",
              "      <td>100</td>\n",
              "      <td>100</td>\n",
              "      <td>300.0</td>\n",
              "      <td>+ (negativo)</td>\n",
              "      <td>NaN</td>\n",
              "      <td>20.0</td>\n",
              "    </tr>\n",
              "  </tbody>\n",
              "</table>\n",
              "</div>\n",
              "      <button class=\"colab-df-convert\" onclick=\"convertToInteractive('df-7aa3cc14-8300-4944-8f24-45008abdc41d')\"\n",
              "              title=\"Convert this dataframe to an interactive table.\"\n",
              "              style=\"display:none;\">\n",
              "        \n",
              "  <svg xmlns=\"http://www.w3.org/2000/svg\" height=\"24px\"viewBox=\"0 0 24 24\"\n",
              "       width=\"24px\">\n",
              "    <path d=\"M0 0h24v24H0V0z\" fill=\"none\"/>\n",
              "    <path d=\"M18.56 5.44l.94 2.06.94-2.06 2.06-.94-2.06-.94-.94-2.06-.94 2.06-2.06.94zm-11 1L8.5 8.5l.94-2.06 2.06-.94-2.06-.94L8.5 2.5l-.94 2.06-2.06.94zm10 10l.94 2.06.94-2.06 2.06-.94-2.06-.94-.94-2.06-.94 2.06-2.06.94z\"/><path d=\"M17.41 7.96l-1.37-1.37c-.4-.4-.92-.59-1.43-.59-.52 0-1.04.2-1.43.59L10.3 9.45l-7.72 7.72c-.78.78-.78 2.05 0 2.83L4 21.41c.39.39.9.59 1.41.59.51 0 1.02-.2 1.41-.59l7.78-7.78 2.81-2.81c.8-.78.8-2.07 0-2.86zM5.41 20L4 18.59l7.72-7.72 1.47 1.35L5.41 20z\"/>\n",
              "  </svg>\n",
              "      </button>\n",
              "      \n",
              "  <style>\n",
              "    .colab-df-container {\n",
              "      display:flex;\n",
              "      flex-wrap:wrap;\n",
              "      gap: 12px;\n",
              "    }\n",
              "\n",
              "    .colab-df-convert {\n",
              "      background-color: #E8F0FE;\n",
              "      border: none;\n",
              "      border-radius: 50%;\n",
              "      cursor: pointer;\n",
              "      display: none;\n",
              "      fill: #1967D2;\n",
              "      height: 32px;\n",
              "      padding: 0 0 0 0;\n",
              "      width: 32px;\n",
              "    }\n",
              "\n",
              "    .colab-df-convert:hover {\n",
              "      background-color: #E2EBFA;\n",
              "      box-shadow: 0px 1px 2px rgba(60, 64, 67, 0.3), 0px 1px 3px 1px rgba(60, 64, 67, 0.15);\n",
              "      fill: #174EA6;\n",
              "    }\n",
              "\n",
              "    [theme=dark] .colab-df-convert {\n",
              "      background-color: #3B4455;\n",
              "      fill: #D2E3FC;\n",
              "    }\n",
              "\n",
              "    [theme=dark] .colab-df-convert:hover {\n",
              "      background-color: #434B5C;\n",
              "      box-shadow: 0px 1px 3px 1px rgba(0, 0, 0, 0.15);\n",
              "      filter: drop-shadow(0px 1px 2px rgba(0, 0, 0, 0.3));\n",
              "      fill: #FFFFFF;\n",
              "    }\n",
              "  </style>\n",
              "\n",
              "      <script>\n",
              "        const buttonEl =\n",
              "          document.querySelector('#df-7aa3cc14-8300-4944-8f24-45008abdc41d button.colab-df-convert');\n",
              "        buttonEl.style.display =\n",
              "          google.colab.kernel.accessAllowed ? 'block' : 'none';\n",
              "\n",
              "        async function convertToInteractive(key) {\n",
              "          const element = document.querySelector('#df-7aa3cc14-8300-4944-8f24-45008abdc41d');\n",
              "          const dataTable =\n",
              "            await google.colab.kernel.invokeFunction('convertToInteractive',\n",
              "                                                     [key], {});\n",
              "          if (!dataTable) return;\n",
              "\n",
              "          const docLinkHtml = 'Like what you see? Visit the ' +\n",
              "            '<a target=\"_blank\" href=https://colab.research.google.com/notebooks/data_table.ipynb>data table notebook</a>'\n",
              "            + ' to learn more about interactive tables.';\n",
              "          element.innerHTML = '';\n",
              "          dataTable['output_type'] = 'display_data';\n",
              "          await google.colab.output.renderOutput(dataTable, element);\n",
              "          const docLink = document.createElement('div');\n",
              "          docLink.innerHTML = docLinkHtml;\n",
              "          element.appendChild(docLink);\n",
              "        }\n",
              "      </script>\n",
              "    </div>\n",
              "  </div>\n",
              "  "
            ]
          },
          "metadata": {},
          "execution_count": 85
        }
      ],
      "source": [
        "dfh.loc[dfh['subtipo_tumoral'].isnull()]"
      ]
    },
    {
      "cell_type": "code",
      "execution_count": null,
      "metadata": {
        "id": "5gLRAW6vlmBr"
      },
      "outputs": [],
      "source": [
        "dfh['subtipo_tumoral'] = np.where((dfh['record_id'] == 59104)|(dfh['record_id'] == 77129),2, dfh['subtipo_tumoral'])\n",
        "dfh['subtipo_tumoral'] = np.where((dfh['record_id'] == 37516),3, dfh['subtipo_tumoral'])"
      ]
    },
    {
      "cell_type": "markdown",
      "metadata": {
        "id": "8Z_SURcVChew"
      },
      "source": [
        "### 2.3.14 Tratando missings da coluna \"grau_histologico\":"
      ]
    },
    {
      "cell_type": "markdown",
      "metadata": {
        "id": "f0ED6TIrCk-m"
      },
      "source": [
        "De acordo com o parceiro, essa coluna é independente, ou seja, dentro das tabelas que ttemos hoje não é possível fazer nenhuma correlação, logo os dados faltantes serão preenchidos com \"não realizou\":"
      ]
    },
    {
      "cell_type": "code",
      "execution_count": null,
      "metadata": {
        "id": "eL_5EK6zDXmK"
      },
      "outputs": [],
      "source": [
        "dfh['grau_histologico'] = dfh['grau_histologico'].fillna('não realizou')"
      ]
    },
    {
      "cell_type": "markdown",
      "metadata": {
        "id": "Cb2aE4Tcn4Xr"
      },
      "source": [
        "### 2.3.15 Tratando missings da coluna \"diagnostico_primario_tipo_histologico\":"
      ]
    },
    {
      "cell_type": "code",
      "execution_count": null,
      "metadata": {
        "id": "gvZfdQrrn8io"
      },
      "outputs": [],
      "source": [
        "dfh['diagnostico_primario_tipo_histologico'] = dfh['diagnostico_primario_tipo_histologico'].fillna('NÃO-ESPECIAL - Carcinoma de mama ductal invasivo (CDI)/SOE')"
      ]
    },
    {
      "cell_type": "markdown",
      "source": [
        "### Tratamento de outliers da tabela dfh(histopatologia):"
      ],
      "metadata": {
        "id": "I9jPcBgrcbWe"
      }
    },
    {
      "cell_type": "markdown",
      "source": [
        "Primeiramente iremos converter as colunas que deveriam ser númericas mas estão como categóricas, faremos isso usando a função int() para \"remover\"(explicação grosseira) as aspas"
      ],
      "metadata": {
        "id": "p0_IT-J_KK2Z"
      }
    },
    {
      "cell_type": "code",
      "source": [
        "transform = []\n",
        "for n in dfh['receptor_progesterona_quantificacao_pct']:\n",
        "  n = int(n)\n",
        "  transform.append(n)\n",
        "dfh['receptor_progesterona_quantificacao_pct'] = transform\n",
        "dfh['receptor_progesterona_quantificacao_pct'].dtype"
      ],
      "metadata": {
        "colab": {
          "base_uri": "https://localhost:8080/"
        },
        "id": "Rrh92RBUgZ_L",
        "outputId": "90e74c63-46ea-49ed-829f-a7443a905f8d"
      },
      "execution_count": null,
      "outputs": [
        {
          "output_type": "execute_result",
          "data": {
            "text/plain": [
              "dtype('int64')"
            ]
          },
          "metadata": {},
          "execution_count": 89
        }
      ]
    },
    {
      "cell_type": "code",
      "source": [
        "transform = []\n",
        "for n in dfh['receptorde_estrogenio_quantificacao_pct']:\n",
        "  n = int(n)\n",
        "  transform.append(n)\n",
        "dfh['receptorde_estrogenio_quantificacao_pct'] = transform\n",
        "dfh['receptorde_estrogenio_quantificacao_pct'].dtype"
      ],
      "metadata": {
        "colab": {
          "base_uri": "https://localhost:8080/"
        },
        "id": "eOybDwWyKd5L",
        "outputId": "bc357561-57ed-4950-afe8-edd1cce4f668"
      },
      "execution_count": null,
      "outputs": [
        {
          "output_type": "execute_result",
          "data": {
            "text/plain": [
              "dtype('int64')"
            ]
          },
          "metadata": {},
          "execution_count": 90
        }
      ]
    },
    {
      "cell_type": "markdown",
      "source": [
        "* Identificação de outliers para as colunas numéricas:"
      ],
      "metadata": {
        "id": "z1zup0TBdAyl"
      }
    },
    {
      "cell_type": "code",
      "source": [
        "#estamos usando a média +- 3 desvio padrão para identificar outliers , supondo que a distribuicao é normal\n",
        "numericas = ['receptor_progesterona_quantificacao_pct', \n",
        "             'indice_h_receptorde_progesterona',  \n",
        "             'ki67_pct']\n",
        "for colu in numericas: \n",
        "  media = dfh[colu].mean()\n",
        "  std = dfh[colu].std()\n",
        "  higher_limit = media + (3 * std)\n",
        "  lower_limit = media - (3 * std)\n",
        "  outliers = dfh[['record_id',colu]][dfh[colu]>higher_limit ]\n",
        "  outliers2 = dfh[['record_id',colu]][dfh[colu]<lower_limit ]\n",
        "  print(f'na coluna {colu} o outlier acima é: \\n {outliers} \\n o outlier abaixo é: \\n {outliers2} \\n') "
      ],
      "metadata": {
        "colab": {
          "base_uri": "https://localhost:8080/"
        },
        "id": "K6iJh9q4d9Mn",
        "outputId": "5cf6d852-44e1-4f38-f432-aeb9f0b74e5e"
      },
      "execution_count": null,
      "outputs": [
        {
          "output_type": "stream",
          "name": "stdout",
          "text": [
            "na coluna receptor_progesterona_quantificacao_pct o outlier acima é: \n",
            " Empty DataFrame\n",
            "Columns: [record_id, receptor_progesterona_quantificacao_pct]\n",
            "Index: [] \n",
            " o outlier abaixo é: \n",
            " Empty DataFrame\n",
            "Columns: [record_id, receptor_progesterona_quantificacao_pct]\n",
            "Index: [] \n",
            "\n",
            "na coluna indice_h_receptorde_progesterona o outlier acima é: \n",
            " Empty DataFrame\n",
            "Columns: [record_id, indice_h_receptorde_progesterona]\n",
            "Index: [] \n",
            " o outlier abaixo é: \n",
            " Empty DataFrame\n",
            "Columns: [record_id, indice_h_receptorde_progesterona]\n",
            "Index: [] \n",
            "\n",
            "na coluna ki67_pct o outlier acima é: \n",
            " Empty DataFrame\n",
            "Columns: [record_id, ki67_pct]\n",
            "Index: [] \n",
            " o outlier abaixo é: \n",
            " Empty DataFrame\n",
            "Columns: [record_id, ki67_pct]\n",
            "Index: [] \n",
            "\n"
          ]
        }
      ]
    },
    {
      "cell_type": "markdown",
      "source": [
        "* identificamos que não existem outliers para as colunas numéricas de dfh, utilizando-se da métrica(média +- 3.desvio_padrão)"
      ],
      "metadata": {
        "id": "BcWUVBVaZWzY"
      }
    },
    {
      "cell_type": "markdown",
      "metadata": {
        "id": "XA9dCSN6LbNo"
      },
      "source": [
        "###2.3.16 Encoding "
      ]
    },
    {
      "cell_type": "code",
      "execution_count": null,
      "metadata": {
        "colab": {
          "base_uri": "https://localhost:8080/"
        },
        "id": "2a7ammgBQtPR",
        "outputId": "ec65bcca-f8c1-4485-a86d-2259b00477a6"
      },
      "outputs": [
        {
          "output_type": "execute_result",
          "data": {
            "text/plain": [
              "array([195., 270.,   0.,  10., 240., 120., 150.,  30., 285.,  99.,  60.,\n",
              "        45., 300., 210., 140., 198.,  90., 180.,  15., 225.,   4., 297.,\n",
              "        75., 255., 282., 294., 132.,  70., 279., 105., 160.,  20., 100.,\n",
              "        40.,  80.,   2., 200.,   1., 291.,   5.])"
            ]
          },
          "metadata": {},
          "execution_count": 92
        }
      ],
      "source": [
        "dfh['indice_h_receptorde_progesterona'].unique()"
      ]
    },
    {
      "cell_type": "code",
      "execution_count": null,
      "metadata": {
        "colab": {
          "base_uri": "https://localhost:8080/"
        },
        "id": "WvnJE3GKTjhj",
        "outputId": "44e4db53-6d1b-4096-a7b3-94031a60d8ee"
      },
      "outputs": [
        {
          "output_type": "execute_result",
          "data": {
            "text/plain": [
              "array(['não realizou', 3.0, 2.0, 1.0], dtype=object)"
            ]
          },
          "metadata": {},
          "execution_count": 93
        }
      ],
      "source": [
        "dfh['grau_histologico'].unique()"
      ]
    },
    {
      "cell_type": "code",
      "execution_count": null,
      "metadata": {
        "id": "eqQkLGUTjjed"
      },
      "outputs": [],
      "source": [
        "dfh['grau_histologico'] = dfh['grau_histologico'].replace({'não realizou':-1})"
      ]
    },
    {
      "cell_type": "code",
      "execution_count": null,
      "metadata": {
        "colab": {
          "base_uri": "https://localhost:8080/",
          "height": 357
        },
        "id": "m_mUOCDpWl9z",
        "outputId": "387483f3-a1fc-45e8-9568-40c468b14272"
      },
      "outputs": [
        {
          "output_type": "execute_result",
          "data": {
            "text/plain": [
              "    record_id  grau_histologico  subtipo_tumoral  \\\n",
              "1         302              -1.0              5.0   \n",
              "3         710              -1.0              2.0   \n",
              "5         752              -1.0              3.0   \n",
              "7        1367              -1.0              2.0   \n",
              "10       1589              -1.0              5.0   \n",
              "\n",
              "    indice_h_receptorde_progesterona  ki67_pct  \\\n",
              "1                              195.0      30.0   \n",
              "3                              270.0      20.0   \n",
              "5                                0.0      30.0   \n",
              "7                               10.0      40.0   \n",
              "10                             240.0      30.0   \n",
              "\n",
              "                diagnostico_primario_tipo_histologico receptor_estrogenio  \\\n",
              "1   NÃO-ESPECIAL - Carcinoma de mama ductal invasi...            positivo   \n",
              "3   NÃO-ESPECIAL - Carcinoma de mama ductal invasi...            positivo   \n",
              "5   NÃO-ESPECIAL - Carcinoma de mama ductal invasi...            negativo   \n",
              "7   NÃO-ESPECIAL - Carcinoma de mama ductal invasi...            positivo   \n",
              "10  NÃO-ESPECIAL - Carcinoma de mama ductal invasi...            positivo   \n",
              "\n",
              "   receptor_progesterona ki67_maior14pct     her2_por_fish     her2_por_ihc  \n",
              "1               positivo        positivo       amplificado   +++ (positivo)  \n",
              "3               positivo        positivo  sem amplificação     0 (negativo)  \n",
              "5               negativo        positivo       amplificado   +++ (positivo)  \n",
              "7               positivo        positivo  sem amplificação     0 (negativo)  \n",
              "10              positivo        positivo       amplificado   +++ (positivo)  "
            ],
            "text/html": [
              "\n",
              "  <div id=\"df-5015f2ae-17b1-4704-bfb6-b81c64d736e3\">\n",
              "    <div class=\"colab-df-container\">\n",
              "      <div>\n",
              "<style scoped>\n",
              "    .dataframe tbody tr th:only-of-type {\n",
              "        vertical-align: middle;\n",
              "    }\n",
              "\n",
              "    .dataframe tbody tr th {\n",
              "        vertical-align: top;\n",
              "    }\n",
              "\n",
              "    .dataframe thead th {\n",
              "        text-align: right;\n",
              "    }\n",
              "</style>\n",
              "<table border=\"1\" class=\"dataframe\">\n",
              "  <thead>\n",
              "    <tr style=\"text-align: right;\">\n",
              "      <th></th>\n",
              "      <th>record_id</th>\n",
              "      <th>grau_histologico</th>\n",
              "      <th>subtipo_tumoral</th>\n",
              "      <th>indice_h_receptorde_progesterona</th>\n",
              "      <th>ki67_pct</th>\n",
              "      <th>diagnostico_primario_tipo_histologico</th>\n",
              "      <th>receptor_estrogenio</th>\n",
              "      <th>receptor_progesterona</th>\n",
              "      <th>ki67_maior14pct</th>\n",
              "      <th>her2_por_fish</th>\n",
              "      <th>her2_por_ihc</th>\n",
              "    </tr>\n",
              "  </thead>\n",
              "  <tbody>\n",
              "    <tr>\n",
              "      <th>1</th>\n",
              "      <td>302</td>\n",
              "      <td>-1.0</td>\n",
              "      <td>5.0</td>\n",
              "      <td>195.0</td>\n",
              "      <td>30.0</td>\n",
              "      <td>NÃO-ESPECIAL - Carcinoma de mama ductal invasi...</td>\n",
              "      <td>positivo</td>\n",
              "      <td>positivo</td>\n",
              "      <td>positivo</td>\n",
              "      <td>amplificado</td>\n",
              "      <td>+++ (positivo)</td>\n",
              "    </tr>\n",
              "    <tr>\n",
              "      <th>3</th>\n",
              "      <td>710</td>\n",
              "      <td>-1.0</td>\n",
              "      <td>2.0</td>\n",
              "      <td>270.0</td>\n",
              "      <td>20.0</td>\n",
              "      <td>NÃO-ESPECIAL - Carcinoma de mama ductal invasi...</td>\n",
              "      <td>positivo</td>\n",
              "      <td>positivo</td>\n",
              "      <td>positivo</td>\n",
              "      <td>sem amplificação</td>\n",
              "      <td>0 (negativo)</td>\n",
              "    </tr>\n",
              "    <tr>\n",
              "      <th>5</th>\n",
              "      <td>752</td>\n",
              "      <td>-1.0</td>\n",
              "      <td>3.0</td>\n",
              "      <td>0.0</td>\n",
              "      <td>30.0</td>\n",
              "      <td>NÃO-ESPECIAL - Carcinoma de mama ductal invasi...</td>\n",
              "      <td>negativo</td>\n",
              "      <td>negativo</td>\n",
              "      <td>positivo</td>\n",
              "      <td>amplificado</td>\n",
              "      <td>+++ (positivo)</td>\n",
              "    </tr>\n",
              "    <tr>\n",
              "      <th>7</th>\n",
              "      <td>1367</td>\n",
              "      <td>-1.0</td>\n",
              "      <td>2.0</td>\n",
              "      <td>10.0</td>\n",
              "      <td>40.0</td>\n",
              "      <td>NÃO-ESPECIAL - Carcinoma de mama ductal invasi...</td>\n",
              "      <td>positivo</td>\n",
              "      <td>positivo</td>\n",
              "      <td>positivo</td>\n",
              "      <td>sem amplificação</td>\n",
              "      <td>0 (negativo)</td>\n",
              "    </tr>\n",
              "    <tr>\n",
              "      <th>10</th>\n",
              "      <td>1589</td>\n",
              "      <td>-1.0</td>\n",
              "      <td>5.0</td>\n",
              "      <td>240.0</td>\n",
              "      <td>30.0</td>\n",
              "      <td>NÃO-ESPECIAL - Carcinoma de mama ductal invasi...</td>\n",
              "      <td>positivo</td>\n",
              "      <td>positivo</td>\n",
              "      <td>positivo</td>\n",
              "      <td>amplificado</td>\n",
              "      <td>+++ (positivo)</td>\n",
              "    </tr>\n",
              "  </tbody>\n",
              "</table>\n",
              "</div>\n",
              "      <button class=\"colab-df-convert\" onclick=\"convertToInteractive('df-5015f2ae-17b1-4704-bfb6-b81c64d736e3')\"\n",
              "              title=\"Convert this dataframe to an interactive table.\"\n",
              "              style=\"display:none;\">\n",
              "        \n",
              "  <svg xmlns=\"http://www.w3.org/2000/svg\" height=\"24px\"viewBox=\"0 0 24 24\"\n",
              "       width=\"24px\">\n",
              "    <path d=\"M0 0h24v24H0V0z\" fill=\"none\"/>\n",
              "    <path d=\"M18.56 5.44l.94 2.06.94-2.06 2.06-.94-2.06-.94-.94-2.06-.94 2.06-2.06.94zm-11 1L8.5 8.5l.94-2.06 2.06-.94-2.06-.94L8.5 2.5l-.94 2.06-2.06.94zm10 10l.94 2.06.94-2.06 2.06-.94-2.06-.94-.94-2.06-.94 2.06-2.06.94z\"/><path d=\"M17.41 7.96l-1.37-1.37c-.4-.4-.92-.59-1.43-.59-.52 0-1.04.2-1.43.59L10.3 9.45l-7.72 7.72c-.78.78-.78 2.05 0 2.83L4 21.41c.39.39.9.59 1.41.59.51 0 1.02-.2 1.41-.59l7.78-7.78 2.81-2.81c.8-.78.8-2.07 0-2.86zM5.41 20L4 18.59l7.72-7.72 1.47 1.35L5.41 20z\"/>\n",
              "  </svg>\n",
              "      </button>\n",
              "      \n",
              "  <style>\n",
              "    .colab-df-container {\n",
              "      display:flex;\n",
              "      flex-wrap:wrap;\n",
              "      gap: 12px;\n",
              "    }\n",
              "\n",
              "    .colab-df-convert {\n",
              "      background-color: #E8F0FE;\n",
              "      border: none;\n",
              "      border-radius: 50%;\n",
              "      cursor: pointer;\n",
              "      display: none;\n",
              "      fill: #1967D2;\n",
              "      height: 32px;\n",
              "      padding: 0 0 0 0;\n",
              "      width: 32px;\n",
              "    }\n",
              "\n",
              "    .colab-df-convert:hover {\n",
              "      background-color: #E2EBFA;\n",
              "      box-shadow: 0px 1px 2px rgba(60, 64, 67, 0.3), 0px 1px 3px 1px rgba(60, 64, 67, 0.15);\n",
              "      fill: #174EA6;\n",
              "    }\n",
              "\n",
              "    [theme=dark] .colab-df-convert {\n",
              "      background-color: #3B4455;\n",
              "      fill: #D2E3FC;\n",
              "    }\n",
              "\n",
              "    [theme=dark] .colab-df-convert:hover {\n",
              "      background-color: #434B5C;\n",
              "      box-shadow: 0px 1px 3px 1px rgba(0, 0, 0, 0.15);\n",
              "      filter: drop-shadow(0px 1px 2px rgba(0, 0, 0, 0.3));\n",
              "      fill: #FFFFFF;\n",
              "    }\n",
              "  </style>\n",
              "\n",
              "      <script>\n",
              "        const buttonEl =\n",
              "          document.querySelector('#df-5015f2ae-17b1-4704-bfb6-b81c64d736e3 button.colab-df-convert');\n",
              "        buttonEl.style.display =\n",
              "          google.colab.kernel.accessAllowed ? 'block' : 'none';\n",
              "\n",
              "        async function convertToInteractive(key) {\n",
              "          const element = document.querySelector('#df-5015f2ae-17b1-4704-bfb6-b81c64d736e3');\n",
              "          const dataTable =\n",
              "            await google.colab.kernel.invokeFunction('convertToInteractive',\n",
              "                                                     [key], {});\n",
              "          if (!dataTable) return;\n",
              "\n",
              "          const docLinkHtml = 'Like what you see? Visit the ' +\n",
              "            '<a target=\"_blank\" href=https://colab.research.google.com/notebooks/data_table.ipynb>data table notebook</a>'\n",
              "            + ' to learn more about interactive tables.';\n",
              "          element.innerHTML = '';\n",
              "          dataTable['output_type'] = 'display_data';\n",
              "          await google.colab.output.renderOutput(dataTable, element);\n",
              "          const docLink = document.createElement('div');\n",
              "          docLink.innerHTML = docLinkHtml;\n",
              "          element.appendChild(docLink);\n",
              "        }\n",
              "      </script>\n",
              "    </div>\n",
              "  </div>\n",
              "  "
            ]
          },
          "metadata": {},
          "execution_count": 95
        }
      ],
      "source": [
        "dfh_encoding = dfh[['record_id', 'grau_histologico', 'subtipo_tumoral', 'indice_h_receptorde_progesterona', 'ki67_pct', 'diagnostico_primario_tipo_histologico', 'receptor_estrogenio', 'receptor_progesterona', 'ki67_maior14pct', 'her2_por_fish', 'her2_por_ihc']]\n",
        "dfh_encoding.head()\n"
      ]
    },
    {
      "cell_type": "code",
      "execution_count": null,
      "metadata": {
        "colab": {
          "base_uri": "https://localhost:8080/"
        },
        "id": "fZozlYzGUuO9",
        "outputId": "c5821f67-3408-4922-e6a4-57efd70c9150"
      },
      "outputs": [
        {
          "output_type": "stream",
          "name": "stderr",
          "text": [
            "<ipython-input-96-48dbcc330aea>:1: SettingWithCopyWarning: \n",
            "A value is trying to be set on a copy of a slice from a DataFrame.\n",
            "Try using .loc[row_indexer,col_indexer] = value instead\n",
            "\n",
            "See the caveats in the documentation: https://pandas.pydata.org/pandas-docs/stable/user_guide/indexing.html#returning-a-view-versus-a-copy\n",
            "  dfh_encoding['receptor_estrogenio'] = dfh_encoding['receptor_estrogenio'].replace({\n"
          ]
        }
      ],
      "source": [
        "dfh_encoding['receptor_estrogenio'] = dfh_encoding['receptor_estrogenio'].replace({\n",
        "    'negativo': -1,\n",
        "    'não realizado': 0,\n",
        "    'positivo': 1\n",
        "})"
      ]
    },
    {
      "cell_type": "code",
      "execution_count": null,
      "metadata": {
        "colab": {
          "base_uri": "https://localhost:8080/"
        },
        "id": "fbTtoGo7eNM-",
        "outputId": "89c0b95d-bd85-4482-a686-00dd1775e80e"
      },
      "outputs": [
        {
          "output_type": "stream",
          "name": "stderr",
          "text": [
            "<ipython-input-97-843c066e1a58>:1: SettingWithCopyWarning: \n",
            "A value is trying to be set on a copy of a slice from a DataFrame.\n",
            "Try using .loc[row_indexer,col_indexer] = value instead\n",
            "\n",
            "See the caveats in the documentation: https://pandas.pydata.org/pandas-docs/stable/user_guide/indexing.html#returning-a-view-versus-a-copy\n",
            "  dfh_encoding['receptor_progesterona'] = dfh_encoding['receptor_progesterona'].replace({\n"
          ]
        }
      ],
      "source": [
        "dfh_encoding['receptor_progesterona'] = dfh_encoding['receptor_progesterona'].replace({\n",
        "    'negativo': -1,\n",
        "    'não realizado': 0,\n",
        "    'positivo': 1,\n",
        "    'inconclusivo': 0\n",
        "})"
      ]
    },
    {
      "cell_type": "code",
      "execution_count": null,
      "metadata": {
        "colab": {
          "base_uri": "https://localhost:8080/"
        },
        "id": "zvRKBzDIk9DN",
        "outputId": "78e3b3dc-dd68-44d6-ad9b-4851c0e56e0f"
      },
      "outputs": [
        {
          "output_type": "execute_result",
          "data": {
            "text/plain": [
              "array(['positivo', 'negativo', 'inconclusivo', 'não realizado'],\n",
              "      dtype=object)"
            ]
          },
          "metadata": {},
          "execution_count": 98
        }
      ],
      "source": [
        "dfh_encoding['ki67_maior14pct'].unique()"
      ]
    },
    {
      "cell_type": "code",
      "execution_count": null,
      "metadata": {
        "colab": {
          "base_uri": "https://localhost:8080/"
        },
        "id": "UCzolPCCzw_I",
        "outputId": "4c6c53b6-ec0e-4648-c6d6-66cd790f8569"
      },
      "outputs": [
        {
          "output_type": "stream",
          "name": "stderr",
          "text": [
            "<ipython-input-99-2df229835aa5>:1: SettingWithCopyWarning: \n",
            "A value is trying to be set on a copy of a slice from a DataFrame.\n",
            "Try using .loc[row_indexer,col_indexer] = value instead\n",
            "\n",
            "See the caveats in the documentation: https://pandas.pydata.org/pandas-docs/stable/user_guide/indexing.html#returning-a-view-versus-a-copy\n",
            "  dfh_encoding['ki67_maior14pct'] = dfh_encoding['ki67_maior14pct'].replace({\n"
          ]
        }
      ],
      "source": [
        "dfh_encoding['ki67_maior14pct'] = dfh_encoding['ki67_maior14pct'].replace({\n",
        "    'negativo': -1,\n",
        "    'não realizado': 0,\n",
        "    'inconclusivo': 0,\n",
        "    'positivo': 1\n",
        "    \n",
        "})"
      ]
    },
    {
      "cell_type": "code",
      "execution_count": null,
      "metadata": {
        "colab": {
          "base_uri": "https://localhost:8080/"
        },
        "id": "TGte3qEV0EDK",
        "outputId": "92f0851e-c183-431b-9a71-feab1a04ad88"
      },
      "outputs": [
        {
          "output_type": "stream",
          "name": "stderr",
          "text": [
            "<ipython-input-100-846067613bf3>:1: SettingWithCopyWarning: \n",
            "A value is trying to be set on a copy of a slice from a DataFrame.\n",
            "Try using .loc[row_indexer,col_indexer] = value instead\n",
            "\n",
            "See the caveats in the documentation: https://pandas.pydata.org/pandas-docs/stable/user_guide/indexing.html#returning-a-view-versus-a-copy\n",
            "  dfh_encoding['her2_por_fish'] = dfh_encoding['her2_por_fish'].replace({\n"
          ]
        }
      ],
      "source": [
        "dfh_encoding['her2_por_fish'] = dfh_encoding['her2_por_fish'].replace({\n",
        "    'não realizado': 0,\n",
        "    'amplificado': 2,\n",
        "    'sem amplificação':1,\n",
        "    'reação não funcionou':0,\n",
        "    'duvidoso':0\n",
        "    \n",
        "})"
      ]
    },
    {
      "cell_type": "code",
      "execution_count": null,
      "metadata": {
        "colab": {
          "base_uri": "https://localhost:8080/"
        },
        "id": "BMBpcz1IqOJF",
        "outputId": "e76c4659-b105-4462-8379-08f971da0f64"
      },
      "outputs": [
        {
          "output_type": "execute_result",
          "data": {
            "text/plain": [
              "array(['NÃO-ESPECIAL - Carcinoma de mama ductal invasivo (CDI)/SOE',\n",
              "       'Carcinoma de mama papilifero',\n",
              "       'Carcinoma de mama lobular invasivo', 'Carcinoma de mama medular',\n",
              "       'Carcinoma de mama lobular in situ', 'outros',\n",
              "       'Carcinoma de mama mucinoso', 'Carcinoma de mama metaplasico',\n",
              "       'Carcinoma lobular pleomórfico',\n",
              "       'Carcinoma de mama misto (ductal e micropapilífero) invasivo',\n",
              "       'Carcinoma de mama misto (ductal e lobular) invasivo',\n",
              "       'Adenomioepitelioma maligno',\n",
              "       'CARCINOMA MAMÁRIO INVASIVO DO TIPO APÓCRINO',\n",
              "       'Carcinoma de mama micropapilar',\n",
              "       'Carcinoma mamário invasivo multifocal',\n",
              "       'Carcinoma de mama cistico adenoide', 'Carcinoma de mama tubular',\n",
              "       'Tumor PHYLLODES maligno'], dtype=object)"
            ]
          },
          "metadata": {},
          "execution_count": 101
        }
      ],
      "source": [
        "dfh['diagnostico_primario_tipo_histologico'].unique()"
      ]
    },
    {
      "cell_type": "code",
      "execution_count": null,
      "metadata": {
        "id": "viwu31RAsS-N"
      },
      "outputs": [],
      "source": [
        "#dummies = pd.get_dummies(dfh_encoding['diagnostico_primario_tipo_histologico'])\n",
        "#dfh_encoding = pd.concat([dfh_encoding, dummies], axis=1)"
      ]
    },
    {
      "cell_type": "code",
      "execution_count": null,
      "metadata": {
        "colab": {
          "base_uri": "https://localhost:8080/"
        },
        "id": "y-x73ftRwOcY",
        "outputId": "7664848d-9380-4ca5-a415-e50328531773"
      },
      "outputs": [
        {
          "output_type": "stream",
          "name": "stderr",
          "text": [
            "<ipython-input-103-319151a421e1>:1: SettingWithCopyWarning: \n",
            "A value is trying to be set on a copy of a slice from a DataFrame.\n",
            "Try using .loc[row_indexer,col_indexer] = value instead\n",
            "\n",
            "See the caveats in the documentation: https://pandas.pydata.org/pandas-docs/stable/user_guide/indexing.html#returning-a-view-versus-a-copy\n",
            "  dfh_encoding['her2_por_ihc'] = dfh_encoding['her2_por_ihc'].replace({\n"
          ]
        },
        {
          "output_type": "execute_result",
          "data": {
            "text/plain": [
              "array([3, 1, 2])"
            ]
          },
          "metadata": {},
          "execution_count": 103
        }
      ],
      "source": [
        "dfh_encoding['her2_por_ihc'] = dfh_encoding['her2_por_ihc'].replace({\n",
        "    ' +++ (positivo)': 3,\n",
        "    ' ++ (duvidoso)': 2,\n",
        "    ' + (negativo)':1,\n",
        "    '0 (negativo)':1,\n",
        "    'indeterminado':-1,\n",
        "    \n",
        "})\n",
        "dfh_encoding['her2_por_ihc'].unique()"
      ]
    },
    {
      "cell_type": "markdown",
      "metadata": {
        "id": "vCTsyVoWXLw8"
      },
      "source": [
        "* O código abaixo seleciona as features da tabela DFH"
      ]
    },
    {
      "cell_type": "code",
      "execution_count": null,
      "metadata": {
        "colab": {
          "base_uri": "https://localhost:8080/"
        },
        "id": "3PGzdlRu5HTl",
        "outputId": "04342cdf-d40f-4f90-a3fc-3f35e2bc49a9"
      },
      "outputs": [
        {
          "output_type": "stream",
          "name": "stdout",
          "text": [
            "<class 'pandas.core.frame.DataFrame'>\n",
            "Int64Index: 4272 entries, 1 to 9065\n",
            "Data columns (total 10 columns):\n",
            " #   Column                            Non-Null Count  Dtype  \n",
            "---  ------                            --------------  -----  \n",
            " 0   record_id                         4272 non-null   int64  \n",
            " 1   grau_histologico                  4272 non-null   float64\n",
            " 2   subtipo_tumoral                   4272 non-null   float64\n",
            " 3   indice_h_receptorde_progesterona  4272 non-null   float64\n",
            " 4   ki67_pct                          4272 non-null   float64\n",
            " 5   receptor_estrogenio               4272 non-null   int64  \n",
            " 6   receptor_progesterona             4272 non-null   int64  \n",
            " 7   ki67_maior14pct                   4272 non-null   int64  \n",
            " 8   her2_por_fish                     4270 non-null   float64\n",
            " 9   her2_por_ihc                      4272 non-null   int64  \n",
            "dtypes: float64(5), int64(5)\n",
            "memory usage: 367.1 KB\n"
          ]
        }
      ],
      "source": [
        "dfh_final = dfh_encoding[['record_id', 'grau_histologico', 'subtipo_tumoral', 'indice_h_receptorde_progesterona', 'ki67_pct', 'receptor_estrogenio', 'receptor_progesterona', 'ki67_maior14pct', 'her2_por_fish', 'her2_por_ihc']\n",
        "                         ]\n",
        "#dfh_final = pd.concat([dfh_final, dummies], axis=1)\n",
        "dfh_final.info()"
      ]
    },
    {
      "cell_type": "markdown",
      "metadata": {
        "id": "GxsyCvj5Job_"
      },
      "source": [
        "##2.4. DF Demográficos (dfd)"
      ]
    },
    {
      "cell_type": "markdown",
      "metadata": {
        "id": "33Zz2qDcPeyx"
      },
      "source": [
        "###2.4.1 Renomeando as colunas:"
      ]
    },
    {
      "cell_type": "code",
      "execution_count": null,
      "metadata": {
        "id": "2PYeRnC1Pzz7"
      },
      "outputs": [],
      "source": [
        "dfd = dfd.rename(columns={\n",
        "                          'Record ID':'record_id', \n",
        "                          'Repeat Instrument':'repeat_instrument', \n",
        "                          'Repeat Instance':'repeat_instance', \n",
        "                          'Escolaridade':'escolaridade',\n",
        "                          'Idade do paciente ao primeiro diagnóstico':'idade_primeiro_diagnostico', \n",
        "                          'Sexo':'sexo',\n",
        "                          'Raça declarada (Biobanco)':'raca', \n",
        "                          'UF de nascimento do paciente':'UF_nascimento',\n",
        "                          'UF de residência do paciente':'UF_residencia',\n",
        "                          'Data da última informação sobre o paciente':'data_da_ultima_informacao',\n",
        "                          'Última informação do paciente':'ultima_informacao',\n",
        "                          'Tempo de seguimento (em dias) - desde o último tumor no caso de tumores múltiplos    [dt_pci]':'tempo_seguimento_em_dias_desde_o_ultimo_tumor_no_caso_tumores_multiplos_dt_pci',\n",
        "                          'Já ficou grávida?':'engravidou', \n",
        "                          'Quantas vezes ficou gráfida?':'quantas_vezes_ficou_gravida', \n",
        "                          'Número de partos':'numero_partos',\n",
        "                          'Idade na primeira gestação':'idade_primeira_gestacao', \n",
        "                          'Abortou':'abortou',\n",
        "                          'Amamentou na primeira gestação?':'amamentou_na_primeira_gestacao', \n",
        "                          'Por quanto tempo amamentou?':'tempo_de_amamentacao',\n",
        "                          'Historia familiar de câncer relacionado a síndrome de câncer de mama e ovário hereditária? (choice=Não)': 'historia_familiar_cancer_relacionado_sindrome_cancer_mama_ovario_hereditaria_choice_nao',\n",
        "                          'Historia familiar de câncer relacionado a síndrome de câncer de mama e ovário hereditária? (choice=Sim - 1º grau, apenas 1 caso)': 'historia_familiar_cancer_relacionado_sindrome_cancer_mama_ovario_hereditaria_choice_sim_1_grau_apenas_1_caso',\n",
        "                          'Historia familiar de câncer relacionado a síndrome de câncer de mama e ovário hereditária? (choice=Sim - 1º grau, mais de 1 caso)': 'historia_familiar_cancer_relacionado_sindrome_cancer_mama_ovario_hereditaria_choice_sim_1_grau_mais_1_caso',\n",
        "                          'Historia familiar de câncer relacionado a síndrome de câncer de mama e ovário hereditária? (choice=Sim - 2º grau, apenas 1 caso)': 'historia_familiar_cancer_relacionado_sindrome_cancer_mama_ovario_hereditaria_choice_sim_2_grau_apenas_1_caso',\n",
        "                          'Historia familiar de câncer relacionado a síndrome de câncer de mama e ovário hereditária? (choice=Sim - 2º grau, mais de 1 caso)': 'historia_familiar_cancer_relacionado_sindrome_cancer_mama_ovario_hereditaria_choice_sim_2_grau_mais_1_caso',\n",
        "                          'Idade da primeira mentruação': 'idade_primeira_menstruacao',\n",
        "                          'Faz uso de métodos contraceptivo?':'usou_contraceptivo?',\n",
        "                          'Qual método? (choice=Pílula anticoncepcional)':'qual_metodo_choice_pilula_anticoncepcional',\n",
        "                          'Qual método? (choice=DIU)':'qual_metodo_choice_diu', \n",
        "                          'Qual método? (choice=camisinha)':'qual_metodo_choice_camisinha',\n",
        "                          'Qual método? (choice=outros)':'qual_metodo_choice_outros', \n",
        "                          'Qual método? (choice=não informou)':'qual_metodo_choice_nao_informou',\n",
        "                          'Já fez uso de drogas?':'ja_usou_droga?', \n",
        "                          'Atividade Física':'atividade_fisica', \n",
        "                          'Consumo de tabaco':'consumo_tabaco',\n",
        "                          'Consumo de álcool':'consumo_alcool', \n",
        "                          'Possui histórico familiar de câncer?':'tem_historico_de_cancer?',\n",
        "                          'Grau de parentesco de familiar com cancer? (choice=primeiro (pais, irmãos, filhos))':'grau_parentesco_familiar_com_cancer_choice_primeiro_pais_irmaos_filhos',\n",
        "                          'Grau de parentesco de familiar com cancer? (choice=segundo (avós, tios e netos))':'grau_parentesco_familiar_com_cancer_choice_segundo_avos_tios_netos',\n",
        "                          'Grau de parentesco de familiar com cancer? (choice=terceiro (bisavós, tio avós, primos, sobrinhos))':'grau_parentesco_familiar_com_cancer_choice_terceiro_bisavos_tio_avos_primos_sobrinhos',\n",
        "                          'Regime de Tratamento':'tratamento', \n",
        "                          'Hormonioterapia ':'hormonioterapia', \n",
        "                          'Data da cirurgia':'data_cirurgia',\n",
        "                          'Tipo de terapia anti-HER2 neoadjuvante':'tipo_terapia_anti-her2_neoadjuvante', \n",
        "                          'Radioterapia':'radioterapia',\n",
        "                          'Data de início do tratamento quimioterapia':'data_de_inicio_quimioterapia',\n",
        "                          'Esquema de hormonioterapia':'esquema_hormonioterapia',\n",
        "                          'Data do início Hormonioterapia adjuvante':'data_do_inicio_hormonioterapia_adjuvante',\n",
        "                          'Data de início da Radioterapia':'data_inicio_radioterapia'\n",
        "                          })"
      ]
    },
    {
      "cell_type": "markdown",
      "metadata": {
        "id": "DlXLnHigP2iu"
      },
      "source": [
        "### 2.4.2 Limpeza:"
      ]
    },
    {
      "cell_type": "code",
      "execution_count": null,
      "metadata": {
        "colab": {
          "base_uri": "https://localhost:8080/"
        },
        "id": "w-MnaQBDP8ax",
        "outputId": "e3ec249c-5c03-4568-f88a-cab9f2c705f2"
      },
      "outputs": [
        {
          "output_type": "stream",
          "name": "stdout",
          "text": [
            "os dados na coluna repeat_instrument são:[nan]\n",
            "\n",
            "\n",
            "os dados na coluna repeat_instance são:[nan]\n",
            "\n",
            "\n",
            "os dados na coluna UF_nascimento são:[nan 'SP']\n",
            "\n",
            "\n",
            "os dados na coluna UF_residencia são:[nan 'SP']\n",
            "\n",
            "\n",
            "os dados na coluna numero_partos são:[nan  2.  1.]\n",
            "\n",
            "\n",
            "os dados na coluna data_do_inicio_hormonioterapia_adjuvante são:[nan '2013-01-07' '2021-06-24']\n",
            "\n",
            "\n",
            "os dados na coluna qual_metodo_choice_diu são:['Unchecked']\n",
            "\n",
            "\n",
            "os dados na coluna qual_metodo_choice_camisinha são:['Unchecked']\n",
            "\n",
            "\n",
            "os dados na coluna qual_metodo_choice_outros são:['Unchecked']\n",
            "\n",
            "\n",
            "os dados na coluna qual_metodo_choice_nao_informou são:['Unchecked']\n",
            "\n",
            "\n",
            "os dados na coluna historia_familiar_cancer_relacionado_sindrome_cancer_mama_ovario_hereditaria_choice_sim_2_grau_apenas_1_caso são:['Unchecked']\n",
            "\n",
            "\n",
            "os dados na coluna historia_familiar_cancer_relacionado_sindrome_cancer_mama_ovario_hereditaria_choice_sim_2_grau_mais_1_caso são:['Unchecked']\n",
            "\n",
            "\n",
            "numero_partos: [nan  2.  1.] \n",
            "\n",
            "data_do_inicio_hormonioterapia_adjuvante [nan '2013-01-07' '2021-06-24'] \n",
            "\n"
          ]
        }
      ],
      "source": [
        "# Remoção de colunas não informativas\n",
        "removidas = ['repeat_instrument',\n",
        "             'repeat_instance',\n",
        "             'UF_nascimento',\n",
        "             'UF_residencia',\n",
        "             'numero_partos',\n",
        "             'data_do_inicio_hormonioterapia_adjuvante',\n",
        "             'qual_metodo_choice_diu',\n",
        "             'qual_metodo_choice_camisinha',\n",
        "             'qual_metodo_choice_outros',\n",
        "             'qual_metodo_choice_nao_informou',\n",
        "             'historia_familiar_cancer_relacionado_sindrome_cancer_mama_ovario_hereditaria_choice_sim_2_grau_apenas_1_caso',\n",
        "             'historia_familiar_cancer_relacionado_sindrome_cancer_mama_ovario_hereditaria_choice_sim_2_grau_mais_1_caso']\n",
        "#Mostrando os dados das colunas que serão removidas\n",
        "for col in removidas:\n",
        "  informacoes = dfd[col].unique()\n",
        "  print(f'os dados na coluna {col} são:{informacoes}')\n",
        "  print('\\n')\n",
        "\n",
        "print('numero_partos:', dfd['numero_partos'].unique(),'\\n')\n",
        "print('data_do_inicio_hormonioterapia_adjuvante', dfd['data_do_inicio_hormonioterapia_adjuvante'].unique(),'\\n')\n",
        "\n",
        "dfd = dfd.drop(['repeat_instrument',\n",
        "                'repeat_instance',\n",
        "                'UF_nascimento',\n",
        "                'UF_residencia',\n",
        "                'data_do_inicio_hormonioterapia_adjuvante',\n",
        "                'numero_partos',\n",
        "                'qual_metodo_choice_diu',\n",
        "                'qual_metodo_choice_camisinha',\n",
        "                'qual_metodo_choice_outros',\n",
        "                'qual_metodo_choice_nao_informou',\n",
        "                'historia_familiar_cancer_relacionado_sindrome_cancer_mama_ovario_hereditaria_choice_sim_2_grau_apenas_1_caso',\n",
        "                'historia_familiar_cancer_relacionado_sindrome_cancer_mama_ovario_hereditaria_choice_sim_2_grau_mais_1_caso', \n",
        "                'usou_contraceptivo?'], axis=1)"
      ]
    },
    {
      "cell_type": "markdown",
      "metadata": {
        "id": "LrmxvQraLBGt"
      },
      "source": [
        "Após uma análise dos conteúdos de cada coluna, removeremos as colunas com nenhuma informação , assim como as que possuem apenas um tipo de dado e as que possuem menos de 5 linhas preenchidas, tendo em vista que não estão nos \"dizendo\" nada:\n",
        "\n",
        "\n",
        "* repeat_instrument(possui apenas NaN)\n",
        "\n",
        "* repeat_instance(possui apenas NaN)\n",
        "\n",
        "* UF_nascimento(possui apenas NaN e SP)\n",
        "\n",
        "* UF_residencia(possui apenas NaN e SP)\n",
        "\n",
        "* numero_partos(possui apenas 2 linhas preenchidas)\n",
        "\n",
        "* data_do_inicio_hormonioterapia_adjuvante(possui apenas 2 linhas preenchidas)\n",
        "\n",
        "* qual_metodo_choice_diu(tem apenas \"unchecked\")\n",
        "\n",
        "* qual_metodo_choice_camisinha(tem apenas \"unchecked\")\n",
        "\n",
        "* qual_metodo_choice_outros(tem apenas \"unchecked\")\n",
        "\n",
        "* qual_metodo_choice_nao_informou(tem apenas \"unchecked\")\n",
        "\n",
        "* usou_contraceptivo?(possui apenas 3 linhas preenchidas, ou seja , 99.9 % das linhas estão vazias)\n",
        "\n",
        "* historia_familiar_cancer_relacionado_sindrome_cancer_mama_ovario_hereditaria_choice_sim_2_grau_apenas_1_caso(tem apenas \"unchecked\")\n",
        "\n",
        "* repeat_instrument da tabela dfh(possui apenas um tipo de dado)\n",
        "\n",
        "* repeat_instrument da tabela dfpa(possui apenas um tipo de dado)\n",
        "\n",
        "* repeat_instrument da tabela dfrt(possui apenas um tipo de dado)"
      ]
    },
    {
      "cell_type": "code",
      "execution_count": null,
      "metadata": {
        "colab": {
          "base_uri": "https://localhost:8080/"
        },
        "id": "g4b4T4eCVGue",
        "outputId": "67a56daa-a8e5-4597-9a0a-cedbb43fa22a"
      },
      "outputs": [
        {
          "output_type": "execute_result",
          "data": {
            "text/plain": [
              "      record_id                 escolaridade  idade_primeiro_diagnostico  \\\n",
              "0           302  ENS. FUNDAMENTAL INCOMPLETO                        51.0   \n",
              "1           710                 ENSINO MÉDIO                        58.0   \n",
              "2           752  ENS. FUNDAMENTAL INCOMPLETO                        56.0   \n",
              "3          1367  ENS. FUNDAMENTAL INCOMPLETO                        63.0   \n",
              "4          1589    ENS. FUNDAMENTAL COMPLETO                        42.0   \n",
              "...         ...                          ...                         ...   \n",
              "4267      82123                          NaN                         NaN   \n",
              "4268      82124                          NaN                        41.0   \n",
              "4269      82131                 ENSINO MÉDIO                        59.0   \n",
              "4270      82205                          NaN                        29.0   \n",
              "4271      82240                          NaN                         NaN   \n",
              "\n",
              "          sexo raca data_da_ultima_informacao ultima_informacao  \\\n",
              "0     Feminino  NaN                2014-04-26  Obito por câncer   \n",
              "1     Feminino  NaN                2016-11-17         Vivo, SOE   \n",
              "2     Feminino  NaN                2019-05-02         Vivo, SOE   \n",
              "3     Feminino  NaN                2011-09-29  Obito por câncer   \n",
              "4     Feminino  NaN                2017-05-24         Vivo, SOE   \n",
              "...        ...  ...                       ...               ...   \n",
              "4267       NaN  NaN                2021-10-25         Vivo, SOE   \n",
              "4268       NaN  NaN                2021-01-21  Obito por câncer   \n",
              "4269  Feminino  NaN                2022-06-10  Obito por câncer   \n",
              "4270       NaN  NaN                2022-04-29  Obito por câncer   \n",
              "4271       NaN  NaN                2021-05-13         Vivo, SOE   \n",
              "\n",
              "      tempo_seguimento_em_dias_desde_o_ultimo_tumor_no_caso_tumores_multiplos_dt_pci  \\\n",
              "0                                                2225.0                                \n",
              "1                                                3294.0                                \n",
              "2                                                4153.0                                \n",
              "3                                                1331.0                                \n",
              "4                                                3290.0                                \n",
              "...                                                 ...                                \n",
              "4267                                              380.0                                \n",
              "4268                                              138.0                                \n",
              "4269                                              900.0                                \n",
              "4270                                              538.0                                \n",
              "4271                                              425.0                                \n",
              "\n",
              "     engravidou  quantas_vezes_ficou_gravida  ...  \\\n",
              "0           NaN                          NaN  ...   \n",
              "1           NaN                          NaN  ...   \n",
              "2           NaN                          NaN  ...   \n",
              "3           NaN                          NaN  ...   \n",
              "4           NaN                          NaN  ...   \n",
              "...         ...                          ...  ...   \n",
              "4267        NaN                          NaN  ...   \n",
              "4268        Sim                          NaN  ...   \n",
              "4269        Sim                          NaN  ...   \n",
              "4270        NaN                          NaN  ...   \n",
              "4271        NaN                          NaN  ...   \n",
              "\n",
              "      grau_parentesco_familiar_com_cancer_choice_segundo_avos_tios_netos  \\\n",
              "0                                             Unchecked                    \n",
              "1                                             Unchecked                    \n",
              "2                                             Unchecked                    \n",
              "3                                             Unchecked                    \n",
              "4                                             Unchecked                    \n",
              "...                                                 ...                    \n",
              "4267                                          Unchecked                    \n",
              "4268                                          Unchecked                    \n",
              "4269                                          Unchecked                    \n",
              "4270                                          Unchecked                    \n",
              "4271                                          Unchecked                    \n",
              "\n",
              "     grau_parentesco_familiar_com_cancer_choice_terceiro_bisavos_tio_avos_primos_sobrinhos  \\\n",
              "0                                             Unchecked                                      \n",
              "1                                             Unchecked                                      \n",
              "2                                             Unchecked                                      \n",
              "3                                             Unchecked                                      \n",
              "4                                             Unchecked                                      \n",
              "...                                                 ...                                      \n",
              "4267                                          Unchecked                                      \n",
              "4268                                          Unchecked                                      \n",
              "4269                                          Unchecked                                      \n",
              "4270                                          Unchecked                                      \n",
              "4271                                          Unchecked                                      \n",
              "\n",
              "                tratamento  hormonioterapia data_cirurgia  \\\n",
              "0                      NaN              NaN           NaN   \n",
              "1        Terapia Adjuvante              NaN    2009-09-04   \n",
              "2                      NaN              NaN           NaN   \n",
              "3                      NaN              NaN    2011-07-05   \n",
              "4                      NaN              NaN           NaN   \n",
              "...                    ...              ...           ...   \n",
              "4267  Terapia Neoadjuvante              NaN    2021-07-04   \n",
              "4268                   NaN              NaN           NaN   \n",
              "4269                   NaN              NaN    2020-12-23   \n",
              "4270                   NaN              NaN           NaN   \n",
              "4271                   NaN              NaN           NaN   \n",
              "\n",
              "     tipo_terapia_anti-her2_neoadjuvante radioterapia  \\\n",
              "0                           Trastuzumabe          NaN   \n",
              "1                                    NaN          NaN   \n",
              "2                                    NaN          NaN   \n",
              "3                                    NaN          NaN   \n",
              "4                                    NaN          NaN   \n",
              "...                                  ...          ...   \n",
              "4267                        Trastuzumabe          Sim   \n",
              "4268                                 NaN          NaN   \n",
              "4269                                 NaN          Sim   \n",
              "4270                                 NaN          Sim   \n",
              "4271                                 NaN          Sim   \n",
              "\n",
              "      data_de_inicio_quimioterapia        esquema_hormonioterapia  \\\n",
              "0                              NaN  Inibidor de aromatase isolado   \n",
              "1                       2014-08-24                            NaN   \n",
              "2                              NaN                            NaN   \n",
              "3                              NaN                            NaN   \n",
              "4                              NaN                            NaN   \n",
              "...                            ...                            ...   \n",
              "4267                    2020-12-14                            NaN   \n",
              "4268                           NaN                            NaN   \n",
              "4269                           NaN                            NaN   \n",
              "4270                           NaN                            NaN   \n",
              "4271                           NaN                            NaN   \n",
              "\n",
              "     data_inicio_radioterapia  \n",
              "0                         NaN  \n",
              "1                         NaN  \n",
              "2                         NaN  \n",
              "3                         NaN  \n",
              "4                         NaN  \n",
              "...                       ...  \n",
              "4267               2021-10-03  \n",
              "4268                      NaN  \n",
              "4269               2021-04-10  \n",
              "4270               2022-02-22  \n",
              "4271               2021-01-12  \n",
              "\n",
              "[4272 rows x 35 columns]"
            ],
            "text/html": [
              "\n",
              "  <div id=\"df-63c97470-e7e9-46d1-a817-e020850dd019\">\n",
              "    <div class=\"colab-df-container\">\n",
              "      <div>\n",
              "<style scoped>\n",
              "    .dataframe tbody tr th:only-of-type {\n",
              "        vertical-align: middle;\n",
              "    }\n",
              "\n",
              "    .dataframe tbody tr th {\n",
              "        vertical-align: top;\n",
              "    }\n",
              "\n",
              "    .dataframe thead th {\n",
              "        text-align: right;\n",
              "    }\n",
              "</style>\n",
              "<table border=\"1\" class=\"dataframe\">\n",
              "  <thead>\n",
              "    <tr style=\"text-align: right;\">\n",
              "      <th></th>\n",
              "      <th>record_id</th>\n",
              "      <th>escolaridade</th>\n",
              "      <th>idade_primeiro_diagnostico</th>\n",
              "      <th>sexo</th>\n",
              "      <th>raca</th>\n",
              "      <th>data_da_ultima_informacao</th>\n",
              "      <th>ultima_informacao</th>\n",
              "      <th>tempo_seguimento_em_dias_desde_o_ultimo_tumor_no_caso_tumores_multiplos_dt_pci</th>\n",
              "      <th>engravidou</th>\n",
              "      <th>quantas_vezes_ficou_gravida</th>\n",
              "      <th>...</th>\n",
              "      <th>grau_parentesco_familiar_com_cancer_choice_segundo_avos_tios_netos</th>\n",
              "      <th>grau_parentesco_familiar_com_cancer_choice_terceiro_bisavos_tio_avos_primos_sobrinhos</th>\n",
              "      <th>tratamento</th>\n",
              "      <th>hormonioterapia</th>\n",
              "      <th>data_cirurgia</th>\n",
              "      <th>tipo_terapia_anti-her2_neoadjuvante</th>\n",
              "      <th>radioterapia</th>\n",
              "      <th>data_de_inicio_quimioterapia</th>\n",
              "      <th>esquema_hormonioterapia</th>\n",
              "      <th>data_inicio_radioterapia</th>\n",
              "    </tr>\n",
              "  </thead>\n",
              "  <tbody>\n",
              "    <tr>\n",
              "      <th>0</th>\n",
              "      <td>302</td>\n",
              "      <td>ENS. FUNDAMENTAL INCOMPLETO</td>\n",
              "      <td>51.0</td>\n",
              "      <td>Feminino</td>\n",
              "      <td>NaN</td>\n",
              "      <td>2014-04-26</td>\n",
              "      <td>Obito por câncer</td>\n",
              "      <td>2225.0</td>\n",
              "      <td>NaN</td>\n",
              "      <td>NaN</td>\n",
              "      <td>...</td>\n",
              "      <td>Unchecked</td>\n",
              "      <td>Unchecked</td>\n",
              "      <td>NaN</td>\n",
              "      <td>NaN</td>\n",
              "      <td>NaN</td>\n",
              "      <td>Trastuzumabe</td>\n",
              "      <td>NaN</td>\n",
              "      <td>NaN</td>\n",
              "      <td>Inibidor de aromatase isolado</td>\n",
              "      <td>NaN</td>\n",
              "    </tr>\n",
              "    <tr>\n",
              "      <th>1</th>\n",
              "      <td>710</td>\n",
              "      <td>ENSINO MÉDIO</td>\n",
              "      <td>58.0</td>\n",
              "      <td>Feminino</td>\n",
              "      <td>NaN</td>\n",
              "      <td>2016-11-17</td>\n",
              "      <td>Vivo, SOE</td>\n",
              "      <td>3294.0</td>\n",
              "      <td>NaN</td>\n",
              "      <td>NaN</td>\n",
              "      <td>...</td>\n",
              "      <td>Unchecked</td>\n",
              "      <td>Unchecked</td>\n",
              "      <td>Terapia Adjuvante</td>\n",
              "      <td>NaN</td>\n",
              "      <td>2009-09-04</td>\n",
              "      <td>NaN</td>\n",
              "      <td>NaN</td>\n",
              "      <td>2014-08-24</td>\n",
              "      <td>NaN</td>\n",
              "      <td>NaN</td>\n",
              "    </tr>\n",
              "    <tr>\n",
              "      <th>2</th>\n",
              "      <td>752</td>\n",
              "      <td>ENS. FUNDAMENTAL INCOMPLETO</td>\n",
              "      <td>56.0</td>\n",
              "      <td>Feminino</td>\n",
              "      <td>NaN</td>\n",
              "      <td>2019-05-02</td>\n",
              "      <td>Vivo, SOE</td>\n",
              "      <td>4153.0</td>\n",
              "      <td>NaN</td>\n",
              "      <td>NaN</td>\n",
              "      <td>...</td>\n",
              "      <td>Unchecked</td>\n",
              "      <td>Unchecked</td>\n",
              "      <td>NaN</td>\n",
              "      <td>NaN</td>\n",
              "      <td>NaN</td>\n",
              "      <td>NaN</td>\n",
              "      <td>NaN</td>\n",
              "      <td>NaN</td>\n",
              "      <td>NaN</td>\n",
              "      <td>NaN</td>\n",
              "    </tr>\n",
              "    <tr>\n",
              "      <th>3</th>\n",
              "      <td>1367</td>\n",
              "      <td>ENS. FUNDAMENTAL INCOMPLETO</td>\n",
              "      <td>63.0</td>\n",
              "      <td>Feminino</td>\n",
              "      <td>NaN</td>\n",
              "      <td>2011-09-29</td>\n",
              "      <td>Obito por câncer</td>\n",
              "      <td>1331.0</td>\n",
              "      <td>NaN</td>\n",
              "      <td>NaN</td>\n",
              "      <td>...</td>\n",
              "      <td>Unchecked</td>\n",
              "      <td>Unchecked</td>\n",
              "      <td>NaN</td>\n",
              "      <td>NaN</td>\n",
              "      <td>2011-07-05</td>\n",
              "      <td>NaN</td>\n",
              "      <td>NaN</td>\n",
              "      <td>NaN</td>\n",
              "      <td>NaN</td>\n",
              "      <td>NaN</td>\n",
              "    </tr>\n",
              "    <tr>\n",
              "      <th>4</th>\n",
              "      <td>1589</td>\n",
              "      <td>ENS. FUNDAMENTAL COMPLETO</td>\n",
              "      <td>42.0</td>\n",
              "      <td>Feminino</td>\n",
              "      <td>NaN</td>\n",
              "      <td>2017-05-24</td>\n",
              "      <td>Vivo, SOE</td>\n",
              "      <td>3290.0</td>\n",
              "      <td>NaN</td>\n",
              "      <td>NaN</td>\n",
              "      <td>...</td>\n",
              "      <td>Unchecked</td>\n",
              "      <td>Unchecked</td>\n",
              "      <td>NaN</td>\n",
              "      <td>NaN</td>\n",
              "      <td>NaN</td>\n",
              "      <td>NaN</td>\n",
              "      <td>NaN</td>\n",
              "      <td>NaN</td>\n",
              "      <td>NaN</td>\n",
              "      <td>NaN</td>\n",
              "    </tr>\n",
              "    <tr>\n",
              "      <th>...</th>\n",
              "      <td>...</td>\n",
              "      <td>...</td>\n",
              "      <td>...</td>\n",
              "      <td>...</td>\n",
              "      <td>...</td>\n",
              "      <td>...</td>\n",
              "      <td>...</td>\n",
              "      <td>...</td>\n",
              "      <td>...</td>\n",
              "      <td>...</td>\n",
              "      <td>...</td>\n",
              "      <td>...</td>\n",
              "      <td>...</td>\n",
              "      <td>...</td>\n",
              "      <td>...</td>\n",
              "      <td>...</td>\n",
              "      <td>...</td>\n",
              "      <td>...</td>\n",
              "      <td>...</td>\n",
              "      <td>...</td>\n",
              "      <td>...</td>\n",
              "    </tr>\n",
              "    <tr>\n",
              "      <th>4267</th>\n",
              "      <td>82123</td>\n",
              "      <td>NaN</td>\n",
              "      <td>NaN</td>\n",
              "      <td>NaN</td>\n",
              "      <td>NaN</td>\n",
              "      <td>2021-10-25</td>\n",
              "      <td>Vivo, SOE</td>\n",
              "      <td>380.0</td>\n",
              "      <td>NaN</td>\n",
              "      <td>NaN</td>\n",
              "      <td>...</td>\n",
              "      <td>Unchecked</td>\n",
              "      <td>Unchecked</td>\n",
              "      <td>Terapia Neoadjuvante</td>\n",
              "      <td>NaN</td>\n",
              "      <td>2021-07-04</td>\n",
              "      <td>Trastuzumabe</td>\n",
              "      <td>Sim</td>\n",
              "      <td>2020-12-14</td>\n",
              "      <td>NaN</td>\n",
              "      <td>2021-10-03</td>\n",
              "    </tr>\n",
              "    <tr>\n",
              "      <th>4268</th>\n",
              "      <td>82124</td>\n",
              "      <td>NaN</td>\n",
              "      <td>41.0</td>\n",
              "      <td>NaN</td>\n",
              "      <td>NaN</td>\n",
              "      <td>2021-01-21</td>\n",
              "      <td>Obito por câncer</td>\n",
              "      <td>138.0</td>\n",
              "      <td>Sim</td>\n",
              "      <td>NaN</td>\n",
              "      <td>...</td>\n",
              "      <td>Unchecked</td>\n",
              "      <td>Unchecked</td>\n",
              "      <td>NaN</td>\n",
              "      <td>NaN</td>\n",
              "      <td>NaN</td>\n",
              "      <td>NaN</td>\n",
              "      <td>NaN</td>\n",
              "      <td>NaN</td>\n",
              "      <td>NaN</td>\n",
              "      <td>NaN</td>\n",
              "    </tr>\n",
              "    <tr>\n",
              "      <th>4269</th>\n",
              "      <td>82131</td>\n",
              "      <td>ENSINO MÉDIO</td>\n",
              "      <td>59.0</td>\n",
              "      <td>Feminino</td>\n",
              "      <td>NaN</td>\n",
              "      <td>2022-06-10</td>\n",
              "      <td>Obito por câncer</td>\n",
              "      <td>900.0</td>\n",
              "      <td>Sim</td>\n",
              "      <td>NaN</td>\n",
              "      <td>...</td>\n",
              "      <td>Unchecked</td>\n",
              "      <td>Unchecked</td>\n",
              "      <td>NaN</td>\n",
              "      <td>NaN</td>\n",
              "      <td>2020-12-23</td>\n",
              "      <td>NaN</td>\n",
              "      <td>Sim</td>\n",
              "      <td>NaN</td>\n",
              "      <td>NaN</td>\n",
              "      <td>2021-04-10</td>\n",
              "    </tr>\n",
              "    <tr>\n",
              "      <th>4270</th>\n",
              "      <td>82205</td>\n",
              "      <td>NaN</td>\n",
              "      <td>29.0</td>\n",
              "      <td>NaN</td>\n",
              "      <td>NaN</td>\n",
              "      <td>2022-04-29</td>\n",
              "      <td>Obito por câncer</td>\n",
              "      <td>538.0</td>\n",
              "      <td>NaN</td>\n",
              "      <td>NaN</td>\n",
              "      <td>...</td>\n",
              "      <td>Unchecked</td>\n",
              "      <td>Unchecked</td>\n",
              "      <td>NaN</td>\n",
              "      <td>NaN</td>\n",
              "      <td>NaN</td>\n",
              "      <td>NaN</td>\n",
              "      <td>Sim</td>\n",
              "      <td>NaN</td>\n",
              "      <td>NaN</td>\n",
              "      <td>2022-02-22</td>\n",
              "    </tr>\n",
              "    <tr>\n",
              "      <th>4271</th>\n",
              "      <td>82240</td>\n",
              "      <td>NaN</td>\n",
              "      <td>NaN</td>\n",
              "      <td>NaN</td>\n",
              "      <td>NaN</td>\n",
              "      <td>2021-05-13</td>\n",
              "      <td>Vivo, SOE</td>\n",
              "      <td>425.0</td>\n",
              "      <td>NaN</td>\n",
              "      <td>NaN</td>\n",
              "      <td>...</td>\n",
              "      <td>Unchecked</td>\n",
              "      <td>Unchecked</td>\n",
              "      <td>NaN</td>\n",
              "      <td>NaN</td>\n",
              "      <td>NaN</td>\n",
              "      <td>NaN</td>\n",
              "      <td>Sim</td>\n",
              "      <td>NaN</td>\n",
              "      <td>NaN</td>\n",
              "      <td>2021-01-12</td>\n",
              "    </tr>\n",
              "  </tbody>\n",
              "</table>\n",
              "<p>4272 rows × 35 columns</p>\n",
              "</div>\n",
              "      <button class=\"colab-df-convert\" onclick=\"convertToInteractive('df-63c97470-e7e9-46d1-a817-e020850dd019')\"\n",
              "              title=\"Convert this dataframe to an interactive table.\"\n",
              "              style=\"display:none;\">\n",
              "        \n",
              "  <svg xmlns=\"http://www.w3.org/2000/svg\" height=\"24px\"viewBox=\"0 0 24 24\"\n",
              "       width=\"24px\">\n",
              "    <path d=\"M0 0h24v24H0V0z\" fill=\"none\"/>\n",
              "    <path d=\"M18.56 5.44l.94 2.06.94-2.06 2.06-.94-2.06-.94-.94-2.06-.94 2.06-2.06.94zm-11 1L8.5 8.5l.94-2.06 2.06-.94-2.06-.94L8.5 2.5l-.94 2.06-2.06.94zm10 10l.94 2.06.94-2.06 2.06-.94-2.06-.94-.94-2.06-.94 2.06-2.06.94z\"/><path d=\"M17.41 7.96l-1.37-1.37c-.4-.4-.92-.59-1.43-.59-.52 0-1.04.2-1.43.59L10.3 9.45l-7.72 7.72c-.78.78-.78 2.05 0 2.83L4 21.41c.39.39.9.59 1.41.59.51 0 1.02-.2 1.41-.59l7.78-7.78 2.81-2.81c.8-.78.8-2.07 0-2.86zM5.41 20L4 18.59l7.72-7.72 1.47 1.35L5.41 20z\"/>\n",
              "  </svg>\n",
              "      </button>\n",
              "      \n",
              "  <style>\n",
              "    .colab-df-container {\n",
              "      display:flex;\n",
              "      flex-wrap:wrap;\n",
              "      gap: 12px;\n",
              "    }\n",
              "\n",
              "    .colab-df-convert {\n",
              "      background-color: #E8F0FE;\n",
              "      border: none;\n",
              "      border-radius: 50%;\n",
              "      cursor: pointer;\n",
              "      display: none;\n",
              "      fill: #1967D2;\n",
              "      height: 32px;\n",
              "      padding: 0 0 0 0;\n",
              "      width: 32px;\n",
              "    }\n",
              "\n",
              "    .colab-df-convert:hover {\n",
              "      background-color: #E2EBFA;\n",
              "      box-shadow: 0px 1px 2px rgba(60, 64, 67, 0.3), 0px 1px 3px 1px rgba(60, 64, 67, 0.15);\n",
              "      fill: #174EA6;\n",
              "    }\n",
              "\n",
              "    [theme=dark] .colab-df-convert {\n",
              "      background-color: #3B4455;\n",
              "      fill: #D2E3FC;\n",
              "    }\n",
              "\n",
              "    [theme=dark] .colab-df-convert:hover {\n",
              "      background-color: #434B5C;\n",
              "      box-shadow: 0px 1px 3px 1px rgba(0, 0, 0, 0.15);\n",
              "      filter: drop-shadow(0px 1px 2px rgba(0, 0, 0, 0.3));\n",
              "      fill: #FFFFFF;\n",
              "    }\n",
              "  </style>\n",
              "\n",
              "      <script>\n",
              "        const buttonEl =\n",
              "          document.querySelector('#df-63c97470-e7e9-46d1-a817-e020850dd019 button.colab-df-convert');\n",
              "        buttonEl.style.display =\n",
              "          google.colab.kernel.accessAllowed ? 'block' : 'none';\n",
              "\n",
              "        async function convertToInteractive(key) {\n",
              "          const element = document.querySelector('#df-63c97470-e7e9-46d1-a817-e020850dd019');\n",
              "          const dataTable =\n",
              "            await google.colab.kernel.invokeFunction('convertToInteractive',\n",
              "                                                     [key], {});\n",
              "          if (!dataTable) return;\n",
              "\n",
              "          const docLinkHtml = 'Like what you see? Visit the ' +\n",
              "            '<a target=\"_blank\" href=https://colab.research.google.com/notebooks/data_table.ipynb>data table notebook</a>'\n",
              "            + ' to learn more about interactive tables.';\n",
              "          element.innerHTML = '';\n",
              "          dataTable['output_type'] = 'display_data';\n",
              "          await google.colab.output.renderOutput(dataTable, element);\n",
              "          const docLink = document.createElement('div');\n",
              "          docLink.innerHTML = docLinkHtml;\n",
              "          element.appendChild(docLink);\n",
              "        }\n",
              "      </script>\n",
              "    </div>\n",
              "  </div>\n",
              "  "
            ]
          },
          "metadata": {},
          "execution_count": 107
        }
      ],
      "source": [
        "dfd"
      ]
    },
    {
      "cell_type": "markdown",
      "metadata": {
        "id": "YDGAa_GPRqem"
      },
      "source": [
        "###  2.4.3 Tratamento de Missings da tabela dfd (dados demográficos):"
      ]
    },
    {
      "cell_type": "code",
      "execution_count": null,
      "metadata": {
        "colab": {
          "base_uri": "https://localhost:8080/"
        },
        "id": "2YbjLiC7STaY",
        "outputId": "d5f9254b-60be-4d95-f639-36b0dd14126f"
      },
      "outputs": [
        {
          "output_type": "execute_result",
          "data": {
            "text/plain": [
              "hormonioterapia                                                                                                 0.999298\n",
              "esquema_hormonioterapia                                                                                         0.997191\n",
              "quantas_vezes_ficou_gravida                                                                                     0.989700\n",
              "abortou                                                                                                         0.987828\n",
              "ja_usou_droga?                                                                                                  0.965122\n",
              "tem_historico_de_cancer?                                                                                        0.955524\n",
              "consumo_alcool                                                                                                  0.952247\n",
              "consumo_tabaco                                                                                                  0.950375\n",
              "raca                                                                                                            0.945225\n",
              "atividade_fisica                                                                                                0.928605\n",
              "tempo_de_amamentacao                                                                                            0.838951\n",
              "idade_primeira_gestacao                                                                                         0.790028\n",
              "engravidou                                                                                                      0.762875\n",
              "idade_primeira_menstruacao                                                                                      0.760066\n",
              "amamentou_na_primeira_gestacao                                                                                  0.756086\n",
              "tipo_terapia_anti-her2_neoadjuvante                                                                             0.734551\n",
              "data_cirurgia                                                                                                   0.481273\n",
              "data_inicio_radioterapia                                                                                        0.456227\n",
              "radioterapia                                                                                                    0.455758\n",
              "data_de_inicio_quimioterapia                                                                                    0.339419\n",
              "tratamento                                                                                                      0.329822\n",
              "escolaridade                                                                                                    0.050328\n",
              "idade_primeiro_diagnostico                                                                                      0.042135\n",
              "sexo                                                                                                            0.034410\n",
              "ultima_informacao                                                                                               0.000468\n",
              "tempo_seguimento_em_dias_desde_o_ultimo_tumor_no_caso_tumores_multiplos_dt_pci                                  0.000468\n",
              "data_da_ultima_informacao                                                                                       0.000468\n",
              "qual_metodo_choice_pilula_anticoncepcional                                                                      0.000000\n",
              "grau_parentesco_familiar_com_cancer_choice_terceiro_bisavos_tio_avos_primos_sobrinhos                           0.000000\n",
              "grau_parentesco_familiar_com_cancer_choice_segundo_avos_tios_netos                                              0.000000\n",
              "grau_parentesco_familiar_com_cancer_choice_primeiro_pais_irmaos_filhos                                          0.000000\n",
              "historia_familiar_cancer_relacionado_sindrome_cancer_mama_ovario_hereditaria_choice_nao                         0.000000\n",
              "historia_familiar_cancer_relacionado_sindrome_cancer_mama_ovario_hereditaria_choice_sim_1_grau_apenas_1_caso    0.000000\n",
              "historia_familiar_cancer_relacionado_sindrome_cancer_mama_ovario_hereditaria_choice_sim_1_grau_mais_1_caso      0.000000\n",
              "record_id                                                                                                       0.000000\n",
              "dtype: float64"
            ]
          },
          "metadata": {},
          "execution_count": 108
        }
      ],
      "source": [
        "# Verificando a porcentagem de nulos por coluna\n",
        "dfd.isnull().mean().sort_values(ascending=False)\n",
        "# as colunas tratamento, data de inicio quimioterapia, data inicio radioterapia , data cirurgia e radioterapia poderão ser tratados quando o merge com a tabela dfrt for feito"
      ]
    },
    {
      "cell_type": "markdown",
      "metadata": {
        "id": "KIxWAKbOSWDo"
      },
      "source": [
        "#### 2.4.3.1Tratando missings da coluna \"tem_historico_de_cancer?\":"
      ]
    },
    {
      "cell_type": "code",
      "execution_count": null,
      "metadata": {
        "colab": {
          "base_uri": "https://localhost:8080/"
        },
        "id": "BSdKUslLSimD",
        "outputId": "43d53fbc-0642-4edf-8509-0a78a861a32e"
      },
      "outputs": [
        {
          "output_type": "execute_result",
          "data": {
            "text/plain": [
              "12.0    225\n",
              "13.0    213\n",
              "14.0    162\n",
              "11.0    154\n",
              "15.0    115\n",
              "16.0     43\n",
              "10.0     40\n",
              "9.0      33\n",
              "17.0     23\n",
              "18.0      7\n",
              "8.0       3\n",
              "19.0      2\n",
              "0.0       1\n",
              "37.0      1\n",
              "30.0      1\n",
              "7.0       1\n",
              "20.0      1\n",
              "Name: idade_primeira_menstruacao, dtype: int64"
            ]
          },
          "metadata": {},
          "execution_count": 109
        }
      ],
      "source": [
        "dfd['tem_historico_de_cancer?'] = dfd['tem_historico_de_cancer?'].fillna('Não informado')\n",
        "dfd['idade_primeira_menstruacao'].value_counts()"
      ]
    },
    {
      "cell_type": "markdown",
      "metadata": {
        "id": "suOP5_MlSr8L"
      },
      "source": [
        "#### 2.4.3.2 Tratando missings da coluna \"raca\":"
      ]
    },
    {
      "cell_type": "code",
      "execution_count": null,
      "metadata": {
        "colab": {
          "base_uri": "https://localhost:8080/"
        },
        "id": "kCrd7yj6StHw",
        "outputId": "ff14b80e-bb02-4db2-fe8c-cab818dd789c"
      },
      "outputs": [
        {
          "output_type": "stream",
          "name": "stdout",
          "text": [
            "230\n"
          ]
        }
      ],
      "source": [
        "correlacao = dfd['raca'].value_counts(normalize=True)\n",
        "random = np.random.choice(correlacao.index, size=dfd['raca'].isnull().sum(), p=correlacao.values)\n",
        "dfd.loc[dfd['raca'].isnull(), 'raca'] = pd.Series(random)\n",
        "#dfd['raca']\n",
        "\n",
        "print(dfd['raca'].isnull().sum())\n",
        "\n",
        "proporcao = []\n",
        "for i in range(0, 95):\n",
        "  proporcao.append('Branco')\n",
        "for i in range(0, 72):\n",
        "  proporcao.append('Negro')\n",
        "for i in range(0, 44):\n",
        "  proporcao.append('Tamoxifeno isolado')\n",
        "for i in range(0, 13):\n",
        "  proporcao.append('Outro')\n",
        "for i in range(0, 6):\n",
        "  proporcao.append('Asiático')\n",
        "\n",
        "import random\n",
        "\n",
        "random.shuffle(proporcao)\n",
        "\n",
        "def apply_proporcao(row):\n",
        "  row['raca'] = proporcao[0]\n",
        "  proporcao.pop(0)\n",
        "  return row\n",
        "\n",
        "dfd.loc[dfd['raca'].isnull()] = dfd.loc[dfd['raca'].isnull()].apply(apply_proporcao, axis = 1)"
      ]
    },
    {
      "cell_type": "markdown",
      "metadata": {
        "id": "lLWqW14mS424"
      },
      "source": [
        "#### 2.4.3.3 Tratando missings da coluna \"sexo\":"
      ]
    },
    {
      "cell_type": "code",
      "execution_count": null,
      "metadata": {
        "id": "QFFbk2qhS-Uc"
      },
      "outputs": [],
      "source": [
        "dfd['sexo'] = dfd['sexo'].fillna('Feminino')"
      ]
    },
    {
      "cell_type": "markdown",
      "metadata": {
        "id": "mAhZrGLVTB0b"
      },
      "source": [
        "#### 2.4.3.4 Tratando os missings da coluna \"idade_primeiro_diagnostico\":"
      ]
    },
    {
      "cell_type": "code",
      "execution_count": null,
      "metadata": {
        "id": "zJiHTkwkTFvO"
      },
      "outputs": [],
      "source": [
        "idade_diag_moda = dfd['idade_primeiro_diagnostico'].mode()\n",
        "dfd['idade_primeiro_diagnostico'] = np.where((dfd['idade_primeiro_diagnostico'].isnull()), idade_diag_moda, dfd['idade_primeiro_diagnostico'])"
      ]
    },
    {
      "cell_type": "markdown",
      "metadata": {
        "id": "DARI8s_FTIp9"
      },
      "source": [
        " #### 2.4.3.5 Tratando missings da coluna \"data_da_ultima_informacao\":"
      ]
    },
    {
      "cell_type": "code",
      "execution_count": null,
      "metadata": {
        "id": "veQiCd_TTM5J"
      },
      "outputs": [],
      "source": [
        "dfd['data_da_ultima_informacao'] = np.where((dfd['data_da_ultima_informacao'].isnull()) , dfd['data_cirurgia'] , dfd['data_da_ultima_informacao'])"
      ]
    },
    {
      "cell_type": "markdown",
      "metadata": {
        "id": "ydkZgUfOTQto"
      },
      "source": [
        "#### 2.4.3.6 Tratando missings da coluna \"tempo_seguimento_em_dias_desde_o_ultimo_tumor_no_caso_tumores_multiplos_dt_pci\":"
      ]
    },
    {
      "cell_type": "code",
      "execution_count": null,
      "metadata": {
        "id": "rgHKcA9mTVLm"
      },
      "outputs": [],
      "source": [
        "dfd['tempo_seguimento_em_dias_desde_o_ultimo_tumor_no_caso_tumores_multiplos_dt_pci'] = dfd['tempo_seguimento_em_dias_desde_o_ultimo_tumor_no_caso_tumores_multiplos_dt_pci'].fillna(1407)#esse valor é a moda de menor valor(existem duas modas)"
      ]
    },
    {
      "cell_type": "markdown",
      "metadata": {
        "id": "f-GlOv8QTZUf"
      },
      "source": [
        "#### 2.4.3.7 Tratando missings das colunas \"consumo_alcool\" e \"consumo_tabaco\":"
      ]
    },
    {
      "cell_type": "code",
      "execution_count": null,
      "metadata": {
        "id": "wpibnHFUTcya"
      },
      "outputs": [],
      "source": [
        "dfd['consumo_alcool'] = dfd['consumo_alcool'].fillna('não-informado')\n",
        "dfd['consumo_tabaco'] = dfd['consumo_tabaco'].fillna('não-informado')"
      ]
    },
    {
      "cell_type": "markdown",
      "metadata": {
        "id": "ccjOJD-hTgJC"
      },
      "source": [
        "####2.4.3.8 Tratando missings da coluna \"escolaridade\":"
      ]
    },
    {
      "cell_type": "code",
      "execution_count": null,
      "metadata": {
        "id": "aNCeS5YwTjVS"
      },
      "outputs": [],
      "source": [
        "dfd['escolaridade'] = dfd['escolaridade'].fillna('IGNORADA')"
      ]
    },
    {
      "cell_type": "markdown",
      "metadata": {
        "id": "S4FUPw8iTl0u"
      },
      "source": [
        "#### 2.4.3.9 Tratando missings da coluna \"atividade_fisica\":"
      ]
    },
    {
      "cell_type": "code",
      "execution_count": null,
      "metadata": {
        "id": "aLZOfFYWTrJ0"
      },
      "outputs": [],
      "source": [
        "dfd['atividade_fisica'] = dfd['atividade_fisica'].fillna('não-informado')"
      ]
    },
    {
      "cell_type": "markdown",
      "metadata": {
        "id": "qSWROIbLTuaV"
      },
      "source": [
        "#### 2.4.3.10 Tratando missings da coluna \"ja_usou_droga?\":"
      ]
    },
    {
      "cell_type": "code",
      "execution_count": null,
      "metadata": {
        "id": "hJ1CL-xiTwwg"
      },
      "outputs": [],
      "source": [
        "dfd['ja_usou_droga?'] = dfd['ja_usou_droga?'].fillna('não-informado')"
      ]
    },
    {
      "cell_type": "markdown",
      "metadata": {
        "id": "z2p0J3fdT1vI"
      },
      "source": [
        "#### 2.4.3.11 Tratando missings das colunas \"engravidou\", \"amamentou_na_primeira_gestação\", \"tempo_de_amamentacao\":"
      ]
    },
    {
      "cell_type": "code",
      "execution_count": null,
      "metadata": {
        "id": "uwpsTATYT-_0"
      },
      "outputs": [],
      "source": [
        "dfd['engravidou'] = np.where((dfd['engravidou'].isnull()) & (dfd['amamentou_na_primeira_gestacao'] == 'Sim'), 'Sim' , dfd['engravidou'])\n",
        "dfd['engravidou'] = np.where((dfd['engravidou'].isnull()) & (dfd['amamentou_na_primeira_gestacao'] == 'Não'), 'Não' , dfd['engravidou'])\n",
        "dfd['engravidou'] = np.where((dfd['engravidou'].isnull()) & (dfd['tempo_de_amamentacao'] > 0), 'Sim' , dfd['engravidou'])\n",
        "dfd['engravidou'] = np.where((dfd['engravidou'].isnull()) & (dfd['sexo'] == 'Masculino'), 'Não' , dfd['engravidou'])\n",
        "\n",
        "dfd['amamentou_na_primeira_gestacao'] = np.where((dfd['amamentou_na_primeira_gestacao'].isnull()) & (dfd['tempo_de_amamentacao'] > 0), 'Sim' , dfd['amamentou_na_primeira_gestacao'])\n",
        "dfd['amamentou_na_primeira_gestacao'] = np.where((dfd['amamentou_na_primeira_gestacao'].isnull()) & (dfd['engravidou'] == 'Sim'), 'Sim' , dfd['amamentou_na_primeira_gestacao'])#visto que a maioria das mulheres que engravidaram amamentaram na primeira gestação em comparação com as que não amamentaram forma uma relação de 782/136\n",
        "dfd['amamentou_na_primeira_gestacao'] = np.where((dfd['amamentou_na_primeira_gestacao'].isnull()) & (dfd['engravidou'] == 'Não'), 'Não' , dfd['amamentou_na_primeira_gestacao'])\n",
        "dfd['tempo_de_amamentacao'] = np.where((dfd['tempo_de_amamentacao'].isnull()) & (dfd['amamentou_na_primeira_gestacao'] == 'Sim'), dfd['tempo_de_amamentacao'].mode(), dfd['tempo_de_amamentacao'])\n",
        "dfd['tempo_de_amamentacao'] = np.where((dfd['tempo_de_amamentacao'].isnull()) & (dfd['amamentou_na_primeira_gestacao'] == 'Não'), 0 , dfd['tempo_de_amamentacao'])\n",
        "dfd['tempo_de_amamentacao'] = np.where((dfd['tempo_de_amamentacao'].isnull()) & (dfd['engravidou'] == 'Não'), 0 , dfd['tempo_de_amamentacao'])\n",
        "\n",
        "dfd['engravidou'] = np.where((dfd['engravidou'].isnull()), \"Não informado\" , dfd['engravidou'])\n",
        "dfd['amamentou_na_primeira_gestacao'] = np.where((dfd['amamentou_na_primeira_gestacao'].isnull()), \"Não informado\" , dfd['amamentou_na_primeira_gestacao'])\n",
        "dfd['tempo_de_amamentacao'] = np.where((dfd['tempo_de_amamentacao'].isnull()), 0 , dfd['tempo_de_amamentacao'])\n"
      ]
    },
    {
      "cell_type": "markdown",
      "metadata": {
        "id": "BvCf6fPmUB5s"
      },
      "source": [
        "#### 2.4.3.12 Tratando missings da coluna \"quantas_vezes_ficou_gravida\":"
      ]
    },
    {
      "cell_type": "code",
      "execution_count": null,
      "metadata": {
        "colab": {
          "base_uri": "https://localhost:8080/"
        },
        "id": "4reCEff-UExI",
        "outputId": "92e515f4-cd22-457a-f2ae-cbc8bfdfe63c"
      },
      "outputs": [
        {
          "output_type": "stream",
          "name": "stdout",
          "text": [
            "0    1.0\n",
            "Name: quantas_vezes_ficou_gravida, dtype: float64\n"
          ]
        }
      ],
      "source": [
        "moda = dfd['quantas_vezes_ficou_gravida'].mode()\n",
        "print(moda)\n",
        "dfd['quantas_vezes_ficou_gravida'] = np.where((dfd['quantas_vezes_ficou_gravida'].isnull()) & (dfd['engravidou'] == 'Sim'), moda , dfd['quantas_vezes_ficou_gravida'])\n",
        "dfd['quantas_vezes_ficou_gravida'] = np.where((dfd['quantas_vezes_ficou_gravida'].isnull()) & (dfd['engravidou'] == 'Não'), 0 , dfd['quantas_vezes_ficou_gravida'])\n",
        "dfd['quantas_vezes_ficou_gravida'] = np.where((dfd['quantas_vezes_ficou_gravida'].isnull()) & (dfd['engravidou'] == 'Não informado'), 0 , dfd['quantas_vezes_ficou_gravida'])\n"
      ]
    },
    {
      "cell_type": "markdown",
      "metadata": {
        "id": "z_xp75EfUHXH"
      },
      "source": [
        "#### 2.4.3.13 Tratando missings da coluna \"abortou\":"
      ]
    },
    {
      "cell_type": "code",
      "execution_count": null,
      "metadata": {
        "id": "T3vXQalnULea"
      },
      "outputs": [],
      "source": [
        "dfd['abortou'] = np.where((dfd['abortou'].isnull()) & (dfd['amamentou_na_primeira_gestacao'] == 'Sim') | (dfd['tempo_de_amamentacao'] > 0) , 'Não' , dfd['abortou'])\n",
        "dfd['abortou'] = np.where((dfd['abortou'].isnull()) & (dfd['sexo'] == 'Masculino') , 'Não(homem)' , dfd['abortou'])\n",
        "dfd['abortou'] = np.where((dfd['abortou'].isnull()) , 'Não-informado' , dfd['abortou'])"
      ]
    },
    {
      "cell_type": "markdown",
      "metadata": {
        "id": "aCgvoEVPUOYl"
      },
      "source": [
        "#### 2.4.3.14 Tratando missings da coluna \"ultima_informacao\":"
      ]
    },
    {
      "cell_type": "code",
      "execution_count": null,
      "metadata": {
        "id": "iORi7W3sUTzQ"
      },
      "outputs": [],
      "source": [
        "# Analisando manualmente vimos que essa coluna possui apenas duas linhas vazias, verificando na outra tabela vimos que um dos pacientes teve metastase para diversos orgãos e a outra não retornou ao hospital, indicando que não realizou o tratamento\n",
        "dfd['ultima_informacao'] = dfd['ultima_informacao'].fillna('Obito por câncer')"
      ]
    },
    {
      "cell_type": "markdown",
      "metadata": {
        "id": "3ozSi4-EUjCj"
      },
      "source": [
        "####2.4.3.15 Tratando missings da coluna \"idade_primeira_menstruacao\":"
      ]
    },
    {
      "cell_type": "code",
      "execution_count": null,
      "metadata": {
        "id": "NEB07EolUkJT"
      },
      "outputs": [],
      "source": [
        "dfd['idade_primeira_menstruacao'] = np.where((dfd['idade_primeira_menstruacao'].isnull()) , 13 , dfd['idade_primeira_menstruacao']) \n",
        "# 13 é a idade média de menstruação no Brasil, não usamos a média, mediana ou moda da coluna, pois essa estava com poucos dados\n",
        "#ATENÇÃO: quando for fazer o encoding, devemos substituir o idade_primeira_menstruação das linhas que tem o 'sexo' == Masculino por \"não-menstrua\"\n"
      ]
    },
    {
      "cell_type": "markdown",
      "metadata": {
        "id": "b7kHSVmH_qMD"
      },
      "source": [
        "#### 2.4.3.16 Tratando missings da coluna \"idade_primeira_gestacao\":"
      ]
    },
    {
      "cell_type": "code",
      "execution_count": null,
      "metadata": {
        "id": "uWbWl2Zo_3vN"
      },
      "outputs": [],
      "source": [
        "\n",
        "idade_gest = dfd['idade_primeira_gestacao'].mode()\n",
        "dfd['idade_primeira_gestacao'] = np.where((dfd['idade_primeira_gestacao'].isnull()) & (dfd['engravidou'] == 'Sim') , idade_gest , dfd['idade_primeira_gestacao'])\n",
        "dfd['idade_primeira_gestacao'] = np.where((dfd['idade_primeira_gestacao'].isnull()) & (dfd['engravidou'] == 'Não') | (dfd['engravidou'] == 'Não informado') , -1 , dfd['idade_primeira_gestacao'])"
      ]
    },
    {
      "cell_type": "markdown",
      "metadata": {
        "id": "LP98YfN7E6hX"
      },
      "source": [
        "### 2.4.4 Tratando missings da coluna \"tipo_terapia_anti-her2_neoadjuvante\":"
      ]
    },
    {
      "cell_type": "markdown",
      "metadata": {
        "id": "PRoWAwTbFHpX"
      },
      "source": [
        "De acordo com o parceiro, essa coluna tem relação com a coluna \"subtipo_tumoral\" da tabela dfh, da seguinte forma: quando o paciente tem subtipo tumoral igual a 3 ou 5, significa que o seu tummor é do tipo HER2, logo ele realizará a terapia anti-her2, os outros subtipos NÃO realizaram esse tratamento.Faremos um merge entre algumas colunas da tabela de dados histopatologicos (dfh) e  de dados demográficos (dfd) pois na dfh tem informações que completarão a coluna citada acima."
      ]
    },
    {
      "cell_type": "code",
      "execution_count": null,
      "metadata": {
        "id": "yB1fHr58G7WY"
      },
      "outputs": [],
      "source": [
        "coluna_dfh = dfh[['subtipo_tumoral', 'record_id']]\n",
        "tipo_terapia = dfd[['tipo_terapia_anti-her2_neoadjuvante', 'record_id']]\n",
        "merge_terapia = pd.merge(coluna_dfh, tipo_terapia, on='record_id', how= 'right')\n"
      ]
    },
    {
      "cell_type": "code",
      "execution_count": null,
      "metadata": {
        "id": "AiX_ozZRHW4G"
      },
      "outputs": [],
      "source": [
        "merge_terapia['tipo_terapia_anti-her2_neoadjuvante'] = np.where((merge_terapia['tipo_terapia_anti-her2_neoadjuvante'].isnull()) & (merge_terapia['subtipo_tumoral'] == 1) | (merge_terapia['subtipo_tumoral'] == 2) | (merge_terapia['subtipo_tumoral'] == 4) , 'não realizou' , merge_terapia['tipo_terapia_anti-her2_neoadjuvante'])\n",
        "merge_terapia['tipo_terapia_anti-her2_neoadjuvante'] = np.where((merge_terapia['tipo_terapia_anti-her2_neoadjuvante'].isnull()) & (merge_terapia['subtipo_tumoral'] == 3) , 'Trastuzumabe' , merge_terapia['tipo_terapia_anti-her2_neoadjuvante'])\n",
        "merge_terapia['tipo_terapia_anti-her2_neoadjuvante'] = np.where((merge_terapia['tipo_terapia_anti-her2_neoadjuvante'].isnull()) & (merge_terapia['subtipo_tumoral'] == 5) , 'Trastuzumabe + Pertuzumabe' , merge_terapia['tipo_terapia_anti-her2_neoadjuvante'])\n",
        "dfd['tipo_terapia_anti-her2_neoadjuvante'] = merge_terapia['tipo_terapia_anti-her2_neoadjuvante']"
      ]
    },
    {
      "cell_type": "markdown",
      "metadata": {
        "id": "e5EBPfJQUv_g"
      },
      "source": [
        "### 2.4.5 Tratando missings das colunas \"radioterapia\", \"data_inicio_radioterapia\" , 'data_de_inicio_quimioterapia\" , \"tratamento\", \"esquema_hormonioterapia\", \"hormonioterapia\" , \"data_cirurgia\":"
      ]
    },
    {
      "cell_type": "markdown",
      "metadata": {
        "id": "r3SaPCBlU0T1"
      },
      "source": [
        "Merge entre algumas colunas da tabela de registro do tumor (dfrt) e algumas da tabela de dados demográficos (dfd) pois na dfrt tem informações que completarão as colunas citadas acima."
      ]
    },
    {
      "cell_type": "code",
      "execution_count": null,
      "metadata": {
        "id": "CFB50sB0pPPV"
      },
      "outputs": [],
      "source": [
        "dfd['data_inicio_radioterapia'] = pd.to_datetime(dfd['data_inicio_radioterapia'], format='%Y-%m-%d')\n",
        "dfd['data_de_inicio_quimioterapia'] = pd.to_datetime(dfd['data_de_inicio_quimioterapia'], format='%Y-%m-%d')\n",
        "dfd['data_cirurgia'] = pd.to_datetime(dfd['data_cirurgia'], format='%Y-%m-%d')"
      ]
    },
    {
      "cell_type": "code",
      "execution_count": null,
      "metadata": {
        "id": "j0HFMRruVHXT"
      },
      "outputs": [],
      "source": [
        "# Merge entre as colunas requeridas\n",
        "colunas_dfrt = dfrt\n",
        "colunas_dfd = dfd[['record_id', 'tratamento', 'radioterapia', 'data_inicio_radioterapia', 'data_de_inicio_quimioterapia', 'esquema_hormonioterapia', 'hormonioterapia' , 'data_cirurgia']]\n",
        "merge_colunas = pd.merge(colunas_dfrt, colunas_dfd, on='record_id', how= 'right')"
      ]
    },
    {
      "cell_type": "markdown",
      "metadata": {
        "id": "CYAcFa-iWBjS"
      },
      "source": [
        "####2.4.5.1 Tratando os missings da coluna \"tratamento\":"
      ]
    },
    {
      "cell_type": "code",
      "execution_count": null,
      "metadata": {
        "id": "tOCiG3YGfFXf"
      },
      "outputs": [],
      "source": [
        "merge_colunas['tratamento'] = np.where((merge_colunas['tratamento'].isnull()) & (merge_colunas['combinacao_dos_tratamentos_realizados_no_hospital'] == 'Radioterapia') , 'Radioterapia' , merge_colunas['tratamento'])\n",
        "merge_colunas['tratamento'] = np.where((merge_colunas['tratamento'].isnull()) & (merge_colunas['combinacao_dos_tratamentos_realizados_no_hospital'] == 'Quimioterapia') , 'Quimioterapia' , merge_colunas['tratamento'])\n",
        "merge_colunas['tratamento'] = np.where((merge_colunas['tratamento'].isnull()) & (merge_colunas['combinacao_dos_tratamentos_realizados_no_hospital'] == 'Nenhum tratamento') , 'Nenhum tratamento' , merge_colunas['tratamento'])\n",
        "merge_colunas['tratamento'] = np.where((merge_colunas['tratamento'].isnull()) & (merge_colunas['combinacao_dos_tratamentos_realizados_no_hospital'] == 'Cirurgia') , 'Cirurgia' , merge_colunas['tratamento'])"
      ]
    },
    {
      "cell_type": "code",
      "execution_count": null,
      "metadata": {
        "colab": {
          "base_uri": "https://localhost:8080/"
        },
        "id": "oZuWIQGdoSps",
        "outputId": "c7047769-ef2f-43d1-e5dd-1852bd31987b"
      },
      "outputs": [
        {
          "output_type": "execute_result",
          "data": {
            "text/plain": [
              "0.04892322097378277"
            ]
          },
          "metadata": {},
          "execution_count": 130
        }
      ],
      "source": [
        "from datetime import timedelta\n",
        "def tratando_tratamento(row):\n",
        "  if row['tratamento'] != 'Terapia Neoadjuvante' and row['tratamento'] != 'Terapia Adjuvante' and row['tratamento'] != 'Quimioterapia' and row['tratamento'] != 'Radioterapia' and row['tratamento'] != 'Cirurgia' and row['tratamento'] != 'Nenhum Tratamento' :\n",
        "    if row['data_cirurgia'] == row['data_do_tratamento'] or row['data_cirurgia'] < row['data_de_inicio_quimioterapia'] or row['data_cirurgia'] - row['data_do_diagnostico'] <= timedelta(days = 180):\n",
        "      row['tratamento'] = 'Terapia Adjuvante'\n",
        "    elif row['data_de_inicio_quimioterapia'] == row['data_do_tratamento'] or row['data_cirurgia'] > row['data_de_inicio_quimioterapia']:\n",
        "      row['tratamento'] = 'Terapia Neoadjuvante'\n",
        "    elif row['combinacao_dos_tratamentos_realizados_no_hospital'] == 'Outras combinações':\n",
        "      row['tratamento'] = 'Outras combinações'\n",
        "\n",
        "  return row\n",
        "\n",
        "merge_colunas = merge_colunas.apply(tratando_tratamento, axis = 1)\n",
        "merge_colunas['tratamento'].isnull().mean()"
      ]
    },
    {
      "cell_type": "code",
      "execution_count": null,
      "metadata": {
        "colab": {
          "base_uri": "https://localhost:8080/",
          "height": 423
        },
        "id": "peIJjdIwhw5o",
        "outputId": "31f185ca-40e9-4ff3-b1b1-2a14c7fb7217"
      },
      "outputs": [
        {
          "output_type": "execute_result",
          "data": {
            "text/plain": [
              "     tratamento combinacao_dos_tratamentos_realizados_no_hospital  \\\n",
              "0           NaN              Cirurgia + Radio + Quimio + Hormonio   \n",
              "4           NaN                         Cirurgia + Radio + Quimio   \n",
              "13          NaN                      Radioterapia + Quimioterapia   \n",
              "18          NaN                      Radioterapia + Quimioterapia   \n",
              "24          NaN              Cirurgia + Radio + Quimio + Hormonio   \n",
              "...         ...                                               ...   \n",
              "4210        NaN              Cirurgia + Radio + Quimio + Hormonio   \n",
              "4213        NaN                      Radioterapia + Quimioterapia   \n",
              "4215        NaN                      Radioterapia + Quimioterapia   \n",
              "4236        NaN                           Cirurgia + Radioterapia   \n",
              "4270        NaN                         Cirurgia + Radio + Quimio   \n",
              "\n",
              "     data_do_tratamento data_do_diagnostico data_cirurgia  \\\n",
              "0            2008-08-15          2008-03-23           NaT   \n",
              "4            2008-09-16          2008-05-21           NaT   \n",
              "13           2008-07-06          2008-04-20           NaT   \n",
              "18           2008-01-20          2007-12-14           NaT   \n",
              "24           2008-10-16          2008-07-10    2009-01-18   \n",
              "...                 ...                 ...           ...   \n",
              "4210         2020-04-24          2020-02-22    2020-10-19   \n",
              "4213         2020-08-31          2020-06-26           NaT   \n",
              "4215         2020-04-11          2020-01-11           NaT   \n",
              "4236         2020-09-24          2020-05-24           NaT   \n",
              "4270         2021-03-27          2020-11-07           NaT   \n",
              "\n",
              "     data_de_inicio_quimioterapia  \n",
              "0                             NaT  \n",
              "4                             NaT  \n",
              "13                            NaT  \n",
              "18                            NaT  \n",
              "24                            NaT  \n",
              "...                           ...  \n",
              "4210                          NaT  \n",
              "4213                          NaT  \n",
              "4215                          NaT  \n",
              "4236                          NaT  \n",
              "4270                          NaT  \n",
              "\n",
              "[209 rows x 6 columns]"
            ],
            "text/html": [
              "\n",
              "  <div id=\"df-29dda9ca-527b-42f9-a895-bdaad6c51b57\">\n",
              "    <div class=\"colab-df-container\">\n",
              "      <div>\n",
              "<style scoped>\n",
              "    .dataframe tbody tr th:only-of-type {\n",
              "        vertical-align: middle;\n",
              "    }\n",
              "\n",
              "    .dataframe tbody tr th {\n",
              "        vertical-align: top;\n",
              "    }\n",
              "\n",
              "    .dataframe thead th {\n",
              "        text-align: right;\n",
              "    }\n",
              "</style>\n",
              "<table border=\"1\" class=\"dataframe\">\n",
              "  <thead>\n",
              "    <tr style=\"text-align: right;\">\n",
              "      <th></th>\n",
              "      <th>tratamento</th>\n",
              "      <th>combinacao_dos_tratamentos_realizados_no_hospital</th>\n",
              "      <th>data_do_tratamento</th>\n",
              "      <th>data_do_diagnostico</th>\n",
              "      <th>data_cirurgia</th>\n",
              "      <th>data_de_inicio_quimioterapia</th>\n",
              "    </tr>\n",
              "  </thead>\n",
              "  <tbody>\n",
              "    <tr>\n",
              "      <th>0</th>\n",
              "      <td>NaN</td>\n",
              "      <td>Cirurgia + Radio + Quimio + Hormonio</td>\n",
              "      <td>2008-08-15</td>\n",
              "      <td>2008-03-23</td>\n",
              "      <td>NaT</td>\n",
              "      <td>NaT</td>\n",
              "    </tr>\n",
              "    <tr>\n",
              "      <th>4</th>\n",
              "      <td>NaN</td>\n",
              "      <td>Cirurgia + Radio + Quimio</td>\n",
              "      <td>2008-09-16</td>\n",
              "      <td>2008-05-21</td>\n",
              "      <td>NaT</td>\n",
              "      <td>NaT</td>\n",
              "    </tr>\n",
              "    <tr>\n",
              "      <th>13</th>\n",
              "      <td>NaN</td>\n",
              "      <td>Radioterapia + Quimioterapia</td>\n",
              "      <td>2008-07-06</td>\n",
              "      <td>2008-04-20</td>\n",
              "      <td>NaT</td>\n",
              "      <td>NaT</td>\n",
              "    </tr>\n",
              "    <tr>\n",
              "      <th>18</th>\n",
              "      <td>NaN</td>\n",
              "      <td>Radioterapia + Quimioterapia</td>\n",
              "      <td>2008-01-20</td>\n",
              "      <td>2007-12-14</td>\n",
              "      <td>NaT</td>\n",
              "      <td>NaT</td>\n",
              "    </tr>\n",
              "    <tr>\n",
              "      <th>24</th>\n",
              "      <td>NaN</td>\n",
              "      <td>Cirurgia + Radio + Quimio + Hormonio</td>\n",
              "      <td>2008-10-16</td>\n",
              "      <td>2008-07-10</td>\n",
              "      <td>2009-01-18</td>\n",
              "      <td>NaT</td>\n",
              "    </tr>\n",
              "    <tr>\n",
              "      <th>...</th>\n",
              "      <td>...</td>\n",
              "      <td>...</td>\n",
              "      <td>...</td>\n",
              "      <td>...</td>\n",
              "      <td>...</td>\n",
              "      <td>...</td>\n",
              "    </tr>\n",
              "    <tr>\n",
              "      <th>4210</th>\n",
              "      <td>NaN</td>\n",
              "      <td>Cirurgia + Radio + Quimio + Hormonio</td>\n",
              "      <td>2020-04-24</td>\n",
              "      <td>2020-02-22</td>\n",
              "      <td>2020-10-19</td>\n",
              "      <td>NaT</td>\n",
              "    </tr>\n",
              "    <tr>\n",
              "      <th>4213</th>\n",
              "      <td>NaN</td>\n",
              "      <td>Radioterapia + Quimioterapia</td>\n",
              "      <td>2020-08-31</td>\n",
              "      <td>2020-06-26</td>\n",
              "      <td>NaT</td>\n",
              "      <td>NaT</td>\n",
              "    </tr>\n",
              "    <tr>\n",
              "      <th>4215</th>\n",
              "      <td>NaN</td>\n",
              "      <td>Radioterapia + Quimioterapia</td>\n",
              "      <td>2020-04-11</td>\n",
              "      <td>2020-01-11</td>\n",
              "      <td>NaT</td>\n",
              "      <td>NaT</td>\n",
              "    </tr>\n",
              "    <tr>\n",
              "      <th>4236</th>\n",
              "      <td>NaN</td>\n",
              "      <td>Cirurgia + Radioterapia</td>\n",
              "      <td>2020-09-24</td>\n",
              "      <td>2020-05-24</td>\n",
              "      <td>NaT</td>\n",
              "      <td>NaT</td>\n",
              "    </tr>\n",
              "    <tr>\n",
              "      <th>4270</th>\n",
              "      <td>NaN</td>\n",
              "      <td>Cirurgia + Radio + Quimio</td>\n",
              "      <td>2021-03-27</td>\n",
              "      <td>2020-11-07</td>\n",
              "      <td>NaT</td>\n",
              "      <td>NaT</td>\n",
              "    </tr>\n",
              "  </tbody>\n",
              "</table>\n",
              "<p>209 rows × 6 columns</p>\n",
              "</div>\n",
              "      <button class=\"colab-df-convert\" onclick=\"convertToInteractive('df-29dda9ca-527b-42f9-a895-bdaad6c51b57')\"\n",
              "              title=\"Convert this dataframe to an interactive table.\"\n",
              "              style=\"display:none;\">\n",
              "        \n",
              "  <svg xmlns=\"http://www.w3.org/2000/svg\" height=\"24px\"viewBox=\"0 0 24 24\"\n",
              "       width=\"24px\">\n",
              "    <path d=\"M0 0h24v24H0V0z\" fill=\"none\"/>\n",
              "    <path d=\"M18.56 5.44l.94 2.06.94-2.06 2.06-.94-2.06-.94-.94-2.06-.94 2.06-2.06.94zm-11 1L8.5 8.5l.94-2.06 2.06-.94-2.06-.94L8.5 2.5l-.94 2.06-2.06.94zm10 10l.94 2.06.94-2.06 2.06-.94-2.06-.94-.94-2.06-.94 2.06-2.06.94z\"/><path d=\"M17.41 7.96l-1.37-1.37c-.4-.4-.92-.59-1.43-.59-.52 0-1.04.2-1.43.59L10.3 9.45l-7.72 7.72c-.78.78-.78 2.05 0 2.83L4 21.41c.39.39.9.59 1.41.59.51 0 1.02-.2 1.41-.59l7.78-7.78 2.81-2.81c.8-.78.8-2.07 0-2.86zM5.41 20L4 18.59l7.72-7.72 1.47 1.35L5.41 20z\"/>\n",
              "  </svg>\n",
              "      </button>\n",
              "      \n",
              "  <style>\n",
              "    .colab-df-container {\n",
              "      display:flex;\n",
              "      flex-wrap:wrap;\n",
              "      gap: 12px;\n",
              "    }\n",
              "\n",
              "    .colab-df-convert {\n",
              "      background-color: #E8F0FE;\n",
              "      border: none;\n",
              "      border-radius: 50%;\n",
              "      cursor: pointer;\n",
              "      display: none;\n",
              "      fill: #1967D2;\n",
              "      height: 32px;\n",
              "      padding: 0 0 0 0;\n",
              "      width: 32px;\n",
              "    }\n",
              "\n",
              "    .colab-df-convert:hover {\n",
              "      background-color: #E2EBFA;\n",
              "      box-shadow: 0px 1px 2px rgba(60, 64, 67, 0.3), 0px 1px 3px 1px rgba(60, 64, 67, 0.15);\n",
              "      fill: #174EA6;\n",
              "    }\n",
              "\n",
              "    [theme=dark] .colab-df-convert {\n",
              "      background-color: #3B4455;\n",
              "      fill: #D2E3FC;\n",
              "    }\n",
              "\n",
              "    [theme=dark] .colab-df-convert:hover {\n",
              "      background-color: #434B5C;\n",
              "      box-shadow: 0px 1px 3px 1px rgba(0, 0, 0, 0.15);\n",
              "      filter: drop-shadow(0px 1px 2px rgba(0, 0, 0, 0.3));\n",
              "      fill: #FFFFFF;\n",
              "    }\n",
              "  </style>\n",
              "\n",
              "      <script>\n",
              "        const buttonEl =\n",
              "          document.querySelector('#df-29dda9ca-527b-42f9-a895-bdaad6c51b57 button.colab-df-convert');\n",
              "        buttonEl.style.display =\n",
              "          google.colab.kernel.accessAllowed ? 'block' : 'none';\n",
              "\n",
              "        async function convertToInteractive(key) {\n",
              "          const element = document.querySelector('#df-29dda9ca-527b-42f9-a895-bdaad6c51b57');\n",
              "          const dataTable =\n",
              "            await google.colab.kernel.invokeFunction('convertToInteractive',\n",
              "                                                     [key], {});\n",
              "          if (!dataTable) return;\n",
              "\n",
              "          const docLinkHtml = 'Like what you see? Visit the ' +\n",
              "            '<a target=\"_blank\" href=https://colab.research.google.com/notebooks/data_table.ipynb>data table notebook</a>'\n",
              "            + ' to learn more about interactive tables.';\n",
              "          element.innerHTML = '';\n",
              "          dataTable['output_type'] = 'display_data';\n",
              "          await google.colab.output.renderOutput(dataTable, element);\n",
              "          const docLink = document.createElement('div');\n",
              "          docLink.innerHTML = docLinkHtml;\n",
              "          element.appendChild(docLink);\n",
              "        }\n",
              "      </script>\n",
              "    </div>\n",
              "  </div>\n",
              "  "
            ]
          },
          "metadata": {},
          "execution_count": 131
        }
      ],
      "source": [
        "m  = merge_colunas[['tratamento', 'combinacao_dos_tratamentos_realizados_no_hospital', 'data_do_tratamento','data_do_diagnostico', 'data_cirurgia','data_de_inicio_quimioterapia']]\n",
        "m[m['tratamento'].isnull()]"
      ]
    },
    {
      "cell_type": "code",
      "execution_count": null,
      "metadata": {
        "id": "gL2PX3sdfK1I"
      },
      "outputs": [],
      "source": [
        "dfd['tratamento'] = merge_colunas['tratamento']"
      ]
    },
    {
      "cell_type": "code",
      "execution_count": null,
      "metadata": {
        "colab": {
          "base_uri": "https://localhost:8080/",
          "height": 423
        },
        "id": "Y66S3nxNdx7o",
        "outputId": "ba9ee0e1-804c-4063-c0c2-7d1c60e09a0e"
      },
      "outputs": [
        {
          "output_type": "execute_result",
          "data": {
            "text/plain": [
              "                tratamento combinacao_dos_tratamentos_realizados_no_hospital  \\\n",
              "0                      NaN              Cirurgia + Radio + Quimio + Hormonio   \n",
              "1        Terapia Adjuvante                          Cirurgia + Quimioterapia   \n",
              "2       Outras combinações                                Outras combinações   \n",
              "3       Outras combinações                                Outras combinações   \n",
              "4                      NaN                         Cirurgia + Radio + Quimio   \n",
              "...                    ...                                               ...   \n",
              "4267  Terapia Neoadjuvante                                Outras combinações   \n",
              "4268         Quimioterapia                                     Quimioterapia   \n",
              "4269     Terapia Adjuvante                           Cirurgia + Radioterapia   \n",
              "4270                   NaN                         Cirurgia + Radio + Quimio   \n",
              "4271    Outras combinações                                Outras combinações   \n",
              "\n",
              "     data_do_tratamento data_do_diagnostico data_cirurgia  \\\n",
              "0            2008-08-15          2008-03-23           NaT   \n",
              "1            2008-05-29          2007-11-11    2009-09-04   \n",
              "2            2008-04-07          2007-12-18           NaT   \n",
              "3            2008-09-29          2008-02-06    2011-07-05   \n",
              "4            2008-09-16          2008-05-21           NaT   \n",
              "...                 ...                 ...           ...   \n",
              "4267         2020-12-14          2020-10-10    2021-07-04   \n",
              "4268         2021-01-12          2020-09-05           NaT   \n",
              "4269         2020-12-23          2019-12-23    2020-12-23   \n",
              "4270         2021-03-27          2020-11-07           NaT   \n",
              "4271         2021-01-12          2020-03-14           NaT   \n",
              "\n",
              "     data_de_inicio_quimioterapia  \n",
              "0                             NaT  \n",
              "1                      2014-08-24  \n",
              "2                             NaT  \n",
              "3                             NaT  \n",
              "4                             NaT  \n",
              "...                           ...  \n",
              "4267                   2020-12-14  \n",
              "4268                          NaT  \n",
              "4269                          NaT  \n",
              "4270                          NaT  \n",
              "4271                          NaT  \n",
              "\n",
              "[4272 rows x 6 columns]"
            ],
            "text/html": [
              "\n",
              "  <div id=\"df-18a24c16-3f2e-4346-aa4f-18d1af50da28\">\n",
              "    <div class=\"colab-df-container\">\n",
              "      <div>\n",
              "<style scoped>\n",
              "    .dataframe tbody tr th:only-of-type {\n",
              "        vertical-align: middle;\n",
              "    }\n",
              "\n",
              "    .dataframe tbody tr th {\n",
              "        vertical-align: top;\n",
              "    }\n",
              "\n",
              "    .dataframe thead th {\n",
              "        text-align: right;\n",
              "    }\n",
              "</style>\n",
              "<table border=\"1\" class=\"dataframe\">\n",
              "  <thead>\n",
              "    <tr style=\"text-align: right;\">\n",
              "      <th></th>\n",
              "      <th>tratamento</th>\n",
              "      <th>combinacao_dos_tratamentos_realizados_no_hospital</th>\n",
              "      <th>data_do_tratamento</th>\n",
              "      <th>data_do_diagnostico</th>\n",
              "      <th>data_cirurgia</th>\n",
              "      <th>data_de_inicio_quimioterapia</th>\n",
              "    </tr>\n",
              "  </thead>\n",
              "  <tbody>\n",
              "    <tr>\n",
              "      <th>0</th>\n",
              "      <td>NaN</td>\n",
              "      <td>Cirurgia + Radio + Quimio + Hormonio</td>\n",
              "      <td>2008-08-15</td>\n",
              "      <td>2008-03-23</td>\n",
              "      <td>NaT</td>\n",
              "      <td>NaT</td>\n",
              "    </tr>\n",
              "    <tr>\n",
              "      <th>1</th>\n",
              "      <td>Terapia Adjuvante</td>\n",
              "      <td>Cirurgia + Quimioterapia</td>\n",
              "      <td>2008-05-29</td>\n",
              "      <td>2007-11-11</td>\n",
              "      <td>2009-09-04</td>\n",
              "      <td>2014-08-24</td>\n",
              "    </tr>\n",
              "    <tr>\n",
              "      <th>2</th>\n",
              "      <td>Outras combinações</td>\n",
              "      <td>Outras combinações</td>\n",
              "      <td>2008-04-07</td>\n",
              "      <td>2007-12-18</td>\n",
              "      <td>NaT</td>\n",
              "      <td>NaT</td>\n",
              "    </tr>\n",
              "    <tr>\n",
              "      <th>3</th>\n",
              "      <td>Outras combinações</td>\n",
              "      <td>Outras combinações</td>\n",
              "      <td>2008-09-29</td>\n",
              "      <td>2008-02-06</td>\n",
              "      <td>2011-07-05</td>\n",
              "      <td>NaT</td>\n",
              "    </tr>\n",
              "    <tr>\n",
              "      <th>4</th>\n",
              "      <td>NaN</td>\n",
              "      <td>Cirurgia + Radio + Quimio</td>\n",
              "      <td>2008-09-16</td>\n",
              "      <td>2008-05-21</td>\n",
              "      <td>NaT</td>\n",
              "      <td>NaT</td>\n",
              "    </tr>\n",
              "    <tr>\n",
              "      <th>...</th>\n",
              "      <td>...</td>\n",
              "      <td>...</td>\n",
              "      <td>...</td>\n",
              "      <td>...</td>\n",
              "      <td>...</td>\n",
              "      <td>...</td>\n",
              "    </tr>\n",
              "    <tr>\n",
              "      <th>4267</th>\n",
              "      <td>Terapia Neoadjuvante</td>\n",
              "      <td>Outras combinações</td>\n",
              "      <td>2020-12-14</td>\n",
              "      <td>2020-10-10</td>\n",
              "      <td>2021-07-04</td>\n",
              "      <td>2020-12-14</td>\n",
              "    </tr>\n",
              "    <tr>\n",
              "      <th>4268</th>\n",
              "      <td>Quimioterapia</td>\n",
              "      <td>Quimioterapia</td>\n",
              "      <td>2021-01-12</td>\n",
              "      <td>2020-09-05</td>\n",
              "      <td>NaT</td>\n",
              "      <td>NaT</td>\n",
              "    </tr>\n",
              "    <tr>\n",
              "      <th>4269</th>\n",
              "      <td>Terapia Adjuvante</td>\n",
              "      <td>Cirurgia + Radioterapia</td>\n",
              "      <td>2020-12-23</td>\n",
              "      <td>2019-12-23</td>\n",
              "      <td>2020-12-23</td>\n",
              "      <td>NaT</td>\n",
              "    </tr>\n",
              "    <tr>\n",
              "      <th>4270</th>\n",
              "      <td>NaN</td>\n",
              "      <td>Cirurgia + Radio + Quimio</td>\n",
              "      <td>2021-03-27</td>\n",
              "      <td>2020-11-07</td>\n",
              "      <td>NaT</td>\n",
              "      <td>NaT</td>\n",
              "    </tr>\n",
              "    <tr>\n",
              "      <th>4271</th>\n",
              "      <td>Outras combinações</td>\n",
              "      <td>Outras combinações</td>\n",
              "      <td>2021-01-12</td>\n",
              "      <td>2020-03-14</td>\n",
              "      <td>NaT</td>\n",
              "      <td>NaT</td>\n",
              "    </tr>\n",
              "  </tbody>\n",
              "</table>\n",
              "<p>4272 rows × 6 columns</p>\n",
              "</div>\n",
              "      <button class=\"colab-df-convert\" onclick=\"convertToInteractive('df-18a24c16-3f2e-4346-aa4f-18d1af50da28')\"\n",
              "              title=\"Convert this dataframe to an interactive table.\"\n",
              "              style=\"display:none;\">\n",
              "        \n",
              "  <svg xmlns=\"http://www.w3.org/2000/svg\" height=\"24px\"viewBox=\"0 0 24 24\"\n",
              "       width=\"24px\">\n",
              "    <path d=\"M0 0h24v24H0V0z\" fill=\"none\"/>\n",
              "    <path d=\"M18.56 5.44l.94 2.06.94-2.06 2.06-.94-2.06-.94-.94-2.06-.94 2.06-2.06.94zm-11 1L8.5 8.5l.94-2.06 2.06-.94-2.06-.94L8.5 2.5l-.94 2.06-2.06.94zm10 10l.94 2.06.94-2.06 2.06-.94-2.06-.94-.94-2.06-.94 2.06-2.06.94z\"/><path d=\"M17.41 7.96l-1.37-1.37c-.4-.4-.92-.59-1.43-.59-.52 0-1.04.2-1.43.59L10.3 9.45l-7.72 7.72c-.78.78-.78 2.05 0 2.83L4 21.41c.39.39.9.59 1.41.59.51 0 1.02-.2 1.41-.59l7.78-7.78 2.81-2.81c.8-.78.8-2.07 0-2.86zM5.41 20L4 18.59l7.72-7.72 1.47 1.35L5.41 20z\"/>\n",
              "  </svg>\n",
              "      </button>\n",
              "      \n",
              "  <style>\n",
              "    .colab-df-container {\n",
              "      display:flex;\n",
              "      flex-wrap:wrap;\n",
              "      gap: 12px;\n",
              "    }\n",
              "\n",
              "    .colab-df-convert {\n",
              "      background-color: #E8F0FE;\n",
              "      border: none;\n",
              "      border-radius: 50%;\n",
              "      cursor: pointer;\n",
              "      display: none;\n",
              "      fill: #1967D2;\n",
              "      height: 32px;\n",
              "      padding: 0 0 0 0;\n",
              "      width: 32px;\n",
              "    }\n",
              "\n",
              "    .colab-df-convert:hover {\n",
              "      background-color: #E2EBFA;\n",
              "      box-shadow: 0px 1px 2px rgba(60, 64, 67, 0.3), 0px 1px 3px 1px rgba(60, 64, 67, 0.15);\n",
              "      fill: #174EA6;\n",
              "    }\n",
              "\n",
              "    [theme=dark] .colab-df-convert {\n",
              "      background-color: #3B4455;\n",
              "      fill: #D2E3FC;\n",
              "    }\n",
              "\n",
              "    [theme=dark] .colab-df-convert:hover {\n",
              "      background-color: #434B5C;\n",
              "      box-shadow: 0px 1px 3px 1px rgba(0, 0, 0, 0.15);\n",
              "      filter: drop-shadow(0px 1px 2px rgba(0, 0, 0, 0.3));\n",
              "      fill: #FFFFFF;\n",
              "    }\n",
              "  </style>\n",
              "\n",
              "      <script>\n",
              "        const buttonEl =\n",
              "          document.querySelector('#df-18a24c16-3f2e-4346-aa4f-18d1af50da28 button.colab-df-convert');\n",
              "        buttonEl.style.display =\n",
              "          google.colab.kernel.accessAllowed ? 'block' : 'none';\n",
              "\n",
              "        async function convertToInteractive(key) {\n",
              "          const element = document.querySelector('#df-18a24c16-3f2e-4346-aa4f-18d1af50da28');\n",
              "          const dataTable =\n",
              "            await google.colab.kernel.invokeFunction('convertToInteractive',\n",
              "                                                     [key], {});\n",
              "          if (!dataTable) return;\n",
              "\n",
              "          const docLinkHtml = 'Like what you see? Visit the ' +\n",
              "            '<a target=\"_blank\" href=https://colab.research.google.com/notebooks/data_table.ipynb>data table notebook</a>'\n",
              "            + ' to learn more about interactive tables.';\n",
              "          element.innerHTML = '';\n",
              "          dataTable['output_type'] = 'display_data';\n",
              "          await google.colab.output.renderOutput(dataTable, element);\n",
              "          const docLink = document.createElement('div');\n",
              "          docLink.innerHTML = docLinkHtml;\n",
              "          element.appendChild(docLink);\n",
              "        }\n",
              "      </script>\n",
              "    </div>\n",
              "  </div>\n",
              "  "
            ]
          },
          "metadata": {},
          "execution_count": 133
        }
      ],
      "source": [
        " a = merge_colunas.loc[merge_colunas['combinacao_dos_tratamentos_realizados_no_hospital'] == 'Cirurgia + Quimioterapia']\n",
        "merge_colunas[['tratamento', 'combinacao_dos_tratamentos_realizados_no_hospital', 'data_do_tratamento','data_do_diagnostico', 'data_cirurgia','data_de_inicio_quimioterapia']]"
      ]
    },
    {
      "cell_type": "code",
      "source": [
        "o = dfd.loc[dfd['tratamento'] == 'Terapia Adjuvante']\n",
        "o"
      ],
      "metadata": {
        "id": "8SgnQcy-nv6E",
        "colab": {
          "base_uri": "https://localhost:8080/",
          "height": 730
        },
        "outputId": "d8f579c5-ca3b-4544-ad72-74bad38c433f"
      },
      "execution_count": null,
      "outputs": [
        {
          "output_type": "execute_result",
          "data": {
            "text/plain": [
              "      record_id                 escolaridade  idade_primeiro_diagnostico  \\\n",
              "1           710                 ENSINO MÉDIO                        58.0   \n",
              "5          1705  ENS. FUNDAMENTAL INCOMPLETO                        43.0   \n",
              "15         2157    ENS. FUNDAMENTAL COMPLETO                        51.0   \n",
              "27         3184                     SUPERIOR                        49.0   \n",
              "28         3357    ENS. FUNDAMENTAL COMPLETO                        48.0   \n",
              "...         ...                          ...                         ...   \n",
              "4255      82070                     IGNORADA                        50.0   \n",
              "4259      82090                     IGNORADA                        50.0   \n",
              "4265      82118                     IGNORADA                        50.0   \n",
              "4266      82122                     IGNORADA                        50.0   \n",
              "4269      82131                 ENSINO MÉDIO                        59.0   \n",
              "\n",
              "          sexo                raca data_da_ultima_informacao  \\\n",
              "1     Feminino               Pardo                2016-11-17   \n",
              "5     Feminino               Negro                2013-06-11   \n",
              "15    Feminino               Negro                2009-04-10   \n",
              "27    Feminino              Branco                2017-09-11   \n",
              "28    Feminino              Branco                2012-02-20   \n",
              "...        ...                 ...                       ...   \n",
              "4255  Feminino              Branco                2021-07-02   \n",
              "4259  Feminino  Tamoxifeno isolado                2021-10-13   \n",
              "4265  Feminino              Branco                2021-03-24   \n",
              "4266  Feminino  Tamoxifeno isolado                2022-02-15   \n",
              "4269  Feminino              Branco                2022-06-10   \n",
              "\n",
              "     ultima_informacao  \\\n",
              "1            Vivo, SOE   \n",
              "5     Obito por câncer   \n",
              "15           Vivo, SOE   \n",
              "27           Vivo, SOE   \n",
              "28           Vivo, SOE   \n",
              "...                ...   \n",
              "4255         Vivo, SOE   \n",
              "4259         Vivo, SOE   \n",
              "4265         Vivo, SOE   \n",
              "4266         Vivo, SOE   \n",
              "4269  Obito por câncer   \n",
              "\n",
              "      tempo_seguimento_em_dias_desde_o_ultimo_tumor_no_caso_tumores_multiplos_dt_pci  \\\n",
              "1                                                3294.0                                \n",
              "5                                                2224.0                                \n",
              "15                                                385.0                                \n",
              "27                                               3582.0                                \n",
              "28                                               1428.0                                \n",
              "...                                                 ...                                \n",
              "4255                                              365.0                                \n",
              "4259                                              441.0                                \n",
              "4265                                              391.0                                \n",
              "4266                                              589.0                                \n",
              "4269                                              900.0                                \n",
              "\n",
              "         engravidou  quantas_vezes_ficou_gravida  ...  \\\n",
              "1     Não informado                          0.0  ...   \n",
              "5     Não informado                          0.0  ...   \n",
              "15    Não informado                          0.0  ...   \n",
              "27    Não informado                          0.0  ...   \n",
              "28    Não informado                          0.0  ...   \n",
              "...             ...                          ...  ...   \n",
              "4255            Sim                          1.0  ...   \n",
              "4259            Sim                          1.0  ...   \n",
              "4265            Sim                          1.0  ...   \n",
              "4266  Não informado                          0.0  ...   \n",
              "4269            Sim                          1.0  ...   \n",
              "\n",
              "      grau_parentesco_familiar_com_cancer_choice_segundo_avos_tios_netos  \\\n",
              "1                                             Unchecked                    \n",
              "5                                             Unchecked                    \n",
              "15                                            Unchecked                    \n",
              "27                                            Unchecked                    \n",
              "28                                            Unchecked                    \n",
              "...                                                 ...                    \n",
              "4255                                          Unchecked                    \n",
              "4259                                          Unchecked                    \n",
              "4265                                          Unchecked                    \n",
              "4266                                          Unchecked                    \n",
              "4269                                          Unchecked                    \n",
              "\n",
              "     grau_parentesco_familiar_com_cancer_choice_terceiro_bisavos_tio_avos_primos_sobrinhos  \\\n",
              "1                                             Unchecked                                      \n",
              "5                                             Unchecked                                      \n",
              "15                                            Unchecked                                      \n",
              "27                                            Unchecked                                      \n",
              "28                                            Unchecked                                      \n",
              "...                                                 ...                                      \n",
              "4255                                          Unchecked                                      \n",
              "4259                                          Unchecked                                      \n",
              "4265                                          Unchecked                                      \n",
              "4266                                          Unchecked                                      \n",
              "4269                                          Unchecked                                      \n",
              "\n",
              "             tratamento  hormonioterapia data_cirurgia  \\\n",
              "1     Terapia Adjuvante              NaN    2009-09-04   \n",
              "5     Terapia Adjuvante              NaN    2011-05-21   \n",
              "15    Terapia Adjuvante              NaN    2020-07-06   \n",
              "27    Terapia Adjuvante              NaN    2009-09-15   \n",
              "28    Terapia Adjuvante              NaN    2010-08-01   \n",
              "...                 ...              ...           ...   \n",
              "4255  Terapia Adjuvante              NaN    2020-11-21   \n",
              "4259  Terapia Adjuvante              NaN    2020-11-12   \n",
              "4265  Terapia Adjuvante              NaN    2020-05-26   \n",
              "4266  Terapia Adjuvante        Adjuvante           NaT   \n",
              "4269  Terapia Adjuvante              NaN    2020-12-23   \n",
              "\n",
              "     tipo_terapia_anti-her2_neoadjuvante radioterapia  \\\n",
              "1                           não realizou          NaN   \n",
              "5                           não realizou          Sim   \n",
              "15                          Trastuzumabe          NaN   \n",
              "27                          não realizou          NaN   \n",
              "28                          Trastuzumabe          Sim   \n",
              "...                                  ...          ...   \n",
              "4255                        não realizou          Sim   \n",
              "4259                        Trastuzumabe          Sim   \n",
              "4265                        Trastuzumabe          NaN   \n",
              "4266                        não realizou          Sim   \n",
              "4269                        Trastuzumabe          Sim   \n",
              "\n",
              "      data_de_inicio_quimioterapia        esquema_hormonioterapia  \\\n",
              "1                       2014-08-24                            NaN   \n",
              "5                       2011-09-08                            NaN   \n",
              "15                      2020-09-04                            NaN   \n",
              "27                             NaT                            NaN   \n",
              "28                      2012-01-29                            NaN   \n",
              "...                            ...                            ...   \n",
              "4255                    2020-12-16                            NaN   \n",
              "4259                    2021-01-01                            NaN   \n",
              "4265                    2020-09-30                            NaN   \n",
              "4266                    2020-12-03  Inibidor de aromatase isolado   \n",
              "4269                           NaT                            NaN   \n",
              "\n",
              "     data_inicio_radioterapia  \n",
              "1                         NaT  \n",
              "5                  2011-11-23  \n",
              "15                        NaT  \n",
              "27                        NaT  \n",
              "28                 2011-07-27  \n",
              "...                       ...  \n",
              "4255               2021-03-31  \n",
              "4259               2021-05-05  \n",
              "4265                      NaT  \n",
              "4266               2021-07-01  \n",
              "4269               2021-04-10  \n",
              "\n",
              "[1861 rows x 35 columns]"
            ],
            "text/html": [
              "\n",
              "  <div id=\"df-0368f36f-b946-476a-9e4d-b9fb548ab94e\">\n",
              "    <div class=\"colab-df-container\">\n",
              "      <div>\n",
              "<style scoped>\n",
              "    .dataframe tbody tr th:only-of-type {\n",
              "        vertical-align: middle;\n",
              "    }\n",
              "\n",
              "    .dataframe tbody tr th {\n",
              "        vertical-align: top;\n",
              "    }\n",
              "\n",
              "    .dataframe thead th {\n",
              "        text-align: right;\n",
              "    }\n",
              "</style>\n",
              "<table border=\"1\" class=\"dataframe\">\n",
              "  <thead>\n",
              "    <tr style=\"text-align: right;\">\n",
              "      <th></th>\n",
              "      <th>record_id</th>\n",
              "      <th>escolaridade</th>\n",
              "      <th>idade_primeiro_diagnostico</th>\n",
              "      <th>sexo</th>\n",
              "      <th>raca</th>\n",
              "      <th>data_da_ultima_informacao</th>\n",
              "      <th>ultima_informacao</th>\n",
              "      <th>tempo_seguimento_em_dias_desde_o_ultimo_tumor_no_caso_tumores_multiplos_dt_pci</th>\n",
              "      <th>engravidou</th>\n",
              "      <th>quantas_vezes_ficou_gravida</th>\n",
              "      <th>...</th>\n",
              "      <th>grau_parentesco_familiar_com_cancer_choice_segundo_avos_tios_netos</th>\n",
              "      <th>grau_parentesco_familiar_com_cancer_choice_terceiro_bisavos_tio_avos_primos_sobrinhos</th>\n",
              "      <th>tratamento</th>\n",
              "      <th>hormonioterapia</th>\n",
              "      <th>data_cirurgia</th>\n",
              "      <th>tipo_terapia_anti-her2_neoadjuvante</th>\n",
              "      <th>radioterapia</th>\n",
              "      <th>data_de_inicio_quimioterapia</th>\n",
              "      <th>esquema_hormonioterapia</th>\n",
              "      <th>data_inicio_radioterapia</th>\n",
              "    </tr>\n",
              "  </thead>\n",
              "  <tbody>\n",
              "    <tr>\n",
              "      <th>1</th>\n",
              "      <td>710</td>\n",
              "      <td>ENSINO MÉDIO</td>\n",
              "      <td>58.0</td>\n",
              "      <td>Feminino</td>\n",
              "      <td>Pardo</td>\n",
              "      <td>2016-11-17</td>\n",
              "      <td>Vivo, SOE</td>\n",
              "      <td>3294.0</td>\n",
              "      <td>Não informado</td>\n",
              "      <td>0.0</td>\n",
              "      <td>...</td>\n",
              "      <td>Unchecked</td>\n",
              "      <td>Unchecked</td>\n",
              "      <td>Terapia Adjuvante</td>\n",
              "      <td>NaN</td>\n",
              "      <td>2009-09-04</td>\n",
              "      <td>não realizou</td>\n",
              "      <td>NaN</td>\n",
              "      <td>2014-08-24</td>\n",
              "      <td>NaN</td>\n",
              "      <td>NaT</td>\n",
              "    </tr>\n",
              "    <tr>\n",
              "      <th>5</th>\n",
              "      <td>1705</td>\n",
              "      <td>ENS. FUNDAMENTAL INCOMPLETO</td>\n",
              "      <td>43.0</td>\n",
              "      <td>Feminino</td>\n",
              "      <td>Negro</td>\n",
              "      <td>2013-06-11</td>\n",
              "      <td>Obito por câncer</td>\n",
              "      <td>2224.0</td>\n",
              "      <td>Não informado</td>\n",
              "      <td>0.0</td>\n",
              "      <td>...</td>\n",
              "      <td>Unchecked</td>\n",
              "      <td>Unchecked</td>\n",
              "      <td>Terapia Adjuvante</td>\n",
              "      <td>NaN</td>\n",
              "      <td>2011-05-21</td>\n",
              "      <td>não realizou</td>\n",
              "      <td>Sim</td>\n",
              "      <td>2011-09-08</td>\n",
              "      <td>NaN</td>\n",
              "      <td>2011-11-23</td>\n",
              "    </tr>\n",
              "    <tr>\n",
              "      <th>15</th>\n",
              "      <td>2157</td>\n",
              "      <td>ENS. FUNDAMENTAL COMPLETO</td>\n",
              "      <td>51.0</td>\n",
              "      <td>Feminino</td>\n",
              "      <td>Negro</td>\n",
              "      <td>2009-04-10</td>\n",
              "      <td>Vivo, SOE</td>\n",
              "      <td>385.0</td>\n",
              "      <td>Não informado</td>\n",
              "      <td>0.0</td>\n",
              "      <td>...</td>\n",
              "      <td>Unchecked</td>\n",
              "      <td>Unchecked</td>\n",
              "      <td>Terapia Adjuvante</td>\n",
              "      <td>NaN</td>\n",
              "      <td>2020-07-06</td>\n",
              "      <td>Trastuzumabe</td>\n",
              "      <td>NaN</td>\n",
              "      <td>2020-09-04</td>\n",
              "      <td>NaN</td>\n",
              "      <td>NaT</td>\n",
              "    </tr>\n",
              "    <tr>\n",
              "      <th>27</th>\n",
              "      <td>3184</td>\n",
              "      <td>SUPERIOR</td>\n",
              "      <td>49.0</td>\n",
              "      <td>Feminino</td>\n",
              "      <td>Branco</td>\n",
              "      <td>2017-09-11</td>\n",
              "      <td>Vivo, SOE</td>\n",
              "      <td>3582.0</td>\n",
              "      <td>Não informado</td>\n",
              "      <td>0.0</td>\n",
              "      <td>...</td>\n",
              "      <td>Unchecked</td>\n",
              "      <td>Unchecked</td>\n",
              "      <td>Terapia Adjuvante</td>\n",
              "      <td>NaN</td>\n",
              "      <td>2009-09-15</td>\n",
              "      <td>não realizou</td>\n",
              "      <td>NaN</td>\n",
              "      <td>NaT</td>\n",
              "      <td>NaN</td>\n",
              "      <td>NaT</td>\n",
              "    </tr>\n",
              "    <tr>\n",
              "      <th>28</th>\n",
              "      <td>3357</td>\n",
              "      <td>ENS. FUNDAMENTAL COMPLETO</td>\n",
              "      <td>48.0</td>\n",
              "      <td>Feminino</td>\n",
              "      <td>Branco</td>\n",
              "      <td>2012-02-20</td>\n",
              "      <td>Vivo, SOE</td>\n",
              "      <td>1428.0</td>\n",
              "      <td>Não informado</td>\n",
              "      <td>0.0</td>\n",
              "      <td>...</td>\n",
              "      <td>Unchecked</td>\n",
              "      <td>Unchecked</td>\n",
              "      <td>Terapia Adjuvante</td>\n",
              "      <td>NaN</td>\n",
              "      <td>2010-08-01</td>\n",
              "      <td>Trastuzumabe</td>\n",
              "      <td>Sim</td>\n",
              "      <td>2012-01-29</td>\n",
              "      <td>NaN</td>\n",
              "      <td>2011-07-27</td>\n",
              "    </tr>\n",
              "    <tr>\n",
              "      <th>...</th>\n",
              "      <td>...</td>\n",
              "      <td>...</td>\n",
              "      <td>...</td>\n",
              "      <td>...</td>\n",
              "      <td>...</td>\n",
              "      <td>...</td>\n",
              "      <td>...</td>\n",
              "      <td>...</td>\n",
              "      <td>...</td>\n",
              "      <td>...</td>\n",
              "      <td>...</td>\n",
              "      <td>...</td>\n",
              "      <td>...</td>\n",
              "      <td>...</td>\n",
              "      <td>...</td>\n",
              "      <td>...</td>\n",
              "      <td>...</td>\n",
              "      <td>...</td>\n",
              "      <td>...</td>\n",
              "      <td>...</td>\n",
              "      <td>...</td>\n",
              "    </tr>\n",
              "    <tr>\n",
              "      <th>4255</th>\n",
              "      <td>82070</td>\n",
              "      <td>IGNORADA</td>\n",
              "      <td>50.0</td>\n",
              "      <td>Feminino</td>\n",
              "      <td>Branco</td>\n",
              "      <td>2021-07-02</td>\n",
              "      <td>Vivo, SOE</td>\n",
              "      <td>365.0</td>\n",
              "      <td>Sim</td>\n",
              "      <td>1.0</td>\n",
              "      <td>...</td>\n",
              "      <td>Unchecked</td>\n",
              "      <td>Unchecked</td>\n",
              "      <td>Terapia Adjuvante</td>\n",
              "      <td>NaN</td>\n",
              "      <td>2020-11-21</td>\n",
              "      <td>não realizou</td>\n",
              "      <td>Sim</td>\n",
              "      <td>2020-12-16</td>\n",
              "      <td>NaN</td>\n",
              "      <td>2021-03-31</td>\n",
              "    </tr>\n",
              "    <tr>\n",
              "      <th>4259</th>\n",
              "      <td>82090</td>\n",
              "      <td>IGNORADA</td>\n",
              "      <td>50.0</td>\n",
              "      <td>Feminino</td>\n",
              "      <td>Tamoxifeno isolado</td>\n",
              "      <td>2021-10-13</td>\n",
              "      <td>Vivo, SOE</td>\n",
              "      <td>441.0</td>\n",
              "      <td>Sim</td>\n",
              "      <td>1.0</td>\n",
              "      <td>...</td>\n",
              "      <td>Unchecked</td>\n",
              "      <td>Unchecked</td>\n",
              "      <td>Terapia Adjuvante</td>\n",
              "      <td>NaN</td>\n",
              "      <td>2020-11-12</td>\n",
              "      <td>Trastuzumabe</td>\n",
              "      <td>Sim</td>\n",
              "      <td>2021-01-01</td>\n",
              "      <td>NaN</td>\n",
              "      <td>2021-05-05</td>\n",
              "    </tr>\n",
              "    <tr>\n",
              "      <th>4265</th>\n",
              "      <td>82118</td>\n",
              "      <td>IGNORADA</td>\n",
              "      <td>50.0</td>\n",
              "      <td>Feminino</td>\n",
              "      <td>Branco</td>\n",
              "      <td>2021-03-24</td>\n",
              "      <td>Vivo, SOE</td>\n",
              "      <td>391.0</td>\n",
              "      <td>Sim</td>\n",
              "      <td>1.0</td>\n",
              "      <td>...</td>\n",
              "      <td>Unchecked</td>\n",
              "      <td>Unchecked</td>\n",
              "      <td>Terapia Adjuvante</td>\n",
              "      <td>NaN</td>\n",
              "      <td>2020-05-26</td>\n",
              "      <td>Trastuzumabe</td>\n",
              "      <td>NaN</td>\n",
              "      <td>2020-09-30</td>\n",
              "      <td>NaN</td>\n",
              "      <td>NaT</td>\n",
              "    </tr>\n",
              "    <tr>\n",
              "      <th>4266</th>\n",
              "      <td>82122</td>\n",
              "      <td>IGNORADA</td>\n",
              "      <td>50.0</td>\n",
              "      <td>Feminino</td>\n",
              "      <td>Tamoxifeno isolado</td>\n",
              "      <td>2022-02-15</td>\n",
              "      <td>Vivo, SOE</td>\n",
              "      <td>589.0</td>\n",
              "      <td>Não informado</td>\n",
              "      <td>0.0</td>\n",
              "      <td>...</td>\n",
              "      <td>Unchecked</td>\n",
              "      <td>Unchecked</td>\n",
              "      <td>Terapia Adjuvante</td>\n",
              "      <td>Adjuvante</td>\n",
              "      <td>NaT</td>\n",
              "      <td>não realizou</td>\n",
              "      <td>Sim</td>\n",
              "      <td>2020-12-03</td>\n",
              "      <td>Inibidor de aromatase isolado</td>\n",
              "      <td>2021-07-01</td>\n",
              "    </tr>\n",
              "    <tr>\n",
              "      <th>4269</th>\n",
              "      <td>82131</td>\n",
              "      <td>ENSINO MÉDIO</td>\n",
              "      <td>59.0</td>\n",
              "      <td>Feminino</td>\n",
              "      <td>Branco</td>\n",
              "      <td>2022-06-10</td>\n",
              "      <td>Obito por câncer</td>\n",
              "      <td>900.0</td>\n",
              "      <td>Sim</td>\n",
              "      <td>1.0</td>\n",
              "      <td>...</td>\n",
              "      <td>Unchecked</td>\n",
              "      <td>Unchecked</td>\n",
              "      <td>Terapia Adjuvante</td>\n",
              "      <td>NaN</td>\n",
              "      <td>2020-12-23</td>\n",
              "      <td>Trastuzumabe</td>\n",
              "      <td>Sim</td>\n",
              "      <td>NaT</td>\n",
              "      <td>NaN</td>\n",
              "      <td>2021-04-10</td>\n",
              "    </tr>\n",
              "  </tbody>\n",
              "</table>\n",
              "<p>1861 rows × 35 columns</p>\n",
              "</div>\n",
              "      <button class=\"colab-df-convert\" onclick=\"convertToInteractive('df-0368f36f-b946-476a-9e4d-b9fb548ab94e')\"\n",
              "              title=\"Convert this dataframe to an interactive table.\"\n",
              "              style=\"display:none;\">\n",
              "        \n",
              "  <svg xmlns=\"http://www.w3.org/2000/svg\" height=\"24px\"viewBox=\"0 0 24 24\"\n",
              "       width=\"24px\">\n",
              "    <path d=\"M0 0h24v24H0V0z\" fill=\"none\"/>\n",
              "    <path d=\"M18.56 5.44l.94 2.06.94-2.06 2.06-.94-2.06-.94-.94-2.06-.94 2.06-2.06.94zm-11 1L8.5 8.5l.94-2.06 2.06-.94-2.06-.94L8.5 2.5l-.94 2.06-2.06.94zm10 10l.94 2.06.94-2.06 2.06-.94-2.06-.94-.94-2.06-.94 2.06-2.06.94z\"/><path d=\"M17.41 7.96l-1.37-1.37c-.4-.4-.92-.59-1.43-.59-.52 0-1.04.2-1.43.59L10.3 9.45l-7.72 7.72c-.78.78-.78 2.05 0 2.83L4 21.41c.39.39.9.59 1.41.59.51 0 1.02-.2 1.41-.59l7.78-7.78 2.81-2.81c.8-.78.8-2.07 0-2.86zM5.41 20L4 18.59l7.72-7.72 1.47 1.35L5.41 20z\"/>\n",
              "  </svg>\n",
              "      </button>\n",
              "      \n",
              "  <style>\n",
              "    .colab-df-container {\n",
              "      display:flex;\n",
              "      flex-wrap:wrap;\n",
              "      gap: 12px;\n",
              "    }\n",
              "\n",
              "    .colab-df-convert {\n",
              "      background-color: #E8F0FE;\n",
              "      border: none;\n",
              "      border-radius: 50%;\n",
              "      cursor: pointer;\n",
              "      display: none;\n",
              "      fill: #1967D2;\n",
              "      height: 32px;\n",
              "      padding: 0 0 0 0;\n",
              "      width: 32px;\n",
              "    }\n",
              "\n",
              "    .colab-df-convert:hover {\n",
              "      background-color: #E2EBFA;\n",
              "      box-shadow: 0px 1px 2px rgba(60, 64, 67, 0.3), 0px 1px 3px 1px rgba(60, 64, 67, 0.15);\n",
              "      fill: #174EA6;\n",
              "    }\n",
              "\n",
              "    [theme=dark] .colab-df-convert {\n",
              "      background-color: #3B4455;\n",
              "      fill: #D2E3FC;\n",
              "    }\n",
              "\n",
              "    [theme=dark] .colab-df-convert:hover {\n",
              "      background-color: #434B5C;\n",
              "      box-shadow: 0px 1px 3px 1px rgba(0, 0, 0, 0.15);\n",
              "      filter: drop-shadow(0px 1px 2px rgba(0, 0, 0, 0.3));\n",
              "      fill: #FFFFFF;\n",
              "    }\n",
              "  </style>\n",
              "\n",
              "      <script>\n",
              "        const buttonEl =\n",
              "          document.querySelector('#df-0368f36f-b946-476a-9e4d-b9fb548ab94e button.colab-df-convert');\n",
              "        buttonEl.style.display =\n",
              "          google.colab.kernel.accessAllowed ? 'block' : 'none';\n",
              "\n",
              "        async function convertToInteractive(key) {\n",
              "          const element = document.querySelector('#df-0368f36f-b946-476a-9e4d-b9fb548ab94e');\n",
              "          const dataTable =\n",
              "            await google.colab.kernel.invokeFunction('convertToInteractive',\n",
              "                                                     [key], {});\n",
              "          if (!dataTable) return;\n",
              "\n",
              "          const docLinkHtml = 'Like what you see? Visit the ' +\n",
              "            '<a target=\"_blank\" href=https://colab.research.google.com/notebooks/data_table.ipynb>data table notebook</a>'\n",
              "            + ' to learn more about interactive tables.';\n",
              "          element.innerHTML = '';\n",
              "          dataTable['output_type'] = 'display_data';\n",
              "          await google.colab.output.renderOutput(dataTable, element);\n",
              "          const docLink = document.createElement('div');\n",
              "          docLink.innerHTML = docLinkHtml;\n",
              "          element.appendChild(docLink);\n",
              "        }\n",
              "      </script>\n",
              "    </div>\n",
              "  </div>\n",
              "  "
            ]
          },
          "metadata": {},
          "execution_count": 134
        }
      ]
    },
    {
      "cell_type": "code",
      "source": [
        "adj = 'Terapia Adjuvante'\n",
        "Neo = 'Terapia Neoadjuvante'\n",
        "dfd = dfd.loc[(dfd['tratamento']== 'Terapia Adjuvante') | (dfd['tratamento'] == 'Terapia Neoadjuvante')]\n",
        "dfd['tratamento'].value_counts()"
      ],
      "metadata": {
        "colab": {
          "base_uri": "https://localhost:8080/"
        },
        "id": "MwuOOt3zodqY",
        "outputId": "c5bc0617-81d8-4c1c-f0fb-e006dbef7a58"
      },
      "execution_count": null,
      "outputs": [
        {
          "output_type": "execute_result",
          "data": {
            "text/plain": [
              "Terapia Adjuvante       1861\n",
              "Terapia Neoadjuvante    1366\n",
              "Name: tratamento, dtype: int64"
            ]
          },
          "metadata": {},
          "execution_count": 135
        }
      ]
    },
    {
      "cell_type": "markdown",
      "metadata": {
        "id": "njN8mtU0VOHE"
      },
      "source": [
        "#### 2.4.5.2 Tratando os missings da coluna \"radioterapia\":"
      ]
    },
    {
      "cell_type": "code",
      "execution_count": null,
      "metadata": {
        "id": "06WvvSl6VRr_",
        "colab": {
          "base_uri": "https://localhost:8080/"
        },
        "outputId": "82c82480-5f6a-4d48-a095-f08e63354122"
      },
      "outputs": [
        {
          "output_type": "stream",
          "name": "stderr",
          "text": [
            "<ipython-input-136-867898d6f5d8>:15: SettingWithCopyWarning: \n",
            "A value is trying to be set on a copy of a slice from a DataFrame.\n",
            "Try using .loc[row_indexer,col_indexer] = value instead\n",
            "\n",
            "See the caveats in the documentation: https://pandas.pydata.org/pandas-docs/stable/user_guide/indexing.html#returning-a-view-versus-a-copy\n",
            "  dfd['radioterapia'] = merge_colunas['radioterapia']\n"
          ]
        }
      ],
      "source": [
        "merge_colunas['radioterapia'] = np.where((merge_colunas['radioterapia'].isnull()) & (merge_colunas['combinacao_dos_tratamentos_realizados_no_hospital'] == 'Cirurgia + Radio + Quimio'), 'Sim' , merge_colunas['radioterapia'])\n",
        "merge_colunas['radioterapia'] = np.where((merge_colunas['radioterapia'].isnull()) & (merge_colunas['combinacao_dos_tratamentos_realizados_no_hospital'] == 'Cirurgia + Radio + Quimio + Hormonio'), 'Sim' , merge_colunas['radioterapia'])\n",
        "merge_colunas['radioterapia'] = np.where((merge_colunas['radioterapia'].isnull()) & (merge_colunas['combinacao_dos_tratamentos_realizados_no_hospital'] == 'Cirurgia + Radioterapia'), 'Sim' , merge_colunas['radioterapia'])\n",
        "merge_colunas['radioterapia'] = np.where((merge_colunas['radioterapia'].isnull()) & (merge_colunas['combinacao_dos_tratamentos_realizados_no_hospital'] == 'Radioterapia + Quimioterapia'), 'Sim' , merge_colunas['radioterapia'])\n",
        "merge_colunas['radioterapia'] = np.where((merge_colunas['radioterapia'].isnull()) & (merge_colunas['combinacao_dos_tratamentos_realizados_no_hospital'] == 'Radioterapia'), 'Sim' , merge_colunas['radioterapia'])\n",
        "merge_colunas['radioterapia'] = np.where((merge_colunas['radioterapia'] == 'Não') & (merge_colunas['combinacao_dos_tratamentos_realizados_no_hospital'] == 'Radioterapia'), 'Sim' , merge_colunas['radioterapia'])\n",
        "merge_colunas['radioterapia'] = np.where((merge_colunas['radioterapia'] == 'Não') & (merge_colunas['combinacao_dos_tratamentos_realizados_no_hospital'] == 'Cirurgia + Radio + Quimio + Hormonio'), 'Sim' , merge_colunas['radioterapia'])\n",
        "merge_colunas['radioterapia'] = np.where((merge_colunas['radioterapia'].isnull()) & (merge_colunas['combinacao_dos_tratamentos_realizados_no_hospital'] == 'Cirurgia + Quimioterapia'), 'Não' , merge_colunas['radioterapia'])\n",
        "merge_colunas['radioterapia'] = np.where((merge_colunas['radioterapia'].isnull()) & (merge_colunas['combinacao_dos_tratamentos_realizados_no_hospital'] == 'Quimioterapia'), 'Não' , merge_colunas['radioterapia'])\n",
        "merge_colunas['radioterapia'] = np.where((merge_colunas['radioterapia'].isnull()) & (merge_colunas['combinacao_dos_tratamentos_realizados_no_hospital'] == 'Nenhum tratamento'), 'Não' , merge_colunas['radioterapia'])\n",
        "merge_colunas['radioterapia'] = np.where((merge_colunas['radioterapia'].isnull()) & (merge_colunas['combinacao_dos_tratamentos_realizados_no_hospital'] == 'Cirurgia'), 'Não' , merge_colunas['radioterapia'])\n",
        "merge_colunas['radioterapia'] = np.where((merge_colunas['radioterapia'].isnull()) & (merge_colunas['combinacao_dos_tratamentos_realizados_no_hospital'] == 'Outras combinações'), 'Não' , merge_colunas['radioterapia'])\n",
        "\n",
        "# Agora faremos a coluna radioterapia da tabela dfd receber a coluna radioterapia da tabela merge_colunas, que ja está tratada\n",
        "dfd['radioterapia'] = merge_colunas['radioterapia']"
      ]
    },
    {
      "cell_type": "markdown",
      "metadata": {
        "id": "kRbG8F1FVVd9"
      },
      "source": [
        "#### 2.4.5.3 Tratando os missings da coluna \"data_cirurgia\":"
      ]
    },
    {
      "cell_type": "code",
      "execution_count": null,
      "metadata": {
        "id": "w0PZq7epVbqY",
        "colab": {
          "base_uri": "https://localhost:8080/"
        },
        "outputId": "e78b691f-8c56-450d-c028-e3b979829c14"
      },
      "outputs": [
        {
          "output_type": "stream",
          "name": "stderr",
          "text": [
            "<ipython-input-137-a66aeb5eb754>:2: SettingWithCopyWarning: \n",
            "A value is trying to be set on a copy of a slice from a DataFrame.\n",
            "Try using .loc[row_indexer,col_indexer] = value instead\n",
            "\n",
            "See the caveats in the documentation: https://pandas.pydata.org/pandas-docs/stable/user_guide/indexing.html#returning-a-view-versus-a-copy\n",
            "  dfd['data_cirurgia'] = merge_colunas['data_cirurgia']\n",
            "<ipython-input-137-a66aeb5eb754>:3: SettingWithCopyWarning: \n",
            "A value is trying to be set on a copy of a slice from a DataFrame.\n",
            "Try using .loc[row_indexer,col_indexer] = value instead\n",
            "\n",
            "See the caveats in the documentation: https://pandas.pydata.org/pandas-docs/stable/user_guide/indexing.html#returning-a-view-versus-a-copy\n",
            "  dfd['data_cirurgia'] = dfd['data_cirurgia'].fillna(\"Não informado\")\n"
          ]
        }
      ],
      "source": [
        "merge_colunas['data_cirurgia'] = np.where((merge_colunas['data_cirurgia'].isnull()) & (merge_colunas['combinacao_dos_tratamentos_realizados_no_hospital'] == 'Cirurgia'), merge_colunas['data_do_tratamento'] , merge_colunas['data_cirurgia'])\n",
        "dfd['data_cirurgia'] = merge_colunas['data_cirurgia']\n",
        "dfd['data_cirurgia'] = dfd['data_cirurgia'].fillna(\"Não informado\")\n",
        "#usar tambem radio+quimio+cirurgia e a coluna tratamento de dfd"
      ]
    },
    {
      "cell_type": "markdown",
      "metadata": {
        "id": "vrh7xbbQVehY"
      },
      "source": [
        "#### 2.4.5.4 Tratando os missings da coluna \"data_inicio_radioterapia\":"
      ]
    },
    {
      "cell_type": "code",
      "execution_count": null,
      "metadata": {
        "id": "mQ_R-CikVoPp",
        "colab": {
          "base_uri": "https://localhost:8080/"
        },
        "outputId": "3451ab42-1807-49cd-96fe-c09481caa5ee"
      },
      "outputs": [
        {
          "output_type": "stream",
          "name": "stderr",
          "text": [
            "<ipython-input-138-6c09865d4fb7>:2: SettingWithCopyWarning: \n",
            "A value is trying to be set on a copy of a slice from a DataFrame.\n",
            "Try using .loc[row_indexer,col_indexer] = value instead\n",
            "\n",
            "See the caveats in the documentation: https://pandas.pydata.org/pandas-docs/stable/user_guide/indexing.html#returning-a-view-versus-a-copy\n",
            "  dfd['data_inicio_radioterapia'] = merge_colunas['data_inicio_radioterapia']\n",
            "<ipython-input-138-6c09865d4fb7>:3: SettingWithCopyWarning: \n",
            "A value is trying to be set on a copy of a slice from a DataFrame.\n",
            "Try using .loc[row_indexer,col_indexer] = value instead\n",
            "\n",
            "See the caveats in the documentation: https://pandas.pydata.org/pandas-docs/stable/user_guide/indexing.html#returning-a-view-versus-a-copy\n",
            "  dfd['data_inicio_radioterapia'] = dfd['data_inicio_radioterapia'].fillna(\"Não informado\")\n"
          ]
        }
      ],
      "source": [
        "merge_colunas['data_inicio_radioterapia'] = np.where((merge_colunas['data_inicio_radioterapia'].isnull()) & (merge_colunas['combinacao_dos_tratamentos_realizados_no_hospital'] == 'Radioterapia'), merge_colunas['data_do_tratamento'] , merge_colunas['data_inicio_radioterapia'])\n",
        "dfd['data_inicio_radioterapia'] = merge_colunas['data_inicio_radioterapia']\n",
        "dfd['data_inicio_radioterapia'] = dfd['data_inicio_radioterapia'].fillna(\"Não informado\")"
      ]
    },
    {
      "cell_type": "markdown",
      "metadata": {
        "id": "kO_hNeWBVqY_"
      },
      "source": [
        "#### 2.4.5.5 Tratando os missings da coluna \"data_de_inicio_quimioterapia\":"
      ]
    },
    {
      "cell_type": "code",
      "execution_count": null,
      "metadata": {
        "id": "CljLbAYVVuXg",
        "colab": {
          "base_uri": "https://localhost:8080/"
        },
        "outputId": "409b9d52-fa66-4a41-f3ab-be0843e81223"
      },
      "outputs": [
        {
          "output_type": "stream",
          "name": "stderr",
          "text": [
            "<ipython-input-139-9b2c26428ad4>:2: SettingWithCopyWarning: \n",
            "A value is trying to be set on a copy of a slice from a DataFrame.\n",
            "Try using .loc[row_indexer,col_indexer] = value instead\n",
            "\n",
            "See the caveats in the documentation: https://pandas.pydata.org/pandas-docs/stable/user_guide/indexing.html#returning-a-view-versus-a-copy\n",
            "  dfd['data_de_inicio_quimioterapia'] = merge_colunas['data_de_inicio_quimioterapia'] #com isso resgatamos cerca de 130 linhas\n",
            "<ipython-input-139-9b2c26428ad4>:3: SettingWithCopyWarning: \n",
            "A value is trying to be set on a copy of a slice from a DataFrame.\n",
            "Try using .loc[row_indexer,col_indexer] = value instead\n",
            "\n",
            "See the caveats in the documentation: https://pandas.pydata.org/pandas-docs/stable/user_guide/indexing.html#returning-a-view-versus-a-copy\n",
            "  dfd['data_de_inicio_quimioterapia'] = dfd['data_de_inicio_quimioterapia'].fillna(\"Não informado\")\n"
          ]
        }
      ],
      "source": [
        "merge_colunas['data_de_inicio_quimioterapia'] = np.where((merge_colunas['data_de_inicio_quimioterapia'].isnull()) & (merge_colunas['combinacao_dos_tratamentos_realizados_no_hospital'] == 'Quimioterapia'), merge_colunas['data_do_tratamento'] , merge_colunas['data_de_inicio_quimioterapia'])\n",
        "dfd['data_de_inicio_quimioterapia'] = merge_colunas['data_de_inicio_quimioterapia'] #com isso resgatamos cerca de 130 linhas\n",
        "dfd['data_de_inicio_quimioterapia'] = dfd['data_de_inicio_quimioterapia'].fillna(\"Não informado\")"
      ]
    },
    {
      "cell_type": "markdown",
      "metadata": {
        "id": "iyzbTkHaVx_Q"
      },
      "source": [
        "#### 2.4.5.6 Tratando os missings da coluna \"esquema_hormonioterapia\":"
      ]
    },
    {
      "cell_type": "code",
      "execution_count": null,
      "metadata": {
        "colab": {
          "base_uri": "https://localhost:8080/"
        },
        "id": "U_VXw6XYV1wQ",
        "outputId": "12fd1c2f-16de-4da0-d089-a0377a1343cb"
      },
      "outputs": [
        {
          "output_type": "stream",
          "name": "stdout",
          "text": [
            "889\n"
          ]
        }
      ],
      "source": [
        "merge_colunas['esquema_hormonioterapia'] = np.where((merge_colunas['esquema_hormonioterapia'].isnull()) & (merge_colunas['combinacao_dos_tratamentos_realizados_no_hospital'] != 'Cirurgia + Radio + Quimio + Hormonio') & (merge_colunas['combinacao_dos_tratamentos_realizados_no_hospital'] != 'Outras combinações'), \"Não realizou\" , merge_colunas['esquema_hormonioterapia'])\n",
        "merge_colunas['esquema_hormonioterapia'] = np.where((merge_colunas['esquema_hormonioterapia'].isnull()) & (merge_colunas['combinacao_dos_tratamentos_realizados_no_hospital'] == 'Outras combinações'), \"Não informado\" , merge_colunas['esquema_hormonioterapia'])\n",
        "#aqui faremos um preenchimento com uma distribuição aleatória dos valores, pois a contagem dos dados para essa coluna está muito perto para cada um dos dados.\n",
        "#proporcoes = merge_colunas['esquema_hormonioterapia'].value_counts(normalize=True)\n",
        "#valores_aleatorios = np.random.choice(proporcoes.index, size=merge_colunas['esquema_hormonioterapia'].isnull().sum(), p=proporcoes.values)\n",
        "#dfd['esquema_hormonioterapia'] = merge_colunas['esquema_hormonioterapia']\n",
        "#dfd['esquema_hormonioterapia'] = dfd['esquema_hormonioterapia'].fillna(pd.Series(valores_aleatorios))\n",
        "\n",
        "\n",
        "\n",
        "proporcao = []\n",
        "for i in range(0, 342):\n",
        "  proporcao.append('Inibidor de aromatase isolado')\n",
        "for i in range(0, 273):\n",
        "  proporcao.append('Switch: tamoxifeno seguido de IA')\n",
        "for i in range(0, 274):\n",
        "  proporcao.append('Tamoxifeno isolado')\n",
        "\n",
        "import random\n",
        "\n",
        "random.shuffle(proporcao)\n",
        "\n",
        "print(len(merge_colunas.loc[merge_colunas['esquema_hormonioterapia'].isnull()]))\n",
        "\n",
        "def apply_proporcao(row):\n",
        "  row['esquema_hormonioterapia'] = proporcao[0]\n",
        "  proporcao.pop(0)\n",
        "  return row\n",
        "\n",
        "merge_colunas.loc[merge_colunas['esquema_hormonioterapia'].isnull()] = merge_colunas.loc[merge_colunas['esquema_hormonioterapia'].isnull()].apply(apply_proporcao, axis = 1)"
      ]
    },
    {
      "cell_type": "code",
      "execution_count": null,
      "metadata": {
        "id": "tl4famFHmpS-",
        "colab": {
          "base_uri": "https://localhost:8080/"
        },
        "outputId": "ee32893a-4e5c-4a30-bf29-fece5a1079ef"
      },
      "outputs": [
        {
          "output_type": "stream",
          "name": "stderr",
          "text": [
            "<ipython-input-141-9528df61b218>:1: SettingWithCopyWarning: \n",
            "A value is trying to be set on a copy of a slice from a DataFrame.\n",
            "Try using .loc[row_indexer,col_indexer] = value instead\n",
            "\n",
            "See the caveats in the documentation: https://pandas.pydata.org/pandas-docs/stable/user_guide/indexing.html#returning-a-view-versus-a-copy\n",
            "  dfd['esquema_hormonioterapia'] = merge_colunas['esquema_hormonioterapia']\n"
          ]
        }
      ],
      "source": [
        "dfd['esquema_hormonioterapia'] = merge_colunas['esquema_hormonioterapia']"
      ]
    },
    {
      "cell_type": "markdown",
      "metadata": {
        "id": "NRpJQgqQV5ZA"
      },
      "source": [
        "#### 2.4.5.7 Tratando os missings da coluna \"hormonioterapia\":"
      ]
    },
    {
      "cell_type": "code",
      "execution_count": null,
      "metadata": {
        "id": "5QBgt7iqV8G5",
        "colab": {
          "base_uri": "https://localhost:8080/"
        },
        "outputId": "669817f4-7fd4-4097-841c-adc23d5cb3ae"
      },
      "outputs": [
        {
          "output_type": "stream",
          "name": "stderr",
          "text": [
            "<ipython-input-142-60f99503c379>:5: SettingWithCopyWarning: \n",
            "A value is trying to be set on a copy of a slice from a DataFrame.\n",
            "Try using .loc[row_indexer,col_indexer] = value instead\n",
            "\n",
            "See the caveats in the documentation: https://pandas.pydata.org/pandas-docs/stable/user_guide/indexing.html#returning-a-view-versus-a-copy\n",
            "  dfd['hormonioterapia'] = merge_colunas['hormonioterapia']\n",
            "<ipython-input-142-60f99503c379>:6: SettingWithCopyWarning: \n",
            "A value is trying to be set on a copy of a slice from a DataFrame.\n",
            "Try using .loc[row_indexer,col_indexer] = value instead\n",
            "\n",
            "See the caveats in the documentation: https://pandas.pydata.org/pandas-docs/stable/user_guide/indexing.html#returning-a-view-versus-a-copy\n",
            "  dfd['hormonioterapia'] = dfd['hormonioterapia'].fillna('Não informado')\n"
          ]
        }
      ],
      "source": [
        "merge_colunas['hormonioterapia'] = np.where((merge_colunas['hormonioterapia'].isnull()) & (merge_colunas['combinacao_dos_tratamentos_realizados_no_hospital'] == 'Cirurgia + Radio + Quimio + Hormonio') & (merge_colunas['tratamento'] == 'Terapia Adjuvante') , 'Adjuvante' , merge_colunas['hormonioterapia'])\n",
        "merge_colunas['hormonioterapia'] = np.where((merge_colunas['hormonioterapia'].isnull()) & (merge_colunas['combinacao_dos_tratamentos_realizados_no_hospital'] == 'Cirurgia + Radio + Quimio + Hormonio') & (merge_colunas['tratamento'] == 'Terapia Neoadjuvante') , 'Neoadjuvante' , merge_colunas['hormonioterapia'])\n",
        "merge_colunas['hormonioterapia'] = np.where((merge_colunas['hormonioterapia'].isnull()) & (merge_colunas['combinacao_dos_tratamentos_realizados_no_hospital'] == 'Outras combinações'), \"Não informado\" , merge_colunas['hormonioterapia'])\n",
        "merge_colunas['hormonioterapia'] = np.where((merge_colunas['hormonioterapia'].isnull()) & (merge_colunas['combinacao_dos_tratamentos_realizados_no_hospital'] != 'Cirurgia + Radio + Quimio + Hormonio') & (merge_colunas['combinacao_dos_tratamentos_realizados_no_hospital'] != 'Outras combinações'), \"Não realizou\" , merge_colunas['hormonioterapia'])\n",
        "dfd['hormonioterapia'] = merge_colunas['hormonioterapia']\n",
        "dfd['hormonioterapia'] = dfd['hormonioterapia'].fillna('Não informado')\n"
      ]
    },
    {
      "cell_type": "markdown",
      "metadata": {
        "id": "_41-VA4uWj80"
      },
      "source": [
        "### 2.4.6 Tratamento de outliers da tabela dfd (dados demográficos):"
      ]
    },
    {
      "cell_type": "markdown",
      "metadata": {
        "id": "BN03IwzuW2Hh"
      },
      "source": [
        "* Identificação de outliers para as colunas numéricas:"
      ]
    },
    {
      "cell_type": "code",
      "execution_count": null,
      "metadata": {
        "colab": {
          "base_uri": "https://localhost:8080/"
        },
        "id": "2tZzYljPWvPK",
        "outputId": "41863cee-64d8-481e-e3b9-61cafd7035c5"
      },
      "outputs": [
        {
          "output_type": "stream",
          "name": "stdout",
          "text": [
            "na coluna idade_primeiro_diagnostico o outlier acima é: \n",
            "       record_id  idade_primeiro_diagnostico\n",
            "396       19460                        91.0\n",
            "3836      73521                        91.0\n",
            "3844      73644                        90.0 \n",
            " o outlier abaixo é: \n",
            " Empty DataFrame\n",
            "Columns: [record_id, idade_primeiro_diagnostico]\n",
            "Index: [] \n",
            "\n",
            "na coluna tempo_seguimento_em_dias_desde_o_ultimo_tumor_no_caso_tumores_multiplos_dt_pci o outlier acima é: \n",
            "      record_id  \\\n",
            "55        5232   \n",
            "72        6561   \n",
            "138      10696   \n",
            "168      11779   \n",
            "196      12854   \n",
            "248      15385   \n",
            "270      16162   \n",
            "416      19779   \n",
            "468      20737   \n",
            "767      25353   \n",
            "\n",
            "     tempo_seguimento_em_dias_desde_o_ultimo_tumor_no_caso_tumores_multiplos_dt_pci  \n",
            "55                                              4474.0                               \n",
            "72                                              4126.0                               \n",
            "138                                             4326.0                               \n",
            "168                                             4277.0                               \n",
            "196                                             4295.0                               \n",
            "248                                             4126.0                               \n",
            "270                                             4023.0                               \n",
            "416                                             4108.0                               \n",
            "468                                             4042.0                               \n",
            "767                                             4052.0                                \n",
            " o outlier abaixo é: \n",
            " Empty DataFrame\n",
            "Columns: [record_id, tempo_seguimento_em_dias_desde_o_ultimo_tumor_no_caso_tumores_multiplos_dt_pci]\n",
            "Index: [] \n",
            "\n",
            "na coluna quantas_vezes_ficou_gravida o outlier acima é: \n",
            "       record_id  quantas_vezes_ficou_gravida\n",
            "127        9934                          3.0\n",
            "258       15792                          4.0\n",
            "400       19602                          4.0\n",
            "416       19779                          5.0\n",
            "515       21532                          3.0\n",
            "570       22328                          2.0\n",
            "745       25018                          3.0\n",
            "747       25103                          2.0\n",
            "859       27335                          2.0\n",
            "903       28032                          5.0\n",
            "950       28883                          3.0\n",
            "983       29516                          2.0\n",
            "1015      29929                          2.0\n",
            "1076      31121                          4.0\n",
            "1180      33126                          5.0\n",
            "1380      37118                          3.0\n",
            "1428      37718                          2.0\n",
            "1447      38028                          2.0\n",
            "1494      38844                          2.0\n",
            "1531      39366                          2.0\n",
            "4100      80162                          3.0 \n",
            " o outlier abaixo é: \n",
            " Empty DataFrame\n",
            "Columns: [record_id, quantas_vezes_ficou_gravida]\n",
            "Index: [] \n",
            "\n",
            "na coluna idade_primeira_gestacao o outlier acima é: \n",
            "       record_id  idade_primeira_gestacao\n",
            "2322      55346                     38.0\n",
            "2664      59070                     39.0\n",
            "2702      59776                     45.0\n",
            "2826      60666                     40.0\n",
            "2906      61307                     39.0\n",
            "3127      63304                     38.0\n",
            "3543      70631                     42.0\n",
            "3844      73644                     38.0\n",
            "4241      82026                     44.0 \n",
            " o outlier abaixo é: \n",
            " Empty DataFrame\n",
            "Columns: [record_id, idade_primeira_gestacao]\n",
            "Index: [] \n",
            "\n",
            "na coluna tempo_de_amamentacao o outlier acima é: \n",
            "       record_id  tempo_de_amamentacao\n",
            "1573      40108                  72.0\n",
            "1953      49928                  48.0\n",
            "2259      54880                  60.0\n",
            "2317      55323                  48.0\n",
            "2364      55754                  60.0\n",
            "2417      56151                  60.0\n",
            "2418      56153                  60.0\n",
            "2473      56597                  48.0\n",
            "2501      56751                  42.0\n",
            "2506      56796                  60.0\n",
            "2552      57438                  50.0\n",
            "2589      58157                  60.0\n",
            "2600      58311                  53.0\n",
            "2641      58799                  72.0\n",
            "2648      58924                  82.0\n",
            "2661      59048                  48.0\n",
            "2686      59444                  60.0\n",
            "2702      59776                  60.0\n",
            "2716      59980                  60.0\n",
            "2719      60003                  48.0\n",
            "2722      60031                  60.0\n",
            "2829      60685                  72.0\n",
            "2859      60966                  72.0\n",
            "2874      61115                  72.0\n",
            "2892      61202                 100.0\n",
            "2898      61271                  60.0\n",
            "2912      61357                 178.0\n",
            "3015      62297                  44.0\n",
            "3042      62527                  48.0\n",
            "3091      62899                  60.0\n",
            "3196      65241                  84.0\n",
            "3267      67763                  72.0\n",
            "3268      67769                  48.0\n",
            "3345      68489                  53.0\n",
            "3376      68995                  96.0\n",
            "3471      69997                  48.0\n",
            "3489      70142                  48.0\n",
            "3517      70343                  60.0\n",
            "3518      70354                  48.0\n",
            "3531      70526                  50.0\n",
            "3571      70836                 240.0\n",
            "3647      71651                  48.0\n",
            "3814      73329                 150.0\n",
            "3859      74003                  48.0\n",
            "3887      74324                  54.0\n",
            "3923      74719                  48.0\n",
            "3933      74819                 120.0\n",
            "3934      74829                  72.0\n",
            "3969      75129                  60.0\n",
            "3985      75338                  72.0\n",
            "3993      75550                  84.0\n",
            "4044      78561                  60.0\n",
            "4052      78641                  44.0\n",
            "4085      79935                  48.0\n",
            "4094      80041                  42.0\n",
            "4106      80290                 260.0\n",
            "4161      81643                  55.0\n",
            "4172      81741                  48.0\n",
            "4252      82057                  84.0 \n",
            " o outlier abaixo é: \n",
            " Empty DataFrame\n",
            "Columns: [record_id, tempo_de_amamentacao]\n",
            "Index: [] \n",
            "\n",
            "na coluna idade_primeira_menstruacao o outlier acima é: \n",
            "       record_id  idade_primeira_menstruacao\n",
            "1740      44050                        18.0\n",
            "2447      56390                        17.0\n",
            "2581      58050                        17.0\n",
            "2589      58157                        17.0\n",
            "2608      58419                        17.0\n",
            "2675      59304                        37.0\n",
            "2702      59776                        19.0\n",
            "2788      60461                        17.0\n",
            "2789      60469                        18.0\n",
            "2825      60665                        17.0\n",
            "2916      61383                        18.0\n",
            "3115      63123                        30.0\n",
            "3186      64996                        17.0\n",
            "3301      67996                        17.0\n",
            "3313      68170                        17.0\n",
            "3382      69052                        17.0\n",
            "3391      69181                        17.0\n",
            "3483      70084                        17.0\n",
            "3858      74001                        17.0\n",
            "3862      74038                        17.0\n",
            "3884      74299                        19.0\n",
            "3993      75550                        17.0\n",
            "4023      77146                        17.0\n",
            "4067      78798                        17.0\n",
            "4131      80995                        18.0 \n",
            " o outlier abaixo é: \n",
            "       record_id  idade_primeira_menstruacao\n",
            "2308      55261                         9.0\n",
            "2383      55911                         9.0\n",
            "2403      56053                         8.0\n",
            "2437      56269                         9.0\n",
            "2555      57593                         8.0\n",
            "2609      58434                         0.0\n",
            "2611      58485                         9.0\n",
            "2666      59086                         9.0\n",
            "2804      60573                         9.0\n",
            "2818      60644                         9.0\n",
            "2841      60777                         9.0\n",
            "2930      61470                         9.0\n",
            "3135      63568                         9.0\n",
            "3232      66983                         9.0\n",
            "3239      67192                         9.0\n",
            "3248      67329                         9.0\n",
            "3451      69808                         9.0\n",
            "3517      70343                         9.0\n",
            "3538      70580                         9.0\n",
            "3617      71344                         9.0\n",
            "3769      73029                         8.0\n",
            "3798      73208                         9.0\n",
            "3886      74313                         9.0\n",
            "3934      74829                         9.0\n",
            "3974      75209                         9.0\n",
            "4002      76100                         9.0\n",
            "4012      76668                         7.0\n",
            "4043      78545                         9.0\n",
            "4082      79930                         9.0\n",
            "4229      81991                         9.0\n",
            "4258      82086                         9.0\n",
            "4260      82097                         9.0 \n",
            "\n"
          ]
        }
      ],
      "source": [
        "#estamos usando a média +- 3 desvio padrão para identificar outliers , supondo que a distribuicao é normal\n",
        "numericas = ['idade_primeiro_diagnostico', \n",
        "             'tempo_seguimento_em_dias_desde_o_ultimo_tumor_no_caso_tumores_multiplos_dt_pci',\n",
        "             'quantas_vezes_ficou_gravida', \n",
        "             'idade_primeira_gestacao', \n",
        "             'tempo_de_amamentacao',\n",
        "             'idade_primeira_menstruacao']\n",
        "for colu in numericas: \n",
        "  mean = dfd[colu].mean()\n",
        "  std = dfd[colu].std()\n",
        "  higher_limit = mean + (3 * std)\n",
        "  lower_limit = mean - (3 * std)\n",
        "  outliers = dfd[['record_id',colu]][dfd[colu]>higher_limit ]\n",
        "  outliers2 = dfd[['record_id',colu]][dfd[colu]<lower_limit ]\n",
        "  print(f'na coluna {colu} o outlier acima é: \\n {outliers} \\n o outlier abaixo é: \\n {outliers2} \\n') "
      ]
    },
    {
      "cell_type": "markdown",
      "metadata": {
        "id": "ahnHB2R6W34d"
      },
      "source": [
        "* Convertendo para a mesma unidade(MESES) a coluna tempo_de_amamentacao:"
      ]
    },
    {
      "cell_type": "code",
      "execution_count": null,
      "metadata": {
        "id": "bOu4qTbwW4ob",
        "colab": {
          "base_uri": "https://localhost:8080/"
        },
        "outputId": "85d7a421-c037-491d-97bd-2178db770abc"
      },
      "outputs": [
        {
          "output_type": "stream",
          "name": "stderr",
          "text": [
            "<ipython-input-144-cfadc6ce6edd>:7: SettingWithCopyWarning: \n",
            "A value is trying to be set on a copy of a slice from a DataFrame.\n",
            "Try using .loc[row_indexer,col_indexer] = value instead\n",
            "\n",
            "See the caveats in the documentation: https://pandas.pydata.org/pandas-docs/stable/user_guide/indexing.html#returning-a-view-versus-a-copy\n",
            "  dfd['tempo_de_amamentacao'] = dfd['tempo_de_amamentacao'].apply(meses)\n"
          ]
        }
      ],
      "source": [
        "def meses(x):\n",
        "  if x > 48:\n",
        "    return x//30\n",
        "  else: \n",
        "    return x\n",
        "\n",
        "dfd['tempo_de_amamentacao'] = dfd['tempo_de_amamentacao'].apply(meses)"
      ]
    },
    {
      "cell_type": "markdown",
      "metadata": {
        "id": "goo1yl0xXCNJ"
      },
      "source": [
        "####2.4.6.1 Tratamento dos outliers da coluna \"idade_primeiro_diagnostico\":"
      ]
    },
    {
      "cell_type": "code",
      "execution_count": null,
      "metadata": {
        "id": "h2AHgBg-XFwe",
        "colab": {
          "base_uri": "https://localhost:8080/"
        },
        "outputId": "4ff25a6c-76ba-4041-9201-564a131892da"
      },
      "outputs": [
        {
          "output_type": "stream",
          "name": "stderr",
          "text": [
            "<ipython-input-145-5dcf9eba92cc>:1: SettingWithCopyWarning: \n",
            "A value is trying to be set on a copy of a slice from a DataFrame.\n",
            "Try using .loc[row_indexer,col_indexer] = value instead\n",
            "\n",
            "See the caveats in the documentation: https://pandas.pydata.org/pandas-docs/stable/user_guide/indexing.html#returning-a-view-versus-a-copy\n",
            "  dfd['idade_primeiro_diagnostico'] = np.where((dfd['idade_primeiro_diagnostico'] > 94), idade_diag_moda , dfd['idade_primeiro_diagnostico'])\n"
          ]
        }
      ],
      "source": [
        "dfd['idade_primeiro_diagnostico'] = np.where((dfd['idade_primeiro_diagnostico'] > 94), idade_diag_moda , dfd['idade_primeiro_diagnostico'])"
      ]
    },
    {
      "cell_type": "markdown",
      "metadata": {
        "id": "aLI4GzcfXIQY"
      },
      "source": [
        "#### 2.4.6.2 Tratamento dos outliers da coluna \"tempo_seguimento_em_dias_desde_o_ultimo_tumor_no_caso_tumores_multiplos_dt_pci\":"
      ]
    },
    {
      "cell_type": "code",
      "execution_count": null,
      "metadata": {
        "id": "5I6ifW-tXMjk",
        "colab": {
          "base_uri": "https://localhost:8080/"
        },
        "outputId": "0f5fa4d9-9f49-499f-c4c8-cdb4b7968a31"
      },
      "outputs": [
        {
          "output_type": "stream",
          "name": "stderr",
          "text": [
            "<ipython-input-146-691453ffd180>:1: SettingWithCopyWarning: \n",
            "A value is trying to be set on a copy of a slice from a DataFrame.\n",
            "Try using .loc[row_indexer,col_indexer] = value instead\n",
            "\n",
            "See the caveats in the documentation: https://pandas.pydata.org/pandas-docs/stable/user_guide/indexing.html#returning-a-view-versus-a-copy\n",
            "  dfd['tempo_seguimento_em_dias_desde_o_ultimo_tumor_no_caso_tumores_multiplos_dt_pci'] = np.where((dfd['tempo_seguimento_em_dias_desde_o_ultimo_tumor_no_caso_tumores_multiplos_dt_pci'] > 2347 ), 1407 , dfd['tempo_seguimento_em_dias_desde_o_ultimo_tumor_no_caso_tumores_multiplos_dt_pci'])\n"
          ]
        }
      ],
      "source": [
        "dfd['tempo_seguimento_em_dias_desde_o_ultimo_tumor_no_caso_tumores_multiplos_dt_pci'] = np.where((dfd['tempo_seguimento_em_dias_desde_o_ultimo_tumor_no_caso_tumores_multiplos_dt_pci'] > 2347 ), 1407 , dfd['tempo_seguimento_em_dias_desde_o_ultimo_tumor_no_caso_tumores_multiplos_dt_pci'])"
      ]
    },
    {
      "cell_type": "markdown",
      "metadata": {
        "id": "91ltPFGHXLpP"
      },
      "source": [
        "#### 2.4.6.3 Tratamento dos outliers da coluna \"quantas_vezes_ficou_gravida\":"
      ]
    },
    {
      "cell_type": "code",
      "execution_count": null,
      "metadata": {
        "id": "F0qCvSYxXV4q",
        "colab": {
          "base_uri": "https://localhost:8080/"
        },
        "outputId": "01aed359-491c-40bc-969f-43b65a20b46f"
      },
      "outputs": [
        {
          "output_type": "stream",
          "name": "stderr",
          "text": [
            "<ipython-input-147-9385de567127>:1: SettingWithCopyWarning: \n",
            "A value is trying to be set on a copy of a slice from a DataFrame.\n",
            "Try using .loc[row_indexer,col_indexer] = value instead\n",
            "\n",
            "See the caveats in the documentation: https://pandas.pydata.org/pandas-docs/stable/user_guide/indexing.html#returning-a-view-versus-a-copy\n",
            "  dfd['quantas_vezes_ficou_gravida'] = np.where((dfd['quantas_vezes_ficou_gravida'] > 3 ), 2 , dfd['quantas_vezes_ficou_gravida'])\n"
          ]
        }
      ],
      "source": [
        "dfd['quantas_vezes_ficou_gravida'] = np.where((dfd['quantas_vezes_ficou_gravida'] > 3 ), 2 , dfd['quantas_vezes_ficou_gravida'])"
      ]
    },
    {
      "cell_type": "markdown",
      "metadata": {
        "id": "CzZHDQUZXcRM"
      },
      "source": [
        "####2.4.6.4 Tratamento dos outliers da coluna \"idade_primeira_gestacao\":"
      ]
    },
    {
      "cell_type": "code",
      "execution_count": null,
      "metadata": {
        "id": "k09C-sAbXf5u",
        "colab": {
          "base_uri": "https://localhost:8080/"
        },
        "outputId": "7eb2909b-cbf8-4298-b759-0a6a20d4278c"
      },
      "outputs": [
        {
          "output_type": "stream",
          "name": "stderr",
          "text": [
            "<ipython-input-148-4ac6d9e309fb>:1: SettingWithCopyWarning: \n",
            "A value is trying to be set on a copy of a slice from a DataFrame.\n",
            "Try using .loc[row_indexer,col_indexer] = value instead\n",
            "\n",
            "See the caveats in the documentation: https://pandas.pydata.org/pandas-docs/stable/user_guide/indexing.html#returning-a-view-versus-a-copy\n",
            "  dfd['idade_primeira_gestacao'] = np.where((dfd['idade_primeira_gestacao'] >= 40 )  , dfd['idade_primeira_gestacao'].mode() , dfd['idade_primeira_gestacao'])\n"
          ]
        }
      ],
      "source": [
        "dfd['idade_primeira_gestacao'] = np.where((dfd['idade_primeira_gestacao'] >= 40 )  , dfd['idade_primeira_gestacao'].mode() , dfd['idade_primeira_gestacao'])"
      ]
    },
    {
      "cell_type": "markdown",
      "metadata": {
        "id": "ilzAolYXXl9R"
      },
      "source": [
        "#### 2.4.6.5 Tratamento dos outliers da coluna \"tempo_de_amamentacao\":"
      ]
    },
    {
      "cell_type": "code",
      "execution_count": null,
      "metadata": {
        "id": "TnGiRu14XpWy",
        "colab": {
          "base_uri": "https://localhost:8080/"
        },
        "outputId": "2f11801c-8aaa-4931-8818-d010f08f09b2"
      },
      "outputs": [
        {
          "output_type": "stream",
          "name": "stderr",
          "text": [
            "<ipython-input-149-a41ff6406878>:1: SettingWithCopyWarning: \n",
            "A value is trying to be set on a copy of a slice from a DataFrame.\n",
            "Try using .loc[row_indexer,col_indexer] = value instead\n",
            "\n",
            "See the caveats in the documentation: https://pandas.pydata.org/pandas-docs/stable/user_guide/indexing.html#returning-a-view-versus-a-copy\n",
            "  dfd['tempo_de_amamentacao'] = np.where((dfd['tempo_de_amamentacao'] > 25 ) , dfd['tempo_de_amamentacao'].mode() , dfd['tempo_de_amamentacao'])\n"
          ]
        }
      ],
      "source": [
        "dfd['tempo_de_amamentacao'] = np.where((dfd['tempo_de_amamentacao'] > 25 ) , dfd['tempo_de_amamentacao'].mode() , dfd['tempo_de_amamentacao'])"
      ]
    },
    {
      "cell_type": "markdown",
      "metadata": {
        "id": "8sHitvXMXtrg"
      },
      "source": [
        "#### 2.4.6.6 Tratamento dos outliers da coluna \"idade_primeira_menstruacao\":"
      ]
    },
    {
      "cell_type": "code",
      "execution_count": null,
      "metadata": {
        "id": "ixyRJgVrXvAP",
        "colab": {
          "base_uri": "https://localhost:8080/"
        },
        "outputId": "3ed0400e-ddbf-48fe-b98f-21fbdb95ad3f"
      },
      "outputs": [
        {
          "output_type": "stream",
          "name": "stderr",
          "text": [
            "<ipython-input-150-3f107178d520>:1: SettingWithCopyWarning: \n",
            "A value is trying to be set on a copy of a slice from a DataFrame.\n",
            "Try using .loc[row_indexer,col_indexer] = value instead\n",
            "\n",
            "See the caveats in the documentation: https://pandas.pydata.org/pandas-docs/stable/user_guide/indexing.html#returning-a-view-versus-a-copy\n",
            "  dfd['idade_primeira_menstruacao'] = np.where((dfd['idade_primeira_menstruacao'] > 19 ) , dfd['idade_primeira_menstruacao'].mode() , dfd['idade_primeira_menstruacao'])\n"
          ]
        }
      ],
      "source": [
        "dfd['idade_primeira_menstruacao'] = np.where((dfd['idade_primeira_menstruacao'] > 19 ) , dfd['idade_primeira_menstruacao'].mode() , dfd['idade_primeira_menstruacao'])"
      ]
    },
    {
      "cell_type": "markdown",
      "metadata": {
        "id": "TGPMWU4oF-Ry"
      },
      "source": [
        "###2.4.7 Encoding"
      ]
    },
    {
      "cell_type": "code",
      "execution_count": null,
      "metadata": {
        "colab": {
          "base_uri": "https://localhost:8080/"
        },
        "id": "oJ0UiPW0vVTy",
        "outputId": "a52df1c2-58eb-4ec2-f186-0c36a54a18dc"
      },
      "outputs": [
        {
          "output_type": "stream",
          "name": "stdout",
          "text": [
            "record_id :  [  710  1705  1960 ... 82122 82123 82131] \n",
            "\n",
            "escolaridade :  ['ENSINO MÉDIO' 'ENS. FUNDAMENTAL INCOMPLETO' 'ENS. FUNDAMENTAL COMPLETO'\n",
            " 'SUPERIOR' 'IGNORADA' 'ANALFABETO'] \n",
            "\n",
            "idade_primeiro_diagnostico :  [58. 43. 29. 51. 39. 49. 48. 56. 74. 59. 50. 60. 42. 40. 68. 37. 78. 32.\n",
            " 52. 28. 46. 55. 35. 80. 61. 69. 34. 45. 62. 82. 47. 70. 71. 65. 72. 57.\n",
            " 53. 54. 22. 44. 33. 73. 79. 66. 36. 63. 27. 75. 41. 38. 67. 84. 31. 64.\n",
            " 83. 91. 30. 76. 81. 77. 85. 24. 87. 26. 25. 23. 89. 90. 88.] \n",
            "\n",
            "sexo :  ['Feminino' 'Masculino'] \n",
            "\n",
            "raca :  ['Pardo' 'Negro' 'Branco' 'Asiático' 'Outro' 'Tamoxifeno isolado'] \n",
            "\n",
            "engravidou :  ['Não informado' 'Sim' 'Não'] \n",
            "\n",
            "quantas_vezes_ficou_gravida :  [0. 1. 3. 2.] \n",
            "\n",
            "idade_primeira_gestacao :  [-1. 19. 24. 21. 22. 20. 17. 23. 26. 29. 27. 18. 25. 15. 14. 30. 38. 35.\n",
            " 16. 33. 28. 13. 31.  0. 32. 11. 37. 36. 39. 12. 34.] \n",
            "\n",
            "abortou :  ['Não-informado' 'Não' 'Sim' 'Não(homem)'] \n",
            "\n",
            "amamentou_na_primeira_gestacao :  ['Não informado' 'Sim' 'Não'] \n",
            "\n",
            "tempo_de_amamentacao :  [ 0.  5. 12.  1. 24.  6.  2. 15.  7.  9. 18. 19.  3. 20. 14.  8.  4. 10.\n",
            " 17. 11. 13. 16. 25. 23. 21.] \n",
            "\n",
            "historia_familiar_cancer_relacionado_sindrome_cancer_mama_ovario_hereditaria_choice_nao :  ['Unchecked' 'Checked'] \n",
            "\n",
            "historia_familiar_cancer_relacionado_sindrome_cancer_mama_ovario_hereditaria_choice_sim_1_grau_apenas_1_caso :  ['Unchecked' 'Checked'] \n",
            "\n",
            "historia_familiar_cancer_relacionado_sindrome_cancer_mama_ovario_hereditaria_choice_sim_1_grau_mais_1_caso :  ['Unchecked' 'Checked'] \n",
            "\n",
            "idade_primeira_menstruacao :  [13. 14. 15. 18. 12. 11. 16.  9. 10.  8. 17.  0. 19.  7.] \n",
            "\n",
            "qual_metodo_choice_pilula_anticoncepcional :  ['Unchecked' 'Checked'] \n",
            "\n",
            "tem_historico_de_cancer? :  ['Não informado' 'Não' 'Sim'] \n",
            "\n",
            "grau_parentesco_familiar_com_cancer_choice_primeiro_pais_irmaos_filhos :  ['Unchecked' 'Checked'] \n",
            "\n",
            "grau_parentesco_familiar_com_cancer_choice_segundo_avos_tios_netos :  ['Unchecked' 'Checked'] \n",
            "\n",
            "grau_parentesco_familiar_com_cancer_choice_terceiro_bisavos_tio_avos_primos_sobrinhos :  ['Unchecked' 'Checked'] \n",
            "\n",
            "tratamento :  ['Terapia Adjuvante' 'Terapia Neoadjuvante'] \n",
            "\n",
            "hormonioterapia :  ['Não realizou' 'Não informado' 'Adjuvante' 'Neoadjuvante'] \n",
            "\n",
            "tipo_terapia_anti-her2_neoadjuvante :  ['não realizou' 'Trastuzumabe' 'Trastuzumabe + Pertuzumabe'] \n",
            "\n",
            "radioterapia :  ['Não' 'Sim' nan] \n",
            "\n",
            "esquema_hormonioterapia :  ['Não realizou' 'Não informado' 'Inibidor de aromatase isolado'\n",
            " 'Tamoxifeno isolado' 'Switch: tamoxifeno seguido de IA'] \n",
            "\n"
          ]
        }
      ],
      "source": [
        "#criando um df com apenas os dados que serão codificados\n",
        "dfd_encoding = dfd[['record_id', 'escolaridade', 'idade_primeiro_diagnostico', 'sexo',\n",
        "       'raca', \n",
        "       'engravidou', 'quantas_vezes_ficou_gravida', 'idade_primeira_gestacao',\n",
        "       'abortou', 'amamentou_na_primeira_gestacao', 'tempo_de_amamentacao',\n",
        "       'historia_familiar_cancer_relacionado_sindrome_cancer_mama_ovario_hereditaria_choice_nao',\n",
        "       'historia_familiar_cancer_relacionado_sindrome_cancer_mama_ovario_hereditaria_choice_sim_1_grau_apenas_1_caso',\n",
        "       'historia_familiar_cancer_relacionado_sindrome_cancer_mama_ovario_hereditaria_choice_sim_1_grau_mais_1_caso',\n",
        "       'idade_primeira_menstruacao',\n",
        "       'qual_metodo_choice_pilula_anticoncepcional', \n",
        "       'tem_historico_de_cancer?',\n",
        "       'grau_parentesco_familiar_com_cancer_choice_primeiro_pais_irmaos_filhos',\n",
        "       'grau_parentesco_familiar_com_cancer_choice_segundo_avos_tios_netos',\n",
        "       'grau_parentesco_familiar_com_cancer_choice_terceiro_bisavos_tio_avos_primos_sobrinhos',\n",
        "       'tratamento', 'hormonioterapia', \n",
        "       'tipo_terapia_anti-her2_neoadjuvante', 'radioterapia',\n",
        "      'esquema_hormonioterapia',\n",
        "       ]]\n",
        "for i in dfd_encoding:\n",
        "  print(i,': ',dfd_encoding[i].unique(),'\\n')"
      ]
    },
    {
      "cell_type": "code",
      "execution_count": null,
      "metadata": {
        "colab": {
          "base_uri": "https://localhost:8080/"
        },
        "id": "oxq1u73_GMUk",
        "outputId": "fc30367b-87a3-4303-9870-725a95a6d3d1"
      },
      "outputs": [
        {
          "output_type": "execute_result",
          "data": {
            "text/plain": [
              "Index(['record_id', 'escolaridade', 'idade_primeiro_diagnostico', 'sexo',\n",
              "       'raca', 'data_da_ultima_informacao', 'ultima_informacao',\n",
              "       'tempo_seguimento_em_dias_desde_o_ultimo_tumor_no_caso_tumores_multiplos_dt_pci',\n",
              "       'engravidou', 'quantas_vezes_ficou_gravida', 'idade_primeira_gestacao',\n",
              "       'abortou', 'amamentou_na_primeira_gestacao', 'tempo_de_amamentacao',\n",
              "       'historia_familiar_cancer_relacionado_sindrome_cancer_mama_ovario_hereditaria_choice_nao',\n",
              "       'historia_familiar_cancer_relacionado_sindrome_cancer_mama_ovario_hereditaria_choice_sim_1_grau_apenas_1_caso',\n",
              "       'historia_familiar_cancer_relacionado_sindrome_cancer_mama_ovario_hereditaria_choice_sim_1_grau_mais_1_caso',\n",
              "       'idade_primeira_menstruacao',\n",
              "       'qual_metodo_choice_pilula_anticoncepcional', 'ja_usou_droga?',\n",
              "       'atividade_fisica', 'consumo_tabaco', 'consumo_alcool',\n",
              "       'tem_historico_de_cancer?',\n",
              "       'grau_parentesco_familiar_com_cancer_choice_primeiro_pais_irmaos_filhos',\n",
              "       'grau_parentesco_familiar_com_cancer_choice_segundo_avos_tios_netos',\n",
              "       'grau_parentesco_familiar_com_cancer_choice_terceiro_bisavos_tio_avos_primos_sobrinhos',\n",
              "       'tratamento', 'hormonioterapia', 'data_cirurgia',\n",
              "       'tipo_terapia_anti-her2_neoadjuvante', 'radioterapia',\n",
              "       'data_de_inicio_quimioterapia', 'esquema_hormonioterapia',\n",
              "       'data_inicio_radioterapia'],\n",
              "      dtype='object')"
            ]
          },
          "metadata": {},
          "execution_count": 152
        }
      ],
      "source": [
        "dfd.columns"
      ]
    },
    {
      "cell_type": "markdown",
      "metadata": {
        "id": "_Pc78FoQX8g1"
      },
      "source": [
        "* O código abaixo seleciona as features de dfd"
      ]
    },
    {
      "cell_type": "code",
      "execution_count": null,
      "metadata": {
        "colab": {
          "base_uri": "https://localhost:8080/"
        },
        "id": "43PWuHXdGMUl",
        "outputId": "2e9d8c6e-05ee-466c-b272-bbe3ccab6340"
      },
      "outputs": [
        {
          "output_type": "execute_result",
          "data": {
            "text/plain": [
              "    record_id      sexo  idade_primeiro_diagnostico ultima_informacao  \\\n",
              "1         710  Feminino                        58.0         Vivo, SOE   \n",
              "5        1705  Feminino                        43.0  Obito por câncer   \n",
              "9        1960  Feminino                        29.0         Vivo, SOE   \n",
              "15       2157  Feminino                        51.0         Vivo, SOE   \n",
              "26       2864  Feminino                        39.0         Vivo, SOE   \n",
              "\n",
              "       engravidou  tempo_de_amamentacao tem_historico_de_cancer?  \\\n",
              "1   Não informado                   0.0            Não informado   \n",
              "5   Não informado                   0.0            Não informado   \n",
              "9   Não informado                   0.0            Não informado   \n",
              "15  Não informado                   0.0            Não informado   \n",
              "26  Não informado                   0.0            Não informado   \n",
              "\n",
              "              tratamento amamentou_na_primeira_gestacao  \n",
              "1      Terapia Adjuvante                  Não informado  \n",
              "5      Terapia Adjuvante                  Não informado  \n",
              "9   Terapia Neoadjuvante                  Não informado  \n",
              "15     Terapia Adjuvante                  Não informado  \n",
              "26  Terapia Neoadjuvante                  Não informado  "
            ],
            "text/html": [
              "\n",
              "  <div id=\"df-f424c38a-7e7e-4931-a172-c24455d2aa78\">\n",
              "    <div class=\"colab-df-container\">\n",
              "      <div>\n",
              "<style scoped>\n",
              "    .dataframe tbody tr th:only-of-type {\n",
              "        vertical-align: middle;\n",
              "    }\n",
              "\n",
              "    .dataframe tbody tr th {\n",
              "        vertical-align: top;\n",
              "    }\n",
              "\n",
              "    .dataframe thead th {\n",
              "        text-align: right;\n",
              "    }\n",
              "</style>\n",
              "<table border=\"1\" class=\"dataframe\">\n",
              "  <thead>\n",
              "    <tr style=\"text-align: right;\">\n",
              "      <th></th>\n",
              "      <th>record_id</th>\n",
              "      <th>sexo</th>\n",
              "      <th>idade_primeiro_diagnostico</th>\n",
              "      <th>ultima_informacao</th>\n",
              "      <th>engravidou</th>\n",
              "      <th>tempo_de_amamentacao</th>\n",
              "      <th>tem_historico_de_cancer?</th>\n",
              "      <th>tratamento</th>\n",
              "      <th>amamentou_na_primeira_gestacao</th>\n",
              "    </tr>\n",
              "  </thead>\n",
              "  <tbody>\n",
              "    <tr>\n",
              "      <th>1</th>\n",
              "      <td>710</td>\n",
              "      <td>Feminino</td>\n",
              "      <td>58.0</td>\n",
              "      <td>Vivo, SOE</td>\n",
              "      <td>Não informado</td>\n",
              "      <td>0.0</td>\n",
              "      <td>Não informado</td>\n",
              "      <td>Terapia Adjuvante</td>\n",
              "      <td>Não informado</td>\n",
              "    </tr>\n",
              "    <tr>\n",
              "      <th>5</th>\n",
              "      <td>1705</td>\n",
              "      <td>Feminino</td>\n",
              "      <td>43.0</td>\n",
              "      <td>Obito por câncer</td>\n",
              "      <td>Não informado</td>\n",
              "      <td>0.0</td>\n",
              "      <td>Não informado</td>\n",
              "      <td>Terapia Adjuvante</td>\n",
              "      <td>Não informado</td>\n",
              "    </tr>\n",
              "    <tr>\n",
              "      <th>9</th>\n",
              "      <td>1960</td>\n",
              "      <td>Feminino</td>\n",
              "      <td>29.0</td>\n",
              "      <td>Vivo, SOE</td>\n",
              "      <td>Não informado</td>\n",
              "      <td>0.0</td>\n",
              "      <td>Não informado</td>\n",
              "      <td>Terapia Neoadjuvante</td>\n",
              "      <td>Não informado</td>\n",
              "    </tr>\n",
              "    <tr>\n",
              "      <th>15</th>\n",
              "      <td>2157</td>\n",
              "      <td>Feminino</td>\n",
              "      <td>51.0</td>\n",
              "      <td>Vivo, SOE</td>\n",
              "      <td>Não informado</td>\n",
              "      <td>0.0</td>\n",
              "      <td>Não informado</td>\n",
              "      <td>Terapia Adjuvante</td>\n",
              "      <td>Não informado</td>\n",
              "    </tr>\n",
              "    <tr>\n",
              "      <th>26</th>\n",
              "      <td>2864</td>\n",
              "      <td>Feminino</td>\n",
              "      <td>39.0</td>\n",
              "      <td>Vivo, SOE</td>\n",
              "      <td>Não informado</td>\n",
              "      <td>0.0</td>\n",
              "      <td>Não informado</td>\n",
              "      <td>Terapia Neoadjuvante</td>\n",
              "      <td>Não informado</td>\n",
              "    </tr>\n",
              "  </tbody>\n",
              "</table>\n",
              "</div>\n",
              "      <button class=\"colab-df-convert\" onclick=\"convertToInteractive('df-f424c38a-7e7e-4931-a172-c24455d2aa78')\"\n",
              "              title=\"Convert this dataframe to an interactive table.\"\n",
              "              style=\"display:none;\">\n",
              "        \n",
              "  <svg xmlns=\"http://www.w3.org/2000/svg\" height=\"24px\"viewBox=\"0 0 24 24\"\n",
              "       width=\"24px\">\n",
              "    <path d=\"M0 0h24v24H0V0z\" fill=\"none\"/>\n",
              "    <path d=\"M18.56 5.44l.94 2.06.94-2.06 2.06-.94-2.06-.94-.94-2.06-.94 2.06-2.06.94zm-11 1L8.5 8.5l.94-2.06 2.06-.94-2.06-.94L8.5 2.5l-.94 2.06-2.06.94zm10 10l.94 2.06.94-2.06 2.06-.94-2.06-.94-.94-2.06-.94 2.06-2.06.94z\"/><path d=\"M17.41 7.96l-1.37-1.37c-.4-.4-.92-.59-1.43-.59-.52 0-1.04.2-1.43.59L10.3 9.45l-7.72 7.72c-.78.78-.78 2.05 0 2.83L4 21.41c.39.39.9.59 1.41.59.51 0 1.02-.2 1.41-.59l7.78-7.78 2.81-2.81c.8-.78.8-2.07 0-2.86zM5.41 20L4 18.59l7.72-7.72 1.47 1.35L5.41 20z\"/>\n",
              "  </svg>\n",
              "      </button>\n",
              "      \n",
              "  <style>\n",
              "    .colab-df-container {\n",
              "      display:flex;\n",
              "      flex-wrap:wrap;\n",
              "      gap: 12px;\n",
              "    }\n",
              "\n",
              "    .colab-df-convert {\n",
              "      background-color: #E8F0FE;\n",
              "      border: none;\n",
              "      border-radius: 50%;\n",
              "      cursor: pointer;\n",
              "      display: none;\n",
              "      fill: #1967D2;\n",
              "      height: 32px;\n",
              "      padding: 0 0 0 0;\n",
              "      width: 32px;\n",
              "    }\n",
              "\n",
              "    .colab-df-convert:hover {\n",
              "      background-color: #E2EBFA;\n",
              "      box-shadow: 0px 1px 2px rgba(60, 64, 67, 0.3), 0px 1px 3px 1px rgba(60, 64, 67, 0.15);\n",
              "      fill: #174EA6;\n",
              "    }\n",
              "\n",
              "    [theme=dark] .colab-df-convert {\n",
              "      background-color: #3B4455;\n",
              "      fill: #D2E3FC;\n",
              "    }\n",
              "\n",
              "    [theme=dark] .colab-df-convert:hover {\n",
              "      background-color: #434B5C;\n",
              "      box-shadow: 0px 1px 3px 1px rgba(0, 0, 0, 0.15);\n",
              "      filter: drop-shadow(0px 1px 2px rgba(0, 0, 0, 0.3));\n",
              "      fill: #FFFFFF;\n",
              "    }\n",
              "  </style>\n",
              "\n",
              "      <script>\n",
              "        const buttonEl =\n",
              "          document.querySelector('#df-f424c38a-7e7e-4931-a172-c24455d2aa78 button.colab-df-convert');\n",
              "        buttonEl.style.display =\n",
              "          google.colab.kernel.accessAllowed ? 'block' : 'none';\n",
              "\n",
              "        async function convertToInteractive(key) {\n",
              "          const element = document.querySelector('#df-f424c38a-7e7e-4931-a172-c24455d2aa78');\n",
              "          const dataTable =\n",
              "            await google.colab.kernel.invokeFunction('convertToInteractive',\n",
              "                                                     [key], {});\n",
              "          if (!dataTable) return;\n",
              "\n",
              "          const docLinkHtml = 'Like what you see? Visit the ' +\n",
              "            '<a target=\"_blank\" href=https://colab.research.google.com/notebooks/data_table.ipynb>data table notebook</a>'\n",
              "            + ' to learn more about interactive tables.';\n",
              "          element.innerHTML = '';\n",
              "          dataTable['output_type'] = 'display_data';\n",
              "          await google.colab.output.renderOutput(dataTable, element);\n",
              "          const docLink = document.createElement('div');\n",
              "          docLink.innerHTML = docLinkHtml;\n",
              "          element.appendChild(docLink);\n",
              "        }\n",
              "      </script>\n",
              "    </div>\n",
              "  </div>\n",
              "  "
            ]
          },
          "metadata": {},
          "execution_count": 153
        }
      ],
      "source": [
        "dfd_encoding = dfd[['record_id','sexo', 'idade_primeiro_diagnostico','ultima_informacao', 'engravidou','tempo_de_amamentacao', 'tem_historico_de_cancer?', 'tratamento',\n",
        "                   'amamentou_na_primeira_gestacao']] #'escolaridade', 'atividade_fisica', 'hormonioterapia', 'idade_primeira_menstruacao'\n",
        "dfd_encoding.head()"
      ]
    },
    {
      "cell_type": "code",
      "execution_count": null,
      "metadata": {
        "id": "35dv0cdrI5Ca"
      },
      "outputs": [],
      "source": [
        "##Analisando a coluna 'atividade_fisica'para realização do encoding\n",
        "#dfd_encoding['atividade_fisica'].unique()\n",
        "#Mudar para Numérica? Ou retirar?"
      ]
    },
    {
      "cell_type": "code",
      "execution_count": null,
      "metadata": {
        "id": "l77uKIPOGMUm"
      },
      "outputs": [],
      "source": [
        "##Analisando a coluna 'escolaridade'para realização do encoding\n",
        "#dfd_encoding['escolaridade'].unique()"
      ]
    },
    {
      "cell_type": "code",
      "execution_count": null,
      "metadata": {
        "colab": {
          "base_uri": "https://localhost:8080/"
        },
        "id": "liQqVI-KS-5r",
        "outputId": "3ac4358c-4e1f-4aab-a76c-2077229ce279"
      },
      "outputs": [
        {
          "output_type": "execute_result",
          "data": {
            "text/plain": [
              "array(['Não informado', 'Sim', 'Não'], dtype=object)"
            ]
          },
          "metadata": {},
          "execution_count": 156
        }
      ],
      "source": [
        "##Analisando a coluna 'engravidou'para realização do encoding\n",
        "dfd_encoding['engravidou'].unique()"
      ]
    },
    {
      "cell_type": "code",
      "execution_count": null,
      "metadata": {
        "colab": {
          "base_uri": "https://localhost:8080/"
        },
        "id": "14Vq1sfAo9wk",
        "outputId": "e09125f2-6282-4023-e094-cc8a6c1e18f7"
      },
      "outputs": [
        {
          "output_type": "execute_result",
          "data": {
            "text/plain": [
              "array(['Não informado', 'Não', 'Sim'], dtype=object)"
            ]
          },
          "metadata": {},
          "execution_count": 157
        }
      ],
      "source": [
        "##Analisando a coluna 'tem_historico_de_cancer?'para realização do encoding\n",
        "dfd_encoding['tem_historico_de_cancer?'].unique()"
      ]
    },
    {
      "cell_type": "code",
      "source": [
        "##Analisando a coluna 'tratamento'para realização do encoding\n",
        "dfd_encoding['tratamento'].unique()"
      ],
      "metadata": {
        "colab": {
          "base_uri": "https://localhost:8080/"
        },
        "id": "q8I0lGtHuUQV",
        "outputId": "645275a3-3895-468e-ed6f-903f1dff6508"
      },
      "execution_count": null,
      "outputs": [
        {
          "output_type": "execute_result",
          "data": {
            "text/plain": [
              "array(['Terapia Adjuvante', 'Terapia Neoadjuvante'], dtype=object)"
            ]
          },
          "metadata": {},
          "execution_count": 158
        }
      ]
    },
    {
      "cell_type": "code",
      "execution_count": null,
      "metadata": {
        "id": "VmCgzi9lvmDw"
      },
      "outputs": [],
      "source": [
        "##Analisando a coluna 'hormonioterapia'para realização do encoding\n",
        "#dfd_encoding['hormonioterapia'].unique()"
      ]
    },
    {
      "cell_type": "code",
      "execution_count": null,
      "metadata": {
        "colab": {
          "base_uri": "https://localhost:8080/"
        },
        "id": "pjTLjWLcxz9P",
        "outputId": "661e0df2-ee41-4af9-ffd3-fe6780335e6a"
      },
      "outputs": [
        {
          "output_type": "execute_result",
          "data": {
            "text/plain": [
              "array(['Vivo, SOE', 'Obito por câncer', 'Vivo, com câncer',\n",
              "       'Óbito por outras causas, SOE'], dtype=object)"
            ]
          },
          "metadata": {},
          "execution_count": 160
        }
      ],
      "source": [
        "##Analisando a coluna 'ultima_informacao'para realização do encoding\n",
        "dfd_encoding['ultima_informacao'].unique()"
      ]
    },
    {
      "cell_type": "code",
      "execution_count": null,
      "metadata": {
        "id": "9okrnUmyJZpH",
        "colab": {
          "base_uri": "https://localhost:8080/"
        },
        "outputId": "7411bfaa-97ef-4028-aac5-457f670a8b60"
      },
      "outputs": [
        {
          "output_type": "stream",
          "name": "stderr",
          "text": [
            "<ipython-input-161-b0ac31ae3ad2>:6: SettingWithCopyWarning: \n",
            "A value is trying to be set on a copy of a slice from a DataFrame.\n",
            "Try using .loc[row_indexer,col_indexer] = value instead\n",
            "\n",
            "See the caveats in the documentation: https://pandas.pydata.org/pandas-docs/stable/user_guide/indexing.html#returning-a-view-versus-a-copy\n",
            "  dfd_encoding['sexo'] = dfd_encoding['sexo'].replace({'Feminino': 1, 'Masculino': 0})\n",
            "<ipython-input-161-b0ac31ae3ad2>:7: SettingWithCopyWarning: \n",
            "A value is trying to be set on a copy of a slice from a DataFrame.\n",
            "Try using .loc[row_indexer,col_indexer] = value instead\n",
            "\n",
            "See the caveats in the documentation: https://pandas.pydata.org/pandas-docs/stable/user_guide/indexing.html#returning-a-view-versus-a-copy\n",
            "  dfd_encoding['engravidou'] = dfd_encoding['engravidou'].replace({'Sim': 1, 'Não': 0, 'Não informado':2,})\n",
            "<ipython-input-161-b0ac31ae3ad2>:8: SettingWithCopyWarning: \n",
            "A value is trying to be set on a copy of a slice from a DataFrame.\n",
            "Try using .loc[row_indexer,col_indexer] = value instead\n",
            "\n",
            "See the caveats in the documentation: https://pandas.pydata.org/pandas-docs/stable/user_guide/indexing.html#returning-a-view-versus-a-copy\n",
            "  dfd_encoding['amamentou_na_primeira_gestacao'] = dfd_encoding['amamentou_na_primeira_gestacao'].replace({'Sim': 1, 'Não': 0, 'Não informado':2,})\n",
            "<ipython-input-161-b0ac31ae3ad2>:9: SettingWithCopyWarning: \n",
            "A value is trying to be set on a copy of a slice from a DataFrame.\n",
            "Try using .loc[row_indexer,col_indexer] = value instead\n",
            "\n",
            "See the caveats in the documentation: https://pandas.pydata.org/pandas-docs/stable/user_guide/indexing.html#returning-a-view-versus-a-copy\n",
            "  dfd_encoding['tem_historico_de_cancer?'] = dfd_encoding['tem_historico_de_cancer?'].replace({ 'Não informado':2,'Sim': 1, 'Não': 0,})\n",
            "<ipython-input-161-b0ac31ae3ad2>:10: SettingWithCopyWarning: \n",
            "A value is trying to be set on a copy of a slice from a DataFrame.\n",
            "Try using .loc[row_indexer,col_indexer] = value instead\n",
            "\n",
            "See the caveats in the documentation: https://pandas.pydata.org/pandas-docs/stable/user_guide/indexing.html#returning-a-view-versus-a-copy\n",
            "  dfd_encoding['tratamento'] = dfd_encoding['tratamento'].replace({'Terapia Adjuvante': 1, 'Terapia Neoadjuvante': 0})\n"
          ]
        }
      ],
      "source": [
        "#dfd_encoding = pd.get_dummies(dfd_encoding, columns =['ultima_informacao']  )\n",
        "#dfd_encoding = pd.get_dummies(dfd_encoding, columns=['atividade_fisica'])\n",
        "#dfd_encoding = pd.get_dummies(dfd_encoding, columns=['tratamento'])\n",
        "#dfd_encoding = pd.get_dummies(dfd_encoding, columns=['escolaridade'])\n",
        "#dfd_encoding = pd.get_dummies(dfd_encoding, columns=['hormonioterapia'])\n",
        "dfd_encoding['sexo'] = dfd_encoding['sexo'].replace({'Feminino': 1, 'Masculino': 0})\n",
        "dfd_encoding['engravidou'] = dfd_encoding['engravidou'].replace({'Sim': 1, 'Não': 0, 'Não informado':2,})\n",
        "dfd_encoding['amamentou_na_primeira_gestacao'] = dfd_encoding['amamentou_na_primeira_gestacao'].replace({'Sim': 1, 'Não': 0, 'Não informado':2,})\n",
        "dfd_encoding['tem_historico_de_cancer?'] = dfd_encoding['tem_historico_de_cancer?'].replace({ 'Não informado':2,'Sim': 1, 'Não': 0,})\n",
        "dfd_encoding['tratamento'] = dfd_encoding['tratamento'].replace({'Terapia Adjuvante': 1, 'Terapia Neoadjuvante': 0})"
      ]
    },
    {
      "cell_type": "code",
      "source": [
        "dfd_encoding['tem_historico_de_cancer?'].unique()"
      ],
      "metadata": {
        "colab": {
          "base_uri": "https://localhost:8080/"
        },
        "id": "jgpo8BFnsgL7",
        "outputId": "1618e215-4292-4edf-8ebc-882645964fa7"
      },
      "execution_count": null,
      "outputs": [
        {
          "output_type": "execute_result",
          "data": {
            "text/plain": [
              "array([2, 0, 1])"
            ]
          },
          "metadata": {},
          "execution_count": 162
        }
      ]
    },
    {
      "cell_type": "code",
      "source": [
        "dfd_encoding['tratamento'].unique()"
      ],
      "metadata": {
        "id": "0y3d6yyvwd7v",
        "outputId": "97923163-97ed-4dd9-abcd-a6c0ff338ae3",
        "colab": {
          "base_uri": "https://localhost:8080/"
        }
      },
      "execution_count": null,
      "outputs": [
        {
          "output_type": "execute_result",
          "data": {
            "text/plain": [
              "array([1, 0])"
            ]
          },
          "metadata": {},
          "execution_count": 163
        }
      ]
    },
    {
      "cell_type": "code",
      "execution_count": null,
      "metadata": {
        "colab": {
          "base_uri": "https://localhost:8080/"
        },
        "id": "pdCzJhBLtcqg",
        "outputId": "61705623-43a0-4798-8134-ddb51f9bdc08"
      },
      "outputs": [
        {
          "output_type": "stream",
          "name": "stderr",
          "text": [
            "<ipython-input-164-ddf8deba1025>:2: SettingWithCopyWarning: \n",
            "A value is trying to be set on a copy of a slice from a DataFrame.\n",
            "Try using .loc[row_indexer,col_indexer] = value instead\n",
            "\n",
            "See the caveats in the documentation: https://pandas.pydata.org/pandas-docs/stable/user_guide/indexing.html#returning-a-view-versus-a-copy\n",
            "  dfd_encoding['idade_primeira_menstruacao'] = dfd['idade_primeira_menstruacao'] = np.where((dfd['sexo'] == 0) , 0 , dfd['idade_primeira_menstruacao'])\n"
          ]
        },
        {
          "output_type": "execute_result",
          "data": {
            "text/plain": [
              "      record_id  sexo  idade_primeiro_diagnostico ultima_informacao  \\\n",
              "1           710     1                        58.0         Vivo, SOE   \n",
              "5          1705     1                        43.0  Obito por câncer   \n",
              "9          1960     1                        29.0         Vivo, SOE   \n",
              "15         2157     1                        51.0         Vivo, SOE   \n",
              "26         2864     1                        39.0         Vivo, SOE   \n",
              "...         ...   ...                         ...               ...   \n",
              "4264      82112     1                        50.0         Vivo, SOE   \n",
              "4265      82118     1                        50.0         Vivo, SOE   \n",
              "4266      82122     1                        50.0         Vivo, SOE   \n",
              "4267      82123     1                        50.0         Vivo, SOE   \n",
              "4269      82131     1                        59.0  Obito por câncer   \n",
              "\n",
              "      engravidou  tempo_de_amamentacao  tem_historico_de_cancer?  tratamento  \\\n",
              "1              2                   0.0                         2           1   \n",
              "5              2                   0.0                         2           1   \n",
              "9              2                   0.0                         2           0   \n",
              "15             2                   0.0                         2           1   \n",
              "26             2                   0.0                         2           0   \n",
              "...          ...                   ...                       ...         ...   \n",
              "4264           1                  18.0                         2           0   \n",
              "4265           1                  18.0                         2           1   \n",
              "4266           2                   0.0                         2           1   \n",
              "4267           0                   0.0                         2           0   \n",
              "4269           1                   7.0                         2           1   \n",
              "\n",
              "      amamentou_na_primeira_gestacao  idade_primeira_menstruacao  \n",
              "1                                  2                        13.0  \n",
              "5                                  2                        13.0  \n",
              "9                                  2                        13.0  \n",
              "15                                 2                        13.0  \n",
              "26                                 2                        13.0  \n",
              "...                              ...                         ...  \n",
              "4264                               1                        12.0  \n",
              "4265                               1                        15.0  \n",
              "4266                               2                        13.0  \n",
              "4267                               0                        12.0  \n",
              "4269                               1                        12.0  \n",
              "\n",
              "[3227 rows x 10 columns]"
            ],
            "text/html": [
              "\n",
              "  <div id=\"df-4be705bc-c2f8-4f36-ae91-833fcde3282d\">\n",
              "    <div class=\"colab-df-container\">\n",
              "      <div>\n",
              "<style scoped>\n",
              "    .dataframe tbody tr th:only-of-type {\n",
              "        vertical-align: middle;\n",
              "    }\n",
              "\n",
              "    .dataframe tbody tr th {\n",
              "        vertical-align: top;\n",
              "    }\n",
              "\n",
              "    .dataframe thead th {\n",
              "        text-align: right;\n",
              "    }\n",
              "</style>\n",
              "<table border=\"1\" class=\"dataframe\">\n",
              "  <thead>\n",
              "    <tr style=\"text-align: right;\">\n",
              "      <th></th>\n",
              "      <th>record_id</th>\n",
              "      <th>sexo</th>\n",
              "      <th>idade_primeiro_diagnostico</th>\n",
              "      <th>ultima_informacao</th>\n",
              "      <th>engravidou</th>\n",
              "      <th>tempo_de_amamentacao</th>\n",
              "      <th>tem_historico_de_cancer?</th>\n",
              "      <th>tratamento</th>\n",
              "      <th>amamentou_na_primeira_gestacao</th>\n",
              "      <th>idade_primeira_menstruacao</th>\n",
              "    </tr>\n",
              "  </thead>\n",
              "  <tbody>\n",
              "    <tr>\n",
              "      <th>1</th>\n",
              "      <td>710</td>\n",
              "      <td>1</td>\n",
              "      <td>58.0</td>\n",
              "      <td>Vivo, SOE</td>\n",
              "      <td>2</td>\n",
              "      <td>0.0</td>\n",
              "      <td>2</td>\n",
              "      <td>1</td>\n",
              "      <td>2</td>\n",
              "      <td>13.0</td>\n",
              "    </tr>\n",
              "    <tr>\n",
              "      <th>5</th>\n",
              "      <td>1705</td>\n",
              "      <td>1</td>\n",
              "      <td>43.0</td>\n",
              "      <td>Obito por câncer</td>\n",
              "      <td>2</td>\n",
              "      <td>0.0</td>\n",
              "      <td>2</td>\n",
              "      <td>1</td>\n",
              "      <td>2</td>\n",
              "      <td>13.0</td>\n",
              "    </tr>\n",
              "    <tr>\n",
              "      <th>9</th>\n",
              "      <td>1960</td>\n",
              "      <td>1</td>\n",
              "      <td>29.0</td>\n",
              "      <td>Vivo, SOE</td>\n",
              "      <td>2</td>\n",
              "      <td>0.0</td>\n",
              "      <td>2</td>\n",
              "      <td>0</td>\n",
              "      <td>2</td>\n",
              "      <td>13.0</td>\n",
              "    </tr>\n",
              "    <tr>\n",
              "      <th>15</th>\n",
              "      <td>2157</td>\n",
              "      <td>1</td>\n",
              "      <td>51.0</td>\n",
              "      <td>Vivo, SOE</td>\n",
              "      <td>2</td>\n",
              "      <td>0.0</td>\n",
              "      <td>2</td>\n",
              "      <td>1</td>\n",
              "      <td>2</td>\n",
              "      <td>13.0</td>\n",
              "    </tr>\n",
              "    <tr>\n",
              "      <th>26</th>\n",
              "      <td>2864</td>\n",
              "      <td>1</td>\n",
              "      <td>39.0</td>\n",
              "      <td>Vivo, SOE</td>\n",
              "      <td>2</td>\n",
              "      <td>0.0</td>\n",
              "      <td>2</td>\n",
              "      <td>0</td>\n",
              "      <td>2</td>\n",
              "      <td>13.0</td>\n",
              "    </tr>\n",
              "    <tr>\n",
              "      <th>...</th>\n",
              "      <td>...</td>\n",
              "      <td>...</td>\n",
              "      <td>...</td>\n",
              "      <td>...</td>\n",
              "      <td>...</td>\n",
              "      <td>...</td>\n",
              "      <td>...</td>\n",
              "      <td>...</td>\n",
              "      <td>...</td>\n",
              "      <td>...</td>\n",
              "    </tr>\n",
              "    <tr>\n",
              "      <th>4264</th>\n",
              "      <td>82112</td>\n",
              "      <td>1</td>\n",
              "      <td>50.0</td>\n",
              "      <td>Vivo, SOE</td>\n",
              "      <td>1</td>\n",
              "      <td>18.0</td>\n",
              "      <td>2</td>\n",
              "      <td>0</td>\n",
              "      <td>1</td>\n",
              "      <td>12.0</td>\n",
              "    </tr>\n",
              "    <tr>\n",
              "      <th>4265</th>\n",
              "      <td>82118</td>\n",
              "      <td>1</td>\n",
              "      <td>50.0</td>\n",
              "      <td>Vivo, SOE</td>\n",
              "      <td>1</td>\n",
              "      <td>18.0</td>\n",
              "      <td>2</td>\n",
              "      <td>1</td>\n",
              "      <td>1</td>\n",
              "      <td>15.0</td>\n",
              "    </tr>\n",
              "    <tr>\n",
              "      <th>4266</th>\n",
              "      <td>82122</td>\n",
              "      <td>1</td>\n",
              "      <td>50.0</td>\n",
              "      <td>Vivo, SOE</td>\n",
              "      <td>2</td>\n",
              "      <td>0.0</td>\n",
              "      <td>2</td>\n",
              "      <td>1</td>\n",
              "      <td>2</td>\n",
              "      <td>13.0</td>\n",
              "    </tr>\n",
              "    <tr>\n",
              "      <th>4267</th>\n",
              "      <td>82123</td>\n",
              "      <td>1</td>\n",
              "      <td>50.0</td>\n",
              "      <td>Vivo, SOE</td>\n",
              "      <td>0</td>\n",
              "      <td>0.0</td>\n",
              "      <td>2</td>\n",
              "      <td>0</td>\n",
              "      <td>0</td>\n",
              "      <td>12.0</td>\n",
              "    </tr>\n",
              "    <tr>\n",
              "      <th>4269</th>\n",
              "      <td>82131</td>\n",
              "      <td>1</td>\n",
              "      <td>59.0</td>\n",
              "      <td>Obito por câncer</td>\n",
              "      <td>1</td>\n",
              "      <td>7.0</td>\n",
              "      <td>2</td>\n",
              "      <td>1</td>\n",
              "      <td>1</td>\n",
              "      <td>12.0</td>\n",
              "    </tr>\n",
              "  </tbody>\n",
              "</table>\n",
              "<p>3227 rows × 10 columns</p>\n",
              "</div>\n",
              "      <button class=\"colab-df-convert\" onclick=\"convertToInteractive('df-4be705bc-c2f8-4f36-ae91-833fcde3282d')\"\n",
              "              title=\"Convert this dataframe to an interactive table.\"\n",
              "              style=\"display:none;\">\n",
              "        \n",
              "  <svg xmlns=\"http://www.w3.org/2000/svg\" height=\"24px\"viewBox=\"0 0 24 24\"\n",
              "       width=\"24px\">\n",
              "    <path d=\"M0 0h24v24H0V0z\" fill=\"none\"/>\n",
              "    <path d=\"M18.56 5.44l.94 2.06.94-2.06 2.06-.94-2.06-.94-.94-2.06-.94 2.06-2.06.94zm-11 1L8.5 8.5l.94-2.06 2.06-.94-2.06-.94L8.5 2.5l-.94 2.06-2.06.94zm10 10l.94 2.06.94-2.06 2.06-.94-2.06-.94-.94-2.06-.94 2.06-2.06.94z\"/><path d=\"M17.41 7.96l-1.37-1.37c-.4-.4-.92-.59-1.43-.59-.52 0-1.04.2-1.43.59L10.3 9.45l-7.72 7.72c-.78.78-.78 2.05 0 2.83L4 21.41c.39.39.9.59 1.41.59.51 0 1.02-.2 1.41-.59l7.78-7.78 2.81-2.81c.8-.78.8-2.07 0-2.86zM5.41 20L4 18.59l7.72-7.72 1.47 1.35L5.41 20z\"/>\n",
              "  </svg>\n",
              "      </button>\n",
              "      \n",
              "  <style>\n",
              "    .colab-df-container {\n",
              "      display:flex;\n",
              "      flex-wrap:wrap;\n",
              "      gap: 12px;\n",
              "    }\n",
              "\n",
              "    .colab-df-convert {\n",
              "      background-color: #E8F0FE;\n",
              "      border: none;\n",
              "      border-radius: 50%;\n",
              "      cursor: pointer;\n",
              "      display: none;\n",
              "      fill: #1967D2;\n",
              "      height: 32px;\n",
              "      padding: 0 0 0 0;\n",
              "      width: 32px;\n",
              "    }\n",
              "\n",
              "    .colab-df-convert:hover {\n",
              "      background-color: #E2EBFA;\n",
              "      box-shadow: 0px 1px 2px rgba(60, 64, 67, 0.3), 0px 1px 3px 1px rgba(60, 64, 67, 0.15);\n",
              "      fill: #174EA6;\n",
              "    }\n",
              "\n",
              "    [theme=dark] .colab-df-convert {\n",
              "      background-color: #3B4455;\n",
              "      fill: #D2E3FC;\n",
              "    }\n",
              "\n",
              "    [theme=dark] .colab-df-convert:hover {\n",
              "      background-color: #434B5C;\n",
              "      box-shadow: 0px 1px 3px 1px rgba(0, 0, 0, 0.15);\n",
              "      filter: drop-shadow(0px 1px 2px rgba(0, 0, 0, 0.3));\n",
              "      fill: #FFFFFF;\n",
              "    }\n",
              "  </style>\n",
              "\n",
              "      <script>\n",
              "        const buttonEl =\n",
              "          document.querySelector('#df-4be705bc-c2f8-4f36-ae91-833fcde3282d button.colab-df-convert');\n",
              "        buttonEl.style.display =\n",
              "          google.colab.kernel.accessAllowed ? 'block' : 'none';\n",
              "\n",
              "        async function convertToInteractive(key) {\n",
              "          const element = document.querySelector('#df-4be705bc-c2f8-4f36-ae91-833fcde3282d');\n",
              "          const dataTable =\n",
              "            await google.colab.kernel.invokeFunction('convertToInteractive',\n",
              "                                                     [key], {});\n",
              "          if (!dataTable) return;\n",
              "\n",
              "          const docLinkHtml = 'Like what you see? Visit the ' +\n",
              "            '<a target=\"_blank\" href=https://colab.research.google.com/notebooks/data_table.ipynb>data table notebook</a>'\n",
              "            + ' to learn more about interactive tables.';\n",
              "          element.innerHTML = '';\n",
              "          dataTable['output_type'] = 'display_data';\n",
              "          await google.colab.output.renderOutput(dataTable, element);\n",
              "          const docLink = document.createElement('div');\n",
              "          docLink.innerHTML = docLinkHtml;\n",
              "          element.appendChild(docLink);\n",
              "        }\n",
              "      </script>\n",
              "    </div>\n",
              "  </div>\n",
              "  "
            ]
          },
          "metadata": {},
          "execution_count": 164
        }
      ],
      "source": [
        "##Quando o paciente for do sexo masculino a coluna de primeira menstruação receberá '0', era necessário substituir a string por um número, relacionamos 'não menstrua' por 0\n",
        "dfd_encoding['idade_primeira_menstruacao'] = dfd['idade_primeira_menstruacao'] = np.where((dfd['sexo'] == 0) , 0 , dfd['idade_primeira_menstruacao'])\n",
        "dfd_encoding "
      ]
    },
    {
      "cell_type": "code",
      "execution_count": null,
      "metadata": {
        "colab": {
          "base_uri": "https://localhost:8080/"
        },
        "id": "jPsJ5TUqy8fe",
        "outputId": "6e9e2f47-d417-4686-c1db-5b8b1f0e5b50"
      },
      "outputs": [
        {
          "output_type": "stream",
          "name": "stderr",
          "text": [
            "<ipython-input-165-e2dc09597050>:2: SettingWithCopyWarning: \n",
            "A value is trying to be set on a copy of a slice from a DataFrame.\n",
            "Try using .loc[row_indexer,col_indexer] = value instead\n",
            "\n",
            "See the caveats in the documentation: https://pandas.pydata.org/pandas-docs/stable/user_guide/indexing.html#returning-a-view-versus-a-copy\n",
            "  dfd_encoding['idade_primeira_gestacao'] = dfd['idade_primeira_gestacao'] = np.where((dfd['sexo'] == 0) , 0 , dfd['idade_primeira_gestacao'])\n"
          ]
        },
        {
          "output_type": "execute_result",
          "data": {
            "text/plain": [
              "      record_id  sexo  idade_primeiro_diagnostico ultima_informacao  \\\n",
              "1           710     1                        58.0         Vivo, SOE   \n",
              "5          1705     1                        43.0  Obito por câncer   \n",
              "9          1960     1                        29.0         Vivo, SOE   \n",
              "15         2157     1                        51.0         Vivo, SOE   \n",
              "26         2864     1                        39.0         Vivo, SOE   \n",
              "...         ...   ...                         ...               ...   \n",
              "4264      82112     1                        50.0         Vivo, SOE   \n",
              "4265      82118     1                        50.0         Vivo, SOE   \n",
              "4266      82122     1                        50.0         Vivo, SOE   \n",
              "4267      82123     1                        50.0         Vivo, SOE   \n",
              "4269      82131     1                        59.0  Obito por câncer   \n",
              "\n",
              "      engravidou  tempo_de_amamentacao  tem_historico_de_cancer?  tratamento  \\\n",
              "1              2                   0.0                         2           1   \n",
              "5              2                   0.0                         2           1   \n",
              "9              2                   0.0                         2           0   \n",
              "15             2                   0.0                         2           1   \n",
              "26             2                   0.0                         2           0   \n",
              "...          ...                   ...                       ...         ...   \n",
              "4264           1                  18.0                         2           0   \n",
              "4265           1                  18.0                         2           1   \n",
              "4266           2                   0.0                         2           1   \n",
              "4267           0                   0.0                         2           0   \n",
              "4269           1                   7.0                         2           1   \n",
              "\n",
              "      amamentou_na_primeira_gestacao  idade_primeira_menstruacao  \\\n",
              "1                                  2                        13.0   \n",
              "5                                  2                        13.0   \n",
              "9                                  2                        13.0   \n",
              "15                                 2                        13.0   \n",
              "26                                 2                        13.0   \n",
              "...                              ...                         ...   \n",
              "4264                               1                        12.0   \n",
              "4265                               1                        15.0   \n",
              "4266                               2                        13.0   \n",
              "4267                               0                        12.0   \n",
              "4269                               1                        12.0   \n",
              "\n",
              "      idade_primeira_gestacao  \n",
              "1                        -1.0  \n",
              "5                        -1.0  \n",
              "9                        -1.0  \n",
              "15                       -1.0  \n",
              "26                       -1.0  \n",
              "...                       ...  \n",
              "4264                     28.0  \n",
              "4265                     21.0  \n",
              "4266                     -1.0  \n",
              "4267                     -1.0  \n",
              "4269                     26.0  \n",
              "\n",
              "[3227 rows x 11 columns]"
            ],
            "text/html": [
              "\n",
              "  <div id=\"df-2cf1e42c-adec-463d-af61-f81dc3527a17\">\n",
              "    <div class=\"colab-df-container\">\n",
              "      <div>\n",
              "<style scoped>\n",
              "    .dataframe tbody tr th:only-of-type {\n",
              "        vertical-align: middle;\n",
              "    }\n",
              "\n",
              "    .dataframe tbody tr th {\n",
              "        vertical-align: top;\n",
              "    }\n",
              "\n",
              "    .dataframe thead th {\n",
              "        text-align: right;\n",
              "    }\n",
              "</style>\n",
              "<table border=\"1\" class=\"dataframe\">\n",
              "  <thead>\n",
              "    <tr style=\"text-align: right;\">\n",
              "      <th></th>\n",
              "      <th>record_id</th>\n",
              "      <th>sexo</th>\n",
              "      <th>idade_primeiro_diagnostico</th>\n",
              "      <th>ultima_informacao</th>\n",
              "      <th>engravidou</th>\n",
              "      <th>tempo_de_amamentacao</th>\n",
              "      <th>tem_historico_de_cancer?</th>\n",
              "      <th>tratamento</th>\n",
              "      <th>amamentou_na_primeira_gestacao</th>\n",
              "      <th>idade_primeira_menstruacao</th>\n",
              "      <th>idade_primeira_gestacao</th>\n",
              "    </tr>\n",
              "  </thead>\n",
              "  <tbody>\n",
              "    <tr>\n",
              "      <th>1</th>\n",
              "      <td>710</td>\n",
              "      <td>1</td>\n",
              "      <td>58.0</td>\n",
              "      <td>Vivo, SOE</td>\n",
              "      <td>2</td>\n",
              "      <td>0.0</td>\n",
              "      <td>2</td>\n",
              "      <td>1</td>\n",
              "      <td>2</td>\n",
              "      <td>13.0</td>\n",
              "      <td>-1.0</td>\n",
              "    </tr>\n",
              "    <tr>\n",
              "      <th>5</th>\n",
              "      <td>1705</td>\n",
              "      <td>1</td>\n",
              "      <td>43.0</td>\n",
              "      <td>Obito por câncer</td>\n",
              "      <td>2</td>\n",
              "      <td>0.0</td>\n",
              "      <td>2</td>\n",
              "      <td>1</td>\n",
              "      <td>2</td>\n",
              "      <td>13.0</td>\n",
              "      <td>-1.0</td>\n",
              "    </tr>\n",
              "    <tr>\n",
              "      <th>9</th>\n",
              "      <td>1960</td>\n",
              "      <td>1</td>\n",
              "      <td>29.0</td>\n",
              "      <td>Vivo, SOE</td>\n",
              "      <td>2</td>\n",
              "      <td>0.0</td>\n",
              "      <td>2</td>\n",
              "      <td>0</td>\n",
              "      <td>2</td>\n",
              "      <td>13.0</td>\n",
              "      <td>-1.0</td>\n",
              "    </tr>\n",
              "    <tr>\n",
              "      <th>15</th>\n",
              "      <td>2157</td>\n",
              "      <td>1</td>\n",
              "      <td>51.0</td>\n",
              "      <td>Vivo, SOE</td>\n",
              "      <td>2</td>\n",
              "      <td>0.0</td>\n",
              "      <td>2</td>\n",
              "      <td>1</td>\n",
              "      <td>2</td>\n",
              "      <td>13.0</td>\n",
              "      <td>-1.0</td>\n",
              "    </tr>\n",
              "    <tr>\n",
              "      <th>26</th>\n",
              "      <td>2864</td>\n",
              "      <td>1</td>\n",
              "      <td>39.0</td>\n",
              "      <td>Vivo, SOE</td>\n",
              "      <td>2</td>\n",
              "      <td>0.0</td>\n",
              "      <td>2</td>\n",
              "      <td>0</td>\n",
              "      <td>2</td>\n",
              "      <td>13.0</td>\n",
              "      <td>-1.0</td>\n",
              "    </tr>\n",
              "    <tr>\n",
              "      <th>...</th>\n",
              "      <td>...</td>\n",
              "      <td>...</td>\n",
              "      <td>...</td>\n",
              "      <td>...</td>\n",
              "      <td>...</td>\n",
              "      <td>...</td>\n",
              "      <td>...</td>\n",
              "      <td>...</td>\n",
              "      <td>...</td>\n",
              "      <td>...</td>\n",
              "      <td>...</td>\n",
              "    </tr>\n",
              "    <tr>\n",
              "      <th>4264</th>\n",
              "      <td>82112</td>\n",
              "      <td>1</td>\n",
              "      <td>50.0</td>\n",
              "      <td>Vivo, SOE</td>\n",
              "      <td>1</td>\n",
              "      <td>18.0</td>\n",
              "      <td>2</td>\n",
              "      <td>0</td>\n",
              "      <td>1</td>\n",
              "      <td>12.0</td>\n",
              "      <td>28.0</td>\n",
              "    </tr>\n",
              "    <tr>\n",
              "      <th>4265</th>\n",
              "      <td>82118</td>\n",
              "      <td>1</td>\n",
              "      <td>50.0</td>\n",
              "      <td>Vivo, SOE</td>\n",
              "      <td>1</td>\n",
              "      <td>18.0</td>\n",
              "      <td>2</td>\n",
              "      <td>1</td>\n",
              "      <td>1</td>\n",
              "      <td>15.0</td>\n",
              "      <td>21.0</td>\n",
              "    </tr>\n",
              "    <tr>\n",
              "      <th>4266</th>\n",
              "      <td>82122</td>\n",
              "      <td>1</td>\n",
              "      <td>50.0</td>\n",
              "      <td>Vivo, SOE</td>\n",
              "      <td>2</td>\n",
              "      <td>0.0</td>\n",
              "      <td>2</td>\n",
              "      <td>1</td>\n",
              "      <td>2</td>\n",
              "      <td>13.0</td>\n",
              "      <td>-1.0</td>\n",
              "    </tr>\n",
              "    <tr>\n",
              "      <th>4267</th>\n",
              "      <td>82123</td>\n",
              "      <td>1</td>\n",
              "      <td>50.0</td>\n",
              "      <td>Vivo, SOE</td>\n",
              "      <td>0</td>\n",
              "      <td>0.0</td>\n",
              "      <td>2</td>\n",
              "      <td>0</td>\n",
              "      <td>0</td>\n",
              "      <td>12.0</td>\n",
              "      <td>-1.0</td>\n",
              "    </tr>\n",
              "    <tr>\n",
              "      <th>4269</th>\n",
              "      <td>82131</td>\n",
              "      <td>1</td>\n",
              "      <td>59.0</td>\n",
              "      <td>Obito por câncer</td>\n",
              "      <td>1</td>\n",
              "      <td>7.0</td>\n",
              "      <td>2</td>\n",
              "      <td>1</td>\n",
              "      <td>1</td>\n",
              "      <td>12.0</td>\n",
              "      <td>26.0</td>\n",
              "    </tr>\n",
              "  </tbody>\n",
              "</table>\n",
              "<p>3227 rows × 11 columns</p>\n",
              "</div>\n",
              "      <button class=\"colab-df-convert\" onclick=\"convertToInteractive('df-2cf1e42c-adec-463d-af61-f81dc3527a17')\"\n",
              "              title=\"Convert this dataframe to an interactive table.\"\n",
              "              style=\"display:none;\">\n",
              "        \n",
              "  <svg xmlns=\"http://www.w3.org/2000/svg\" height=\"24px\"viewBox=\"0 0 24 24\"\n",
              "       width=\"24px\">\n",
              "    <path d=\"M0 0h24v24H0V0z\" fill=\"none\"/>\n",
              "    <path d=\"M18.56 5.44l.94 2.06.94-2.06 2.06-.94-2.06-.94-.94-2.06-.94 2.06-2.06.94zm-11 1L8.5 8.5l.94-2.06 2.06-.94-2.06-.94L8.5 2.5l-.94 2.06-2.06.94zm10 10l.94 2.06.94-2.06 2.06-.94-2.06-.94-.94-2.06-.94 2.06-2.06.94z\"/><path d=\"M17.41 7.96l-1.37-1.37c-.4-.4-.92-.59-1.43-.59-.52 0-1.04.2-1.43.59L10.3 9.45l-7.72 7.72c-.78.78-.78 2.05 0 2.83L4 21.41c.39.39.9.59 1.41.59.51 0 1.02-.2 1.41-.59l7.78-7.78 2.81-2.81c.8-.78.8-2.07 0-2.86zM5.41 20L4 18.59l7.72-7.72 1.47 1.35L5.41 20z\"/>\n",
              "  </svg>\n",
              "      </button>\n",
              "      \n",
              "  <style>\n",
              "    .colab-df-container {\n",
              "      display:flex;\n",
              "      flex-wrap:wrap;\n",
              "      gap: 12px;\n",
              "    }\n",
              "\n",
              "    .colab-df-convert {\n",
              "      background-color: #E8F0FE;\n",
              "      border: none;\n",
              "      border-radius: 50%;\n",
              "      cursor: pointer;\n",
              "      display: none;\n",
              "      fill: #1967D2;\n",
              "      height: 32px;\n",
              "      padding: 0 0 0 0;\n",
              "      width: 32px;\n",
              "    }\n",
              "\n",
              "    .colab-df-convert:hover {\n",
              "      background-color: #E2EBFA;\n",
              "      box-shadow: 0px 1px 2px rgba(60, 64, 67, 0.3), 0px 1px 3px 1px rgba(60, 64, 67, 0.15);\n",
              "      fill: #174EA6;\n",
              "    }\n",
              "\n",
              "    [theme=dark] .colab-df-convert {\n",
              "      background-color: #3B4455;\n",
              "      fill: #D2E3FC;\n",
              "    }\n",
              "\n",
              "    [theme=dark] .colab-df-convert:hover {\n",
              "      background-color: #434B5C;\n",
              "      box-shadow: 0px 1px 3px 1px rgba(0, 0, 0, 0.15);\n",
              "      filter: drop-shadow(0px 1px 2px rgba(0, 0, 0, 0.3));\n",
              "      fill: #FFFFFF;\n",
              "    }\n",
              "  </style>\n",
              "\n",
              "      <script>\n",
              "        const buttonEl =\n",
              "          document.querySelector('#df-2cf1e42c-adec-463d-af61-f81dc3527a17 button.colab-df-convert');\n",
              "        buttonEl.style.display =\n",
              "          google.colab.kernel.accessAllowed ? 'block' : 'none';\n",
              "\n",
              "        async function convertToInteractive(key) {\n",
              "          const element = document.querySelector('#df-2cf1e42c-adec-463d-af61-f81dc3527a17');\n",
              "          const dataTable =\n",
              "            await google.colab.kernel.invokeFunction('convertToInteractive',\n",
              "                                                     [key], {});\n",
              "          if (!dataTable) return;\n",
              "\n",
              "          const docLinkHtml = 'Like what you see? Visit the ' +\n",
              "            '<a target=\"_blank\" href=https://colab.research.google.com/notebooks/data_table.ipynb>data table notebook</a>'\n",
              "            + ' to learn more about interactive tables.';\n",
              "          element.innerHTML = '';\n",
              "          dataTable['output_type'] = 'display_data';\n",
              "          await google.colab.output.renderOutput(dataTable, element);\n",
              "          const docLink = document.createElement('div');\n",
              "          docLink.innerHTML = docLinkHtml;\n",
              "          element.appendChild(docLink);\n",
              "        }\n",
              "      </script>\n",
              "    </div>\n",
              "  </div>\n",
              "  "
            ]
          },
          "metadata": {},
          "execution_count": 165
        }
      ],
      "source": [
        "##Quando o paciente for do sexo masculino a coluna de primeira gestação receberá '0', era necessário substituir a string por um número, relacionamos 'não engravida' por 0\n",
        "dfd_encoding['idade_primeira_gestacao'] = dfd['idade_primeira_gestacao'] = np.where((dfd['sexo'] == 0) , 0 , dfd['idade_primeira_gestacao']) \n",
        "dfd_encoding"
      ]
    },
    {
      "cell_type": "code",
      "execution_count": null,
      "metadata": {
        "id": "-jYwwPU9zhBV"
      },
      "outputs": [],
      "source": [
        "dfd_final = dfd_encoding.copy()"
      ]
    },
    {
      "cell_type": "code",
      "execution_count": null,
      "metadata": {
        "colab": {
          "base_uri": "https://localhost:8080/"
        },
        "id": "ih6tPht4nHrL",
        "outputId": "1cc6bd7d-9be4-461f-988b-bc4d18d4eef3"
      },
      "outputs": [
        {
          "output_type": "execute_result",
          "data": {
            "text/plain": [
              "Index(['record_id', 'sexo', 'idade_primeiro_diagnostico', 'ultima_informacao',\n",
              "       'engravidou', 'tempo_de_amamentacao', 'tem_historico_de_cancer?',\n",
              "       'tratamento', 'amamentou_na_primeira_gestacao',\n",
              "       'idade_primeira_menstruacao', 'idade_primeira_gestacao'],\n",
              "      dtype='object')"
            ]
          },
          "metadata": {},
          "execution_count": 167
        }
      ],
      "source": [
        "dfd_final.columns"
      ]
    },
    {
      "cell_type": "markdown",
      "metadata": {
        "id": "-izlbfFDzPhs"
      },
      "source": [
        "# 3 Merge das tabelas"
      ]
    },
    {
      "cell_type": "code",
      "execution_count": null,
      "metadata": {
        "colab": {
          "base_uri": "https://localhost:8080/",
          "height": 487
        },
        "id": "s7gy7QOEF8vs",
        "outputId": "a97ef061-95ee-40a3-aec4-2ca17366314b"
      },
      "outputs": [
        {
          "output_type": "execute_result",
          "data": {
            "text/plain": [
              "      record_id  Peso        IMC  Altura  sexo  idade_primeiro_diagnostico  \\\n",
              "0           710  61.0  25.065746   156.0     1                        58.0   \n",
              "1          1705  63.0  24.005487   162.0     1                        43.0   \n",
              "2          1960  87.8  33.046031   163.0     1                        29.0   \n",
              "3          2157  53.0  23.555556   150.0     1                        51.0   \n",
              "4          2864  72.0  32.000000   150.0     1                        39.0   \n",
              "...         ...   ...        ...     ...   ...                         ...   \n",
              "2909      82112  67.0  27.887617   155.0     1                        50.0   \n",
              "2910      82118  58.0  27.024194   146.5     1                        50.0   \n",
              "2911      82122  60.3  25.098855   155.0     1                        50.0   \n",
              "2912      82123  85.4  36.481695   153.0     1                        50.0   \n",
              "2913      82131  71.4  29.152079   156.5     1                        59.0   \n",
              "\n",
              "     ultima_informacao  engravidou  tempo_de_amamentacao  \\\n",
              "0            Vivo, SOE           2                   0.0   \n",
              "1     Obito por câncer           2                   0.0   \n",
              "2            Vivo, SOE           2                   0.0   \n",
              "3            Vivo, SOE           2                   0.0   \n",
              "4            Vivo, SOE           2                   0.0   \n",
              "...                ...         ...                   ...   \n",
              "2909         Vivo, SOE           1                  18.0   \n",
              "2910         Vivo, SOE           1                  18.0   \n",
              "2911         Vivo, SOE           2                   0.0   \n",
              "2912         Vivo, SOE           0                   0.0   \n",
              "2913  Obito por câncer           1                   7.0   \n",
              "\n",
              "      tem_historico_de_cancer?  ...  cinco_anos_sem_rencidiva  \\\n",
              "0                            2  ...                         1   \n",
              "1                            2  ...                         1   \n",
              "2                            2  ...                         1   \n",
              "3                            2  ...                         1   \n",
              "4                            2  ...                         1   \n",
              "...                        ...  ...                       ...   \n",
              "2909                         2  ...                         1   \n",
              "2910                         2  ...                         1   \n",
              "2911                         2  ...                         1   \n",
              "2912                         2  ...                         1   \n",
              "2913                         2  ...                         1   \n",
              "\n",
              "      grau_histologico  subtipo_tumoral  indice_h_receptorde_progesterona  \\\n",
              "0                 -1.0              2.0                             270.0   \n",
              "1                 -1.0              4.0                               0.0   \n",
              "2                 -1.0              3.0                               0.0   \n",
              "3                 -1.0              3.0                               0.0   \n",
              "4                 -1.0              2.0                             120.0   \n",
              "...                ...              ...                               ...   \n",
              "2909              -1.0              3.0                               0.0   \n",
              "2910              -1.0              3.0                               0.0   \n",
              "2911              -1.0              2.0                             180.0   \n",
              "2912              -1.0              3.0                               0.0   \n",
              "2913              -1.0              3.0                               0.0   \n",
              "\n",
              "      ki67_pct  receptor_estrogenio  receptor_progesterona ki67_maior14pct  \\\n",
              "0         20.0                    1                      1               1   \n",
              "1         30.0                   -1                     -1               1   \n",
              "2         30.0                   -1                     -1               1   \n",
              "3         30.0                   -1                     -1               1   \n",
              "4         85.0                    1                      1               1   \n",
              "...        ...                  ...                    ...             ...   \n",
              "2909      90.0                   -1                     -1               1   \n",
              "2910      30.0                   -1                     -1               1   \n",
              "2911      40.0                    1                      1               1   \n",
              "2912      20.0                   -1                     -1               1   \n",
              "2913      50.0                   -1                     -1               1   \n",
              "\n",
              "     her2_por_fish  her2_por_ihc  \n",
              "0              1.0             1  \n",
              "1              1.0             1  \n",
              "2              2.0             3  \n",
              "3              2.0             3  \n",
              "4              1.0             1  \n",
              "...            ...           ...  \n",
              "2909           2.0             3  \n",
              "2910           2.0             3  \n",
              "2911           1.0             1  \n",
              "2912           2.0             3  \n",
              "2913           2.0             3  \n",
              "\n",
              "[2914 rows x 30 columns]"
            ],
            "text/html": [
              "\n",
              "  <div id=\"df-11b9957e-b618-45d8-b3a6-2f2ba8d643c1\">\n",
              "    <div class=\"colab-df-container\">\n",
              "      <div>\n",
              "<style scoped>\n",
              "    .dataframe tbody tr th:only-of-type {\n",
              "        vertical-align: middle;\n",
              "    }\n",
              "\n",
              "    .dataframe tbody tr th {\n",
              "        vertical-align: top;\n",
              "    }\n",
              "\n",
              "    .dataframe thead th {\n",
              "        text-align: right;\n",
              "    }\n",
              "</style>\n",
              "<table border=\"1\" class=\"dataframe\">\n",
              "  <thead>\n",
              "    <tr style=\"text-align: right;\">\n",
              "      <th></th>\n",
              "      <th>record_id</th>\n",
              "      <th>Peso</th>\n",
              "      <th>IMC</th>\n",
              "      <th>Altura</th>\n",
              "      <th>sexo</th>\n",
              "      <th>idade_primeiro_diagnostico</th>\n",
              "      <th>ultima_informacao</th>\n",
              "      <th>engravidou</th>\n",
              "      <th>tempo_de_amamentacao</th>\n",
              "      <th>tem_historico_de_cancer?</th>\n",
              "      <th>...</th>\n",
              "      <th>cinco_anos_sem_rencidiva</th>\n",
              "      <th>grau_histologico</th>\n",
              "      <th>subtipo_tumoral</th>\n",
              "      <th>indice_h_receptorde_progesterona</th>\n",
              "      <th>ki67_pct</th>\n",
              "      <th>receptor_estrogenio</th>\n",
              "      <th>receptor_progesterona</th>\n",
              "      <th>ki67_maior14pct</th>\n",
              "      <th>her2_por_fish</th>\n",
              "      <th>her2_por_ihc</th>\n",
              "    </tr>\n",
              "  </thead>\n",
              "  <tbody>\n",
              "    <tr>\n",
              "      <th>0</th>\n",
              "      <td>710</td>\n",
              "      <td>61.0</td>\n",
              "      <td>25.065746</td>\n",
              "      <td>156.0</td>\n",
              "      <td>1</td>\n",
              "      <td>58.0</td>\n",
              "      <td>Vivo, SOE</td>\n",
              "      <td>2</td>\n",
              "      <td>0.0</td>\n",
              "      <td>2</td>\n",
              "      <td>...</td>\n",
              "      <td>1</td>\n",
              "      <td>-1.0</td>\n",
              "      <td>2.0</td>\n",
              "      <td>270.0</td>\n",
              "      <td>20.0</td>\n",
              "      <td>1</td>\n",
              "      <td>1</td>\n",
              "      <td>1</td>\n",
              "      <td>1.0</td>\n",
              "      <td>1</td>\n",
              "    </tr>\n",
              "    <tr>\n",
              "      <th>1</th>\n",
              "      <td>1705</td>\n",
              "      <td>63.0</td>\n",
              "      <td>24.005487</td>\n",
              "      <td>162.0</td>\n",
              "      <td>1</td>\n",
              "      <td>43.0</td>\n",
              "      <td>Obito por câncer</td>\n",
              "      <td>2</td>\n",
              "      <td>0.0</td>\n",
              "      <td>2</td>\n",
              "      <td>...</td>\n",
              "      <td>1</td>\n",
              "      <td>-1.0</td>\n",
              "      <td>4.0</td>\n",
              "      <td>0.0</td>\n",
              "      <td>30.0</td>\n",
              "      <td>-1</td>\n",
              "      <td>-1</td>\n",
              "      <td>1</td>\n",
              "      <td>1.0</td>\n",
              "      <td>1</td>\n",
              "    </tr>\n",
              "    <tr>\n",
              "      <th>2</th>\n",
              "      <td>1960</td>\n",
              "      <td>87.8</td>\n",
              "      <td>33.046031</td>\n",
              "      <td>163.0</td>\n",
              "      <td>1</td>\n",
              "      <td>29.0</td>\n",
              "      <td>Vivo, SOE</td>\n",
              "      <td>2</td>\n",
              "      <td>0.0</td>\n",
              "      <td>2</td>\n",
              "      <td>...</td>\n",
              "      <td>1</td>\n",
              "      <td>-1.0</td>\n",
              "      <td>3.0</td>\n",
              "      <td>0.0</td>\n",
              "      <td>30.0</td>\n",
              "      <td>-1</td>\n",
              "      <td>-1</td>\n",
              "      <td>1</td>\n",
              "      <td>2.0</td>\n",
              "      <td>3</td>\n",
              "    </tr>\n",
              "    <tr>\n",
              "      <th>3</th>\n",
              "      <td>2157</td>\n",
              "      <td>53.0</td>\n",
              "      <td>23.555556</td>\n",
              "      <td>150.0</td>\n",
              "      <td>1</td>\n",
              "      <td>51.0</td>\n",
              "      <td>Vivo, SOE</td>\n",
              "      <td>2</td>\n",
              "      <td>0.0</td>\n",
              "      <td>2</td>\n",
              "      <td>...</td>\n",
              "      <td>1</td>\n",
              "      <td>-1.0</td>\n",
              "      <td>3.0</td>\n",
              "      <td>0.0</td>\n",
              "      <td>30.0</td>\n",
              "      <td>-1</td>\n",
              "      <td>-1</td>\n",
              "      <td>1</td>\n",
              "      <td>2.0</td>\n",
              "      <td>3</td>\n",
              "    </tr>\n",
              "    <tr>\n",
              "      <th>4</th>\n",
              "      <td>2864</td>\n",
              "      <td>72.0</td>\n",
              "      <td>32.000000</td>\n",
              "      <td>150.0</td>\n",
              "      <td>1</td>\n",
              "      <td>39.0</td>\n",
              "      <td>Vivo, SOE</td>\n",
              "      <td>2</td>\n",
              "      <td>0.0</td>\n",
              "      <td>2</td>\n",
              "      <td>...</td>\n",
              "      <td>1</td>\n",
              "      <td>-1.0</td>\n",
              "      <td>2.0</td>\n",
              "      <td>120.0</td>\n",
              "      <td>85.0</td>\n",
              "      <td>1</td>\n",
              "      <td>1</td>\n",
              "      <td>1</td>\n",
              "      <td>1.0</td>\n",
              "      <td>1</td>\n",
              "    </tr>\n",
              "    <tr>\n",
              "      <th>...</th>\n",
              "      <td>...</td>\n",
              "      <td>...</td>\n",
              "      <td>...</td>\n",
              "      <td>...</td>\n",
              "      <td>...</td>\n",
              "      <td>...</td>\n",
              "      <td>...</td>\n",
              "      <td>...</td>\n",
              "      <td>...</td>\n",
              "      <td>...</td>\n",
              "      <td>...</td>\n",
              "      <td>...</td>\n",
              "      <td>...</td>\n",
              "      <td>...</td>\n",
              "      <td>...</td>\n",
              "      <td>...</td>\n",
              "      <td>...</td>\n",
              "      <td>...</td>\n",
              "      <td>...</td>\n",
              "      <td>...</td>\n",
              "      <td>...</td>\n",
              "    </tr>\n",
              "    <tr>\n",
              "      <th>2909</th>\n",
              "      <td>82112</td>\n",
              "      <td>67.0</td>\n",
              "      <td>27.887617</td>\n",
              "      <td>155.0</td>\n",
              "      <td>1</td>\n",
              "      <td>50.0</td>\n",
              "      <td>Vivo, SOE</td>\n",
              "      <td>1</td>\n",
              "      <td>18.0</td>\n",
              "      <td>2</td>\n",
              "      <td>...</td>\n",
              "      <td>1</td>\n",
              "      <td>-1.0</td>\n",
              "      <td>3.0</td>\n",
              "      <td>0.0</td>\n",
              "      <td>90.0</td>\n",
              "      <td>-1</td>\n",
              "      <td>-1</td>\n",
              "      <td>1</td>\n",
              "      <td>2.0</td>\n",
              "      <td>3</td>\n",
              "    </tr>\n",
              "    <tr>\n",
              "      <th>2910</th>\n",
              "      <td>82118</td>\n",
              "      <td>58.0</td>\n",
              "      <td>27.024194</td>\n",
              "      <td>146.5</td>\n",
              "      <td>1</td>\n",
              "      <td>50.0</td>\n",
              "      <td>Vivo, SOE</td>\n",
              "      <td>1</td>\n",
              "      <td>18.0</td>\n",
              "      <td>2</td>\n",
              "      <td>...</td>\n",
              "      <td>1</td>\n",
              "      <td>-1.0</td>\n",
              "      <td>3.0</td>\n",
              "      <td>0.0</td>\n",
              "      <td>30.0</td>\n",
              "      <td>-1</td>\n",
              "      <td>-1</td>\n",
              "      <td>1</td>\n",
              "      <td>2.0</td>\n",
              "      <td>3</td>\n",
              "    </tr>\n",
              "    <tr>\n",
              "      <th>2911</th>\n",
              "      <td>82122</td>\n",
              "      <td>60.3</td>\n",
              "      <td>25.098855</td>\n",
              "      <td>155.0</td>\n",
              "      <td>1</td>\n",
              "      <td>50.0</td>\n",
              "      <td>Vivo, SOE</td>\n",
              "      <td>2</td>\n",
              "      <td>0.0</td>\n",
              "      <td>2</td>\n",
              "      <td>...</td>\n",
              "      <td>1</td>\n",
              "      <td>-1.0</td>\n",
              "      <td>2.0</td>\n",
              "      <td>180.0</td>\n",
              "      <td>40.0</td>\n",
              "      <td>1</td>\n",
              "      <td>1</td>\n",
              "      <td>1</td>\n",
              "      <td>1.0</td>\n",
              "      <td>1</td>\n",
              "    </tr>\n",
              "    <tr>\n",
              "      <th>2912</th>\n",
              "      <td>82123</td>\n",
              "      <td>85.4</td>\n",
              "      <td>36.481695</td>\n",
              "      <td>153.0</td>\n",
              "      <td>1</td>\n",
              "      <td>50.0</td>\n",
              "      <td>Vivo, SOE</td>\n",
              "      <td>0</td>\n",
              "      <td>0.0</td>\n",
              "      <td>2</td>\n",
              "      <td>...</td>\n",
              "      <td>1</td>\n",
              "      <td>-1.0</td>\n",
              "      <td>3.0</td>\n",
              "      <td>0.0</td>\n",
              "      <td>20.0</td>\n",
              "      <td>-1</td>\n",
              "      <td>-1</td>\n",
              "      <td>1</td>\n",
              "      <td>2.0</td>\n",
              "      <td>3</td>\n",
              "    </tr>\n",
              "    <tr>\n",
              "      <th>2913</th>\n",
              "      <td>82131</td>\n",
              "      <td>71.4</td>\n",
              "      <td>29.152079</td>\n",
              "      <td>156.5</td>\n",
              "      <td>1</td>\n",
              "      <td>59.0</td>\n",
              "      <td>Obito por câncer</td>\n",
              "      <td>1</td>\n",
              "      <td>7.0</td>\n",
              "      <td>2</td>\n",
              "      <td>...</td>\n",
              "      <td>1</td>\n",
              "      <td>-1.0</td>\n",
              "      <td>3.0</td>\n",
              "      <td>0.0</td>\n",
              "      <td>50.0</td>\n",
              "      <td>-1</td>\n",
              "      <td>-1</td>\n",
              "      <td>1</td>\n",
              "      <td>2.0</td>\n",
              "      <td>3</td>\n",
              "    </tr>\n",
              "  </tbody>\n",
              "</table>\n",
              "<p>2914 rows × 30 columns</p>\n",
              "</div>\n",
              "      <button class=\"colab-df-convert\" onclick=\"convertToInteractive('df-11b9957e-b618-45d8-b3a6-2f2ba8d643c1')\"\n",
              "              title=\"Convert this dataframe to an interactive table.\"\n",
              "              style=\"display:none;\">\n",
              "        \n",
              "  <svg xmlns=\"http://www.w3.org/2000/svg\" height=\"24px\"viewBox=\"0 0 24 24\"\n",
              "       width=\"24px\">\n",
              "    <path d=\"M0 0h24v24H0V0z\" fill=\"none\"/>\n",
              "    <path d=\"M18.56 5.44l.94 2.06.94-2.06 2.06-.94-2.06-.94-.94-2.06-.94 2.06-2.06.94zm-11 1L8.5 8.5l.94-2.06 2.06-.94-2.06-.94L8.5 2.5l-.94 2.06-2.06.94zm10 10l.94 2.06.94-2.06 2.06-.94-2.06-.94-.94-2.06-.94 2.06-2.06.94z\"/><path d=\"M17.41 7.96l-1.37-1.37c-.4-.4-.92-.59-1.43-.59-.52 0-1.04.2-1.43.59L10.3 9.45l-7.72 7.72c-.78.78-.78 2.05 0 2.83L4 21.41c.39.39.9.59 1.41.59.51 0 1.02-.2 1.41-.59l7.78-7.78 2.81-2.81c.8-.78.8-2.07 0-2.86zM5.41 20L4 18.59l7.72-7.72 1.47 1.35L5.41 20z\"/>\n",
              "  </svg>\n",
              "      </button>\n",
              "      \n",
              "  <style>\n",
              "    .colab-df-container {\n",
              "      display:flex;\n",
              "      flex-wrap:wrap;\n",
              "      gap: 12px;\n",
              "    }\n",
              "\n",
              "    .colab-df-convert {\n",
              "      background-color: #E8F0FE;\n",
              "      border: none;\n",
              "      border-radius: 50%;\n",
              "      cursor: pointer;\n",
              "      display: none;\n",
              "      fill: #1967D2;\n",
              "      height: 32px;\n",
              "      padding: 0 0 0 0;\n",
              "      width: 32px;\n",
              "    }\n",
              "\n",
              "    .colab-df-convert:hover {\n",
              "      background-color: #E2EBFA;\n",
              "      box-shadow: 0px 1px 2px rgba(60, 64, 67, 0.3), 0px 1px 3px 1px rgba(60, 64, 67, 0.15);\n",
              "      fill: #174EA6;\n",
              "    }\n",
              "\n",
              "    [theme=dark] .colab-df-convert {\n",
              "      background-color: #3B4455;\n",
              "      fill: #D2E3FC;\n",
              "    }\n",
              "\n",
              "    [theme=dark] .colab-df-convert:hover {\n",
              "      background-color: #434B5C;\n",
              "      box-shadow: 0px 1px 3px 1px rgba(0, 0, 0, 0.15);\n",
              "      filter: drop-shadow(0px 1px 2px rgba(0, 0, 0, 0.3));\n",
              "      fill: #FFFFFF;\n",
              "    }\n",
              "  </style>\n",
              "\n",
              "      <script>\n",
              "        const buttonEl =\n",
              "          document.querySelector('#df-11b9957e-b618-45d8-b3a6-2f2ba8d643c1 button.colab-df-convert');\n",
              "        buttonEl.style.display =\n",
              "          google.colab.kernel.accessAllowed ? 'block' : 'none';\n",
              "\n",
              "        async function convertToInteractive(key) {\n",
              "          const element = document.querySelector('#df-11b9957e-b618-45d8-b3a6-2f2ba8d643c1');\n",
              "          const dataTable =\n",
              "            await google.colab.kernel.invokeFunction('convertToInteractive',\n",
              "                                                     [key], {});\n",
              "          if (!dataTable) return;\n",
              "\n",
              "          const docLinkHtml = 'Like what you see? Visit the ' +\n",
              "            '<a target=\"_blank\" href=https://colab.research.google.com/notebooks/data_table.ipynb>data table notebook</a>'\n",
              "            + ' to learn more about interactive tables.';\n",
              "          element.innerHTML = '';\n",
              "          dataTable['output_type'] = 'display_data';\n",
              "          await google.colab.output.renderOutput(dataTable, element);\n",
              "          const docLink = document.createElement('div');\n",
              "          docLink.innerHTML = docLinkHtml;\n",
              "          element.appendChild(docLink);\n",
              "        }\n",
              "      </script>\n",
              "    </div>\n",
              "  </div>\n",
              "  "
            ]
          },
          "metadata": {},
          "execution_count": 168
        }
      ],
      "source": [
        "## Merge de todas as tabelas finais já tratadas e codificadas\n",
        "df = pd.merge(dfpa_final, dfd_final, how='inner', on='record_id')\n",
        "df = pd.merge(df, dfrt_final, how='inner', on='record_id')\n",
        "df = pd.merge(df, dfh_final, how='inner', on='record_id')\n",
        "df = df.drop(columns = 'Repeat_Instance')\n",
        "\n",
        "df"
      ]
    },
    {
      "cell_type": "markdown",
      "metadata": {
        "id": "GCZRk5XQhtkI"
      },
      "source": [
        "# 4 Target"
      ]
    },
    {
      "cell_type": "code",
      "execution_count": null,
      "metadata": {
        "id": "tLjFYL_tiSZo"
      },
      "outputs": [],
      "source": [
        "#Nosso target é a relação entre o a recidiva e o estado de vida do paciente (morreu de cancer ou está vivo)\n",
        "df['target'] = np.where((df['ultima_informacao'] == 'Obito por câncer')|(df['cinco_anos_sem_rencidiva'] == 0), 0, 1)"
      ]
    },
    {
      "cell_type": "code",
      "execution_count": null,
      "metadata": {
        "colab": {
          "base_uri": "https://localhost:8080/"
        },
        "id": "u9wV4yHlmNNM",
        "outputId": "d631d72f-1d86-47d9-8b57-32d6e897df4f"
      },
      "outputs": [
        {
          "output_type": "execute_result",
          "data": {
            "text/plain": [
              "Index(['record_id', 'Peso', 'IMC', 'Altura', 'sexo',\n",
              "       'idade_primeiro_diagnostico', 'ultima_informacao', 'engravidou',\n",
              "       'tempo_de_amamentacao', 'tem_historico_de_cancer?', 'tratamento',\n",
              "       'amamentou_na_primeira_gestacao', 'idade_primeira_menstruacao',\n",
              "       'idade_primeira_gestacao', 'new_grupo_estadio_clinico',\n",
              "       'classificacao_tnm_clinico_t', 'classificacao_tnm_clinico_n',\n",
              "       'classificacao_tnm_clinico_m', 'descricao_da_topografia_', 'recidiva',\n",
              "       'cinco_anos_sem_rencidiva', 'grau_histologico', 'subtipo_tumoral',\n",
              "       'indice_h_receptorde_progesterona', 'ki67_pct', 'receptor_estrogenio',\n",
              "       'receptor_progesterona', 'ki67_maior14pct', 'her2_por_fish',\n",
              "       'her2_por_ihc', 'target'],\n",
              "      dtype='object')"
            ]
          },
          "metadata": {},
          "execution_count": 170
        }
      ],
      "source": [
        "df.columns"
      ]
    },
    {
      "cell_type": "code",
      "execution_count": null,
      "metadata": {
        "id": "3GsCsv6orGan"
      },
      "outputs": [],
      "source": [
        "#retirando o recidivas e ultima informação do df final para não passar as respostas para o modelo\n",
        "df = df.drop(columns = ['ultima_informacao'])\n",
        "df = df.drop(columns = ['cinco_anos_sem_rencidiva'])"
      ]
    },
    {
      "cell_type": "code",
      "execution_count": null,
      "metadata": {
        "colab": {
          "base_uri": "https://localhost:8080/"
        },
        "id": "fVrdtnOho0bC",
        "outputId": "4d488d35-7870-4848-c904-0503d07d3b4a"
      },
      "outputs": [
        {
          "output_type": "stream",
          "name": "stdout",
          "text": [
            "record_id :  0\n",
            "Peso :  0\n",
            "IMC :  0\n",
            "Altura :  0\n",
            "sexo :  0\n",
            "idade_primeiro_diagnostico :  0\n",
            "engravidou :  0\n",
            "tempo_de_amamentacao :  0\n",
            "tem_historico_de_cancer? :  0\n",
            "tratamento :  0\n",
            "amamentou_na_primeira_gestacao :  0\n",
            "idade_primeira_menstruacao :  0\n",
            "idade_primeira_gestacao :  0\n",
            "new_grupo_estadio_clinico :  0\n",
            "classificacao_tnm_clinico_t :  0\n",
            "classificacao_tnm_clinico_n :  0\n",
            "classificacao_tnm_clinico_m :  0\n",
            "descricao_da_topografia_ :  0\n",
            "recidiva :  0\n",
            "grau_histologico :  0\n",
            "subtipo_tumoral :  0\n",
            "indice_h_receptorde_progesterona :  0\n",
            "ki67_pct :  0\n",
            "receptor_estrogenio :  0\n",
            "receptor_progesterona :  0\n",
            "ki67_maior14pct :  0\n",
            "her2_por_fish :  0\n",
            "her2_por_ihc :  0\n",
            "target :  0\n"
          ]
        }
      ],
      "source": [
        "for i in df:\n",
        "  print(i,': ',df[i].isnull().sum())"
      ]
    },
    {
      "cell_type": "code",
      "execution_count": null,
      "metadata": {
        "id": "Lm5MC1vRpOfC"
      },
      "outputs": [],
      "source": [
        "df = df.dropna()"
      ]
    },
    {
      "cell_type": "markdown",
      "metadata": {
        "id": "0bO7PMIZJdb4"
      },
      "source": [
        "#5 Escolha das features"
      ]
    },
    {
      "cell_type": "markdown",
      "metadata": {
        "id": "13K9XfhpdKNs"
      },
      "source": [
        "###5.1 Features DFD"
      ]
    },
    {
      "cell_type": "markdown",
      "metadata": {
        "id": "MSeCCuf1avgG"
      },
      "source": [
        "A escolha das features da tabela dfd foi baseada principalmente nos encontros com o parceiro, nessas conversas o parceiro ressaltou algumas colunas importantes para a análise, as principais citadas e ratificadas foram: tempo_de_amamentacao, engravidou, amamentou_na_primeira_gestacao, tempo_seguimento_em_dias_desde_o_ultimo_tumor, atividade física e o tipo de tratamento. Mas também selecionamos features que podem contribuir para o modelo, então as selecionamos para testar uma possível contribuiçao, um exemplo disso é a coluna escolaridade.\n",
        "Por fim, as escolha baseou-se também na correlação entre as colunas de dfd e a coluna target, Dessa maneira retiramos parte das que tinham a menor correlação, bem como as que não serão úteis(tendo em vista que ele será usado na consulta na qual o tratamento será indicado) para o modelo como por exemplo \"data cirurgia\". Abaixo segue o gráfico da correlação das features escolhidas"
      ]
    },
    {
      "cell_type": "code",
      "execution_count": null,
      "metadata": {
        "colab": {
          "base_uri": "https://localhost:8080/"
        },
        "id": "qdtAh7mNL-5U",
        "outputId": "ec111bd7-ea8b-4677-9d03-4f4c598c1964"
      },
      "outputs": [
        {
          "output_type": "display_data",
          "data": {
            "text/html": [
              "<html>\n",
              "<head><meta charset=\"utf-8\" /></head>\n",
              "<body>\n",
              "    <div>            <script src=\"https://cdnjs.cloudflare.com/ajax/libs/mathjax/2.7.5/MathJax.js?config=TeX-AMS-MML_SVG\"></script><script type=\"text/javascript\">if (window.MathJax && window.MathJax.Hub && window.MathJax.Hub.Config) {window.MathJax.Hub.Config({SVG: {font: \"STIX-Web\"}});}</script>                <script type=\"text/javascript\">window.PlotlyConfig = {MathJaxConfig: 'local'};</script>\n",
              "        <script src=\"https://cdn.plot.ly/plotly-2.18.2.min.js\"></script>                <div id=\"5f3eada8-a45a-4be4-9778-d0fd169b3084\" class=\"plotly-graph-div\" style=\"height:525px; width:100%;\"></div>            <script type=\"text/javascript\">                                    window.PLOTLYENV=window.PLOTLYENV || {};                                    if (document.getElementById(\"5f3eada8-a45a-4be4-9778-d0fd169b3084\")) {                    Plotly.newPlot(                        \"5f3eada8-a45a-4be4-9778-d0fd169b3084\",                        [{\"alignmentgroup\":\"True\",\"hovertemplate\":\"index=%{x}<br>target=%{marker.color}<extra></extra>\",\"legendgroup\":\"\",\"marker\":{\"color\":[1.0,0.22194379348047777,0.10305348258547459,0.08552330869997775,0.06969145232575856,0.019651743574387554,0.013793010712360955,0.0017899476002462588,-0.012213356900413858,-0.08497613361281252,-0.08657250177176046],\"coloraxis\":\"coloraxis\",\"pattern\":{\"shape\":\"\"}},\"name\":\"\",\"offsetgroup\":\"\",\"orientation\":\"v\",\"showlegend\":false,\"textposition\":\"auto\",\"x\":[\"target\",\"tratamento\",\"idade_primeira_gestacao\",\"record_id\",\"tempo_de_amamentacao\",\"idade_primeiro_diagnostico\",\"idade_primeira_menstruacao\",\"sexo\",\"tem_historico_de_cancer?\",\"amamentou_na_primeira_gestacao\",\"engravidou\"],\"xaxis\":\"x\",\"y\":[1.0,0.22194379348047777,0.10305348258547459,0.08552330869997775,0.06969145232575856,0.019651743574387554,0.013793010712360955,0.0017899476002462588,-0.012213356900413858,-0.08497613361281252,-0.08657250177176046],\"yaxis\":\"y\",\"type\":\"bar\"}],                        {\"template\":{\"data\":{\"histogram2dcontour\":[{\"type\":\"histogram2dcontour\",\"colorbar\":{\"outlinewidth\":0,\"ticks\":\"\"},\"colorscale\":[[0.0,\"#0d0887\"],[0.1111111111111111,\"#46039f\"],[0.2222222222222222,\"#7201a8\"],[0.3333333333333333,\"#9c179e\"],[0.4444444444444444,\"#bd3786\"],[0.5555555555555556,\"#d8576b\"],[0.6666666666666666,\"#ed7953\"],[0.7777777777777778,\"#fb9f3a\"],[0.8888888888888888,\"#fdca26\"],[1.0,\"#f0f921\"]]}],\"choropleth\":[{\"type\":\"choropleth\",\"colorbar\":{\"outlinewidth\":0,\"ticks\":\"\"}}],\"histogram2d\":[{\"type\":\"histogram2d\",\"colorbar\":{\"outlinewidth\":0,\"ticks\":\"\"},\"colorscale\":[[0.0,\"#0d0887\"],[0.1111111111111111,\"#46039f\"],[0.2222222222222222,\"#7201a8\"],[0.3333333333333333,\"#9c179e\"],[0.4444444444444444,\"#bd3786\"],[0.5555555555555556,\"#d8576b\"],[0.6666666666666666,\"#ed7953\"],[0.7777777777777778,\"#fb9f3a\"],[0.8888888888888888,\"#fdca26\"],[1.0,\"#f0f921\"]]}],\"heatmap\":[{\"type\":\"heatmap\",\"colorbar\":{\"outlinewidth\":0,\"ticks\":\"\"},\"colorscale\":[[0.0,\"#0d0887\"],[0.1111111111111111,\"#46039f\"],[0.2222222222222222,\"#7201a8\"],[0.3333333333333333,\"#9c179e\"],[0.4444444444444444,\"#bd3786\"],[0.5555555555555556,\"#d8576b\"],[0.6666666666666666,\"#ed7953\"],[0.7777777777777778,\"#fb9f3a\"],[0.8888888888888888,\"#fdca26\"],[1.0,\"#f0f921\"]]}],\"heatmapgl\":[{\"type\":\"heatmapgl\",\"colorbar\":{\"outlinewidth\":0,\"ticks\":\"\"},\"colorscale\":[[0.0,\"#0d0887\"],[0.1111111111111111,\"#46039f\"],[0.2222222222222222,\"#7201a8\"],[0.3333333333333333,\"#9c179e\"],[0.4444444444444444,\"#bd3786\"],[0.5555555555555556,\"#d8576b\"],[0.6666666666666666,\"#ed7953\"],[0.7777777777777778,\"#fb9f3a\"],[0.8888888888888888,\"#fdca26\"],[1.0,\"#f0f921\"]]}],\"contourcarpet\":[{\"type\":\"contourcarpet\",\"colorbar\":{\"outlinewidth\":0,\"ticks\":\"\"}}],\"contour\":[{\"type\":\"contour\",\"colorbar\":{\"outlinewidth\":0,\"ticks\":\"\"},\"colorscale\":[[0.0,\"#0d0887\"],[0.1111111111111111,\"#46039f\"],[0.2222222222222222,\"#7201a8\"],[0.3333333333333333,\"#9c179e\"],[0.4444444444444444,\"#bd3786\"],[0.5555555555555556,\"#d8576b\"],[0.6666666666666666,\"#ed7953\"],[0.7777777777777778,\"#fb9f3a\"],[0.8888888888888888,\"#fdca26\"],[1.0,\"#f0f921\"]]}],\"surface\":[{\"type\":\"surface\",\"colorbar\":{\"outlinewidth\":0,\"ticks\":\"\"},\"colorscale\":[[0.0,\"#0d0887\"],[0.1111111111111111,\"#46039f\"],[0.2222222222222222,\"#7201a8\"],[0.3333333333333333,\"#9c179e\"],[0.4444444444444444,\"#bd3786\"],[0.5555555555555556,\"#d8576b\"],[0.6666666666666666,\"#ed7953\"],[0.7777777777777778,\"#fb9f3a\"],[0.8888888888888888,\"#fdca26\"],[1.0,\"#f0f921\"]]}],\"mesh3d\":[{\"type\":\"mesh3d\",\"colorbar\":{\"outlinewidth\":0,\"ticks\":\"\"}}],\"scatter\":[{\"fillpattern\":{\"fillmode\":\"overlay\",\"size\":10,\"solidity\":0.2},\"type\":\"scatter\"}],\"parcoords\":[{\"type\":\"parcoords\",\"line\":{\"colorbar\":{\"outlinewidth\":0,\"ticks\":\"\"}}}],\"scatterpolargl\":[{\"type\":\"scatterpolargl\",\"marker\":{\"colorbar\":{\"outlinewidth\":0,\"ticks\":\"\"}}}],\"bar\":[{\"error_x\":{\"color\":\"#2a3f5f\"},\"error_y\":{\"color\":\"#2a3f5f\"},\"marker\":{\"line\":{\"color\":\"#E5ECF6\",\"width\":0.5},\"pattern\":{\"fillmode\":\"overlay\",\"size\":10,\"solidity\":0.2}},\"type\":\"bar\"}],\"scattergeo\":[{\"type\":\"scattergeo\",\"marker\":{\"colorbar\":{\"outlinewidth\":0,\"ticks\":\"\"}}}],\"scatterpolar\":[{\"type\":\"scatterpolar\",\"marker\":{\"colorbar\":{\"outlinewidth\":0,\"ticks\":\"\"}}}],\"histogram\":[{\"marker\":{\"pattern\":{\"fillmode\":\"overlay\",\"size\":10,\"solidity\":0.2}},\"type\":\"histogram\"}],\"scattergl\":[{\"type\":\"scattergl\",\"marker\":{\"colorbar\":{\"outlinewidth\":0,\"ticks\":\"\"}}}],\"scatter3d\":[{\"type\":\"scatter3d\",\"line\":{\"colorbar\":{\"outlinewidth\":0,\"ticks\":\"\"}},\"marker\":{\"colorbar\":{\"outlinewidth\":0,\"ticks\":\"\"}}}],\"scattermapbox\":[{\"type\":\"scattermapbox\",\"marker\":{\"colorbar\":{\"outlinewidth\":0,\"ticks\":\"\"}}}],\"scatterternary\":[{\"type\":\"scatterternary\",\"marker\":{\"colorbar\":{\"outlinewidth\":0,\"ticks\":\"\"}}}],\"scattercarpet\":[{\"type\":\"scattercarpet\",\"marker\":{\"colorbar\":{\"outlinewidth\":0,\"ticks\":\"\"}}}],\"carpet\":[{\"aaxis\":{\"endlinecolor\":\"#2a3f5f\",\"gridcolor\":\"white\",\"linecolor\":\"white\",\"minorgridcolor\":\"white\",\"startlinecolor\":\"#2a3f5f\"},\"baxis\":{\"endlinecolor\":\"#2a3f5f\",\"gridcolor\":\"white\",\"linecolor\":\"white\",\"minorgridcolor\":\"white\",\"startlinecolor\":\"#2a3f5f\"},\"type\":\"carpet\"}],\"table\":[{\"cells\":{\"fill\":{\"color\":\"#EBF0F8\"},\"line\":{\"color\":\"white\"}},\"header\":{\"fill\":{\"color\":\"#C8D4E3\"},\"line\":{\"color\":\"white\"}},\"type\":\"table\"}],\"barpolar\":[{\"marker\":{\"line\":{\"color\":\"#E5ECF6\",\"width\":0.5},\"pattern\":{\"fillmode\":\"overlay\",\"size\":10,\"solidity\":0.2}},\"type\":\"barpolar\"}],\"pie\":[{\"automargin\":true,\"type\":\"pie\"}]},\"layout\":{\"autotypenumbers\":\"strict\",\"colorway\":[\"#636efa\",\"#EF553B\",\"#00cc96\",\"#ab63fa\",\"#FFA15A\",\"#19d3f3\",\"#FF6692\",\"#B6E880\",\"#FF97FF\",\"#FECB52\"],\"font\":{\"color\":\"#2a3f5f\"},\"hovermode\":\"closest\",\"hoverlabel\":{\"align\":\"left\"},\"paper_bgcolor\":\"white\",\"plot_bgcolor\":\"#E5ECF6\",\"polar\":{\"bgcolor\":\"#E5ECF6\",\"angularaxis\":{\"gridcolor\":\"white\",\"linecolor\":\"white\",\"ticks\":\"\"},\"radialaxis\":{\"gridcolor\":\"white\",\"linecolor\":\"white\",\"ticks\":\"\"}},\"ternary\":{\"bgcolor\":\"#E5ECF6\",\"aaxis\":{\"gridcolor\":\"white\",\"linecolor\":\"white\",\"ticks\":\"\"},\"baxis\":{\"gridcolor\":\"white\",\"linecolor\":\"white\",\"ticks\":\"\"},\"caxis\":{\"gridcolor\":\"white\",\"linecolor\":\"white\",\"ticks\":\"\"}},\"coloraxis\":{\"colorbar\":{\"outlinewidth\":0,\"ticks\":\"\"}},\"colorscale\":{\"sequential\":[[0.0,\"#0d0887\"],[0.1111111111111111,\"#46039f\"],[0.2222222222222222,\"#7201a8\"],[0.3333333333333333,\"#9c179e\"],[0.4444444444444444,\"#bd3786\"],[0.5555555555555556,\"#d8576b\"],[0.6666666666666666,\"#ed7953\"],[0.7777777777777778,\"#fb9f3a\"],[0.8888888888888888,\"#fdca26\"],[1.0,\"#f0f921\"]],\"sequentialminus\":[[0.0,\"#0d0887\"],[0.1111111111111111,\"#46039f\"],[0.2222222222222222,\"#7201a8\"],[0.3333333333333333,\"#9c179e\"],[0.4444444444444444,\"#bd3786\"],[0.5555555555555556,\"#d8576b\"],[0.6666666666666666,\"#ed7953\"],[0.7777777777777778,\"#fb9f3a\"],[0.8888888888888888,\"#fdca26\"],[1.0,\"#f0f921\"]],\"diverging\":[[0,\"#8e0152\"],[0.1,\"#c51b7d\"],[0.2,\"#de77ae\"],[0.3,\"#f1b6da\"],[0.4,\"#fde0ef\"],[0.5,\"#f7f7f7\"],[0.6,\"#e6f5d0\"],[0.7,\"#b8e186\"],[0.8,\"#7fbc41\"],[0.9,\"#4d9221\"],[1,\"#276419\"]]},\"xaxis\":{\"gridcolor\":\"white\",\"linecolor\":\"white\",\"ticks\":\"\",\"title\":{\"standoff\":15},\"zerolinecolor\":\"white\",\"automargin\":true,\"zerolinewidth\":2},\"yaxis\":{\"gridcolor\":\"white\",\"linecolor\":\"white\",\"ticks\":\"\",\"title\":{\"standoff\":15},\"zerolinecolor\":\"white\",\"automargin\":true,\"zerolinewidth\":2},\"scene\":{\"xaxis\":{\"backgroundcolor\":\"#E5ECF6\",\"gridcolor\":\"white\",\"linecolor\":\"white\",\"showbackground\":true,\"ticks\":\"\",\"zerolinecolor\":\"white\",\"gridwidth\":2},\"yaxis\":{\"backgroundcolor\":\"#E5ECF6\",\"gridcolor\":\"white\",\"linecolor\":\"white\",\"showbackground\":true,\"ticks\":\"\",\"zerolinecolor\":\"white\",\"gridwidth\":2},\"zaxis\":{\"backgroundcolor\":\"#E5ECF6\",\"gridcolor\":\"white\",\"linecolor\":\"white\",\"showbackground\":true,\"ticks\":\"\",\"zerolinecolor\":\"white\",\"gridwidth\":2}},\"shapedefaults\":{\"line\":{\"color\":\"#2a3f5f\"}},\"annotationdefaults\":{\"arrowcolor\":\"#2a3f5f\",\"arrowhead\":0,\"arrowwidth\":1},\"geo\":{\"bgcolor\":\"white\",\"landcolor\":\"#E5ECF6\",\"subunitcolor\":\"white\",\"showland\":true,\"showlakes\":true,\"lakecolor\":\"white\"},\"title\":{\"x\":0.05},\"mapbox\":{\"style\":\"light\"}}},\"xaxis\":{\"anchor\":\"y\",\"domain\":[0.0,1.0],\"title\":{\"text\":\"Colunas\"}},\"yaxis\":{\"anchor\":\"x\",\"domain\":[0.0,1.0],\"title\":{\"text\":\"Correla\\u00e7\\u00e3o em rela\\u00e7\\u00e3o ao target\"},\"range\":[-1,1]},\"coloraxis\":{\"colorbar\":{\"title\":{\"text\":\"target\"}},\"colorscale\":[[0.0,\"#0d0887\"],[0.1111111111111111,\"#46039f\"],[0.2222222222222222,\"#7201a8\"],[0.3333333333333333,\"#9c179e\"],[0.4444444444444444,\"#bd3786\"],[0.5555555555555556,\"#d8576b\"],[0.6666666666666666,\"#ed7953\"],[0.7777777777777778,\"#fb9f3a\"],[0.8888888888888888,\"#fdca26\"],[1.0,\"#f0f921\"]]},\"legend\":{\"tracegroupgap\":0},\"margin\":{\"t\":60},\"barmode\":\"relative\",\"title\":{\"text\":\"Gr\\u00e1fico de correla\\u00e7\\u00e3o\"}},                        {\"responsive\": true}                    ).then(function(){\n",
              "                            \n",
              "var gd = document.getElementById('5f3eada8-a45a-4be4-9778-d0fd169b3084');\n",
              "var x = new MutationObserver(function (mutations, observer) {{\n",
              "        var display = window.getComputedStyle(gd).display;\n",
              "        if (!display || display === 'none') {{\n",
              "            console.log([gd, 'removed!']);\n",
              "            Plotly.purge(gd);\n",
              "            observer.disconnect();\n",
              "        }}\n",
              "}});\n",
              "\n",
              "// Listen for the removal of the full notebook cells\n",
              "var notebookContainer = gd.closest('#notebook-container');\n",
              "if (notebookContainer) {{\n",
              "    x.observe(notebookContainer, {childList: true});\n",
              "}}\n",
              "\n",
              "// Listen for the clearing of the current output cell\n",
              "var outputEl = gd.closest('.output');\n",
              "if (outputEl) {{\n",
              "    x.observe(outputEl, {childList: true});\n",
              "}}\n",
              "\n",
              "                        })                };                            </script>        </div>\n",
              "</body>\n",
              "</html>"
            ]
          },
          "metadata": {}
        }
      ],
      "source": [
        "relacao_dfd = pd.merge(dfd_final, df[['record_id','target']], how='inner', on='record_id')\n",
        "relacao_dfd = relacao_dfd.corr()[\"target\"].sort_values(ascending = False).to_frame().reset_index()\n",
        "relacao_dfd\n",
        "\n",
        "fig = px.bar(relacao_dfd, x='index', y='target',\n",
        "             hover_data=['target'], color='target',)\n",
        "fig.update_layout(yaxis_range=[-1, 1],title=\"Gráfico de correlação\",\n",
        "    xaxis_title=\"Colunas\",\n",
        "    yaxis_title=\"Correlação em relação ao target\")\n",
        "fig.show()"
      ]
    },
    {
      "cell_type": "code",
      "execution_count": null,
      "metadata": {
        "colab": {
          "base_uri": "https://localhost:8080/"
        },
        "id": "wCHqLwBqPVr3",
        "outputId": "735f0521-defa-4317-f6b2-3206f9fb65be"
      },
      "outputs": [
        {
          "output_type": "execute_result",
          "data": {
            "text/plain": [
              "                             index    target\n",
              "0                           target  1.000000\n",
              "1                       tratamento  0.221944\n",
              "2          idade_primeira_gestacao  0.103053\n",
              "3                        record_id  0.085523\n",
              "4             tempo_de_amamentacao  0.069691\n",
              "5       idade_primeiro_diagnostico  0.019652\n",
              "6       idade_primeira_menstruacao  0.013793\n",
              "7                             sexo  0.001790\n",
              "8         tem_historico_de_cancer? -0.012213\n",
              "9   amamentou_na_primeira_gestacao -0.084976\n",
              "10                      engravidou -0.086573"
            ],
            "text/html": [
              "\n",
              "  <div id=\"df-9e10f37b-1077-4a09-b88d-bd5588e39d12\">\n",
              "    <div class=\"colab-df-container\">\n",
              "      <div>\n",
              "<style scoped>\n",
              "    .dataframe tbody tr th:only-of-type {\n",
              "        vertical-align: middle;\n",
              "    }\n",
              "\n",
              "    .dataframe tbody tr th {\n",
              "        vertical-align: top;\n",
              "    }\n",
              "\n",
              "    .dataframe thead th {\n",
              "        text-align: right;\n",
              "    }\n",
              "</style>\n",
              "<table border=\"1\" class=\"dataframe\">\n",
              "  <thead>\n",
              "    <tr style=\"text-align: right;\">\n",
              "      <th></th>\n",
              "      <th>index</th>\n",
              "      <th>target</th>\n",
              "    </tr>\n",
              "  </thead>\n",
              "  <tbody>\n",
              "    <tr>\n",
              "      <th>0</th>\n",
              "      <td>target</td>\n",
              "      <td>1.000000</td>\n",
              "    </tr>\n",
              "    <tr>\n",
              "      <th>1</th>\n",
              "      <td>tratamento</td>\n",
              "      <td>0.221944</td>\n",
              "    </tr>\n",
              "    <tr>\n",
              "      <th>2</th>\n",
              "      <td>idade_primeira_gestacao</td>\n",
              "      <td>0.103053</td>\n",
              "    </tr>\n",
              "    <tr>\n",
              "      <th>3</th>\n",
              "      <td>record_id</td>\n",
              "      <td>0.085523</td>\n",
              "    </tr>\n",
              "    <tr>\n",
              "      <th>4</th>\n",
              "      <td>tempo_de_amamentacao</td>\n",
              "      <td>0.069691</td>\n",
              "    </tr>\n",
              "    <tr>\n",
              "      <th>5</th>\n",
              "      <td>idade_primeiro_diagnostico</td>\n",
              "      <td>0.019652</td>\n",
              "    </tr>\n",
              "    <tr>\n",
              "      <th>6</th>\n",
              "      <td>idade_primeira_menstruacao</td>\n",
              "      <td>0.013793</td>\n",
              "    </tr>\n",
              "    <tr>\n",
              "      <th>7</th>\n",
              "      <td>sexo</td>\n",
              "      <td>0.001790</td>\n",
              "    </tr>\n",
              "    <tr>\n",
              "      <th>8</th>\n",
              "      <td>tem_historico_de_cancer?</td>\n",
              "      <td>-0.012213</td>\n",
              "    </tr>\n",
              "    <tr>\n",
              "      <th>9</th>\n",
              "      <td>amamentou_na_primeira_gestacao</td>\n",
              "      <td>-0.084976</td>\n",
              "    </tr>\n",
              "    <tr>\n",
              "      <th>10</th>\n",
              "      <td>engravidou</td>\n",
              "      <td>-0.086573</td>\n",
              "    </tr>\n",
              "  </tbody>\n",
              "</table>\n",
              "</div>\n",
              "      <button class=\"colab-df-convert\" onclick=\"convertToInteractive('df-9e10f37b-1077-4a09-b88d-bd5588e39d12')\"\n",
              "              title=\"Convert this dataframe to an interactive table.\"\n",
              "              style=\"display:none;\">\n",
              "        \n",
              "  <svg xmlns=\"http://www.w3.org/2000/svg\" height=\"24px\"viewBox=\"0 0 24 24\"\n",
              "       width=\"24px\">\n",
              "    <path d=\"M0 0h24v24H0V0z\" fill=\"none\"/>\n",
              "    <path d=\"M18.56 5.44l.94 2.06.94-2.06 2.06-.94-2.06-.94-.94-2.06-.94 2.06-2.06.94zm-11 1L8.5 8.5l.94-2.06 2.06-.94-2.06-.94L8.5 2.5l-.94 2.06-2.06.94zm10 10l.94 2.06.94-2.06 2.06-.94-2.06-.94-.94-2.06-.94 2.06-2.06.94z\"/><path d=\"M17.41 7.96l-1.37-1.37c-.4-.4-.92-.59-1.43-.59-.52 0-1.04.2-1.43.59L10.3 9.45l-7.72 7.72c-.78.78-.78 2.05 0 2.83L4 21.41c.39.39.9.59 1.41.59.51 0 1.02-.2 1.41-.59l7.78-7.78 2.81-2.81c.8-.78.8-2.07 0-2.86zM5.41 20L4 18.59l7.72-7.72 1.47 1.35L5.41 20z\"/>\n",
              "  </svg>\n",
              "      </button>\n",
              "      \n",
              "  <style>\n",
              "    .colab-df-container {\n",
              "      display:flex;\n",
              "      flex-wrap:wrap;\n",
              "      gap: 12px;\n",
              "    }\n",
              "\n",
              "    .colab-df-convert {\n",
              "      background-color: #E8F0FE;\n",
              "      border: none;\n",
              "      border-radius: 50%;\n",
              "      cursor: pointer;\n",
              "      display: none;\n",
              "      fill: #1967D2;\n",
              "      height: 32px;\n",
              "      padding: 0 0 0 0;\n",
              "      width: 32px;\n",
              "    }\n",
              "\n",
              "    .colab-df-convert:hover {\n",
              "      background-color: #E2EBFA;\n",
              "      box-shadow: 0px 1px 2px rgba(60, 64, 67, 0.3), 0px 1px 3px 1px rgba(60, 64, 67, 0.15);\n",
              "      fill: #174EA6;\n",
              "    }\n",
              "\n",
              "    [theme=dark] .colab-df-convert {\n",
              "      background-color: #3B4455;\n",
              "      fill: #D2E3FC;\n",
              "    }\n",
              "\n",
              "    [theme=dark] .colab-df-convert:hover {\n",
              "      background-color: #434B5C;\n",
              "      box-shadow: 0px 1px 3px 1px rgba(0, 0, 0, 0.15);\n",
              "      filter: drop-shadow(0px 1px 2px rgba(0, 0, 0, 0.3));\n",
              "      fill: #FFFFFF;\n",
              "    }\n",
              "  </style>\n",
              "\n",
              "      <script>\n",
              "        const buttonEl =\n",
              "          document.querySelector('#df-9e10f37b-1077-4a09-b88d-bd5588e39d12 button.colab-df-convert');\n",
              "        buttonEl.style.display =\n",
              "          google.colab.kernel.accessAllowed ? 'block' : 'none';\n",
              "\n",
              "        async function convertToInteractive(key) {\n",
              "          const element = document.querySelector('#df-9e10f37b-1077-4a09-b88d-bd5588e39d12');\n",
              "          const dataTable =\n",
              "            await google.colab.kernel.invokeFunction('convertToInteractive',\n",
              "                                                     [key], {});\n",
              "          if (!dataTable) return;\n",
              "\n",
              "          const docLinkHtml = 'Like what you see? Visit the ' +\n",
              "            '<a target=\"_blank\" href=https://colab.research.google.com/notebooks/data_table.ipynb>data table notebook</a>'\n",
              "            + ' to learn more about interactive tables.';\n",
              "          element.innerHTML = '';\n",
              "          dataTable['output_type'] = 'display_data';\n",
              "          await google.colab.output.renderOutput(dataTable, element);\n",
              "          const docLink = document.createElement('div');\n",
              "          docLink.innerHTML = docLinkHtml;\n",
              "          element.appendChild(docLink);\n",
              "        }\n",
              "      </script>\n",
              "    </div>\n",
              "  </div>\n",
              "  "
            ]
          },
          "metadata": {},
          "execution_count": 175
        }
      ],
      "source": [
        "relacao_dfd"
      ]
    },
    {
      "cell_type": "code",
      "execution_count": null,
      "metadata": {
        "id": "PDXDsHp4jMcY"
      },
      "outputs": [],
      "source": [
        "lista_features_dfd = ['tempo_de_amamentacao', 'engravidou', 'amamentou_na_primeira_gestacao'] + [col for col in dfd_final if col.startswith('tratamento_')] + [col for col in dfd_final if col.startswith('atividade_fisica')]\n"
      ]
    },
    {
      "cell_type": "markdown",
      "metadata": {
        "id": "lhRgotDYdPL8"
      },
      "source": [
        "###5.2 Features DFPA"
      ]
    },
    {
      "cell_type": "markdown",
      "metadata": {
        "id": "mb8C50cMeJxR"
      },
      "source": [
        "Para as features de dfpa, optamos por retirar apenas a coluna \"Data\" que seria irrelevante para o modelo, tendo em vista que a data da medição não influenciará na prescrição do tratamento. Da mesma maneira como foi feito em dfd abaixo segue um gráfico da correlação entre as features."
      ]
    },
    {
      "cell_type": "code",
      "execution_count": null,
      "metadata": {
        "colab": {
          "base_uri": "https://localhost:8080/"
        },
        "id": "xCYF57ouddSs",
        "outputId": "98d2fe2a-200e-4f33-bb45-daa2f84f7928"
      },
      "outputs": [
        {
          "output_type": "display_data",
          "data": {
            "text/html": [
              "<html>\n",
              "<head><meta charset=\"utf-8\" /></head>\n",
              "<body>\n",
              "    <div>            <script src=\"https://cdnjs.cloudflare.com/ajax/libs/mathjax/2.7.5/MathJax.js?config=TeX-AMS-MML_SVG\"></script><script type=\"text/javascript\">if (window.MathJax && window.MathJax.Hub && window.MathJax.Hub.Config) {window.MathJax.Hub.Config({SVG: {font: \"STIX-Web\"}});}</script>                <script type=\"text/javascript\">window.PlotlyConfig = {MathJaxConfig: 'local'};</script>\n",
              "        <script src=\"https://cdn.plot.ly/plotly-2.18.2.min.js\"></script>                <div id=\"4e7e0b7a-47be-417c-985d-7ebfea3c44af\" class=\"plotly-graph-div\" style=\"height:400px; width:100%;\"></div>            <script type=\"text/javascript\">                                    window.PLOTLYENV=window.PLOTLYENV || {};                                    if (document.getElementById(\"4e7e0b7a-47be-417c-985d-7ebfea3c44af\")) {                    Plotly.newPlot(                        \"4e7e0b7a-47be-417c-985d-7ebfea3c44af\",                        [{\"alignmentgroup\":\"True\",\"hovertemplate\":\"index=%{x}<br>target=%{marker.color}<extra></extra>\",\"legendgroup\":\"\",\"marker\":{\"color\":[1.0,0.08552330869997775,0.0180105347863503,0.011351423062994593,0.004096868132876992],\"coloraxis\":\"coloraxis\",\"pattern\":{\"shape\":\"\"}},\"name\":\"\",\"offsetgroup\":\"\",\"orientation\":\"v\",\"showlegend\":false,\"textposition\":\"auto\",\"x\":[\"target\",\"record_id\",\"Altura\",\"Peso\",\"IMC\"],\"xaxis\":\"x\",\"y\":[1.0,0.08552330869997775,0.0180105347863503,0.011351423062994593,0.004096868132876992],\"yaxis\":\"y\",\"type\":\"bar\"}],                        {\"template\":{\"data\":{\"histogram2dcontour\":[{\"type\":\"histogram2dcontour\",\"colorbar\":{\"outlinewidth\":0,\"ticks\":\"\"},\"colorscale\":[[0.0,\"#0d0887\"],[0.1111111111111111,\"#46039f\"],[0.2222222222222222,\"#7201a8\"],[0.3333333333333333,\"#9c179e\"],[0.4444444444444444,\"#bd3786\"],[0.5555555555555556,\"#d8576b\"],[0.6666666666666666,\"#ed7953\"],[0.7777777777777778,\"#fb9f3a\"],[0.8888888888888888,\"#fdca26\"],[1.0,\"#f0f921\"]]}],\"choropleth\":[{\"type\":\"choropleth\",\"colorbar\":{\"outlinewidth\":0,\"ticks\":\"\"}}],\"histogram2d\":[{\"type\":\"histogram2d\",\"colorbar\":{\"outlinewidth\":0,\"ticks\":\"\"},\"colorscale\":[[0.0,\"#0d0887\"],[0.1111111111111111,\"#46039f\"],[0.2222222222222222,\"#7201a8\"],[0.3333333333333333,\"#9c179e\"],[0.4444444444444444,\"#bd3786\"],[0.5555555555555556,\"#d8576b\"],[0.6666666666666666,\"#ed7953\"],[0.7777777777777778,\"#fb9f3a\"],[0.8888888888888888,\"#fdca26\"],[1.0,\"#f0f921\"]]}],\"heatmap\":[{\"type\":\"heatmap\",\"colorbar\":{\"outlinewidth\":0,\"ticks\":\"\"},\"colorscale\":[[0.0,\"#0d0887\"],[0.1111111111111111,\"#46039f\"],[0.2222222222222222,\"#7201a8\"],[0.3333333333333333,\"#9c179e\"],[0.4444444444444444,\"#bd3786\"],[0.5555555555555556,\"#d8576b\"],[0.6666666666666666,\"#ed7953\"],[0.7777777777777778,\"#fb9f3a\"],[0.8888888888888888,\"#fdca26\"],[1.0,\"#f0f921\"]]}],\"heatmapgl\":[{\"type\":\"heatmapgl\",\"colorbar\":{\"outlinewidth\":0,\"ticks\":\"\"},\"colorscale\":[[0.0,\"#0d0887\"],[0.1111111111111111,\"#46039f\"],[0.2222222222222222,\"#7201a8\"],[0.3333333333333333,\"#9c179e\"],[0.4444444444444444,\"#bd3786\"],[0.5555555555555556,\"#d8576b\"],[0.6666666666666666,\"#ed7953\"],[0.7777777777777778,\"#fb9f3a\"],[0.8888888888888888,\"#fdca26\"],[1.0,\"#f0f921\"]]}],\"contourcarpet\":[{\"type\":\"contourcarpet\",\"colorbar\":{\"outlinewidth\":0,\"ticks\":\"\"}}],\"contour\":[{\"type\":\"contour\",\"colorbar\":{\"outlinewidth\":0,\"ticks\":\"\"},\"colorscale\":[[0.0,\"#0d0887\"],[0.1111111111111111,\"#46039f\"],[0.2222222222222222,\"#7201a8\"],[0.3333333333333333,\"#9c179e\"],[0.4444444444444444,\"#bd3786\"],[0.5555555555555556,\"#d8576b\"],[0.6666666666666666,\"#ed7953\"],[0.7777777777777778,\"#fb9f3a\"],[0.8888888888888888,\"#fdca26\"],[1.0,\"#f0f921\"]]}],\"surface\":[{\"type\":\"surface\",\"colorbar\":{\"outlinewidth\":0,\"ticks\":\"\"},\"colorscale\":[[0.0,\"#0d0887\"],[0.1111111111111111,\"#46039f\"],[0.2222222222222222,\"#7201a8\"],[0.3333333333333333,\"#9c179e\"],[0.4444444444444444,\"#bd3786\"],[0.5555555555555556,\"#d8576b\"],[0.6666666666666666,\"#ed7953\"],[0.7777777777777778,\"#fb9f3a\"],[0.8888888888888888,\"#fdca26\"],[1.0,\"#f0f921\"]]}],\"mesh3d\":[{\"type\":\"mesh3d\",\"colorbar\":{\"outlinewidth\":0,\"ticks\":\"\"}}],\"scatter\":[{\"fillpattern\":{\"fillmode\":\"overlay\",\"size\":10,\"solidity\":0.2},\"type\":\"scatter\"}],\"parcoords\":[{\"type\":\"parcoords\",\"line\":{\"colorbar\":{\"outlinewidth\":0,\"ticks\":\"\"}}}],\"scatterpolargl\":[{\"type\":\"scatterpolargl\",\"marker\":{\"colorbar\":{\"outlinewidth\":0,\"ticks\":\"\"}}}],\"bar\":[{\"error_x\":{\"color\":\"#2a3f5f\"},\"error_y\":{\"color\":\"#2a3f5f\"},\"marker\":{\"line\":{\"color\":\"#E5ECF6\",\"width\":0.5},\"pattern\":{\"fillmode\":\"overlay\",\"size\":10,\"solidity\":0.2}},\"type\":\"bar\"}],\"scattergeo\":[{\"type\":\"scattergeo\",\"marker\":{\"colorbar\":{\"outlinewidth\":0,\"ticks\":\"\"}}}],\"scatterpolar\":[{\"type\":\"scatterpolar\",\"marker\":{\"colorbar\":{\"outlinewidth\":0,\"ticks\":\"\"}}}],\"histogram\":[{\"marker\":{\"pattern\":{\"fillmode\":\"overlay\",\"size\":10,\"solidity\":0.2}},\"type\":\"histogram\"}],\"scattergl\":[{\"type\":\"scattergl\",\"marker\":{\"colorbar\":{\"outlinewidth\":0,\"ticks\":\"\"}}}],\"scatter3d\":[{\"type\":\"scatter3d\",\"line\":{\"colorbar\":{\"outlinewidth\":0,\"ticks\":\"\"}},\"marker\":{\"colorbar\":{\"outlinewidth\":0,\"ticks\":\"\"}}}],\"scattermapbox\":[{\"type\":\"scattermapbox\",\"marker\":{\"colorbar\":{\"outlinewidth\":0,\"ticks\":\"\"}}}],\"scatterternary\":[{\"type\":\"scatterternary\",\"marker\":{\"colorbar\":{\"outlinewidth\":0,\"ticks\":\"\"}}}],\"scattercarpet\":[{\"type\":\"scattercarpet\",\"marker\":{\"colorbar\":{\"outlinewidth\":0,\"ticks\":\"\"}}}],\"carpet\":[{\"aaxis\":{\"endlinecolor\":\"#2a3f5f\",\"gridcolor\":\"white\",\"linecolor\":\"white\",\"minorgridcolor\":\"white\",\"startlinecolor\":\"#2a3f5f\"},\"baxis\":{\"endlinecolor\":\"#2a3f5f\",\"gridcolor\":\"white\",\"linecolor\":\"white\",\"minorgridcolor\":\"white\",\"startlinecolor\":\"#2a3f5f\"},\"type\":\"carpet\"}],\"table\":[{\"cells\":{\"fill\":{\"color\":\"#EBF0F8\"},\"line\":{\"color\":\"white\"}},\"header\":{\"fill\":{\"color\":\"#C8D4E3\"},\"line\":{\"color\":\"white\"}},\"type\":\"table\"}],\"barpolar\":[{\"marker\":{\"line\":{\"color\":\"#E5ECF6\",\"width\":0.5},\"pattern\":{\"fillmode\":\"overlay\",\"size\":10,\"solidity\":0.2}},\"type\":\"barpolar\"}],\"pie\":[{\"automargin\":true,\"type\":\"pie\"}]},\"layout\":{\"autotypenumbers\":\"strict\",\"colorway\":[\"#636efa\",\"#EF553B\",\"#00cc96\",\"#ab63fa\",\"#FFA15A\",\"#19d3f3\",\"#FF6692\",\"#B6E880\",\"#FF97FF\",\"#FECB52\"],\"font\":{\"color\":\"#2a3f5f\"},\"hovermode\":\"closest\",\"hoverlabel\":{\"align\":\"left\"},\"paper_bgcolor\":\"white\",\"plot_bgcolor\":\"#E5ECF6\",\"polar\":{\"bgcolor\":\"#E5ECF6\",\"angularaxis\":{\"gridcolor\":\"white\",\"linecolor\":\"white\",\"ticks\":\"\"},\"radialaxis\":{\"gridcolor\":\"white\",\"linecolor\":\"white\",\"ticks\":\"\"}},\"ternary\":{\"bgcolor\":\"#E5ECF6\",\"aaxis\":{\"gridcolor\":\"white\",\"linecolor\":\"white\",\"ticks\":\"\"},\"baxis\":{\"gridcolor\":\"white\",\"linecolor\":\"white\",\"ticks\":\"\"},\"caxis\":{\"gridcolor\":\"white\",\"linecolor\":\"white\",\"ticks\":\"\"}},\"coloraxis\":{\"colorbar\":{\"outlinewidth\":0,\"ticks\":\"\"}},\"colorscale\":{\"sequential\":[[0.0,\"#0d0887\"],[0.1111111111111111,\"#46039f\"],[0.2222222222222222,\"#7201a8\"],[0.3333333333333333,\"#9c179e\"],[0.4444444444444444,\"#bd3786\"],[0.5555555555555556,\"#d8576b\"],[0.6666666666666666,\"#ed7953\"],[0.7777777777777778,\"#fb9f3a\"],[0.8888888888888888,\"#fdca26\"],[1.0,\"#f0f921\"]],\"sequentialminus\":[[0.0,\"#0d0887\"],[0.1111111111111111,\"#46039f\"],[0.2222222222222222,\"#7201a8\"],[0.3333333333333333,\"#9c179e\"],[0.4444444444444444,\"#bd3786\"],[0.5555555555555556,\"#d8576b\"],[0.6666666666666666,\"#ed7953\"],[0.7777777777777778,\"#fb9f3a\"],[0.8888888888888888,\"#fdca26\"],[1.0,\"#f0f921\"]],\"diverging\":[[0,\"#8e0152\"],[0.1,\"#c51b7d\"],[0.2,\"#de77ae\"],[0.3,\"#f1b6da\"],[0.4,\"#fde0ef\"],[0.5,\"#f7f7f7\"],[0.6,\"#e6f5d0\"],[0.7,\"#b8e186\"],[0.8,\"#7fbc41\"],[0.9,\"#4d9221\"],[1,\"#276419\"]]},\"xaxis\":{\"gridcolor\":\"white\",\"linecolor\":\"white\",\"ticks\":\"\",\"title\":{\"standoff\":15},\"zerolinecolor\":\"white\",\"automargin\":true,\"zerolinewidth\":2},\"yaxis\":{\"gridcolor\":\"white\",\"linecolor\":\"white\",\"ticks\":\"\",\"title\":{\"standoff\":15},\"zerolinecolor\":\"white\",\"automargin\":true,\"zerolinewidth\":2},\"scene\":{\"xaxis\":{\"backgroundcolor\":\"#E5ECF6\",\"gridcolor\":\"white\",\"linecolor\":\"white\",\"showbackground\":true,\"ticks\":\"\",\"zerolinecolor\":\"white\",\"gridwidth\":2},\"yaxis\":{\"backgroundcolor\":\"#E5ECF6\",\"gridcolor\":\"white\",\"linecolor\":\"white\",\"showbackground\":true,\"ticks\":\"\",\"zerolinecolor\":\"white\",\"gridwidth\":2},\"zaxis\":{\"backgroundcolor\":\"#E5ECF6\",\"gridcolor\":\"white\",\"linecolor\":\"white\",\"showbackground\":true,\"ticks\":\"\",\"zerolinecolor\":\"white\",\"gridwidth\":2}},\"shapedefaults\":{\"line\":{\"color\":\"#2a3f5f\"}},\"annotationdefaults\":{\"arrowcolor\":\"#2a3f5f\",\"arrowhead\":0,\"arrowwidth\":1},\"geo\":{\"bgcolor\":\"white\",\"landcolor\":\"#E5ECF6\",\"subunitcolor\":\"white\",\"showland\":true,\"showlakes\":true,\"lakecolor\":\"white\"},\"title\":{\"x\":0.05},\"mapbox\":{\"style\":\"light\"}}},\"xaxis\":{\"anchor\":\"y\",\"domain\":[0.0,1.0],\"title\":{\"text\":\"Colunas\"}},\"yaxis\":{\"anchor\":\"x\",\"domain\":[0.0,1.0],\"title\":{\"text\":\"Correla\\u00e7\\u00e3o em rela\\u00e7\\u00e3o ao target\"},\"range\":[-0.1,0.2]},\"coloraxis\":{\"colorbar\":{\"title\":{\"text\":\"target\"}},\"colorscale\":[[0.0,\"#0d0887\"],[0.1111111111111111,\"#46039f\"],[0.2222222222222222,\"#7201a8\"],[0.3333333333333333,\"#9c179e\"],[0.4444444444444444,\"#bd3786\"],[0.5555555555555556,\"#d8576b\"],[0.6666666666666666,\"#ed7953\"],[0.7777777777777778,\"#fb9f3a\"],[0.8888888888888888,\"#fdca26\"],[1.0,\"#f0f921\"]]},\"legend\":{\"tracegroupgap\":0},\"margin\":{\"t\":60},\"barmode\":\"relative\",\"height\":400,\"title\":{\"text\":\"Gr\\u00e1fico de correla\\u00e7\\u00e3o\"}},                        {\"responsive\": true}                    ).then(function(){\n",
              "                            \n",
              "var gd = document.getElementById('4e7e0b7a-47be-417c-985d-7ebfea3c44af');\n",
              "var x = new MutationObserver(function (mutations, observer) {{\n",
              "        var display = window.getComputedStyle(gd).display;\n",
              "        if (!display || display === 'none') {{\n",
              "            console.log([gd, 'removed!']);\n",
              "            Plotly.purge(gd);\n",
              "            observer.disconnect();\n",
              "        }}\n",
              "}});\n",
              "\n",
              "// Listen for the removal of the full notebook cells\n",
              "var notebookContainer = gd.closest('#notebook-container');\n",
              "if (notebookContainer) {{\n",
              "    x.observe(notebookContainer, {childList: true});\n",
              "}}\n",
              "\n",
              "// Listen for the clearing of the current output cell\n",
              "var outputEl = gd.closest('.output');\n",
              "if (outputEl) {{\n",
              "    x.observe(outputEl, {childList: true});\n",
              "}}\n",
              "\n",
              "                        })                };                            </script>        </div>\n",
              "</body>\n",
              "</html>"
            ]
          },
          "metadata": {}
        }
      ],
      "source": [
        "relacao_dfpa = pd.merge(dfpa_final[['Peso','IMC','Altura','record_id']], df[['record_id','target']], how='inner', on='record_id')\n",
        "relacao_dfpa = relacao_dfpa.corr()[\"target\"].sort_values(ascending = False).to_frame().reset_index()\n",
        "relacao_dfpa\n",
        "fig = px.bar(relacao_dfpa, x='index', y='target',\n",
        "             hover_data=['target'], color='target',\n",
        "             labels={'correlação':'colunas'}, height=400)\n",
        "fig.update_layout(yaxis_range=[-0.10, 0.20],title=\"Gráfico de correlação\",\n",
        "    xaxis_title=\"Colunas\",\n",
        "    yaxis_title=\"Correlação em relação ao target\")\n",
        "fig.show()"
      ]
    },
    {
      "cell_type": "code",
      "execution_count": null,
      "metadata": {
        "colab": {
          "base_uri": "https://localhost:8080/"
        },
        "id": "D-tOjM6BgQk6",
        "outputId": "ec1eb55d-a1c6-4026-d232-db33daf470b0"
      },
      "outputs": [
        {
          "output_type": "execute_result",
          "data": {
            "text/plain": [
              "       index    target\n",
              "0     target  1.000000\n",
              "1  record_id  0.085523\n",
              "2     Altura  0.018011\n",
              "3       Peso  0.011351\n",
              "4        IMC  0.004097"
            ],
            "text/html": [
              "\n",
              "  <div id=\"df-5240603c-ee04-421b-922d-6009e5f4e49c\">\n",
              "    <div class=\"colab-df-container\">\n",
              "      <div>\n",
              "<style scoped>\n",
              "    .dataframe tbody tr th:only-of-type {\n",
              "        vertical-align: middle;\n",
              "    }\n",
              "\n",
              "    .dataframe tbody tr th {\n",
              "        vertical-align: top;\n",
              "    }\n",
              "\n",
              "    .dataframe thead th {\n",
              "        text-align: right;\n",
              "    }\n",
              "</style>\n",
              "<table border=\"1\" class=\"dataframe\">\n",
              "  <thead>\n",
              "    <tr style=\"text-align: right;\">\n",
              "      <th></th>\n",
              "      <th>index</th>\n",
              "      <th>target</th>\n",
              "    </tr>\n",
              "  </thead>\n",
              "  <tbody>\n",
              "    <tr>\n",
              "      <th>0</th>\n",
              "      <td>target</td>\n",
              "      <td>1.000000</td>\n",
              "    </tr>\n",
              "    <tr>\n",
              "      <th>1</th>\n",
              "      <td>record_id</td>\n",
              "      <td>0.085523</td>\n",
              "    </tr>\n",
              "    <tr>\n",
              "      <th>2</th>\n",
              "      <td>Altura</td>\n",
              "      <td>0.018011</td>\n",
              "    </tr>\n",
              "    <tr>\n",
              "      <th>3</th>\n",
              "      <td>Peso</td>\n",
              "      <td>0.011351</td>\n",
              "    </tr>\n",
              "    <tr>\n",
              "      <th>4</th>\n",
              "      <td>IMC</td>\n",
              "      <td>0.004097</td>\n",
              "    </tr>\n",
              "  </tbody>\n",
              "</table>\n",
              "</div>\n",
              "      <button class=\"colab-df-convert\" onclick=\"convertToInteractive('df-5240603c-ee04-421b-922d-6009e5f4e49c')\"\n",
              "              title=\"Convert this dataframe to an interactive table.\"\n",
              "              style=\"display:none;\">\n",
              "        \n",
              "  <svg xmlns=\"http://www.w3.org/2000/svg\" height=\"24px\"viewBox=\"0 0 24 24\"\n",
              "       width=\"24px\">\n",
              "    <path d=\"M0 0h24v24H0V0z\" fill=\"none\"/>\n",
              "    <path d=\"M18.56 5.44l.94 2.06.94-2.06 2.06-.94-2.06-.94-.94-2.06-.94 2.06-2.06.94zm-11 1L8.5 8.5l.94-2.06 2.06-.94-2.06-.94L8.5 2.5l-.94 2.06-2.06.94zm10 10l.94 2.06.94-2.06 2.06-.94-2.06-.94-.94-2.06-.94 2.06-2.06.94z\"/><path d=\"M17.41 7.96l-1.37-1.37c-.4-.4-.92-.59-1.43-.59-.52 0-1.04.2-1.43.59L10.3 9.45l-7.72 7.72c-.78.78-.78 2.05 0 2.83L4 21.41c.39.39.9.59 1.41.59.51 0 1.02-.2 1.41-.59l7.78-7.78 2.81-2.81c.8-.78.8-2.07 0-2.86zM5.41 20L4 18.59l7.72-7.72 1.47 1.35L5.41 20z\"/>\n",
              "  </svg>\n",
              "      </button>\n",
              "      \n",
              "  <style>\n",
              "    .colab-df-container {\n",
              "      display:flex;\n",
              "      flex-wrap:wrap;\n",
              "      gap: 12px;\n",
              "    }\n",
              "\n",
              "    .colab-df-convert {\n",
              "      background-color: #E8F0FE;\n",
              "      border: none;\n",
              "      border-radius: 50%;\n",
              "      cursor: pointer;\n",
              "      display: none;\n",
              "      fill: #1967D2;\n",
              "      height: 32px;\n",
              "      padding: 0 0 0 0;\n",
              "      width: 32px;\n",
              "    }\n",
              "\n",
              "    .colab-df-convert:hover {\n",
              "      background-color: #E2EBFA;\n",
              "      box-shadow: 0px 1px 2px rgba(60, 64, 67, 0.3), 0px 1px 3px 1px rgba(60, 64, 67, 0.15);\n",
              "      fill: #174EA6;\n",
              "    }\n",
              "\n",
              "    [theme=dark] .colab-df-convert {\n",
              "      background-color: #3B4455;\n",
              "      fill: #D2E3FC;\n",
              "    }\n",
              "\n",
              "    [theme=dark] .colab-df-convert:hover {\n",
              "      background-color: #434B5C;\n",
              "      box-shadow: 0px 1px 3px 1px rgba(0, 0, 0, 0.15);\n",
              "      filter: drop-shadow(0px 1px 2px rgba(0, 0, 0, 0.3));\n",
              "      fill: #FFFFFF;\n",
              "    }\n",
              "  </style>\n",
              "\n",
              "      <script>\n",
              "        const buttonEl =\n",
              "          document.querySelector('#df-5240603c-ee04-421b-922d-6009e5f4e49c button.colab-df-convert');\n",
              "        buttonEl.style.display =\n",
              "          google.colab.kernel.accessAllowed ? 'block' : 'none';\n",
              "\n",
              "        async function convertToInteractive(key) {\n",
              "          const element = document.querySelector('#df-5240603c-ee04-421b-922d-6009e5f4e49c');\n",
              "          const dataTable =\n",
              "            await google.colab.kernel.invokeFunction('convertToInteractive',\n",
              "                                                     [key], {});\n",
              "          if (!dataTable) return;\n",
              "\n",
              "          const docLinkHtml = 'Like what you see? Visit the ' +\n",
              "            '<a target=\"_blank\" href=https://colab.research.google.com/notebooks/data_table.ipynb>data table notebook</a>'\n",
              "            + ' to learn more about interactive tables.';\n",
              "          element.innerHTML = '';\n",
              "          dataTable['output_type'] = 'display_data';\n",
              "          await google.colab.output.renderOutput(dataTable, element);\n",
              "          const docLink = document.createElement('div');\n",
              "          docLink.innerHTML = docLinkHtml;\n",
              "          element.appendChild(docLink);\n",
              "        }\n",
              "      </script>\n",
              "    </div>\n",
              "  </div>\n",
              "  "
            ]
          },
          "metadata": {},
          "execution_count": 178
        }
      ],
      "source": [
        "relacao_dfpa"
      ]
    },
    {
      "cell_type": "code",
      "execution_count": null,
      "metadata": {
        "id": "8t12e17Vi-cw"
      },
      "outputs": [],
      "source": [
        "lista_features_dfpa = ['IMC', 'Peso', 'Altura']"
      ]
    },
    {
      "cell_type": "markdown",
      "metadata": {
        "id": "evmhd2irLxnH"
      },
      "source": [
        "### 5.3 Features DFH"
      ]
    },
    {
      "cell_type": "code",
      "execution_count": null,
      "metadata": {
        "colab": {
          "base_uri": "https://localhost:8080/"
        },
        "id": "70HibfgrL_SR",
        "outputId": "c72be658-66f0-4cca-a543-e4770cbda931"
      },
      "outputs": [
        {
          "output_type": "execute_result",
          "data": {
            "text/plain": [
              "Index(['record_id', 'grau_histologico', 'subtipo_tumoral',\n",
              "       'indice_h_receptorde_progesterona', 'ki67_pct', 'receptor_estrogenio',\n",
              "       'receptor_progesterona', 'ki67_maior14pct', 'her2_por_fish',\n",
              "       'her2_por_ihc'],\n",
              "      dtype='object')"
            ]
          },
          "metadata": {},
          "execution_count": 180
        }
      ],
      "source": [
        "dfh_final.columns"
      ]
    },
    {
      "cell_type": "code",
      "source": [
        "df.dtypes"
      ],
      "metadata": {
        "colab": {
          "base_uri": "https://localhost:8080/"
        },
        "id": "clCL0hp1yY1D",
        "outputId": "1b9b4445-b675-432d-c8fe-a1e0c4c1f0fc"
      },
      "execution_count": null,
      "outputs": [
        {
          "output_type": "execute_result",
          "data": {
            "text/plain": [
              "record_id                             int64\n",
              "Peso                                float64\n",
              "IMC                                 float64\n",
              "Altura                              float64\n",
              "sexo                                  int64\n",
              "idade_primeiro_diagnostico          float64\n",
              "engravidou                            int64\n",
              "tempo_de_amamentacao                float64\n",
              "tem_historico_de_cancer?              int64\n",
              "tratamento                            int64\n",
              "amamentou_na_primeira_gestacao        int64\n",
              "idade_primeira_menstruacao          float64\n",
              "idade_primeira_gestacao             float64\n",
              "new_grupo_estadio_clinico             int64\n",
              "classificacao_tnm_clinico_t           int64\n",
              "classificacao_tnm_clinico_n           int64\n",
              "classificacao_tnm_clinico_m          object\n",
              "descricao_da_topografia_             object\n",
              "recidiva                              int64\n",
              "grau_histologico                    float64\n",
              "subtipo_tumoral                     float64\n",
              "indice_h_receptorde_progesterona    float64\n",
              "ki67_pct                            float64\n",
              "receptor_estrogenio                   int64\n",
              "receptor_progesterona                 int64\n",
              "ki67_maior14pct                       int64\n",
              "her2_por_fish                       float64\n",
              "her2_por_ihc                          int64\n",
              "target                                int64\n",
              "dtype: object"
            ]
          },
          "metadata": {},
          "execution_count": 181
        }
      ]
    },
    {
      "cell_type": "code",
      "execution_count": null,
      "metadata": {
        "id": "8pn6nnn9Lw21",
        "colab": {
          "base_uri": "https://localhost:8080/",
          "height": 363
        },
        "outputId": "69b62f86-1222-44d5-faf9-0bf948fb5b40"
      },
      "outputs": [
        {
          "output_type": "execute_result",
          "data": {
            "text/plain": [
              "                              index    target\n",
              "0                            target  1.000000\n",
              "1                          ki67_pct  0.109804\n",
              "2               receptor_estrogenio  0.106055\n",
              "3                   ki67_maior14pct  0.105210\n",
              "4             receptor_progesterona  0.104051\n",
              "5                   subtipo_tumoral  0.092719\n",
              "6  indice_h_receptorde_progesterona  0.085516\n",
              "7                     her2_por_fish  0.027220\n",
              "8                      her2_por_ihc  0.025530\n",
              "9                  grau_histologico  0.009976"
            ],
            "text/html": [
              "\n",
              "  <div id=\"df-fbb4cf6e-470c-4778-b29b-c660fbc1e41d\">\n",
              "    <div class=\"colab-df-container\">\n",
              "      <div>\n",
              "<style scoped>\n",
              "    .dataframe tbody tr th:only-of-type {\n",
              "        vertical-align: middle;\n",
              "    }\n",
              "\n",
              "    .dataframe tbody tr th {\n",
              "        vertical-align: top;\n",
              "    }\n",
              "\n",
              "    .dataframe thead th {\n",
              "        text-align: right;\n",
              "    }\n",
              "</style>\n",
              "<table border=\"1\" class=\"dataframe\">\n",
              "  <thead>\n",
              "    <tr style=\"text-align: right;\">\n",
              "      <th></th>\n",
              "      <th>index</th>\n",
              "      <th>target</th>\n",
              "    </tr>\n",
              "  </thead>\n",
              "  <tbody>\n",
              "    <tr>\n",
              "      <th>0</th>\n",
              "      <td>target</td>\n",
              "      <td>1.000000</td>\n",
              "    </tr>\n",
              "    <tr>\n",
              "      <th>1</th>\n",
              "      <td>ki67_pct</td>\n",
              "      <td>0.109804</td>\n",
              "    </tr>\n",
              "    <tr>\n",
              "      <th>2</th>\n",
              "      <td>receptor_estrogenio</td>\n",
              "      <td>0.106055</td>\n",
              "    </tr>\n",
              "    <tr>\n",
              "      <th>3</th>\n",
              "      <td>ki67_maior14pct</td>\n",
              "      <td>0.105210</td>\n",
              "    </tr>\n",
              "    <tr>\n",
              "      <th>4</th>\n",
              "      <td>receptor_progesterona</td>\n",
              "      <td>0.104051</td>\n",
              "    </tr>\n",
              "    <tr>\n",
              "      <th>5</th>\n",
              "      <td>subtipo_tumoral</td>\n",
              "      <td>0.092719</td>\n",
              "    </tr>\n",
              "    <tr>\n",
              "      <th>6</th>\n",
              "      <td>indice_h_receptorde_progesterona</td>\n",
              "      <td>0.085516</td>\n",
              "    </tr>\n",
              "    <tr>\n",
              "      <th>7</th>\n",
              "      <td>her2_por_fish</td>\n",
              "      <td>0.027220</td>\n",
              "    </tr>\n",
              "    <tr>\n",
              "      <th>8</th>\n",
              "      <td>her2_por_ihc</td>\n",
              "      <td>0.025530</td>\n",
              "    </tr>\n",
              "    <tr>\n",
              "      <th>9</th>\n",
              "      <td>grau_histologico</td>\n",
              "      <td>0.009976</td>\n",
              "    </tr>\n",
              "  </tbody>\n",
              "</table>\n",
              "</div>\n",
              "      <button class=\"colab-df-convert\" onclick=\"convertToInteractive('df-fbb4cf6e-470c-4778-b29b-c660fbc1e41d')\"\n",
              "              title=\"Convert this dataframe to an interactive table.\"\n",
              "              style=\"display:none;\">\n",
              "        \n",
              "  <svg xmlns=\"http://www.w3.org/2000/svg\" height=\"24px\"viewBox=\"0 0 24 24\"\n",
              "       width=\"24px\">\n",
              "    <path d=\"M0 0h24v24H0V0z\" fill=\"none\"/>\n",
              "    <path d=\"M18.56 5.44l.94 2.06.94-2.06 2.06-.94-2.06-.94-.94-2.06-.94 2.06-2.06.94zm-11 1L8.5 8.5l.94-2.06 2.06-.94-2.06-.94L8.5 2.5l-.94 2.06-2.06.94zm10 10l.94 2.06.94-2.06 2.06-.94-2.06-.94-.94-2.06-.94 2.06-2.06.94z\"/><path d=\"M17.41 7.96l-1.37-1.37c-.4-.4-.92-.59-1.43-.59-.52 0-1.04.2-1.43.59L10.3 9.45l-7.72 7.72c-.78.78-.78 2.05 0 2.83L4 21.41c.39.39.9.59 1.41.59.51 0 1.02-.2 1.41-.59l7.78-7.78 2.81-2.81c.8-.78.8-2.07 0-2.86zM5.41 20L4 18.59l7.72-7.72 1.47 1.35L5.41 20z\"/>\n",
              "  </svg>\n",
              "      </button>\n",
              "      \n",
              "  <style>\n",
              "    .colab-df-container {\n",
              "      display:flex;\n",
              "      flex-wrap:wrap;\n",
              "      gap: 12px;\n",
              "    }\n",
              "\n",
              "    .colab-df-convert {\n",
              "      background-color: #E8F0FE;\n",
              "      border: none;\n",
              "      border-radius: 50%;\n",
              "      cursor: pointer;\n",
              "      display: none;\n",
              "      fill: #1967D2;\n",
              "      height: 32px;\n",
              "      padding: 0 0 0 0;\n",
              "      width: 32px;\n",
              "    }\n",
              "\n",
              "    .colab-df-convert:hover {\n",
              "      background-color: #E2EBFA;\n",
              "      box-shadow: 0px 1px 2px rgba(60, 64, 67, 0.3), 0px 1px 3px 1px rgba(60, 64, 67, 0.15);\n",
              "      fill: #174EA6;\n",
              "    }\n",
              "\n",
              "    [theme=dark] .colab-df-convert {\n",
              "      background-color: #3B4455;\n",
              "      fill: #D2E3FC;\n",
              "    }\n",
              "\n",
              "    [theme=dark] .colab-df-convert:hover {\n",
              "      background-color: #434B5C;\n",
              "      box-shadow: 0px 1px 3px 1px rgba(0, 0, 0, 0.15);\n",
              "      filter: drop-shadow(0px 1px 2px rgba(0, 0, 0, 0.3));\n",
              "      fill: #FFFFFF;\n",
              "    }\n",
              "  </style>\n",
              "\n",
              "      <script>\n",
              "        const buttonEl =\n",
              "          document.querySelector('#df-fbb4cf6e-470c-4778-b29b-c660fbc1e41d button.colab-df-convert');\n",
              "        buttonEl.style.display =\n",
              "          google.colab.kernel.accessAllowed ? 'block' : 'none';\n",
              "\n",
              "        async function convertToInteractive(key) {\n",
              "          const element = document.querySelector('#df-fbb4cf6e-470c-4778-b29b-c660fbc1e41d');\n",
              "          const dataTable =\n",
              "            await google.colab.kernel.invokeFunction('convertToInteractive',\n",
              "                                                     [key], {});\n",
              "          if (!dataTable) return;\n",
              "\n",
              "          const docLinkHtml = 'Like what you see? Visit the ' +\n",
              "            '<a target=\"_blank\" href=https://colab.research.google.com/notebooks/data_table.ipynb>data table notebook</a>'\n",
              "            + ' to learn more about interactive tables.';\n",
              "          element.innerHTML = '';\n",
              "          dataTable['output_type'] = 'display_data';\n",
              "          await google.colab.output.renderOutput(dataTable, element);\n",
              "          const docLink = document.createElement('div');\n",
              "          docLink.innerHTML = docLinkHtml;\n",
              "          element.appendChild(docLink);\n",
              "        }\n",
              "      </script>\n",
              "    </div>\n",
              "  </div>\n",
              "  "
            ]
          },
          "metadata": {},
          "execution_count": 182
        }
      ],
      "source": [
        "## Correlação com target\n",
        "relacao_dfh = df[['grau_histologico', 'subtipo_tumoral',\n",
        "                  'indice_h_receptorde_progesterona', 'ki67_pct', 'receptor_estrogenio',\n",
        "                  'receptor_progesterona', 'ki67_maior14pct', 'her2_por_fish',\n",
        "                  'her2_por_ihc', 'target']].corr()[\"target\"].abs().sort_values(ascending = False).to_frame().reset_index()\n",
        "\n",
        "'''\n",
        "'Adenomioepitelioma maligno',\n",
        "                  'CARCINOMA MAMÁRIO INVASIVO DO TIPO APÓCRINO',\n",
        "                  'Carcinoma de mama cistico adenoide',\n",
        "                  'Carcinoma de mama lobular in situ',\n",
        "                  'Carcinoma de mama lobular invasivo', 'Carcinoma de mama medular',\n",
        "                  'Carcinoma de mama metaplasico', 'Carcinoma de mama micropapilar',\n",
        "                  'Carcinoma de mama misto (ductal e lobular) invasivo',\n",
        "                  'Carcinoma de mama misto (ductal e micropapilífero) invasivo',\n",
        "                  'Carcinoma de mama mucinoso', 'Carcinoma de mama papilifero',\n",
        "                  'Carcinoma de mama tubular', 'Carcinoma lobular pleomórfico',\n",
        "                  'Carcinoma mamário invasivo multifocal',\n",
        "                  'NÃO-ESPECIAL - Carcinoma de mama ductal invasivo (CDI)/SOE',\n",
        "                  'Tumor PHYLLODES maligno',\n",
        "'''\n",
        "\n",
        "relacao_dfh"
      ]
    },
    {
      "cell_type": "code",
      "execution_count": null,
      "metadata": {
        "id": "U7qU1NCTUwd8",
        "colab": {
          "base_uri": "https://localhost:8080/"
        },
        "outputId": "ce09d454-16a5-43af-8389-56b9d00baab7"
      },
      "outputs": [
        {
          "output_type": "execute_result",
          "data": {
            "text/plain": [
              "['ki67_pct',\n",
              " 'receptor_estrogenio',\n",
              " 'ki67_maior14pct',\n",
              " 'receptor_progesterona',\n",
              " 'subtipo_tumoral',\n",
              " 'indice_h_receptorde_progesterona',\n",
              " 'her2_por_fish',\n",
              " 'her2_por_ihc']"
            ]
          },
          "metadata": {},
          "execution_count": 183
        }
      ],
      "source": [
        "## Seleção\n",
        "lista_features_dfh = list(relacao_dfh.query('target>0.02 & index!=\"target\"')['index'])\n",
        "lista_features_dfh"
      ]
    },
    {
      "cell_type": "markdown",
      "metadata": {
        "id": "Z5iCzgDDVBEB"
      },
      "source": [
        "Selecionamos apenas as colunas com maior correlação direta com o target (neste caso, todas com correlação linear acima de 0.02). Mesmo algumas destas tendo correlação relativamente baixa com o target, podem ter algum tipo de correlação não linear ou ser útil no modelo preditivo quando consideradas juntamente com outras features."
      ]
    },
    {
      "cell_type": "markdown",
      "metadata": {
        "id": "v7SBaxPgV0iM"
      },
      "source": [
        "### 5.4 Features DFRT"
      ]
    },
    {
      "cell_type": "code",
      "execution_count": null,
      "metadata": {
        "id": "0L8RIq1HVz-i",
        "colab": {
          "base_uri": "https://localhost:8080/"
        },
        "outputId": "9c3e45ca-860b-4fbd-d809-4cc82d1364ee"
      },
      "outputs": [
        {
          "output_type": "execute_result",
          "data": {
            "text/plain": [
              "Index(['index', 'record_id', 'repeat_instance',\n",
              "       'data_da_primeira_consulta_institucional_dt_pci', 'data_do_diagnostico',\n",
              "       'codigo_da_topografia_cid_o', 'codigo_da_morfologia_cid_o',\n",
              "       'estadio_clinico', 'grupo_estadio_clinico',\n",
              "       'classificacao_tnm_clinico_t', 'classificacao_tnm_clinico_n',\n",
              "       'classificacao_tnm_clinico_m', 'metastase_diagnostico_cid_o_1',\n",
              "       'metastase_diagnostico_cid_o_2', 'metastase_diagnostico_cid_o_3',\n",
              "       'metastase_diagnostico_cid_o_4', 'data_do_tratamento',\n",
              "       'combinacao_dos_tratamentos_realizados_no_hospital',\n",
              "       'Ano do diagnóstico', 'lateralidade_do_tumor', 'data_recidiva',\n",
              "       'tempo_desde_o_diagnostico_ate_primeira_recidiva_',\n",
              "       'local_recidiva_a _distancia_metastase_1_cid_o_topografia',\n",
              "       'local_recidiva_a _distancia_metastase_2_cid_o_topografia',\n",
              "       'local_recidiva_a _distancia_metastase_3_cid_o_topografia',\n",
              "       'local_recidiva_a _distancia_metastase_4_cid_o_topografia',\n",
              "       'descricao_da_morfologia_acordo_com_o_cid_o_cid_o_3_edicao',\n",
              "       'descricao_da_topografia_', 'classificacao_tnm_patologico_n',\n",
              "       'classificacao_tnm_patologico_t', 'com_recidiva_distancia',\n",
              "       'com_recidiva_regional', 'com_recidiva_local',\n",
              "       'new_grupo_estadio_clinico', 'recidiva', 'delta_recidiva_tratamento',\n",
              "       'cinco_anos_sem_rencidiva'],\n",
              "      dtype='object')"
            ]
          },
          "metadata": {},
          "execution_count": 184
        }
      ],
      "source": [
        "dfrt.columns"
      ]
    },
    {
      "cell_type": "code",
      "execution_count": null,
      "metadata": {
        "id": "IO7NzyCBiUrN",
        "colab": {
          "base_uri": "https://localhost:8080/"
        },
        "outputId": "b2fdf936-96b2-4ebe-a61f-502a9e22ce39"
      },
      "outputs": [
        {
          "output_type": "execute_result",
          "data": {
            "text/plain": [
              "Index(['record_id', 'new_grupo_estadio_clinico', 'classificacao_tnm_clinico_t',\n",
              "       'classificacao_tnm_clinico_n', 'classificacao_tnm_clinico_m',\n",
              "       'descricao_da_topografia_', 'recidiva', 'cinco_anos_sem_rencidiva'],\n",
              "      dtype='object')"
            ]
          },
          "metadata": {},
          "execution_count": 185
        }
      ],
      "source": [
        "dfrt_final.columns"
      ]
    },
    {
      "cell_type": "code",
      "execution_count": null,
      "metadata": {
        "id": "qs61zu3gV3AL"
      },
      "outputs": [],
      "source": [
        "## Correlação entre as features\n",
        "#### decidir quais colunas podem ser consideradas"
      ]
    },
    {
      "cell_type": "code",
      "execution_count": null,
      "metadata": {
        "id": "kGp8YaVdV3Br"
      },
      "outputs": [],
      "source": [
        "lista_features_dfrt = []"
      ]
    },
    {
      "cell_type": "markdown",
      "metadata": {
        "id": "-rdmB72bHRBy"
      },
      "source": [
        "# 6 Criação de modelo e definição de métricas para testes "
      ]
    },
    {
      "cell_type": "markdown",
      "metadata": {
        "id": "rE_7ab6PHkjS"
      },
      "source": [
        "## 6.1 Data Split"
      ]
    },
    {
      "cell_type": "code",
      "execution_count": null,
      "metadata": {
        "id": "7xkBxFxTHtk9"
      },
      "outputs": [],
      "source": [
        "#Separando o conjunto de treino e teste\n",
        "from sklearn.model_selection import train_test_split\n",
        "\n",
        "X = df[lista_features_dfd + lista_features_dfpa + lista_features_dfh + lista_features_dfrt] # lista_features_dfh, lista_features_dfrt\n",
        "y = df['target']\n",
        "\n",
        "X_train, X_test, y_train, y_test = train_test_split(X, y, test_size = 0.3, random_state = 51)"
      ]
    },
    {
      "cell_type": "code",
      "execution_count": null,
      "metadata": {
        "id": "Xh_pgCzilFug",
        "colab": {
          "base_uri": "https://localhost:8080/"
        },
        "outputId": "3c55a958-df67-4b6d-e2d8-8e5e175e9fc3"
      },
      "outputs": [
        {
          "output_type": "execute_result",
          "data": {
            "text/plain": [
              "tempo_de_amamentacao                0.0\n",
              "engravidou                          0.0\n",
              "amamentou_na_primeira_gestacao      0.0\n",
              "IMC                                 0.0\n",
              "Peso                                0.0\n",
              "Altura                              0.0\n",
              "ki67_pct                            0.0\n",
              "receptor_estrogenio                 0.0\n",
              "ki67_maior14pct                     0.0\n",
              "receptor_progesterona               0.0\n",
              "subtipo_tumoral                     0.0\n",
              "indice_h_receptorde_progesterona    0.0\n",
              "her2_por_fish                       0.0\n",
              "her2_por_ihc                        0.0\n",
              "dtype: float64"
            ]
          },
          "metadata": {},
          "execution_count": 189
        }
      ],
      "source": [
        "X.isnull().mean()"
      ]
    },
    {
      "cell_type": "markdown",
      "metadata": {
        "id": "t0k2mwSMFgFW"
      },
      "source": [
        "## 6.2 Normalização "
      ]
    },
    {
      "cell_type": "code",
      "execution_count": null,
      "metadata": {
        "id": "YdW3TsIgaV7D"
      },
      "outputs": [],
      "source": [
        "#Normalizando os conjutnos\n",
        "from sklearn.preprocessing import MinMaxScaler\n",
        "\n",
        "scaler = MinMaxScaler()\n",
        "X_train = scaler.fit_transform(X_train)\n",
        "\n",
        "X_test = scaler.transform(X_test)"
      ]
    },
    {
      "cell_type": "markdown",
      "metadata": {
        "id": "52lcItjQWs7e"
      },
      "source": [
        "## 6.3 CRIAÇÃO DOS MODELOS E COLOCAÇÃO DAS MÉTRICAS"
      ]
    },
    {
      "cell_type": "markdown",
      "metadata": {
        "id": "u64zo-JlADIw"
      },
      "source": [
        "####6.3.1 knn\n"
      ]
    },
    {
      "cell_type": "code",
      "execution_count": null,
      "metadata": {
        "id": "YJMSMzWGIIC0",
        "colab": {
          "base_uri": "https://localhost:8080/",
          "height": 369
        },
        "outputId": "ef37c902-40d0-4a12-dd80-31a327748851"
      },
      "outputs": [
        {
          "output_type": "stream",
          "name": "stdout",
          "text": [
            "Acurácia de treino: 0.786660127513487\n",
            "Acuracia de teste: 0.7108571428571429\n",
            "Sensibilidade: 0.9045454545454545\n",
            "Especificidade: 0.11627906976744186\n",
            "AUC ROC: 0.5104122621564482\n"
          ]
        },
        {
          "output_type": "display_data",
          "data": {
            "text/plain": [
              "<Figure size 432x288 with 2 Axes>"
            ],
            "image/png": "[encoded data removed]"
          },
          "metadata": {
            "needs_background": "light"
          }
        }
      ],
      "source": [
        "### KNN\n",
        "from sklearn.metrics import recall_score\n",
        "from sklearn.metrics import confusion_matrix\n",
        "from sklearn.metrics import roc_auc_score\n",
        "from sklearn.neighbors import KNeighborsClassifier\n",
        "from sklearn.model_selection import GridSearchCV\n",
        "\n",
        "neigh = KNeighborsClassifier()\n",
        "neigh.fit(X_train, y_train)\n",
        "\n",
        "y_pred = neigh.predict(X_test)\n",
        "\n",
        "# PRINTANDO AS MÉTRICAS UTILIZADAS \n",
        "\n",
        "# ACURÁCIA DE TREINO\n",
        "print(\"Acurácia de treino:\",neigh.score(X_train, y_train))\n",
        "\n",
        "# ACURÁCIA DE TESTE\n",
        "print(\"Acuracia de teste:\", neigh.score(X_test, y_test))\n",
        "\n",
        "# SENSIBILIDADE \n",
        "sensibilidade = recall_score(y_test, y_pred)\n",
        "print(\"Sensibilidade:\", sensibilidade)\n",
        "\n",
        "# ESPECIFICIDADE\n",
        "def specificity_score(y_test, y_pred):\n",
        "    tn, fp, fn, tp = confusion_matrix(y_test, y_pred).ravel()\n",
        "    return tn / (tn + fp)\n",
        "especificidade = specificity_score(y_test, y_pred)\n",
        "print(\"Especificidade:\", especificidade)\n",
        "\n",
        "# AUC - ROC\n",
        "auc_roc = roc_auc_score(y_test, y_pred)\n",
        "print(\"AUC ROC:\", auc_roc)\n",
        "\n",
        "\n",
        "cm = confusion_matrix(y_test, y_pred, normalize=\"true\")\n",
        "\n",
        "sns.heatmap(cm, annot=True, fmt='g', cmap='Blues')\n",
        "plt.xlabel('Previsão')\n",
        "plt.ylabel('Realidade')\n",
        "plt.show()"
      ]
    },
    {
      "cell_type": "markdown",
      "metadata": {
        "id": "34iAwC4-POlq"
      },
      "source": [
        "####6.3.1 knn\n"
      ]
    },
    {
      "cell_type": "code",
      "execution_count": null,
      "metadata": {
        "id": "heaPlr3pPOlq",
        "colab": {
          "base_uri": "https://localhost:8080/"
        },
        "outputId": "86d9f62d-26b2-4bf3-d1bf-12a91852bd58"
      },
      "outputs": [
        {
          "output_type": "stream",
          "name": "stdout",
          "text": [
            "KNeighborsClassifier(n_neighbors=53)\n",
            "{'n_neighbors': 53}\n",
            "0.7601772895890543\n",
            "              precision    recall  f1-score   support\n",
            "\n",
            "           0       0.00      0.00      0.00       215\n",
            "           1       0.75      1.00      0.86       660\n",
            "\n",
            "    accuracy                           0.75       875\n",
            "   macro avg       0.38      0.50      0.43       875\n",
            "weighted avg       0.57      0.75      0.65       875\n",
            "\n"
          ]
        },
        {
          "output_type": "stream",
          "name": "stderr",
          "text": [
            "/usr/local/lib/python3.9/dist-packages/sklearn/metrics/_classification.py:1344: UndefinedMetricWarning:\n",
            "\n",
            "Precision and F-score are ill-defined and being set to 0.0 in labels with no predicted samples. Use `zero_division` parameter to control this behavior.\n",
            "\n",
            "/usr/local/lib/python3.9/dist-packages/sklearn/metrics/_classification.py:1344: UndefinedMetricWarning:\n",
            "\n",
            "Precision and F-score are ill-defined and being set to 0.0 in labels with no predicted samples. Use `zero_division` parameter to control this behavior.\n",
            "\n",
            "/usr/local/lib/python3.9/dist-packages/sklearn/metrics/_classification.py:1344: UndefinedMetricWarning:\n",
            "\n",
            "Precision and F-score are ill-defined and being set to 0.0 in labels with no predicted samples. Use `zero_division` parameter to control this behavior.\n",
            "\n"
          ]
        }
      ],
      "source": [
        "### KNN\n",
        "from sklearn.metrics import recall_score\n",
        "from sklearn.metrics import confusion_matrix\n",
        "from sklearn.metrics import roc_auc_score\n",
        "from sklearn.neighbors import KNeighborsClassifier\n",
        "\n",
        "\n",
        "neigh = KNeighborsClassifier()\n",
        "k_range = list(range(1, 100))\n",
        "param_grid = dict(n_neighbors=k_range)\n",
        "\n",
        "#Escolha dos melhores hiperparametros usando Gridsearch\n",
        "from sklearn.model_selection import GridSearchCV\n",
        "grid = GridSearchCV(neigh,param_grid,refit=True)\n",
        "grid_resultado = grid.fit(X_train,y_train)\n",
        "grid_predicao = grid.predict(X_test)\n",
        "\n",
        "\n",
        "\n",
        "# PRINTANDO AS MÉTRICAS UTILIZADAS \n",
        "#print(grid.cv_results_)\n",
        "print(grid.best_estimator_)\n",
        "print(grid.best_params_)\n",
        "print(grid.best_score_)\n",
        "from sklearn.metrics import classification_report\n",
        "print(classification_report(y_test,grid_predicao))\n"
      ]
    },
    {
      "cell_type": "code",
      "execution_count": null,
      "metadata": {
        "id": "BI6_g5BYIKjr",
        "colab": {
          "base_uri": "https://localhost:8080/",
          "height": 366
        },
        "outputId": "19575863-b161-4957-8b4e-53f4c4bec2d3"
      },
      "outputs": [
        {
          "output_type": "stream",
          "name": "stdout",
          "text": [
            "Acurácia de treino: 0.9990191270230505\n",
            "Acuracia de teste: 0.7154285714285714\n",
            "Sensibilidade: 0.9257575757575758\n",
            "Especificidade: 0.06976744186046512\n",
            "AUC ROC: 0.4977625088090205\n"
          ]
        },
        {
          "output_type": "display_data",
          "data": {
            "text/plain": [
              "<Figure size 432x288 with 2 Axes>"
            ],
            "image/png": "[encoded data removed]"
          },
          "metadata": {
            "needs_background": "light"
          }
        }
      ],
      "source": [
        "### Random Forest\n",
        "from sklearn.ensemble import RandomForestClassifier\n",
        "\n",
        "rf = RandomForestClassifier()\n",
        "rf.fit(X_train, y_train)\n",
        "\n",
        "y_pred = rf.predict(X_test)\n",
        "\n",
        "# PRINTANDO AS MÉTRICAS UTILIZADAS \n",
        "\n",
        "# ACURÁCIA DE TREINO\n",
        "print(\"Acurácia de treino:\",rf.score(X_train, y_train))\n",
        "\n",
        "# ACURÁCIA DE TESTE\n",
        "print(\"Acuracia de teste:\", rf.score(X_test, y_test))\n",
        "\n",
        "# SENSIBILIDADE \n",
        "sensibilidade = recall_score(y_test, y_pred)\n",
        "print(\"Sensibilidade:\", sensibilidade)\n",
        "\n",
        "# ESPECIFICIDADE\n",
        "especificidade = specificity_score(y_test, y_pred)\n",
        "print(\"Especificidade:\", especificidade)\n",
        "\n",
        "# AUC - ROC\n",
        "auc_roc = roc_auc_score(y_test, y_pred)\n",
        "print(\"AUC ROC:\", auc_roc)\n",
        "\n",
        "cm = confusion_matrix(y_test, y_pred, normalize = \"all\")\n",
        "sns.heatmap(cm, annot=True, fmt='g', cmap='Blues')\n",
        "plt.xlabel('Previsão')\n",
        "plt.ylabel('Realidade')\n",
        "plt.show()"
      ]
    },
    {
      "cell_type": "code",
      "source": [],
      "metadata": {
        "id": "A_venZnk0qdQ"
      },
      "execution_count": null,
      "outputs": []
    },
    {
      "cell_type": "markdown",
      "source": [
        "#### 6.3.2 Random Forest\n"
      ],
      "metadata": {
        "id": "fokCjybz0qu7"
      }
    },
    {
      "cell_type": "code",
      "source": [
        "#Tunando os hiperparametros do Random Forest utilizando o RandomSearch\n",
        "from sklearn.model_selection import RandomizedSearchCV\n",
        "param_space = {\"bootstrap\": [True],\n",
        "               \"max_depth\": [6, 8, 10, 12, 14],\n",
        "               \"max_features\": ['auto', 'sqrt', 'log2'],\n",
        "               \"min_samples_leaf\": [2, 3, 4],\n",
        "               \"min_samples_split\": [2, 3, 4, 5],\n",
        "               \"n_estimators\": [100, 200, 300, 400, 500, 600, 700, 800, 900, 1000]}\n",
        "forest_classifier = RandomForestClassifier()\n",
        "forest_rand_search = RandomizedSearchCV(forest_classifier, param_space, n_iter=32, scoring=\"accuracy\", verbose=True, cv=5, n_jobs=-1, random_state=42, refit = True)"
      ],
      "metadata": {
        "id": "sACYIjAoFEtg"
      },
      "execution_count": null,
      "outputs": []
    },
    {
      "cell_type": "code",
      "source": [
        "forest_rand_search.fit(X_train, y_train)"
      ],
      "metadata": {
        "colab": {
          "base_uri": "https://localhost:8080/",
          "height": 223
        },
        "id": "xaITZYasKKC-",
        "outputId": "e1c4feb8-835d-4593-c7e4-9eb4d31d040d"
      },
      "execution_count": null,
      "outputs": [
        {
          "output_type": "stream",
          "name": "stdout",
          "text": [
            "Fitting 5 folds for each of 32 candidates, totalling 160 fits\n"
          ]
        },
        {
          "output_type": "stream",
          "name": "stderr",
          "text": [
            "/usr/local/lib/python3.9/dist-packages/sklearn/ensemble/_forest.py:424: FutureWarning:\n",
            "\n",
            "`max_features='auto'` has been deprecated in 1.1 and will be removed in 1.3. To keep the past behaviour, explicitly set `max_features='sqrt'` or remove this parameter as it is also the default value for RandomForestClassifiers and ExtraTreesClassifiers.\n",
            "\n"
          ]
        },
        {
          "output_type": "execute_result",
          "data": {
            "text/plain": [
              "RandomizedSearchCV(cv=5, estimator=RandomForestClassifier(), n_iter=32,\n",
              "                   n_jobs=-1,\n",
              "                   param_distributions={'bootstrap': [True],\n",
              "                                        'max_depth': [6, 8, 10, 12, 14],\n",
              "                                        'max_features': ['auto', 'sqrt',\n",
              "                                                         'log2'],\n",
              "                                        'min_samples_leaf': [2, 3, 4],\n",
              "                                        'min_samples_split': [2, 3, 4, 5],\n",
              "                                        'n_estimators': [100, 200, 300, 400,\n",
              "                                                         500, 600, 700, 800,\n",
              "                                                         900, 1000]},\n",
              "                   random_state=42, scoring='accuracy', verbose=True)"
            ],
            "text/html": [
              "<style>#sk-container-id-1 {color: black;background-color: white;}#sk-container-id-1 pre{padding: 0;}#sk-container-id-1 div.sk-toggleable {background-color: white;}#sk-container-id-1 label.sk-toggleable__label {cursor: pointer;display: block;width: 100%;margin-bottom: 0;padding: 0.3em;box-sizing: border-box;text-align: center;}#sk-container-id-1 label.sk-toggleable__label-arrow:before {content: \"▸\";float: left;margin-right: 0.25em;color: #696969;}#sk-container-id-1 label.sk-toggleable__label-arrow:hover:before {color: black;}#sk-container-id-1 div.sk-estimator:hover label.sk-toggleable__label-arrow:before {color: black;}#sk-container-id-1 div.sk-toggleable__content {max-height: 0;max-width: 0;overflow: hidden;text-align: left;background-color: #f0f8ff;}#sk-container-id-1 div.sk-toggleable__content pre {margin: 0.2em;color: black;border-radius: 0.25em;background-color: #f0f8ff;}#sk-container-id-1 input.sk-toggleable__control:checked~div.sk-toggleable__content {max-height: 200px;max-width: 100%;overflow: auto;}#sk-container-id-1 input.sk-toggleable__control:checked~label.sk-toggleable__label-arrow:before {content: \"▾\";}#sk-container-id-1 div.sk-estimator input.sk-toggleable__control:checked~label.sk-toggleable__label {background-color: #d4ebff;}#sk-container-id-1 div.sk-label input.sk-toggleable__control:checked~label.sk-toggleable__label {background-color: #d4ebff;}#sk-container-id-1 input.sk-hidden--visually {border: 0;clip: rect(1px 1px 1px 1px);clip: rect(1px, 1px, 1px, 1px);height: 1px;margin: -1px;overflow: hidden;padding: 0;position: absolute;width: 1px;}#sk-container-id-1 div.sk-estimator {font-family: monospace;background-color: #f0f8ff;border: 1px dotted black;border-radius: 0.25em;box-sizing: border-box;margin-bottom: 0.5em;}#sk-container-id-1 div.sk-estimator:hover {background-color: #d4ebff;}#sk-container-id-1 div.sk-parallel-item::after {content: \"\";width: 100%;border-bottom: 1px solid gray;flex-grow: 1;}#sk-container-id-1 div.sk-label:hover label.sk-toggleable__label {background-color: #d4ebff;}#sk-container-id-1 div.sk-serial::before {content: \"\";position: absolute;border-left: 1px solid gray;box-sizing: border-box;top: 0;bottom: 0;left: 50%;z-index: 0;}#sk-container-id-1 div.sk-serial {display: flex;flex-direction: column;align-items: center;background-color: white;padding-right: 0.2em;padding-left: 0.2em;position: relative;}#sk-container-id-1 div.sk-item {position: relative;z-index: 1;}#sk-container-id-1 div.sk-parallel {display: flex;align-items: stretch;justify-content: center;background-color: white;position: relative;}#sk-container-id-1 div.sk-item::before, #sk-container-id-1 div.sk-parallel-item::before {content: \"\";position: absolute;border-left: 1px solid gray;box-sizing: border-box;top: 0;bottom: 0;left: 50%;z-index: -1;}#sk-container-id-1 div.sk-parallel-item {display: flex;flex-direction: column;z-index: 1;position: relative;background-color: white;}#sk-container-id-1 div.sk-parallel-item:first-child::after {align-self: flex-end;width: 50%;}#sk-container-id-1 div.sk-parallel-item:last-child::after {align-self: flex-start;width: 50%;}#sk-container-id-1 div.sk-parallel-item:only-child::after {width: 0;}#sk-container-id-1 div.sk-dashed-wrapped {border: 1px dashed gray;margin: 0 0.4em 0.5em 0.4em;box-sizing: border-box;padding-bottom: 0.4em;background-color: white;}#sk-container-id-1 div.sk-label label {font-family: monospace;font-weight: bold;display: inline-block;line-height: 1.2em;}#sk-container-id-1 div.sk-label-container {text-align: center;}#sk-container-id-1 div.sk-container {/* jupyter's `normalize.less` sets `[hidden] { display: none; }` but bootstrap.min.css set `[hidden] { display: none !important; }` so we also need the `!important` here to be able to override the default hidden behavior on the sphinx rendered scikit-learn.org. See: https://github.com/scikit-learn/scikit-learn/issues/21755 */display: inline-block !important;position: relative;}#sk-container-id-1 div.sk-text-repr-fallback {display: none;}</style><div id=\"sk-container-id-1\" class=\"sk-top-container\"><div class=\"sk-text-repr-fallback\"><pre>RandomizedSearchCV(cv=5, estimator=RandomForestClassifier(), n_iter=32,\n",
              "                   n_jobs=-1,\n",
              "                   param_distributions={&#x27;bootstrap&#x27;: [True],\n",
              "                                        &#x27;max_depth&#x27;: [6, 8, 10, 12, 14],\n",
              "                                        &#x27;max_features&#x27;: [&#x27;auto&#x27;, &#x27;sqrt&#x27;,\n",
              "                                                         &#x27;log2&#x27;],\n",
              "                                        &#x27;min_samples_leaf&#x27;: [2, 3, 4],\n",
              "                                        &#x27;min_samples_split&#x27;: [2, 3, 4, 5],\n",
              "                                        &#x27;n_estimators&#x27;: [100, 200, 300, 400,\n",
              "                                                         500, 600, 700, 800,\n",
              "                                                         900, 1000]},\n",
              "                   random_state=42, scoring=&#x27;accuracy&#x27;, verbose=True)</pre><b>In a Jupyter environment, please rerun this cell to show the HTML representation or trust the notebook. <br />On GitHub, the HTML representation is unable to render, please try loading this page with nbviewer.org.</b></div><div class=\"sk-container\" hidden><div class=\"sk-item sk-dashed-wrapped\"><div class=\"sk-label-container\"><div class=\"sk-label sk-toggleable\"><input class=\"sk-toggleable__control sk-hidden--visually\" id=\"sk-estimator-id-1\" type=\"checkbox\" ><label for=\"sk-estimator-id-1\" class=\"sk-toggleable__label sk-toggleable__label-arrow\">RandomizedSearchCV</label><div class=\"sk-toggleable__content\"><pre>RandomizedSearchCV(cv=5, estimator=RandomForestClassifier(), n_iter=32,\n",
              "                   n_jobs=-1,\n",
              "                   param_distributions={&#x27;bootstrap&#x27;: [True],\n",
              "                                        &#x27;max_depth&#x27;: [6, 8, 10, 12, 14],\n",
              "                                        &#x27;max_features&#x27;: [&#x27;auto&#x27;, &#x27;sqrt&#x27;,\n",
              "                                                         &#x27;log2&#x27;],\n",
              "                                        &#x27;min_samples_leaf&#x27;: [2, 3, 4],\n",
              "                                        &#x27;min_samples_split&#x27;: [2, 3, 4, 5],\n",
              "                                        &#x27;n_estimators&#x27;: [100, 200, 300, 400,\n",
              "                                                         500, 600, 700, 800,\n",
              "                                                         900, 1000]},\n",
              "                   random_state=42, scoring=&#x27;accuracy&#x27;, verbose=True)</pre></div></div></div><div class=\"sk-parallel\"><div class=\"sk-parallel-item\"><div class=\"sk-item\"><div class=\"sk-label-container\"><div class=\"sk-label sk-toggleable\"><input class=\"sk-toggleable__control sk-hidden--visually\" id=\"sk-estimator-id-2\" type=\"checkbox\" ><label for=\"sk-estimator-id-2\" class=\"sk-toggleable__label sk-toggleable__label-arrow\">estimator: RandomForestClassifier</label><div class=\"sk-toggleable__content\"><pre>RandomForestClassifier()</pre></div></div></div><div class=\"sk-serial\"><div class=\"sk-item\"><div class=\"sk-estimator sk-toggleable\"><input class=\"sk-toggleable__control sk-hidden--visually\" id=\"sk-estimator-id-3\" type=\"checkbox\" ><label for=\"sk-estimator-id-3\" class=\"sk-toggleable__label sk-toggleable__label-arrow\">RandomForestClassifier</label><div class=\"sk-toggleable__content\"><pre>RandomForestClassifier()</pre></div></div></div></div></div></div></div></div></div></div>"
            ]
          },
          "metadata": {},
          "execution_count": 195
        }
      ]
    },
    {
      "cell_type": "code",
      "source": [
        "forest_rand_search.best_params_\n"
      ],
      "metadata": {
        "id": "3fgqV-kXG1yr",
        "colab": {
          "base_uri": "https://localhost:8080/"
        },
        "outputId": "400996e5-7731-4d9a-be72-c216f14745f6"
      },
      "execution_count": null,
      "outputs": [
        {
          "output_type": "execute_result",
          "data": {
            "text/plain": [
              "{'n_estimators': 100,\n",
              " 'min_samples_split': 5,\n",
              " 'min_samples_leaf': 3,\n",
              " 'max_features': 'auto',\n",
              " 'max_depth': 6,\n",
              " 'bootstrap': True}"
            ]
          },
          "metadata": {},
          "execution_count": 196
        }
      ]
    },
    {
      "cell_type": "code",
      "source": [
        "forest_rand_search.best_estimator_\n"
      ],
      "metadata": {
        "id": "Zx5HyIr9G4JL",
        "colab": {
          "base_uri": "https://localhost:8080/",
          "height": 91
        },
        "outputId": "ebe047fb-7aea-483d-f52e-8775f1b0add9"
      },
      "execution_count": null,
      "outputs": [
        {
          "output_type": "execute_result",
          "data": {
            "text/plain": [
              "RandomForestClassifier(max_depth=6, max_features='auto', min_samples_leaf=3,\n",
              "                       min_samples_split=5)"
            ],
            "text/html": [
              "<style>#sk-container-id-2 {color: black;background-color: white;}#sk-container-id-2 pre{padding: 0;}#sk-container-id-2 div.sk-toggleable {background-color: white;}#sk-container-id-2 label.sk-toggleable__label {cursor: pointer;display: block;width: 100%;margin-bottom: 0;padding: 0.3em;box-sizing: border-box;text-align: center;}#sk-container-id-2 label.sk-toggleable__label-arrow:before {content: \"▸\";float: left;margin-right: 0.25em;color: #696969;}#sk-container-id-2 label.sk-toggleable__label-arrow:hover:before {color: black;}#sk-container-id-2 div.sk-estimator:hover label.sk-toggleable__label-arrow:before {color: black;}#sk-container-id-2 div.sk-toggleable__content {max-height: 0;max-width: 0;overflow: hidden;text-align: left;background-color: #f0f8ff;}#sk-container-id-2 div.sk-toggleable__content pre {margin: 0.2em;color: black;border-radius: 0.25em;background-color: #f0f8ff;}#sk-container-id-2 input.sk-toggleable__control:checked~div.sk-toggleable__content {max-height: 200px;max-width: 100%;overflow: auto;}#sk-container-id-2 input.sk-toggleable__control:checked~label.sk-toggleable__label-arrow:before {content: \"▾\";}#sk-container-id-2 div.sk-estimator input.sk-toggleable__control:checked~label.sk-toggleable__label {background-color: #d4ebff;}#sk-container-id-2 div.sk-label input.sk-toggleable__control:checked~label.sk-toggleable__label {background-color: #d4ebff;}#sk-container-id-2 input.sk-hidden--visually {border: 0;clip: rect(1px 1px 1px 1px);clip: rect(1px, 1px, 1px, 1px);height: 1px;margin: -1px;overflow: hidden;padding: 0;position: absolute;width: 1px;}#sk-container-id-2 div.sk-estimator {font-family: monospace;background-color: #f0f8ff;border: 1px dotted black;border-radius: 0.25em;box-sizing: border-box;margin-bottom: 0.5em;}#sk-container-id-2 div.sk-estimator:hover {background-color: #d4ebff;}#sk-container-id-2 div.sk-parallel-item::after {content: \"\";width: 100%;border-bottom: 1px solid gray;flex-grow: 1;}#sk-container-id-2 div.sk-label:hover label.sk-toggleable__label {background-color: #d4ebff;}#sk-container-id-2 div.sk-serial::before {content: \"\";position: absolute;border-left: 1px solid gray;box-sizing: border-box;top: 0;bottom: 0;left: 50%;z-index: 0;}#sk-container-id-2 div.sk-serial {display: flex;flex-direction: column;align-items: center;background-color: white;padding-right: 0.2em;padding-left: 0.2em;position: relative;}#sk-container-id-2 div.sk-item {position: relative;z-index: 1;}#sk-container-id-2 div.sk-parallel {display: flex;align-items: stretch;justify-content: center;background-color: white;position: relative;}#sk-container-id-2 div.sk-item::before, #sk-container-id-2 div.sk-parallel-item::before {content: \"\";position: absolute;border-left: 1px solid gray;box-sizing: border-box;top: 0;bottom: 0;left: 50%;z-index: -1;}#sk-container-id-2 div.sk-parallel-item {display: flex;flex-direction: column;z-index: 1;position: relative;background-color: white;}#sk-container-id-2 div.sk-parallel-item:first-child::after {align-self: flex-end;width: 50%;}#sk-container-id-2 div.sk-parallel-item:last-child::after {align-self: flex-start;width: 50%;}#sk-container-id-2 div.sk-parallel-item:only-child::after {width: 0;}#sk-container-id-2 div.sk-dashed-wrapped {border: 1px dashed gray;margin: 0 0.4em 0.5em 0.4em;box-sizing: border-box;padding-bottom: 0.4em;background-color: white;}#sk-container-id-2 div.sk-label label {font-family: monospace;font-weight: bold;display: inline-block;line-height: 1.2em;}#sk-container-id-2 div.sk-label-container {text-align: center;}#sk-container-id-2 div.sk-container {/* jupyter's `normalize.less` sets `[hidden] { display: none; }` but bootstrap.min.css set `[hidden] { display: none !important; }` so we also need the `!important` here to be able to override the default hidden behavior on the sphinx rendered scikit-learn.org. See: https://github.com/scikit-learn/scikit-learn/issues/21755 */display: inline-block !important;position: relative;}#sk-container-id-2 div.sk-text-repr-fallback {display: none;}</style><div id=\"sk-container-id-2\" class=\"sk-top-container\"><div class=\"sk-text-repr-fallback\"><pre>RandomForestClassifier(max_depth=6, max_features=&#x27;auto&#x27;, min_samples_leaf=3,\n",
              "                       min_samples_split=5)</pre><b>In a Jupyter environment, please rerun this cell to show the HTML representation or trust the notebook. <br />On GitHub, the HTML representation is unable to render, please try loading this page with nbviewer.org.</b></div><div class=\"sk-container\" hidden><div class=\"sk-item\"><div class=\"sk-estimator sk-toggleable\"><input class=\"sk-toggleable__control sk-hidden--visually\" id=\"sk-estimator-id-4\" type=\"checkbox\" checked><label for=\"sk-estimator-id-4\" class=\"sk-toggleable__label sk-toggleable__label-arrow\">RandomForestClassifier</label><div class=\"sk-toggleable__content\"><pre>RandomForestClassifier(max_depth=6, max_features=&#x27;auto&#x27;, min_samples_leaf=3,\n",
              "                       min_samples_split=5)</pre></div></div></div></div></div>"
            ]
          },
          "metadata": {},
          "execution_count": 197
        }
      ]
    },
    {
      "cell_type": "code",
      "source": [
        "print('Acurácia com o RandomSearch: %.5f' % (forest_rand_search.best_score_))"
      ],
      "metadata": {
        "id": "11uQb_UjG_jA",
        "colab": {
          "base_uri": "https://localhost:8080/"
        },
        "outputId": "67f89cc5-e31c-41de-b6ef-3c5176fb5652"
      },
      "execution_count": null,
      "outputs": [
        {
          "output_type": "stream",
          "name": "stdout",
          "text": [
            "Acurácia com o RandomSearch: 0.76018\n"
          ]
        }
      ]
    },
    {
      "cell_type": "code",
      "source": [
        "y_predict = forest_rand_search.predict(X_test)\n",
        "print(classification_report(y_test, y_pred))"
      ],
      "metadata": {
        "colab": {
          "base_uri": "https://localhost:8080/"
        },
        "id": "YcaTbiXo4X2c",
        "outputId": "7e8ba045-e576-4478-b638-d2d51f79e8b6"
      },
      "execution_count": null,
      "outputs": [
        {
          "output_type": "stream",
          "name": "stdout",
          "text": [
            "              precision    recall  f1-score   support\n",
            "\n",
            "           0       0.23      0.07      0.11       215\n",
            "           1       0.75      0.93      0.83       660\n",
            "\n",
            "    accuracy                           0.72       875\n",
            "   macro avg       0.49      0.50      0.47       875\n",
            "weighted avg       0.63      0.72      0.65       875\n",
            "\n"
          ]
        }
      ]
    },
    {
      "cell_type": "code",
      "source": [
        "### Random Forest\n",
        "from sklearn.ensemble import RandomForestClassifier\n",
        "import seaborn as sns\n",
        "import matplotlib.pyplot as plt\n",
        "\n",
        "rf = RandomForestClassifier()\n",
        "rf.fit(X_train, y_train)\n",
        "\n",
        "y_pred = rf.predict(X_test)\n",
        "\n",
        "# PRINTANDO AS MÉTRICAS UTILIZADAS \n",
        "\n",
        "# ACURÁCIA DE TREINO\n",
        "print(\"Acurácia de treino:\", rf.score(X_train, y_train))\n",
        "\n",
        "# ACURÁCIA DE TESTE\n",
        "print(\"Acuracia de teste:\", rf.score(X_test, y_test))\n",
        "\n",
        "# SENSIBILIDADE \n",
        "sensibilidade = recall_score(y_test, y_pred)\n",
        "print(\"Sensibilidade:\", sensibilidade)\n",
        "\n",
        "# ESPECIFICIDADE\n",
        "especificidade = specificity_score(y_test, y_pred)\n",
        "print(\"Especificidade:\", especificidade)\n",
        "\n",
        "# AUC - ROC\n",
        "auc_roc = roc_auc_score(y_test, y_pred)\n",
        "print(\"AUC ROC:\", auc_roc)\n",
        "\n",
        "# PRINTANDO O RELATÓRIO DE CLASSIFICAÇÃO\n",
        "print(classification_report(y_test, y_pred))\n",
        "\n",
        "# PLOTANDO A MATRIZ DE CONFUSÃO\n",
        "cm = confusion_matrix(y_test, y_pred, normalize=\"all\")\n",
        "sns.heatmap(cm, annot=True, fmt='g', cmap='Blues')\n",
        "plt.xlabel('Previsão')\n",
        "plt.ylabel('Realidade')\n",
        "plt.show()\n"
      ],
      "metadata": {
        "colab": {
          "base_uri": "https://localhost:8080/",
          "height": 525
        },
        "id": "BQ7P8XywxivP",
        "outputId": "4b84e513-be9d-4dd2-b4b7-e874914f84c5"
      },
      "execution_count": null,
      "outputs": [
        {
          "output_type": "stream",
          "name": "stdout",
          "text": [
            "Acurácia de treino: 0.9990191270230505\n",
            "Acuracia de teste: 0.72\n",
            "Sensibilidade: 0.9333333333333333\n",
            "Especificidade: 0.06511627906976744\n",
            "AUC ROC: 0.4992248062015504\n",
            "              precision    recall  f1-score   support\n",
            "\n",
            "           0       0.24      0.07      0.10       215\n",
            "           1       0.75      0.93      0.83       660\n",
            "\n",
            "    accuracy                           0.72       875\n",
            "   macro avg       0.50      0.50      0.47       875\n",
            "weighted avg       0.63      0.72      0.65       875\n",
            "\n"
          ]
        },
        {
          "output_type": "display_data",
          "data": {
            "text/plain": [
              "<Figure size 432x288 with 2 Axes>"
            ],
            "image/png": "[encoded data removed]"
          },
          "metadata": {
            "needs_background": "light"
          }
        }
      ]
    },
    {
      "cell_type": "markdown",
      "metadata": {
        "id": "3Hb_KTilAKDF"
      },
      "source": [
        "####6.3.3 Naive Bayes"
      ]
    },
    {
      "cell_type": "code",
      "execution_count": null,
      "metadata": {
        "id": "F9LoDes6IQFO",
        "colab": {
          "base_uri": "https://localhost:8080/",
          "height": 366
        },
        "outputId": "ac9c7c19-db00-459b-9704-1806dd48869b"
      },
      "outputs": [
        {
          "output_type": "stream",
          "name": "stdout",
          "text": [
            "Acurácia de treino: 0.6356056890632663\n",
            "Acuracia de teste: 0.6434285714285715\n",
            "Sensibilidade: 0.7212121212121212\n",
            "Especificidade: 0.4046511627906977\n",
            "AUC ROC: 0.5629316420014094\n"
          ]
        },
        {
          "output_type": "display_data",
          "data": {
            "text/plain": [
              "<Figure size 432x288 with 2 Axes>"
            ],
            "image/png": "[encoded data removed]"
          },
          "metadata": {
            "needs_background": "light"
          }
        }
      ],
      "source": [
        "###Naive Bayes\n",
        "from sklearn.naive_bayes import GaussianNB\n",
        "clf = GaussianNB()\n",
        "clf.fit(X_train, y_train)\n",
        "\n",
        "\n",
        "\n",
        "y_pred = clf.predict(X_test)\n",
        "\n",
        "# PRINTANDO AS MÉTRICAS UTILIZADAS \n",
        "\n",
        "# ACURÁCIA DE TREINO\n",
        "print(\"Acurácia de treino:\",clf.score(X_train, y_train))\n",
        "\n",
        "# ACURÁCIA DE TESTE\n",
        "print(\"Acuracia de teste:\", clf.score(X_test, y_test))\n",
        "\n",
        "# SENSIBILIDADE \n",
        "sensibilidade = recall_score(y_test, y_pred)\n",
        "print(\"Sensibilidade:\", sensibilidade)\n",
        "\n",
        "# ESPECIFICIDADE\n",
        "especificidade = specificity_score(y_test, y_pred)\n",
        "print(\"Especificidade:\", especificidade)\n",
        "\n",
        "# AUC - ROC\n",
        "auc_roc = roc_auc_score(y_test, y_pred)\n",
        "print(\"AUC ROC:\", auc_roc)\n",
        "\n",
        "\n",
        "cm = confusion_matrix(y_test, y_pred, normalize = \"all\")\n",
        "\n",
        "sns.heatmap(cm, annot=True, fmt='g', cmap='Blues')\n",
        "plt.xlabel('Previsão')\n",
        "plt.ylabel('Realidade')\n",
        "plt.show()"
      ]
    },
    {
      "cell_type": "markdown",
      "metadata": {
        "id": "tq8Zyc_sANP6"
      },
      "source": [
        "####6.3.4 SVM"
      ]
    },
    {
      "cell_type": "code",
      "execution_count": null,
      "metadata": {
        "id": "uqfNc-hKIqzm",
        "colab": {
          "base_uri": "https://localhost:8080/",
          "height": 381
        },
        "outputId": "29b0f421-1447-4d44-a922-d3766fba33f8"
      },
      "outputs": [
        {
          "output_type": "error",
          "ename": "KeyboardInterrupt",
          "evalue": "ignored",
          "traceback": [
            "\u001b[0;31m---------------------------------------------------------------------------\u001b[0m",
            "\u001b[0;31mKeyboardInterrupt\u001b[0m                         Traceback (most recent call last)",
            "\u001b[0;32m<ipython-input-202-c52685673212>\u001b[0m in \u001b[0;36m<module>\u001b[0;34m\u001b[0m\n\u001b[1;32m     15\u001b[0m \u001b[0mparam_grid\u001b[0m \u001b[0;34m=\u001b[0m \u001b[0;34m{\u001b[0m\u001b[0;34m'C'\u001b[0m\u001b[0;34m:\u001b[0m \u001b[0;34m[\u001b[0m\u001b[0;36m0.1\u001b[0m\u001b[0;34m,\u001b[0m\u001b[0;36m1\u001b[0m\u001b[0;34m,\u001b[0m \u001b[0;36m10\u001b[0m\u001b[0;34m,\u001b[0m \u001b[0;36m100\u001b[0m\u001b[0;34m]\u001b[0m\u001b[0;34m,\u001b[0m \u001b[0;34m'gamma'\u001b[0m\u001b[0;34m:\u001b[0m \u001b[0;34m[\u001b[0m\u001b[0;36m1\u001b[0m\u001b[0;34m,\u001b[0m\u001b[0;36m0.1\u001b[0m\u001b[0;34m,\u001b[0m\u001b[0;36m0.01\u001b[0m\u001b[0;34m,\u001b[0m\u001b[0;36m0.001\u001b[0m\u001b[0;34m]\u001b[0m\u001b[0;34m,\u001b[0m\u001b[0;34m'kernel'\u001b[0m\u001b[0;34m:\u001b[0m \u001b[0;34m[\u001b[0m\u001b[0;34m'rbf'\u001b[0m\u001b[0;34m,\u001b[0m \u001b[0;34m'poly'\u001b[0m\u001b[0;34m,\u001b[0m \u001b[0;34m'sigmoid'\u001b[0m\u001b[0;34m]\u001b[0m\u001b[0;34m}\u001b[0m\u001b[0;34m\u001b[0m\u001b[0;34m\u001b[0m\u001b[0m\n\u001b[1;32m     16\u001b[0m \u001b[0mgrid\u001b[0m \u001b[0;34m=\u001b[0m \u001b[0mGridSearchCV\u001b[0m\u001b[0;34m(\u001b[0m\u001b[0msvm\u001b[0m\u001b[0;34m.\u001b[0m\u001b[0mSVC\u001b[0m\u001b[0;34m(\u001b[0m\u001b[0;34m)\u001b[0m\u001b[0;34m,\u001b[0m\u001b[0mparam_grid\u001b[0m\u001b[0;34m,\u001b[0m\u001b[0mrefit\u001b[0m\u001b[0;34m=\u001b[0m\u001b[0;32mTrue\u001b[0m\u001b[0;34m)\u001b[0m\u001b[0;34m\u001b[0m\u001b[0;34m\u001b[0m\u001b[0m\n\u001b[0;32m---> 17\u001b[0;31m \u001b[0mgrid\u001b[0m\u001b[0;34m.\u001b[0m\u001b[0mfit\u001b[0m\u001b[0;34m(\u001b[0m\u001b[0mX_train\u001b[0m\u001b[0;34m,\u001b[0m\u001b[0my_train\u001b[0m\u001b[0;34m)\u001b[0m\u001b[0;34m\u001b[0m\u001b[0;34m\u001b[0m\u001b[0m\n\u001b[0m\u001b[1;32m     18\u001b[0m \u001b[0;34m\u001b[0m\u001b[0m\n\u001b[1;32m     19\u001b[0m \u001b[0mprint\u001b[0m\u001b[0;34m(\u001b[0m\u001b[0mgrid\u001b[0m\u001b[0;34m.\u001b[0m\u001b[0mbest_estimator_\u001b[0m\u001b[0;34m)\u001b[0m\u001b[0;34m\u001b[0m\u001b[0;34m\u001b[0m\u001b[0m\n",
            "\u001b[0;32m/usr/local/lib/python3.9/dist-packages/sklearn/model_selection/_search.py\u001b[0m in \u001b[0;36mfit\u001b[0;34m(self, X, y, groups, **fit_params)\u001b[0m\n\u001b[1;32m    872\u001b[0m                 \u001b[0;32mreturn\u001b[0m \u001b[0mresults\u001b[0m\u001b[0;34m\u001b[0m\u001b[0;34m\u001b[0m\u001b[0m\n\u001b[1;32m    873\u001b[0m \u001b[0;34m\u001b[0m\u001b[0m\n\u001b[0;32m--> 874\u001b[0;31m             \u001b[0mself\u001b[0m\u001b[0;34m.\u001b[0m\u001b[0m_run_search\u001b[0m\u001b[0;34m(\u001b[0m\u001b[0mevaluate_candidates\u001b[0m\u001b[0;34m)\u001b[0m\u001b[0;34m\u001b[0m\u001b[0;34m\u001b[0m\u001b[0m\n\u001b[0m\u001b[1;32m    875\u001b[0m \u001b[0;34m\u001b[0m\u001b[0m\n\u001b[1;32m    876\u001b[0m             \u001b[0;31m# multimetric is determined here because in the case of a callable\u001b[0m\u001b[0;34m\u001b[0m\u001b[0;34m\u001b[0m\u001b[0m\n",
            "\u001b[0;32m/usr/local/lib/python3.9/dist-packages/sklearn/model_selection/_search.py\u001b[0m in \u001b[0;36m_run_search\u001b[0;34m(self, evaluate_candidates)\u001b[0m\n\u001b[1;32m   1386\u001b[0m     \u001b[0;32mdef\u001b[0m \u001b[0m_run_search\u001b[0m\u001b[0;34m(\u001b[0m\u001b[0mself\u001b[0m\u001b[0;34m,\u001b[0m \u001b[0mevaluate_candidates\u001b[0m\u001b[0;34m)\u001b[0m\u001b[0;34m:\u001b[0m\u001b[0;34m\u001b[0m\u001b[0;34m\u001b[0m\u001b[0m\n\u001b[1;32m   1387\u001b[0m         \u001b[0;34m\"\"\"Search all candidates in param_grid\"\"\"\u001b[0m\u001b[0;34m\u001b[0m\u001b[0;34m\u001b[0m\u001b[0m\n\u001b[0;32m-> 1388\u001b[0;31m         \u001b[0mevaluate_candidates\u001b[0m\u001b[0;34m(\u001b[0m\u001b[0mParameterGrid\u001b[0m\u001b[0;34m(\u001b[0m\u001b[0mself\u001b[0m\u001b[0;34m.\u001b[0m\u001b[0mparam_grid\u001b[0m\u001b[0;34m)\u001b[0m\u001b[0;34m)\u001b[0m\u001b[0;34m\u001b[0m\u001b[0;34m\u001b[0m\u001b[0m\n\u001b[0m\u001b[1;32m   1389\u001b[0m \u001b[0;34m\u001b[0m\u001b[0m\n\u001b[1;32m   1390\u001b[0m \u001b[0;34m\u001b[0m\u001b[0m\n",
            "\u001b[0;32m/usr/local/lib/python3.9/dist-packages/sklearn/model_selection/_search.py\u001b[0m in \u001b[0;36mevaluate_candidates\u001b[0;34m(candidate_params, cv, more_results)\u001b[0m\n\u001b[1;32m    819\u001b[0m                     )\n\u001b[1;32m    820\u001b[0m \u001b[0;34m\u001b[0m\u001b[0m\n\u001b[0;32m--> 821\u001b[0;31m                 out = parallel(\n\u001b[0m\u001b[1;32m    822\u001b[0m                     delayed(_fit_and_score)(\n\u001b[1;32m    823\u001b[0m                         \u001b[0mclone\u001b[0m\u001b[0;34m(\u001b[0m\u001b[0mbase_estimator\u001b[0m\u001b[0;34m)\u001b[0m\u001b[0;34m,\u001b[0m\u001b[0;34m\u001b[0m\u001b[0;34m\u001b[0m\u001b[0m\n",
            "\u001b[0;32m/usr/local/lib/python3.9/dist-packages/sklearn/utils/parallel.py\u001b[0m in \u001b[0;36m__call__\u001b[0;34m(self, iterable)\u001b[0m\n\u001b[1;32m     61\u001b[0m             \u001b[0;32mfor\u001b[0m \u001b[0mdelayed_func\u001b[0m\u001b[0;34m,\u001b[0m \u001b[0margs\u001b[0m\u001b[0;34m,\u001b[0m \u001b[0mkwargs\u001b[0m \u001b[0;32min\u001b[0m \u001b[0miterable\u001b[0m\u001b[0;34m\u001b[0m\u001b[0;34m\u001b[0m\u001b[0m\n\u001b[1;32m     62\u001b[0m         )\n\u001b[0;32m---> 63\u001b[0;31m         \u001b[0;32mreturn\u001b[0m \u001b[0msuper\u001b[0m\u001b[0;34m(\u001b[0m\u001b[0;34m)\u001b[0m\u001b[0;34m.\u001b[0m\u001b[0m__call__\u001b[0m\u001b[0;34m(\u001b[0m\u001b[0miterable_with_config\u001b[0m\u001b[0;34m)\u001b[0m\u001b[0;34m\u001b[0m\u001b[0;34m\u001b[0m\u001b[0m\n\u001b[0m\u001b[1;32m     64\u001b[0m \u001b[0;34m\u001b[0m\u001b[0m\n\u001b[1;32m     65\u001b[0m \u001b[0;34m\u001b[0m\u001b[0m\n",
            "\u001b[0;32m/usr/local/lib/python3.9/dist-packages/joblib/parallel.py\u001b[0m in \u001b[0;36m__call__\u001b[0;34m(self, iterable)\u001b[0m\n\u001b[1;32m   1049\u001b[0m                 \u001b[0mself\u001b[0m\u001b[0;34m.\u001b[0m\u001b[0m_iterating\u001b[0m \u001b[0;34m=\u001b[0m \u001b[0mself\u001b[0m\u001b[0;34m.\u001b[0m\u001b[0m_original_iterator\u001b[0m \u001b[0;32mis\u001b[0m \u001b[0;32mnot\u001b[0m \u001b[0;32mNone\u001b[0m\u001b[0;34m\u001b[0m\u001b[0;34m\u001b[0m\u001b[0m\n\u001b[1;32m   1050\u001b[0m \u001b[0;34m\u001b[0m\u001b[0m\n\u001b[0;32m-> 1051\u001b[0;31m             \u001b[0;32mwhile\u001b[0m \u001b[0mself\u001b[0m\u001b[0;34m.\u001b[0m\u001b[0mdispatch_one_batch\u001b[0m\u001b[0;34m(\u001b[0m\u001b[0miterator\u001b[0m\u001b[0;34m)\u001b[0m\u001b[0;34m:\u001b[0m\u001b[0;34m\u001b[0m\u001b[0;34m\u001b[0m\u001b[0m\n\u001b[0m\u001b[1;32m   1052\u001b[0m                 \u001b[0;32mpass\u001b[0m\u001b[0;34m\u001b[0m\u001b[0;34m\u001b[0m\u001b[0m\n\u001b[1;32m   1053\u001b[0m \u001b[0;34m\u001b[0m\u001b[0m\n",
            "\u001b[0;32m/usr/local/lib/python3.9/dist-packages/joblib/parallel.py\u001b[0m in \u001b[0;36mdispatch_one_batch\u001b[0;34m(self, iterator)\u001b[0m\n\u001b[1;32m    862\u001b[0m                 \u001b[0;32mreturn\u001b[0m \u001b[0;32mFalse\u001b[0m\u001b[0;34m\u001b[0m\u001b[0;34m\u001b[0m\u001b[0m\n\u001b[1;32m    863\u001b[0m             \u001b[0;32melse\u001b[0m\u001b[0;34m:\u001b[0m\u001b[0;34m\u001b[0m\u001b[0;34m\u001b[0m\u001b[0m\n\u001b[0;32m--> 864\u001b[0;31m                 \u001b[0mself\u001b[0m\u001b[0;34m.\u001b[0m\u001b[0m_dispatch\u001b[0m\u001b[0;34m(\u001b[0m\u001b[0mtasks\u001b[0m\u001b[0;34m)\u001b[0m\u001b[0;34m\u001b[0m\u001b[0;34m\u001b[0m\u001b[0m\n\u001b[0m\u001b[1;32m    865\u001b[0m                 \u001b[0;32mreturn\u001b[0m \u001b[0;32mTrue\u001b[0m\u001b[0;34m\u001b[0m\u001b[0;34m\u001b[0m\u001b[0m\n\u001b[1;32m    866\u001b[0m \u001b[0;34m\u001b[0m\u001b[0m\n",
            "\u001b[0;32m/usr/local/lib/python3.9/dist-packages/joblib/parallel.py\u001b[0m in \u001b[0;36m_dispatch\u001b[0;34m(self, batch)\u001b[0m\n\u001b[1;32m    780\u001b[0m         \u001b[0;32mwith\u001b[0m \u001b[0mself\u001b[0m\u001b[0;34m.\u001b[0m\u001b[0m_lock\u001b[0m\u001b[0;34m:\u001b[0m\u001b[0;34m\u001b[0m\u001b[0;34m\u001b[0m\u001b[0m\n\u001b[1;32m    781\u001b[0m             \u001b[0mjob_idx\u001b[0m \u001b[0;34m=\u001b[0m \u001b[0mlen\u001b[0m\u001b[0;34m(\u001b[0m\u001b[0mself\u001b[0m\u001b[0;34m.\u001b[0m\u001b[0m_jobs\u001b[0m\u001b[0;34m)\u001b[0m\u001b[0;34m\u001b[0m\u001b[0;34m\u001b[0m\u001b[0m\n\u001b[0;32m--> 782\u001b[0;31m             \u001b[0mjob\u001b[0m \u001b[0;34m=\u001b[0m \u001b[0mself\u001b[0m\u001b[0;34m.\u001b[0m\u001b[0m_backend\u001b[0m\u001b[0;34m.\u001b[0m\u001b[0mapply_async\u001b[0m\u001b[0;34m(\u001b[0m\u001b[0mbatch\u001b[0m\u001b[0;34m,\u001b[0m \u001b[0mcallback\u001b[0m\u001b[0;34m=\u001b[0m\u001b[0mcb\u001b[0m\u001b[0;34m)\u001b[0m\u001b[0;34m\u001b[0m\u001b[0;34m\u001b[0m\u001b[0m\n\u001b[0m\u001b[1;32m    783\u001b[0m             \u001b[0;31m# A job can complete so quickly than its callback is\u001b[0m\u001b[0;34m\u001b[0m\u001b[0;34m\u001b[0m\u001b[0m\n\u001b[1;32m    784\u001b[0m             \u001b[0;31m# called before we get here, causing self._jobs to\u001b[0m\u001b[0;34m\u001b[0m\u001b[0;34m\u001b[0m\u001b[0m\n",
            "\u001b[0;32m/usr/local/lib/python3.9/dist-packages/joblib/_parallel_backends.py\u001b[0m in \u001b[0;36mapply_async\u001b[0;34m(self, func, callback)\u001b[0m\n\u001b[1;32m    206\u001b[0m     \u001b[0;32mdef\u001b[0m \u001b[0mapply_async\u001b[0m\u001b[0;34m(\u001b[0m\u001b[0mself\u001b[0m\u001b[0;34m,\u001b[0m \u001b[0mfunc\u001b[0m\u001b[0;34m,\u001b[0m \u001b[0mcallback\u001b[0m\u001b[0;34m=\u001b[0m\u001b[0;32mNone\u001b[0m\u001b[0;34m)\u001b[0m\u001b[0;34m:\u001b[0m\u001b[0;34m\u001b[0m\u001b[0;34m\u001b[0m\u001b[0m\n\u001b[1;32m    207\u001b[0m         \u001b[0;34m\"\"\"Schedule a func to be run\"\"\"\u001b[0m\u001b[0;34m\u001b[0m\u001b[0;34m\u001b[0m\u001b[0m\n\u001b[0;32m--> 208\u001b[0;31m         \u001b[0mresult\u001b[0m \u001b[0;34m=\u001b[0m \u001b[0mImmediateResult\u001b[0m\u001b[0;34m(\u001b[0m\u001b[0mfunc\u001b[0m\u001b[0;34m)\u001b[0m\u001b[0;34m\u001b[0m\u001b[0;34m\u001b[0m\u001b[0m\n\u001b[0m\u001b[1;32m    209\u001b[0m         \u001b[0;32mif\u001b[0m \u001b[0mcallback\u001b[0m\u001b[0;34m:\u001b[0m\u001b[0;34m\u001b[0m\u001b[0;34m\u001b[0m\u001b[0m\n\u001b[1;32m    210\u001b[0m             \u001b[0mcallback\u001b[0m\u001b[0;34m(\u001b[0m\u001b[0mresult\u001b[0m\u001b[0;34m)\u001b[0m\u001b[0;34m\u001b[0m\u001b[0;34m\u001b[0m\u001b[0m\n",
            "\u001b[0;32m/usr/local/lib/python3.9/dist-packages/joblib/_parallel_backends.py\u001b[0m in \u001b[0;36m__init__\u001b[0;34m(self, batch)\u001b[0m\n\u001b[1;32m    570\u001b[0m         \u001b[0;31m# Don't delay the application, to avoid keeping the input\u001b[0m\u001b[0;34m\u001b[0m\u001b[0;34m\u001b[0m\u001b[0m\n\u001b[1;32m    571\u001b[0m         \u001b[0;31m# arguments in memory\u001b[0m\u001b[0;34m\u001b[0m\u001b[0;34m\u001b[0m\u001b[0m\n\u001b[0;32m--> 572\u001b[0;31m         \u001b[0mself\u001b[0m\u001b[0;34m.\u001b[0m\u001b[0mresults\u001b[0m \u001b[0;34m=\u001b[0m \u001b[0mbatch\u001b[0m\u001b[0;34m(\u001b[0m\u001b[0;34m)\u001b[0m\u001b[0;34m\u001b[0m\u001b[0;34m\u001b[0m\u001b[0m\n\u001b[0m\u001b[1;32m    573\u001b[0m \u001b[0;34m\u001b[0m\u001b[0m\n\u001b[1;32m    574\u001b[0m     \u001b[0;32mdef\u001b[0m \u001b[0mget\u001b[0m\u001b[0;34m(\u001b[0m\u001b[0mself\u001b[0m\u001b[0;34m)\u001b[0m\u001b[0;34m:\u001b[0m\u001b[0;34m\u001b[0m\u001b[0;34m\u001b[0m\u001b[0m\n",
            "\u001b[0;32m/usr/local/lib/python3.9/dist-packages/joblib/parallel.py\u001b[0m in \u001b[0;36m__call__\u001b[0;34m(self)\u001b[0m\n\u001b[1;32m    261\u001b[0m         \u001b[0;31m# change the default number of processes to -1\u001b[0m\u001b[0;34m\u001b[0m\u001b[0;34m\u001b[0m\u001b[0m\n\u001b[1;32m    262\u001b[0m         \u001b[0;32mwith\u001b[0m \u001b[0mparallel_backend\u001b[0m\u001b[0;34m(\u001b[0m\u001b[0mself\u001b[0m\u001b[0;34m.\u001b[0m\u001b[0m_backend\u001b[0m\u001b[0;34m,\u001b[0m \u001b[0mn_jobs\u001b[0m\u001b[0;34m=\u001b[0m\u001b[0mself\u001b[0m\u001b[0;34m.\u001b[0m\u001b[0m_n_jobs\u001b[0m\u001b[0;34m)\u001b[0m\u001b[0;34m:\u001b[0m\u001b[0;34m\u001b[0m\u001b[0;34m\u001b[0m\u001b[0m\n\u001b[0;32m--> 263\u001b[0;31m             return [func(*args, **kwargs)\n\u001b[0m\u001b[1;32m    264\u001b[0m                     for func, args, kwargs in self.items]\n\u001b[1;32m    265\u001b[0m \u001b[0;34m\u001b[0m\u001b[0m\n",
            "\u001b[0;32m/usr/local/lib/python3.9/dist-packages/joblib/parallel.py\u001b[0m in \u001b[0;36m<listcomp>\u001b[0;34m(.0)\u001b[0m\n\u001b[1;32m    261\u001b[0m         \u001b[0;31m# change the default number of processes to -1\u001b[0m\u001b[0;34m\u001b[0m\u001b[0;34m\u001b[0m\u001b[0m\n\u001b[1;32m    262\u001b[0m         \u001b[0;32mwith\u001b[0m \u001b[0mparallel_backend\u001b[0m\u001b[0;34m(\u001b[0m\u001b[0mself\u001b[0m\u001b[0;34m.\u001b[0m\u001b[0m_backend\u001b[0m\u001b[0;34m,\u001b[0m \u001b[0mn_jobs\u001b[0m\u001b[0;34m=\u001b[0m\u001b[0mself\u001b[0m\u001b[0;34m.\u001b[0m\u001b[0m_n_jobs\u001b[0m\u001b[0;34m)\u001b[0m\u001b[0;34m:\u001b[0m\u001b[0;34m\u001b[0m\u001b[0;34m\u001b[0m\u001b[0m\n\u001b[0;32m--> 263\u001b[0;31m             return [func(*args, **kwargs)\n\u001b[0m\u001b[1;32m    264\u001b[0m                     for func, args, kwargs in self.items]\n\u001b[1;32m    265\u001b[0m \u001b[0;34m\u001b[0m\u001b[0m\n",
            "\u001b[0;32m/usr/local/lib/python3.9/dist-packages/sklearn/utils/parallel.py\u001b[0m in \u001b[0;36m__call__\u001b[0;34m(self, *args, **kwargs)\u001b[0m\n\u001b[1;32m    121\u001b[0m             \u001b[0mconfig\u001b[0m \u001b[0;34m=\u001b[0m \u001b[0;34m{\u001b[0m\u001b[0;34m}\u001b[0m\u001b[0;34m\u001b[0m\u001b[0;34m\u001b[0m\u001b[0m\n\u001b[1;32m    122\u001b[0m         \u001b[0;32mwith\u001b[0m \u001b[0mconfig_context\u001b[0m\u001b[0;34m(\u001b[0m\u001b[0;34m**\u001b[0m\u001b[0mconfig\u001b[0m\u001b[0;34m)\u001b[0m\u001b[0;34m:\u001b[0m\u001b[0;34m\u001b[0m\u001b[0;34m\u001b[0m\u001b[0m\n\u001b[0;32m--> 123\u001b[0;31m             \u001b[0;32mreturn\u001b[0m \u001b[0mself\u001b[0m\u001b[0;34m.\u001b[0m\u001b[0mfunction\u001b[0m\u001b[0;34m(\u001b[0m\u001b[0;34m*\u001b[0m\u001b[0margs\u001b[0m\u001b[0;34m,\u001b[0m \u001b[0;34m**\u001b[0m\u001b[0mkwargs\u001b[0m\u001b[0;34m)\u001b[0m\u001b[0;34m\u001b[0m\u001b[0;34m\u001b[0m\u001b[0m\n\u001b[0m",
            "\u001b[0;32m/usr/local/lib/python3.9/dist-packages/sklearn/model_selection/_validation.py\u001b[0m in \u001b[0;36m_fit_and_score\u001b[0;34m(estimator, X, y, scorer, train, test, verbose, parameters, fit_params, return_train_score, return_parameters, return_n_test_samples, return_times, return_estimator, split_progress, candidate_progress, error_score)\u001b[0m\n\u001b[1;32m    684\u001b[0m             \u001b[0mestimator\u001b[0m\u001b[0;34m.\u001b[0m\u001b[0mfit\u001b[0m\u001b[0;34m(\u001b[0m\u001b[0mX_train\u001b[0m\u001b[0;34m,\u001b[0m \u001b[0;34m**\u001b[0m\u001b[0mfit_params\u001b[0m\u001b[0;34m)\u001b[0m\u001b[0;34m\u001b[0m\u001b[0;34m\u001b[0m\u001b[0m\n\u001b[1;32m    685\u001b[0m         \u001b[0;32melse\u001b[0m\u001b[0;34m:\u001b[0m\u001b[0;34m\u001b[0m\u001b[0;34m\u001b[0m\u001b[0m\n\u001b[0;32m--> 686\u001b[0;31m             \u001b[0mestimator\u001b[0m\u001b[0;34m.\u001b[0m\u001b[0mfit\u001b[0m\u001b[0;34m(\u001b[0m\u001b[0mX_train\u001b[0m\u001b[0;34m,\u001b[0m \u001b[0my_train\u001b[0m\u001b[0;34m,\u001b[0m \u001b[0;34m**\u001b[0m\u001b[0mfit_params\u001b[0m\u001b[0;34m)\u001b[0m\u001b[0;34m\u001b[0m\u001b[0;34m\u001b[0m\u001b[0m\n\u001b[0m\u001b[1;32m    687\u001b[0m \u001b[0;34m\u001b[0m\u001b[0m\n\u001b[1;32m    688\u001b[0m     \u001b[0;32mexcept\u001b[0m \u001b[0mException\u001b[0m\u001b[0;34m:\u001b[0m\u001b[0;34m\u001b[0m\u001b[0;34m\u001b[0m\u001b[0m\n",
            "\u001b[0;32m/usr/local/lib/python3.9/dist-packages/sklearn/svm/_base.py\u001b[0m in \u001b[0;36mfit\u001b[0;34m(self, X, y, sample_weight)\u001b[0m\n\u001b[1;32m    250\u001b[0m \u001b[0;34m\u001b[0m\u001b[0m\n\u001b[1;32m    251\u001b[0m         \u001b[0mseed\u001b[0m \u001b[0;34m=\u001b[0m \u001b[0mrnd\u001b[0m\u001b[0;34m.\u001b[0m\u001b[0mrandint\u001b[0m\u001b[0;34m(\u001b[0m\u001b[0mnp\u001b[0m\u001b[0;34m.\u001b[0m\u001b[0miinfo\u001b[0m\u001b[0;34m(\u001b[0m\u001b[0;34m\"i\"\u001b[0m\u001b[0;34m)\u001b[0m\u001b[0;34m.\u001b[0m\u001b[0mmax\u001b[0m\u001b[0;34m)\u001b[0m\u001b[0;34m\u001b[0m\u001b[0;34m\u001b[0m\u001b[0m\n\u001b[0;32m--> 252\u001b[0;31m         \u001b[0mfit\u001b[0m\u001b[0;34m(\u001b[0m\u001b[0mX\u001b[0m\u001b[0;34m,\u001b[0m \u001b[0my\u001b[0m\u001b[0;34m,\u001b[0m \u001b[0msample_weight\u001b[0m\u001b[0;34m,\u001b[0m \u001b[0msolver_type\u001b[0m\u001b[0;34m,\u001b[0m \u001b[0mkernel\u001b[0m\u001b[0;34m,\u001b[0m \u001b[0mrandom_seed\u001b[0m\u001b[0;34m=\u001b[0m\u001b[0mseed\u001b[0m\u001b[0;34m)\u001b[0m\u001b[0;34m\u001b[0m\u001b[0;34m\u001b[0m\u001b[0m\n\u001b[0m\u001b[1;32m    253\u001b[0m         \u001b[0;31m# see comment on the other call to np.iinfo in this file\u001b[0m\u001b[0;34m\u001b[0m\u001b[0;34m\u001b[0m\u001b[0m\n\u001b[1;32m    254\u001b[0m \u001b[0;34m\u001b[0m\u001b[0m\n",
            "\u001b[0;32m/usr/local/lib/python3.9/dist-packages/sklearn/svm/_base.py\u001b[0m in \u001b[0;36m_dense_fit\u001b[0;34m(self, X, y, sample_weight, solver_type, kernel, random_seed)\u001b[0m\n\u001b[1;32m    329\u001b[0m             \u001b[0mself\u001b[0m\u001b[0;34m.\u001b[0m\u001b[0mfit_status_\u001b[0m\u001b[0;34m,\u001b[0m\u001b[0;34m\u001b[0m\u001b[0;34m\u001b[0m\u001b[0m\n\u001b[1;32m    330\u001b[0m             \u001b[0mself\u001b[0m\u001b[0;34m.\u001b[0m\u001b[0m_num_iter\u001b[0m\u001b[0;34m,\u001b[0m\u001b[0;34m\u001b[0m\u001b[0;34m\u001b[0m\u001b[0m\n\u001b[0;32m--> 331\u001b[0;31m         \u001b[0;34m)\u001b[0m \u001b[0;34m=\u001b[0m \u001b[0mlibsvm\u001b[0m\u001b[0;34m.\u001b[0m\u001b[0mfit\u001b[0m\u001b[0;34m(\u001b[0m\u001b[0;34m\u001b[0m\u001b[0;34m\u001b[0m\u001b[0m\n\u001b[0m\u001b[1;32m    332\u001b[0m             \u001b[0mX\u001b[0m\u001b[0;34m,\u001b[0m\u001b[0;34m\u001b[0m\u001b[0;34m\u001b[0m\u001b[0m\n\u001b[1;32m    333\u001b[0m             \u001b[0my\u001b[0m\u001b[0;34m,\u001b[0m\u001b[0;34m\u001b[0m\u001b[0;34m\u001b[0m\u001b[0m\n",
            "\u001b[0;31mKeyboardInterrupt\u001b[0m: "
          ]
        }
      ],
      "source": [
        "##SVM\n",
        "from sklearn import svm\n",
        "from sklearn.model_selection import train_test_split, GridSearchCV\n",
        "from sklearn.metrics import classification_report\n",
        "\n",
        "'''\n",
        "c = how much you want to avoid misclassifying each training example\n",
        "kernel = O kernel no SVM é responsável por transformar os dados de entrada no formato necessário. Alguns dos kernel's usados no SVM são lineares, \n",
        "polinomiais e radiais (função de base). Para criar um hiperplano não linear, usamos as funções RBF e Polinomial. \n",
        "Para aplicações complexas, deve-se usar kernel's mais avançados para separar classes de natureza não linear. Com essa transformação, é possível obter classificadores precisos.\n",
        "gamma = sofisticação do kernel\n",
        "'''\n",
        "\n",
        "\n",
        "param_grid = {'C': [0.1,1, 10, 100], 'gamma': [1,0.1,0.01,0.001],'kernel': ['rbf', 'poly', 'sigmoid']}\n",
        "grid = GridSearchCV(svm.SVC(),param_grid,refit=True)\n",
        "grid.fit(X_train,y_train)\n",
        "\n",
        "print(grid.best_estimator_)\n",
        "grid_predictions = grid.predict(X_test)\n",
        "\n",
        "\n",
        "# PRINTANDO AS MÉTRICAS UTILIZADAS \n",
        "print(classification_report(y_test,grid_predictions))\n",
        "\n",
        "# AUC - ROC\n",
        "auc_roc = roc_auc_score(y_test, y_pred)\n",
        "print(\"AUC ROC:\", auc_roc)\n",
        "\n",
        "cm = confusion_matrix(y_test, grid_predictions, normalize = \"all\")\n",
        "\n",
        "sns.heatmap(cm, annot=True, fmt='g', cmap='Blues')\n",
        "plt.xlabel('Previsão')\n",
        "plt.ylabel('Realidade')\n",
        "plt.show()"
      ]
    },
    {
      "cell_type": "markdown",
      "metadata": {
        "id": "W3YylWHwAPdY"
      },
      "source": [
        "####6.3.5 Logistic Regression"
      ]
    },
    {
      "cell_type": "code",
      "execution_count": null,
      "metadata": {
        "id": "y_RjTf_5I57e"
      },
      "outputs": [],
      "source": [
        "## LogisticRegression\n",
        "from sklearn.linear_model import LogisticRegression\n",
        "from sklearn.model_selection import train_test_split, GridSearchCV\n",
        "from sklearn.metrics import classification_report\n",
        "from sklearn.metrics import roc_auc_score\n",
        "from sklearn.metrics import confusion_matrix\n",
        "\n",
        "param_grid = {\"C\": [0.001, 0.01, 0.1, 1, 10], \n",
        "              \"penalty\": [\"l1\",\"l2\"]}\n",
        "\n",
        "grid = GridSearchCV(LogisticRegression(random_state=0),\n",
        "                    param_grid,\n",
        "                    refit=True)\n",
        "grid.fit(X_train, y_train)\n",
        "\n",
        "## Melhor combinação de hiperparametros\n",
        "print(grid.best_estimator_)\n",
        "print(grid.best_params_)\n",
        "print(grid.best_score_)\n",
        "\n",
        "## Métricas de desempenho\n",
        "grid_predictions = grid.predict(X_test)\n",
        "print(classification_report(y_test, grid_predictions))\n",
        "\n",
        "\n",
        "# AUC - ROC\n",
        "auc_roc = roc_auc_score(y_test, grid_predictions)\n",
        "print(\"AUC ROC:\", auc_roc)\n",
        "\n",
        "cm = confusion_matrix(y_test, grid_predictions, normalize = \"all\")\n",
        "\n",
        "sns.heatmap(cm, annot=True, fmt='g', cmap='Blues')\n",
        "plt.xlabel('Previsão')\n",
        "plt.ylabel('Realidade')\n",
        "plt.show()\n"
      ]
    }
  ],
  "metadata": {
    "colab": {
      "collapsed_sections": [
        "i-XqL_UI_jU2",
        "0ot3nd7yNrlu",
        "qu_Dq49n1Pfq",
        "rxUv-J1R1XMP",
        "gFNhlqnIDen5",
        "OWZVue7AlGTw",
        "BmvWENFWMtfa",
        "1ne5tDQpFWfY",
        "33Zz2qDcPeyx",
        "DlXLnHigP2iu",
        "_41-VA4uWj80",
        "TGPMWU4oF-Ry",
        "13K9XfhpdKNs",
        "lhRgotDYdPL8"
      ],
      "provenance": [],
      "toc_visible": true
    },
    "kernelspec": {
      "display_name": "Python 3",
      "name": "python3"
    },
    "language_info": {
      "name": "python"
    }
  },
  "nbformat": 4,
  "nbformat_minor": 0
}