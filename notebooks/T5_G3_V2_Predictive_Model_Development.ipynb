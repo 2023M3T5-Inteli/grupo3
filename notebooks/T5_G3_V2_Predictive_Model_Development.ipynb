{
  "nbformat": 4,
  "nbformat_minor": 0,
  "metadata": {
    "colab": {
      "provenance": [],
      "collapsed_sections": [
        "ZV1s5pnpKbRV",
        "z6GxYDzXWJiY",
        "_41-VA4uWj80",
<<<<<<< HEAD
        "HJ4NvTPbY1_G",
        "mv81TLKDiA32"
      ]
=======
        "ZLEv8TBNXyso",
        "Oz_LhDNOYAg8",
        "nMVpGz7HYX7P"
      ],
      "toc_visible": true
>>>>>>> f567d34b0d3d3696ad093413ed09f0ac0e4afbbc
    },
    "kernelspec": {
      "name": "python3",
      "display_name": "Python 3"
    },
    "language_info": {
      "name": "python"
    }
  },
  "cells": [
    {
      "cell_type": "markdown",
      "source": [],
      "metadata": {
        "id": "7Han7H4ZdtoG"
      }
    },
    {
      "cell_type": "markdown",
      "source": [
        "Importação das bibliotecas necessárias:"
      ],
      "metadata": {
        "id": "lQ1-SWhkJdee"
      }
    },
    {
      "cell_type": "code",
      "execution_count": null,
      "metadata": {
        "id": "gktpxE2UJcvP"
      },
      "outputs": [],
      "source": [
        "import pandas as pd\n",
        "import numpy as np\n",
        "import plotly.express as px\n",
        "import matplotlib.pyplot as plt\n",
        "import seaborn as sns \n",
        "from sklearn import preprocessing"
      ]
    },
    {
      "cell_type": "markdown",
      "source": [
        "# 0. Carregamento dos Datasets:"
      ],
      "metadata": {
        "id": "ZV1s5pnpKbRV"
      }
    },
    {
      "cell_type": "markdown",
      "source": [
        "primeiramente é importante fornecer as legendas para cada Dataset:\n",
        "\n",
        "dfd: Dataframe demográfico, nele estão contidas informações como: idade, escolaridade, registro de tratamento, etc.\n",
        "\n",
        "dfh: Dataframe histopatológico, nele estão contidas informações como: diagnósticos primários, receptor de estrogênio , receptor de progesterona, HER2 por IHC, HER2 por fish, etc.\n",
        "\n",
        "dfpa: Dataframe peso e altura, nele estão contidas informações como: peso, altura, IMC.\n",
        "\n",
        "dfrt: Dataframe do registro do tumor, nele estão contidas informações como: data do diagnóstico, estágio clínico, data da reicidiva, reicidiva , lateralidade do tumor, etc."
      ],
      "metadata": {
        "id": "oFNn_oigKlet"
      }
    },
    {
      "cell_type": "code",
      "source": [
        "from google.colab import drive\n",
        "drive.mount('/content/drive')"
      ],
      "metadata": {
        "id": "EPbFStEskLM3",
        "colab": {
          "base_uri": "https://localhost:8080/"
        },
        "outputId": "8cc0f048-3841-4e29-fe6f-4a532af85286"
      },
      "execution_count": null,
      "outputs": [
        {
          "output_type": "stream",
          "name": "stdout",
          "text": [
            "Mounted at /content/drive\n"
          ]
        }
      ]
    },
    {
      "cell_type": "code",
      "source": [
        "dfd = pd.read_csv(\"/content/drive/MyDrive/drive-download-20230214T160637Z-001/BDIPMamaV11-INTELIDemograficosTt_DATA_LABELS_2023-01-24_1922.csv\")\n",
        "dfh = pd.read_csv(\"/content/drive/MyDrive/drive-download-20230214T160637Z-001/BDIPMamaV11-INTELIHistopatologia_DATA_LABELS_2023-01-24_1924.csv\")\n",
        "dfpa = pd.read_csv(\"/content/drive/MyDrive/drive-download-20230214T160637Z-001/BDIPMamaV11-INTELIPesoEAltura_DATA_LABELS_2023-01-24_1926.csv\")\n",
        "dfrt = pd.read_csv(\"/content/drive/MyDrive/drive-download-20230214T160637Z-001/BDIPMamaV11-INTELIRegistroDeTumo_DATA_LABELS_2023-01-24_1924.csv\")"
      ],
      "metadata": {
        "id": "7wtNmy4sKnFV",
        "colab": {
          "base_uri": "https://localhost:8080/",
          "height": 450
        },
        "outputId": "1d63b3e1-9510-458c-df94-8a398a9f222d"
      },
      "execution_count": null,
      "outputs": [
        {
          "output_type": "error",
          "ename": "FileNotFoundError",
          "evalue": "ignored",
          "traceback": [
            "\u001b[0;31m---------------------------------------------------------------------------\u001b[0m",
            "\u001b[0;31mFileNotFoundError\u001b[0m                         Traceback (most recent call last)",
            "\u001b[0;32m<ipython-input-5-3d1352ee3486>\u001b[0m in \u001b[0;36m<module>\u001b[0;34m\u001b[0m\n\u001b[0;32m----> 1\u001b[0;31m \u001b[0mdfd\u001b[0m \u001b[0;34m=\u001b[0m \u001b[0mpd\u001b[0m\u001b[0;34m.\u001b[0m\u001b[0mread_csv\u001b[0m\u001b[0;34m(\u001b[0m\u001b[0;34m\"/content/drive/MyDrive/drive-download-20230214T160637Z-001/BDIPMamaV11-INTELIDemograficosTt_DATA_LABELS_2023-01-24_1922.csv\"\u001b[0m\u001b[0;34m)\u001b[0m\u001b[0;34m\u001b[0m\u001b[0;34m\u001b[0m\u001b[0m\n\u001b[0m\u001b[1;32m      2\u001b[0m \u001b[0mdfh\u001b[0m \u001b[0;34m=\u001b[0m \u001b[0mpd\u001b[0m\u001b[0;34m.\u001b[0m\u001b[0mread_csv\u001b[0m\u001b[0;34m(\u001b[0m\u001b[0;34m\"/content/drive/MyDrive/drive-download-20230214T160637Z-001/BDIPMamaV11-INTELIHistopatologia_DATA_LABELS_2023-01-24_1924.csv\"\u001b[0m\u001b[0;34m)\u001b[0m\u001b[0;34m\u001b[0m\u001b[0;34m\u001b[0m\u001b[0m\n\u001b[1;32m      3\u001b[0m \u001b[0mdfpa\u001b[0m \u001b[0;34m=\u001b[0m \u001b[0mpd\u001b[0m\u001b[0;34m.\u001b[0m\u001b[0mread_csv\u001b[0m\u001b[0;34m(\u001b[0m\u001b[0;34m\"/content/drive/MyDrive/drive-download-20230214T160637Z-001/BDIPMamaV11-INTELIPesoEAltura_DATA_LABELS_2023-01-24_1926.csv\"\u001b[0m\u001b[0;34m)\u001b[0m\u001b[0;34m\u001b[0m\u001b[0;34m\u001b[0m\u001b[0m\n\u001b[1;32m      4\u001b[0m \u001b[0mdfrt\u001b[0m \u001b[0;34m=\u001b[0m \u001b[0mpd\u001b[0m\u001b[0;34m.\u001b[0m\u001b[0mread_csv\u001b[0m\u001b[0;34m(\u001b[0m\u001b[0;34m\"/content/drive/MyDrive/drive-download-20230214T160637Z-001/BDIPMamaV11-INTELIRegistroDeTumo_DATA_LABELS_2023-01-24_1924.csv\"\u001b[0m\u001b[0;34m)\u001b[0m\u001b[0;34m\u001b[0m\u001b[0;34m\u001b[0m\u001b[0m\n",
            "\u001b[0;32m/usr/local/lib/python3.8/dist-packages/pandas/util/_decorators.py\u001b[0m in \u001b[0;36mwrapper\u001b[0;34m(*args, **kwargs)\u001b[0m\n\u001b[1;32m    309\u001b[0m                     \u001b[0mstacklevel\u001b[0m\u001b[0;34m=\u001b[0m\u001b[0mstacklevel\u001b[0m\u001b[0;34m,\u001b[0m\u001b[0;34m\u001b[0m\u001b[0;34m\u001b[0m\u001b[0m\n\u001b[1;32m    310\u001b[0m                 )\n\u001b[0;32m--> 311\u001b[0;31m             \u001b[0;32mreturn\u001b[0m \u001b[0mfunc\u001b[0m\u001b[0;34m(\u001b[0m\u001b[0;34m*\u001b[0m\u001b[0margs\u001b[0m\u001b[0;34m,\u001b[0m \u001b[0;34m**\u001b[0m\u001b[0mkwargs\u001b[0m\u001b[0;34m)\u001b[0m\u001b[0;34m\u001b[0m\u001b[0;34m\u001b[0m\u001b[0m\n\u001b[0m\u001b[1;32m    312\u001b[0m \u001b[0;34m\u001b[0m\u001b[0m\n\u001b[1;32m    313\u001b[0m         \u001b[0;32mreturn\u001b[0m \u001b[0mwrapper\u001b[0m\u001b[0;34m\u001b[0m\u001b[0;34m\u001b[0m\u001b[0m\n",
            "\u001b[0;32m/usr/local/lib/python3.8/dist-packages/pandas/io/parsers/readers.py\u001b[0m in \u001b[0;36mread_csv\u001b[0;34m(filepath_or_buffer, sep, delimiter, header, names, index_col, usecols, squeeze, prefix, mangle_dupe_cols, dtype, engine, converters, true_values, false_values, skipinitialspace, skiprows, skipfooter, nrows, na_values, keep_default_na, na_filter, verbose, skip_blank_lines, parse_dates, infer_datetime_format, keep_date_col, date_parser, dayfirst, cache_dates, iterator, chunksize, compression, thousands, decimal, lineterminator, quotechar, quoting, doublequote, escapechar, comment, encoding, encoding_errors, dialect, error_bad_lines, warn_bad_lines, on_bad_lines, delim_whitespace, low_memory, memory_map, float_precision, storage_options)\u001b[0m\n\u001b[1;32m    584\u001b[0m     \u001b[0mkwds\u001b[0m\u001b[0;34m.\u001b[0m\u001b[0mupdate\u001b[0m\u001b[0;34m(\u001b[0m\u001b[0mkwds_defaults\u001b[0m\u001b[0;34m)\u001b[0m\u001b[0;34m\u001b[0m\u001b[0;34m\u001b[0m\u001b[0m\n\u001b[1;32m    585\u001b[0m \u001b[0;34m\u001b[0m\u001b[0m\n\u001b[0;32m--> 586\u001b[0;31m     \u001b[0;32mreturn\u001b[0m \u001b[0m_read\u001b[0m\u001b[0;34m(\u001b[0m\u001b[0mfilepath_or_buffer\u001b[0m\u001b[0;34m,\u001b[0m \u001b[0mkwds\u001b[0m\u001b[0;34m)\u001b[0m\u001b[0;34m\u001b[0m\u001b[0;34m\u001b[0m\u001b[0m\n\u001b[0m\u001b[1;32m    587\u001b[0m \u001b[0;34m\u001b[0m\u001b[0m\n\u001b[1;32m    588\u001b[0m \u001b[0;34m\u001b[0m\u001b[0m\n",
            "\u001b[0;32m/usr/local/lib/python3.8/dist-packages/pandas/io/parsers/readers.py\u001b[0m in \u001b[0;36m_read\u001b[0;34m(filepath_or_buffer, kwds)\u001b[0m\n\u001b[1;32m    480\u001b[0m \u001b[0;34m\u001b[0m\u001b[0m\n\u001b[1;32m    481\u001b[0m     \u001b[0;31m# Create the parser.\u001b[0m\u001b[0;34m\u001b[0m\u001b[0;34m\u001b[0m\u001b[0;34m\u001b[0m\u001b[0m\n\u001b[0;32m--> 482\u001b[0;31m     \u001b[0mparser\u001b[0m \u001b[0;34m=\u001b[0m \u001b[0mTextFileReader\u001b[0m\u001b[0;34m(\u001b[0m\u001b[0mfilepath_or_buffer\u001b[0m\u001b[0;34m,\u001b[0m \u001b[0;34m**\u001b[0m\u001b[0mkwds\u001b[0m\u001b[0;34m)\u001b[0m\u001b[0;34m\u001b[0m\u001b[0;34m\u001b[0m\u001b[0m\n\u001b[0m\u001b[1;32m    483\u001b[0m \u001b[0;34m\u001b[0m\u001b[0m\n\u001b[1;32m    484\u001b[0m     \u001b[0;32mif\u001b[0m \u001b[0mchunksize\u001b[0m \u001b[0;32mor\u001b[0m \u001b[0miterator\u001b[0m\u001b[0;34m:\u001b[0m\u001b[0;34m\u001b[0m\u001b[0;34m\u001b[0m\u001b[0m\n",
            "\u001b[0;32m/usr/local/lib/python3.8/dist-packages/pandas/io/parsers/readers.py\u001b[0m in \u001b[0;36m__init__\u001b[0;34m(self, f, engine, **kwds)\u001b[0m\n\u001b[1;32m    809\u001b[0m             \u001b[0mself\u001b[0m\u001b[0;34m.\u001b[0m\u001b[0moptions\u001b[0m\u001b[0;34m[\u001b[0m\u001b[0;34m\"has_index_names\"\u001b[0m\u001b[0;34m]\u001b[0m \u001b[0;34m=\u001b[0m \u001b[0mkwds\u001b[0m\u001b[0;34m[\u001b[0m\u001b[0;34m\"has_index_names\"\u001b[0m\u001b[0;34m]\u001b[0m\u001b[0;34m\u001b[0m\u001b[0;34m\u001b[0m\u001b[0m\n\u001b[1;32m    810\u001b[0m \u001b[0;34m\u001b[0m\u001b[0m\n\u001b[0;32m--> 811\u001b[0;31m         \u001b[0mself\u001b[0m\u001b[0;34m.\u001b[0m\u001b[0m_engine\u001b[0m \u001b[0;34m=\u001b[0m \u001b[0mself\u001b[0m\u001b[0;34m.\u001b[0m\u001b[0m_make_engine\u001b[0m\u001b[0;34m(\u001b[0m\u001b[0mself\u001b[0m\u001b[0;34m.\u001b[0m\u001b[0mengine\u001b[0m\u001b[0;34m)\u001b[0m\u001b[0;34m\u001b[0m\u001b[0;34m\u001b[0m\u001b[0m\n\u001b[0m\u001b[1;32m    812\u001b[0m \u001b[0;34m\u001b[0m\u001b[0m\n\u001b[1;32m    813\u001b[0m     \u001b[0;32mdef\u001b[0m \u001b[0mclose\u001b[0m\u001b[0;34m(\u001b[0m\u001b[0mself\u001b[0m\u001b[0;34m)\u001b[0m\u001b[0;34m:\u001b[0m\u001b[0;34m\u001b[0m\u001b[0;34m\u001b[0m\u001b[0m\n",
            "\u001b[0;32m/usr/local/lib/python3.8/dist-packages/pandas/io/parsers/readers.py\u001b[0m in \u001b[0;36m_make_engine\u001b[0;34m(self, engine)\u001b[0m\n\u001b[1;32m   1038\u001b[0m             )\n\u001b[1;32m   1039\u001b[0m         \u001b[0;31m# error: Too many arguments for \"ParserBase\"\u001b[0m\u001b[0;34m\u001b[0m\u001b[0;34m\u001b[0m\u001b[0;34m\u001b[0m\u001b[0m\n\u001b[0;32m-> 1040\u001b[0;31m         \u001b[0;32mreturn\u001b[0m \u001b[0mmapping\u001b[0m\u001b[0;34m[\u001b[0m\u001b[0mengine\u001b[0m\u001b[0;34m]\u001b[0m\u001b[0;34m(\u001b[0m\u001b[0mself\u001b[0m\u001b[0;34m.\u001b[0m\u001b[0mf\u001b[0m\u001b[0;34m,\u001b[0m \u001b[0;34m**\u001b[0m\u001b[0mself\u001b[0m\u001b[0;34m.\u001b[0m\u001b[0moptions\u001b[0m\u001b[0;34m)\u001b[0m  \u001b[0;31m# type: ignore[call-arg]\u001b[0m\u001b[0;34m\u001b[0m\u001b[0;34m\u001b[0m\u001b[0m\n\u001b[0m\u001b[1;32m   1041\u001b[0m \u001b[0;34m\u001b[0m\u001b[0m\n\u001b[1;32m   1042\u001b[0m     \u001b[0;32mdef\u001b[0m \u001b[0m_failover_to_python\u001b[0m\u001b[0;34m(\u001b[0m\u001b[0mself\u001b[0m\u001b[0;34m)\u001b[0m\u001b[0;34m:\u001b[0m\u001b[0;34m\u001b[0m\u001b[0;34m\u001b[0m\u001b[0m\n",
            "\u001b[0;32m/usr/local/lib/python3.8/dist-packages/pandas/io/parsers/c_parser_wrapper.py\u001b[0m in \u001b[0;36m__init__\u001b[0;34m(self, src, **kwds)\u001b[0m\n\u001b[1;32m     49\u001b[0m \u001b[0;34m\u001b[0m\u001b[0m\n\u001b[1;32m     50\u001b[0m         \u001b[0;31m# open handles\u001b[0m\u001b[0;34m\u001b[0m\u001b[0;34m\u001b[0m\u001b[0;34m\u001b[0m\u001b[0m\n\u001b[0;32m---> 51\u001b[0;31m         \u001b[0mself\u001b[0m\u001b[0;34m.\u001b[0m\u001b[0m_open_handles\u001b[0m\u001b[0;34m(\u001b[0m\u001b[0msrc\u001b[0m\u001b[0;34m,\u001b[0m \u001b[0mkwds\u001b[0m\u001b[0;34m)\u001b[0m\u001b[0;34m\u001b[0m\u001b[0;34m\u001b[0m\u001b[0m\n\u001b[0m\u001b[1;32m     52\u001b[0m         \u001b[0;32massert\u001b[0m \u001b[0mself\u001b[0m\u001b[0;34m.\u001b[0m\u001b[0mhandles\u001b[0m \u001b[0;32mis\u001b[0m \u001b[0;32mnot\u001b[0m \u001b[0;32mNone\u001b[0m\u001b[0;34m\u001b[0m\u001b[0;34m\u001b[0m\u001b[0m\n\u001b[1;32m     53\u001b[0m \u001b[0;34m\u001b[0m\u001b[0m\n",
            "\u001b[0;32m/usr/local/lib/python3.8/dist-packages/pandas/io/parsers/base_parser.py\u001b[0m in \u001b[0;36m_open_handles\u001b[0;34m(self, src, kwds)\u001b[0m\n\u001b[1;32m    220\u001b[0m         \u001b[0mLet\u001b[0m \u001b[0mthe\u001b[0m \u001b[0mreaders\u001b[0m \u001b[0mopen\u001b[0m \u001b[0mIOHandles\u001b[0m \u001b[0mafter\u001b[0m \u001b[0mthey\u001b[0m \u001b[0mare\u001b[0m \u001b[0mdone\u001b[0m \u001b[0;32mwith\u001b[0m \u001b[0mtheir\u001b[0m \u001b[0mpotential\u001b[0m \u001b[0mraises\u001b[0m\u001b[0;34m.\u001b[0m\u001b[0;34m\u001b[0m\u001b[0;34m\u001b[0m\u001b[0m\n\u001b[1;32m    221\u001b[0m         \"\"\"\n\u001b[0;32m--> 222\u001b[0;31m         self.handles = get_handle(\n\u001b[0m\u001b[1;32m    223\u001b[0m             \u001b[0msrc\u001b[0m\u001b[0;34m,\u001b[0m\u001b[0;34m\u001b[0m\u001b[0;34m\u001b[0m\u001b[0m\n\u001b[1;32m    224\u001b[0m             \u001b[0;34m\"r\"\u001b[0m\u001b[0;34m,\u001b[0m\u001b[0;34m\u001b[0m\u001b[0;34m\u001b[0m\u001b[0m\n",
            "\u001b[0;32m/usr/local/lib/python3.8/dist-packages/pandas/io/common.py\u001b[0m in \u001b[0;36mget_handle\u001b[0;34m(path_or_buf, mode, encoding, compression, memory_map, is_text, errors, storage_options)\u001b[0m\n\u001b[1;32m    700\u001b[0m         \u001b[0;32mif\u001b[0m \u001b[0mioargs\u001b[0m\u001b[0;34m.\u001b[0m\u001b[0mencoding\u001b[0m \u001b[0;32mand\u001b[0m \u001b[0;34m\"b\"\u001b[0m \u001b[0;32mnot\u001b[0m \u001b[0;32min\u001b[0m \u001b[0mioargs\u001b[0m\u001b[0;34m.\u001b[0m\u001b[0mmode\u001b[0m\u001b[0;34m:\u001b[0m\u001b[0;34m\u001b[0m\u001b[0;34m\u001b[0m\u001b[0m\n\u001b[1;32m    701\u001b[0m             \u001b[0;31m# Encoding\u001b[0m\u001b[0;34m\u001b[0m\u001b[0;34m\u001b[0m\u001b[0;34m\u001b[0m\u001b[0m\n\u001b[0;32m--> 702\u001b[0;31m             handle = open(\n\u001b[0m\u001b[1;32m    703\u001b[0m                 \u001b[0mhandle\u001b[0m\u001b[0;34m,\u001b[0m\u001b[0;34m\u001b[0m\u001b[0;34m\u001b[0m\u001b[0m\n\u001b[1;32m    704\u001b[0m                 \u001b[0mioargs\u001b[0m\u001b[0;34m.\u001b[0m\u001b[0mmode\u001b[0m\u001b[0;34m,\u001b[0m\u001b[0;34m\u001b[0m\u001b[0;34m\u001b[0m\u001b[0m\n",
            "\u001b[0;31mFileNotFoundError\u001b[0m: [Errno 2] No such file or directory: '/content/drive/MyDrive/drive-download-20230214T160637Z-001/BDIPMamaV11-INTELIDemograficosTt_DATA_LABELS_2023-01-24_1922.csv'"
          ]
        }
      ]
    },
    {
      "cell_type": "markdown",
      "source": [
        "# 1.0 Limpeza dos dados:"
      ],
      "metadata": {
        "id": "99vg3f6QKAkg"
      }
    },
    {
      "cell_type": "markdown",
      "source": [
        "Bem, primeiramente é importante entendermos o motivo de fazer a limpeza dos dados previamente. Nesse sentido, fazer a limpeza inicial dos dados é importante antes de começar a explorá-los e tratá-los porque os dados brutos geralmente contêm valores faltantes, valores inválidos, duplicatas, inconsistências, entre outros problemas que podem afetar negativamente as análises subsequentes. Se esses problemas não forem tratados antes de prosseguir com a análise, eles podem resultar em conclusões imprecisas ou enganosas."
      ],
      "metadata": {
        "id": "mHRWKvoOKHoU"
      }
    },
    {
      "cell_type": "markdown",
      "source": [
        "## Renomeando colunas:"
      ],
      "metadata": {
        "id": "2Q4S5ispKVjA"
      }
    },
    {
      "cell_type": "code",
      "source": [
        "#faremos um dicionário relacionando o nome das colunas antigas com os novos nomes\n",
        "dicti = {'Record ID':'record_id', \n",
        "       'Repeat Instrument':'repeat_instrument', \n",
        "       'Repeat Instance':'repeat_instance', \n",
        "       'Escolaridade':'escolaridade',\n",
        "       'Idade do paciente ao primeiro diagnóstico':'idade_primeiro_diagnostico', \n",
        "       'Sexo':'sexo',\n",
        "       'Raça declarada (Biobanco)':'raca', \n",
        "       'UF de nascimento do paciente':'UF_nascimento',\n",
        "       'UF de residência do paciente':'UF_residencia',\n",
        "       'Data da última informação sobre o paciente':'data_da_ultima_informacao',\n",
        "       'Última informação do paciente':'ultima_informacao',\n",
        "       'Tempo de seguimento (em dias) - desde o último tumor no caso de tumores múltiplos    [dt_pci]':'tempo_seguimento_em_dias_desde_o_ultimo_tumor_no_caso_tumores_multiplos_dt_pci',\n",
        "       'Já ficou grávida?':'engravidou', \n",
        "       'Quantas vezes ficou gráfida?':'quantas_vezes_ficou_gravida', \n",
        "       'Número de partos':'numero_partos',\n",
        "       'Idade na primeira gestação':'idade_primeira_gestacao', \n",
        "       'Abortou':'abortou',\n",
        "       'Amamentou na primeira gestação?':'amamentou_na_primeira_gestacao', \n",
        "       'Por quanto tempo amamentou?':'tempo_de_amamentacao',\n",
        "       'Historia familiar de câncer relacionado a síndrome de câncer de mama e ovário hereditária? (choice=Não)': 'historia_familiar_cancer_relacionado_sindrome_cancer_mama_ovario_hereditaria_choice_nao',\n",
        "       'Historia familiar de câncer relacionado a síndrome de câncer de mama e ovário hereditária? (choice=Sim - 1º grau, apenas 1 caso)': 'historia_familiar_cancer_relacionado_sindrome_cancer_mama_ovario_hereditaria_choice_sim_1_grau_apenas_1_caso',\n",
        "       'Historia familiar de câncer relacionado a síndrome de câncer de mama e ovário hereditária? (choice=Sim - 1º grau, mais de 1 caso)': 'historia_familiar_cancer_relacionado_sindrome_cancer_mama_ovario_hereditaria_choice_sim_1_grau_mais_1_caso',\n",
        "       'Historia familiar de câncer relacionado a síndrome de câncer de mama e ovário hereditária? (choice=Sim - 2º grau, apenas 1 caso)': 'historia_familiar_cancer_relacionado_sindrome_cancer_mama_ovario_hereditaria_choice_sim_2_grau_apenas_1_caso',\n",
        "       'Historia familiar de câncer relacionado a síndrome de câncer de mama e ovário hereditária? (choice=Sim - 2º grau, mais de 1 caso)': 'historia_familiar_cancer_relacionado_sindrome_cancer_mama_ovario_hereditaria_choice_sim_2_grau_mais_1_caso',\n",
        "       'Idade da primeira mentruação': 'idade_primeira_menstruacao',\n",
        "       'Faz uso de métodos contraceptivo?':'usou_contraceptivo?',\n",
        "       'Qual método? (choice=Pílula anticoncepcional)':'qual_metodo_choice_pilula_anticoncepcional',\n",
        "       'Qual método? (choice=DIU)':'qual_metodo_choice_diu', \n",
        "       'Qual método? (choice=camisinha)':'qual_metodo_choice_camisinha',\n",
        "       'Qual método? (choice=outros)':'qual_metodo_choice_outros', \n",
        "       'Qual método? (choice=não informou)':'qual_metodo_choice_nao_informou',\n",
        "       'Já fez uso de drogas?':'ja_usou_droga?', \n",
        "       'Atividade Física':'atividade_fisica', \n",
        "       'Consumo de tabaco':'consumo_tabaco',\n",
        "       'Consumo de álcool':'consumo_alcool', \n",
        "       'Possui histórico familiar de câncer?':'tem_historico_de_cancer?',\n",
        "       'Grau de parentesco de familiar com cancer? (choice=primeiro (pais, irmãos, filhos))':'grau_parentesco_familiar_com_cancer_choice_primeiro_pais_irmaos_filhos',\n",
        "       'Grau de parentesco de familiar com cancer? (choice=segundo (avós, tios e netos))':'grau_parentesco_familiar_com_cancer_choice_segundo_avos_tios_netos',\n",
        "       'Grau de parentesco de familiar com cancer? (choice=terceiro (bisavós, tio avós, primos, sobrinhos))':'grau_parentesco_familiar_com_cancer_choice_terceiro_bisavos_tio_avos_primos_sobrinhos',\n",
        "       'Regime de Tratamento':'tratamento', \n",
        "       'Hormonioterapia ':'hormonioterapia', \n",
        "       'Data da cirurgia':'data_cirurgia',\n",
        "       'Tipo de terapia anti-HER2 neoadjuvante':'tipo_terapia_anti-her2_neoadjuvante', \n",
        "       'Radioterapia':'radioterapia',\n",
        "       'Data de início do tratamento quimioterapia':'data_de_inicio_quimioterapia',\n",
        "       'Esquema de hormonioterapia':'esquema_hormonioterapia',\n",
        "       'Data do início Hormonioterapia adjuvante':'data_do_inicio_hormonioterapia_adjuvante',\n",
        "       'Data de início da Radioterapia':'data_inicio_radioterapia'}\n",
        "dfd = dfd.rename(columns=dicti)#renomeando as colunas dataframe demográfico\n",
        "\n",
        "# renomeando colunas dataframe registro do tumor\n",
        "dfrt = dfrt.rename(columns={   \n",
        "                                              'Record ID': 'record_id',\n",
        "                                              'Repeat Instrument': 'repeat_instrument',\n",
        "                                              'Repeat Instance': 'repeat_instance',\n",
        "                                              'Data da primeira consulta institucional [dt_pci]': 'data_da_primeira_consulta_institucional_dt_pci',\n",
        "                                              'Data do diagnóstico': 'data_do_diagnostico',\n",
        "                                              'Código da Topografia (CID-O)': 'codigo_da_topografia_cid_o',\n",
        "                                              'Código da Morfologia de acordo com o CID-O': 'codigo_da_morfologia_cid_o',\n",
        "                                              'Estadio Clínico  ': 'estadio_clinico',\n",
        "                                              'Grupo de Estadio Clínico': 'grupo_estadio_clinico',\n",
        "                                              'Classificação TNM Clínico - T': 'classificacao_tnm_clinico_t',\n",
        "                                              'Classificação TNM Clínico - N': 'classificacao_tnm_clinico_n',\n",
        "                                              'Classificação TNM Clínico - M': 'classificacao_tnm_clinico_m',\n",
        "                                              'Metastase ao DIAGNOSTICO - CID-O #1': 'metastase_diagnostico_cid_o_1',\n",
        "                                              'Metastase ao DIAGNOSTICO - CID-O #2': 'metastase_diagnostico_cid_o_2',\n",
        "                                              'Metastase ao DIAGNOSTICO - CID-O #3': 'metastase_diagnostico_id_o_3',\n",
        "                                              'Metastase ao DIAGNOSTICO - CID-O #4': 'metastase_diagnostico_cid_o_4',\n",
        "                                              'Data do tratamento': 'Data_tratamento',\n",
        "                                              'Combinação dos Tratamentos Realizados no Hospital': 'Combinacao_tratamentos_realizados_hospital',\n",
        "                                              'Ano do diagnostico': 'ano_do_diagnostico',\n",
        "                                              'Lateralidade do tumor': 'lateralidade_do_tumor',\n",
        "                                              'Data de Recidiva': 'data_recidiva',\n",
        "                                              'Tempo desde o diagnóstico até a primeira recidiva  ': 'tempo_desde_o_diagnostico_ate_primeira_recidiva_',\n",
        "                                              'Local de Recidiva a  distancia/ metastase #1 - CID-O - Topografia': 'local_recidiva_a _distancia_metastase_1_cid_o_topografia',\n",
        "                                              'Local de Recidiva a  distancia/ metastase #2 - CID-O - Topografia': 'local_recidiva_a _distancia_metastase_2_cid_o_topografia',\n",
        "                                              'Local de Recidiva a  distancia/ metastase #3 - CID-O - Topografia': 'local_recidiva_a _distancia_metastase_3_cid_o_topografia',\n",
        "                                              'Local de Recidiva a  distancia/ metastase #4 - CID-O - Topografia': 'local_recidiva_a _distancia_metastase_4_cid_o_topografia',\n",
        "                                              'Descrição da Morfologia de acordo com o CID-O  (CID-O - 3ª edição)': 'descricao_da_morfologia_acordo_com_o_cid_o_cid_o_3_edicao',\n",
        "                                              'Descrição da Topografia ': 'descricao_da_topografia_',\n",
        "                                              'Classificação TNM Patológico - N': 'classificacao_tnm_patologico_n',\n",
        "                                              'Classificação TNM Patológico - T': 'classificacao_tnm_patologico_t',\n",
        "                                              'Com recidiva à distância': 'com_recidiva_distancia',\n",
        "                                              'Com recidiva regional': 'com_recidiva_regional',\n",
        "                                              'Com recidiva local': 'com_recidiva_local'\n",
        "})\n",
        "#renomeando colunas do dataframe de dados histopatológicos\n",
        "dfh = dfh.rename(columns={\n",
        "                                              'Record ID': 'record_id',\n",
        "                                              'Repeat Instrument': 'repeat_instrument',\n",
        "                                              'Repeat Instance': 'repeat_instance',\n",
        "                                              'Diagnostico primario (tipo histológico)': 'diagnostico_primario_tipo_histologico',\n",
        "                                              'Grau histológico': 'grau_histologico',\n",
        "                                              'Subtipo tumoral': 'subtipo_tumoral',\n",
        "                                              'Receptor de estrogênio': 'receptor_estrogenio',\n",
        "                                              'Receptor de progesterona': 'receptor_progesterona',\n",
        "                                              'Ki67 (>14%)': 'ki67_maior14pct',\n",
        "                                              'Receptor de progesterona (quantificação %)': 'receptor_progesterona_quantificacao_pct',\n",
        "                                              'Receptorde Estrogênio (quantificação %)': 'receptorde_estrogenio_quantificacao_pct',\n",
        "                                              'Indice H (Receptorde progesterona)': 'indice_h_receptorde_progesterona',\n",
        "                                              'HER2 por IHC': 'her2_por_ihc',\n",
        "                                              'HER2 por FISH': 'her2_por_fish',\n",
        "                                              'Ki67 (%)': 'ki67_pct'\n",
        "})\n",
        "#renomeando colunas do dataframe de peso e altura\n",
        "\n",
        "\n",
        "\n",
        "#já fiz a checagem de  todas as colunas, deixarei aqui embaixo as que forma selecionadas para remoção:\n",
        "removidas = ['repeat_instrument','repeat_instance','UF_nascimento','UF_residencia','numero_partos','data_do_inicio_hormonioterapia_adjuvante','qual_metodo_choice_diu','qual_metodo_choice_camisinha','qual_metodo_choice_outros','qual_metodo_choice_nao_informou','historia_familiar_cancer_relacionado_sindrome_cancer_mama_ovario_hereditaria_choice_sim_2_grau_apenas_1_caso','historia_familiar_cancer_relacionado_sindrome_cancer_mama_ovario_hereditaria_choice_sim_2_grau_mais_1_caso']\n",
        "\n",
        "for col in removidas:\n",
        "  informacoes = dfd[col].unique()\n",
        "  print(f'os dados na coluna {col} são:{informacoes}')\n",
        "  print('\\n')\n",
        "print('numero_partos:', dfd['numero_partos'].unique(),'\\n')\n",
        "print('data_do_inicio_hormonioterapia_adjuvante', dfd['data_do_inicio_hormonioterapia_adjuvante'].unique(),'\\n')\n",
        "\n"
      ],
      "metadata": {
        "id": "lrmBZb0RKYNq"
      },
      "execution_count": null,
      "outputs": []
    },
    {
      "cell_type": "markdown",
      "source": [
        "Agora após uma análise dos conteúdos de cada coluna vamos remover as colunas com nenhuma informação , assim como as que tem apenas um tipo de dado e as que possuem menos de 5 linhas preenchidas, tendo em vista que não estão nos \"dizendo\" nada:\n",
        "\n",
        "* repeat_instrument(possui apenas NaN)\n",
        "* repeat_instance(possui apenas NaN)\n",
        "* UF_nascimento(possui apenas NaN e SP)\n",
        "* UF_residencia(possui apenas NaN e SP)\n",
        "* numero_partos(possui apenas 2 linhas preenchidas)\n",
        "* data_do_inicio_hormonioterapia_adjuvante(possui apenas 2 linhas preenchidas)\n",
        "* qual_metodo_choice_diu(tem apenas \"unchecked\")\n",
        "* qual_metodo_choice_camisinha(tem apenas \"unchecked\")\n",
        "* qual_metodo_choice_outros(tem apenas \"unchecked\")\n",
        "* qual_metodo_choice_nao_informou(tem apenas \"unchecked\")\n",
        "* usou_contraceptivo?(possui apenas 3 linhas preenchidas, ou seja , 99.9 % das linhas estão vazias)\n",
        "* historia_familiar_cancer_relacionado_sindrome_cancer_mama_ovario_hereditaria_choice_sim_2_grau_apenas_1_caso(tem apenas \"unchecked\")\n",
        "* repeat_instrument da tabela dfh(possui apenas um tipo de dado)\n",
        "* repeat_instrument da tabela dfpa(possui apenas um tipo de dado)\n",
        "* repeat_instrument da tabela dfrt(possui apenas um tipo de dado)"
      ],
      "metadata": {
        "id": "LrmxvQraLBGt"
      }
    },
    {
      "cell_type": "code",
      "source": [
        "dfd = dfd.drop(['repeat_instrument','repeat_instance','UF_nascimento','UF_residencia','data_do_inicio_hormonioterapia_adjuvante','numero_partos','qual_metodo_choice_diu','qual_metodo_choice_camisinha','qual_metodo_choice_outros','qual_metodo_choice_nao_informou','historia_familiar_cancer_relacionado_sindrome_cancer_mama_ovario_hereditaria_choice_sim_2_grau_apenas_1_caso','historia_familiar_cancer_relacionado_sindrome_cancer_mama_ovario_hereditaria_choice_sim_2_grau_mais_1_caso', 'usou_contraceptivo?'], axis=1)\n",
        "\n"
      ],
      "metadata": {
        "id": "8CE4dvp5LCGn"
      },
      "execution_count": null,
      "outputs": []
    },
    {
      "cell_type": "markdown",
      "source": [
        "* Remoção de linhas com todas as colunas Nan, ou seja, linhas vazias:"
      ],
      "metadata": {
        "id": "ZKEDJVWtLYE7"
      }
    },
    {
      "cell_type": "code",
      "source": [
        "#aqui vamos remover as linhas com todas as colunas vazias, exceto record_id\n",
        "dfd = dfd.dropna(subset=list(dfd.columns)[1:], how='all')\n",
        "#essa é outra maneira de realizar essa remoção, ele irá remover todas as linhas que tem apenas 1(UMA) coluna preenchida\n",
        "dfh = dfh.dropna(thresh=2)"
      ],
      "metadata": {
        "id": "UAbFvjwwLamr"
      },
      "execution_count": null,
      "outputs": []
    },
    {
      "cell_type": "markdown",
      "source": [
        "# 2.1.1 Tratamento de Missings da tabela dfrt(registro do tumor):"
      ],
      "metadata": {
        "id": "bBD5eBSjrkZV"
      }
    },
    {
      "cell_type": "code",
      "source": [
        "dfrt = dfrt.dropna(subset=list(dfrt.columns)[1:], how='all')\n",
        "dfrt.shape\n",
        "dfrt.isnull().mean() * 100"
      ],
      "metadata": {
        "id": "Yyi8L4dRrpOn"
      },
      "execution_count": null,
      "outputs": []
    },
    {
      "cell_type": "code",
      "source": [
        "dfrt[['data_da_primeira_consulta_institucional_dt_pci', \n",
        "'data_do_diagnostico', \n",
        "'Data_tratamento', \n",
        "'data_recidiva']] =  dfrt[['data_da_primeira_consulta_institucional_dt_pci', \n",
        "'data_do_diagnostico', \n",
        "'Data_tratamento', \n",
        "'data_recidiva']].apply(pd.to_datetime, format='%Y-%m-%d', errors='coerce')"
      ],
      "metadata": {
        "id": "xRjiiobyrwPu"
      },
      "execution_count": null,
      "outputs": []
    },
    {
      "cell_type": "code",
      "source": [
        "dfrt['teve_recidiva'] = np.where((dfrt['data_recidiva'].isnull()), 0, 1)"
      ],
      "metadata": {
        "id": "mgrDXI6Trzh7"
      },
      "execution_count": null,
      "outputs": []
    },
    {
      "cell_type": "code",
      "source": [
        "list(dfrt.select_dtypes(include=['object']).columns)"
      ],
      "metadata": {
        "id": "OLXsD4uOr1yd"
      },
      "execution_count": null,
      "outputs": []
    },
    {
      "cell_type": "markdown",
      "source": [
        "# 2.1.2 Tratamento de Missings da tabela dfd(dados demográficos):"
      ],
      "metadata": {
        "id": "YDGAa_GPRqem"
      }
    },
    {
      "cell_type": "code",
      "source": [
        "#verificando a porcentagem de nulos por coluna\n",
        "dfd.isnull().mean().sort_values(ascending=False)\n",
        "# as colunas tratamento, data de inicio quimioterapia, data inicio radioterapia , data cirurgia e radioterapia poderão ser tratados quando o merge com a tabela dfrt for feito"
      ],
      "metadata": {
        "id": "2YbjLiC7STaY"
      },
      "execution_count": null,
      "outputs": []
    },
    {
      "cell_type": "markdown",
      "source": [
        "## Tratando missings da coluna \"tem_historico_de_cancer?\":"
      ],
      "metadata": {
        "id": "KIxWAKbOSWDo"
      }
    },
    {
      "cell_type": "code",
      "source": [
        "dfd['tem_historico_de_cancer?'] = dfd['tem_historico_de_cancer?'].fillna('Não informado')"
      ],
      "metadata": {
        "id": "BSdKUslLSimD"
      },
      "execution_count": null,
      "outputs": []
    },
    {
      "cell_type": "markdown",
      "source": [
        "## Tratando missings da coluna \"raca\":"
      ],
      "metadata": {
        "id": "suOP5_MlSr8L"
      }
    },
    {
      "cell_type": "code",
      "source": [
        "correlacao = dfd['raca'].value_counts(normalize=True)\n",
        "random = np.random.choice(correlacao.index, size=dfd['raca'].isnull().sum(), p=correlacao.values)\n",
        "dfd['raca'] = dfd['raca'].fillna(pd.Series(random))"
      ],
      "metadata": {
        "id": "kCrd7yj6StHw"
      },
      "execution_count": null,
      "outputs": []
    },
    {
      "cell_type": "markdown",
      "source": [
        "## Tratando missings da coluna \"sexo\":"
      ],
      "metadata": {
        "id": "lLWqW14mS424"
      }
    },
    {
      "cell_type": "code",
      "source": [
        "dfd['sexo'] = dfd['sexo'].fillna('Feminino')"
      ],
      "metadata": {
        "id": "QFFbk2qhS-Uc"
      },
      "execution_count": null,
      "outputs": []
    },
    {
      "cell_type": "markdown",
      "source": [
        "## Tratando os missings da coluna \"idade_primeiro_diagnostico\":"
      ],
      "metadata": {
        "id": "mAhZrGLVTB0b"
      }
    },
    {
      "cell_type": "code",
      "source": [
        "idade_diag_moda = dfd['idade_primeiro_diagnostico'].mode()\n",
        "dfd['idade_primeiro_diagnostico'] = np.where((dfd['idade_primeiro_diagnostico'].isnull()), idade_diag_moda , dfd['idade_primeiro_diagnostico'])"
      ],
      "metadata": {
        "id": "zJiHTkwkTFvO"
      },
      "execution_count": null,
      "outputs": []
    },
    {
      "cell_type": "markdown",
      "source": [
        "## Tratando missings da coluna \"data_da_ultima_informacao\":"
      ],
      "metadata": {
        "id": "DARI8s_FTIp9"
      }
    },
    {
      "cell_type": "code",
      "source": [
        "dfd['data_da_ultima_informacao'] = np.where((dfd['data_da_ultima_informacao'].isnull()) , dfd['data_cirurgia'] , dfd['data_da_ultima_informacao'])"
      ],
      "metadata": {
        "id": "veQiCd_TTM5J"
      },
      "execution_count": null,
      "outputs": []
    },
    {
      "cell_type": "markdown",
      "source": [
        "## Tratando missings da coluna \"tempo_seguimento_em_dias_desde_o_ultimo_tumor_no_caso_tumores_multiplos_dt_pci\":"
      ],
      "metadata": {
        "id": "ydkZgUfOTQto"
      }
    },
    {
      "cell_type": "code",
      "source": [
        "dfd['tempo_seguimento_em_dias_desde_o_ultimo_tumor_no_caso_tumores_multiplos_dt_pci'] = dfd['tempo_seguimento_em_dias_desde_o_ultimo_tumor_no_caso_tumores_multiplos_dt_pci'].fillna(1407)#esse valor é a moda de menor valor(existem duas modas)"
      ],
      "metadata": {
        "id": "rgHKcA9mTVLm"
      },
      "execution_count": null,
      "outputs": []
    },
    {
      "cell_type": "markdown",
      "source": [
        "## Tratando missings das colunas \"consumo_alcool\" e \"consumo_tabaco\":"
      ],
      "metadata": {
        "id": "f-GlOv8QTZUf"
      }
    },
    {
      "cell_type": "code",
      "source": [
        "dfd['consumo_alcool'] = dfd['consumo_alcool'].fillna('não-informado')\n",
        "dfd['consumo_tabaco'] = dfd['consumo_tabaco'].fillna('não-informado')"
      ],
      "metadata": {
        "id": "wpibnHFUTcya"
      },
      "execution_count": null,
      "outputs": []
    },
    {
      "cell_type": "markdown",
      "source": [
        "## Tratando missings da coluna \"escolaridade\":"
      ],
      "metadata": {
        "id": "ccjOJD-hTgJC"
      }
    },
    {
      "cell_type": "code",
      "source": [
        "dfd['escolaridade'] = dfd['escolaridade'].fillna('IGNORADA')"
      ],
      "metadata": {
        "id": "aNCeS5YwTjVS"
      },
      "execution_count": null,
      "outputs": []
    },
    {
      "cell_type": "markdown",
      "source": [
        "## Tratando missings da coluna \"atividade_fisica\":"
      ],
      "metadata": {
        "id": "S4FUPw8iTl0u"
      }
    },
    {
      "cell_type": "code",
      "source": [
        "dfd['atividade_fisica'] = dfd['atividade_fisica'].fillna('não-informado')"
      ],
      "metadata": {
        "id": "aLZOfFYWTrJ0"
      },
      "execution_count": null,
      "outputs": []
    },
    {
      "cell_type": "markdown",
      "source": [
        "## Tratando missings da coluna \"ja_usou_droga?\":"
      ],
      "metadata": {
        "id": "qSWROIbLTuaV"
      }
    },
    {
      "cell_type": "code",
      "source": [
        "dfd['ja_usou_droga?'] = dfd['ja_usou_droga?'].fillna('não-informado')"
      ],
      "metadata": {
        "id": "hJ1CL-xiTwwg"
      },
      "execution_count": null,
      "outputs": []
    },
    {
      "cell_type": "markdown",
      "source": [
        "## Tratando missings das colunas \"engravidou\", \"amamentou_na_primeira_gestação\", \"tempo_de_amamentacao\":"
      ],
      "metadata": {
        "id": "z2p0J3fdT1vI"
      }
    },
    {
      "cell_type": "code",
      "source": [
        "dfd['engravidou'] = np.where((dfd['engravidou'].isnull()) & (dfd['amamentou_na_primeira_gestacao'] == 'Sim'), 'Sim' , dfd['engravidou'])\n",
        "dfd['engravidou'] = np.where((dfd['engravidou'].isnull()) & (dfd['amamentou_na_primeira_gestacao'] == 'Não'), 'Não' , dfd['engravidou'])\n",
        "dfd['engravidou'] = np.where((dfd['engravidou'].isnull()) & (dfd['tempo_de_amamentacao'] > 0), 'Sim' , dfd['engravidou'])\n",
        "dfd['engravidou'] = np.where((dfd['engravidou'].isnull()) & (dfd['sexo'] == 'Masculino'), 'Não' , dfd['engravidou'])\n",
        "dfd['amamentou_na_primeira_gestacao'] = np.where((dfd['amamentou_na_primeira_gestacao'].isnull()) & (dfd['tempo_de_amamentacao'] > 0), 'Sim' , dfd['amamentou_na_primeira_gestacao'])\n",
        "dfd['amamentou_na_primeira_gestacao'] = np.where((dfd['amamentou_na_primeira_gestacao'].isnull()) & (dfd['engravidou'] == 'Sim'), 'Sim' , dfd['amamentou_na_primeira_gestacao'])#visto que a maioria das mulheres que engravidaram amamentaram na primeira gestação em comparação com as que não amamentaram forma uma relação de 782/136\n",
        "dfd['amamentou_na_primeira_gestacao'] = np.where((dfd['amamentou_na_primeira_gestacao'].isnull()) & (dfd['engravidou'] == 'Não'), 'Não' , dfd['amamentou_na_primeira_gestacao'])\n",
        "dfd['tempo_de_amamentacao'] = np.where((dfd['tempo_de_amamentacao'].isnull()) & (dfd['amamentou_na_primeira_gestacao'] == 'Sim'), dfd['tempo_de_amamentacao'].mode(), dfd['tempo_de_amamentacao'])\n",
        "dfd['tempo_de_amamentacao'] = np.where((dfd['tempo_de_amamentacao'].isnull()) & (dfd['amamentou_na_primeira_gestacao'] == 'Não'), 0 , dfd['tempo_de_amamentacao'])\n",
        "dfd['tempo_de_amamentacao'] = np.where((dfd['tempo_de_amamentacao'].isnull()) & (dfd['engravidou'] == 'Não'), 0 , dfd['tempo_de_amamentacao'])\n",
        "#preechendo os vazios restantes\n",
        "dfd['engravidou'] = np.where((dfd['engravidou'].isnull()), \"Não informado\" , dfd['engravidou'])\n",
        "dfd['amamentou_na_primeira_gestacao'] = np.where((dfd['amamentou_na_primeira_gestacao'].isnull()), \"Não informado\" , dfd['amamentou_na_primeira_gestacao'])\n",
        "dfd['tempo_de_amamentacao'] = np.where((dfd['tempo_de_amamentacao'].isnull()), 0 , dfd['tempo_de_amamentacao'])"
      ],
      "metadata": {
        "id": "uwpsTATYT-_0"
      },
      "execution_count": null,
      "outputs": []
    },
    {
      "cell_type": "markdown",
      "source": [
        "## Tratando missings da coluna \"quantas_vezes_ficou_gravida\":"
      ],
      "metadata": {
        "id": "BvCf6fPmUB5s"
      }
    },
    {
      "cell_type": "code",
      "source": [
        "moda = dfd['quantas_vezes_ficou_gravida'].mode()\n",
        "dfd['quantas_vezes_ficou_gravida'] = np.where((dfd['quantas_vezes_ficou_gravida'].isnull()) & (dfd['engravidou'] == 'Sim'), moda , dfd['quantas_vezes_ficou_gravida'])\n",
        "dfd['quantas_vezes_ficou_gravida'] = np.where((dfd['quantas_vezes_ficou_gravida'].isnull()) & (dfd['engravidou'] == 'Não'), 0 , dfd['quantas_vezes_ficou_gravida'])\n",
        "dfd['quantas_vezes_ficou_gravida'] = np.where((dfd['quantas_vezes_ficou_gravida'].isnull()) & (dfd['engravidou'] == 'não informado'), 0 , dfd['quantas_vezes_ficou_gravida'])\n"
      ],
      "metadata": {
        "id": "4reCEff-UExI"
      },
      "execution_count": null,
      "outputs": []
    },
    {
      "cell_type": "markdown",
      "source": [
        "## Tratando missings da coluna \"abortou\":"
      ],
      "metadata": {
        "id": "z_xp75EfUHXH"
      }
    },
    {
      "cell_type": "code",
      "source": [
        "dfd['abortou'] = np.where((dfd['abortou'].isnull()) & (dfd['amamentou_na_primeira_gestacao'] == 'Sim') | (dfd['tempo_de_amamentacao'] > 0) , 'Não' , dfd['abortou'])\n",
        "dfd['abortou'] = np.where((dfd['abortou'].isnull()) & (dfd['sexo'] == 'Masculino') , 'Não(homem)' , dfd['abortou'])\n",
        "dfd['abortou'] = np.where((dfd['abortou'].isnull()) , 'Não-informado' , dfd['abortou'])"
      ],
      "metadata": {
        "id": "T3vXQalnULea"
      },
      "execution_count": null,
      "outputs": []
    },
    {
      "cell_type": "markdown",
      "source": [
        "## Tratando missings da coluna \"ultima_informacao\":"
      ],
      "metadata": {
        "id": "aCgvoEVPUOYl"
      }
    },
    {
      "cell_type": "code",
      "source": [
        "#analisando manualmente vimos que essa coluna possui apenas duas linhas vazias, verificando na outra tabela vimos que um dos pacientes teve metastase para diversos orgãos e a outra não retornou ao hospital, indicando que não realizou o tratamento\n",
        "dfd['ultima_informacao'] = dfd['ultima_informacao'].fillna('Obito por câncer')"
      ],
      "metadata": {
        "id": "iORi7W3sUTzQ"
      },
      "execution_count": null,
      "outputs": []
    },
    {
      "cell_type": "markdown",
      "source": [
        "## Tratando missings da coluna \"idade_primeira_menstruacao\":"
      ],
      "metadata": {
        "id": "3ozSi4-EUjCj"
      }
    },
    {
      "cell_type": "code",
      "source": [
        "dfd['idade_primeira_menstruacao'] = np.where((dfd['idade_primeira_menstruacao'].isnull()) , 13 , dfd['idade_primeira_menstruacao']) #13 é a idade média de menstruação no Brasil, não usamos a média, mediana ou moda da coluna, pois essa estava com poucos dados\n",
        "#ATENÇÃO: quando for fazer o encoding, devemos substituir o idade_primeira_menstruação das linhas que tem o 'sexo' == Masculino por \"não-menstrua\"\n"
      ],
      "metadata": {
        "id": "NEB07EolUkJT"
      },
      "execution_count": null,
      "outputs": []
    },
    {
      "cell_type": "markdown",
      "source": [
        "## Tratando missings das colunas \"radioterapia\", \"data_inicio_radioterapia\" , 'data_de_inicio_quimioterapia\" , \"tratamento\", \"esquema_hormonioterapia\", \"hormonioterapia\" , \"data_cirurgia\":"
      ],
      "metadata": {
        "id": "e5EBPfJQUv_g"
      }
    },
    {
      "cell_type": "markdown",
      "source": [
        "* Dando um contexto do que fizemos aqui: basicamente fizemos um merge entre algumas colunas da tabela de registro do tumor(dfrt) e algumas da tabela de dados demográficos(dfd) pois na dfrt tem informações que completarão as colunas citadas acima."
      ],
      "metadata": {
        "id": "r3SaPCBlU0T1"
      }
    },
    {
      "cell_type": "code",
      "source": [
        "#merge entre as colunas requeridas\n",
        "colunas_dfrt = dfrt[['record_id','Combinacao_tratamentos_realizados_hospital', 'Data_tratamento']]\n",
        "colunas_dfd = dfd[['record_id', 'tratamento', 'radioterapia', 'data_inicio_radioterapia', 'data_de_inicio_quimioterapia', 'esquema_hormonioterapia', 'hormonioterapia' , 'data_cirurgia']]\n",
        "merge_colunas = pd.merge(colunas_dfrt, colunas_dfd, on='record_id', how= 'right')"
      ],
      "metadata": {
        "id": "j0HFMRruVHXT"
      },
      "execution_count": null,
      "outputs": []
    },
    {
      "cell_type": "markdown",
      "source": [
        "* Tratando os missings da coluna \"radioterapia\":"
      ],
      "metadata": {
        "id": "njN8mtU0VOHE"
      }
    },
    {
      "cell_type": "code",
      "source": [
        "merge_colunas['radioterapia'] = np.where((merge_colunas['radioterapia'].isnull()) & (merge_colunas['Combinacao_tratamentos_realizados_hospital'] == 'Cirurgia + Radio + Quimio'), 'Sim' , merge_colunas['radioterapia'])\n",
        "merge_colunas['radioterapia'] = np.where((merge_colunas['radioterapia'].isnull()) & (merge_colunas['Combinacao_tratamentos_realizados_hospital'] == 'Cirurgia + Radio + Quimio + Hormonio'), 'Sim' , merge_colunas['radioterapia'])\n",
        "merge_colunas['radioterapia'] = np.where((merge_colunas['radioterapia'].isnull()) & (merge_colunas['Combinacao_tratamentos_realizados_hospital'] == 'Cirurgia + Radioterapia'), 'Sim' , merge_colunas['radioterapia'])\n",
        "merge_colunas['radioterapia'] = np.where((merge_colunas['radioterapia'].isnull()) & (merge_colunas['Combinacao_tratamentos_realizados_hospital'] == 'Radioterapia + Quimioterapia'), 'Sim' , merge_colunas['radioterapia'])\n",
        "merge_colunas['radioterapia'] = np.where((merge_colunas['radioterapia'].isnull()) & (merge_colunas['Combinacao_tratamentos_realizados_hospital'] == 'Radioterapia'), 'Sim' , merge_colunas['radioterapia'])\n",
        "merge_colunas['radioterapia'] = np.where((merge_colunas['radioterapia'] == 'Não') & (merge_colunas['Combinacao_tratamentos_realizados_hospital'] == 'Radioterapia'), 'Sim' , merge_colunas['radioterapia'])\n",
        "merge_colunas['radioterapia'] = np.where((merge_colunas['radioterapia'] == 'Não') & (merge_colunas['Combinacao_tratamentos_realizados_hospital'] == 'Cirurgia + Radio + Quimio + Hormonio'), 'Sim' , merge_colunas['radioterapia'])\n",
        "merge_colunas['radioterapia'] = np.where((merge_colunas['radioterapia'].isnull()) & (merge_colunas['Combinacao_tratamentos_realizados_hospital'] == 'Cirurgia + Quimioterapia'), 'Não' , merge_colunas['radioterapia'])\n",
        "merge_colunas['radioterapia'] = np.where((merge_colunas['radioterapia'].isnull()) & (merge_colunas['Combinacao_tratamentos_realizados_hospital'] == 'Quimioterapia'), 'Não' , merge_colunas['radioterapia'])\n",
        "merge_colunas['radioterapia'] = np.where((merge_colunas['radioterapia'].isnull()) & (merge_colunas['Combinacao_tratamentos_realizados_hospital'] == 'Nenhum tratamento'), 'Não' , merge_colunas['radioterapia'])\n",
        "merge_colunas['radioterapia'] = np.where((merge_colunas['radioterapia'].isnull()) & (merge_colunas['Combinacao_tratamentos_realizados_hospital'] == 'Cirurgia'), 'Não' , merge_colunas['radioterapia'])\n",
        "merge_colunas['radioterapia'] = np.where((merge_colunas['radioterapia'].isnull()) & (merge_colunas['Combinacao_tratamentos_realizados_hospital'] == 'Outras combinações'), 'Não' , merge_colunas['radioterapia'])\n",
        "#agora faremos a coluna radioterapia da tabela dfd receber a coluna radioterapia da tabela merge_colunas, que ja está tratada\n",
        "dfd['radioterapia'] = merge_colunas['radioterapia']"
      ],
      "metadata": {
        "id": "06WvvSl6VRr_"
      },
      "execution_count": null,
      "outputs": []
    },
    {
      "cell_type": "markdown",
      "source": [
        "* Tratando os missings da coluna \"data_cirurgia\":"
      ],
      "metadata": {
        "id": "kRbG8F1FVVd9"
      }
    },
    {
      "cell_type": "code",
      "source": [
        "merge_colunas['data_cirurgia'] = np.where((merge_colunas['data_cirurgia'].isnull()) & (merge_colunas['Combinacao_tratamentos_realizados_hospital'] == 'Cirurgia'), merge_colunas['Data_tratamento'] , merge_colunas['data_cirurgia'])\n",
        "dfd['data_cirurgia'] = merge_colunas['data_cirurgia']\n",
        "dfd['data_cirurgia'] = dfd['data_cirurgia'].fillna(\"Não informado\")"
      ],
      "metadata": {
        "id": "w0PZq7epVbqY"
      },
      "execution_count": null,
      "outputs": []
    },
    {
      "cell_type": "markdown",
      "source": [
        "* Tratando os missings da coluna \"data_inicio_radioterapia\":"
      ],
      "metadata": {
        "id": "vrh7xbbQVehY"
      }
    },
    {
      "cell_type": "code",
      "source": [
        "merge_colunas['data_inicio_radioterapia'] = np.where((merge_colunas['data_inicio_radioterapia'].isnull()) & (merge_colunas['Combinacao_tratamentos_realizados_hospital'] == 'Radioterapia'), merge_colunas['Data_tratamento'] , merge_colunas['data_inicio_radioterapia'])\n",
        "dfd['data_inicio_radioterapia'] = merge_colunas['data_inicio_radioterapia']\n",
        "dfd['data_inicio_radioterapia'] = dfd['data_inicio_radioterapia'].fillna(\"Não informado\")"
      ],
      "metadata": {
        "id": "mQ_R-CikVoPp"
      },
      "execution_count": null,
      "outputs": []
    },
    {
      "cell_type": "markdown",
      "source": [
        "* Tratando os missings da coluna \"data_de_inicio_quimioterapia\":"
      ],
      "metadata": {
        "id": "kO_hNeWBVqY_"
      }
    },
    {
      "cell_type": "code",
      "source": [
        "merge_colunas['data_de_inicio_quimioterapia'] = np.where((merge_colunas['data_de_inicio_quimioterapia'].isnull()) & (merge_colunas['Combinacao_tratamentos_realizados_hospital'] == 'Quimioterapia'), merge_colunas['Data_tratamento'] , merge_colunas['data_de_inicio_quimioterapia'])\n",
        "dfd['data_de_inicio_quimioterapia'] = merge_colunas['data_de_inicio_quimioterapia'] #com isso resgatamos cerca de 130 linhas\n",
        "dfd['data_de_inicio_quimioterapia'] = dfd['data_de_inicio_quimioterapia'].fillna(\"Não informado\")"
      ],
      "metadata": {
        "id": "CljLbAYVVuXg"
      },
      "execution_count": null,
      "outputs": []
    },
    {
      "cell_type": "markdown",
      "source": [
        "* Tratando os missings da coluna \"esquema_hormonioterapia\":"
      ],
      "metadata": {
        "id": "iyzbTkHaVx_Q"
      }
    },
    {
      "cell_type": "code",
      "source": [
        "merge_colunas['esquema_hormonioterapia'] = np.where((merge_colunas['esquema_hormonioterapia'].isnull()) & (merge_colunas['Combinacao_tratamentos_realizados_hospital'] != 'Cirurgia + Radio + Quimio + Hormonio') & (merge_colunas['Combinacao_tratamentos_realizados_hospital'] != 'Outras combinações'), \"Não realizou\" , merge_colunas['esquema_hormonioterapia'])\n",
        "merge_colunas['esquema_hormonioterapia'] = np.where((merge_colunas['esquema_hormonioterapia'].isnull()) & (merge_colunas['Combinacao_tratamentos_realizados_hospital'] == 'Outras combinações'), \"Não informado\" , merge_colunas['esquema_hormonioterapia'])\n",
        "#aqui faremos um preenchimento com uma distribuição aleatória dos valores, pois a contagem dos dados para essa coluna está muito perto para cada um dos dados.\n",
        "proporcoes = merge_colunas['esquema_hormonioterapia'].value_counts(normalize=True)\n",
        "valores_aleatorios = np.random.choice(proporcoes.index, size=merge_colunas['esquema_hormonioterapia'].isnull().sum(), p=proporcoes.values)\n",
        "dfd['esquema_hormonioterapia'] = merge_colunas['esquema_hormonioterapia']\n",
        "dfd['esquema_hormonioterapia'] = dfd['esquema_hormonioterapia'].fillna(pd.Series(valores_aleatorios))\n"
      ],
      "metadata": {
        "id": "U_VXw6XYV1wQ"
      },
      "execution_count": null,
      "outputs": []
    },
    {
      "cell_type": "markdown",
      "source": [
        "* Tratando os missings da coluna \"hormonioterapia\":"
      ],
      "metadata": {
        "id": "NRpJQgqQV5ZA"
      }
    },
    {
      "cell_type": "code",
      "source": [
        "merge_colunas['hormonioterapia'] = np.where((merge_colunas['hormonioterapia'].isnull()) & (merge_colunas['Combinacao_tratamentos_realizados_hospital'] == 'Cirurgia + Radio + Quimio + Hormonio') & (merge_colunas['tratamento'] == 'Terapia Adjuvante') , 'Adjuvante' , merge_colunas['hormonioterapia'])\n",
        "merge_colunas['hormonioterapia'] = np.where((merge_colunas['hormonioterapia'].isnull()) & (merge_colunas['Combinacao_tratamentos_realizados_hospital'] == 'Cirurgia + Radio + Quimio + Hormonio') & (merge_colunas['tratamento'] == 'Terapia Neoadjuvante') , 'Neoadjuvante' , merge_colunas['hormonioterapia'])\n",
        "merge_colunas['hormonioterapia'] = np.where((merge_colunas['hormonioterapia'].isnull()) & (merge_colunas['Combinacao_tratamentos_realizados_hospital'] == 'Outras combinações'), \"Não informado\" , merge_colunas['hormonioterapia'])\n",
        "merge_colunas['hormonioterapia'] = np.where((merge_colunas['hormonioterapia'].isnull()) & (merge_colunas['Combinacao_tratamentos_realizados_hospital'] != 'Cirurgia + Radio + Quimio + Hormonio') & (merge_colunas['Combinacao_tratamentos_realizados_hospital'] != 'Outras combinações'), \"Não realizou\" , merge_colunas['hormonioterapia'])\n",
        "dfd['hormonioterapia'] = merge_colunas['hormonioterapia']\n",
        "dfd['hormonioterapia'] = dfd['hormonioterapia'].fillna('Não informado')\n"
      ],
      "metadata": {
        "id": "5QBgt7iqV8G5"
      },
      "execution_count": null,
      "outputs": []
    },
    {
      "cell_type": "markdown",
      "source": [
        "* Tratando os missings da coluna \"tratamento\":"
      ],
      "metadata": {
        "id": "CYAcFa-iWBjS"
      }
    },
    {
      "cell_type": "code",
      "source": [
        "merge_colunas['tratamento'] = np.where((merge_colunas['tratamento'].isnull()) & (merge_colunas['Combinacao_tratamentos_realizados_hospital'] == 'Radioterapia') , 'Radioterapia' , merge_colunas['tratamento'])\n",
        "merge_colunas['tratamento'] = np.where((merge_colunas['tratamento'].isnull()) & (merge_colunas['Combinacao_tratamentos_realizados_hospital'] == 'Quimioterapia') , 'Quimioterapia' , merge_colunas['tratamento'])\n",
        "merge_colunas['tratamento'] = np.where((merge_colunas['tratamento'].isnull()) & (merge_colunas['Combinacao_tratamentos_realizados_hospital'] == 'Nenhum tratamento') , 'Nenhum tratamento' , merge_colunas['tratamento'])\n",
        "dfd['hormonioterapia'] = merge_colunas['hormonioterapia']"
      ],
      "metadata": {
        "id": "goF65wMoWFB7"
      },
      "execution_count": null,
      "outputs": []
    },
    {
      "cell_type": "markdown",
      "source": [
        "# 2.1.3 Tratamento de Missings da tabela dfpa(dados peso e altura):"
      ],
      "metadata": {
        "id": "z6GxYDzXWJiY"
      }
    },
    {
      "cell_type": "code",
      "source": [
        "dfpa.info()"
      ],
      "metadata": {
        "id": "NzT11xsiWdCc"
      },
      "execution_count": null,
      "outputs": []
    },
    {
      "cell_type": "code",
      "source": [
        "##Retirando a coluna Repeat_Instrument\n",
        "dfpa = dfpa.drop(\"Repeat Instrument\", axis='columns')\n",
        "\n",
        "#Renomeando as colunas\n",
        "dfpa = dfpa.rename(columns = {'Data: ':'Data', 'Altura (em centimetros)':'Altura', \n",
        "                       'Repeat Instance':'Repeat_Instance', 'Record ID':'Record_ID'})\n",
        "\n",
        "#Tabela reserva para teste\n",
        "dfpaTEST = dfpa\n",
        "\n",
        "#Retirando todas as que possuem todas colunas nulas\n",
        "dfpa = dfpa.dropna(thresh = 2)\n",
        "dfpa"
      ],
      "metadata": {
        "id": "Nw7LNMJji13L"
      },
      "execution_count": null,
      "outputs": []
    },
    {
      "cell_type": "code",
      "source": [
        "dfpa.reset_index()\n",
        "#Criando uma lista que irá receber todos os valores novos da altura\n",
        "new_altura = []\n",
        "#tratando os nan\n",
        "def missing_altura(data):\n",
        "  mode_mean = data['Altura'].mode(dropna=True).mean()\n",
        "  data['Altura'] = data['Altura'].replace(np.nan, mode_mean)\n",
        "\n",
        "#padronizando a altura de cada paciente\n",
        "def standardize_altura(data):\n",
        "  mode_mean = data['Altura'].mode(dropna=True).mean()\n",
        "\n",
        "  for i in data['Altura']:\n",
        "    if i < mode_mean or i > mode_mean:\n",
        "      data['Altura'] = data['Altura'].replace(i, mode_mean)\n",
        "    new_altura.append(i)\n",
        "\n",
        "#função que irá ser chamada pelo apply\n",
        "def treatment_altura(data):\n",
        "  missing_altura(data)\n",
        "  standardize_altura(data)\n",
        "\n",
        "#agrupando em subconjuntos pelo Record_Id, tratando os dados levando em consideração um paciente\n",
        "dfpa_groupby = dfpa.groupby(['Record_ID']).apply(treatment_altura)"
      ],
      "metadata": {
        "id": "dDUy9zani5vN"
      },
      "execution_count": null,
      "outputs": []
    },
    {
      "cell_type": "code",
      "source": [
        "#Tratando os elementos restantes\n",
        "dfpa['New_Altura'] = new_altura\n",
        "dfpa['New_Altura'] = dfpa['New_Altura'].replace(np.nan, dfpa['New_Altura'].mode(dropna=True).mean())\n",
        "dfpa['New_Altura'] = dfpa['New_Altura'].replace(0, dfpa['New_Altura'].mode(dropna=True).mean())\n",
        "dfpa['New_Altura'] = dfpa['New_Altura'].replace(78, dfpa['New_Altura'].mode(dropna=True).mean())\n",
        "dfpa = dfpa.drop(columns='Altura')\n",
        "dfpa = dfpa.rename(columns = {'New_Altura':'Altura'})\n",
        "dfpa.head()"
      ],
      "metadata": {
        "id": "6s2mkAEqi8R5"
      },
      "execution_count": null,
      "outputs": []
    },
    {
      "cell_type": "code",
      "source": [
        "#tratando os pesos a partir do agrupamento dos pacientes pelo seu Record_ID\n",
        "def missing_peso(data):\n",
        "  if len(data) == 1:\n",
        "    return data\n",
        "\n",
        "  else:\n",
        "    data['Peso'] = data['Peso'].replace(np.nan, data['Peso'].median())\n",
        "    for i in data['Peso']:\n",
        "      if i >= data['Peso'].mean()+data['Peso'].std()*3 or i < data['Peso'].mean()-data['Peso'].std()*3:\n",
        "        data['Peso'] = data['Peso'].replace(i, data['Peso'].mean())\n",
        "    return data\n",
        "\n",
        "\n",
        "dfpa = dfpa.groupby(['Record_ID']).apply(missing_peso)\n",
        "dfpa['Peso'] = dfpa['Peso'].replace(np.nan, dfpa['Peso'].mode().mean())\n",
        "dfpa['Peso'] = dfpa['Peso'].replace(1, dfpa['Peso'].mode().mean())"
      ],
      "metadata": {
        "id": "WC3jryoNi_L7"
      },
      "execution_count": null,
      "outputs": []
    },
    {
      "cell_type": "code",
      "source": [
        "#Recalculando o IMC com os novos dados\n",
        "def imc(row):\n",
        "  row['IMC'] = (row['Peso']/(row['Altura']**2))*10000\n",
        "  return row\n",
        "dfpa = dfpa.apply(imc, axis = 1)\n",
        "dfpa"
      ],
      "metadata": {
        "id": "DqHNuKnojBXB"
      },
      "execution_count": null,
      "outputs": []
    },
    {
      "cell_type": "code",
      "source": [
        "#Ordena a partir da data e retorna o resultado da primeira consulta\n",
        "def agrupamento(data):\n",
        "  data = data.sort_values(by='Data', ascending = True)\n",
        "  return data.iloc[0]\n",
        "\n",
        "dfpa = dfpa.groupby(by='Record_ID', as_index = False).apply(agrupamento)\n",
        "dfpa"
      ],
      "metadata": {
        "id": "WhbEHnvWjDkX"
      },
      "execution_count": null,
      "outputs": []
    },
    {
      "cell_type": "code",
      "source": [
        "dfpat = dfpaTEST.groupby(by='Record_ID', as_index = False).apply(agrupamento)\n",
        "dfpat"
      ],
      "metadata": {
        "id": "-X5SDci3jGks"
      },
      "execution_count": null,
      "outputs": []
    },
    {
      "cell_type": "code",
      "source": [
        "#Entendendo a diferença a tabela com e sem o tratamento do dropna \n",
        "dfall = dfpat.merge(dfpa.drop_duplicates(), on=['Record_ID'], \n",
        "                   how='left', indicator=True)\n",
        "dfall[dfall['_merge'] == 'left_only']"
      ],
      "metadata": {
        "id": "cWLF4lKijIaq"
      },
      "execution_count": null,
      "outputs": []
    },
    {
      "cell_type": "markdown",
      "source": [
        "#2.1.4 Tratamento de Missings da tabela dfh (Dados Histopatológicos)"
      ],
      "metadata": {
        "id": "Rl2mmajKPm3h"
      }
    },
    {
      "cell_type": "code",
      "source": [
        "dfh['repeat_instance'].unique()"
      ],
      "metadata": {
        "id": "0l4xKmpwWiUK"
      },
      "execution_count": null,
      "outputs": []
    },
    {
      "cell_type": "code",
      "source": [
        "dfh.head()"
      ],
      "metadata": {
        "id": "itM8gcH6ZO4P"
      },
      "execution_count": null,
      "outputs": []
    },
    {
      "cell_type": "code",
      "source": [
        "dfh=dfh.drop([2079, 2080, 2081, 2082, 2083, 2084, 2085, 2086, 2087, 2088, 2089, 2090, 2091, 2092])\n",
        "dfh.head()"
      ],
      "metadata": {
        "id": "vd9aNU7mQ9qm"
      },
      "execution_count": null,
      "outputs": []
    },
    {
      "cell_type": "code",
      "source": [
        "dfh = dfh.sort_values(by=['record_id', 'repeat_instance'], ascending=[True, True])\n",
        "dfh\n"
      ],
      "metadata": {
        "id": "0GGHfBBD373f"
      },
      "execution_count": null,
      "outputs": []
    },
    {
      "cell_type": "code",
      "source": [
        "dfh.drop_duplicates(subset='record_id', keep='last')"
      ],
      "metadata": {
        "id": "6wdyFiKAFaHA"
      },
      "execution_count": null,
      "outputs": []
    },
    {
      "cell_type": "code",
      "source": [
        "(dfh.isnull().mean().sort_values(ascending=False))*100"
      ],
      "metadata": {
        "id": "pDn19GEEN0cw"
      },
      "execution_count": null,
      "outputs": []
    },
    {
      "cell_type": "markdown",
      "source": [
        "###Removendo as colunas com muitos dados faltantes, que não podem ser deduzidos:"
      ],
      "metadata": {
        "id": "OzQtLHwRPk7T"
      }
    },
    {
      "cell_type": "code",
      "source": [
        "dfh = dfh.drop([\n",
        "    'indice_H_(Receptor_de_progesterona)', 'grau_histologico', 'receptor_de_progesterona_(quantificacao_%)', 'receptor_de_estrogenio_(quantificacao%)'\n",
        " ],axis=1)"
      ],
      "metadata": {
        "id": "NWZHeyGKP-D5"
      },
      "execution_count": null,
      "outputs": []
    },
    {
      "cell_type": "code",
      "source": [
        "dfh.dtypes"
      ],
      "metadata": {
        "id": "cgqscRyaOnOp"
      },
      "execution_count": null,
      "outputs": []
    },
    {
      "cell_type": "markdown",
      "source": [
        "###Transformando NaN em \"não realizado\", nas colunas receptor_de_estrogenio, receptor_de_progesterona e her2_por_FISH"
      ],
      "metadata": {
        "id": "0HjsWU24NW5q"
      }
    },
    {
      "cell_type": "code",
      "source": [
        "dfh['receptor_de_estrogenio'] = dfh['receptor_de_estrogenio'].fillna('não realizado')\n",
        "dfh['receptor_de_estrogenio'].unique()"
      ],
      "metadata": {
        "id": "NZU52Ap_NtXV"
      },
      "execution_count": null,
      "outputs": []
    },
    {
      "cell_type": "code",
      "source": [
        "dfh['receptor_de_progesterona'] = dfh['receptor_de_progesterona'].fillna('não realizado')\n",
        "dfh['receptor_de_progesterona'].unique()\n"
      ],
      "metadata": {
        "id": "1nS8ZHOwOlat"
      },
      "execution_count": null,
      "outputs": []
    },
    {
      "cell_type": "code",
      "source": [
        "dfh['her2_por_FISH'] = dfh['her2_por_FISH'].fillna('não realizado')\n",
        "dfh['her2_por_FISH'].unique()\n",
        "\n"
      ],
      "metadata": {
        "id": "h3A3urn5S7O8"
      },
      "execution_count": null,
      "outputs": []
    },
    {
      "cell_type": "markdown",
      "source": [
        "###Transformando NaN em \"outros\", na coluna diagnostico_primario_(tipo_histologico)"
      ],
      "metadata": {
        "id": "TUmNe_MixcpB"
      }
    },
    {
      "cell_type": "code",
      "source": [
        "dfh['diagnostico_primario_(tipo_histologico)'] = dfh['diagnostico_primario_(tipo_histologico)'].fillna('outros')\n",
        "dfh['diagnostico_primario_(tipo_histologico)'].unique()"
      ],
      "metadata": {
        "id": "d3fmOkPax4S7"
      },
      "execution_count": null,
      "outputs": []
    },
    {
      "cell_type": "markdown",
      "source": [
        "###Mudando o valor de ki67_(>14%) para positivo, se essa porcentagem for maior que 14% na coluna ki67_(%)"
      ],
      "metadata": {
        "id": "lwbVx2KMvBQv"
      }
    },
    {
      "cell_type": "code",
      "source": [
        "dfh['ki67_(%)']"
      ],
      "metadata": {
        "id": "WLBRI7jRWSXy"
      },
      "execution_count": null,
      "outputs": []
    },
    {
      "cell_type": "code",
      "source": [
        "dfh['ki67_(>14%)'] = np.where((dfh['ki67_(%)'].isnull()), 'não realizado', (np.where((dfh['ki67_(%)']> 14.), 'positivo', 'negativo')))\n",
        "dfh['ki67_(>14%)'].unique()"
      ],
      "metadata": {
        "id": "sNLdn0jzh8mu"
      },
      "execution_count": null,
      "outputs": []
    },
    {
      "cell_type": "code",
      "source": [
        "dfh.head(100)"
      ],
      "metadata": {
        "id": "HAPKcptakQJG"
      },
      "execution_count": null,
      "outputs": []
    },
    {
      "cell_type": "code",
      "source": [
        "dfh['receptor_de_progesterona'] = dfh['receptor_de_progesterona'].fillna('não realizado')\n",
        "dfh['receptor_de_progesterona'].unique()\n"
      ],
      "metadata": {
        "id": "Pa2tYcUVXCzi"
      },
      "execution_count": null,
      "outputs": []
    },
    {
      "cell_type": "code",
      "source": [
        "dfh['her2_por_FISH'] = dfh['her2_por_FISH'].fillna('não realizado')\n",
        "dfh['her2_por_FISH'].unique()\n",
        "\n"
      ],
      "metadata": {
        "id": "k3QgQhVLXCzj"
      },
      "execution_count": null,
      "outputs": []
    },
    {
      "cell_type": "markdown",
      "source": [
        "###Transformando NaN em \"outros\", na coluna diagnostico_primario_(tipo_histologico)"
      ],
      "metadata": {
        "id": "xFpaHfvxXCzj"
      }
    },
    {
      "cell_type": "code",
      "source": [
        "dfh['diagnostico_primario_(tipo_histologico)'] = dfh['diagnostico_primario_(tipo_histologico)'].fillna('outros')\n",
        "dfh['diagnostico_primario_(tipo_histologico)'].unique()"
      ],
      "metadata": {
        "id": "QGVnzd6CXCzj"
      },
      "execution_count": null,
      "outputs": []
    },
    {
      "cell_type": "markdown",
      "source": [
        "###Mudando o valor de ki67_(>14%) para positivo, se essa porcentagem for maior que 14% na coluna ki67_(%)"
      ],
      "metadata": {
        "id": "oxBBe89pXCzj"
      }
    },
    {
      "cell_type": "code",
      "source": [
        "dfh['ki67_(%)']"
      ],
      "metadata": {
        "id": "TiAssPdsXCzj"
      },
      "execution_count": null,
      "outputs": []
    },
    {
      "cell_type": "code",
      "source": [
        "dfh['ki67_(>14%)'] = np.where((dfh['ki67_(%)'].isnull()), 'não realizado', (np.where((dfh['ki67_(%)']> 14.), 'positivo', 'negativo')))\n",
        "dfh['ki67_(>14%)'].unique()"
      ],
      "metadata": {
        "id": "jb6Jl3CEXCzk"
      },
      "execution_count": null,
      "outputs": []
    },
    {
      "cell_type": "code",
      "source": [
        "dfh.head(100)"
      ],
      "metadata": {
        "id": "R3KR_yypXCzk"
      },
      "execution_count": null,
      "outputs": []
    },
    {
      "cell_type": "markdown",
      "source": [
        "###Substituindo NaN na coluna ki67_(%) por 0"
      ],
      "metadata": {
        "id": "hBW8mdPoNxWU"
      }
    },
    {
      "cell_type": "code",
      "source": [
        "dfh['ki67_(%)'] = dfh['ki67_(%)'].fillna(0.)\n",
        "dfh['ki67_(%)'].unique()"
      ],
      "metadata": {
        "id": "F8WeIz_dJpfC"
      },
      "execution_count": null,
      "outputs": []
    },
    {
      "cell_type": "markdown",
      "source": [
        "#2.1.3 Tratamento de Missings da tabela dfh(dados histopatológicos):"
      ],
      "metadata": {
        "id": "uJxQxGekUC4f"
      }
    },
    {
      "cell_type": "code",
      "source": [
        "dfh['repeat_instance'].unique()"
      ],
      "metadata": {
        "colab": {
          "base_uri": "https://localhost:8080/"
        },
        "id": "0l4xKmpwWiUK",
        "outputId": "862284f4-c4f7-43ab-ac51-86bbc5001b5e"
      },
      "execution_count": null,
      "outputs": [
        {
          "output_type": "execute_result",
          "data": {
            "text/plain": [
              "array([ 1.,  2.,  3.,  4.,  5.,  6.,  7.,  8.,  9., 10., 11., 12., 13.,\n",
              "       14., 15., 16., 17.])"
            ]
          },
          "metadata": {},
          "execution_count": 252
        }
      ]
    },
    {
      "cell_type": "code",
      "source": [
        "dfh.head()"
      ],
      "metadata": {
        "colab": {
          "base_uri": "https://localhost:8080/",
          "height": 270
        },
        "id": "itM8gcH6ZO4P",
        "outputId": "12f00a83-b83b-41b4-ddf7-6e5b86f4953a"
      },
      "execution_count": null,
      "outputs": [
        {
          "output_type": "execute_result",
          "data": {
            "text/plain": [
              "   record_id  repeat_instance diagnostico_primario_(tipo_histologico)  \\\n",
              "1        302              1.0                                     NaN   \n",
              "3        710              1.0                                     NaN   \n",
              "5        752              1.0                                     NaN   \n",
              "7       1367              1.0                                     NaN   \n",
              "8       1367              2.0                                     NaN   \n",
              "\n",
              "   grau_histologico  subtipo_tumoral receptor_de_estrogenio  \\\n",
              "1               NaN              5.0               positivo   \n",
              "3               NaN              2.0               positivo   \n",
              "5               NaN              3.0                    NaN   \n",
              "7               NaN              2.0               positivo   \n",
              "8               NaN              5.0               positivo   \n",
              "\n",
              "  receptor_de_progesterona ki67_(>14%)  \\\n",
              "1                 positivo         NaN   \n",
              "3                 negativo    positivo   \n",
              "5                      NaN         NaN   \n",
              "7                 positivo    positivo   \n",
              "8                 negativo    positivo   \n",
              "\n",
              "  receptor_de_progesterona_(quantificacao_%)  \\\n",
              "1                                        NaN   \n",
              "3                                        NaN   \n",
              "5                                        NaN   \n",
              "7                                          5   \n",
              "8                                        NaN   \n",
              "\n",
              "  receptor_de_estrogenio_(quantificacao%)  \\\n",
              "1                                     NaN   \n",
              "3                                     NaN   \n",
              "5                                     NaN   \n",
              "7                                      60   \n",
              "8                                      30   \n",
              "\n",
              "   indice_H_(Receptor_de_progesterona)     her2_por_IHC her2_por_FISH  \\\n",
              "1                                  NaN   +++ (positivo)           NaN   \n",
              "3                                  NaN     0 (negativo)           NaN   \n",
              "5                                  NaN   +++ (positivo)           NaN   \n",
              "7                                 10.0     0 (negativo)           NaN   \n",
              "8                                  NaN   +++ (positivo)           NaN   \n",
              "\n",
              "   ki67_(%)  \n",
              "1       NaN  \n",
              "3      20.0  \n",
              "5       NaN  \n",
              "7      40.0  \n",
              "8      40.0  "
            ],
            "text/html": [
              "\n",
              "  <div id=\"df-d4ba4b9f-5fc5-4081-b642-6e8bc144a0b6\">\n",
              "    <div class=\"colab-df-container\">\n",
              "      <div>\n",
              "<style scoped>\n",
              "    .dataframe tbody tr th:only-of-type {\n",
              "        vertical-align: middle;\n",
              "    }\n",
              "\n",
              "    .dataframe tbody tr th {\n",
              "        vertical-align: top;\n",
              "    }\n",
              "\n",
              "    .dataframe thead th {\n",
              "        text-align: right;\n",
              "    }\n",
              "</style>\n",
              "<table border=\"1\" class=\"dataframe\">\n",
              "  <thead>\n",
              "    <tr style=\"text-align: right;\">\n",
              "      <th></th>\n",
              "      <th>record_id</th>\n",
              "      <th>repeat_instance</th>\n",
              "      <th>diagnostico_primario_(tipo_histologico)</th>\n",
              "      <th>grau_histologico</th>\n",
              "      <th>subtipo_tumoral</th>\n",
              "      <th>receptor_de_estrogenio</th>\n",
              "      <th>receptor_de_progesterona</th>\n",
              "      <th>ki67_(&gt;14%)</th>\n",
              "      <th>receptor_de_progesterona_(quantificacao_%)</th>\n",
              "      <th>receptor_de_estrogenio_(quantificacao%)</th>\n",
              "      <th>indice_H_(Receptor_de_progesterona)</th>\n",
              "      <th>her2_por_IHC</th>\n",
              "      <th>her2_por_FISH</th>\n",
              "      <th>ki67_(%)</th>\n",
              "    </tr>\n",
              "  </thead>\n",
              "  <tbody>\n",
              "    <tr>\n",
              "      <th>1</th>\n",
              "      <td>302</td>\n",
              "      <td>1.0</td>\n",
              "      <td>NaN</td>\n",
              "      <td>NaN</td>\n",
              "      <td>5.0</td>\n",
              "      <td>positivo</td>\n",
              "      <td>positivo</td>\n",
              "      <td>NaN</td>\n",
              "      <td>NaN</td>\n",
              "      <td>NaN</td>\n",
              "      <td>NaN</td>\n",
              "      <td>+++ (positivo)</td>\n",
              "      <td>NaN</td>\n",
              "      <td>NaN</td>\n",
              "    </tr>\n",
              "    <tr>\n",
              "      <th>3</th>\n",
              "      <td>710</td>\n",
              "      <td>1.0</td>\n",
              "      <td>NaN</td>\n",
              "      <td>NaN</td>\n",
              "      <td>2.0</td>\n",
              "      <td>positivo</td>\n",
              "      <td>negativo</td>\n",
              "      <td>positivo</td>\n",
              "      <td>NaN</td>\n",
              "      <td>NaN</td>\n",
              "      <td>NaN</td>\n",
              "      <td>0 (negativo)</td>\n",
              "      <td>NaN</td>\n",
              "      <td>20.0</td>\n",
              "    </tr>\n",
              "    <tr>\n",
              "      <th>5</th>\n",
              "      <td>752</td>\n",
              "      <td>1.0</td>\n",
              "      <td>NaN</td>\n",
              "      <td>NaN</td>\n",
              "      <td>3.0</td>\n",
              "      <td>NaN</td>\n",
              "      <td>NaN</td>\n",
              "      <td>NaN</td>\n",
              "      <td>NaN</td>\n",
              "      <td>NaN</td>\n",
              "      <td>NaN</td>\n",
              "      <td>+++ (positivo)</td>\n",
              "      <td>NaN</td>\n",
              "      <td>NaN</td>\n",
              "    </tr>\n",
              "    <tr>\n",
              "      <th>7</th>\n",
              "      <td>1367</td>\n",
              "      <td>1.0</td>\n",
              "      <td>NaN</td>\n",
              "      <td>NaN</td>\n",
              "      <td>2.0</td>\n",
              "      <td>positivo</td>\n",
              "      <td>positivo</td>\n",
              "      <td>positivo</td>\n",
              "      <td>5</td>\n",
              "      <td>60</td>\n",
              "      <td>10.0</td>\n",
              "      <td>0 (negativo)</td>\n",
              "      <td>NaN</td>\n",
              "      <td>40.0</td>\n",
              "    </tr>\n",
              "    <tr>\n",
              "      <th>8</th>\n",
              "      <td>1367</td>\n",
              "      <td>2.0</td>\n",
              "      <td>NaN</td>\n",
              "      <td>NaN</td>\n",
              "      <td>5.0</td>\n",
              "      <td>positivo</td>\n",
              "      <td>negativo</td>\n",
              "      <td>positivo</td>\n",
              "      <td>NaN</td>\n",
              "      <td>30</td>\n",
              "      <td>NaN</td>\n",
              "      <td>+++ (positivo)</td>\n",
              "      <td>NaN</td>\n",
              "      <td>40.0</td>\n",
              "    </tr>\n",
              "  </tbody>\n",
              "</table>\n",
              "</div>\n",
              "      <button class=\"colab-df-convert\" onclick=\"convertToInteractive('df-d4ba4b9f-5fc5-4081-b642-6e8bc144a0b6')\"\n",
              "              title=\"Convert this dataframe to an interactive table.\"\n",
              "              style=\"display:none;\">\n",
              "        \n",
              "  <svg xmlns=\"http://www.w3.org/2000/svg\" height=\"24px\"viewBox=\"0 0 24 24\"\n",
              "       width=\"24px\">\n",
              "    <path d=\"M0 0h24v24H0V0z\" fill=\"none\"/>\n",
              "    <path d=\"M18.56 5.44l.94 2.06.94-2.06 2.06-.94-2.06-.94-.94-2.06-.94 2.06-2.06.94zm-11 1L8.5 8.5l.94-2.06 2.06-.94-2.06-.94L8.5 2.5l-.94 2.06-2.06.94zm10 10l.94 2.06.94-2.06 2.06-.94-2.06-.94-.94-2.06-.94 2.06-2.06.94z\"/><path d=\"M17.41 7.96l-1.37-1.37c-.4-.4-.92-.59-1.43-.59-.52 0-1.04.2-1.43.59L10.3 9.45l-7.72 7.72c-.78.78-.78 2.05 0 2.83L4 21.41c.39.39.9.59 1.41.59.51 0 1.02-.2 1.41-.59l7.78-7.78 2.81-2.81c.8-.78.8-2.07 0-2.86zM5.41 20L4 18.59l7.72-7.72 1.47 1.35L5.41 20z\"/>\n",
              "  </svg>\n",
              "      </button>\n",
              "      \n",
              "  <style>\n",
              "    .colab-df-container {\n",
              "      display:flex;\n",
              "      flex-wrap:wrap;\n",
              "      gap: 12px;\n",
              "    }\n",
              "\n",
              "    .colab-df-convert {\n",
              "      background-color: #E8F0FE;\n",
              "      border: none;\n",
              "      border-radius: 50%;\n",
              "      cursor: pointer;\n",
              "      display: none;\n",
              "      fill: #1967D2;\n",
              "      height: 32px;\n",
              "      padding: 0 0 0 0;\n",
              "      width: 32px;\n",
              "    }\n",
              "\n",
              "    .colab-df-convert:hover {\n",
              "      background-color: #E2EBFA;\n",
              "      box-shadow: 0px 1px 2px rgba(60, 64, 67, 0.3), 0px 1px 3px 1px rgba(60, 64, 67, 0.15);\n",
              "      fill: #174EA6;\n",
              "    }\n",
              "\n",
              "    [theme=dark] .colab-df-convert {\n",
              "      background-color: #3B4455;\n",
              "      fill: #D2E3FC;\n",
              "    }\n",
              "\n",
              "    [theme=dark] .colab-df-convert:hover {\n",
              "      background-color: #434B5C;\n",
              "      box-shadow: 0px 1px 3px 1px rgba(0, 0, 0, 0.15);\n",
              "      filter: drop-shadow(0px 1px 2px rgba(0, 0, 0, 0.3));\n",
              "      fill: #FFFFFF;\n",
              "    }\n",
              "  </style>\n",
              "\n",
              "      <script>\n",
              "        const buttonEl =\n",
              "          document.querySelector('#df-d4ba4b9f-5fc5-4081-b642-6e8bc144a0b6 button.colab-df-convert');\n",
              "        buttonEl.style.display =\n",
              "          google.colab.kernel.accessAllowed ? 'block' : 'none';\n",
              "\n",
              "        async function convertToInteractive(key) {\n",
              "          const element = document.querySelector('#df-d4ba4b9f-5fc5-4081-b642-6e8bc144a0b6');\n",
              "          const dataTable =\n",
              "            await google.colab.kernel.invokeFunction('convertToInteractive',\n",
              "                                                     [key], {});\n",
              "          if (!dataTable) return;\n",
              "\n",
              "          const docLinkHtml = 'Like what you see? Visit the ' +\n",
              "            '<a target=\"_blank\" href=https://colab.research.google.com/notebooks/data_table.ipynb>data table notebook</a>'\n",
              "            + ' to learn more about interactive tables.';\n",
              "          element.innerHTML = '';\n",
              "          dataTable['output_type'] = 'display_data';\n",
              "          await google.colab.output.renderOutput(dataTable, element);\n",
              "          const docLink = document.createElement('div');\n",
              "          docLink.innerHTML = docLinkHtml;\n",
              "          element.appendChild(docLink);\n",
              "        }\n",
              "      </script>\n",
              "    </div>\n",
              "  </div>\n",
              "  "
            ]
          },
          "metadata": {},
          "execution_count": 253
        }
      ]
    },
    {
      "cell_type": "code",
      "source": [
        "dfh=dfh.drop([2079, 2080, 2081, 2082, 2083, 2084, 2085, 2086, 2087, 2088, 2089, 2090, 2091, 2092])\n",
        "dfh.head()"
      ],
      "metadata": {
        "colab": {
          "base_uri": "https://localhost:8080/",
          "height": 270
        },
        "id": "vd9aNU7mQ9qm",
        "outputId": "3c6bd765-0c80-4858-eac7-34a859d2e6e2"
      },
      "execution_count": null,
      "outputs": [
        {
          "output_type": "execute_result",
          "data": {
            "text/plain": [
              "   record_id  repeat_instance diagnostico_primario_(tipo_histologico)  \\\n",
              "1        302              1.0                                     NaN   \n",
              "3        710              1.0                                     NaN   \n",
              "5        752              1.0                                     NaN   \n",
              "7       1367              1.0                                     NaN   \n",
              "8       1367              2.0                                     NaN   \n",
              "\n",
              "   grau_histologico  subtipo_tumoral receptor_de_estrogenio  \\\n",
              "1               NaN              5.0               positivo   \n",
              "3               NaN              2.0               positivo   \n",
              "5               NaN              3.0                    NaN   \n",
              "7               NaN              2.0               positivo   \n",
              "8               NaN              5.0               positivo   \n",
              "\n",
              "  receptor_de_progesterona ki67_(>14%)  \\\n",
              "1                 positivo         NaN   \n",
              "3                 negativo    positivo   \n",
              "5                      NaN         NaN   \n",
              "7                 positivo    positivo   \n",
              "8                 negativo    positivo   \n",
              "\n",
              "  receptor_de_progesterona_(quantificacao_%)  \\\n",
              "1                                        NaN   \n",
              "3                                        NaN   \n",
              "5                                        NaN   \n",
              "7                                          5   \n",
              "8                                        NaN   \n",
              "\n",
              "  receptor_de_estrogenio_(quantificacao%)  \\\n",
              "1                                     NaN   \n",
              "3                                     NaN   \n",
              "5                                     NaN   \n",
              "7                                      60   \n",
              "8                                      30   \n",
              "\n",
              "   indice_H_(Receptor_de_progesterona)     her2_por_IHC her2_por_FISH  \\\n",
              "1                                  NaN   +++ (positivo)           NaN   \n",
              "3                                  NaN     0 (negativo)           NaN   \n",
              "5                                  NaN   +++ (positivo)           NaN   \n",
              "7                                 10.0     0 (negativo)           NaN   \n",
              "8                                  NaN   +++ (positivo)           NaN   \n",
              "\n",
              "   ki67_(%)  \n",
              "1       NaN  \n",
              "3      20.0  \n",
              "5       NaN  \n",
              "7      40.0  \n",
              "8      40.0  "
            ],
            "text/html": [
              "\n",
              "  <div id=\"df-a72c27cf-dc01-4ed8-9399-b1f61e6ebecc\">\n",
              "    <div class=\"colab-df-container\">\n",
              "      <div>\n",
              "<style scoped>\n",
              "    .dataframe tbody tr th:only-of-type {\n",
              "        vertical-align: middle;\n",
              "    }\n",
              "\n",
              "    .dataframe tbody tr th {\n",
              "        vertical-align: top;\n",
              "    }\n",
              "\n",
              "    .dataframe thead th {\n",
              "        text-align: right;\n",
              "    }\n",
              "</style>\n",
              "<table border=\"1\" class=\"dataframe\">\n",
              "  <thead>\n",
              "    <tr style=\"text-align: right;\">\n",
              "      <th></th>\n",
              "      <th>record_id</th>\n",
              "      <th>repeat_instance</th>\n",
              "      <th>diagnostico_primario_(tipo_histologico)</th>\n",
              "      <th>grau_histologico</th>\n",
              "      <th>subtipo_tumoral</th>\n",
              "      <th>receptor_de_estrogenio</th>\n",
              "      <th>receptor_de_progesterona</th>\n",
              "      <th>ki67_(&gt;14%)</th>\n",
              "      <th>receptor_de_progesterona_(quantificacao_%)</th>\n",
              "      <th>receptor_de_estrogenio_(quantificacao%)</th>\n",
              "      <th>indice_H_(Receptor_de_progesterona)</th>\n",
              "      <th>her2_por_IHC</th>\n",
              "      <th>her2_por_FISH</th>\n",
              "      <th>ki67_(%)</th>\n",
              "    </tr>\n",
              "  </thead>\n",
              "  <tbody>\n",
              "    <tr>\n",
              "      <th>1</th>\n",
              "      <td>302</td>\n",
              "      <td>1.0</td>\n",
              "      <td>NaN</td>\n",
              "      <td>NaN</td>\n",
              "      <td>5.0</td>\n",
              "      <td>positivo</td>\n",
              "      <td>positivo</td>\n",
              "      <td>NaN</td>\n",
              "      <td>NaN</td>\n",
              "      <td>NaN</td>\n",
              "      <td>NaN</td>\n",
              "      <td>+++ (positivo)</td>\n",
              "      <td>NaN</td>\n",
              "      <td>NaN</td>\n",
              "    </tr>\n",
              "    <tr>\n",
              "      <th>3</th>\n",
              "      <td>710</td>\n",
              "      <td>1.0</td>\n",
              "      <td>NaN</td>\n",
              "      <td>NaN</td>\n",
              "      <td>2.0</td>\n",
              "      <td>positivo</td>\n",
              "      <td>negativo</td>\n",
              "      <td>positivo</td>\n",
              "      <td>NaN</td>\n",
              "      <td>NaN</td>\n",
              "      <td>NaN</td>\n",
              "      <td>0 (negativo)</td>\n",
              "      <td>NaN</td>\n",
              "      <td>20.0</td>\n",
              "    </tr>\n",
              "    <tr>\n",
              "      <th>5</th>\n",
              "      <td>752</td>\n",
              "      <td>1.0</td>\n",
              "      <td>NaN</td>\n",
              "      <td>NaN</td>\n",
              "      <td>3.0</td>\n",
              "      <td>NaN</td>\n",
              "      <td>NaN</td>\n",
              "      <td>NaN</td>\n",
              "      <td>NaN</td>\n",
              "      <td>NaN</td>\n",
              "      <td>NaN</td>\n",
              "      <td>+++ (positivo)</td>\n",
              "      <td>NaN</td>\n",
              "      <td>NaN</td>\n",
              "    </tr>\n",
              "    <tr>\n",
              "      <th>7</th>\n",
              "      <td>1367</td>\n",
              "      <td>1.0</td>\n",
              "      <td>NaN</td>\n",
              "      <td>NaN</td>\n",
              "      <td>2.0</td>\n",
              "      <td>positivo</td>\n",
              "      <td>positivo</td>\n",
              "      <td>positivo</td>\n",
              "      <td>5</td>\n",
              "      <td>60</td>\n",
              "      <td>10.0</td>\n",
              "      <td>0 (negativo)</td>\n",
              "      <td>NaN</td>\n",
              "      <td>40.0</td>\n",
              "    </tr>\n",
              "    <tr>\n",
              "      <th>8</th>\n",
              "      <td>1367</td>\n",
              "      <td>2.0</td>\n",
              "      <td>NaN</td>\n",
              "      <td>NaN</td>\n",
              "      <td>5.0</td>\n",
              "      <td>positivo</td>\n",
              "      <td>negativo</td>\n",
              "      <td>positivo</td>\n",
              "      <td>NaN</td>\n",
              "      <td>30</td>\n",
              "      <td>NaN</td>\n",
              "      <td>+++ (positivo)</td>\n",
              "      <td>NaN</td>\n",
              "      <td>40.0</td>\n",
              "    </tr>\n",
              "  </tbody>\n",
              "</table>\n",
              "</div>\n",
              "      <button class=\"colab-df-convert\" onclick=\"convertToInteractive('df-a72c27cf-dc01-4ed8-9399-b1f61e6ebecc')\"\n",
              "              title=\"Convert this dataframe to an interactive table.\"\n",
              "              style=\"display:none;\">\n",
              "        \n",
              "  <svg xmlns=\"http://www.w3.org/2000/svg\" height=\"24px\"viewBox=\"0 0 24 24\"\n",
              "       width=\"24px\">\n",
              "    <path d=\"M0 0h24v24H0V0z\" fill=\"none\"/>\n",
              "    <path d=\"M18.56 5.44l.94 2.06.94-2.06 2.06-.94-2.06-.94-.94-2.06-.94 2.06-2.06.94zm-11 1L8.5 8.5l.94-2.06 2.06-.94-2.06-.94L8.5 2.5l-.94 2.06-2.06.94zm10 10l.94 2.06.94-2.06 2.06-.94-2.06-.94-.94-2.06-.94 2.06-2.06.94z\"/><path d=\"M17.41 7.96l-1.37-1.37c-.4-.4-.92-.59-1.43-.59-.52 0-1.04.2-1.43.59L10.3 9.45l-7.72 7.72c-.78.78-.78 2.05 0 2.83L4 21.41c.39.39.9.59 1.41.59.51 0 1.02-.2 1.41-.59l7.78-7.78 2.81-2.81c.8-.78.8-2.07 0-2.86zM5.41 20L4 18.59l7.72-7.72 1.47 1.35L5.41 20z\"/>\n",
              "  </svg>\n",
              "      </button>\n",
              "      \n",
              "  <style>\n",
              "    .colab-df-container {\n",
              "      display:flex;\n",
              "      flex-wrap:wrap;\n",
              "      gap: 12px;\n",
              "    }\n",
              "\n",
              "    .colab-df-convert {\n",
              "      background-color: #E8F0FE;\n",
              "      border: none;\n",
              "      border-radius: 50%;\n",
              "      cursor: pointer;\n",
              "      display: none;\n",
              "      fill: #1967D2;\n",
              "      height: 32px;\n",
              "      padding: 0 0 0 0;\n",
              "      width: 32px;\n",
              "    }\n",
              "\n",
              "    .colab-df-convert:hover {\n",
              "      background-color: #E2EBFA;\n",
              "      box-shadow: 0px 1px 2px rgba(60, 64, 67, 0.3), 0px 1px 3px 1px rgba(60, 64, 67, 0.15);\n",
              "      fill: #174EA6;\n",
              "    }\n",
              "\n",
              "    [theme=dark] .colab-df-convert {\n",
              "      background-color: #3B4455;\n",
              "      fill: #D2E3FC;\n",
              "    }\n",
              "\n",
              "    [theme=dark] .colab-df-convert:hover {\n",
              "      background-color: #434B5C;\n",
              "      box-shadow: 0px 1px 3px 1px rgba(0, 0, 0, 0.15);\n",
              "      filter: drop-shadow(0px 1px 2px rgba(0, 0, 0, 0.3));\n",
              "      fill: #FFFFFF;\n",
              "    }\n",
              "  </style>\n",
              "\n",
              "      <script>\n",
              "        const buttonEl =\n",
              "          document.querySelector('#df-a72c27cf-dc01-4ed8-9399-b1f61e6ebecc button.colab-df-convert');\n",
              "        buttonEl.style.display =\n",
              "          google.colab.kernel.accessAllowed ? 'block' : 'none';\n",
              "\n",
              "        async function convertToInteractive(key) {\n",
              "          const element = document.querySelector('#df-a72c27cf-dc01-4ed8-9399-b1f61e6ebecc');\n",
              "          const dataTable =\n",
              "            await google.colab.kernel.invokeFunction('convertToInteractive',\n",
              "                                                     [key], {});\n",
              "          if (!dataTable) return;\n",
              "\n",
              "          const docLinkHtml = 'Like what you see? Visit the ' +\n",
              "            '<a target=\"_blank\" href=https://colab.research.google.com/notebooks/data_table.ipynb>data table notebook</a>'\n",
              "            + ' to learn more about interactive tables.';\n",
              "          element.innerHTML = '';\n",
              "          dataTable['output_type'] = 'display_data';\n",
              "          await google.colab.output.renderOutput(dataTable, element);\n",
              "          const docLink = document.createElement('div');\n",
              "          docLink.innerHTML = docLinkHtml;\n",
              "          element.appendChild(docLink);\n",
              "        }\n",
              "      </script>\n",
              "    </div>\n",
              "  </div>\n",
              "  "
            ]
          },
          "metadata": {},
          "execution_count": 254
        }
      ]
    },
    {
      "cell_type": "code",
      "source": [
        "dfh = dfh.sort_values(by=['record_id', 'repeat_instance'], ascending=[True, True])\n",
        "dfh\n"
      ],
      "metadata": {
        "colab": {
          "base_uri": "https://localhost:8080/",
          "height": 505
        },
        "id": "0GGHfBBD373f",
        "outputId": "aff71434-2c1a-4fe7-aa80-b9b847848e1f"
      },
      "execution_count": null,
      "outputs": [
        {
          "output_type": "execute_result",
          "data": {
            "text/plain": [
              "      record_id  repeat_instance  \\\n",
              "1           302              1.0   \n",
              "3           710              1.0   \n",
              "5           752              1.0   \n",
              "7          1367              1.0   \n",
              "8          1367              2.0   \n",
              "...         ...              ...   \n",
              "9057      82123              2.0   \n",
              "9059      82124              1.0   \n",
              "9061      82131              1.0   \n",
              "9063      82205              1.0   \n",
              "9065      82240              1.0   \n",
              "\n",
              "                diagnostico_primario_(tipo_histologico)  grau_histologico  \\\n",
              "1                                                   NaN               NaN   \n",
              "3                                                   NaN               NaN   \n",
              "5                                                   NaN               NaN   \n",
              "7                                                   NaN               NaN   \n",
              "8                                                   NaN               NaN   \n",
              "...                                                 ...               ...   \n",
              "9057                                                NaN               NaN   \n",
              "9059                                                NaN               NaN   \n",
              "9061                                                NaN               NaN   \n",
              "9063                                                NaN               NaN   \n",
              "9065  NÃO-ESPECIAL - Carcinoma de mama ductal invasi...               NaN   \n",
              "\n",
              "      subtipo_tumoral receptor_de_estrogenio receptor_de_progesterona  \\\n",
              "1                 5.0               positivo                 positivo   \n",
              "3                 2.0               positivo                 negativo   \n",
              "5                 3.0                    NaN                      NaN   \n",
              "7                 2.0               positivo                 positivo   \n",
              "8                 5.0               positivo                 negativo   \n",
              "...               ...                    ...                      ...   \n",
              "9057              3.0                    NaN                      NaN   \n",
              "9059              3.0                    NaN                      NaN   \n",
              "9061              3.0                    NaN                      NaN   \n",
              "9063              4.0               negativo                 negativo   \n",
              "9065              4.0               negativo                 negativo   \n",
              "\n",
              "     ki67_(>14%) receptor_de_progesterona_(quantificacao_%)  \\\n",
              "1            NaN                                        NaN   \n",
              "3       positivo                                        NaN   \n",
              "5            NaN                                        NaN   \n",
              "7       positivo                                          5   \n",
              "8       positivo                                        NaN   \n",
              "...          ...                                        ...   \n",
              "9057         NaN                                        NaN   \n",
              "9059         NaN                                        NaN   \n",
              "9061    positivo                                        NaN   \n",
              "9063    positivo                                        NaN   \n",
              "9065         NaN                                        NaN   \n",
              "\n",
              "     receptor_de_estrogenio_(quantificacao%)  \\\n",
              "1                                        NaN   \n",
              "3                                        NaN   \n",
              "5                                        NaN   \n",
              "7                                         60   \n",
              "8                                         30   \n",
              "...                                      ...   \n",
              "9057                                     NaN   \n",
              "9059                                     NaN   \n",
              "9061                                     NaN   \n",
              "9063                                     NaN   \n",
              "9065                                     NaN   \n",
              "\n",
              "      indice_H_(Receptor_de_progesterona)     her2_por_IHC her2_por_FISH  \\\n",
              "1                                     NaN   +++ (positivo)           NaN   \n",
              "3                                     NaN     0 (negativo)           NaN   \n",
              "5                                     NaN   +++ (positivo)           NaN   \n",
              "7                                    10.0     0 (negativo)           NaN   \n",
              "8                                     NaN   +++ (positivo)           NaN   \n",
              "...                                   ...              ...           ...   \n",
              "9057                                  NaN   +++ (positivo)           NaN   \n",
              "9059                                  NaN   +++ (positivo)           NaN   \n",
              "9061                                  NaN   +++ (positivo)           NaN   \n",
              "9063                                  NaN     0 (negativo)           NaN   \n",
              "9065                                  NaN     0 (negativo)           NaN   \n",
              "\n",
              "      ki67_(%)  \n",
              "1          NaN  \n",
              "3         20.0  \n",
              "5          NaN  \n",
              "7         40.0  \n",
              "8         40.0  \n",
              "...        ...  \n",
              "9057       NaN  \n",
              "9059       NaN  \n",
              "9061      50.0  \n",
              "9063      90.0  \n",
              "9065       NaN  \n",
              "\n",
              "[4780 rows x 14 columns]"
            ],
            "text/html": [
              "\n",
              "  <div id=\"df-ae208185-3271-4820-90d2-cd35a04f6fd8\">\n",
              "    <div class=\"colab-df-container\">\n",
              "      <div>\n",
              "<style scoped>\n",
              "    .dataframe tbody tr th:only-of-type {\n",
              "        vertical-align: middle;\n",
              "    }\n",
              "\n",
              "    .dataframe tbody tr th {\n",
              "        vertical-align: top;\n",
              "    }\n",
              "\n",
              "    .dataframe thead th {\n",
              "        text-align: right;\n",
              "    }\n",
              "</style>\n",
              "<table border=\"1\" class=\"dataframe\">\n",
              "  <thead>\n",
              "    <tr style=\"text-align: right;\">\n",
              "      <th></th>\n",
              "      <th>record_id</th>\n",
              "      <th>repeat_instance</th>\n",
              "      <th>diagnostico_primario_(tipo_histologico)</th>\n",
              "      <th>grau_histologico</th>\n",
              "      <th>subtipo_tumoral</th>\n",
              "      <th>receptor_de_estrogenio</th>\n",
              "      <th>receptor_de_progesterona</th>\n",
              "      <th>ki67_(&gt;14%)</th>\n",
              "      <th>receptor_de_progesterona_(quantificacao_%)</th>\n",
              "      <th>receptor_de_estrogenio_(quantificacao%)</th>\n",
              "      <th>indice_H_(Receptor_de_progesterona)</th>\n",
              "      <th>her2_por_IHC</th>\n",
              "      <th>her2_por_FISH</th>\n",
              "      <th>ki67_(%)</th>\n",
              "    </tr>\n",
              "  </thead>\n",
              "  <tbody>\n",
              "    <tr>\n",
              "      <th>1</th>\n",
              "      <td>302</td>\n",
              "      <td>1.0</td>\n",
              "      <td>NaN</td>\n",
              "      <td>NaN</td>\n",
              "      <td>5.0</td>\n",
              "      <td>positivo</td>\n",
              "      <td>positivo</td>\n",
              "      <td>NaN</td>\n",
              "      <td>NaN</td>\n",
              "      <td>NaN</td>\n",
              "      <td>NaN</td>\n",
              "      <td>+++ (positivo)</td>\n",
              "      <td>NaN</td>\n",
              "      <td>NaN</td>\n",
              "    </tr>\n",
              "    <tr>\n",
              "      <th>3</th>\n",
              "      <td>710</td>\n",
              "      <td>1.0</td>\n",
              "      <td>NaN</td>\n",
              "      <td>NaN</td>\n",
              "      <td>2.0</td>\n",
              "      <td>positivo</td>\n",
              "      <td>negativo</td>\n",
              "      <td>positivo</td>\n",
              "      <td>NaN</td>\n",
              "      <td>NaN</td>\n",
              "      <td>NaN</td>\n",
              "      <td>0 (negativo)</td>\n",
              "      <td>NaN</td>\n",
              "      <td>20.0</td>\n",
              "    </tr>\n",
              "    <tr>\n",
              "      <th>5</th>\n",
              "      <td>752</td>\n",
              "      <td>1.0</td>\n",
              "      <td>NaN</td>\n",
              "      <td>NaN</td>\n",
              "      <td>3.0</td>\n",
              "      <td>NaN</td>\n",
              "      <td>NaN</td>\n",
              "      <td>NaN</td>\n",
              "      <td>NaN</td>\n",
              "      <td>NaN</td>\n",
              "      <td>NaN</td>\n",
              "      <td>+++ (positivo)</td>\n",
              "      <td>NaN</td>\n",
              "      <td>NaN</td>\n",
              "    </tr>\n",
              "    <tr>\n",
              "      <th>7</th>\n",
              "      <td>1367</td>\n",
              "      <td>1.0</td>\n",
              "      <td>NaN</td>\n",
              "      <td>NaN</td>\n",
              "      <td>2.0</td>\n",
              "      <td>positivo</td>\n",
              "      <td>positivo</td>\n",
              "      <td>positivo</td>\n",
              "      <td>5</td>\n",
              "      <td>60</td>\n",
              "      <td>10.0</td>\n",
              "      <td>0 (negativo)</td>\n",
              "      <td>NaN</td>\n",
              "      <td>40.0</td>\n",
              "    </tr>\n",
              "    <tr>\n",
              "      <th>8</th>\n",
              "      <td>1367</td>\n",
              "      <td>2.0</td>\n",
              "      <td>NaN</td>\n",
              "      <td>NaN</td>\n",
              "      <td>5.0</td>\n",
              "      <td>positivo</td>\n",
              "      <td>negativo</td>\n",
              "      <td>positivo</td>\n",
              "      <td>NaN</td>\n",
              "      <td>30</td>\n",
              "      <td>NaN</td>\n",
              "      <td>+++ (positivo)</td>\n",
              "      <td>NaN</td>\n",
              "      <td>40.0</td>\n",
              "    </tr>\n",
              "    <tr>\n",
              "      <th>...</th>\n",
              "      <td>...</td>\n",
              "      <td>...</td>\n",
              "      <td>...</td>\n",
              "      <td>...</td>\n",
              "      <td>...</td>\n",
              "      <td>...</td>\n",
              "      <td>...</td>\n",
              "      <td>...</td>\n",
              "      <td>...</td>\n",
              "      <td>...</td>\n",
              "      <td>...</td>\n",
              "      <td>...</td>\n",
              "      <td>...</td>\n",
              "      <td>...</td>\n",
              "    </tr>\n",
              "    <tr>\n",
              "      <th>9057</th>\n",
              "      <td>82123</td>\n",
              "      <td>2.0</td>\n",
              "      <td>NaN</td>\n",
              "      <td>NaN</td>\n",
              "      <td>3.0</td>\n",
              "      <td>NaN</td>\n",
              "      <td>NaN</td>\n",
              "      <td>NaN</td>\n",
              "      <td>NaN</td>\n",
              "      <td>NaN</td>\n",
              "      <td>NaN</td>\n",
              "      <td>+++ (positivo)</td>\n",
              "      <td>NaN</td>\n",
              "      <td>NaN</td>\n",
              "    </tr>\n",
              "    <tr>\n",
              "      <th>9059</th>\n",
              "      <td>82124</td>\n",
              "      <td>1.0</td>\n",
              "      <td>NaN</td>\n",
              "      <td>NaN</td>\n",
              "      <td>3.0</td>\n",
              "      <td>NaN</td>\n",
              "      <td>NaN</td>\n",
              "      <td>NaN</td>\n",
              "      <td>NaN</td>\n",
              "      <td>NaN</td>\n",
              "      <td>NaN</td>\n",
              "      <td>+++ (positivo)</td>\n",
              "      <td>NaN</td>\n",
              "      <td>NaN</td>\n",
              "    </tr>\n",
              "    <tr>\n",
              "      <th>9061</th>\n",
              "      <td>82131</td>\n",
              "      <td>1.0</td>\n",
              "      <td>NaN</td>\n",
              "      <td>NaN</td>\n",
              "      <td>3.0</td>\n",
              "      <td>NaN</td>\n",
              "      <td>NaN</td>\n",
              "      <td>positivo</td>\n",
              "      <td>NaN</td>\n",
              "      <td>NaN</td>\n",
              "      <td>NaN</td>\n",
              "      <td>+++ (positivo)</td>\n",
              "      <td>NaN</td>\n",
              "      <td>50.0</td>\n",
              "    </tr>\n",
              "    <tr>\n",
              "      <th>9063</th>\n",
              "      <td>82205</td>\n",
              "      <td>1.0</td>\n",
              "      <td>NaN</td>\n",
              "      <td>NaN</td>\n",
              "      <td>4.0</td>\n",
              "      <td>negativo</td>\n",
              "      <td>negativo</td>\n",
              "      <td>positivo</td>\n",
              "      <td>NaN</td>\n",
              "      <td>NaN</td>\n",
              "      <td>NaN</td>\n",
              "      <td>0 (negativo)</td>\n",
              "      <td>NaN</td>\n",
              "      <td>90.0</td>\n",
              "    </tr>\n",
              "    <tr>\n",
              "      <th>9065</th>\n",
              "      <td>82240</td>\n",
              "      <td>1.0</td>\n",
              "      <td>NÃO-ESPECIAL - Carcinoma de mama ductal invasi...</td>\n",
              "      <td>NaN</td>\n",
              "      <td>4.0</td>\n",
              "      <td>negativo</td>\n",
              "      <td>negativo</td>\n",
              "      <td>NaN</td>\n",
              "      <td>NaN</td>\n",
              "      <td>NaN</td>\n",
              "      <td>NaN</td>\n",
              "      <td>0 (negativo)</td>\n",
              "      <td>NaN</td>\n",
              "      <td>NaN</td>\n",
              "    </tr>\n",
              "  </tbody>\n",
              "</table>\n",
              "<p>4780 rows × 14 columns</p>\n",
              "</div>\n",
              "      <button class=\"colab-df-convert\" onclick=\"convertToInteractive('df-ae208185-3271-4820-90d2-cd35a04f6fd8')\"\n",
              "              title=\"Convert this dataframe to an interactive table.\"\n",
              "              style=\"display:none;\">\n",
              "        \n",
              "  <svg xmlns=\"http://www.w3.org/2000/svg\" height=\"24px\"viewBox=\"0 0 24 24\"\n",
              "       width=\"24px\">\n",
              "    <path d=\"M0 0h24v24H0V0z\" fill=\"none\"/>\n",
              "    <path d=\"M18.56 5.44l.94 2.06.94-2.06 2.06-.94-2.06-.94-.94-2.06-.94 2.06-2.06.94zm-11 1L8.5 8.5l.94-2.06 2.06-.94-2.06-.94L8.5 2.5l-.94 2.06-2.06.94zm10 10l.94 2.06.94-2.06 2.06-.94-2.06-.94-.94-2.06-.94 2.06-2.06.94z\"/><path d=\"M17.41 7.96l-1.37-1.37c-.4-.4-.92-.59-1.43-.59-.52 0-1.04.2-1.43.59L10.3 9.45l-7.72 7.72c-.78.78-.78 2.05 0 2.83L4 21.41c.39.39.9.59 1.41.59.51 0 1.02-.2 1.41-.59l7.78-7.78 2.81-2.81c.8-.78.8-2.07 0-2.86zM5.41 20L4 18.59l7.72-7.72 1.47 1.35L5.41 20z\"/>\n",
              "  </svg>\n",
              "      </button>\n",
              "      \n",
              "  <style>\n",
              "    .colab-df-container {\n",
              "      display:flex;\n",
              "      flex-wrap:wrap;\n",
              "      gap: 12px;\n",
              "    }\n",
              "\n",
              "    .colab-df-convert {\n",
              "      background-color: #E8F0FE;\n",
              "      border: none;\n",
              "      border-radius: 50%;\n",
              "      cursor: pointer;\n",
              "      display: none;\n",
              "      fill: #1967D2;\n",
              "      height: 32px;\n",
              "      padding: 0 0 0 0;\n",
              "      width: 32px;\n",
              "    }\n",
              "\n",
              "    .colab-df-convert:hover {\n",
              "      background-color: #E2EBFA;\n",
              "      box-shadow: 0px 1px 2px rgba(60, 64, 67, 0.3), 0px 1px 3px 1px rgba(60, 64, 67, 0.15);\n",
              "      fill: #174EA6;\n",
              "    }\n",
              "\n",
              "    [theme=dark] .colab-df-convert {\n",
              "      background-color: #3B4455;\n",
              "      fill: #D2E3FC;\n",
              "    }\n",
              "\n",
              "    [theme=dark] .colab-df-convert:hover {\n",
              "      background-color: #434B5C;\n",
              "      box-shadow: 0px 1px 3px 1px rgba(0, 0, 0, 0.15);\n",
              "      filter: drop-shadow(0px 1px 2px rgba(0, 0, 0, 0.3));\n",
              "      fill: #FFFFFF;\n",
              "    }\n",
              "  </style>\n",
              "\n",
              "      <script>\n",
              "        const buttonEl =\n",
              "          document.querySelector('#df-ae208185-3271-4820-90d2-cd35a04f6fd8 button.colab-df-convert');\n",
              "        buttonEl.style.display =\n",
              "          google.colab.kernel.accessAllowed ? 'block' : 'none';\n",
              "\n",
              "        async function convertToInteractive(key) {\n",
              "          const element = document.querySelector('#df-ae208185-3271-4820-90d2-cd35a04f6fd8');\n",
              "          const dataTable =\n",
              "            await google.colab.kernel.invokeFunction('convertToInteractive',\n",
              "                                                     [key], {});\n",
              "          if (!dataTable) return;\n",
              "\n",
              "          const docLinkHtml = 'Like what you see? Visit the ' +\n",
              "            '<a target=\"_blank\" href=https://colab.research.google.com/notebooks/data_table.ipynb>data table notebook</a>'\n",
              "            + ' to learn more about interactive tables.';\n",
              "          element.innerHTML = '';\n",
              "          dataTable['output_type'] = 'display_data';\n",
              "          await google.colab.output.renderOutput(dataTable, element);\n",
              "          const docLink = document.createElement('div');\n",
              "          docLink.innerHTML = docLinkHtml;\n",
              "          element.appendChild(docLink);\n",
              "        }\n",
              "      </script>\n",
              "    </div>\n",
              "  </div>\n",
              "  "
            ]
          },
          "metadata": {},
          "execution_count": 255
        }
      ]
    },
    {
      "cell_type": "code",
      "source": [
        "dfh.drop_duplicates(subset='record_id', keep='last')"
      ],
      "metadata": {
        "colab": {
          "base_uri": "https://localhost:8080/",
          "height": 522
        },
        "id": "6wdyFiKAFaHA",
        "outputId": "5b6f3dd1-0ccc-49f7-cf0e-9a841dd9456c"
      },
      "execution_count": null,
      "outputs": [
        {
          "output_type": "execute_result",
          "data": {
            "text/plain": [
              "      record_id  repeat_instance  \\\n",
              "1           302              1.0   \n",
              "3           710              1.0   \n",
              "5           752              1.0   \n",
              "8          1367              2.0   \n",
              "10         1589              1.0   \n",
              "...         ...              ...   \n",
              "9057      82123              2.0   \n",
              "9059      82124              1.0   \n",
              "9061      82131              1.0   \n",
              "9063      82205              1.0   \n",
              "9065      82240              1.0   \n",
              "\n",
              "                diagnostico_primario_(tipo_histologico)  grau_histologico  \\\n",
              "1                                                   NaN               NaN   \n",
              "3                                                   NaN               NaN   \n",
              "5                                                   NaN               NaN   \n",
              "8                                                   NaN               NaN   \n",
              "10    NÃO-ESPECIAL - Carcinoma de mama ductal invasi...               NaN   \n",
              "...                                                 ...               ...   \n",
              "9057                                                NaN               NaN   \n",
              "9059                                                NaN               NaN   \n",
              "9061                                                NaN               NaN   \n",
              "9063                                                NaN               NaN   \n",
              "9065  NÃO-ESPECIAL - Carcinoma de mama ductal invasi...               NaN   \n",
              "\n",
              "      subtipo_tumoral receptor_de_estrogenio receptor_de_progesterona  \\\n",
              "1                 5.0               positivo                 positivo   \n",
              "3                 2.0               positivo                 negativo   \n",
              "5                 3.0                    NaN                      NaN   \n",
              "8                 5.0               positivo                 negativo   \n",
              "10                5.0               positivo                 positivo   \n",
              "...               ...                    ...                      ...   \n",
              "9057              3.0                    NaN                      NaN   \n",
              "9059              3.0                    NaN                      NaN   \n",
              "9061              3.0                    NaN                      NaN   \n",
              "9063              4.0               negativo                 negativo   \n",
              "9065              4.0               negativo                 negativo   \n",
              "\n",
              "     ki67_(>14%) receptor_de_progesterona_(quantificacao_%)  \\\n",
              "1            NaN                                        NaN   \n",
              "3       positivo                                        NaN   \n",
              "5            NaN                                        NaN   \n",
              "8       positivo                                        NaN   \n",
              "10           NaN                                        NaN   \n",
              "...          ...                                        ...   \n",
              "9057         NaN                                        NaN   \n",
              "9059         NaN                                        NaN   \n",
              "9061    positivo                                        NaN   \n",
              "9063    positivo                                        NaN   \n",
              "9065         NaN                                        NaN   \n",
              "\n",
              "     receptor_de_estrogenio_(quantificacao%)  \\\n",
              "1                                        NaN   \n",
              "3                                        NaN   \n",
              "5                                        NaN   \n",
              "8                                         30   \n",
              "10                                       NaN   \n",
              "...                                      ...   \n",
              "9057                                     NaN   \n",
              "9059                                     NaN   \n",
              "9061                                     NaN   \n",
              "9063                                     NaN   \n",
              "9065                                     NaN   \n",
              "\n",
              "      indice_H_(Receptor_de_progesterona)     her2_por_IHC her2_por_FISH  \\\n",
              "1                                     NaN   +++ (positivo)           NaN   \n",
              "3                                     NaN     0 (negativo)           NaN   \n",
              "5                                     NaN   +++ (positivo)           NaN   \n",
              "8                                     NaN   +++ (positivo)           NaN   \n",
              "10                                    NaN   +++ (positivo)           NaN   \n",
              "...                                   ...              ...           ...   \n",
              "9057                                  NaN   +++ (positivo)           NaN   \n",
              "9059                                  NaN   +++ (positivo)           NaN   \n",
              "9061                                  NaN   +++ (positivo)           NaN   \n",
              "9063                                  NaN     0 (negativo)           NaN   \n",
              "9065                                  NaN     0 (negativo)           NaN   \n",
              "\n",
              "      ki67_(%)  \n",
              "1          NaN  \n",
              "3         20.0  \n",
              "5          NaN  \n",
              "8         40.0  \n",
              "10         NaN  \n",
              "...        ...  \n",
              "9057       NaN  \n",
              "9059       NaN  \n",
              "9061      50.0  \n",
              "9063      90.0  \n",
              "9065       NaN  \n",
              "\n",
              "[4272 rows x 14 columns]"
            ],
            "text/html": [
              "\n",
              "  <div id=\"df-256f05e3-364a-4978-9edb-526eb7929cc7\">\n",
              "    <div class=\"colab-df-container\">\n",
              "      <div>\n",
              "<style scoped>\n",
              "    .dataframe tbody tr th:only-of-type {\n",
              "        vertical-align: middle;\n",
              "    }\n",
              "\n",
              "    .dataframe tbody tr th {\n",
              "        vertical-align: top;\n",
              "    }\n",
              "\n",
              "    .dataframe thead th {\n",
              "        text-align: right;\n",
              "    }\n",
              "</style>\n",
              "<table border=\"1\" class=\"dataframe\">\n",
              "  <thead>\n",
              "    <tr style=\"text-align: right;\">\n",
              "      <th></th>\n",
              "      <th>record_id</th>\n",
              "      <th>repeat_instance</th>\n",
              "      <th>diagnostico_primario_(tipo_histologico)</th>\n",
              "      <th>grau_histologico</th>\n",
              "      <th>subtipo_tumoral</th>\n",
              "      <th>receptor_de_estrogenio</th>\n",
              "      <th>receptor_de_progesterona</th>\n",
              "      <th>ki67_(&gt;14%)</th>\n",
              "      <th>receptor_de_progesterona_(quantificacao_%)</th>\n",
              "      <th>receptor_de_estrogenio_(quantificacao%)</th>\n",
              "      <th>indice_H_(Receptor_de_progesterona)</th>\n",
              "      <th>her2_por_IHC</th>\n",
              "      <th>her2_por_FISH</th>\n",
              "      <th>ki67_(%)</th>\n",
              "    </tr>\n",
              "  </thead>\n",
              "  <tbody>\n",
              "    <tr>\n",
              "      <th>1</th>\n",
              "      <td>302</td>\n",
              "      <td>1.0</td>\n",
              "      <td>NaN</td>\n",
              "      <td>NaN</td>\n",
              "      <td>5.0</td>\n",
              "      <td>positivo</td>\n",
              "      <td>positivo</td>\n",
              "      <td>NaN</td>\n",
              "      <td>NaN</td>\n",
              "      <td>NaN</td>\n",
              "      <td>NaN</td>\n",
              "      <td>+++ (positivo)</td>\n",
              "      <td>NaN</td>\n",
              "      <td>NaN</td>\n",
              "    </tr>\n",
              "    <tr>\n",
              "      <th>3</th>\n",
              "      <td>710</td>\n",
              "      <td>1.0</td>\n",
              "      <td>NaN</td>\n",
              "      <td>NaN</td>\n",
              "      <td>2.0</td>\n",
              "      <td>positivo</td>\n",
              "      <td>negativo</td>\n",
              "      <td>positivo</td>\n",
              "      <td>NaN</td>\n",
              "      <td>NaN</td>\n",
              "      <td>NaN</td>\n",
              "      <td>0 (negativo)</td>\n",
              "      <td>NaN</td>\n",
              "      <td>20.0</td>\n",
              "    </tr>\n",
              "    <tr>\n",
              "      <th>5</th>\n",
              "      <td>752</td>\n",
              "      <td>1.0</td>\n",
              "      <td>NaN</td>\n",
              "      <td>NaN</td>\n",
              "      <td>3.0</td>\n",
              "      <td>NaN</td>\n",
              "      <td>NaN</td>\n",
              "      <td>NaN</td>\n",
              "      <td>NaN</td>\n",
              "      <td>NaN</td>\n",
              "      <td>NaN</td>\n",
              "      <td>+++ (positivo)</td>\n",
              "      <td>NaN</td>\n",
              "      <td>NaN</td>\n",
              "    </tr>\n",
              "    <tr>\n",
              "      <th>8</th>\n",
              "      <td>1367</td>\n",
              "      <td>2.0</td>\n",
              "      <td>NaN</td>\n",
              "      <td>NaN</td>\n",
              "      <td>5.0</td>\n",
              "      <td>positivo</td>\n",
              "      <td>negativo</td>\n",
              "      <td>positivo</td>\n",
              "      <td>NaN</td>\n",
              "      <td>30</td>\n",
              "      <td>NaN</td>\n",
              "      <td>+++ (positivo)</td>\n",
              "      <td>NaN</td>\n",
              "      <td>40.0</td>\n",
              "    </tr>\n",
              "    <tr>\n",
              "      <th>10</th>\n",
              "      <td>1589</td>\n",
              "      <td>1.0</td>\n",
              "      <td>NÃO-ESPECIAL - Carcinoma de mama ductal invasi...</td>\n",
              "      <td>NaN</td>\n",
              "      <td>5.0</td>\n",
              "      <td>positivo</td>\n",
              "      <td>positivo</td>\n",
              "      <td>NaN</td>\n",
              "      <td>NaN</td>\n",
              "      <td>NaN</td>\n",
              "      <td>NaN</td>\n",
              "      <td>+++ (positivo)</td>\n",
              "      <td>NaN</td>\n",
              "      <td>NaN</td>\n",
              "    </tr>\n",
              "    <tr>\n",
              "      <th>...</th>\n",
              "      <td>...</td>\n",
              "      <td>...</td>\n",
              "      <td>...</td>\n",
              "      <td>...</td>\n",
              "      <td>...</td>\n",
              "      <td>...</td>\n",
              "      <td>...</td>\n",
              "      <td>...</td>\n",
              "      <td>...</td>\n",
              "      <td>...</td>\n",
              "      <td>...</td>\n",
              "      <td>...</td>\n",
              "      <td>...</td>\n",
              "      <td>...</td>\n",
              "    </tr>\n",
              "    <tr>\n",
              "      <th>9057</th>\n",
              "      <td>82123</td>\n",
              "      <td>2.0</td>\n",
              "      <td>NaN</td>\n",
              "      <td>NaN</td>\n",
              "      <td>3.0</td>\n",
              "      <td>NaN</td>\n",
              "      <td>NaN</td>\n",
              "      <td>NaN</td>\n",
              "      <td>NaN</td>\n",
              "      <td>NaN</td>\n",
              "      <td>NaN</td>\n",
              "      <td>+++ (positivo)</td>\n",
              "      <td>NaN</td>\n",
              "      <td>NaN</td>\n",
              "    </tr>\n",
              "    <tr>\n",
              "      <th>9059</th>\n",
              "      <td>82124</td>\n",
              "      <td>1.0</td>\n",
              "      <td>NaN</td>\n",
              "      <td>NaN</td>\n",
              "      <td>3.0</td>\n",
              "      <td>NaN</td>\n",
              "      <td>NaN</td>\n",
              "      <td>NaN</td>\n",
              "      <td>NaN</td>\n",
              "      <td>NaN</td>\n",
              "      <td>NaN</td>\n",
              "      <td>+++ (positivo)</td>\n",
              "      <td>NaN</td>\n",
              "      <td>NaN</td>\n",
              "    </tr>\n",
              "    <tr>\n",
              "      <th>9061</th>\n",
              "      <td>82131</td>\n",
              "      <td>1.0</td>\n",
              "      <td>NaN</td>\n",
              "      <td>NaN</td>\n",
              "      <td>3.0</td>\n",
              "      <td>NaN</td>\n",
              "      <td>NaN</td>\n",
              "      <td>positivo</td>\n",
              "      <td>NaN</td>\n",
              "      <td>NaN</td>\n",
              "      <td>NaN</td>\n",
              "      <td>+++ (positivo)</td>\n",
              "      <td>NaN</td>\n",
              "      <td>50.0</td>\n",
              "    </tr>\n",
              "    <tr>\n",
              "      <th>9063</th>\n",
              "      <td>82205</td>\n",
              "      <td>1.0</td>\n",
              "      <td>NaN</td>\n",
              "      <td>NaN</td>\n",
              "      <td>4.0</td>\n",
              "      <td>negativo</td>\n",
              "      <td>negativo</td>\n",
              "      <td>positivo</td>\n",
              "      <td>NaN</td>\n",
              "      <td>NaN</td>\n",
              "      <td>NaN</td>\n",
              "      <td>0 (negativo)</td>\n",
              "      <td>NaN</td>\n",
              "      <td>90.0</td>\n",
              "    </tr>\n",
              "    <tr>\n",
              "      <th>9065</th>\n",
              "      <td>82240</td>\n",
              "      <td>1.0</td>\n",
              "      <td>NÃO-ESPECIAL - Carcinoma de mama ductal invasi...</td>\n",
              "      <td>NaN</td>\n",
              "      <td>4.0</td>\n",
              "      <td>negativo</td>\n",
              "      <td>negativo</td>\n",
              "      <td>NaN</td>\n",
              "      <td>NaN</td>\n",
              "      <td>NaN</td>\n",
              "      <td>NaN</td>\n",
              "      <td>0 (negativo)</td>\n",
              "      <td>NaN</td>\n",
              "      <td>NaN</td>\n",
              "    </tr>\n",
              "  </tbody>\n",
              "</table>\n",
              "<p>4272 rows × 14 columns</p>\n",
              "</div>\n",
              "      <button class=\"colab-df-convert\" onclick=\"convertToInteractive('df-256f05e3-364a-4978-9edb-526eb7929cc7')\"\n",
              "              title=\"Convert this dataframe to an interactive table.\"\n",
              "              style=\"display:none;\">\n",
              "        \n",
              "  <svg xmlns=\"http://www.w3.org/2000/svg\" height=\"24px\"viewBox=\"0 0 24 24\"\n",
              "       width=\"24px\">\n",
              "    <path d=\"M0 0h24v24H0V0z\" fill=\"none\"/>\n",
              "    <path d=\"M18.56 5.44l.94 2.06.94-2.06 2.06-.94-2.06-.94-.94-2.06-.94 2.06-2.06.94zm-11 1L8.5 8.5l.94-2.06 2.06-.94-2.06-.94L8.5 2.5l-.94 2.06-2.06.94zm10 10l.94 2.06.94-2.06 2.06-.94-2.06-.94-.94-2.06-.94 2.06-2.06.94z\"/><path d=\"M17.41 7.96l-1.37-1.37c-.4-.4-.92-.59-1.43-.59-.52 0-1.04.2-1.43.59L10.3 9.45l-7.72 7.72c-.78.78-.78 2.05 0 2.83L4 21.41c.39.39.9.59 1.41.59.51 0 1.02-.2 1.41-.59l7.78-7.78 2.81-2.81c.8-.78.8-2.07 0-2.86zM5.41 20L4 18.59l7.72-7.72 1.47 1.35L5.41 20z\"/>\n",
              "  </svg>\n",
              "      </button>\n",
              "      \n",
              "  <style>\n",
              "    .colab-df-container {\n",
              "      display:flex;\n",
              "      flex-wrap:wrap;\n",
              "      gap: 12px;\n",
              "    }\n",
              "\n",
              "    .colab-df-convert {\n",
              "      background-color: #E8F0FE;\n",
              "      border: none;\n",
              "      border-radius: 50%;\n",
              "      cursor: pointer;\n",
              "      display: none;\n",
              "      fill: #1967D2;\n",
              "      height: 32px;\n",
              "      padding: 0 0 0 0;\n",
              "      width: 32px;\n",
              "    }\n",
              "\n",
              "    .colab-df-convert:hover {\n",
              "      background-color: #E2EBFA;\n",
              "      box-shadow: 0px 1px 2px rgba(60, 64, 67, 0.3), 0px 1px 3px 1px rgba(60, 64, 67, 0.15);\n",
              "      fill: #174EA6;\n",
              "    }\n",
              "\n",
              "    [theme=dark] .colab-df-convert {\n",
              "      background-color: #3B4455;\n",
              "      fill: #D2E3FC;\n",
              "    }\n",
              "\n",
              "    [theme=dark] .colab-df-convert:hover {\n",
              "      background-color: #434B5C;\n",
              "      box-shadow: 0px 1px 3px 1px rgba(0, 0, 0, 0.15);\n",
              "      filter: drop-shadow(0px 1px 2px rgba(0, 0, 0, 0.3));\n",
              "      fill: #FFFFFF;\n",
              "    }\n",
              "  </style>\n",
              "\n",
              "      <script>\n",
              "        const buttonEl =\n",
              "          document.querySelector('#df-256f05e3-364a-4978-9edb-526eb7929cc7 button.colab-df-convert');\n",
              "        buttonEl.style.display =\n",
              "          google.colab.kernel.accessAllowed ? 'block' : 'none';\n",
              "\n",
              "        async function convertToInteractive(key) {\n",
              "          const element = document.querySelector('#df-256f05e3-364a-4978-9edb-526eb7929cc7');\n",
              "          const dataTable =\n",
              "            await google.colab.kernel.invokeFunction('convertToInteractive',\n",
              "                                                     [key], {});\n",
              "          if (!dataTable) return;\n",
              "\n",
              "          const docLinkHtml = 'Like what you see? Visit the ' +\n",
              "            '<a target=\"_blank\" href=https://colab.research.google.com/notebooks/data_table.ipynb>data table notebook</a>'\n",
              "            + ' to learn more about interactive tables.';\n",
              "          element.innerHTML = '';\n",
              "          dataTable['output_type'] = 'display_data';\n",
              "          await google.colab.output.renderOutput(dataTable, element);\n",
              "          const docLink = document.createElement('div');\n",
              "          docLink.innerHTML = docLinkHtml;\n",
              "          element.appendChild(docLink);\n",
              "        }\n",
              "      </script>\n",
              "    </div>\n",
              "  </div>\n",
              "  "
            ]
          },
          "metadata": {},
          "execution_count": 256
        }
      ]
    },
    {
      "cell_type": "code",
      "source": [
        "(dfh.isnull().mean().sort_values(ascending=False))*100"
      ],
      "metadata": {
        "id": "pDn19GEEN0cw",
        "colab": {
          "base_uri": "https://localhost:8080/"
        },
        "outputId": "5f8469fc-57a9-4e08-a805-78f6a18ced1e"
      },
      "execution_count": null,
      "outputs": [
        {
          "output_type": "execute_result",
          "data": {
            "text/plain": [
              "her2_por_IHC                               2.740586\n",
              "subtipo_tumoral                            1.778243\n",
              "record_id                                  0.000000\n",
              "repeat_instance                            0.000000\n",
              "diagnostico_primario_(tipo_histologico)    0.000000\n",
              "receptor_de_estrogenio                     0.000000\n",
              "receptor_de_progesterona                   0.000000\n",
              "ki67_(>14%)                                0.000000\n",
              "her2_por_FISH                              0.000000\n",
              "ki67_(%)                                   0.000000\n",
              "dtype: float64"
            ]
          },
          "metadata": {},
          "execution_count": 289
        }
      ]
    },
    {
      "cell_type": "markdown",
      "source": [
        "###Removendo as colunas com muitos dados faltantes, que não podem ser deduzidos:"
      ],
      "metadata": {
        "id": "OzQtLHwRPk7T"
      }
    },
    {
      "cell_type": "code",
      "source": [
        "dfh = dfh.drop([\n",
        "    'indice_H_(Receptor_de_progesterona)', 'grau_histologico', 'receptor_de_progesterona_(quantificacao_%)', 'receptor_de_estrogenio_(quantificacao%)'\n",
        " ],axis=1)"
      ],
      "metadata": {
        "id": "NWZHeyGKP-D5"
      },
      "execution_count": null,
      "outputs": []
    },
    {
      "cell_type": "code",
      "source": [
        "dfh.dtypes"
      ],
      "metadata": {
        "id": "cgqscRyaOnOp",
        "colab": {
          "base_uri": "https://localhost:8080/"
        },
        "outputId": "c4949856-dfb7-4fcf-fb8e-295fabde44b9"
      },
      "execution_count": null,
      "outputs": [
        {
          "output_type": "execute_result",
          "data": {
            "text/plain": [
              "record_id                                       int64\n",
              "repeat_instance                               float64\n",
              "diagnostico_primario_(tipo_histologico)        object\n",
              "grau_histologico                              float64\n",
              "subtipo_tumoral                               float64\n",
              "receptor_de_estrogenio                         object\n",
              "receptor_de_progesterona                       object\n",
              "ki67_(>14%)                                    object\n",
              "receptor_de_progesterona_(quantificacao_%)     object\n",
              "receptor_de_estrogenio_(quantificacao%)        object\n",
              "indice_H_(Receptor_de_progesterona)           float64\n",
              "her2_por_IHC                                   object\n",
              "her2_por_FISH                                  object\n",
              "ki67_(%)                                      float64\n",
              "dtype: object"
            ]
          },
          "metadata": {},
          "execution_count": 260
        }
      ]
    },
    {
      "cell_type": "code",
      "source": [
        "dfh['diagnostico_primario_(tipo_histologico)'].unique()"
      ],
      "metadata": {
        "id": "XJ53u4ykbg-Y",
        "colab": {
          "base_uri": "https://localhost:8080/"
        },
        "outputId": "a2841362-f090-4b1c-c745-b49d3d1af25f"
      },
      "execution_count": null,
      "outputs": [
        {
          "output_type": "execute_result",
          "data": {
            "text/plain": [
              "array([nan, 'NÃO-ESPECIAL - Carcinoma de mama ductal invasivo (CDI)/SOE',\n",
              "       'Carcinoma de mama papilifero',\n",
              "       'Carcinoma de mama lobular invasivo', 'Carcinoma de mama medular',\n",
              "       'Carcinoma de mama lobular in situ', 'outros',\n",
              "       'Carcinoma de mama mucinoso', 'Carcinoma de mama metaplasico',\n",
              "       'Carcinoma lobular pleomórfico',\n",
              "       'Carcinoma de mama misto (ductal e micropapilífero) invasivo',\n",
              "       'Carcinoma de mama misto (ductal e lobular) invasivo',\n",
              "       'Adenomioepitelioma maligno',\n",
              "       'CARCINOMA MAMÁRIO INVASIVO DO TIPO APÓCRINO',\n",
              "       'Carcinoma de mama micropapilar',\n",
              "       'Carcinoma mamário invasivo multifocal',\n",
              "       'Carcinoma de mama cistico adenoide', 'Carcinoma de mama tubular',\n",
              "       'Tumor PHYLLODES maligno'], dtype=object)"
            ]
          },
          "metadata": {},
          "execution_count": 262
        }
      ]
    },
    {
      "cell_type": "code",
      "source": [
        "dfh['grau_histologico'].unique()"
      ],
      "metadata": {
        "id": "pklFlx0ysbAl",
        "colab": {
          "base_uri": "https://localhost:8080/"
        },
        "outputId": "ddc1c1f7-63cc-409c-96a6-64b39ffb6be4"
      },
      "execution_count": null,
      "outputs": [
        {
          "output_type": "execute_result",
          "data": {
            "text/plain": [
              "array([nan,  3.,  2.,  1.])"
            ]
          },
          "metadata": {},
          "execution_count": 263
        }
      ]
    },
    {
      "cell_type": "code",
      "source": [
        "dfh['subtipo_tumoral'].unique()"
      ],
      "metadata": {
        "id": "yzb3bNIGtoAZ",
        "colab": {
          "base_uri": "https://localhost:8080/"
        },
        "outputId": "baf53bdf-b24d-4ff2-99b1-52632277990f"
      },
      "execution_count": null,
      "outputs": [
        {
          "output_type": "execute_result",
          "data": {
            "text/plain": [
              "array([ 5.,  2.,  3.,  4.,  1., nan])"
            ]
          },
          "metadata": {},
          "execution_count": 264
        }
      ]
    },
    {
      "cell_type": "code",
      "source": [
        "dfh['receptor_de_estrogenio'].unique()"
      ],
      "metadata": {
        "id": "mZFHxvbnxp22",
        "colab": {
          "base_uri": "https://localhost:8080/"
        },
        "outputId": "5adfd5b5-4f9a-4eaf-ca7c-8c8fb2d5cc7c"
      },
      "execution_count": null,
      "outputs": [
        {
          "output_type": "execute_result",
          "data": {
            "text/plain": [
              "array(['positivo', nan, 'negativo', 'não realizado'], dtype=object)"
            ]
          },
          "metadata": {},
          "execution_count": 265
        }
      ]
    },
    {
      "cell_type": "code",
      "source": [
        "dfh['receptor_de_progesterona'].unique()"
      ],
      "metadata": {
        "id": "qAO6w4ytxwuV",
        "colab": {
          "base_uri": "https://localhost:8080/"
        },
        "outputId": "0e9e7aff-d8c9-4e56-ac2a-a9879ff865bf"
      },
      "execution_count": null,
      "outputs": [
        {
          "output_type": "execute_result",
          "data": {
            "text/plain": [
              "array(['positivo', 'negativo', nan, 'inconclusivo', 'não realizado'],\n",
              "      dtype=object)"
            ]
          },
          "metadata": {},
          "execution_count": 266
        }
      ]
    },
    {
      "cell_type": "code",
      "source": [
        "dfh['ki67_(>14%)'].unique()"
      ],
      "metadata": {
        "id": "qcDG7oDzx1QH",
        "colab": {
          "base_uri": "https://localhost:8080/"
        },
        "outputId": "ea10183a-fc0d-4ead-a609-ae997ec36029"
      },
      "execution_count": null,
      "outputs": [
        {
          "output_type": "execute_result",
          "data": {
            "text/plain": [
              "array([nan, 'positivo', 'negativo', 'não realizado', 'inconclusivo'],\n",
              "      dtype=object)"
            ]
          },
          "metadata": {},
          "execution_count": 267
        }
      ]
    },
    {
      "cell_type": "code",
      "source": [
        "dfh['receptor_de_progesterona_(quantificacao_%)'].unique()"
      ],
      "metadata": {
        "id": "sK_-22n-yDIS",
        "colab": {
          "base_uri": "https://localhost:8080/"
        },
        "outputId": "30567d82-4718-496c-a9c7-d305e24869cd"
      },
      "execution_count": null,
      "outputs": [
        {
          "output_type": "execute_result",
          "data": {
            "text/plain": [
              "array([nan, '5', '90', '40', '50', '10', '60', '0', '20', '65', '100',\n",
              "       '70', '66', '80', '3', '1', 'neg', '15', '75', '30', '33', '95',\n",
              "       '85', '34', '9', '99', '20-70', '25', '98', '35', '2', '12', '28',\n",
              "       '94', '4', 'inconclusivo', '8', '97', 'NEG', '70%', '7', '6', '55',\n",
              "       '93'], dtype=object)"
            ]
          },
          "metadata": {},
          "execution_count": 268
        }
      ]
    },
    {
      "cell_type": "code",
      "source": [
        "dfh['receptor_de_estrogenio_(quantificacao%)'].unique()"
      ],
      "metadata": {
        "id": "dnBpHxK7ycz4",
        "colab": {
          "base_uri": "https://localhost:8080/"
        },
        "outputId": "b9773b07-88e9-4dc4-bad6-a04abc75fe5e"
      },
      "execution_count": null,
      "outputs": [
        {
          "output_type": "execute_result",
          "data": {
            "text/plain": [
              "array([nan, '60', '30', '90', '40', '50', '10', '80', '1', '70', '0',\n",
              "       '100', '95', '25', '66', '99', 'neg', '15', '67', '20', '85', '75',\n",
              "       '5', '59', '2', '35', '33', '3', '98', '9', '96', '4', '88', '97',\n",
              "       '8', 'NEG', '12', '23', '7', '1-10'], dtype=object)"
            ]
          },
          "metadata": {},
          "execution_count": 269
        }
      ]
    },
    {
      "cell_type": "code",
      "source": [
        "dfh['indice_H_(Receptor_de_progesterona)'].unique()"
      ],
      "metadata": {
        "id": "cRUjrmxxypdr",
        "colab": {
          "base_uri": "https://localhost:8080/"
        },
        "outputId": "c137e75c-3a1f-48be-f9d4-e25fb68ba94d"
      },
      "execution_count": null,
      "outputs": [
        {
          "output_type": "execute_result",
          "data": {
            "text/plain": [
              "array([ nan,  10., 120., 270., 140.,   6.,  15., 300., 240., 198.,  90.,\n",
              "       132.,  70., 180.,  45.,  60.,  30., 210., 160.,  20., 285., 100.,\n",
              "       294.,  40., 150.,  80.,   2., 282.,   4.,   0., 255., 200., 105.,\n",
              "       225.,   1.,  75.,   5.])"
            ]
          },
          "metadata": {},
          "execution_count": 270
        }
      ]
    },
    {
      "cell_type": "code",
      "source": [
        "dfh['her2_por_IHC'].unique()"
      ],
      "metadata": {
        "id": "PH8tiM_my1oo",
        "colab": {
          "base_uri": "https://localhost:8080/"
        },
        "outputId": "7b675ee2-63e5-42b3-e73e-9b0972af0b3a"
      },
      "execution_count": null,
      "outputs": [
        {
          "output_type": "execute_result",
          "data": {
            "text/plain": [
              "array([' +++ (positivo)', '0 (negativo)', ' ++ (duvidoso)',\n",
              "       'indeterminado', ' + (negativo)', nan], dtype=object)"
            ]
          },
          "metadata": {},
          "execution_count": 271
        }
      ]
    },
    {
      "cell_type": "code",
      "source": [
        "dfh['her2_por_FISH'].unique()"
      ],
      "metadata": {
        "id": "o6WARsGmzFfm",
        "colab": {
          "base_uri": "https://localhost:8080/"
        },
        "outputId": "b97d0a79-e7ab-4f08-a9cb-18e0ee93407a"
      },
      "execution_count": null,
      "outputs": [
        {
          "output_type": "execute_result",
          "data": {
            "text/plain": [
              "array([nan, 'não realizado', 'amplificado', 'sem amplificação',\n",
              "       'reação não funcionou', 'duvidoso'], dtype=object)"
            ]
          },
          "metadata": {},
          "execution_count": 272
        }
      ]
    },
    {
      "cell_type": "code",
      "source": [
        "dfh['ki67_(%)'].unique()"
      ],
      "metadata": {
        "id": "FJBUV7cczMHT",
        "colab": {
          "base_uri": "https://localhost:8080/"
        },
        "outputId": "203406a6-7e84-4c13-d58c-41b89fc15b4e"
      },
      "execution_count": null,
      "outputs": [
        {
          "output_type": "execute_result",
          "data": {
            "text/plain": [
              "array([ nan,  20.,  40.,  10.,  80.,  85.,  70.,  15.,  30.,  60.,  50.,\n",
              "         5.,  25.,  75.,  12.,  45.,  90.,   7.,  18.,  66.,  33.,   8.,\n",
              "        35.,  65.,   2.,  22.,  16.,  13.,  19.,   1.,  55.,  14.,  95.,\n",
              "        24.,   3.,  21.,   0.,  11.,   6.,  99.,   4.,  28.,  62.,  68.,\n",
              "        73.,  37.,  57.,  43.,  41.,  17.,  36.,  27.,  56.,  38.,   9.,\n",
              "        87.,  34.,  52.,  44.,  23.,  26.,  32.,  42.,  29.,  46., 100.,\n",
              "        47.,  48.])"
            ]
          },
          "metadata": {},
          "execution_count": 273
        }
      ]
    },
    {
      "cell_type": "markdown",
      "source": [
        "###Transformando NaN em \"não realizado\", nas colunas receptor_de_estrogenio, receptor_de_progesterona e her2_por_FISH"
      ],
      "metadata": {
        "id": "0HjsWU24NW5q"
      }
    },
    {
      "cell_type": "code",
      "source": [
        "dfh['receptor_de_estrogenio'] = dfh['receptor_de_estrogenio'].fillna('não realizado')\n",
        "dfh['receptor_de_estrogenio'].unique()"
      ],
      "metadata": {
        "colab": {
          "base_uri": "https://localhost:8080/"
        },
        "id": "NZU52Ap_NtXV",
        "outputId": "3618704d-d6a2-49bc-8a73-cc5bafed7144"
      },
      "execution_count": null,
      "outputs": [
        {
          "output_type": "execute_result",
          "data": {
            "text/plain": [
              "array(['positivo', 'não realizado', 'negativo'], dtype=object)"
            ]
          },
          "metadata": {},
          "execution_count": 274
        }
      ]
    },
    {
      "cell_type": "code",
      "source": [
        "dfh['receptor_de_progesterona'] = dfh['receptor_de_progesterona'].fillna('não realizado')\n",
        "dfh['receptor_de_progesterona'].unique()\n"
      ],
      "metadata": {
        "colab": {
          "base_uri": "https://localhost:8080/"
        },
        "id": "1nS8ZHOwOlat",
        "outputId": "c536c3d0-9f49-42c1-fb70-f1705b074ed5"
      },
      "execution_count": null,
      "outputs": [
        {
          "output_type": "execute_result",
          "data": {
            "text/plain": [
              "array(['positivo', 'negativo', 'não realizado', 'inconclusivo'],\n",
              "      dtype=object)"
            ]
          },
          "metadata": {},
          "execution_count": 275
        }
      ]
    },
    {
      "cell_type": "code",
      "source": [
        "dfh['her2_por_FISH'] = dfh['her2_por_FISH'].fillna('não realizado')\n",
        "dfh['her2_por_FISH'].unique()\n",
        "\n"
      ],
      "metadata": {
        "colab": {
          "base_uri": "https://localhost:8080/"
        },
        "id": "h3A3urn5S7O8",
        "outputId": "5f903fc7-66cd-4c54-e5cf-e47a9e89c57a"
      },
      "execution_count": null,
      "outputs": [
        {
          "output_type": "execute_result",
          "data": {
            "text/plain": [
              "array(['não realizado', 'amplificado', 'sem amplificação',\n",
              "       'reação não funcionou', 'duvidoso'], dtype=object)"
            ]
          },
          "metadata": {},
          "execution_count": 276
        }
      ]
    },
    {
      "cell_type": "markdown",
      "source": [
        "###Transformando NaN em \"outros\", na coluna diagnostico_primario_(tipo_histologico)"
      ],
      "metadata": {
        "id": "TUmNe_MixcpB"
      }
    },
    {
      "cell_type": "code",
      "source": [
        "dfh['diagnostico_primario_(tipo_histologico)'] = dfh['diagnostico_primario_(tipo_histologico)'].fillna('outros')\n",
        "dfh['diagnostico_primario_(tipo_histologico)'].unique()"
      ],
      "metadata": {
        "colab": {
          "base_uri": "https://localhost:8080/"
        },
        "id": "d3fmOkPax4S7",
        "outputId": "c57147b6-90a8-4162-f89d-7398e1849386"
      },
      "execution_count": null,
      "outputs": [
        {
          "output_type": "execute_result",
          "data": {
            "text/plain": [
              "array(['outros',\n",
              "       'NÃO-ESPECIAL - Carcinoma de mama ductal invasivo (CDI)/SOE',\n",
              "       'Carcinoma de mama papilifero',\n",
              "       'Carcinoma de mama lobular invasivo', 'Carcinoma de mama medular',\n",
              "       'Carcinoma de mama lobular in situ', 'Carcinoma de mama mucinoso',\n",
              "       'Carcinoma de mama metaplasico', 'Carcinoma lobular pleomórfico',\n",
              "       'Carcinoma de mama misto (ductal e micropapilífero) invasivo',\n",
              "       'Carcinoma de mama misto (ductal e lobular) invasivo',\n",
              "       'Adenomioepitelioma maligno',\n",
              "       'CARCINOMA MAMÁRIO INVASIVO DO TIPO APÓCRINO',\n",
              "       'Carcinoma de mama micropapilar',\n",
              "       'Carcinoma mamário invasivo multifocal',\n",
              "       'Carcinoma de mama cistico adenoide', 'Carcinoma de mama tubular',\n",
              "       'Tumor PHYLLODES maligno'], dtype=object)"
            ]
          },
          "metadata": {},
          "execution_count": 277
        }
      ]
    },
    {
      "cell_type": "markdown",
      "source": [
        "###Mudando o valor de ki67_(>14%) para positivo, se essa porcentagem for maior que 14% na coluna ki67_(%)"
      ],
      "metadata": {
        "id": "lwbVx2KMvBQv"
      }
    },
    {
      "cell_type": "code",
      "source": [
        "dfh['ki67_(%)']"
      ],
      "metadata": {
        "colab": {
          "base_uri": "https://localhost:8080/"
        },
        "id": "WLBRI7jRWSXy",
        "outputId": "ab22b6fd-5914-419b-9aad-904723537465"
      },
      "execution_count": null,
      "outputs": [
        {
          "output_type": "execute_result",
          "data": {
            "text/plain": [
              "1        NaN\n",
              "3       20.0\n",
              "5        NaN\n",
              "7       40.0\n",
              "8       40.0\n",
              "        ... \n",
              "9057     NaN\n",
              "9059     NaN\n",
              "9061    50.0\n",
              "9063    90.0\n",
              "9065     NaN\n",
              "Name: ki67_(%), Length: 4780, dtype: float64"
            ]
          },
          "metadata": {},
          "execution_count": 278
        }
      ]
    },
    {
      "cell_type": "code",
      "source": [
        "dfh['ki67_(>14%)'] = np.where((dfh['ki67_(%)'].isnull()), 'não realizado', (np.where((dfh['ki67_(%)']> 14.), 'positivo', 'negativo')))\n",
        "dfh['ki67_(>14%)'].unique()"
      ],
      "metadata": {
        "colab": {
          "base_uri": "https://localhost:8080/"
        },
        "id": "sNLdn0jzh8mu",
        "outputId": "f3fe4c89-ed1e-4588-a1b0-d7a2cb88d500"
      },
      "execution_count": null,
      "outputs": [
        {
          "output_type": "execute_result",
          "data": {
            "text/plain": [
              "array(['não realizado', 'positivo', 'negativo'], dtype=object)"
            ]
          },
          "metadata": {},
          "execution_count": 279
        }
      ]
    },
    {
      "cell_type": "code",
      "source": [
        "dfh.head(100)"
      ],
      "metadata": {
        "colab": {
          "base_uri": "https://localhost:8080/",
          "height": 505
        },
        "id": "HAPKcptakQJG",
        "outputId": "e105b341-9987-4fb4-a78e-d82687d7bf4f"
      },
      "execution_count": null,
      "outputs": [
        {
          "output_type": "execute_result",
          "data": {
            "text/plain": [
              "     record_id  repeat_instance  \\\n",
              "1          302              1.0   \n",
              "3          710              1.0   \n",
              "5          752              1.0   \n",
              "7         1367              1.0   \n",
              "8         1367              2.0   \n",
              "..         ...              ...   \n",
              "188       7463              1.0   \n",
              "190       7489              1.0   \n",
              "192       7496              1.0   \n",
              "194       7531              1.0   \n",
              "196       7553              1.0   \n",
              "\n",
              "               diagnostico_primario_(tipo_histologico)  grau_histologico  \\\n",
              "1                                               outros               NaN   \n",
              "3                                               outros               NaN   \n",
              "5                                               outros               NaN   \n",
              "7                                               outros               NaN   \n",
              "8                                               outros               NaN   \n",
              "..                                                 ...               ...   \n",
              "188                                             outros               NaN   \n",
              "190                                             outros               NaN   \n",
              "192  NÃO-ESPECIAL - Carcinoma de mama ductal invasi...               2.0   \n",
              "194                                             outros               NaN   \n",
              "196                                             outros               NaN   \n",
              "\n",
              "     subtipo_tumoral receptor_de_estrogenio receptor_de_progesterona  \\\n",
              "1                5.0               positivo                 positivo   \n",
              "3                2.0               positivo                 negativo   \n",
              "5                3.0          não realizado            não realizado   \n",
              "7                2.0               positivo                 positivo   \n",
              "8                5.0               positivo                 negativo   \n",
              "..               ...                    ...                      ...   \n",
              "188              3.0          não realizado            não realizado   \n",
              "190              3.0          não realizado            não realizado   \n",
              "192              2.0               positivo                 positivo   \n",
              "194              3.0               negativo                 negativo   \n",
              "196              5.0               positivo                 positivo   \n",
              "\n",
              "       ki67_(>14%) receptor_de_progesterona_(quantificacao_%)  \\\n",
              "1    não realizado                                        NaN   \n",
              "3         positivo                                        NaN   \n",
              "5    não realizado                                        NaN   \n",
              "7         positivo                                          5   \n",
              "8         positivo                                        NaN   \n",
              "..             ...                                        ...   \n",
              "188  não realizado                                        NaN   \n",
              "190  não realizado                                        NaN   \n",
              "192       positivo                                         70   \n",
              "194  não realizado                                        NaN   \n",
              "196  não realizado                                        NaN   \n",
              "\n",
              "    receptor_de_estrogenio_(quantificacao%)  \\\n",
              "1                                       NaN   \n",
              "3                                       NaN   \n",
              "5                                       NaN   \n",
              "7                                        60   \n",
              "8                                        30   \n",
              "..                                      ...   \n",
              "188                                     NaN   \n",
              "190                                     NaN   \n",
              "192                                      70   \n",
              "194                                     NaN   \n",
              "196                                     NaN   \n",
              "\n",
              "     indice_H_(Receptor_de_progesterona)     her2_por_IHC  her2_por_FISH  \\\n",
              "1                                    NaN   +++ (positivo)  não realizado   \n",
              "3                                    NaN     0 (negativo)  não realizado   \n",
              "5                                    NaN   +++ (positivo)  não realizado   \n",
              "7                                   10.0     0 (negativo)  não realizado   \n",
              "8                                    NaN   +++ (positivo)  não realizado   \n",
              "..                                   ...              ...            ...   \n",
              "188                                  NaN   +++ (positivo)  não realizado   \n",
              "190                                  NaN   +++ (positivo)  não realizado   \n",
              "192                                  NaN     + (negativo)  não realizado   \n",
              "194                                  NaN   +++ (positivo)  não realizado   \n",
              "196                                  NaN   +++ (positivo)  não realizado   \n",
              "\n",
              "     ki67_(%)  \n",
              "1         NaN  \n",
              "3        20.0  \n",
              "5         NaN  \n",
              "7        40.0  \n",
              "8        40.0  \n",
              "..        ...  \n",
              "188       NaN  \n",
              "190       NaN  \n",
              "192      15.0  \n",
              "194       NaN  \n",
              "196       NaN  \n",
              "\n",
              "[100 rows x 14 columns]"
            ],
            "text/html": [
              "\n",
              "  <div id=\"df-db605119-fc14-4ec6-9f85-7712b3334f4d\">\n",
              "    <div class=\"colab-df-container\">\n",
              "      <div>\n",
              "<style scoped>\n",
              "    .dataframe tbody tr th:only-of-type {\n",
              "        vertical-align: middle;\n",
              "    }\n",
              "\n",
              "    .dataframe tbody tr th {\n",
              "        vertical-align: top;\n",
              "    }\n",
              "\n",
              "    .dataframe thead th {\n",
              "        text-align: right;\n",
              "    }\n",
              "</style>\n",
              "<table border=\"1\" class=\"dataframe\">\n",
              "  <thead>\n",
              "    <tr style=\"text-align: right;\">\n",
              "      <th></th>\n",
              "      <th>record_id</th>\n",
              "      <th>repeat_instance</th>\n",
              "      <th>diagnostico_primario_(tipo_histologico)</th>\n",
              "      <th>grau_histologico</th>\n",
              "      <th>subtipo_tumoral</th>\n",
              "      <th>receptor_de_estrogenio</th>\n",
              "      <th>receptor_de_progesterona</th>\n",
              "      <th>ki67_(&gt;14%)</th>\n",
              "      <th>receptor_de_progesterona_(quantificacao_%)</th>\n",
              "      <th>receptor_de_estrogenio_(quantificacao%)</th>\n",
              "      <th>indice_H_(Receptor_de_progesterona)</th>\n",
              "      <th>her2_por_IHC</th>\n",
              "      <th>her2_por_FISH</th>\n",
              "      <th>ki67_(%)</th>\n",
              "    </tr>\n",
              "  </thead>\n",
              "  <tbody>\n",
              "    <tr>\n",
              "      <th>1</th>\n",
              "      <td>302</td>\n",
              "      <td>1.0</td>\n",
              "      <td>outros</td>\n",
              "      <td>NaN</td>\n",
              "      <td>5.0</td>\n",
              "      <td>positivo</td>\n",
              "      <td>positivo</td>\n",
              "      <td>não realizado</td>\n",
              "      <td>NaN</td>\n",
              "      <td>NaN</td>\n",
              "      <td>NaN</td>\n",
              "      <td>+++ (positivo)</td>\n",
              "      <td>não realizado</td>\n",
              "      <td>NaN</td>\n",
              "    </tr>\n",
              "    <tr>\n",
              "      <th>3</th>\n",
              "      <td>710</td>\n",
              "      <td>1.0</td>\n",
              "      <td>outros</td>\n",
              "      <td>NaN</td>\n",
              "      <td>2.0</td>\n",
              "      <td>positivo</td>\n",
              "      <td>negativo</td>\n",
              "      <td>positivo</td>\n",
              "      <td>NaN</td>\n",
              "      <td>NaN</td>\n",
              "      <td>NaN</td>\n",
              "      <td>0 (negativo)</td>\n",
              "      <td>não realizado</td>\n",
              "      <td>20.0</td>\n",
              "    </tr>\n",
              "    <tr>\n",
              "      <th>5</th>\n",
              "      <td>752</td>\n",
              "      <td>1.0</td>\n",
              "      <td>outros</td>\n",
              "      <td>NaN</td>\n",
              "      <td>3.0</td>\n",
              "      <td>não realizado</td>\n",
              "      <td>não realizado</td>\n",
              "      <td>não realizado</td>\n",
              "      <td>NaN</td>\n",
              "      <td>NaN</td>\n",
              "      <td>NaN</td>\n",
              "      <td>+++ (positivo)</td>\n",
              "      <td>não realizado</td>\n",
              "      <td>NaN</td>\n",
              "    </tr>\n",
              "    <tr>\n",
              "      <th>7</th>\n",
              "      <td>1367</td>\n",
              "      <td>1.0</td>\n",
              "      <td>outros</td>\n",
              "      <td>NaN</td>\n",
              "      <td>2.0</td>\n",
              "      <td>positivo</td>\n",
              "      <td>positivo</td>\n",
              "      <td>positivo</td>\n",
              "      <td>5</td>\n",
              "      <td>60</td>\n",
              "      <td>10.0</td>\n",
              "      <td>0 (negativo)</td>\n",
              "      <td>não realizado</td>\n",
              "      <td>40.0</td>\n",
              "    </tr>\n",
              "    <tr>\n",
              "      <th>8</th>\n",
              "      <td>1367</td>\n",
              "      <td>2.0</td>\n",
              "      <td>outros</td>\n",
              "      <td>NaN</td>\n",
              "      <td>5.0</td>\n",
              "      <td>positivo</td>\n",
              "      <td>negativo</td>\n",
              "      <td>positivo</td>\n",
              "      <td>NaN</td>\n",
              "      <td>30</td>\n",
              "      <td>NaN</td>\n",
              "      <td>+++ (positivo)</td>\n",
              "      <td>não realizado</td>\n",
              "      <td>40.0</td>\n",
              "    </tr>\n",
              "    <tr>\n",
              "      <th>...</th>\n",
              "      <td>...</td>\n",
              "      <td>...</td>\n",
              "      <td>...</td>\n",
              "      <td>...</td>\n",
              "      <td>...</td>\n",
              "      <td>...</td>\n",
              "      <td>...</td>\n",
              "      <td>...</td>\n",
              "      <td>...</td>\n",
              "      <td>...</td>\n",
              "      <td>...</td>\n",
              "      <td>...</td>\n",
              "      <td>...</td>\n",
              "      <td>...</td>\n",
              "    </tr>\n",
              "    <tr>\n",
              "      <th>188</th>\n",
              "      <td>7463</td>\n",
              "      <td>1.0</td>\n",
              "      <td>outros</td>\n",
              "      <td>NaN</td>\n",
              "      <td>3.0</td>\n",
              "      <td>não realizado</td>\n",
              "      <td>não realizado</td>\n",
              "      <td>não realizado</td>\n",
              "      <td>NaN</td>\n",
              "      <td>NaN</td>\n",
              "      <td>NaN</td>\n",
              "      <td>+++ (positivo)</td>\n",
              "      <td>não realizado</td>\n",
              "      <td>NaN</td>\n",
              "    </tr>\n",
              "    <tr>\n",
              "      <th>190</th>\n",
              "      <td>7489</td>\n",
              "      <td>1.0</td>\n",
              "      <td>outros</td>\n",
              "      <td>NaN</td>\n",
              "      <td>3.0</td>\n",
              "      <td>não realizado</td>\n",
              "      <td>não realizado</td>\n",
              "      <td>não realizado</td>\n",
              "      <td>NaN</td>\n",
              "      <td>NaN</td>\n",
              "      <td>NaN</td>\n",
              "      <td>+++ (positivo)</td>\n",
              "      <td>não realizado</td>\n",
              "      <td>NaN</td>\n",
              "    </tr>\n",
              "    <tr>\n",
              "      <th>192</th>\n",
              "      <td>7496</td>\n",
              "      <td>1.0</td>\n",
              "      <td>NÃO-ESPECIAL - Carcinoma de mama ductal invasi...</td>\n",
              "      <td>2.0</td>\n",
              "      <td>2.0</td>\n",
              "      <td>positivo</td>\n",
              "      <td>positivo</td>\n",
              "      <td>positivo</td>\n",
              "      <td>70</td>\n",
              "      <td>70</td>\n",
              "      <td>NaN</td>\n",
              "      <td>+ (negativo)</td>\n",
              "      <td>não realizado</td>\n",
              "      <td>15.0</td>\n",
              "    </tr>\n",
              "    <tr>\n",
              "      <th>194</th>\n",
              "      <td>7531</td>\n",
              "      <td>1.0</td>\n",
              "      <td>outros</td>\n",
              "      <td>NaN</td>\n",
              "      <td>3.0</td>\n",
              "      <td>negativo</td>\n",
              "      <td>negativo</td>\n",
              "      <td>não realizado</td>\n",
              "      <td>NaN</td>\n",
              "      <td>NaN</td>\n",
              "      <td>NaN</td>\n",
              "      <td>+++ (positivo)</td>\n",
              "      <td>não realizado</td>\n",
              "      <td>NaN</td>\n",
              "    </tr>\n",
              "    <tr>\n",
              "      <th>196</th>\n",
              "      <td>7553</td>\n",
              "      <td>1.0</td>\n",
              "      <td>outros</td>\n",
              "      <td>NaN</td>\n",
              "      <td>5.0</td>\n",
              "      <td>positivo</td>\n",
              "      <td>positivo</td>\n",
              "      <td>não realizado</td>\n",
              "      <td>NaN</td>\n",
              "      <td>NaN</td>\n",
              "      <td>NaN</td>\n",
              "      <td>+++ (positivo)</td>\n",
              "      <td>não realizado</td>\n",
              "      <td>NaN</td>\n",
              "    </tr>\n",
              "  </tbody>\n",
              "</table>\n",
              "<p>100 rows × 14 columns</p>\n",
              "</div>\n",
              "      <button class=\"colab-df-convert\" onclick=\"convertToInteractive('df-db605119-fc14-4ec6-9f85-7712b3334f4d')\"\n",
              "              title=\"Convert this dataframe to an interactive table.\"\n",
              "              style=\"display:none;\">\n",
              "        \n",
              "  <svg xmlns=\"http://www.w3.org/2000/svg\" height=\"24px\"viewBox=\"0 0 24 24\"\n",
              "       width=\"24px\">\n",
              "    <path d=\"M0 0h24v24H0V0z\" fill=\"none\"/>\n",
              "    <path d=\"M18.56 5.44l.94 2.06.94-2.06 2.06-.94-2.06-.94-.94-2.06-.94 2.06-2.06.94zm-11 1L8.5 8.5l.94-2.06 2.06-.94-2.06-.94L8.5 2.5l-.94 2.06-2.06.94zm10 10l.94 2.06.94-2.06 2.06-.94-2.06-.94-.94-2.06-.94 2.06-2.06.94z\"/><path d=\"M17.41 7.96l-1.37-1.37c-.4-.4-.92-.59-1.43-.59-.52 0-1.04.2-1.43.59L10.3 9.45l-7.72 7.72c-.78.78-.78 2.05 0 2.83L4 21.41c.39.39.9.59 1.41.59.51 0 1.02-.2 1.41-.59l7.78-7.78 2.81-2.81c.8-.78.8-2.07 0-2.86zM5.41 20L4 18.59l7.72-7.72 1.47 1.35L5.41 20z\"/>\n",
              "  </svg>\n",
              "      </button>\n",
              "      \n",
              "  <style>\n",
              "    .colab-df-container {\n",
              "      display:flex;\n",
              "      flex-wrap:wrap;\n",
              "      gap: 12px;\n",
              "    }\n",
              "\n",
              "    .colab-df-convert {\n",
              "      background-color: #E8F0FE;\n",
              "      border: none;\n",
              "      border-radius: 50%;\n",
              "      cursor: pointer;\n",
              "      display: none;\n",
              "      fill: #1967D2;\n",
              "      height: 32px;\n",
              "      padding: 0 0 0 0;\n",
              "      width: 32px;\n",
              "    }\n",
              "\n",
              "    .colab-df-convert:hover {\n",
              "      background-color: #E2EBFA;\n",
              "      box-shadow: 0px 1px 2px rgba(60, 64, 67, 0.3), 0px 1px 3px 1px rgba(60, 64, 67, 0.15);\n",
              "      fill: #174EA6;\n",
              "    }\n",
              "\n",
              "    [theme=dark] .colab-df-convert {\n",
              "      background-color: #3B4455;\n",
              "      fill: #D2E3FC;\n",
              "    }\n",
              "\n",
              "    [theme=dark] .colab-df-convert:hover {\n",
              "      background-color: #434B5C;\n",
              "      box-shadow: 0px 1px 3px 1px rgba(0, 0, 0, 0.15);\n",
              "      filter: drop-shadow(0px 1px 2px rgba(0, 0, 0, 0.3));\n",
              "      fill: #FFFFFF;\n",
              "    }\n",
              "  </style>\n",
              "\n",
              "      <script>\n",
              "        const buttonEl =\n",
              "          document.querySelector('#df-db605119-fc14-4ec6-9f85-7712b3334f4d button.colab-df-convert');\n",
              "        buttonEl.style.display =\n",
              "          google.colab.kernel.accessAllowed ? 'block' : 'none';\n",
              "\n",
              "        async function convertToInteractive(key) {\n",
              "          const element = document.querySelector('#df-db605119-fc14-4ec6-9f85-7712b3334f4d');\n",
              "          const dataTable =\n",
              "            await google.colab.kernel.invokeFunction('convertToInteractive',\n",
              "                                                     [key], {});\n",
              "          if (!dataTable) return;\n",
              "\n",
              "          const docLinkHtml = 'Like what you see? Visit the ' +\n",
              "            '<a target=\"_blank\" href=https://colab.research.google.com/notebooks/data_table.ipynb>data table notebook</a>'\n",
              "            + ' to learn more about interactive tables.';\n",
              "          element.innerHTML = '';\n",
              "          dataTable['output_type'] = 'display_data';\n",
              "          await google.colab.output.renderOutput(dataTable, element);\n",
              "          const docLink = document.createElement('div');\n",
              "          docLink.innerHTML = docLinkHtml;\n",
              "          element.appendChild(docLink);\n",
              "        }\n",
              "      </script>\n",
              "    </div>\n",
              "  </div>\n",
              "  "
            ]
          },
          "metadata": {},
          "execution_count": 280
        }
      ]
    },
    {
      "cell_type": "code",
      "source": [
        "dfh['receptor_de_progesterona'] = dfh['receptor_de_progesterona'].fillna('não realizado')\n",
        "dfh['receptor_de_progesterona'].unique()\n"
      ],
      "metadata": {
        "colab": {
          "base_uri": "https://localhost:8080/"
        },
        "outputId": "c536c3d0-9f49-42c1-fb70-f1705b074ed5",
        "id": "Pa2tYcUVXCzi"
      },
      "execution_count": null,
      "outputs": [
        {
          "output_type": "execute_result",
          "data": {
            "text/plain": [
              "array(['positivo', 'negativo', 'não realizado', 'inconclusivo'],\n",
              "      dtype=object)"
            ]
          },
          "metadata": {},
          "execution_count": 275
        }
      ]
    },
    {
      "cell_type": "code",
      "source": [
        "dfh['her2_por_FISH'] = dfh['her2_por_FISH'].fillna('não realizado')\n",
        "dfh['her2_por_FISH'].unique()\n",
        "\n"
      ],
      "metadata": {
        "colab": {
          "base_uri": "https://localhost:8080/"
        },
        "outputId": "5f903fc7-66cd-4c54-e5cf-e47a9e89c57a",
        "id": "k3QgQhVLXCzj"
      },
      "execution_count": null,
      "outputs": [
        {
          "output_type": "execute_result",
          "data": {
            "text/plain": [
              "array(['não realizado', 'amplificado', 'sem amplificação',\n",
              "       'reação não funcionou', 'duvidoso'], dtype=object)"
            ]
          },
          "metadata": {},
          "execution_count": 276
        }
      ]
    },
    {
      "cell_type": "markdown",
      "source": [
        "###Transformando NaN em \"outros\", na coluna diagnostico_primario_(tipo_histologico)"
      ],
      "metadata": {
        "id": "xFpaHfvxXCzj"
      }
    },
    {
      "cell_type": "code",
      "source": [
        "dfh['diagnostico_primario_(tipo_histologico)'] = dfh['diagnostico_primario_(tipo_histologico)'].fillna('outros')\n",
        "dfh['diagnostico_primario_(tipo_histologico)'].unique()"
      ],
      "metadata": {
        "colab": {
          "base_uri": "https://localhost:8080/"
        },
        "outputId": "c57147b6-90a8-4162-f89d-7398e1849386",
        "id": "QGVnzd6CXCzj"
      },
      "execution_count": null,
      "outputs": [
        {
          "output_type": "execute_result",
          "data": {
            "text/plain": [
              "array(['outros',\n",
              "       'NÃO-ESPECIAL - Carcinoma de mama ductal invasivo (CDI)/SOE',\n",
              "       'Carcinoma de mama papilifero',\n",
              "       'Carcinoma de mama lobular invasivo', 'Carcinoma de mama medular',\n",
              "       'Carcinoma de mama lobular in situ', 'Carcinoma de mama mucinoso',\n",
              "       'Carcinoma de mama metaplasico', 'Carcinoma lobular pleomórfico',\n",
              "       'Carcinoma de mama misto (ductal e micropapilífero) invasivo',\n",
              "       'Carcinoma de mama misto (ductal e lobular) invasivo',\n",
              "       'Adenomioepitelioma maligno',\n",
              "       'CARCINOMA MAMÁRIO INVASIVO DO TIPO APÓCRINO',\n",
              "       'Carcinoma de mama micropapilar',\n",
              "       'Carcinoma mamário invasivo multifocal',\n",
              "       'Carcinoma de mama cistico adenoide', 'Carcinoma de mama tubular',\n",
              "       'Tumor PHYLLODES maligno'], dtype=object)"
            ]
          },
          "metadata": {},
          "execution_count": 277
        }
      ]
    },
    {
      "cell_type": "markdown",
      "source": [
        "###Mudando o valor de ki67_(>14%) para positivo, se essa porcentagem for maior que 14% na coluna ki67_(%)"
      ],
      "metadata": {
        "id": "oxBBe89pXCzj"
      }
    },
    {
      "cell_type": "code",
      "source": [
        "dfh['ki67_(%)']"
      ],
      "metadata": {
        "colab": {
          "base_uri": "https://localhost:8080/"
        },
        "outputId": "ab22b6fd-5914-419b-9aad-904723537465",
        "id": "TiAssPdsXCzj"
      },
      "execution_count": null,
      "outputs": [
        {
          "output_type": "execute_result",
          "data": {
            "text/plain": [
              "1        NaN\n",
              "3       20.0\n",
              "5        NaN\n",
              "7       40.0\n",
              "8       40.0\n",
              "        ... \n",
              "9057     NaN\n",
              "9059     NaN\n",
              "9061    50.0\n",
              "9063    90.0\n",
              "9065     NaN\n",
              "Name: ki67_(%), Length: 4780, dtype: float64"
            ]
          },
          "metadata": {},
          "execution_count": 278
        }
      ]
    },
    {
      "cell_type": "code",
      "source": [
        "dfh['ki67_(>14%)'] = np.where((dfh['ki67_(%)'].isnull()), 'não realizado', (np.where((dfh['ki67_(%)']> 14.), 'positivo', 'negativo')))\n",
        "dfh['ki67_(>14%)'].unique()"
      ],
      "metadata": {
        "colab": {
          "base_uri": "https://localhost:8080/"
        },
        "outputId": "f3fe4c89-ed1e-4588-a1b0-d7a2cb88d500",
        "id": "jb6Jl3CEXCzk"
      },
      "execution_count": null,
      "outputs": [
        {
          "output_type": "execute_result",
          "data": {
            "text/plain": [
              "array(['não realizado', 'positivo', 'negativo'], dtype=object)"
            ]
          },
          "metadata": {},
          "execution_count": 279
        }
      ]
    },
    {
      "cell_type": "code",
      "source": [
        "dfh.head(100)"
      ],
      "metadata": {
        "colab": {
          "base_uri": "https://localhost:8080/",
          "height": 505
        },
        "outputId": "e105b341-9987-4fb4-a78e-d82687d7bf4f",
        "id": "R3KR_yypXCzk"
      },
      "execution_count": null,
      "outputs": [
        {
          "output_type": "execute_result",
          "data": {
            "text/plain": [
              "     record_id  repeat_instance  \\\n",
              "1          302              1.0   \n",
              "3          710              1.0   \n",
              "5          752              1.0   \n",
              "7         1367              1.0   \n",
              "8         1367              2.0   \n",
              "..         ...              ...   \n",
              "188       7463              1.0   \n",
              "190       7489              1.0   \n",
              "192       7496              1.0   \n",
              "194       7531              1.0   \n",
              "196       7553              1.0   \n",
              "\n",
              "               diagnostico_primario_(tipo_histologico)  grau_histologico  \\\n",
              "1                                               outros               NaN   \n",
              "3                                               outros               NaN   \n",
              "5                                               outros               NaN   \n",
              "7                                               outros               NaN   \n",
              "8                                               outros               NaN   \n",
              "..                                                 ...               ...   \n",
              "188                                             outros               NaN   \n",
              "190                                             outros               NaN   \n",
              "192  NÃO-ESPECIAL - Carcinoma de mama ductal invasi...               2.0   \n",
              "194                                             outros               NaN   \n",
              "196                                             outros               NaN   \n",
              "\n",
              "     subtipo_tumoral receptor_de_estrogenio receptor_de_progesterona  \\\n",
              "1                5.0               positivo                 positivo   \n",
              "3                2.0               positivo                 negativo   \n",
              "5                3.0          não realizado            não realizado   \n",
              "7                2.0               positivo                 positivo   \n",
              "8                5.0               positivo                 negativo   \n",
              "..               ...                    ...                      ...   \n",
              "188              3.0          não realizado            não realizado   \n",
              "190              3.0          não realizado            não realizado   \n",
              "192              2.0               positivo                 positivo   \n",
              "194              3.0               negativo                 negativo   \n",
              "196              5.0               positivo                 positivo   \n",
              "\n",
              "       ki67_(>14%) receptor_de_progesterona_(quantificacao_%)  \\\n",
              "1    não realizado                                        NaN   \n",
              "3         positivo                                        NaN   \n",
              "5    não realizado                                        NaN   \n",
              "7         positivo                                          5   \n",
              "8         positivo                                        NaN   \n",
              "..             ...                                        ...   \n",
              "188  não realizado                                        NaN   \n",
              "190  não realizado                                        NaN   \n",
              "192       positivo                                         70   \n",
              "194  não realizado                                        NaN   \n",
              "196  não realizado                                        NaN   \n",
              "\n",
              "    receptor_de_estrogenio_(quantificacao%)  \\\n",
              "1                                       NaN   \n",
              "3                                       NaN   \n",
              "5                                       NaN   \n",
              "7                                        60   \n",
              "8                                        30   \n",
              "..                                      ...   \n",
              "188                                     NaN   \n",
              "190                                     NaN   \n",
              "192                                      70   \n",
              "194                                     NaN   \n",
              "196                                     NaN   \n",
              "\n",
              "     indice_H_(Receptor_de_progesterona)     her2_por_IHC  her2_por_FISH  \\\n",
              "1                                    NaN   +++ (positivo)  não realizado   \n",
              "3                                    NaN     0 (negativo)  não realizado   \n",
              "5                                    NaN   +++ (positivo)  não realizado   \n",
              "7                                   10.0     0 (negativo)  não realizado   \n",
              "8                                    NaN   +++ (positivo)  não realizado   \n",
              "..                                   ...              ...            ...   \n",
              "188                                  NaN   +++ (positivo)  não realizado   \n",
              "190                                  NaN   +++ (positivo)  não realizado   \n",
              "192                                  NaN     + (negativo)  não realizado   \n",
              "194                                  NaN   +++ (positivo)  não realizado   \n",
              "196                                  NaN   +++ (positivo)  não realizado   \n",
              "\n",
              "     ki67_(%)  \n",
              "1         NaN  \n",
              "3        20.0  \n",
              "5         NaN  \n",
              "7        40.0  \n",
              "8        40.0  \n",
              "..        ...  \n",
              "188       NaN  \n",
              "190       NaN  \n",
              "192      15.0  \n",
              "194       NaN  \n",
              "196       NaN  \n",
              "\n",
              "[100 rows x 14 columns]"
            ],
            "text/html": [
              "\n",
              "  <div id=\"df-db605119-fc14-4ec6-9f85-7712b3334f4d\">\n",
              "    <div class=\"colab-df-container\">\n",
              "      <div>\n",
              "<style scoped>\n",
              "    .dataframe tbody tr th:only-of-type {\n",
              "        vertical-align: middle;\n",
              "    }\n",
              "\n",
              "    .dataframe tbody tr th {\n",
              "        vertical-align: top;\n",
              "    }\n",
              "\n",
              "    .dataframe thead th {\n",
              "        text-align: right;\n",
              "    }\n",
              "</style>\n",
              "<table border=\"1\" class=\"dataframe\">\n",
              "  <thead>\n",
              "    <tr style=\"text-align: right;\">\n",
              "      <th></th>\n",
              "      <th>record_id</th>\n",
              "      <th>repeat_instance</th>\n",
              "      <th>diagnostico_primario_(tipo_histologico)</th>\n",
              "      <th>grau_histologico</th>\n",
              "      <th>subtipo_tumoral</th>\n",
              "      <th>receptor_de_estrogenio</th>\n",
              "      <th>receptor_de_progesterona</th>\n",
              "      <th>ki67_(&gt;14%)</th>\n",
              "      <th>receptor_de_progesterona_(quantificacao_%)</th>\n",
              "      <th>receptor_de_estrogenio_(quantificacao%)</th>\n",
              "      <th>indice_H_(Receptor_de_progesterona)</th>\n",
              "      <th>her2_por_IHC</th>\n",
              "      <th>her2_por_FISH</th>\n",
              "      <th>ki67_(%)</th>\n",
              "    </tr>\n",
              "  </thead>\n",
              "  <tbody>\n",
              "    <tr>\n",
              "      <th>1</th>\n",
              "      <td>302</td>\n",
              "      <td>1.0</td>\n",
              "      <td>outros</td>\n",
              "      <td>NaN</td>\n",
              "      <td>5.0</td>\n",
              "      <td>positivo</td>\n",
              "      <td>positivo</td>\n",
              "      <td>não realizado</td>\n",
              "      <td>NaN</td>\n",
              "      <td>NaN</td>\n",
              "      <td>NaN</td>\n",
              "      <td>+++ (positivo)</td>\n",
              "      <td>não realizado</td>\n",
              "      <td>NaN</td>\n",
              "    </tr>\n",
              "    <tr>\n",
              "      <th>3</th>\n",
              "      <td>710</td>\n",
              "      <td>1.0</td>\n",
              "      <td>outros</td>\n",
              "      <td>NaN</td>\n",
              "      <td>2.0</td>\n",
              "      <td>positivo</td>\n",
              "      <td>negativo</td>\n",
              "      <td>positivo</td>\n",
              "      <td>NaN</td>\n",
              "      <td>NaN</td>\n",
              "      <td>NaN</td>\n",
              "      <td>0 (negativo)</td>\n",
              "      <td>não realizado</td>\n",
              "      <td>20.0</td>\n",
              "    </tr>\n",
              "    <tr>\n",
              "      <th>5</th>\n",
              "      <td>752</td>\n",
              "      <td>1.0</td>\n",
              "      <td>outros</td>\n",
              "      <td>NaN</td>\n",
              "      <td>3.0</td>\n",
              "      <td>não realizado</td>\n",
              "      <td>não realizado</td>\n",
              "      <td>não realizado</td>\n",
              "      <td>NaN</td>\n",
              "      <td>NaN</td>\n",
              "      <td>NaN</td>\n",
              "      <td>+++ (positivo)</td>\n",
              "      <td>não realizado</td>\n",
              "      <td>NaN</td>\n",
              "    </tr>\n",
              "    <tr>\n",
              "      <th>7</th>\n",
              "      <td>1367</td>\n",
              "      <td>1.0</td>\n",
              "      <td>outros</td>\n",
              "      <td>NaN</td>\n",
              "      <td>2.0</td>\n",
              "      <td>positivo</td>\n",
              "      <td>positivo</td>\n",
              "      <td>positivo</td>\n",
              "      <td>5</td>\n",
              "      <td>60</td>\n",
              "      <td>10.0</td>\n",
              "      <td>0 (negativo)</td>\n",
              "      <td>não realizado</td>\n",
              "      <td>40.0</td>\n",
              "    </tr>\n",
              "    <tr>\n",
              "      <th>8</th>\n",
              "      <td>1367</td>\n",
              "      <td>2.0</td>\n",
              "      <td>outros</td>\n",
              "      <td>NaN</td>\n",
              "      <td>5.0</td>\n",
              "      <td>positivo</td>\n",
              "      <td>negativo</td>\n",
              "      <td>positivo</td>\n",
              "      <td>NaN</td>\n",
              "      <td>30</td>\n",
              "      <td>NaN</td>\n",
              "      <td>+++ (positivo)</td>\n",
              "      <td>não realizado</td>\n",
              "      <td>40.0</td>\n",
              "    </tr>\n",
              "    <tr>\n",
              "      <th>...</th>\n",
              "      <td>...</td>\n",
              "      <td>...</td>\n",
              "      <td>...</td>\n",
              "      <td>...</td>\n",
              "      <td>...</td>\n",
              "      <td>...</td>\n",
              "      <td>...</td>\n",
              "      <td>...</td>\n",
              "      <td>...</td>\n",
              "      <td>...</td>\n",
              "      <td>...</td>\n",
              "      <td>...</td>\n",
              "      <td>...</td>\n",
              "      <td>...</td>\n",
              "    </tr>\n",
              "    <tr>\n",
              "      <th>188</th>\n",
              "      <td>7463</td>\n",
              "      <td>1.0</td>\n",
              "      <td>outros</td>\n",
              "      <td>NaN</td>\n",
              "      <td>3.0</td>\n",
              "      <td>não realizado</td>\n",
              "      <td>não realizado</td>\n",
              "      <td>não realizado</td>\n",
              "      <td>NaN</td>\n",
              "      <td>NaN</td>\n",
              "      <td>NaN</td>\n",
              "      <td>+++ (positivo)</td>\n",
              "      <td>não realizado</td>\n",
              "      <td>NaN</td>\n",
              "    </tr>\n",
              "    <tr>\n",
              "      <th>190</th>\n",
              "      <td>7489</td>\n",
              "      <td>1.0</td>\n",
              "      <td>outros</td>\n",
              "      <td>NaN</td>\n",
              "      <td>3.0</td>\n",
              "      <td>não realizado</td>\n",
              "      <td>não realizado</td>\n",
              "      <td>não realizado</td>\n",
              "      <td>NaN</td>\n",
              "      <td>NaN</td>\n",
              "      <td>NaN</td>\n",
              "      <td>+++ (positivo)</td>\n",
              "      <td>não realizado</td>\n",
              "      <td>NaN</td>\n",
              "    </tr>\n",
              "    <tr>\n",
              "      <th>192</th>\n",
              "      <td>7496</td>\n",
              "      <td>1.0</td>\n",
              "      <td>NÃO-ESPECIAL - Carcinoma de mama ductal invasi...</td>\n",
              "      <td>2.0</td>\n",
              "      <td>2.0</td>\n",
              "      <td>positivo</td>\n",
              "      <td>positivo</td>\n",
              "      <td>positivo</td>\n",
              "      <td>70</td>\n",
              "      <td>70</td>\n",
              "      <td>NaN</td>\n",
              "      <td>+ (negativo)</td>\n",
              "      <td>não realizado</td>\n",
              "      <td>15.0</td>\n",
              "    </tr>\n",
              "    <tr>\n",
              "      <th>194</th>\n",
              "      <td>7531</td>\n",
              "      <td>1.0</td>\n",
              "      <td>outros</td>\n",
              "      <td>NaN</td>\n",
              "      <td>3.0</td>\n",
              "      <td>negativo</td>\n",
              "      <td>negativo</td>\n",
              "      <td>não realizado</td>\n",
              "      <td>NaN</td>\n",
              "      <td>NaN</td>\n",
              "      <td>NaN</td>\n",
              "      <td>+++ (positivo)</td>\n",
              "      <td>não realizado</td>\n",
              "      <td>NaN</td>\n",
              "    </tr>\n",
              "    <tr>\n",
              "      <th>196</th>\n",
              "      <td>7553</td>\n",
              "      <td>1.0</td>\n",
              "      <td>outros</td>\n",
              "      <td>NaN</td>\n",
              "      <td>5.0</td>\n",
              "      <td>positivo</td>\n",
              "      <td>positivo</td>\n",
              "      <td>não realizado</td>\n",
              "      <td>NaN</td>\n",
              "      <td>NaN</td>\n",
              "      <td>NaN</td>\n",
              "      <td>+++ (positivo)</td>\n",
              "      <td>não realizado</td>\n",
              "      <td>NaN</td>\n",
              "    </tr>\n",
              "  </tbody>\n",
              "</table>\n",
              "<p>100 rows × 14 columns</p>\n",
              "</div>\n",
              "      <button class=\"colab-df-convert\" onclick=\"convertToInteractive('df-db605119-fc14-4ec6-9f85-7712b3334f4d')\"\n",
              "              title=\"Convert this dataframe to an interactive table.\"\n",
              "              style=\"display:none;\">\n",
              "        \n",
              "  <svg xmlns=\"http://www.w3.org/2000/svg\" height=\"24px\"viewBox=\"0 0 24 24\"\n",
              "       width=\"24px\">\n",
              "    <path d=\"M0 0h24v24H0V0z\" fill=\"none\"/>\n",
              "    <path d=\"M18.56 5.44l.94 2.06.94-2.06 2.06-.94-2.06-.94-.94-2.06-.94 2.06-2.06.94zm-11 1L8.5 8.5l.94-2.06 2.06-.94-2.06-.94L8.5 2.5l-.94 2.06-2.06.94zm10 10l.94 2.06.94-2.06 2.06-.94-2.06-.94-.94-2.06-.94 2.06-2.06.94z\"/><path d=\"M17.41 7.96l-1.37-1.37c-.4-.4-.92-.59-1.43-.59-.52 0-1.04.2-1.43.59L10.3 9.45l-7.72 7.72c-.78.78-.78 2.05 0 2.83L4 21.41c.39.39.9.59 1.41.59.51 0 1.02-.2 1.41-.59l7.78-7.78 2.81-2.81c.8-.78.8-2.07 0-2.86zM5.41 20L4 18.59l7.72-7.72 1.47 1.35L5.41 20z\"/>\n",
              "  </svg>\n",
              "      </button>\n",
              "      \n",
              "  <style>\n",
              "    .colab-df-container {\n",
              "      display:flex;\n",
              "      flex-wrap:wrap;\n",
              "      gap: 12px;\n",
              "    }\n",
              "\n",
              "    .colab-df-convert {\n",
              "      background-color: #E8F0FE;\n",
              "      border: none;\n",
              "      border-radius: 50%;\n",
              "      cursor: pointer;\n",
              "      display: none;\n",
              "      fill: #1967D2;\n",
              "      height: 32px;\n",
              "      padding: 0 0 0 0;\n",
              "      width: 32px;\n",
              "    }\n",
              "\n",
              "    .colab-df-convert:hover {\n",
              "      background-color: #E2EBFA;\n",
              "      box-shadow: 0px 1px 2px rgba(60, 64, 67, 0.3), 0px 1px 3px 1px rgba(60, 64, 67, 0.15);\n",
              "      fill: #174EA6;\n",
              "    }\n",
              "\n",
              "    [theme=dark] .colab-df-convert {\n",
              "      background-color: #3B4455;\n",
              "      fill: #D2E3FC;\n",
              "    }\n",
              "\n",
              "    [theme=dark] .colab-df-convert:hover {\n",
              "      background-color: #434B5C;\n",
              "      box-shadow: 0px 1px 3px 1px rgba(0, 0, 0, 0.15);\n",
              "      filter: drop-shadow(0px 1px 2px rgba(0, 0, 0, 0.3));\n",
              "      fill: #FFFFFF;\n",
              "    }\n",
              "  </style>\n",
              "\n",
              "      <script>\n",
              "        const buttonEl =\n",
              "          document.querySelector('#df-db605119-fc14-4ec6-9f85-7712b3334f4d button.colab-df-convert');\n",
              "        buttonEl.style.display =\n",
              "          google.colab.kernel.accessAllowed ? 'block' : 'none';\n",
              "\n",
              "        async function convertToInteractive(key) {\n",
              "          const element = document.querySelector('#df-db605119-fc14-4ec6-9f85-7712b3334f4d');\n",
              "          const dataTable =\n",
              "            await google.colab.kernel.invokeFunction('convertToInteractive',\n",
              "                                                     [key], {});\n",
              "          if (!dataTable) return;\n",
              "\n",
              "          const docLinkHtml = 'Like what you see? Visit the ' +\n",
              "            '<a target=\"_blank\" href=https://colab.research.google.com/notebooks/data_table.ipynb>data table notebook</a>'\n",
              "            + ' to learn more about interactive tables.';\n",
              "          element.innerHTML = '';\n",
              "          dataTable['output_type'] = 'display_data';\n",
              "          await google.colab.output.renderOutput(dataTable, element);\n",
              "          const docLink = document.createElement('div');\n",
              "          docLink.innerHTML = docLinkHtml;\n",
              "          element.appendChild(docLink);\n",
              "        }\n",
              "      </script>\n",
              "    </div>\n",
              "  </div>\n",
              "  "
            ]
          },
          "metadata": {},
          "execution_count": 280
        }
      ]
    },
    {
      "cell_type": "markdown",
      "source": [
        "###Substituindo NaN na coluna ki67_(%) por 0"
      ],
      "metadata": {
        "id": "hBW8mdPoNxWU"
      }
    },
    {
      "cell_type": "code",
      "source": [
        "dfh['ki67_(%)'] = dfh['ki67_(%)'].fillna(0.)\n",
        "dfh['ki67_(%)'].unique()"
      ],
      "metadata": {
        "colab": {
          "base_uri": "https://localhost:8080/"
        },
        "id": "F8WeIz_dJpfC",
        "outputId": "37876b5a-1fae-4780-9209-d16ed8102fc7"
      },
      "execution_count": null,
      "outputs": [
        {
          "output_type": "execute_result",
          "data": {
            "text/plain": [
              "array([  0.,  20.,  40.,  10.,  80.,  85.,  70.,  15.,  30.,  60.,  50.,\n",
              "         5.,  25.,  75.,  12.,  45.,  90.,   7.,  18.,  66.,  33.,   8.,\n",
              "        35.,  65.,   2.,  22.,  16.,  13.,  19.,   1.,  55.,  14.,  95.,\n",
              "        24.,   3.,  21.,  11.,   6.,  99.,   4.,  28.,  62.,  68.,  73.,\n",
              "        37.,  57.,  43.,  41.,  17.,  36.,  27.,  56.,  38.,   9.,  87.,\n",
              "        34.,  52.,  44.,  23.,  26.,  32.,  42.,  29.,  46., 100.,  47.,\n",
              "        48.])"
            ]
          },
          "metadata": {},
          "execution_count": 285
        }
      ]
    },
    {
      "cell_type": "markdown",
      "source": [
        "# 2.2.1 Tratamento de outliers da tabela dfd(dados demográficos):"
      ],
      "metadata": {
        "id": "_41-VA4uWj80"
      }
    },
    {
      "cell_type": "markdown",
      "source": [
        "* Identificação de outliers para as colunas numéricas:"
      ],
      "metadata": {
        "id": "BN03IwzuW2Hh"
      }
    },
    {
      "cell_type": "code",
      "source": [
        "#estamos usando a média +- 3 desvio padrão para identificar outliers , supondo que a distribuicao é normal\n",
        "numericas = ['idade_primeiro_diagnostico', 'tempo_seguimento_em_dias_desde_o_ultimo_tumor_no_caso_tumores_multiplos_dt_pci','quantas_vezes_ficou_gravida', 'idade_primeira_gestacao', 'tempo_de_amamentacao','idade_primeira_menstruacao']\n",
        "for colu in numericas: \n",
        "  mean = dfd[colu].mean()\n",
        "  std = dfd[colu].std()\n",
        "  higher_limit = mean + (3 * std)\n",
        "  lower_limit = mean - (3 * std)\n",
        "  outliers = dfd[['record_id',colu]][dfd[colu]>higher_limit ]\n",
        "  outliers2 = dfd[['record_id',colu]][dfd[colu]<lower_limit ]\n",
        "  print(f'na coluna {colu} o outlier acima é: \\n {outliers} \\n o outlier abaixo é: \\n {outliers2} \\n') "
      ],
      "metadata": {
        "id": "2tZzYljPWvPK"
      },
      "execution_count": null,
      "outputs": []
    },
    {
      "cell_type": "markdown",
      "source": [
        "* Convertendo para a mesma unidade(MESES) a coluna tempo_de_amamentacao:"
      ],
      "metadata": {
        "id": "ahnHB2R6W34d"
      }
    },
    {
      "cell_type": "code",
      "source": [
        "def meses(x):\n",
        "  if x > 48:\n",
        "    return x//30\n",
        "  else: \n",
        "    return x\n",
        "\n",
        "dfd['tempo_de_amamentacao'] = dfd['tempo_de_amamentacao'].apply(meses)"
      ],
      "metadata": {
        "id": "bOu4qTbwW4ob"
      },
      "execution_count": null,
      "outputs": []
    },
    {
      "cell_type": "markdown",
      "source": [
        "## Tratamento dos outliers da coluna \"idade_primeiro_diagnostico\":"
      ],
      "metadata": {
        "id": "goo1yl0xXCNJ"
      }
    },
    {
      "cell_type": "code",
      "source": [
        "dfd['idade_primeiro_diagnostico'] = np.where((dfd['idade_primeiro_diagnostico'] > 94), idade_diag_moda , dfd['idade_primeiro_diagnostico'])"
      ],
      "metadata": {
        "id": "h2AHgBg-XFwe"
      },
      "execution_count": null,
      "outputs": []
    },
    {
      "cell_type": "markdown",
      "source": [
        "## Tratamento dos outliers da coluna \"tempo_seguimento_em_dias_desde_o_ultimo_tumor_no_caso_tumores_multiplos_dt_pci\":"
      ],
      "metadata": {
        "id": "aLI4GzcfXIQY"
      }
    },
    {
      "cell_type": "code",
      "source": [
        "dfd['tempo_seguimento_em_dias_desde_o_ultimo_tumor_no_caso_tumores_multiplos_dt_pci'] = np.where((dfd['tempo_seguimento_em_dias_desde_o_ultimo_tumor_no_caso_tumores_multiplos_dt_pci'] > 2347 ), 1407 , dfd['tempo_seguimento_em_dias_desde_o_ultimo_tumor_no_caso_tumores_multiplos_dt_pci'])"
      ],
      "metadata": {
        "id": "5I6ifW-tXMjk"
      },
      "execution_count": null,
      "outputs": []
    },
    {
      "cell_type": "markdown",
      "source": [
        "## Tratamento dos outliers da coluna \"quantas_vezes_ficou_gravida\":"
      ],
      "metadata": {
        "id": "91ltPFGHXLpP"
      }
    },
    {
      "cell_type": "code",
      "source": [
        "dfd['quantas_vezes_ficou_gravida'] = np.where((dfd['quantas_vezes_ficou_gravida'] > 3 ), 2 , dfd['quantas_vezes_ficou_gravida'])"
      ],
      "metadata": {
        "id": "F0qCvSYxXV4q"
      },
      "execution_count": null,
      "outputs": []
    },
    {
      "cell_type": "markdown",
      "source": [
        "## Tratamento dos outliers da coluna \"idade_primeira_gestacao\":"
      ],
      "metadata": {
        "id": "CzZHDQUZXcRM"
      }
    },
    {
      "cell_type": "code",
      "source": [
        "dfd['idade_primeira_gestacao'] = np.where((dfd['idade_primeira_gestacao'] > 40 ) | dfd['idade_primeira_gestacao'] == 0 , dfd['idade_primeira_gestacao'].mode() , dfd['idade_primeira_gestacao'])"
      ],
      "metadata": {
        "id": "k09C-sAbXf5u"
      },
      "execution_count": null,
      "outputs": []
    },
    {
      "cell_type": "markdown",
      "source": [
        "## Tratamento dos outliers da coluna \"tempo_de_amamentacao\":"
      ],
      "metadata": {
        "id": "ilzAolYXXl9R"
      }
    },
    {
      "cell_type": "code",
      "source": [
        "dfd['tempo_de_amamentacao'] = np.where((dfd['tempo_de_amamentacao'] > 25 ) , dfd['tempo_de_amamentacao'].mode() , dfd['tempo_de_amamentacao'])"
      ],
      "metadata": {
        "id": "TnGiRu14XpWy"
      },
      "execution_count": null,
      "outputs": []
    },
    {
      "cell_type": "markdown",
      "source": [
        "## Tratamento dos outliers da coluna \"idade_primeira_menstruacao\":"
      ],
      "metadata": {
        "id": "8sHitvXMXtrg"
      }
    },
    {
      "cell_type": "code",
      "source": [
        "dfd['idade_primeira_menstruacao'] = np.where((dfd['idade_primeira_menstruacao'] > 19 ) , dfd['idade_primeira_menstruacao'].mode() , dfd['idade_primeira_menstruacao'])"
      ],
      "metadata": {
        "id": "ixyRJgVrXvAP"
      },
      "execution_count": null,
      "outputs": []
    },
    {
      "cell_type": "code",
      "source": [
        "merge_colunas[['tratamento', 'Combinacao_tratamentos_realizados_hospital']]"
      ],
      "metadata": {
        "id": "56XqUwGON_X3"
      },
      "execution_count": null,
      "outputs": []
    },
    {
      "cell_type": "markdown",
      "source": [
        "# 2.3 Normalização e enconding:"
      ],
      "metadata": {
        "id": "Oz_LhDNOYAg8"
      }
    },
    {
      "cell_type": "code",
      "source": [
        "dfh.receptor_progesterona_quantificacao_pct.value_counts(dropna=False)\n",
        "dfh.receptorde_estrogenio_quantificacao_pct.value_counts(dropna=False)"
      ],
      "metadata": {
        "id": "NjSdYYz4pViB"
      },
      "execution_count": null,
      "outputs": []
    },
    {
      "cell_type": "code",
      "source": [
        "### Numérico para categórico\n",
        "dfh.subtipo_tumoral.value_counts(dropna=False, normalize=True)\n",
        "#dfh_tratado[['subtipo_tumoral']] = dfh_tratado['subtipo_tumoral'].astype(str)"
      ],
      "metadata": {
        "id": "eUtzgW0vq6x-"
      },
      "execution_count": null,
      "outputs": []
    },
    {
      "cell_type": "code",
      "source": [
        "dfpa[['Data']] =  dfpa[['Data']].apply(pd.to_datetime, format='%Y-%m-%d', errors='coerce')"
      ],
      "metadata": {
        "id": "MTE9hvrkYG9F"
      },
      "execution_count": null,
      "outputs": []
    },
    {
      "cell_type": "code",
      "source": [
        "dfrt[['data_da_primeira_consulta_institucional_dt_pci', \n",
        "'data_do_diagnostico', \n",
        "'Data_tratamento', \n",
        "'data_recidiva']] =  dfrt[['data_da_primeira_consulta_institucional_dt_pci', \n",
        "'data_do_diagnostico', \n",
        "'Data_tratamento', \n",
        "'data_recidiva']].apply(pd.to_datetime, format='%Y-%m-%d', errors='coerce')"
      ],
      "metadata": {
        "id": "0dcLTY94rCsq"
      },
      "execution_count": null,
      "outputs": []
    },
    {
      "cell_type": "code",
      "source": [],
      "metadata": {
        "id": "lhabzEjpqMuj"
      },
      "execution_count": null,
      "outputs": []
    },
    {
      "cell_type": "markdown",
      "source": [
        "# 3.0 Exploração dos dados:"
      ],
      "metadata": {
        "id": "nMVpGz7HYX7P"
      }
    },
    {
      "cell_type": "markdown",
      "source": [
        "## 3.1 Estatística descritiva das colunas:"
      ],
      "metadata": {
        "id": "HJ4NvTPbY1_G"
      }
    },
    {
      "cell_type": "code",
      "source": [
        "dfrt.describe()"
      ],
      "metadata": {
        "id": "zZ2CVEEIY9a7"
      },
      "execution_count": null,
      "outputs": []
    },
    {
      "cell_type": "code",
      "source": [
        "dfpa.describe()"
      ],
      "metadata": {
        "id": "l0h52fmes20E"
      },
      "execution_count": null,
      "outputs": []
    },
    {
      "cell_type": "code",
      "source": [
        "dfh.describe()"
      ],
      "metadata": {
        "id": "2YIkKsqbs6Ql"
      },
      "execution_count": null,
      "outputs": []
    },
    {
      "cell_type": "code",
      "source": [
        "dfd.describe()"
      ],
      "metadata": {
        "id": "aDqClt_ntAzZ"
      },
      "execution_count": null,
      "outputs": []
    },
    {
      "cell_type": "markdown",
      "source": [
        "## 3.3 Três gráficos para visualizar a relação entre variáveis escolhidas:"
      ],
      "metadata": {
        "id": "7_uHE1wOY-P3"
      }
    },
    {
      "cell_type": "code",
      "source": [
        "### Analisar distribuição de resultados de recidiva\n",
        "sns.histplot(\n",
        "    dfrt,\n",
        "    x=\"tempo_desde_o_diagnostico_ate_primeira_recidiva_\"\n",
        ")\n",
        "plt.tight_layout()\n",
        "plt.rcParams['figure.figsize']=(4,7)\n",
        "plt.savefig('distribuicao_tempo_diagnostico_recidiva.png')"
      ],
      "metadata": {
        "id": "0ZERt8UoZJHC"
      },
      "execution_count": null,
      "outputs": []
    },
    {
      "cell_type": "code",
      "source": [
        "### Analisar distribuição de tratamentos\n",
        "sns.catplot(\n",
        "    data=dfrt,\n",
        "    x=\"Combinacao_tratamentos_realizados_hospital\",\n",
        "    kind=\"count\",\n",
        "    order = dfrt['Combinacao_tratamentos_realizados_hospital'].value_counts().index,\n",
        "    aspect=2\n",
        ")\n",
        "plt.xticks(rotation=90)\n",
        "plt.savefig('distribuicao_combinacao_tratamentos.png', bbox_inches=\"tight\")"
      ],
      "metadata": {
        "id": "45zXKqtXtd_p"
      },
      "execution_count": null,
      "outputs": []
    },
    {
      "cell_type": "code",
      "source": [
        "### Analisar distribuição de tratamentos\n",
        "sns.catplot(\n",
        "    data=dfd,\n",
        "    x=\"tratamento\",\n",
        "    kind=\"count\",\n",
        "    aspect=2\n",
        ")\n",
        "plt.xticks(rotation=90)\n",
        "plt.savefig('distribuicao_combinacao_tratamentos.png', bbox_inches=\"tight\")"
      ],
      "metadata": {
        "id": "0oFpdACPY7t0"
      },
      "execution_count": null,
      "outputs": []
    },
    {
      "cell_type": "code",
      "source": [
        "#### Proporção de recidiva por combinação de tratamento\n",
        "dfrt['teve_recidiva'] = np.where((dfrt['data_recidiva'].isnull()), 0, 1)\n",
        "\n",
        "sns.barplot(\n",
        "    data=dfrt,\n",
        "    x=\"Combinacao_tratamentos_realizados_hospital\",\n",
        "    y=\"teve_recidiva\",\n",
        "    order=dfrt.groupby([\"Combinacao_tratamentos_realizados_hospital\"]).mean()[\"teve_recidiva\"].sort_values().index\n",
        ")\n",
        "plt.xticks(rotation=90)\n",
        "plt.tight_layout()\n",
        "plt.rcParams['figure.figsize']=(5,7)\n",
        "plt.savefig('proporcao_recidiva_por_tratamento.png')"
      ],
      "metadata": {
        "id": "g1w4f-CJtxsB"
      },
      "execution_count": null,
      "outputs": []
    },
    {
      "cell_type": "code",
      "source": [
        "dfpa = dfpa.rename(columns = {'Record_ID':'record_id'})\n",
        "df_all = dfpa.merge(dfrt, how='inner', on='record_id')\n",
        "df_all = df_all.merge(dfd, how='inner', on='record_id')\n",
        "df_all = df_all.merge(dfh, how='inner', on='record_id')"
      ],
      "metadata": {
        "id": "GhtpOU_K-QfT"
      },
      "execution_count": null,
      "outputs": []
    },
    {
      "cell_type": "code",
      "source": [
        "import matplotlib.pyplot as plt\n"
      ],
      "metadata": {
        "id": "6lRQPkpKCCtx"
      },
      "execution_count": null,
      "outputs": []
    },
    {
      "cell_type": "code",
      "source": [
        "df_all = df_all.drop(columns = 'record_id')\n",
        "df_all = df_all.drop(columns = 'Repeat_Instance')\n",
        "correlation = df_all.corr()\n",
        "plt.figure(figsize=(15, 7))\n",
        "plot = sns.heatmap(correlation, annot = True, fmt=\".1f\", linewidths=0.6)\n",
        "plt.show()"
      ],
      "metadata": {
        "id": "bI1BFuhk_Nez"
      },
      "execution_count": null,
      "outputs": []
    },
    {
      "cell_type": "markdown",
      "source": [
        "#4.0 Levantamento de hipóteses:"
      ],
      "metadata": {
        "id": "1rWt2AmCZP02"
      }
    },
    {
      "cell_type": "markdown",
      "source": [
        "1. ki67 influencia no tipo e no grau do tumor de acordo com a sua quantidade\n",
        "\n",
        "2. Pacientes que possuem tumores multiplos tem uma recidiva maior\n",
        "\n",
        "3. Não existe relação entre o tipo de tratamentro e a combinação dos tratamentos realizados no hospital, levando ao viés quando relacionado à reincidiva\n",
        "\n",
        "\n",
        "\n",
        "\n",
        "\n"
      ],
      "metadata": {
        "id": "fan_U8zhHQ3X"
      }
    },
    {
      "cell_type": "markdown",
      "source": [
        "# 5.0 Perguntas\n"
      ],
      "metadata": {
        "id": "mv81TLKDiA32"
      }
    },
    {
      "cell_type": "markdown",
      "source": [
        "* Qual a diferença entre a coluna Tratamento e Combinacao_tratamentos_realizados_hospital?"
      ],
      "metadata": {
        "id": "xcNpprSlLlcL"
      }
    },
    {
      "cell_type": "code",
      "source": [
        "merge_colunas[['tratamento', 'Combinacao_tratamentos_realizados_hospital']]"
      ],
      "metadata": {
        "id": "zAsSc-JWMcPe"
      },
      "execution_count": null,
      "outputs": []
    },
    {
      "cell_type": "markdown",
      "source": [
        "\n",
        "\n",
        "*   Tempo de amamentação está em dias ou meses? identificamos muitos dados com tempo de amamentação > 60\n",
        "\n"
      ],
      "metadata": {
        "id": "bQzhdXCPRoVK"
      }
    },
    {
      "cell_type": "markdown",
      "source": [
        "* Em geral, quais tratamentos sao mais realizados no dado \"Outras combinações\""
      ],
      "metadata": {
        "id": "oPuGmnckVzdn"
      }
    },
    {
      "cell_type": "markdown",
      "source": [
        "\n",
        "* O que é reincidiva? Qual a melhor explicação possível?\n",
        "\n",
        "\n",
        "\n",
        "\n",
        "\n",
        "\n",
        "\n",
        "Paciente 2168"
      ],
      "metadata": {
        "id": "o9vEg1r9Oopa"
      }
    },
    {
      "cell_type": "code",
      "source": [
        "dfrt[dfrt['record_id']==2168].iloc[:, 0:4]"
      ],
      "metadata": {
        "id": "Y3puvWegP3nx"
      },
      "execution_count": null,
      "outputs": []
    },
    {
      "cell_type": "code",
      "source": [
        "dfrt[dfrt['record_id']==2168].iloc[:, 26:28]"
      ],
      "metadata": {
        "id": "9tqH8LPHRWZI"
      },
      "execution_count": null,
      "outputs": []
    },
    {
      "cell_type": "code",
      "source": [
        "dfrt[dfrt['record_id']==2168].iloc[:, -4:]"
      ],
      "metadata": {
        "id": "GAqoei8VOzos"
      },
      "execution_count": null,
      "outputs": []
    },
    {
      "cell_type": "markdown",
      "source": [
        "Paciente 2466"
      ],
      "metadata": {
        "id": "KIjmHwdlRJrn"
      }
    },
    {
      "cell_type": "code",
      "source": [
        "dfrt[dfrt['record_id']==2466].iloc[:, 0:4]"
      ],
      "metadata": {
        "id": "xJR_iBJ-PGRr"
      },
      "execution_count": null,
      "outputs": []
    },
    {
      "cell_type": "code",
      "source": [
        "dfrt[dfrt['record_id']==2466].iloc[:, 26:28]\n",
        "\n"
      ],
      "metadata": {
        "id": "hbVLLeWHOyGf"
      },
      "execution_count": null,
      "outputs": []
    },
    {
      "cell_type": "code",
      "source": [
        "dfrt[dfrt['record_id']==2466].iloc[:, -4:]"
      ],
      "metadata": {
        "id": "u1i6IW_rQCiJ"
      },
      "execution_count": null,
      "outputs": []
    }
  ]
}